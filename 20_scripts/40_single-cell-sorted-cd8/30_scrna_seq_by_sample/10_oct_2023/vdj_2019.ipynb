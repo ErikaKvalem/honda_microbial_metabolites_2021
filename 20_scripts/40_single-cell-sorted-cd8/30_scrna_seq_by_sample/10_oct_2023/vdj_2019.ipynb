{
 "cells": [
  {
   "cell_type": "code",
   "execution_count": null,
   "id": "85c834be-cfc3-427d-80e9-e138373ad826",
   "metadata": {},
   "outputs": [],
   "source": [
    "import scirpy as ir"
   ]
  },
  {
   "cell_type": "code",
   "execution_count": null,
   "id": "fe44bc13-a31e-4338-b8b0-175f0788673a",
   "metadata": {},
   "outputs": [],
   "source": [
    "from glob import glob\n",
    "import warnings\n",
    "import tarfile\n",
    "\n",
    "import anndata\n",
    "import matplotlib.pyplot as plt\n",
    "import pandas as pd\n",
    "import scanpy as sc"
   ]
  },
  {
   "cell_type": "code",
   "execution_count": null,
   "id": "241cbb88-689a-4c33-b08d-850a1983b0de",
   "metadata": {},
   "outputs": [],
   "source": [
    "import muon as mu"
   ]
  },
  {
   "cell_type": "code",
   "execution_count": null,
   "id": "ae07ba6e-cbe1-4991-ba97-39c4b53643bd",
   "metadata": {},
   "outputs": [],
   "source": [
    "path = \"/data/projects/2021/MicrobialMetabolites/single-cell-sorted-cd8/2019-10-29_sorted_cd8/analyses_icbi\""
   ]
  },
  {
   "cell_type": "code",
   "execution_count": null,
   "id": "6039ff16-37ca-4726-8782-e6f90cebc3af",
   "metadata": {},
   "outputs": [],
   "source": [
    "# define sample metadata. Usually read from a file.\n",
    "samples = [\"10mix1\",\"10mix2\",\"11mix1\",\"11mix2\",\"GF1\",\"GF2\"]"
   ]
  },
  {
   "cell_type": "code",
   "execution_count": null,
   "id": "be85bdb5-f841-49bb-a8c4-9641ffb661a5",
   "metadata": {},
   "outputs": [],
   "source": [
    "adata = sc.read_10x_h5(f\"/data/projects/2021/MicrobialMetabolites/single-cell-sorted-cd8/2019-10-29_sorted_cd8/analyses_icbi/{samples[1]}/outs/per_sample_outs/{samples[1]}/count/sample_filtered_feature_bc_matrix.h5\")\n",
    "adata_tcr = ir.io.read_10x_vdj(f\"/data/projects/2021/MicrobialMetabolites/single-cell-sorted-cd8/2019-10-29_sorted_cd8/analyses_icbi/{samples[1]}/outs/per_sample_outs/{samples[1]}/vdj_t/filtered_contig_annotations.csv\")"
   ]
  },
  {
   "cell_type": "code",
   "execution_count": null,
   "id": "c7efab7a-29f9-4229-b8e2-c4ecb1ac686e",
   "metadata": {},
   "outputs": [],
   "source": [
    "adata.var_names_make_unique()"
   ]
  },
  {
   "cell_type": "code",
   "execution_count": null,
   "id": "d8463ca7-2647-45c7-870c-e64b7cb2463f",
   "metadata": {},
   "outputs": [],
   "source": [
    "adata_tcr.shape"
   ]
  },
  {
   "cell_type": "code",
   "execution_count": null,
   "id": "029d07e7-7cf9-484b-a7d4-4932d309844f",
   "metadata": {},
   "outputs": [],
   "source": [
    "adata.shape"
   ]
  },
  {
   "cell_type": "code",
   "execution_count": null,
   "id": "308163ae-ef81-4efe-ace6-69d11aaadafa",
   "metadata": {},
   "outputs": [],
   "source": [
    "mdata = mu.MuData({\"gex\": adata, \"airr\": adata_tcr})"
   ]
  },
  {
   "cell_type": "code",
   "execution_count": null,
   "id": "ec67df84-8a8b-4a20-850c-1639f89003c1",
   "metadata": {},
   "outputs": [],
   "source": [
    "sc.pp.log1p(mdata[\"gex\"])\n",
    "sc.pp.pca(mdata[\"gex\"], svd_solver=\"arpack\")\n",
    "sc.pp.neighbors(mdata[\"gex\"])\n",
    "sc.tl.umap(mdata[\"gex\"])"
   ]
  },
  {
   "cell_type": "code",
   "execution_count": null,
   "id": "53564876-51df-4243-95e2-8488bc6d8871",
   "metadata": {},
   "outputs": [],
   "source": [
    "ir.pp.index_chains(mdata)\n",
    "ir.tl.chain_qc(mdata)"
   ]
  },
  {
   "cell_type": "code",
   "execution_count": null,
   "id": "251dc1aa-e4b8-4517-868a-ebdb204d8a41",
   "metadata": {},
   "outputs": [],
   "source": [
    "mdata.mod[\"gex\"].var"
   ]
  },
  {
   "cell_type": "code",
   "execution_count": null,
   "id": "a6db33c1-fd2f-4305-89ff-933e31b7092f",
   "metadata": {},
   "outputs": [],
   "source": [
    "mdata.mod[\"gex\"].uns[\"umap\"]"
   ]
  },
  {
   "cell_type": "code",
   "execution_count": null,
   "id": "e27c7248-3c31-4c46-8fd4-32a1382a0c88",
   "metadata": {},
   "outputs": [],
   "source": [
    "fig, (ax0, ax1) = plt.subplots(1, 2, figsize=(10, 4), gridspec_kw={\"wspace\": 0.5})\n",
    "mu.pl.embedding(mdata, basis=\"gex:umap\", color=[\"Xkr4\"], ax=ax0, show=False)\n",
    "mu.pl.embedding(mdata, basis=\"gex:umap\", color=[\"airr:receptor_type\"], ax=ax1)"
   ]
  },
  {
   "cell_type": "code",
   "execution_count": null,
   "id": "5c37f5c5-42b3-48ca-b4fd-fa45193e0a48",
   "metadata": {},
   "outputs": [],
   "source": []
  },
  {
   "cell_type": "code",
   "execution_count": null,
   "id": "41b6750e-bf66-4491-bd7b-706771fa3835",
   "metadata": {},
   "outputs": [],
   "source": []
  },
  {
   "cell_type": "code",
   "execution_count": null,
   "id": "76900be2-1ef6-4e99-b227-75df90b984a8",
   "metadata": {},
   "outputs": [],
   "source": []
  },
  {
   "cell_type": "code",
   "execution_count": null,
   "id": "989a0a25-df53-4c75-8c72-cf361fe2e459",
   "metadata": {},
   "outputs": [],
   "source": [
    "for sample in samples:\n",
    "    print(sample)\n",
    "    adata = = sc.read_10x_h5(f\"{sample}/outs/per_sample_outs/{sample}/count/sample_filtered_feature_bc_matrix.h5\")\n",
    "    adata_tcr = ir.io.read_10x_vdj(f\"{sample}/outs/per_sample_outs/{sample}/vdj_t/filtered_contig_annotations.csv\")"
   ]
  },
  {
   "cell_type": "code",
   "execution_count": null,
   "id": "83f9ef19-caeb-408a-9cc2-af70a676c100",
   "metadata": {},
   "outputs": [],
   "source": [
    "\n",
    "samples = {\n",
    "    \"10mix1\": {\"group\": \"10mix\"},\n",
    "    \"10mix2\": {\"group\": \"10mix\"},\n",
    "    \"11mix1\": {\"group\": \"11mix\"},\n",
    "    \"11mix2\": {\"group\": \"11mix\"},\n",
    "    \"GF1\": {\"group\": \"GF\"},\n",
    "    \"GF2\": {\"group\": \"GF\"},\n",
    "\n",
    "}    \n",
    "    \n",
    "# Create a list of AnnData objects (one for each sample)\n",
    "adatas_tcr = {}\n",
    "adatas_gex = {}\n",
    "for sample, sample_meta in samples.items():\n",
    "    adata_gex = sc.read_10x_h5(f\"/data/projects/2021/MicrobialMetabolites/single-cell-sorted-cd8/2019-10-29_sorted_cd8/analyses_icbi/{sample}/outs/per_sample_outs/{sample}/count/sample_filtered_feature_bc_matrix.h5\")\n",
    "    adata_tcr = ir.io.read_10x_vdj(f\"/data/projects/2021/MicrobialMetabolites/single-cell-sorted-cd8/2019-10-29_sorted_cd8/analyses_icbi/{sample}/outs/per_sample_outs/{sample}/vdj_t/filtered_contig_annotations.csv\")\n",
    "    # concatenation only works with unique gene names\n",
    "    adata_gex.var_names_make_unique()\n",
    "    adatas_tcr[sample] = adata_tcr\n",
    "    adatas_gex[sample] = adata_gex"
   ]
  },
  {
   "cell_type": "code",
   "execution_count": null,
   "id": "1e146aa6-691d-443c-80a0-9890c7d566e1",
   "metadata": {},
   "outputs": [],
   "source": [
    "# Merge anndata objects\n",
    "adata_gex = anndata.concat(adatas_gex, index_unique=\"_\")\n",
    "adata_tcr = anndata.concat(adatas_tcr, index_unique=\"_\")\n",
    "mdata = mu.MuData({\"gex\": adata_gex, \"airr\": adata_tcr})\n",
    "\n",
    "# Set global metadata on `mdata.obs`\n",
    "mdata.obs[\"sample\"] = mdata.obs_names.to_series().str.split(\"_\", expand=True)[1]\n",
    "mdata.obs[\"group\"] = mdata.obs[\"sample\"].map(lambda x: samples[x][\"group\"])"
   ]
  },
  {
   "cell_type": "code",
   "execution_count": null,
   "id": "7927d805-5786-4aed-9760-16fea3b389c3",
   "metadata": {},
   "outputs": [],
   "source": [
    "mdata"
   ]
  },
  {
   "cell_type": "code",
   "execution_count": null,
   "id": "b0929efe-3916-4648-afa5-09d7eb8d4b0e",
   "metadata": {},
   "outputs": [],
   "source": [
    "sc.pp.log1p(mdata[\"gex\"])\n",
    "sc.pp.pca(mdata[\"gex\"], svd_solver=\"arpack\")\n",
    "sc.pp.neighbors(mdata[\"gex\"])\n",
    "sc.tl.umap(mdata[\"gex\"])\n",
    "ir.pp.index_chains(mdata)\n",
    "ir.tl.chain_qc(mdata)"
   ]
  },
  {
   "cell_type": "code",
   "execution_count": null,
   "id": "6e982669-2190-4201-887f-46af2780fc42",
   "metadata": {},
   "outputs": [],
   "source": [
    "fig, (ax0, ax1, ax2) = plt.subplots(1, 3, figsize=(15, 4), gridspec_kw={\"wspace\": 0.5})\n",
    "#mu.pl.embedding(mdata, basis=\"gex:umap\", color=\"CD3E\", ax=ax0, show=False)\n",
    "mu.pl.embedding(mdata, basis=\"gex:umap\", color=[\"Cd44\"], ax=ax0, show=False)\n",
    "mu.pl.embedding(mdata, basis=\"gex:umap\", color=\"sample\", ax=ax1, show=False)\n",
    "mu.pl.embedding(mdata, basis=\"gex:umap\", color=\"airr:receptor_type\", ax=ax2)"
   ]
  },
  {
   "cell_type": "code",
   "execution_count": null,
   "id": "137ee2ae-42d0-4b45-b6e8-63762d535f35",
   "metadata": {},
   "outputs": [],
   "source": [
    "fig, (ax0, ax1, ax2) = plt.subplots(1, 3, figsize=(15, 4), gridspec_kw={\"wspace\": 0.5})\n",
    "mu.pl.embedding(mdata, basis=\"gex:umap\", color=[\"Cd8a\"], ax=ax0, show=False)\n",
    "mu.pl.embedding(mdata, basis=\"gex:umap\", color=\"group\", ax=ax1, show=False)\n",
    "mu.pl.embedding(mdata, basis=\"gex:umap\", color=\"airr:receptor_type\", ax=ax2)"
   ]
  },
  {
   "cell_type": "code",
   "execution_count": null,
   "id": "eb4f452c-51af-465f-8912-faaf79b43110",
   "metadata": {},
   "outputs": [],
   "source": [
    "mdata"
   ]
  },
  {
   "cell_type": "code",
   "execution_count": null,
   "id": "0d28a761-340b-4bd3-bcd8-e99462d8ca52",
   "metadata": {},
   "outputs": [],
   "source": [
    "tisg_genes = [\"Isg15\", \"Ifi44l\",\"Ifit3\", \"Ifit1\"]\n",
    "tn_genes = [\"Ltb\", \"Sell\", \"Lef1\", \"Nosip\"]\n",
    "trm_genes = [\"Itga1\", \"Cpne7\", \"Txnip\", \"Il7r\"]\n",
    "tsen_genes = [\"Plcg2\", \"Igkc\", \"Klrk1\"]\n",
    "tsrt_genes = [\"Hspa1b\", \"Hspa1a\",\"Dnajb1\", \"Hsph1\"]"
   ]
  },
  {
   "cell_type": "code",
   "execution_count": null,
   "id": "aac2b4cb-1bad-4441-8fa9-66f6ed5b83c1",
   "metadata": {},
   "outputs": [],
   "source": [
    "mu.pl.embedding(\n",
    "    mdata,\n",
    "    basis=\"gex:umap\",\n",
    "    color=[\"group\", \"sample\"],\n",
    "    ncols=3,\n",
    "    wspace=0.7,\n",
    ")\n",
    "mu.pl.embedding(\n",
    "    mdata,\n",
    "    basis=\"gex:umap\",\n",
    "    color=[\"Cd8a\",\"Cd44\"],\n",
    "    ncols=3,\n",
    "    wspace=0.7,\n",
    ")"
   ]
  },
  {
   "cell_type": "code",
   "execution_count": null,
   "id": "400ab81f-af5d-43da-974b-e17ade9aada6",
   "metadata": {},
   "outputs": [],
   "source": [
    "mu.pl.embedding(\n",
    "    mdata,\n",
    "    basis=\"gex:umap\",\n",
    "    color=tisg_genes,\n",
    "    ncols=3,\n",
    "    wspace=0.7,\n",
    ")"
   ]
  },
  {
   "cell_type": "code",
   "execution_count": null,
   "id": "b67c7742-d60b-46ad-a2ca-22a7dd373fb9",
   "metadata": {},
   "outputs": [],
   "source": [
    "mu.pl.embedding(\n",
    "    mdata,\n",
    "    basis=\"gex:umap\",\n",
    "    color=tn_genes,\n",
    "    ncols=3,\n",
    "    wspace=0.7,\n",
    ")"
   ]
  },
  {
   "cell_type": "code",
   "execution_count": null,
   "id": "9a155182-aacf-4704-a490-15d7319ab031",
   "metadata": {},
   "outputs": [],
   "source": [
    "ir.tl.chain_qc(mdata)"
   ]
  },
  {
   "cell_type": "code",
   "execution_count": null,
   "id": "df943fbf-2f59-40b6-8016-70a2bb08e045",
   "metadata": {},
   "outputs": [],
   "source": [
    "mdata"
   ]
  },
  {
   "cell_type": "code",
   "execution_count": null,
   "id": "ea1e95f5-947c-4c3f-8848-15adedd25d2d",
   "metadata": {},
   "outputs": [],
   "source": [
    "ir.tl.clonal_expansion(mdata)"
   ]
  },
  {
   "cell_type": "code",
   "execution_count": null,
   "id": "e59e51aa-0708-45cb-81d4-50130d2ecdc3",
   "metadata": {},
   "outputs": [],
   "source": [
    "_ = ir.pl.group_abundance(\n",
    "    mdata, groupby=\"airr:clone_id\", target_col=\"group\", max_cols=10\n",
    ")"
   ]
  },
  {
   "cell_type": "code",
   "execution_count": null,
   "id": "e75de659-1952-491b-a693-421685ac67aa",
   "metadata": {},
   "outputs": [],
   "source": [
    "_ = ir.pl.group_abundance(\n",
    "    mdata, groupby=\"airr:receptor_subtype\", target_col=\"group\")"
   ]
  },
  {
   "cell_type": "code",
   "execution_count": null,
   "id": "3604fb3e-8d37-4230-b05c-6cf5dcd0e5ae",
   "metadata": {},
   "outputs": [],
   "source": [
    "_ = ir.pl.group_abundance(\n",
    "    mdata, groupby=\"airr:receptor_subtype\", target_col=\"sample\")"
   ]
  },
  {
   "cell_type": "code",
   "execution_count": null,
   "id": "3e9907ef-a809-4998-8579-a3f845b4bcf8",
   "metadata": {},
   "outputs": [],
   "source": [
    "_ = ir.pl.group_abundance(mdata, groupby=\"airr:chain_pairing\", target_col=\"group\")"
   ]
  },
  {
   "cell_type": "code",
   "execution_count": null,
   "id": "b9d8b929-391b-4d61-bf6c-1f7b465459e8",
   "metadata": {},
   "outputs": [],
   "source": [
    "_ = ir.pl.group_abundance(mdata, groupby=\"airr:chain_pairing\", target_col=\"sample\")"
   ]
  },
  {
   "cell_type": "code",
   "execution_count": null,
   "id": "44354d28-c95f-4ac9-9a0f-df48d99169a1",
   "metadata": {},
   "outputs": [],
   "source": [
    "cell_markers = {\n",
    "\"CD8+ T partial effector\":[\"IFNG\", TNFHIGH, CCL4HIGH, PRF1LOW, GZMBMED, GZMKMED, CCL5HIGH, CCL3HIGH, CTLA4+, PDCD1LOW, ICOSHIGH, LAG3LOW, TIGITMED, ENTPD1NULL, HAVCR2NULL]\n",
    "\"CD8+ T EOMESHIGH memory exhausted\"\n",
    "\"CD8+ T naive\"\n",
    "\"CD8+ T TOXHIGH memory exhausted\"\n",
    "\"CD8+ T exhausted\"\n",
    "\"CD8+ T central memory\"\n",
    "\"CD8+ T resident memory\"\n",
    "\"CD8+ MAIT like\"\n",
    "\"CD8+ MAIT like activated\"\n",
    "\"CD8+ T partial activated\"\n",
    "\"CD8+ T progenitor activated\"\n",
    "\"CD8+ T low functional\"\n",
    "\"CD8+ T naive inflamed\"\n",
    "\"CD8+ T effector exhausted\"\n",
    "\"CD8+ T TOXHIGH memory exhausted\"\n",
    "\"CD8+ T  central memory\"\n",
    "\"CD8+ T EOMESMED TOCMED memory exhausted\"\n",
    "\"CD8+ T inflamed resident memory\"\n",
    "\"CD8+ T EOMESHIGH memory exhausted\"\n",
    "\"CD8+ T exhausted\"\n",
    "\"CD8+ MAIT like activated\"\n",
    "\"CD8+ IL17AHIGH MAIT\"\n",
    "\n",
    "}"
   ]
  },
  {
   "cell_type": "code",
   "execution_count": null,
   "id": "0a2bfd51-8633-45fc-891b-4aa48041f9bf",
   "metadata": {
    "tags": []
   },
   "outputs": [],
   "source": [
    "cell_markers_abreviation= {\n",
    "\"Tparteff\"\n",
    "\"T-EOMES-memex\"\n",
    "\"Tn\"\n",
    "\"T-TOX-memex\n",
    "\"Tex\n",
    "\"Tcmem\n",
    "\"Tresmem\n",
    "\"MAIT\n",
    "\"MAITact\n",
    "\"Tpartact\n",
    "\"Tproact\n",
    "\"Tlofun\n",
    "\"Tninfl\n",
    "\"Teffex\n",
    "\"T-TOX-memex\n",
    "\"Tcmem\n",
    "\"T-EOMES-TOX-memex\n",
    "\"Tinflresmem\n",
    "\"T-EOMES-memex\n",
    "\"Tex\n",
    "\"MAITact\n",
    "\"MAIT-IL17A\n",
    "\n",
    "\n",
    "}"
   ]
  },
  {
   "cell_type": "code",
   "execution_count": null,
   "id": "f27a9a77-51fe-4264-a798-dd69ff6c42f6",
   "metadata": {},
   "outputs": [],
   "source": [
    "adata = sc.read_10x_h5(f\"/data/projects/2021/MicrobialMetabolites/single-cell-sorted-cd8/2019-10-29_sorted_cd8/analyses_icbi/{samples[1]}/outs/per_sample_outs/{samples[1]}/count/sample_filtered_feature_bc_matrix.h5\")\n"
   ]
  }
 ],
 "metadata": {
  "kernelspec": {
   "display_name": "Python 3 (ipykernel)",
   "language": "python",
   "name": "python3"
  },
  "language_info": {
   "codemirror_mode": {
    "name": "ipython",
    "version": 3
   },
   "file_extension": ".py",
   "mimetype": "text/x-python",
   "name": "python",
   "nbconvert_exporter": "python",
   "pygments_lexer": "ipython3",
   "version": "3.11.8"
  }
 },
 "nbformat": 4,
 "nbformat_minor": 5
}
