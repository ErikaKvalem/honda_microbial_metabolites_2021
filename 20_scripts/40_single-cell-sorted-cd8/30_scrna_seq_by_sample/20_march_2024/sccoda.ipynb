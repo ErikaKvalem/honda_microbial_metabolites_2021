{
 "cells": [
  {
   "cell_type": "code",
   "execution_count": null,
   "id": "2babd300-941c-463e-a8e1-c813c551ae77",
   "metadata": {},
   "outputs": [],
   "source": []
  },
  {
   "cell_type": "code",
   "execution_count": null,
   "id": "484b9ded-37d1-4faf-8ddf-a699a97eb985",
   "metadata": {},
   "outputs": [],
   "source": [
    "import scanpy as sc"
   ]
  },
  {
   "cell_type": "code",
   "execution_count": null,
   "id": "398bc428-58be-43bd-b710-0d09c4e03f32",
   "metadata": {},
   "outputs": [],
   "source": [
    "import sccoda.util.cell_composition_data as scc_dat\n",
    "import sccoda.util.data_visualization as scc_viz"
   ]
  },
  {
   "cell_type": "code",
   "execution_count": null,
   "id": "53506126-8ebc-4f18-b40c-db4a7b6ef326",
   "metadata": {},
   "outputs": [],
   "source": [
    "adata = sc.read_h5ad(\"/data/projects/2021/MicrobialMetabolites/single-cell-sorted-cd8/results/results_by_sample/merge_and_solo_samples/adata_nodoublet.h5ad\")"
   ]
  },
  {
   "cell_type": "code",
   "execution_count": null,
   "id": "cbf31a01-031c-4e28-88a6-1ccd9c823443",
   "metadata": {},
   "outputs": [],
   "source": [
    "adata"
   ]
  },
  {
   "cell_type": "code",
   "execution_count": null,
   "id": "8d22b5b8-507a-49c0-b59e-3e145f3f8374",
   "metadata": {
    "tags": []
   },
   "outputs": [],
   "source": [
    "adata.obs"
   ]
  },
  {
   "cell_type": "code",
   "execution_count": null,
   "id": "d0cb8fbb-cafb-419f-a31e-d926a40132b8",
   "metadata": {
    "tags": []
   },
   "outputs": [],
   "source": [
    "adata.var"
   ]
  },
  {
   "cell_type": "code",
   "execution_count": null,
   "id": "3a1979b6-e233-411d-9510-9f280c9779ff",
   "metadata": {},
   "outputs": [],
   "source": [
    "samples = {\n",
    "    \"10mix-ICI1\": {\"group\": \"10mix\", \"condition\":\"ICI\",\"origin\":\"tumor\"},\n",
    "    \"10mix-ICI2\": {\"group\": \"10mix\",\"condition\":\"ICI\",\"origin\":\"tumor\"},\n",
    "    \"11mix-ICI1\": {\"group\": \"11mix\",\"condition\":\"ICI\",\"origin\":\"tumor\"},\n",
    "    \"11mix-ICI2\": {\"group\": \"11mix\",\"condition\":\"ICI\",\"origin\":\"tumor\"},\n",
    "    \"GF-ICI1\": {\"group\": \"GF\",\"condition\":\"No ICI\",\"origin\":\"tumor\"},\n",
    "    \"GF-ICI2\": {\"group\": \"GF\",\"condition\":\"No ICI\",\"origin\":\"tumor\"},\n",
    "    \"GF-ICI1-plus\": {\"group\": \"GF-plus\",\"condition\":\"ICI\",\"origin\":\"tumor\"},\n",
    "    \"GF-ICI2-plus\": {\"group\": \"GF-plus\",\"condition\":\"ICI\",\"origin\":\"tumor\"},\n",
    "    \"10mix1\": {\"group\": \"10mix\", \"condition\":\"naive\",\"origin\":\"colon\"},\n",
    "    \"10mix2\": {\"group\": \"10mix\", \"condition\":\"naive\",\"origin\":\"colon\"},\n",
    "    \"11mix1\": {\"group\": \"11mix\", \"condition\":\"naive\",\"origin\":\"colon\"},\n",
    "    \"11mix2\": {\"group\": \"11mix\", \"condition\":\"naive\",\"origin\":\"colon\"},\n",
    "    \"GF1\": {\"group\": \"GF\", \"condition\":\"naive\",\"origin\":\"colon\"},\n",
    "    \"GF2\": {\"group\": \"GF\", \"condition\":\"naive\",\"origin\":\"colon\"},\n",
    "}    "
   ]
  },
  {
   "cell_type": "code",
   "execution_count": null,
   "id": "cca1238d-bf00-4f01-bd15-aa472cc5e8a1",
   "metadata": {},
   "outputs": [],
   "source": [
    "# Set global met'adata on `mdata.obs`\n",
    "\n",
    "adata.obs[\"group\"] = adata.obs[\"sample_id\"].map(lambda x: samples[x][\"group\"])\n",
    "adata.obs[\"condition\"] = adata.obs[\"sample_id\"].map(lambda x: samples[x][\"condition\"])"
   ]
  },
  {
   "cell_type": "code",
   "execution_count": null,
   "id": "c2c548be-a1ae-41f8-93e4-eb0a3f7fbfd6",
   "metadata": {},
   "outputs": [],
   "source": [
    "adata.obs[\"condition\"] = adata.obs[\"sample_id\"].map(lambda x: samples[x][\"condition\"])"
   ]
  },
  {
   "cell_type": "code",
   "execution_count": null,
   "id": "bd2413aa-3f09-4823-8b92-ce679c417314",
   "metadata": {},
   "outputs": [],
   "source": [
    "adata.obs[\"origin\"] = adata.obs[\"sample_id\"].map(lambda x: samples[x][\"origin\"])"
   ]
  },
  {
   "cell_type": "code",
   "execution_count": null,
   "id": "6e920132-d5ad-49d8-8aeb-8303efb7826d",
   "metadata": {},
   "outputs": [],
   "source": [
    "adata.var_names_make_unique()"
   ]
  },
  {
   "cell_type": "code",
   "execution_count": null,
   "id": "3da5f0f5-8bf5-4f72-9892-7f876134eb7b",
   "metadata": {},
   "outputs": [],
   "source": [
    "set(adata.obs.condition)"
   ]
  },
  {
   "cell_type": "code",
   "execution_count": null,
   "id": "8f17a845-a1c1-4dc9-af50-e8cbf67dc8cd",
   "metadata": {},
   "outputs": [],
   "source": [
    "adata.var"
   ]
  },
  {
   "cell_type": "code",
   "execution_count": null,
   "id": "cfd3a693-b958-4a61-92b7-a3c8ad8e4b54",
   "metadata": {},
   "outputs": [],
   "source": [
    "adata"
   ]
  },
  {
   "cell_type": "code",
   "execution_count": null,
   "id": "d7753db7-18c0-4cb8-86d7-9be8b387a112",
   "metadata": {},
   "outputs": [],
   "source": []
  },
  {
   "cell_type": "code",
   "execution_count": null,
   "id": "4f5a5579-c4cb-44a9-83d5-3c52a8ad118d",
   "metadata": {},
   "outputs": [],
   "source": []
  },
  {
   "cell_type": "code",
   "execution_count": null,
   "id": "f20041cd-036b-4568-9f98-d3196e1acc10",
   "metadata": {},
   "outputs": [],
   "source": []
  },
  {
   "cell_type": "code",
   "execution_count": null,
   "id": "6ebc20d7-3d54-4b1a-94d9-e58624be3082",
   "metadata": {},
   "outputs": [],
   "source": []
  },
  {
   "cell_type": "code",
   "execution_count": null,
   "id": "098f6640-c165-4add-b58a-a02278ce5dfe",
   "metadata": {},
   "outputs": [],
   "source": []
  },
  {
   "cell_type": "code",
   "execution_count": null,
   "id": "3e222d5c-0898-45ac-b252-e0dee51143d7",
   "metadata": {},
   "outputs": [],
   "source": []
  },
  {
   "cell_type": "code",
   "execution_count": null,
   "id": "9a6599db-69bb-4ca0-9b2f-6459644e6ce8",
   "metadata": {},
   "outputs": [],
   "source": [
    "import mygene"
   ]
  },
  {
   "cell_type": "code",
   "execution_count": null,
   "id": "c30a0db9-57da-4854-aa97-3c5bced0b7a5",
   "metadata": {},
   "outputs": [],
   "source": [
    "mg = mygene.MyGeneInfo()\n",
    "list_var = adata.var.index.unique()\n",
    "ginfo = mg.querymany(list_var, scopes='ensembl.gene')\n",
    "df = pd.DataFrame(ginfo)\n",
    "df.drop_duplicates(subset='query', keep='last', inplace=True)\n",
    "adata.var[\"query\"] = adata.var.index\n",
    "adata.var = df.merge(adata.var, on='query', how='left')\n",
    "adata.var['symbol'] = adata.var.apply(lambda row: row['query'] if pd.isna(row['symbol']) else row['symbol'], axis=1)\n"
   ]
  },
  {
   "cell_type": "code",
   "execution_count": null,
   "id": "9e2c07ae-8b6d-4635-a0bc-6b06f0226710",
   "metadata": {},
   "outputs": [],
   "source": [
    "cl_annotation = {\n",
    "    \"0\": \"IFN T-cells\",\n",
    "    \"1\": \"Naive T-cells\",\n",
    "    \"2\": \"Exhausted T-cells\",\n",
    "    \"3\": \"Naive T-cells\",\n",
    "    \"4\":\"Senescent-like T-cells\",\n",
    "    \"5\":\"Exhausted T-cells\",\n",
    "    \"6\":\"Naive T-cells\",\n",
    "    \"7\":\"Exhausted T-cells\",\n",
    "    \"8\":\"IFN T-cells\",\n",
    "    \"9\":\"Senescent-like T-cells\",\n",
    "    \"10\":\"Exhausted T-cells\",\n",
    "    \"11\":\"Undefined\",\n",
    "    \"12\":\"Naive T-cells\",\n",
    "    \"13\":\"Stress response T-cells\",\n",
    "}"
   ]
  },
  {
   "cell_type": "code",
   "execution_count": null,
   "id": "e6a85f0b-8901-4c41-9ca4-919730c25ac4",
   "metadata": {},
   "outputs": [],
   "source": [
    "sc.tl.leiden(adata, resolution=0.7, key_added=\"leiden\")"
   ]
  },
  {
   "cell_type": "code",
   "execution_count": null,
   "id": "7077aff8-ea69-4acc-a48e-4ee2bbc69f38",
   "metadata": {},
   "outputs": [],
   "source": [
    "sc.pl.umap(adata, color=[\"leiden\"])\n"
   ]
  },
  {
   "cell_type": "code",
   "execution_count": null,
   "id": "3e236c10-cd55-4d9b-a392-1a91f531e104",
   "metadata": {},
   "outputs": [],
   "source": [
    "sc.pl.umap(adata, color=[\"Ifng\",\"Gzmb\"], gene_symbols=\"symbol\")"
   ]
  },
  {
   "cell_type": "code",
   "execution_count": null,
   "id": "3a3f72d2-f2ae-4a95-961e-f8bfe441ab2e",
   "metadata": {},
   "outputs": [],
   "source": [
    "adata.obs[\"cell_type_anno\"] = adata.obs.leiden.map(cl_annotation)"
   ]
  },
  {
   "cell_type": "code",
   "execution_count": null,
   "id": "31990082-1304-49f0-9a0d-1079cb01315c",
   "metadata": {},
   "outputs": [],
   "source": [
    "sc.pl.umap(adata, color=[\"cell_type_anno\"])\n"
   ]
  },
  {
   "cell_type": "code",
   "execution_count": null,
   "id": "a7d55ed0-67e1-4a48-bbea-90fbd393adf0",
   "metadata": {},
   "outputs": [],
   "source": [
    "set(adata.obs[\"cell_type_anno\"])"
   ]
  },
  {
   "cell_type": "code",
   "execution_count": null,
   "id": "aa47ecb0-2625-42d3-927f-1e7c8c11383f",
   "metadata": {},
   "outputs": [],
   "source": [
    "adata.obs"
   ]
  },
  {
   "cell_type": "code",
   "execution_count": null,
   "id": "c7b473c6-b275-4f11-bd8d-1d261b767184",
   "metadata": {},
   "outputs": [],
   "source": [
    "sc.pl.umap(adata, color=[\"origin\"])\n"
   ]
  },
  {
   "cell_type": "code",
   "execution_count": null,
   "id": "1f283e2c-1c24-4389-9b3b-8a2d03f2844b",
   "metadata": {},
   "outputs": [],
   "source": [
    "adata"
   ]
  },
  {
   "cell_type": "code",
   "execution_count": null,
   "id": "8f9c47bb-9019-483f-90a6-047ee367f930",
   "metadata": {},
   "outputs": [],
   "source": [
    "adata_qc = sc.read_h5ad(\"mdata_qc.h5ad\")"
   ]
  },
  {
   "cell_type": "code",
   "execution_count": null,
   "id": "c5059971-53b2-4a3a-a3f6-d9ceaebe8f9d",
   "metadata": {},
   "outputs": [],
   "source": [
    "adata_qc"
   ]
  },
  {
   "cell_type": "markdown",
   "id": "c461993a-26fc-4c31-8682-e712232626ff",
   "metadata": {},
   "source": [
    "### Compositional analysis"
   ]
  },
  {
   "cell_type": "code",
   "execution_count": null,
   "id": "10f3eda8-d035-41f6-b17a-728ffcbcd7bd",
   "metadata": {},
   "outputs": [],
   "source": [
    "adata.obs.rename(columns={\"condition\":\"treatment\"}, inplace = True)"
   ]
  },
  {
   "cell_type": "code",
   "execution_count": null,
   "id": "4435e3ba-c7b7-47b7-bc46-de626433a517",
   "metadata": {},
   "outputs": [],
   "source": [
    "set(adata.obs.sample_id)"
   ]
  },
  {
   "cell_type": "code",
   "execution_count": null,
   "id": "20f965bf-24a7-43f5-9eff-8219d3be3e55",
   "metadata": {},
   "outputs": [],
   "source": [
    "frac_by_condition = (\n",
    "    adata.obs.groupby([\"group\",\"sample_id\",\"treatment\"])\n",
    "    .apply(lambda x: x.value_counts(\"cell_type_anno\", normalize=False))\n",
    "    .reset_index(name=\"n_cells\")\n",
    "    .assign(condition=lambda x: x[\"group\"].astype(str))\n",
    ")\n"
   ]
  },
  {
   "cell_type": "code",
   "execution_count": null,
   "id": "21d3f11f-ba25-45b5-9404-c533049e5962",
   "metadata": {},
   "outputs": [],
   "source": [
    "frac_by_condition = frac_by_condition[frac_by_condition['cell_type_anno'] != 'Undefined']"
   ]
  },
  {
   "cell_type": "code",
   "execution_count": null,
   "id": "e2273c2e-19ac-4459-8dc1-1d57d2429d2f",
   "metadata": {},
   "outputs": [],
   "source": [
    "frac_by_condition = frac_by_condition[frac_by_condition['cell_type_anno'] != 'Stress response T-cells']"
   ]
  },
  {
   "cell_type": "code",
   "execution_count": null,
   "id": "c3f2f75e-5edb-4d02-bb01-5cd1e239542d",
   "metadata": {},
   "outputs": [],
   "source": [
    "frac_by_condition = frac_by_condition[frac_by_condition['condition'] != 'GF-plus']"
   ]
  },
  {
   "cell_type": "code",
   "execution_count": null,
   "id": "7c9b494f-5355-43ce-b900-71c727949866",
   "metadata": {},
   "outputs": [],
   "source": [
    "frac_by_condition = frac_by_condition[frac_by_condition['treatment'] != 'No ICI']"
   ]
  },
  {
   "cell_type": "code",
   "execution_count": null,
   "id": "866f43a6-4fa9-4f28-b6eb-dc9f3ea8bb6f",
   "metadata": {},
   "outputs": [],
   "source": [
    "frac_by_condition = frac_by_condition[frac_by_condition['treatment'] != 'ICI']"
   ]
  },
  {
   "cell_type": "code",
   "execution_count": null,
   "id": "783e9ed1-0fa9-42eb-a5e7-27c10adc86a0",
   "metadata": {},
   "outputs": [],
   "source": [
    "frac_by_condition.group.replace(\"GF-plus\",\"GF\",inplace=True)"
   ]
  },
  {
   "cell_type": "code",
   "execution_count": null,
   "id": "79798b9e-34fc-4cb6-9155-83b95a780c53",
   "metadata": {},
   "outputs": [],
   "source": [
    "frac_by_condition.group.replace(\"No ICI\t\",\"naive\",inplace=True)"
   ]
  },
  {
   "cell_type": "code",
   "execution_count": null,
   "id": "1b8c8d78-d6a8-49eb-ba9b-84cd0f7b068c",
   "metadata": {},
   "outputs": [],
   "source": [
    "\n",
    "for index, row in frac_by_condition.iterrows():\n",
    "    if row[\"treatment\"] == \"naive\":\n",
    "        frac_by_condition.loc[index, \"experiment\"] = \"2019\"\n",
    "    else:\n",
    "        frac_by_condition.loc[index, \"experiment\"] = \"2021\""
   ]
  },
  {
   "cell_type": "code",
   "execution_count": null,
   "id": "f8363b46-0f76-41a3-af25-7a75cea545bd",
   "metadata": {},
   "outputs": [],
   "source": [
    "set(frac_by_condition.condition)"
   ]
  },
  {
   "cell_type": "code",
   "execution_count": null,
   "id": "32110127-aa90-47ff-8c82-4089bf797e92",
   "metadata": {},
   "outputs": [],
   "source": [
    "frac_by_condition"
   ]
  },
  {
   "cell_type": "code",
   "execution_count": null,
   "id": "fc327253-aed1-4b58-97f3-251175b0e99d",
   "metadata": {
    "tags": []
   },
   "outputs": [],
   "source": [
    "frac_pivot = (\n",
    "    frac_by_condition.pivot(\n",
    "        index=[\"group\", \"treatment\",\"sample_id\",\"experiment\"],\n",
    "        columns=\"cell_type_anno\",\n",
    "        values=\"n_cells\",\n",
    "    )\n",
    "    .reset_index()\n",
    "    #.drop(columns=\"other\")\n",
    ")\n"
   ]
  },
  {
   "cell_type": "code",
   "execution_count": null,
   "id": "a6c19804-1477-4075-81db-c228299826bc",
   "metadata": {},
   "outputs": [],
   "source": [
    "data_all = scc_dat.from_pandas(\n",
    "    frac_pivot, covariate_columns=[\"group\", \"treatment\",\"sample_id\",\"experiment\"]\n",
    ")"
   ]
  },
  {
   "cell_type": "code",
   "execution_count": null,
   "id": "3f76c058-fb88-4121-b92b-313359d14a01",
   "metadata": {},
   "outputs": [],
   "source": [
    "import pandas as pd"
   ]
  },
  {
   "cell_type": "code",
   "execution_count": null,
   "id": "bcebcb5c-c0db-4812-a985-dc0f439dc1d8",
   "metadata": {},
   "outputs": [],
   "source": [
    "data_all.obs[\"group\"] = pd.Categorical(\n",
    "    data_all.obs[\"group\"], categories=['10mix', '11mix','GF']\n",
    ")"
   ]
  },
  {
   "cell_type": "code",
   "execution_count": null,
   "id": "788e8348-00c7-4ad1-b4a8-7a13af8d83fe",
   "metadata": {},
   "outputs": [],
   "source": [
    "data_all.obs[\"treatment\"] = pd.Categorical(\n",
    "    data_all.obs[\"treatment\"], categories=['ICI', 'naive']\n",
    ")"
   ]
  },
  {
   "cell_type": "code",
   "execution_count": null,
   "id": "63d226ff-d7d7-4535-82b6-382f969fc60d",
   "metadata": {},
   "outputs": [],
   "source": [
    "data_all._sanitize()"
   ]
  },
  {
   "cell_type": "code",
   "execution_count": null,
   "id": "eaa368b7-0fb4-44d2-aed4-e4750324818d",
   "metadata": {},
   "outputs": [],
   "source": [
    "scc_viz.boxplots(data_all, feature_name=\"group\", figsize=(12, 5), cmap = \"inferno\")\n",
    "\n",
    "#plt.savefig( \"figures/cell_proportion_tumor_and_normal_sex.png\")\n"
   ]
  },
  {
   "cell_type": "code",
   "execution_count": null,
   "id": "f8488f94-dfbc-4438-9d6c-abea5621a477",
   "metadata": {},
   "outputs": [],
   "source": [
    "scc_viz.boxplots(data_all, feature_name=\"treatment\", figsize=(12, 5), cmap = \"inferno\")\n",
    "\n",
    "#plt.savefig( \"figures/cell_proportion_tumor_and_normal_sex.png\")\n"
   ]
  },
  {
   "cell_type": "code",
   "execution_count": null,
   "id": "357fe9b2-c919-4d61-8064-bc93f7806554",
   "metadata": {},
   "outputs": [],
   "source": [
    "data_all_2019.obs"
   ]
  },
  {
   "cell_type": "code",
   "execution_count": null,
   "id": "7de67b1c-872a-40d4-98ef-b9ac8ed8bd31",
   "metadata": {},
   "outputs": [],
   "source": [
    "scc_viz.boxplots(data_all_2019, feature_name=\"sample_id\", figsize=(12, 5), cmap = \"inferno\")\n",
    "\n",
    "#plt.savefig( \"figures/cell_proportion_tumor_and_normal_sex.png\")\n"
   ]
  },
  {
   "cell_type": "code",
   "execution_count": null,
   "id": "5f201257-e530-482d-a2bf-d7d66e544621",
   "metadata": {},
   "outputs": [],
   "source": [
    "Tnaive - Ltb\",\"Sell\",\"Lef1\",\"Nosip\n",
    "Tex - Cxcr6\",\"Gzmb\",\"Havcr2\",\"Ctla4\"\n",
    "Tsen - Plcg2\",\"Igkc\",\"Klrk1\",\"Slamf7\"\n",
    "Tifn \"Isg15\",\"Ifit3\",\"Ifit1\",\"Stat1\" \n"
   ]
  },
  {
   "cell_type": "code",
   "execution_count": null,
   "id": "80e57219-bf61-4fc1-be12-9cd956fc50f3",
   "metadata": {},
   "outputs": [],
   "source": [
    "data_all_2019 = data_all[data_all.obs[\"experiment\"]==\"2019\"]"
   ]
  },
  {
   "cell_type": "code",
   "execution_count": null,
   "id": "fca10f31-b5cc-4195-9fbf-d41664e98f8f",
   "metadata": {},
   "outputs": [],
   "source": [
    "data_all_2021 = data_all[data_all.obs[\"experiment\"]==\"2021\"]"
   ]
  },
  {
   "cell_type": "code",
   "execution_count": null,
   "id": "4617a085-0a53-43bd-b44c-b8ca8b9bdecc",
   "metadata": {},
   "outputs": [],
   "source": [
    "scc_viz.stacked_barplot(data_all_2019, feature_name=\"group\")\n"
   ]
  },
  {
   "cell_type": "code",
   "execution_count": null,
   "id": "24dfa9c5-9bf3-4413-987c-9bf3fdefe170",
   "metadata": {},
   "outputs": [],
   "source": [
    "scc_viz.stacked_barplot(data_all_2021, feature_name=\"group\")\n"
   ]
  },
  {
   "cell_type": "code",
   "execution_count": null,
   "id": "0528f9ed-2ed4-4541-9b3c-3d93a32b3994",
   "metadata": {},
   "outputs": [],
   "source": [
    "scc_viz.stacked_barplot(data_all_2021, feature_name=\"sample_id\")\n"
   ]
  },
  {
   "cell_type": "code",
   "execution_count": null,
   "id": "39c0bdc5-6941-47a9-a17e-0c51dc4aca44",
   "metadata": {},
   "outputs": [],
   "source": [
    "scc_viz.stacked_barplot(data_all_2019, feature_name=\"sample_id\")\n"
   ]
  },
  {
   "cell_type": "code",
   "execution_count": null,
   "id": "0ef713f4-1872-4cb8-927c-f57b71373d80",
   "metadata": {},
   "outputs": [],
   "source": [
    "scc_viz.stacked_barplot(data_all, feature_name=\"treatment\")\n"
   ]
  },
  {
   "cell_type": "code",
   "execution_count": null,
   "id": "fa99822e-4cd5-4700-b7a6-e631b88ddd01",
   "metadata": {},
   "outputs": [],
   "source": [
    "scc_viz.stacked_barplot(data_all, feature_name=\"sample_id\")"
   ]
  },
  {
   "cell_type": "code",
   "execution_count": null,
   "id": "83d2c79e-737b-452c-8211-4925643751aa",
   "metadata": {},
   "outputs": [],
   "source": []
  },
  {
   "cell_type": "code",
   "execution_count": null,
   "id": "78820475-c4d5-46a7-a10c-3bf87c567983",
   "metadata": {},
   "outputs": [],
   "source": []
  }
 ],
 "metadata": {
  "kernelspec": {
   "display_name": "nsclc_gender_atlas_23",
   "language": "python",
   "name": "nsclc_gender_atlas_23"
  },
  "language_info": {
   "codemirror_mode": {
    "name": "ipython",
    "version": 3
   },
   "file_extension": ".py",
   "mimetype": "text/x-python",
   "name": "python",
   "nbconvert_exporter": "python",
   "pygments_lexer": "ipython3",
   "version": "3.9.16"
  }
 },
 "nbformat": 4,
 "nbformat_minor": 5
}
