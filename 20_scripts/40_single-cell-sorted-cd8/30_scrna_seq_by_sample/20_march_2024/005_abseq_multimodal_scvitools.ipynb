{
 "cells": [
  {
   "cell_type": "code",
   "execution_count": null,
   "id": "897e65c0-eb1c-46ff-ab75-fb98bd559e12",
   "metadata": {
    "tags": []
   },
   "outputs": [],
   "source": [
    "import pandas as pd \n",
    "import scanpy as sc, anndata as ad\n",
    "import seaborn as sns\n",
    "import matplotlib as mpl\n",
    "\n",
    "from muon import MuData\n",
    "import muon as mu\n",
    "\n",
    "from muon import atac as ac\n",
    "from muon import prot as pt"
   ]
  },
  {
   "cell_type": "code",
   "execution_count": null,
   "id": "75611355-1cb5-4816-a0b9-1adf038596ad",
   "metadata": {},
   "outputs": [],
   "source": [
    "import numpy as np"
   ]
  },
  {
   "cell_type": "code",
   "execution_count": null,
   "id": "a9e33927-8177-4a33-8747-f37fddc930c5",
   "metadata": {},
   "outputs": [],
   "source": [
    "import os"
   ]
  },
  {
   "cell_type": "code",
   "execution_count": null,
   "id": "c4a516fb-f46b-4c28-a517-4ace7323476e",
   "metadata": {},
   "outputs": [],
   "source": [
    "from scipy.stats import median_abs_deviation"
   ]
  },
  {
   "cell_type": "code",
   "execution_count": null,
   "id": "a9d65ddd-6c21-4d55-ba87-bfd2cef8c531",
   "metadata": {},
   "outputs": [],
   "source": [
    "#Correct barcodes from integrer to string \n",
    "#patient_id = [\"P1\",\"P2\",\"P3\",\"P4\"]\n",
    "#for id in patient_id:\n",
    "#    print(id)\n",
    "#    data_dir = f\"/data/projects/2022/CRCA/data/own_datasets/healthy-blood-AbSeq/BD_Rhapsody_preprocessing/all_samples/CML_{id}/mudata\"\n",
    "#    filtered_dir = f\"{data_dir}/filtered\"\n",
    "#    unfiltered_dir = f\"{data_dir}/unfiltered\"\n",
    "#    print(os.listdir(filtered_dir))\n",
    "#    print(os.listdir(unfiltered_dir))\n",
    "# \n",
    "#\n",
    "#    barcodes=  pd.read_csv(f\"{filtered_dir}/barcodes.tsv.gz\",  compression='gzip', header=None, sep='\\t')\n",
    "#    barcodes[0] = id.lower() +'_' + barcodes[0].astype(str)\n",
    "#    barcodes.to_csv(f\"{filtered_dir}/barcodes.tsv.gz\", header=False,index = False )\n",
    "# \n",
    "# \n",
    "#    barcodes=  pd.read_csv(f\"{unfiltered_dir}/barcodes.tsv.gz\",  compression='gzip', header=None, sep='\\t')\n",
    "#    barcodes[0] = id.lower() +'_' + barcodes[0].astype(str)\n",
    "#    barcodes.to_csv(f\"{unfiltered_dir}/barcodes.tsv.gz\", header=False,index = False )"
   ]
  },
  {
   "cell_type": "code",
   "execution_count": null,
   "id": "93cf0e4d-ae7a-4829-8495-8a37d4707687",
   "metadata": {},
   "outputs": [],
   "source": [
    "patient_id = [\"P1\",\"P2\",\"P3\",\"P4\"]\n",
    "mudata_dict = {}\n",
    "\n",
    "\n",
    "for id in patient_id:\n",
    "    print(id)\n",
    "    data_dir = f\"/data/projects/2022/CRCA/data/own_datasets/healthy-blood-AbSeq/BD_Rhapsody_preprocessing/all_samples/CML_{id}/mudata\"\n",
    "    filtered_dir = f\"{data_dir}/filtered\"\n",
    "    unfiltered_dir = f\"{data_dir}/unfiltered\"\n",
    "    \n",
    "    mdata = mu.read_10x_mtx(filtered_dir)\n",
    "    mdata_raw = mu.read_10x_mtx(unfiltered_dir)\n",
    "    key_name = f\"mudata_{id.lower()}\"\n",
    "    \n",
    "    # Assuming mudata objects need to be stored in a dictionary\n",
    "    mudata_dict[key_name] = {\"filtered\": mdata, \"unfiltered\": mdata_raw}"
   ]
  },
  {
   "cell_type": "code",
   "execution_count": null,
   "id": "b4935243-4613-4171-8227-83f5f820e565",
   "metadata": {},
   "outputs": [],
   "source": [
    "\n",
    "prot_dict_filtered = {}\n",
    "prot_dict_unfiltered = {}\n",
    "\n",
    "\n",
    "for id in patient_id:\n",
    "    print(id)\n",
    "    key_name = f\"{id}\"\n",
    "    prot_adata_f =  mudata_dict[f\"mudata_{id.lower()}\"][\"filtered\"][\"prot\"]\n",
    "    prot_adata_uf =  mudata_dict[f\"mudata_{id.lower()}\"][\"unfiltered\"][\"prot\"]\n",
    "    \n",
    "    prot_dict_filtered[key_name] = {f\"prot_{id.lower()}\": prot_adata_f}\n",
    "    prot_dict_unfiltered[key_name] = {f\"prot_{id.lower()}\": prot_adata_uf}"
   ]
  },
  {
   "cell_type": "code",
   "execution_count": null,
   "id": "549b4fce-ac3d-4cf9-9b5f-a0316092182d",
   "metadata": {},
   "outputs": [],
   "source": [
    "patient_id = [\"P1\",\"P2\",\"P3\",\"P4\"]\n",
    "rna_dict_filtered = {}\n",
    "rna_dict_unfiltered = {}\n",
    "\n",
    "for id in patient_id:\n",
    "    print(id)\n",
    "    key_name = f\"{id}\"\n",
    "    rna_adata_f =  mudata_dict[f\"mudata_{id.lower()}\"][\"filtered\"][\"rna\"]\n",
    "    rna_adata_uf =  mudata_dict[f\"mudata_{id.lower()}\"][\"unfiltered\"][\"rna\"]\n",
    "    \n",
    "    rna_dict_filtered[key_name] = {f\"rna_{id.lower()}\": rna_adata_f}\n",
    "    rna_dict_unfiltered[key_name] = {f\"rna_{id.lower()}\": rna_adata_uf}"
   ]
  },
  {
   "cell_type": "code",
   "execution_count": null,
   "id": "a0ecaa22-6c39-41c1-9ac0-cd0e82413f3e",
   "metadata": {},
   "outputs": [],
   "source": [
    "mudata_dict[\"mudata_p2\"][\"filtered\"][\"prot\"].obs.index = mudata_dict[\"mudata_p2\"][\"filtered\"][\"prot\"].obs.index.str.replace('P2', 'p2')\n",
    "mudata_dict[\"mudata_p3\"][\"filtered\"][\"prot\"].obs.index = mudata_dict[\"mudata_p3\"][\"filtered\"][\"prot\"].obs.index.str.replace('P3', 'p3')\n",
    "mudata_dict[\"mudata_p4\"][\"filtered\"][\"prot\"].obs.index = mudata_dict[\"mudata_p4\"][\"filtered\"][\"prot\"].obs.index.str.replace('P4', 'p4')\n"
   ]
  },
  {
   "cell_type": "code",
   "execution_count": null,
   "id": "a7be20a5-02db-4580-919b-faeef789b14a",
   "metadata": {},
   "outputs": [],
   "source": [
    "rna_all_samples_f = ad.concat([rna_dict_filtered[\"P1\"][\"rna_p1\"], rna_dict_filtered[\"P2\"][\"rna_p2\"], rna_dict_filtered[\"P3\"][\"rna_p3\"], rna_dict_filtered[\"P4\"][\"rna_p4\"]], join=\"outer\")\n",
    "rna_all_samples_f_var = pd.concat([rna_dict_filtered[\"P1\"][\"rna_p1\"].var, rna_dict_filtered[\"P2\"][\"rna_p2\"].var,  rna_dict_filtered[\"P3\"][\"rna_p3\"].var, rna_dict_filtered[\"P4\"][\"rna_p4\"].var,], join=\"outer\")\n",
    "rna_all_samples_f.var = rna_all_samples_f_var[~rna_all_samples_f_var.index.duplicated()]"
   ]
  },
  {
   "cell_type": "code",
   "execution_count": null,
   "id": "9b75addb-3916-4948-a962-875b7a45cd30",
   "metadata": {},
   "outputs": [],
   "source": [
    "prot_all_samples_f = ad.concat([prot_dict_filtered[\"P1\"][\"prot_p1\"], prot_dict_filtered[\"P2\"][\"prot_p2\"], prot_dict_filtered[\"P3\"][\"prot_p3\"], prot_dict_filtered[\"P4\"][\"prot_p4\"]], join=\"outer\")\n",
    "prot_all_samples_f_var = pd.concat([prot_dict_filtered[\"P1\"][\"prot_p1\"].var, prot_dict_filtered[\"P2\"][\"prot_p2\"].var,   prot_dict_filtered[\"P3\"][\"prot_p3\"].var, prot_dict_filtered[\"P4\"][\"prot_p4\"].var,], join=\"outer\")\n",
    "prot_all_samples_f.var = prot_all_samples_f_var[~prot_all_samples_f_var.index.duplicated()]"
   ]
  },
  {
   "cell_type": "code",
   "execution_count": null,
   "id": "516a8432-34fd-468d-a85e-592ec9fa9442",
   "metadata": {},
   "outputs": [],
   "source": [
    "rna_all_samples_uf = ad.concat([rna_dict_unfiltered[\"P1\"][\"rna_p1\"], rna_dict_unfiltered[\"P2\"][\"rna_p2\"], rna_dict_unfiltered[\"P3\"][\"rna_p3\"], rna_dict_unfiltered[\"P4\"][\"rna_p4\"]], join=\"outer\")\n",
    "rna_all_samples_uf_var = pd.concat([rna_dict_unfiltered[\"P1\"][\"rna_p1\"].var, rna_dict_unfiltered[\"P2\"][\"rna_p2\"].var,  rna_dict_unfiltered[\"P3\"][\"rna_p3\"].var, rna_dict_unfiltered[\"P4\"][\"rna_p4\"].var,], join=\"outer\")\n",
    "rna_all_samples_uf.var = rna_all_samples_uf_var[~rna_all_samples_uf_var.index.duplicated()]"
   ]
  },
  {
   "cell_type": "code",
   "execution_count": null,
   "id": "0bc91f14-bfab-49b6-af03-38262523a42e",
   "metadata": {},
   "outputs": [],
   "source": [
    "prot_all_samples_uf = ad.concat([prot_dict_unfiltered[\"P1\"][\"prot_p1\"], prot_dict_unfiltered[\"P2\"][\"prot_p2\"], prot_dict_unfiltered[\"P3\"][\"prot_p3\"], prot_dict_unfiltered[\"P4\"][\"prot_p4\"]], join=\"outer\")\n",
    "prot_all_samples_uf_var = pd.concat([prot_dict_unfiltered[\"P1\"][\"prot_p1\"].var, prot_dict_unfiltered[\"P2\"][\"prot_p2\"].var,   prot_dict_unfiltered[\"P3\"][\"prot_p3\"].var, prot_dict_unfiltered[\"P4\"][\"prot_p4\"].var,], join=\"outer\")\n",
    "prot_all_samples_uf.var = prot_all_samples_uf_var[~prot_all_samples_uf_var.index.duplicated()]"
   ]
  },
  {
   "cell_type": "code",
   "execution_count": null,
   "id": "7c942967-5e08-4991-b6af-8f2c217cfa5f",
   "metadata": {},
   "outputs": [],
   "source": [
    "rna_all_samples_f"
   ]
  },
  {
   "cell_type": "code",
   "execution_count": null,
   "id": "a1d4db18-9152-4fc9-8aa8-86cb8c30a613",
   "metadata": {},
   "outputs": [],
   "source": [
    "rna_all_samples_f"
   ]
  },
  {
   "cell_type": "code",
   "execution_count": null,
   "id": "e527dbc3-9252-4748-9db5-e95eacb3885a",
   "metadata": {},
   "outputs": [],
   "source": [
    "rna_all_samples_uf"
   ]
  },
  {
   "cell_type": "code",
   "execution_count": null,
   "id": "be013ede-222a-4e02-9f74-535525a79548",
   "metadata": {},
   "outputs": [],
   "source": [
    "prot_all_samples_f"
   ]
  },
  {
   "cell_type": "code",
   "execution_count": null,
   "id": "fb25890a-fdfd-40d0-9fe3-bca9cf50ef7e",
   "metadata": {},
   "outputs": [],
   "source": [
    "prot_all_samples_uf"
   ]
  },
  {
   "cell_type": "code",
   "execution_count": null,
   "id": "4f9e1184-ab4a-46bd-ae48-5a8497c6e84f",
   "metadata": {},
   "outputs": [],
   "source": [
    "mdata = MuData({\"rna\": rna_all_samples_f, \"prot\": prot_all_samples_f})"
   ]
  },
  {
   "cell_type": "code",
   "execution_count": null,
   "id": "c0f175ed-b4db-401a-ba90-64507b7ef8c6",
   "metadata": {},
   "outputs": [],
   "source": [
    "mdata_raw = MuData({\"rna\": rna_all_samples_uf, \"prot\": prot_all_samples_uf})"
   ]
  },
  {
   "cell_type": "code",
   "execution_count": null,
   "id": "ee7848e3-b1c5-408e-b739-a3bc74f45ea4",
   "metadata": {},
   "outputs": [],
   "source": [
    "mdata.obs[\"patient_id\"] = mdata[\"prot\"].obs.index.str.split(\"_\").str[0]\n",
    "mdata_raw.obs[\"patient_id\"] = mdata_raw[\"prot\"].obs.index.str.split(\"_\").str[0]"
   ]
  },
  {
   "cell_type": "code",
   "execution_count": null,
   "id": "efd2d4d0-0b4f-4ad6-867e-6c7209357a03",
   "metadata": {},
   "outputs": [],
   "source": [
    "mdata[\"rna\"].obs[\"patient_id\"] = mdata[\"prot\"].obs.index.str.split(\"_\").str[0]\n",
    "mdata_raw[\"rna\"].obs[\"patient_id\"] = mdata_raw[\"prot\"].obs.index.str.split(\"_\").str[0]"
   ]
  },
  {
   "cell_type": "code",
   "execution_count": null,
   "id": "e1f4fffd-a350-4f46-8764-cf36cdcc6d06",
   "metadata": {},
   "outputs": [],
   "source": [
    "mdata[\"prot\"].obs[\"patient_id\"] = mdata[\"prot\"].obs.index.str.split(\"_\").str[0]\n",
    "mdata_raw[\"prot\"].obs[\"patient_id\"] = mdata_raw[\"prot\"].obs.index.str.split(\"_\").str[0]"
   ]
  },
  {
   "cell_type": "code",
   "execution_count": null,
   "id": "cbcac24f-caac-4710-b9c2-1a261383bd1f",
   "metadata": {},
   "outputs": [],
   "source": [
    "mdata"
   ]
  },
  {
   "cell_type": "code",
   "execution_count": null,
   "id": "25c5140a-7106-47d2-b561-12c08ddd2a0c",
   "metadata": {},
   "outputs": [],
   "source": [
    "mdata_raw"
   ]
  },
  {
   "cell_type": "markdown",
   "id": "01c2a381-1ccb-4169-84b3-cecfeda7d34f",
   "metadata": {},
   "source": [
    "## QC "
   ]
  },
  {
   "cell_type": "code",
   "execution_count": null,
   "id": "a5a2a58d-1ce5-4a2b-ace4-93335a3fb2fa",
   "metadata": {},
   "outputs": [],
   "source": [
    "sc.pp.calculate_qc_metrics(mdata[\"prot\"], inplace=True, percent_top=[20], log1p = True)\n",
    "sc.pp.calculate_qc_metrics(mdata_raw[\"prot\"], inplace=True, percent_top=[20], log1p = True)\n"
   ]
  },
  {
   "cell_type": "code",
   "execution_count": null,
   "id": "f800b445-204d-4921-a5b1-f5e20988d4fb",
   "metadata": {},
   "outputs": [],
   "source": [
    "sc.pp.calculate_qc_metrics(mdata_raw[\"rna\"], inplace=True, percent_top=[20], log1p = True)"
   ]
  },
  {
   "cell_type": "code",
   "execution_count": null,
   "id": "b7235ad6-7348-482c-bca0-5e7e67606d21",
   "metadata": {},
   "outputs": [],
   "source": [
    "sns.displot(mdata[\"prot\"].obs.n_genes_by_counts) #distribution of ADTs per cell over all samples"
   ]
  },
  {
   "cell_type": "code",
   "execution_count": null,
   "id": "7e32a450-33a4-4ea8-bce4-49b5ba22be23",
   "metadata": {},
   "outputs": [],
   "source": [
    "sns.displot(\n",
    "    mdata[\"prot\"][mdata[\"prot\"].obs.n_genes_by_counts < 15].obs.n_genes_by_counts\n",
    ")"
   ]
  },
  {
   "cell_type": "code",
   "execution_count": null,
   "id": "b46f1870-668f-4a03-be0a-89a4a931c613",
   "metadata": {},
   "outputs": [],
   "source": [
    "sns.displot(\n",
    "    mdata[\"prot\"].obs.query(\"total_counts>20000 and total_counts<100000\").total_counts\n",
    ")"
   ]
  },
  {
   "cell_type": "code",
   "execution_count": null,
   "id": "a3ebdd90-6dc9-4b5e-b8e7-ee095aa4e168",
   "metadata": {},
   "outputs": [],
   "source": [
    "sns.displot(\n",
    "    mdata_raw[\"rna\"]\n",
    "    .obs.sample(frac=0.01)\n",
    "    .query(\"total_counts<100000 and total_counts>10\"),\n",
    "    x=\"total_counts\",\n",
    "    log_scale=True,\n",
    "    hue=\"patient_id\",\n",
    "    multiple=\"stack\",\n",
    ")"
   ]
  },
  {
   "cell_type": "code",
   "execution_count": null,
   "id": "87b3a9ae-da2b-40c4-8a0c-691c99d45828",
   "metadata": {},
   "outputs": [],
   "source": [
    "sns.displot(\n",
    "    mdata_raw[\"prot\"].obs.sample(frac=0.01).query(\"total_counts>10\"),\n",
    "    x=\"total_counts\",\n",
    "    log_scale=True,\n",
    "    hue=\"patient_id\",\n",
    "    multiple=\"stack\",\n",
    ")"
   ]
  },
  {
   "cell_type": "code",
   "execution_count": null,
   "id": "626a8f13-dd5a-46fb-8941-b7fca4252229",
   "metadata": {},
   "outputs": [],
   "source": [
    "mdata"
   ]
  },
  {
   "cell_type": "markdown",
   "id": "92c03cc5-65d8-4610-b92c-ddcab86949f2",
   "metadata": {},
   "source": [
    "## Sample-wise QC"
   ]
  },
  {
   "cell_type": "code",
   "execution_count": null,
   "id": "a3b9107e-584a-4f35-a11f-dc3b0b688a9a",
   "metadata": {},
   "outputs": [],
   "source": [
    "sc.pp.filter_cells(mdata[\"prot\"], max_counts=100000)"
   ]
  },
  {
   "cell_type": "code",
   "execution_count": null,
   "id": "fc9ab242-9397-40dc-be34-20964ef36496",
   "metadata": {},
   "outputs": [],
   "source": [
    "sns.boxplot(y=mdata[\"prot\"].obs.total_counts, x=mdata[\"prot\"].obs[\"patient_id\"])"
   ]
  },
  {
   "cell_type": "code",
   "execution_count": null,
   "id": "1dba2947-28a9-4a7c-ab51-fd2122ceefa4",
   "metadata": {},
   "outputs": [],
   "source": [
    "def is_outlier(adata, metric: str, nmads: int):\n",
    "    M = adata.obs[metric]\n",
    "    outlier = (M < np.median(M) - nmads * median_abs_deviation(M)) | (\n",
    "        np.median(M) + nmads * median_abs_deviation(M) < M\n",
    "    )\n",
    "    return outlier"
   ]
  },
  {
   "cell_type": "code",
   "execution_count": null,
   "id": "befc64d0-0a6e-4821-88da-b34cd2d5de6f",
   "metadata": {},
   "outputs": [],
   "source": [
    "outliers = []\n",
    "for sample in np.unique(mdata[\"prot\"].obs[\"patient_id\"]):\n",
    "    adata_temp = mdata[\"prot\"][mdata[\"prot\"].obs[\"patient_id\"] == sample].copy()\n",
    "    adata_temp.obs[\"outlier\"] = is_outlier(\n",
    "        adata_temp, \"log1p_total_counts\", 5\n",
    "    ) | is_outlier(adata_temp, \"log1p_n_genes_by_counts\", 5)\n",
    "    outliers.append(adata_temp.obs[\"outlier\"])\n",
    "    print(f\"{sample}: outliers {adata_temp.obs.outlier.value_counts()[True]}\")"
   ]
  },
  {
   "cell_type": "code",
   "execution_count": null,
   "id": "c504f32a-5702-44e4-aa4d-4213a571550d",
   "metadata": {},
   "outputs": [],
   "source": [
    "mdata[\"prot\"].obs[\"outliers\"] = pd.concat(outliers)"
   ]
  },
  {
   "cell_type": "code",
   "execution_count": null,
   "id": "4aaa281d-e00f-414d-91cf-55d26d989aca",
   "metadata": {},
   "outputs": [],
   "source": [
    "mdata[\"prot\"].obs.head()"
   ]
  },
  {
   "cell_type": "code",
   "execution_count": null,
   "id": "1322c03a-1493-4b50-9947-a6fa361f61dd",
   "metadata": {},
   "outputs": [],
   "source": [
    "mdata.update()"
   ]
  },
  {
   "cell_type": "code",
   "execution_count": null,
   "id": "40a8cc31-6ab6-4c9a-a277-2d9c1c9b6a10",
   "metadata": {},
   "outputs": [],
   "source": [
    "mdata = mdata[mdata.obs.loc[mdata[\"prot\"].obs_names].index]"
   ]
  },
  {
   "cell_type": "code",
   "execution_count": null,
   "id": "63d1a49e-d2a9-481d-9881-85d6192b2428",
   "metadata": {},
   "outputs": [],
   "source": [
    "mdata = mdata[mdata[\"prot\"].obs[\"outliers\"] == False]"
   ]
  },
  {
   "cell_type": "code",
   "execution_count": null,
   "id": "e6b38edd-bd6c-40f9-bf5c-572337ee20b2",
   "metadata": {},
   "outputs": [],
   "source": [
    "mdata"
   ]
  },
  {
   "cell_type": "code",
   "execution_count": null,
   "id": "591b0bd4-5f74-4889-a033-1231d563a84b",
   "metadata": {},
   "outputs": [],
   "source": [
    "sns.boxplot(y=mdata[\"prot\"].obs.total_counts, x=mdata[\"prot\"].obs[\"patient_id\"])"
   ]
  },
  {
   "cell_type": "code",
   "execution_count": null,
   "id": "adbdb05b-4c63-46df-9d93-6180d8c3dee8",
   "metadata": {},
   "outputs": [],
   "source": []
  },
  {
   "cell_type": "markdown",
   "id": "8f7fddd4-985c-4cfe-9a72-78260ff05ffe",
   "metadata": {},
   "source": [
    "## normalization"
   ]
  },
  {
   "cell_type": "code",
   "execution_count": null,
   "id": "bec04982-f693-4ebe-9e52-ff41aa0abc5f",
   "metadata": {},
   "outputs": [],
   "source": [
    "mdata[\"prot\"].layers[\"counts\"] = mdata[\"prot\"].X"
   ]
  },
  {
   "cell_type": "code",
   "execution_count": null,
   "id": "2502bce2-bcdf-48bd-8758-39154c4da3f5",
   "metadata": {},
   "outputs": [],
   "source": [
    "#mdata.write(\"abseq_before_dsb_norm.h5mu\")"
   ]
  },
  {
   "cell_type": "code",
   "execution_count": null,
   "id": "8010ddcf-b1b5-4609-b2f6-9cf3b351349c",
   "metadata": {},
   "outputs": [],
   "source": [
    "mdata[\"prot\"].X = mdata[\"prot\"].layers[\"counts\"]"
   ]
  },
  {
   "cell_type": "code",
   "execution_count": null,
   "id": "888d88fd-c901-4f83-8fec-2b4b2b9f936b",
   "metadata": {},
   "outputs": [],
   "source": [
    "mu.prot.pp.dsb(mdata, mdata_raw, add_layer= \"dsb_norm\")"
   ]
  },
  {
   "cell_type": "code",
   "execution_count": null,
   "id": "27794070-27a0-4969-9940-be8d312e8fe5",
   "metadata": {},
   "outputs": [],
   "source": [
    "mdata.write(\"abseq_dsb_norm.h5mu\")"
   ]
  },
  {
   "cell_type": "code",
   "execution_count": null,
   "id": "9250abfe-616c-429d-b6e7-48f9b6d5f041",
   "metadata": {},
   "outputs": [],
   "source": [
    "mdata= mu.read(\"abseq_dsb_norm.h5mu\")"
   ]
  },
  {
   "cell_type": "markdown",
   "id": "bad70ec5-4e6d-4867-901d-b5fe84a10885",
   "metadata": {},
   "source": [
    "## doublet detection \n"
   ]
  },
  {
   "cell_type": "code",
   "execution_count": null,
   "id": "bedc6170-9408-419c-98be-1add9edb57c2",
   "metadata": {},
   "outputs": [],
   "source": [
    "# not sure how to filter doublets "
   ]
  },
  {
   "cell_type": "code",
   "execution_count": null,
   "id": "179cfbe7-27a2-4547-9d7d-86d6c6acd280",
   "metadata": {},
   "outputs": [],
   "source": [
    "#cell type markers that are mutually exclusive "
   ]
  },
  {
   "cell_type": "code",
   "execution_count": null,
   "id": "8ae9477c-a7af-4444-9884-5c42cecb475c",
   "metadata": {},
   "outputs": [],
   "source": [
    "#relabel ab \n",
    "mdata[\"prot\"].var.index =  [gene.split(':')[0].split('|')[0] for gene in mdata[\"prot\"].var.index]"
   ]
  },
  {
   "cell_type": "code",
   "execution_count": null,
   "id": "e4430cec-dfdd-4a30-a2e9-32a703549c72",
   "metadata": {},
   "outputs": [],
   "source": [
    "#sc.pl.scatter(mdata[\"prot\"], x=\"CD3\", y=\"CD14\", color=\"log1p_total_counts\")"
   ]
  },
  {
   "cell_type": "code",
   "execution_count": null,
   "id": "0af24ccd-747c-485e-ab1a-25627d6076a8",
   "metadata": {},
   "outputs": [],
   "source": [
    "#sc.pl.scatter(mdata[\"prot\"], x=\"CD4\", y=\"HLA-DR\", color=\"log1p_total_counts\")"
   ]
  },
  {
   "cell_type": "code",
   "execution_count": null,
   "id": "7fc7b9eb-1dd9-4df6-897e-306d169f7d1a",
   "metadata": {},
   "outputs": [],
   "source": [
    "#sc.pl.scatter(mdata[\"prot\"], x=\"CD4\", y=\"CD8\", color=\"log1p_total_counts\")"
   ]
  },
  {
   "cell_type": "code",
   "execution_count": null,
   "id": "1b54bac1-4ab3-43aa-84f3-2a63c2c3400c",
   "metadata": {},
   "outputs": [],
   "source": [
    "genes2filter = [\"CD3\", \"CD14\"]\n",
    "temp = mdata[\"prot\"][:, genes2filter].X.T.tolist()"
   ]
  },
  {
   "cell_type": "code",
   "execution_count": null,
   "id": "1d689340-a857-4ca8-8cb5-933d59653592",
   "metadata": {},
   "outputs": [],
   "source": [
    "mdata[\"prot\"].obs[\"doublets_markers\"] = [(temp[0][i] > 2.5 and temp[1][i] > 2.5) or (temp[0][i] > 2.5 and temp[1][i] > 2.5)for i in range(mdata.shape[0])]\n",
    "mdata[\"prot\"].obs[\"doublets_markers\"] = (mdata[\"prot\"].obs[\"doublets_markers\"].astype(str))"
   ]
  },
  {
   "cell_type": "code",
   "execution_count": null,
   "id": "63992ba7-50aa-46e2-b4b1-66403fc680fc",
   "metadata": {},
   "outputs": [],
   "source": [
    "sc.pl.violin(mdata[\"prot\"], keys=\"log1p_total_counts\", groupby=\"doublets_markers\")"
   ]
  },
  {
   "cell_type": "code",
   "execution_count": null,
   "id": "6ac6890e-beb6-4dff-b86e-756c42b2078a",
   "metadata": {},
   "outputs": [],
   "source": [
    "mdata[\"prot\"].obs.doublets_markers.value_counts()"
   ]
  },
  {
   "cell_type": "code",
   "execution_count": null,
   "id": "efc635a9-518b-4ac0-b0c9-992f7647fdfd",
   "metadata": {},
   "outputs": [],
   "source": [
    "mdata.update()"
   ]
  },
  {
   "cell_type": "code",
   "execution_count": null,
   "id": "d56b8dd2-c641-4ed0-9257-6c8c00067d2f",
   "metadata": {},
   "outputs": [],
   "source": [
    "mdata = mdata[mdata.obs.loc[mdata[\"prot\"].obs_names].index]"
   ]
  },
  {
   "cell_type": "code",
   "execution_count": null,
   "id": "c65d2e4e-d0cc-4b87-b9e7-bfa3f9ccc09f",
   "metadata": {},
   "outputs": [],
   "source": [
    "mdata = mdata[mdata[\"prot\"].obs[\"doublets_markers\"] == \"False\"].copy()"
   ]
  },
  {
   "cell_type": "code",
   "execution_count": null,
   "id": "c654495f-254e-4bf6-8c76-e401c39bef31",
   "metadata": {},
   "outputs": [],
   "source": [
    "mdata"
   ]
  },
  {
   "cell_type": "markdown",
   "id": "0c0f8357-463e-40ca-bad7-72756d503ebd",
   "metadata": {},
   "source": [
    "## Dimensionality reduction: PCA and UMAP"
   ]
  },
  {
   "cell_type": "code",
   "execution_count": null,
   "id": "0797492e-3a74-4817-ab5e-524be9ec1923",
   "metadata": {},
   "outputs": [],
   "source": [
    "sc.pp.pca(mdata[\"prot\"], svd_solver=\"arpack\")"
   ]
  },
  {
   "cell_type": "code",
   "execution_count": null,
   "id": "aaf91eba-3537-486e-850f-7f33710add25",
   "metadata": {},
   "outputs": [],
   "source": [
    "sc.pl.pca_variance_ratio(mdata[\"prot\"], n_pcs=50)"
   ]
  },
  {
   "cell_type": "code",
   "execution_count": null,
   "id": "7e4a2e47-9305-4fd8-ae9f-486fffb14dbf",
   "metadata": {},
   "outputs": [],
   "source": [
    "sc.pp.neighbors(mdata[\"prot\"], n_pcs=20)"
   ]
  },
  {
   "cell_type": "code",
   "execution_count": null,
   "id": "dae6f825-40d5-4d6e-ae0a-31c28e672267",
   "metadata": {},
   "outputs": [],
   "source": [
    "sc.tl.umap(mdata[\"prot\"])"
   ]
  },
  {
   "cell_type": "code",
   "execution_count": null,
   "id": "78963b47-49c1-41b7-a7a7-c04292f0a04c",
   "metadata": {},
   "outputs": [],
   "source": [
    "sc.pl.umap(mdata[\"prot\"], color=[\"CD4\", \"CD8\", \"CD3\"])\n",
    "sc.pl.umap(mdata[\"prot\"], color=[\"CD14\", \"CD16\"])"
   ]
  },
  {
   "cell_type": "code",
   "execution_count": null,
   "id": "aa35b144-8e06-48ff-ba46-76a1df6fcf0b",
   "metadata": {},
   "outputs": [],
   "source": [
    "sc.pl.umap(mdata[\"prot\"], color=[\"patient_id\")"
   ]
  },
  {
   "cell_type": "code",
   "execution_count": null,
   "id": "f1f375d1-7640-4b19-a80e-5d095cf65bcc",
   "metadata": {},
   "outputs": [],
   "source": [
    "ab_list  = list(mdata[\"prot\"].var.index)"
   ]
  },
  {
   "cell_type": "code",
   "execution_count": null,
   "id": "168b456e-1aa2-43df-81a3-87d398ef5154",
   "metadata": {},
   "outputs": [],
   "source": [
    "sc.pl.umap(mdata[\"prot\"], color=ab_list)"
   ]
  },
  {
   "cell_type": "code",
   "execution_count": null,
   "id": "d04c8fe4-273f-4200-b8b5-9bbca156b9d7",
   "metadata": {},
   "outputs": [],
   "source": [
    "## Batch correction"
   ]
  },
  {
   "cell_type": "code",
   "execution_count": null,
   "id": "b0f5754d-26ac-42c4-846f-1cd3542f4a59",
   "metadata": {},
   "outputs": [],
   "source": [
    "import harmonypy as hm\n",
    "import pooch"
   ]
  },
  {
   "cell_type": "code",
   "execution_count": null,
   "id": "522f2380-71b8-483e-b189-7afb82bda911",
   "metadata": {},
   "outputs": [],
   "source": [
    "ho = hm.run_harmony(mdata[\"prot\"].X, mdata[\"prot\"].obs, [\"patient_id\"])"
   ]
  },
  {
   "cell_type": "code",
   "execution_count": null,
   "id": "6ef67789-ab1b-4783-81e8-690d4a40fa9d",
   "metadata": {},
   "outputs": [],
   "source": []
  },
  {
   "cell_type": "markdown",
   "id": "fffb5204-12e5-40a1-9078-3043116f9903",
   "metadata": {},
   "source": [
    "## CITE-seq analysis with totalVI"
   ]
  },
  {
   "cell_type": "code",
   "execution_count": null,
   "id": "0567b283-c73d-45d2-85ca-32f002540003",
   "metadata": {},
   "outputs": [],
   "source": [
    "mdata_copy.mod[\"rna_subset\"] = mdata_copy.mod[\"rna\"][:, mdata_copy.mod[\"rna\"].var[\"highly_variable\"]].copy()"
   ]
  },
  {
   "cell_type": "code",
   "execution_count": null,
   "id": "0aea337f-109c-43ee-b3fd-0ab501538273",
   "metadata": {},
   "outputs": [],
   "source": []
  },
  {
   "cell_type": "code",
   "execution_count": null,
   "id": "38459900-5cb4-4481-af6e-7b62de49a778",
   "metadata": {},
   "outputs": [],
   "source": []
  },
  {
   "cell_type": "code",
   "execution_count": null,
   "id": "b67d38c5-8cf8-4269-923c-75471060ff1c",
   "metadata": {},
   "outputs": [],
   "source": []
  },
  {
   "cell_type": "code",
   "execution_count": null,
   "id": "82d50b0a-112e-48d3-af80-912955b1313e",
   "metadata": {},
   "outputs": [],
   "source": []
  },
  {
   "cell_type": "code",
   "execution_count": null,
   "id": "fc25b990-4eb2-4f2c-8480-ece1fbd2ebb4",
   "metadata": {},
   "outputs": [],
   "source": [
    "## arnold lab"
   ]
  },
  {
   "cell_type": "code",
   "execution_count": null,
   "id": "4a2ad6ae-e5e5-4b5c-92fe-b45ac443d0f1",
   "metadata": {},
   "outputs": [],
   "source": [
    "adata_arnold_ss_eos = adata_arnold[adata_arnold.obs.anno1 = \"Eosinophils\"]"
   ]
  },
  {
   "cell_type": "code",
   "execution_count": null,
   "id": "88e3c704-3cee-4d5d-aff1-22ae9fea3ebf",
   "metadata": {},
   "outputs": [],
   "source": []
  }
 ],
 "metadata": {
  "kernelspec": {
   "display_name": "BD_Rhapsody_2.0_2024",
   "language": "python",
   "name": "bd_rhapsody_2.0_2024"
  },
  "language_info": {
   "codemirror_mode": {
    "name": "ipython",
    "version": 3
   },
   "file_extension": ".py",
   "mimetype": "text/x-python",
   "name": "python",
   "nbconvert_exporter": "python",
   "pygments_lexer": "ipython3",
   "version": "3.12.1"
  }
 },
 "nbformat": 4,
 "nbformat_minor": 5
}
