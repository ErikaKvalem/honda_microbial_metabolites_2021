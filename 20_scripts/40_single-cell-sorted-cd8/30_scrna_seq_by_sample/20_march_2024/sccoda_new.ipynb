{
 "cells": [
  {
   "cell_type": "code",
   "execution_count": null,
   "id": "0e45d254-1b1f-4618-8c8d-4dfc6b61f152",
   "metadata": {},
   "outputs": [],
   "source": []
  },
  {
   "cell_type": "code",
   "execution_count": null,
   "id": "a16bd4c1-ef2f-4e23-b88c-b084b70da873",
   "metadata": {},
   "outputs": [],
   "source": [
    "import scanpy as sc"
   ]
  },
  {
   "cell_type": "code",
   "execution_count": null,
   "id": "e32a0ec6-25ab-4a31-8b3e-b51fbc753c64",
   "metadata": {},
   "outputs": [],
   "source": [
    "import sccoda.util.cell_composition_data as scc_dat\n",
    "import sccoda.util.data_visualization as scc_viz"
   ]
  },
  {
   "cell_type": "code",
   "execution_count": null,
   "id": "374ea39d-96f1-4c26-abec-b717c8c4012f",
   "metadata": {},
   "outputs": [],
   "source": [
    "adata_qc = sc.read_h5ad(\"mdata_qc.h5ad\")"
   ]
  },
  {
   "cell_type": "code",
   "execution_count": null,
   "id": "2a22339e-1ed2-41f0-a322-63b2ce528ab2",
   "metadata": {},
   "outputs": [],
   "source": [
    "adata_qc.obs"
   ]
  },
  {
   "cell_type": "code",
   "execution_count": null,
   "id": "1315639d-d5e0-410a-91ac-fd2248ab8101",
   "metadata": {},
   "outputs": [],
   "source": [
    "adata = adata_qc"
   ]
  },
  {
   "cell_type": "code",
   "execution_count": null,
   "id": "44bf0dd5-64cd-42d0-905c-64f8e91714e1",
   "metadata": {},
   "outputs": [],
   "source": [
    "adata.obs.rename(columns={\"condition\":\"treatment\"}, inplace = True)"
   ]
  },
  {
   "cell_type": "code",
   "execution_count": null,
   "id": "e21aed48-1123-4ca1-822d-bf303b6e369f",
   "metadata": {},
   "outputs": [],
   "source": [
    "frac_by_condition = (\n",
    "    adata.obs.groupby([\"group\",\"sample\",\"treatment\"])\n",
    "    .apply(lambda x: x.value_counts(\"cell_type_coarse\", normalize=False))\n",
    "    .reset_index(name=\"n_cells\")\n",
    "    .assign(condition=lambda x: x[\"group\"].astype(str))\n",
    ")\n"
   ]
  },
  {
   "cell_type": "code",
   "execution_count": null,
   "id": "7501bd11-fd98-4263-a31d-b0fb3cdf8693",
   "metadata": {},
   "outputs": [],
   "source": [
    "frac_by_condition = frac_by_condition[frac_by_condition['cell_type_anno'] != 'Undefined']"
   ]
  },
  {
   "cell_type": "code",
   "execution_count": null,
   "id": "9254405b-24c1-4612-b2bd-8b796376b9be",
   "metadata": {},
   "outputs": [],
   "source": [
    "frac_by_condition = frac_by_condition[frac_by_condition['cell_type_anno'] != 'Stress response T-cells']"
   ]
  },
  {
   "cell_type": "code",
   "execution_count": null,
   "id": "3a5fae19-2894-4ad1-91c0-0aac9b12806a",
   "metadata": {},
   "outputs": [],
   "source": [
    "frac_by_condition = frac_by_condition[frac_by_condition['condition'] != 'GF-plus']"
   ]
  },
  {
   "cell_type": "code",
   "execution_count": null,
   "id": "c4723a80-2f00-46c4-b68c-a2488ede22cf",
   "metadata": {},
   "outputs": [],
   "source": [
    "frac_by_condition = frac_by_condition[frac_by_condition['treatment'] != 'No ICI']"
   ]
  },
  {
   "cell_type": "code",
   "execution_count": null,
   "id": "da143925-a705-45ac-906a-c84f8dcbc6ca",
   "metadata": {},
   "outputs": [],
   "source": [
    "frac_by_condition = frac_by_condition[frac_by_condition['treatment'] == 'naive']"
   ]
  },
  {
   "cell_type": "code",
   "execution_count": null,
   "id": "78cd4840-c3f6-401b-bd28-a95404b8d860",
   "metadata": {},
   "outputs": [],
   "source": [
    "frac_by_condition"
   ]
  },
  {
   "cell_type": "code",
   "execution_count": null,
   "id": "ceb398fd-5467-4b93-bee8-e7b482509d27",
   "metadata": {},
   "outputs": [],
   "source": [
    "set(frac_by_condition.condition)"
   ]
  },
  {
   "cell_type": "code",
   "execution_count": null,
   "id": "96c36e1d-3489-4d9a-920e-9024dd0a428e",
   "metadata": {
    "tags": []
   },
   "outputs": [],
   "source": [
    "frac_pivot = (\n",
    "    frac_by_condition.pivot(\n",
    "        index=[\"group\", \"treatment\",\"sample\"],\n",
    "        columns=\"cell_type_coarse\",\n",
    "        values=\"n_cells\",\n",
    "    )\n",
    "    .reset_index()\n",
    "    #.drop(columns=\"other\")\n",
    ")\n"
   ]
  },
  {
   "cell_type": "code",
   "execution_count": null,
   "id": "babe0f34-a1c5-47b5-ab9c-2eacfbde928c",
   "metadata": {},
   "outputs": [],
   "source": [
    "data_all = scc_dat.from_pandas(\n",
    "    frac_pivot, covariate_columns=[\"group\", \"treatment\",\"sample\"]\n",
    ")"
   ]
  },
  {
   "cell_type": "code",
   "execution_count": null,
   "id": "0a34418c-ecec-4d51-956f-39cf4ac07079",
   "metadata": {},
   "outputs": [],
   "source": [
    "import pandas as pd"
   ]
  },
  {
   "cell_type": "code",
   "execution_count": null,
   "id": "6bdbdcac-2dfe-4937-a567-2225d6265a02",
   "metadata": {},
   "outputs": [],
   "source": [
    "data_all.obs[\"group\"] = pd.Categorical(\n",
    "    data_all.obs[\"group\"], categories=['10mix', '11mix','GF']\n",
    ")"
   ]
  },
  {
   "cell_type": "code",
   "execution_count": null,
   "id": "4ecdedb2-c358-4d36-a506-09bcdb606071",
   "metadata": {},
   "outputs": [],
   "source": [
    "data_all.obs[\"treatment\"] = pd.Categorical(\n",
    "    data_all.obs[\"treatment\"], categories=['naive']\n",
    ")"
   ]
  },
  {
   "cell_type": "code",
   "execution_count": null,
   "id": "ca134231-fad8-4560-a0c4-bb16dd2cf8ef",
   "metadata": {},
   "outputs": [],
   "source": [
    "data_all._sanitize()"
   ]
  },
  {
   "cell_type": "code",
   "execution_count": null,
   "id": "68c56241-a341-4783-bd79-9a79c1633101",
   "metadata": {},
   "outputs": [],
   "source": [
    "scc_viz.boxplots(data_all, feature_name=\"group\", figsize=(12, 5), cmap = \"inferno\")\n",
    "\n",
    "#plt.savefig( \"figures/cell_proportion_tumor_and_normal_sex.png\")\n"
   ]
  },
  {
   "cell_type": "code",
   "execution_count": null,
   "id": "b62dc831-003c-4d89-8e59-14597079f5e3",
   "metadata": {},
   "outputs": [],
   "source": [
    "scc_viz.boxplots(data_all, feature_name=\"treatment\", figsize=(12, 5), cmap = \"inferno\")\n",
    "\n",
    "#plt.savefig( \"figures/cell_proportion_tumor_and_normal_sex.png\")\n"
   ]
  },
  {
   "cell_type": "code",
   "execution_count": null,
   "id": "1c1119c1-8491-4979-ba87-374f43d8054d",
   "metadata": {},
   "outputs": [],
   "source": [
    "Tnaive - Ltb\",\"Sell\",\"Lef1\",\"Nosip\n",
    "Tex - Cxcr6\",\"Gzmb\",\"Havcr2\",\"Ctla4\"\n",
    "Tsen - Plcg2\",\"Igkc\",\"Klrk1\",\"Slamf7\"\n",
    "Tifn \"Isg15\",\"Ifit3\",\"Ifit1\",\"Stat1\" \n"
   ]
  },
  {
   "cell_type": "code",
   "execution_count": null,
   "id": "6afa73ed-b073-48ef-81bf-3c9ee76bfe4c",
   "metadata": {},
   "outputs": [],
   "source": [
    "scc_viz.stacked_barplot(data_all, feature_name=\"group\")\n"
   ]
  },
  {
   "cell_type": "code",
   "execution_count": null,
   "id": "d62e274d-5f22-4c57-bd25-92b0a24db619",
   "metadata": {},
   "outputs": [],
   "source": [
    "scc_viz.stacked_barplot(data_all, feature_name=\"group\")\n"
   ]
  },
  {
   "cell_type": "code",
   "execution_count": null,
   "id": "e7dd4894-1241-43d6-949a-3a18e3cd31d7",
   "metadata": {},
   "outputs": [],
   "source": [
    "scc_viz.stacked_barplot(data_all, feature_name=\"sample\")"
   ]
  },
  {
   "cell_type": "code",
   "execution_count": null,
   "id": "0fe622cb-9542-45bf-abaf-3c4bc804a69c",
   "metadata": {},
   "outputs": [],
   "source": []
  },
  {
   "cell_type": "code",
   "execution_count": null,
   "id": "5735b4f5-32e1-4159-8c78-5d2d2fac2263",
   "metadata": {},
   "outputs": [],
   "source": []
  }
 ],
 "metadata": {
  "kernelspec": {
   "display_name": "nsclc_gender_atlas_23",
   "language": "python",
   "name": "nsclc_gender_atlas_23"
  },
  "language_info": {
   "codemirror_mode": {
    "name": "ipython",
    "version": 3
   },
   "file_extension": ".py",
   "mimetype": "text/x-python",
   "name": "python",
   "nbconvert_exporter": "python",
   "pygments_lexer": "ipython3",
   "version": "3.9.16"
  }
 },
 "nbformat": 4,
 "nbformat_minor": 5
}
