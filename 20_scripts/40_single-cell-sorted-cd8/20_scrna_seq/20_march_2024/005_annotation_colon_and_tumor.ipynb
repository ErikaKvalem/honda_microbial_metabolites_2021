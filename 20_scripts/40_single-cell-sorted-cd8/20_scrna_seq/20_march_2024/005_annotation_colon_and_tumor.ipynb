{
 "cells": [
  {
   "cell_type": "code",
   "execution_count": null,
   "id": "22df6f48-f340-4d53-9af5-6a7ddb726ab7",
   "metadata": {},
   "outputs": [],
   "source": [
    "import scvi"
   ]
  },
  {
   "cell_type": "code",
   "execution_count": null,
   "id": "354e9300-c83c-4a43-922d-5bf84898a5d5",
   "metadata": {},
   "outputs": [],
   "source": [
    "#import scanpy_helpers as sh"
   ]
  },
  {
   "cell_type": "code",
   "execution_count": null,
   "id": "c487f98d-b7ec-4d33-b3a3-42ea074e9d74",
   "metadata": {},
   "outputs": [],
   "source": [
    "# Python packages\n",
    "#import scanpy as sc\n",
    "\n",
    "import numpy as np\n",
    "import pandas as pd\n",
    "import matplotlib.pyplot as plt\n",
    "import matplotlib\n",
    "import seaborn as sns\n",
    "import  decoupler as dc"
   ]
  },
  {
   "cell_type": "code",
   "execution_count": null,
   "id": "ef8bb1ca-7368-4d40-89df-a2e707c6dc70",
   "metadata": {
    "tags": []
   },
   "outputs": [],
   "source": [
    "path = \"/data/projects/2021/MicrobialMetabolites/single-cell-sorted-cd8/results/solo\""
   ]
  },
  {
   "cell_type": "code",
   "execution_count": null,
   "id": "e6e0667a-24ce-4d3f-8e13-a7d5add52f7f",
   "metadata": {},
   "outputs": [],
   "source": [
    "adata_solo = scvi.data.read_h5ad(f\"{path}/adata_nodoublet.h5ad\")"
   ]
  },
  {
   "cell_type": "code",
   "execution_count": null,
   "id": "3e64e108-6969-45d3-a5f6-6ba0e833176e",
   "metadata": {},
   "outputs": [],
   "source": [
    "def update_columns(row):\n",
    "   \n",
    "    if \"ICI\" not in row['sample_id']:\n",
    "        row['origin'] = \"colon\"\n",
    "    else:\n",
    "         row['origin'] = \"til\"\n",
    "        \n",
    "    return row\n",
    "\n",
    "# Apply the function to each row in the DataFrame\n",
    "adata_solo.obs = adata_solo.obs.apply(update_columns, axis=1)"
   ]
  },
  {
   "cell_type": "code",
   "execution_count": null,
   "id": "18f41ddb-abd5-4406-b750-3c30f9d09dd0",
   "metadata": {},
   "outputs": [],
   "source": [
    "def update_columns(row):\n",
    "   \n",
    "    if \"ICI1\"  in row['sample_id']:\n",
    "        row['batch_id'] = \"ICI1\"\n",
    "    elif \"ICI2\" in row['sample_id']:\n",
    "         row['batch_id'] = \"ICI2\"\n",
    "    elif row['sample_id'] == \"10mix1\":\n",
    "        row['batch_id'] = \"1\"\n",
    "    elif row['sample_id'] == \"10mix2\":\n",
    "         row['batch_id'] = \"2\"\n",
    "        \n",
    "        \n",
    "    return row\n",
    "\n",
    "# Apply the function to each row in the DataFrame\n",
    "adata_solo.obs = adata_solo.obs.apply(update_columns, axis=1)"
   ]
  },
  {
   "cell_type": "code",
   "execution_count": null,
   "id": "205a538e-d84a-4c33-b16d-99c7b45269e0",
   "metadata": {
    "tags": []
   },
   "outputs": [],
   "source": [
    "def update_columns(row):\n",
    "   \n",
    "    if row['sample_id'] == \"10mix1\":\n",
    "        row['condition'] = \"10mix\"\n",
    "    elif row['sample_id'] == \"10mix2\":\n",
    "         row['condition'] = \"10mix\"\n",
    "    elif row['sample_id'] == \"11mix1\":\n",
    "         row['condition'] = \"11mix\"\n",
    "    elif row['sample_id'] == \"11mix2\":\n",
    "         row['condition'] = \"11mix\"\n",
    "    elif row['sample_id'] == \"GF1\":\n",
    "         row['condition'] = \"GF\"\n",
    "    elif row['sample_id'] == \"GF2\":\n",
    "         row['condition'] = \"GF\"\n",
    "    elif row['sample_id'] == \"GF-ICI2-plus\":\n",
    "         row['condition'] = \"GF-plus\"\n",
    "    elif row['sample_id'] == \"GF-ICI1-plus\":\n",
    "         row['condition'] = \"GF-plus\"\n",
    "    elif row['sample_id'] == \"GF-ICI2\":\n",
    "         row['condition'] = \"GF\"\n",
    "    elif row['sample_id'] == \"GF-ICI1\":\n",
    "         row['condition'] = \"GF\"\n",
    "    elif row['sample_id'] == \"10mix-ICI1\":\n",
    "         row['condition'] = \"10mix\"\n",
    "    elif row['sample_id'] == \"10mix-ICI2\":\n",
    "         row['condition'] = \"10mix\"\n",
    "    elif row['sample_id'] == \"11mix-ICI1\":\n",
    "         row['condition'] = \"11mix\"\n",
    "    elif row['sample_id'] == \"11mix-ICI2\":\n",
    "         row['condition'] = \"11mix\"\n",
    "    \n",
    "    \n",
    "        \n",
    "        \n",
    "    return row\n",
    "\n",
    "# Apply the function to each row in the DataFrame\n",
    "adata_solo.obs = adata_solo.obs.apply(update_columns, axis=1)"
   ]
  },
  {
   "cell_type": "code",
   "execution_count": null,
   "id": "ccb86bfb-63a6-4f04-bc33-3917afffcd84",
   "metadata": {},
   "outputs": [],
   "source": [
    "adata_solo.obs[[\"batch_id\",\"sample_id\",\"origin\",\"condition\"]]"
   ]
  },
  {
   "cell_type": "code",
   "execution_count": null,
   "id": "ce18bb51-b4ae-4fd9-8ee1-1e8d888c7f91",
   "metadata": {},
   "outputs": [],
   "source": [
    "adata_solo.obs.sample_id.value_counts()"
   ]
  },
  {
   "cell_type": "code",
   "execution_count": null,
   "id": "0b6509c5-21f7-4ffc-b6e7-4c8c03e922a2",
   "metadata": {},
   "outputs": [],
   "source": [
    "adata_solo.obs"
   ]
  },
  {
   "cell_type": "code",
   "execution_count": null,
   "id": "1b1d943e-85cc-4240-9bdc-b2129a87ee1d",
   "metadata": {},
   "outputs": [],
   "source": [
    "adata_solo"
   ]
  },
  {
   "cell_type": "code",
   "execution_count": null,
   "id": "66db5e4b-aaa9-48f0-97e0-d4a1a449f88e",
   "metadata": {},
   "outputs": [],
   "source": [
    "pdata = dc.get_pseudobulk(\n",
    "    adata_solo,\n",
    "    sample_col='sample_id',\n",
    "    groups_col='leiden',\n",
    "    layer='logcounts',\n",
    "    mode='sum',\n",
    "    min_cells=0,\n",
    "    min_counts=0\n",
    ")\n",
    "pdata"
   ]
  },
  {
   "cell_type": "code",
   "execution_count": null,
   "id": "575b0513-55fe-436e-8310-de6455ebe767",
   "metadata": {},
   "outputs": [],
   "source": [
    "pdata.obs"
   ]
  },
  {
   "cell_type": "code",
   "execution_count": null,
   "id": "56627f4d-191f-449f-8817-514d37857841",
   "metadata": {},
   "outputs": [],
   "source": [
    "for col in pdata.obs.columns:\n",
    "    if pdata.obs[col].dtype == 'object':\n",
    "        pdata.obs[col] = pd.to_numeric(pdata.obs[col], errors='coerce')"
   ]
  },
  {
   "cell_type": "code",
   "execution_count": null,
   "id": "2166cd04-7cb5-4f7a-94e8-4ee38b65d182",
   "metadata": {},
   "outputs": [],
   "source": [
    "pdata.write('pseudobulk.h5ad')"
   ]
  },
  {
   "cell_type": "code",
   "execution_count": null,
   "id": "48811031-d9f1-4828-bae7-93d0ba581976",
   "metadata": {},
   "outputs": [],
   "source": [
    "import scanpy as sc"
   ]
  },
  {
   "cell_type": "code",
   "execution_count": null,
   "id": "d790eb16-58d8-4b16-84f2-d72e1db225fe",
   "metadata": {
    "tags": []
   },
   "outputs": [],
   "source": [
    "sc.tl.rank_genes_groups(pdata, 'leiden', method='wilcoxon')"
   ]
  },
  {
   "cell_type": "code",
   "execution_count": null,
   "id": "85176a9a-5324-444a-b2f4-8dfc06dc597b",
   "metadata": {},
   "outputs": [],
   "source": [
    "sc.tl.rank_genes_groups(pb, groupby=\"leiden\", method=\"wilcoxon\")"
   ]
  },
  {
   "cell_type": "code",
   "execution_count": null,
   "id": "99713fe2-eb10-47f3-aabe-497b189054a6",
   "metadata": {},
   "outputs": [],
   "source": [
    "pb"
   ]
  },
  {
   "cell_type": "code",
   "execution_count": null,
   "id": "f7add151-7d59-4463-9ab1-ab0a53de77cd",
   "metadata": {},
   "outputs": [],
   "source": [
    "with plt.rc_context({\"figure.figsize\": (12, 4)}):\n",
    "    sc.pl.rank_genes_groups(pb, n_genes=50, save = \"rank_genes.pdf\")"
   ]
  },
  {
   "cell_type": "code",
   "execution_count": null,
   "id": "f7c5695c-35bf-48fb-b25e-44101e445174",
   "metadata": {},
   "outputs": [],
   "source": [
    "gene_list_ranked = sc.get.rank_genes_groups_df(adata_m, group=\"4\", key=\"dea_leiden_filtered\", gene_symbols=\"gene_symbols\").dropna().head(50)\n",
    "display(gene_list_ranked[[\"gene_symbols\", \"pvals_adj\"]])"
   ]
  },
  {
   "cell_type": "code",
   "execution_count": null,
   "id": "038321b6-4cd4-430e-a085-aada55c627c7",
   "metadata": {},
   "outputs": [],
   "source": [
    "pb.uns[\"rank_genes_groups\"][\"names\"][6]"
   ]
  },
  {
   "cell_type": "code",
   "execution_count": null,
   "id": "8bf59a7e-a81f-4aa4-8fb3-501dda026978",
   "metadata": {},
   "outputs": [],
   "source": []
  },
  {
   "cell_type": "code",
   "execution_count": null,
   "id": "7d98bf87-4297-4a5d-aea8-861dbcf15427",
   "metadata": {},
   "outputs": [],
   "source": [
    "mapping = {'Tex':['Rhoc', 'Cox7a2l', 'Supt4a', 'Fus', 'Ldha', 'Tle5', 'Grwd1'],\n",
    " 'Tn': ['Emd', 'Tmem108', 'Dusp2', 'Hspa5', 'Actg1', 'Cmip', 'Wdr4'],\n",
    " 'Tisg':['Grb7', 'Ldlrap1', 'Cdc42ep3', 'Os9', 'Actb', 'Csnk1g2', 'Dkc1'],\n",
    " 'Tsen':['Borcs8', 'Sell', 'Cxcr3', 'March6', 'Hnrnpa2b1', 'Prex1', 'Tomm5'],\n",
    " 'Tstr':['Nudt18', 'Rps27rt', 'Gzma', 'Rev3l', 'Calm1', 'Foxo1', 'Polr1b'],\n",
    " 'Trm':['Tstd3', 'Dapl1', 'Cotl1', 'Sptbn1', 'Fxyd5', 'Kansl1', 'Txnl4a'],\n",
    " 'Tstr':['Snrnp25', 'Rgs10', 'S1pr4', 'Lbr', 'Myl6', 'Zdhhc18', 'Anp32e']}"
   ]
  },
  {
   "cell_type": "code",
   "execution_count": null,
   "id": "36d09ac3-7923-45ae-8555-5e38eba157c8",
   "metadata": {},
   "outputs": [],
   "source": []
  },
  {
   "cell_type": "code",
   "execution_count": null,
   "id": "93096407-251f-4f81-801e-3bb03847ce8e",
   "metadata": {},
   "outputs": [],
   "source": [
    "#CXL10  - ENSG00000169245\n",
    "# cxcl9 - ENSG00000138755\n",
    "# cxcl1 -  ENSG00000163739\n",
    "# cxcl2  -  ENSG00000081041 \n",
    "#TNFalpha  -  ENSG00000118503 (not sure) "
   ]
  }
 ],
 "metadata": {
  "kernelspec": {
   "display_name": "crc_atlas",
   "language": "python",
   "name": "crc_atlas"
  },
  "language_info": {
   "codemirror_mode": {
    "name": "ipython",
    "version": 3
   },
   "file_extension": ".py",
   "mimetype": "text/x-python",
   "name": "python",
   "nbconvert_exporter": "python",
   "pygments_lexer": "ipython3",
   "version": "3.11.6"
  }
 },
 "nbformat": 4,
 "nbformat_minor": 5
}
