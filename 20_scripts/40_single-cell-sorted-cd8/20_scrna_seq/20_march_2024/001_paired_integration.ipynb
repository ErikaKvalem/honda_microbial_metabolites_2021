{
 "cells": [
  {
   "cell_type": "code",
   "execution_count": null,
   "id": "0e14e798-e7cf-4c17-a481-930001928634",
   "metadata": {},
   "outputs": [],
   "source": [
    "import scanpy as sc"
   ]
  },
  {
   "cell_type": "code",
   "execution_count": null,
   "id": "b49a7b5d-d556-4bea-ab7a-67286c6de61b",
   "metadata": {},
   "outputs": [],
   "source": [
    "import anndata as ad"
   ]
  },
  {
   "cell_type": "code",
   "execution_count": null,
   "id": "8ba88213-5b24-4ddd-890b-28d7c5f628b3",
   "metadata": {},
   "outputs": [],
   "source": [
    "import pandas as pd"
   ]
  },
  {
   "cell_type": "code",
   "execution_count": null,
   "id": "aa5912f2-c9fd-4155-8d31-a15ae05822d0",
   "metadata": {},
   "outputs": [],
   "source": [
    "import sc_atlas_helpers as ah"
   ]
  },
  {
   "cell_type": "code",
   "execution_count": null,
   "id": "a31caae7-0de4-4763-989b-764ec1f804bb",
   "metadata": {
    "tags": []
   },
   "outputs": [],
   "source": [
    "path = \"/data/projects/2021/MicrobialMetabolites/single-cell-sorted-cd8/results/solo\""
   ]
  },
  {
   "cell_type": "code",
   "execution_count": null,
   "id": "b489e68f-e31d-423b-8024-fd2033dfd347",
   "metadata": {},
   "outputs": [],
   "source": [
    "adata_solo = sc.read_h5ad(f\"{path}/adata_nodoublet.h5ad\")"
   ]
  },
  {
   "cell_type": "code",
   "execution_count": null,
   "id": "7a6b6b22-1d05-4c28-b49f-5fce78d8fef4",
   "metadata": {},
   "outputs": [],
   "source": [
    "adata_solo"
   ]
  },
  {
   "cell_type": "code",
   "execution_count": null,
   "id": "c59907ae-a508-4f59-af5c-02fad0a82157",
   "metadata": {},
   "outputs": [],
   "source": [
    "datafile = \"/data/projects/2021/MicrobialMetabolites/single-cell-sorted-cd8/2021-02-01_sorted_cd8_til/analyses_icbi/10mix-ICI1/outs/per_sample_outs/10mix-ICI1/count/sample_filtered_feature_bc_matrix.h5\""
   ]
  },
  {
   "cell_type": "code",
   "execution_count": null,
   "id": "f68f71b2-7105-4606-a83e-2e4c865f9cc9",
   "metadata": {},
   "outputs": [],
   "source": [
    "adata_10mix_ICI1 = sc.read_10x_h5(\"/data/projects/2021/MicrobialMetabolites/single-cell-sorted-cd8/2021-02-01_sorted_cd8_til/analyses_icbi/10mix-ICI1/outs/per_sample_outs/10mix-ICI1/count/sample_filtered_feature_bc_matrix.h5\", gex_only=False)\n",
    "adata_10mix_ICI2 = sc.read_10x_h5(\"/data/projects/2021/MicrobialMetabolites/single-cell-sorted-cd8/2021-02-01_sorted_cd8_til/analyses_icbi/10mix-ICI2/outs/per_sample_outs/10mix-ICI2/count/sample_filtered_feature_bc_matrix.h5\", gex_only=False)\n",
    "adata_11mix_ICI1 = sc.read_10x_h5(\"/data/projects/2021/MicrobialMetabolites/single-cell-sorted-cd8/2021-02-01_sorted_cd8_til/analyses_icbi/11mix-ICI1/outs/per_sample_outs/11mix-ICI1/count/sample_filtered_feature_bc_matrix.h5\", gex_only=False)\n",
    "adata_11mix_ICI2 = sc.read_10x_h5(\"/data/projects/2021/MicrobialMetabolites/single-cell-sorted-cd8/2021-02-01_sorted_cd8_til/analyses_icbi/11mix-ICI2/outs/per_sample_outs/11mix-ICI2/count/sample_filtered_feature_bc_matrix.h5\", gex_only=False)\n",
    "adata_GF_ICI1 = sc.read_10x_h5(\"/data/projects/2021/MicrobialMetabolites/single-cell-sorted-cd8/2021-02-01_sorted_cd8_til/analyses_icbi/GF-ICI1/outs/per_sample_outs/GF-ICI1/count/sample_filtered_feature_bc_matrix.h5\", gex_only=False)\n",
    "adata_GF_ICI2 = sc.read_10x_h5(\"/data/projects/2021/MicrobialMetabolites/single-cell-sorted-cd8/2021-02-01_sorted_cd8_til/analyses_icbi/GF-ICI2/outs/per_sample_outs/GF-ICI2/count/sample_filtered_feature_bc_matrix.h5\", gex_only=False)\n",
    "adata_GF_ICI1_plus = sc.read_10x_h5(\"/data/projects/2021/MicrobialMetabolites/single-cell-sorted-cd8/2021-02-01_sorted_cd8_til/analyses_icbi/GF-ICI1-plus/outs/per_sample_outs/GF-ICI1-plus/count/sample_filtered_feature_bc_matrix.h5\", gex_only=False)\n",
    "adata_GF_ICI2_plus = sc.read_10x_h5(\"/data/projects/2021/MicrobialMetabolites/single-cell-sorted-cd8/2021-02-01_sorted_cd8_til/analyses_icbi/GF-ICI2-plus/outs/per_sample_outs/GF-ICI2-plus/count/sample_filtered_feature_bc_matrix.h5\", gex_only=False)"
   ]
  },
  {
   "cell_type": "code",
   "execution_count": null,
   "id": "b486e831-4976-4959-acc7-2f2eec5563f4",
   "metadata": {},
   "outputs": [],
   "source": [
    "adata_10mix_ICI1.obs['adata_name'] = 'adata_10mix_ICI1'\n",
    "adata_10mix_ICI2.obs['adata_name'] =  \"adata_10mix_ICI2\"\n",
    "adata_11mix_ICI1.obs['adata_name'] = \"adata_11mix_ICI1\"\n",
    "adata_11mix_ICI2.obs['adata_name'] = \"adata_11mix_ICI2\"\n",
    "adata_GF_ICI1.obs['adata_name'] = \"adata_GF_ICI1\"\n",
    "adata_GF_ICI2.obs['adata_name'] = \"adata_GF_ICI2\"\n",
    "adata_GF_ICI1_plus.obs['adata_name'] = \"adata_GF_ICI1_plus\"\n",
    "adata_GF_ICI2_plus.obs['adata_name'] =  \"adata_GF_ICI2_plus\""
   ]
  },
  {
   "cell_type": "code",
   "execution_count": null,
   "id": "8e78b2a7-3f87-4501-b946-20b995f48aef",
   "metadata": {},
   "outputs": [],
   "source": [
    "def clean_adata(adata): \n",
    "    adata.var_names_make_unique()\n",
    "    adata.layers[\"counts\"] = adata.X.copy()\n",
    "    sc.pp.filter_genes(adata, min_counts=1)\n",
    "    return adata"
   ]
  },
  {
   "cell_type": "code",
   "execution_count": null,
   "id": "c9fa3c6b-8bf4-4ee9-9934-f7c0c417ef91",
   "metadata": {},
   "outputs": [],
   "source": [
    "adata_10mix_ICI1 = clean_adata(adata_10mix_ICI1)\n",
    "adata_10mix_ICI2 =  clean_adata(adata_10mix_ICI2)\n",
    "adata_11mix_ICI1 =  clean_adata(adata_11mix_ICI1)\n",
    "adata_11mix_ICI2 =  clean_adata(adata_11mix_ICI2)\n",
    "adata_GF_ICI1 =  clean_adata(adata_GF_ICI1)\n",
    "adata_GF_ICI2 =  clean_adata(adata_GF_ICI2)\n",
    "adata_GF_ICI1_plus=  clean_adata(adata_GF_ICI1_plus)\n",
    "adata_GF_ICI2_plus=  clean_adata(adata_GF_ICI2_plus)"
   ]
  },
  {
   "cell_type": "code",
   "execution_count": null,
   "id": "7e135a13-4ed4-499e-9a64-866a08bd5f95",
   "metadata": {},
   "outputs": [],
   "source": [
    "def metadata(adata):\n",
    "    print(list(set(adata.obs.adata_name)))\n",
    "    adata.obs[\"condition\"] = list(set(adata.obs.adata_name))[0].split(\"_\")[1] #condition\n",
    "    adata.obs[\"batch_id\"] = list(set(adata.obs.adata_name))[0].split(\"_\")[2] # batch_id\n",
    "    adata.obs[\"sample_id\"] = list(set(adata.obs.adata_name))[0].split(\"_\",1)[1] # sample_id"
   ]
  },
  {
   "cell_type": "code",
   "execution_count": null,
   "id": "962996db-cf23-465f-b161-1f6f2c149df3",
   "metadata": {},
   "outputs": [],
   "source": [
    "adatas = []\n",
    "adatas.append(adata_10mix_ICI1)\n",
    "adatas.append(adata_10mix_ICI2)\n",
    "adatas.append(adata_11mix_ICI1)\n",
    "adatas.append(adata_11mix_ICI2)\n",
    "adatas.append(adata_GF_ICI1)\n",
    "adatas.append(adata_GF_ICI2)\n",
    "adatas.append(adata_GF_ICI1_plus)\n",
    "adatas.append(adata_GF_ICI2_plus)"
   ]
  },
  {
   "cell_type": "code",
   "execution_count": null,
   "id": "a00b8751-8775-464c-b06a-5f33a57b8405",
   "metadata": {},
   "outputs": [],
   "source": [
    "for i in adatas:\n",
    "    metadata(i)"
   ]
  },
  {
   "cell_type": "code",
   "execution_count": null,
   "id": "549215e6-55f3-43cb-bf76-0ad730f5c59e",
   "metadata": {},
   "outputs": [],
   "source": [
    "adatas"
   ]
  },
  {
   "cell_type": "code",
   "execution_count": null,
   "id": "cfc0ee84-6ffd-48f9-a78e-f782025447df",
   "metadata": {},
   "outputs": [],
   "source": [
    "adata_merged = ad.concat(adatas,merge=\"same\")"
   ]
  },
  {
   "cell_type": "code",
   "execution_count": null,
   "id": "c84e87cb-e921-46c6-bca7-ee0ad9924768",
   "metadata": {},
   "outputs": [],
   "source": [
    "adata_merged"
   ]
  },
  {
   "cell_type": "code",
   "execution_count": null,
   "id": "ae2c575f-40fa-4f04-81e9-6689b0e3a0d4",
   "metadata": {},
   "outputs": [],
   "source": [
    "adata = adata_merged"
   ]
  },
  {
   "cell_type": "code",
   "execution_count": null,
   "id": "49a7f5e8-6be4-46cd-98a5-a707aa455d69",
   "metadata": {},
   "outputs": [],
   "source": [
    "protein = adata[:, adata.var[\"feature_types\"] == \"Antibody Capture\"].copy()\n",
    "rna = adata[:, adata.var[\"feature_types\"] == \"Gene Expression\"].copy()"
   ]
  },
  {
   "cell_type": "code",
   "execution_count": null,
   "id": "26a65c39-86a4-42ed-9401-be9b4b7b1a0b",
   "metadata": {},
   "outputs": [],
   "source": [
    "protein.var"
   ]
  },
  {
   "cell_type": "code",
   "execution_count": null,
   "id": "103247ac-f6fb-4d31-82e8-18396da37e0e",
   "metadata": {},
   "outputs": [],
   "source": [
    "protein.layers[\"counts\"] = protein.X.copy()"
   ]
  },
  {
   "cell_type": "code",
   "execution_count": null,
   "id": "8124326f-3f59-4d2a-ad1c-cc3997d8f116",
   "metadata": {},
   "outputs": [],
   "source": [
    "sc.pp.normalize_total(protein)"
   ]
  },
  {
   "cell_type": "code",
   "execution_count": null,
   "id": "08266e84-fcf7-4c46-823a-a618da8dbc6a",
   "metadata": {},
   "outputs": [],
   "source": [
    "sc.pp.log1p(protein)"
   ]
  },
  {
   "cell_type": "code",
   "execution_count": null,
   "id": "65f6ca34-c5c1-48c2-8bec-20b40eaeb565",
   "metadata": {},
   "outputs": [],
   "source": [
    "sc.pp.pca(protein)"
   ]
  },
  {
   "cell_type": "code",
   "execution_count": null,
   "id": "3a63d151-f3c7-4ab9-a663-d553fbe00001",
   "metadata": {},
   "outputs": [],
   "source": [
    "sc.pp.neighbors(protein, n_neighbors=30)  # why can't we just work with the default neighbors?"
   ]
  },
  {
   "cell_type": "code",
   "execution_count": null,
   "id": "aee36bb5-1783-4a2b-92f2-da6715518554",
   "metadata": {},
   "outputs": [],
   "source": [
    "sc.tl.leiden(protein, key_added=\"protein_leiden\" ,flavor=\"igraph\", n_iterations=2)"
   ]
  },
  {
   "cell_type": "code",
   "execution_count": null,
   "id": "062c77e7-4c6a-4125-a8b9-00cc747951b8",
   "metadata": {},
   "outputs": [],
   "source": [
    "protein"
   ]
  },
  {
   "cell_type": "code",
   "execution_count": null,
   "id": "31821037-791d-4016-b5c2-ce1d896912c8",
   "metadata": {},
   "outputs": [],
   "source": [
    "protein.obsp[\"protein_connectivities\"] = protein.obsp[\"connectivities\"].copy()\n",
    "sc.tl.umap(protein)\n",
    "sc.pl.umap(protein, color=\"protein_leiden\", size=10)"
   ]
  },
  {
   "cell_type": "code",
   "execution_count": null,
   "id": "622b18ad-86f0-42ad-ba11-a1d528767724",
   "metadata": {},
   "outputs": [],
   "source": [
    "sc.pl.umap(protein, color=\"condition\", size=10, groups = \"11mix\")"
   ]
  },
  {
   "cell_type": "code",
   "execution_count": null,
   "id": "de65415a-bc80-4d02-a842-14d8aa1565ba",
   "metadata": {},
   "outputs": [],
   "source": [
    "###rna"
   ]
  },
  {
   "cell_type": "code",
   "execution_count": null,
   "id": "d57874a0-44d2-48b6-9220-c9e89e9e8ba2",
   "metadata": {},
   "outputs": [],
   "source": [
    "rna.layers[\"counts\"] = rna.X.copy()"
   ]
  },
  {
   "cell_type": "code",
   "execution_count": null,
   "id": "1b692e38-96a8-4944-8ae9-550e2adca998",
   "metadata": {},
   "outputs": [],
   "source": [
    "rna.var[\"mito\"] = rna.var_names.str.startswith(\"mt\")\n",
    "rna.var[\"ribo\"] = rna.var_names.str.startswith(\"rb\")\n",
    "rna.var[\"hb\"] = rna.var_names.str.startswith(\"hb\")\n",
    "sc.pp.calculate_qc_metrics(\n",
    "rna,\n",
    "qc_vars=[\"mito\", \"ribo\", \"hb\"],\n",
    "inplace=True,\n",
    "percent_top=[20],\n",
    "log1p=True,)"
   ]
  },
  {
   "cell_type": "code",
   "execution_count": null,
   "id": "9b9a5881-2dd7-46d5-824e-a707d4b9330c",
   "metadata": {},
   "outputs": [],
   "source": [
    "sc.pp.normalize_total(rna)\n",
    "sc.pp.log1p(rna)"
   ]
  },
  {
   "cell_type": "code",
   "execution_count": null,
   "id": "e4865a53-b823-4ee0-be94-66bd0a861f41",
   "metadata": {},
   "outputs": [],
   "source": [
    "sc.pp.pca(rna)\n",
    "sc.pp.neighbors(rna, n_neighbors=30)  \n",
    "sc.tl.umap(rna)\n",
    "sc.tl.leiden(rna, key_added=\"rna_leiden\")"
   ]
  },
  {
   "cell_type": "code",
   "execution_count": null,
   "id": "d5e0166b-1d84-4f91-b452-2e724ace9b81",
   "metadata": {},
   "outputs": [],
   "source": [
    "rna"
   ]
  },
  {
   "cell_type": "code",
   "execution_count": null,
   "id": "c81deb6b-c9af-408a-bdf0-fe34a72277f4",
   "metadata": {},
   "outputs": [],
   "source": [
    "sc.pp.filter_genes(adata, min_cells=1, inplace = True)\n",
    "sc.pp.filter_genes(adata, min_counts=1, inplace = True)\n"
   ]
  },
  {
   "cell_type": "code",
   "execution_count": null,
   "id": "b0c92f1d-bfed-4bfa-9ba5-b11e056df9c1",
   "metadata": {},
   "outputs": [],
   "source": [
    "save_plot = False\n",
    "fig, axes = plt.subplots(2, 2, figsize=(10, 8))\n",
    "axes=axes.flatten()\n",
    "sc.pl.umap(\n",
    "    adata,\n",
    "    color=\"pct_counts_mito\",\n",
    "    cmap=\"inferno\",\n",
    "    vmin=0,\n",
    "    vmax=\"p99\",\n",
    "    sort_order=False,\n",
    "    show=False,\n",
    "    ax=axes[0],\n",
    ")\n",
    "sc.pl.umap(\n",
    "    adata,\n",
    "    color=\"total_counts\",\n",
    "    cmap=\"inferno\",\n",
    "    vmax=vmax_total_counts,\n",
    "    sort_order=False,\n",
    "    show=False,\n",
    "    ax=axes[1],\n",
    ")\n",
    "sc.pl.umap(\n",
    "    adata,\n",
    "    color=\"n_genes_by_counts\",\n",
    "    cmap=\"inferno\",\n",
    "    vmax=vmax_n_genes_by_counts,\n",
    "    sort_order=False,\n",
    "    show=False,\n",
    "    ax=axes[2],\n",
    ")\n",
    "plt.tight_layout()\n",
    "\n",
    "if save_plot == True:\n",
    "    fig.savefig(f\"{save_dir}/{prefix}_umap_qc_metrics.{file_ext}\", bbox_inches=\"tight\")\n",
    "    if display == True:\n",
    "        plt.show()\n",
    "    plt.close(fig)\n",
    "\n"
   ]
  },
  {
   "cell_type": "code",
   "execution_count": null,
   "id": "d9def82e-343d-4a13-848c-af1acd0f6290",
   "metadata": {},
   "outputs": [],
   "source": [
    "ah.pl.umap_qc_metrics(rna, vmax_total_counts=20000, vmax_n_genes=2000)"
   ]
  },
  {
   "cell_type": "code",
   "execution_count": null,
   "id": "c01850df-7e7c-4516-8e25-6e40b5d033f9",
   "metadata": {},
   "outputs": [],
   "source": [
    "############### visualization"
   ]
  },
  {
   "cell_type": "code",
   "execution_count": null,
   "id": "3164dcd2-1831-44e1-9b7d-f0cb775cd7a6",
   "metadata": {},
   "outputs": [],
   "source": [
    "rna.obsm[\"protein\"] = protein.to_df()\n",
    "rna.obsm[\"protein_umap\"] = protein.obsm[\"X_umap\"]\n",
    "rna.obs[\"protein_leiden\"] = protein.obs[\"protein_leiden\"]\n",
    "rna.obsp[\"rna_connectivities\"] = rna.obsp[\"connectivities\"].copy()\n",
    "rna.obsp[\"protein_connectivities\"] = protein.obsp[\"protein_connectivities\"]"
   ]
  },
  {
   "cell_type": "code",
   "execution_count": null,
   "id": "77e998de-a467-4225-9222-0453c27bb770",
   "metadata": {},
   "outputs": [],
   "source": [
    "sc.tl.umap(rna)"
   ]
  },
  {
   "cell_type": "code",
   "execution_count": null,
   "id": "aae187ff-14f1-4d71-91f7-54c2ff6734db",
   "metadata": {},
   "outputs": [],
   "source": [
    "sc.pl.umap(rna, color=[\"rna_leiden\", \"protein_leiden\"], size=10)\n",
    "sc.pl.embedding(rna, basis=\"protein_umap\", color=[\"rna_leiden\", \"protein_leiden\"], size=10)"
   ]
  },
  {
   "cell_type": "code",
   "execution_count": null,
   "id": "97c6c214-985a-49f8-823b-cb351cbc0ffb",
   "metadata": {},
   "outputs": [],
   "source": [
    "import altair as alt"
   ]
  },
  {
   "cell_type": "code",
   "execution_count": null,
   "id": "27de44d8-8a14-4018-8b3b-85b8b52b804c",
   "metadata": {},
   "outputs": [],
   "source": [
    "from functools import partial\n",
    "\n",
    "alt.renderers.enable(\"png\")\n",
    "alt.data_transformers.disable_max_rows()"
   ]
  },
  {
   "cell_type": "code",
   "execution_count": null,
   "id": "f1b8d3c5-2e5f-4ccd-bac9-1834d5f3bee2",
   "metadata": {},
   "outputs": [],
   "source": [
    "def embedding_chart(df: pd.DataFrame, coord_pat: str, *, size=5) -> alt.Chart:\n",
    "    \"\"\"Make schema for coordinates, like sc.pl.embedding.\"\"\"\n",
    "    x, y = df.columns[df.columns.str.contains(coord_pat)]\n",
    "    return (\n",
    "        alt.Chart(plotdf, height=300, width=300)\n",
    "        .mark_circle(size=size)\n",
    "        .encode(\n",
    "            x=alt.X(x, axis=None),\n",
    "            y=alt.Y(y, axis=None),\n",
    "        )\n",
    "    )\n",
    "\n",
    "def umap_chart(df: pd.DataFrame, **kwargs) -> alt.Chart:\n",
    "    \"\"\"Like sc.pl.umap, but just the coordinates.\"\"\"\n",
    "    return embedding_chart(df, \"umap\", **kwargs)\n",
    "\n",
    "def encode_color(c: alt.Chart, col: str, *, qdomain=(0, 1), scheme: str = \"lightgreyred\") -> alt.Chart:\n",
    "    \"\"\"Add colors to an embedding plot schema.\"\"\"\n",
    "    base = c.properties(title=col) \n",
    "    if pd.api.types.is_categorical_dtype(c.data[col]):\n",
    "        return base.encode(color=col)\n",
    "    else:\n",
    "        return base.encode(\n",
    "            color=alt.Color(\n",
    "                col,\n",
    "                scale=alt.Scale(\n",
    "                    scheme=scheme,\n",
    "                    clamp=True,\n",
    "                    domain=list(c.data[col].quantile(qdomain)),\n",
    "                    nice=True,\n",
    "                )\n",
    "            )\n",
    "        )"
   ]
  },
  {
   "cell_type": "code",
   "execution_count": null,
   "id": "4ebfa66e-5c0f-49d4-a93e-54a71c9ced52",
   "metadata": {},
   "outputs": [],
   "source": [
    "plotdf = sc.get.obs_df(\n",
    "    rna,\n",
    "    obsm_keys=[(\"X_umap\", i) for i in range(2)] + [(\"protein\", i) for i in rna.obsm[\"protein\"].columns]\n",
    ")\n",
    "(\n",
    "    alt.concat(\n",
    "        *map(partial(encode_color, umap_chart(plotdf), qdomain=(0, .95)), plotdf.columns[2:10]),\n",
    "        columns=2\n",
    "    )\n",
    "    .resolve_scale(color='independent')\n",
    "    .configure_axis(grid=False)\n",
    ")"
   ]
  },
  {
   "cell_type": "code",
   "execution_count": null,
   "id": "0b3c2356-9cb9-4016-9bf8-7916a21dadb0",
   "metadata": {},
   "outputs": [],
   "source": [
    "################## clustering"
   ]
  },
  {
   "cell_type": "code",
   "execution_count": null,
   "id": "70d3b619-a626-4ce4-8e47-862bafcf65f6",
   "metadata": {},
   "outputs": [],
   "source": [
    "#sc.tl.leiden_multiplex(rna, [\"rna_connectivities\", \"protein_connectivities\"])  # Adds key \"leiden_multiplex\" by default"
   ]
  },
  {
   "cell_type": "code",
   "execution_count": null,
   "id": "92d241e7-b177-4366-a9e5-d88f0f78e370",
   "metadata": {},
   "outputs": [],
   "source": [
    "def join_graphs_max(g1: \"sparse.spmatrix\", g2: \"sparse.spmatrix\"):\n",
    "    \"\"\"Take the maximum edge value from each graph.\"\"\"\n",
    "    out = g1.copy()\n",
    "    mask = g1 < g2\n",
    "    out[mask] = g2[mask]\n",
    "\n",
    "    return out"
   ]
  },
  {
   "cell_type": "code",
   "execution_count": null,
   "id": "59240d37-e86c-47ab-ae4e-2a55e644639f",
   "metadata": {},
   "outputs": [],
   "source": [
    "rna.obsp[\"connectivities\"] = join_graphs_max(rna.obsp[\"rna_connectivities\"], rna.obsp[\"protein_connectivities\"])"
   ]
  },
  {
   "cell_type": "code",
   "execution_count": null,
   "id": "ea2d0282-36d1-4bb4-a199-e6800743b7a1",
   "metadata": {},
   "outputs": [],
   "source": [
    "sc.tl.leiden(rna, key_added=\"joint_leiden\")"
   ]
  },
  {
   "cell_type": "code",
   "execution_count": null,
   "id": "66317a22-4df8-4ece-8673-073196a2fa1c",
   "metadata": {},
   "outputs": [],
   "source": [
    "sc.tl.umap(rna)"
   ]
  },
  {
   "cell_type": "code",
   "execution_count": null,
   "id": "a11c2119-90da-49bc-a164-b4890fc55a4e",
   "metadata": {},
   "outputs": [],
   "source": [
    "sc.pl.umap(rna, color=[\"joint_leiden\"], size=5)"
   ]
  },
  {
   "cell_type": "code",
   "execution_count": null,
   "id": "174a7832-41ca-43be-8c47-5ba07b44a797",
   "metadata": {},
   "outputs": [],
   "source": [
    "import seaborn as sns\n",
    "\n",
    "sns.heatmap(pd.crosstab(rna.obs[\"joint_leiden\"], rna.obs[\"rna_leiden\"], normalize=\"index\"))"
   ]
  },
  {
   "cell_type": "code",
   "execution_count": null,
   "id": "740e61b9-4205-40d9-a4bc-2daf550d37a5",
   "metadata": {},
   "outputs": [],
   "source": [
    "sns.heatmap(pd.crosstab(rna.obs[\"joint_leiden\"], rna.obs[\"protein_leiden\"], normalize=\"index\"))"
   ]
  },
  {
   "cell_type": "code",
   "execution_count": null,
   "id": "242d85c4-f99a-42f4-98f2-fd9a4ded9824",
   "metadata": {},
   "outputs": [],
   "source": [
    "############## gather data"
   ]
  },
  {
   "cell_type": "code",
   "execution_count": null,
   "id": "ac034560-5f2b-450a-a0b6-b5506c54b9d9",
   "metadata": {},
   "outputs": [],
   "source": [
    "adata.X[:, (adata.var[\"feature_types\"] == \"Gene Expression\").values] = rna.X"
   ]
  },
  {
   "cell_type": "code",
   "execution_count": null,
   "id": "9d194143-0820-4c06-8d12-2c4c01b26b69",
   "metadata": {},
   "outputs": [],
   "source": [
    "adata.X[:, (adata.var[\"feature_types\"] == \"Antibody Capture\").values] = protein.X"
   ]
  },
  {
   "cell_type": "code",
   "execution_count": null,
   "id": "e7ef5423-67d7-419a-9310-c2491dce49bb",
   "metadata": {},
   "outputs": [],
   "source": [
    "adata.obsm.update(rna.obsm)"
   ]
  },
  {
   "cell_type": "code",
   "execution_count": null,
   "id": "96bc3b22-0c8b-4359-a6fc-1d92a8d733ce",
   "metadata": {},
   "outputs": [],
   "source": [
    "adata.obs[rna.obs.columns] = rna.obs"
   ]
  },
  {
   "cell_type": "code",
   "execution_count": null,
   "id": "2d5c21f2-6314-41ae-971f-88725f6975f7",
   "metadata": {},
   "outputs": [],
   "source": [
    "adata"
   ]
  },
  {
   "cell_type": "code",
   "execution_count": null,
   "id": "0d1f2f35-75c9-4394-92b5-178242d278a9",
   "metadata": {},
   "outputs": [],
   "source": [
    "##################### labelling"
   ]
  },
  {
   "cell_type": "code",
   "execution_count": null,
   "id": "9af024ff-32d1-412f-a368-693d3344d937",
   "metadata": {},
   "outputs": [],
   "source": [
    "sc.pl.umap(adata, color=\"joint_leiden\", legend_loc=\"on data\")"
   ]
  },
  {
   "cell_type": "code",
   "execution_count": null,
   "id": "9b7a45fc-0ad8-4d28-af57-4a1262b79423",
   "metadata": {},
   "outputs": [],
   "source": [
    "adata"
   ]
  },
  {
   "cell_type": "code",
   "execution_count": null,
   "id": "b6f928ff-09a0-43c9-9ca7-07e460d1925e",
   "metadata": {},
   "outputs": [],
   "source": [
    "sc.pp.neighbors(adata)"
   ]
  },
  {
   "cell_type": "code",
   "execution_count": null,
   "id": "68bf9e90-fe2f-4ab1-8862-e6487abba71d",
   "metadata": {},
   "outputs": [],
   "source": [
    "sc.tl.leiden(adata, resolution=0.3, key_added=\"highlevel\")  # I had to patch scanpy for this, but sergei's PR should make this work."
   ]
  },
  {
   "cell_type": "code",
   "execution_count": null,
   "id": "4e1f2000-75c2-488a-a5d0-acefc97f775e",
   "metadata": {},
   "outputs": [],
   "source": [
    "sc.pl.umap(adata,color=\"highlevel\")"
   ]
  },
  {
   "cell_type": "code",
   "execution_count": null,
   "id": "80780f07-5b33-41d9-8a2d-e557f0c29695",
   "metadata": {},
   "outputs": [],
   "source": [
    "sc.pl.umap(adata, color=[\"Il7r\"], vmax = \"p99\", cmap=\"Reds\") #naive "
   ]
  },
  {
   "cell_type": "code",
   "execution_count": null,
   "id": "73d4d535-f2a9-47bd-b1cb-50f45c904766",
   "metadata": {},
   "outputs": [],
   "source": [
    "sc.pl.umap(adata, color=[\"Havcr2\",\"Gzmb\",\"Entpd1\",\"Lag3\"], vmax = \"p99\", cmap=\"Reds\") #exhausted"
   ]
  },
  {
   "cell_type": "code",
   "execution_count": null,
   "id": "83c0b72d-a244-4812-bd4e-d4c6e7bd96ce",
   "metadata": {},
   "outputs": [],
   "source": [
    "sc.pl.umap(adata, color=[\"Ifng\",\"Il7r\",\"Prf1\",\"Lag3\",\"Gzmb\"], vmax = \"p99\", cmap=\"Reds\") #progenitor activated"
   ]
  },
  {
   "cell_type": "code",
   "execution_count": null,
   "id": "ec74ed8c-466f-416d-a740-f63c0e092ba1",
   "metadata": {},
   "outputs": [],
   "source": [
    "sc.pl.umap(adata,color=\"highlevel\")"
   ]
  },
  {
   "cell_type": "code",
   "execution_count": null,
   "id": "5b78ba97-27e4-4bcb-8d86-ebd8def2d23a",
   "metadata": {},
   "outputs": [],
   "source": [
    "adata"
   ]
  },
  {
   "cell_type": "code",
   "execution_count": null,
   "id": "2d1a3a4c-bca3-4d6c-8c93-188f3c967306",
   "metadata": {},
   "outputs": [],
   "source": [
    "markers =  {\n",
    "\"CD8+ T partial effector2\": [\"Ifng\", \"Tnf\", \"Ccl4\", \"Prf1\", \"Gzmb\", \"Gzmk\", \"Ccl5\", \"Ccl3\", \"Ctla4\", \"Icos\", \"Lag3\", \"Tigit\", \"Entpd1\", \"Havcr2\"],\n",
    "\"CD8+ T EOMESHIGH memory exhausted\":[\"Ifng\",\"Gzmb\",\"Gzmk\",\"Ccl4\",\"Ccl5\",\"Ccl3\",\"Prf1\",\"Tigit\",\"Tnfrsf9\",\"Eomes\"],\n",
    "\"CD8+ T naive\":[\"Il7r\",\"Gzmb\",\"Prf1\",\"Ifng\",\"Tnf\"]}"
   ]
  },
  {
   "cell_type": "code",
   "execution_count": null,
   "id": "eb545a57-a3e1-4cc0-a541-26f1f26dcf08",
   "metadata": {},
   "outputs": [],
   "source": [
    "protein.var"
   ]
  },
  {
   "cell_type": "code",
   "execution_count": null,
   "id": "dd07e625-b825-48f3-8ce5-8ffeaf3c92d8",
   "metadata": {},
   "outputs": [],
   "source": [
    "markers = [\"Ifng\", \"Tnf\", \"Ccl4\", \"Prf1\", \"Gzmb\", \"Gzmk\", \"Ccl5\", \"Ccl3\", \"Ctla4\", \"Icos\", \"Lag3\", \"Tigit\", \"Entpd1\", \"Havcr2\",\"PD1_TotalSeqC\",\"CD69_TotalSeqC\",\"CD44_TotalSeqC\",\"ICOS_TotalSeqC\",\"CD103_TotalSeqC\"]\n",
    "sc.pl.dotplot(adata, markers, groupby='joint_leiden', dendrogram=True)"
   ]
  },
  {
   "cell_type": "code",
   "execution_count": null,
   "id": "5ec65705-d6f0-4735-b1e7-395dfbcb2d0e",
   "metadata": {},
   "outputs": [],
   "source": [
    "markers = [\"Ifng\", \"Tnf\", \"Ccl4\", \"Prf1\", \"Gzmb\", \"Gzmk\", \"Ccl5\", \"Ccl3\", \"Ctla4\", \"Icos\", \"Lag3\", \"Tigit\", \"Entpd1\", \"Havcr2\",\"PD1_TotalSeqC\",\"CD69_TotalSeqC\",\"CD44_TotalSeqC\",\"ICOS_TotalSeqC\",\"CD103_TotalSeqC\"]\n",
    "dp = sc.pl.dotplot(adata, markers, 'joint_leiden', return_fig=True)\n",
    "dp.add_totals().style(dot_edge_color='black', dot_edge_lw=0.5).show()"
   ]
  },
  {
   "cell_type": "code",
   "execution_count": null,
   "id": "997fb7cf-8ef2-4613-b496-2d4d060fbc4c",
   "metadata": {},
   "outputs": [],
   "source": [
    "sc.pl.umap(adata,color=\"highlevel\", groups=[\"0\"])"
   ]
  },
  {
   "cell_type": "code",
   "execution_count": null,
   "id": "c7e47797-d11d-4ea8-8566-88e4afb0eb0d",
   "metadata": {
    "editable": true,
    "slideshow": {
     "slide_type": ""
    },
    "tags": []
   },
   "outputs": [],
   "source": []
  },
  {
   "cell_type": "code",
   "execution_count": null,
   "id": "ed6a63f8-cb92-449b-a80e-829b3d885e97",
   "metadata": {},
   "outputs": [],
   "source": [
    "markers =  {\n",
    "\"CD8+ T partial effector2\": [\"Ifng\", \"Tnf\", \"Ccl4\", \"Prf1\", \"Gzmb\", \"Gzmk\", \"Ccl5\", \"Ccl3\", \"Ctla4\", \"Pdc1\", \"Icos\", \"Lag3\", \"Tigit\", \"Entpd1\", \"Havcr2\"],\n",
    "\"CD8+ T EOMESHIGH memory exhausted\":[\"Ifng\",\"Gzmb\",\"Gzmk\",\"Ccl4\",\"Ccl5\",\"Ccl3\",\"Lag3m\",\"Pdcd1\",\"Prf1\",\"Tigit\",\"Tnfrsf9\",\"Eomes\"],\n",
    "\"CD8+ T naive\":[\"Il7r\",\"Gzmb\",\"Prf1\",\"Ifng\",\"Tnf\"],\n",
    "\"CD8+ T TOXHIGH memory exhausted\":[],\n",
    "\"CD8+ T exhausted\":[],\n",
    "\"CD8+ T central memory\":[],\n",
    "\"CD8+ T resident memory\":[],\n",
    "\"CD8+ MAIT like\":[],\n",
    "\"CD8+ MAIT like activated\":[],\n",
    "\"CD8+ T partial activated\":[],\n",
    "\"CD8+ T progenitor activated\":[],\n",
    "\"CD8+ T low functional\":[],\n",
    "\"CD8+ T naive inflamed\":[],\n",
    "\"CD8+ T effector exhausted\":[],\n",
    "\"CD8+ T TOXHIGH memory exhausted\":[],\n",
    "\"CD8+ T  central memory\":[],\n",
    "\"CD8+ T EOMESMED TOCMED memory exhausted\":[],\n",
    "\"CD8+ T inflamed resident memory\":[],\n",
    "\"CD8+ T EOMESHIGH memory exhausted\":[],\n",
    "\"CD8+ T exhausted\":[],\n",
    "\"CD8+ MAIT like activated\":[],\n",
    "\"CD8+ IL17AHIGH MAIT\":[],\n",
    "}\n",
    "\n"
   ]
  },
  {
   "cell_type": "code",
   "execution_count": null,
   "id": "343945f1-3e45-4502-b40e-0d1aa7510634",
   "metadata": {},
   "outputs": [],
   "source": [
    "highlevel_labels = {\n",
    "\n",
    "}\n",
    "pbmc.obs[\"highlevel\"] = pbmc.obs[\"highlevel\"].map(highlevel_labels)"
   ]
  },
  {
   "cell_type": "code",
   "execution_count": null,
   "id": "f260b0a1-c12b-4d52-8321-4f6191a21e3b",
   "metadata": {},
   "outputs": [],
   "source": [
    "marker_doi_s41422_022_00627_9 = {\n",
    "\"Naive\":[\"Gzmk\",\"Lef1\",\"Sell\",\"Il7r\",\"Tcf7\",\"Ccr7\"],\n",
    "\"Memory\":[\"Cd69\",\"Nr4a1\",\"Myadm\",\"Gata3\",\"Tbx21\"],\n",
    "\"Effector\":[\"Ifng\",\"Gzmb\",\"Prf1\",\"Nkg7\"],\n",
    "\"Exhausted\":[\"Entpd1\",\"Havcr2\",\"Ctla4\",\"Tnfrsf9\",\"Tox2\",\"Tigit\",\"Lag3\"],\n",
    "\"Treg\":[\"Il2ra\",\"Foxp3\",\"Ikzf2\"],\n",
    "\"Mitosis\":[\"Mki67\",\"Tk1\",\"Stmn1\"],\n",
    "}"
   ]
  },
  {
   "cell_type": "code",
   "execution_count": null,
   "id": "c6abaf85-b7e6-4fd0-ba8f-bf6a999f179b",
   "metadata": {},
   "outputs": [],
   "source": [
    "adata.layers[\"scaled\"] = sc.pp.scale(adata, copy=True).X"
   ]
  },
  {
   "cell_type": "code",
   "execution_count": null,
   "id": "e0d2f5c3-fbe7-4955-a676-2dfadef699fa",
   "metadata": {},
   "outputs": [],
   "source": [
    "sc.pl.matrixplot(\n",
    "    adata,\n",
    "    marker_doi_s41422_022_00627_9,\n",
    "    \"joint_leiden\",\n",
    "    dendrogram=True,\n",
    "    cmap=\"Blues\",\n",
    "    standard_scale=\"var\",\n",
    "    \n",
    "    layer = \"scaled\",\n",
    "    colorbar_title=\"column scaled\\nexpression\",\n",
    "    swap_axes=True\n",
    ")"
   ]
  },
  {
   "cell_type": "code",
   "execution_count": null,
   "id": "0928ccdb-8764-4098-8818-75f9e2621ceb",
   "metadata": {},
   "outputs": [],
   "source": [
    "sc.pl.matrixplot(\n",
    "    adata,\n",
    "    marker = [\"PD1_TotalSeqC\",\"CD69_TotalSeqC\",\"CD44_TotalSeqC\",\"ICOS_TotalSeqC\",\"CD103_TotalSeqC\"],\n",
    "    \"joint_leiden\",\n",
    "    dendrogram=True,\n",
    "    cmap=\"Blues\",\n",
    "    standard_scale=\"var\",\n",
    "    log=True,\n",
    "    colorbar_title=\"column scaled\\nexpression\",\n",
    "    swap_axes=True\n",
    ")"
   ]
  },
  {
   "cell_type": "code",
   "execution_count": null,
   "id": "53610eb4-709e-4fc5-871b-852393198ff8",
   "metadata": {},
   "outputs": [],
   "source": [
    "adata"
   ]
  },
  {
   "cell_type": "code",
   "execution_count": null,
   "id": "e60c44f3-c03c-40d6-afcf-04f00a4437b2",
   "metadata": {},
   "outputs": [],
   "source": []
  }
 ],
 "metadata": {
  "kernelspec": {
   "display_name": "scanpy",
   "language": "python",
   "name": "scanpy"
  },
  "language_info": {
   "codemirror_mode": {
    "name": "ipython",
    "version": 3
   },
   "file_extension": ".py",
   "mimetype": "text/x-python",
   "name": "python",
   "nbconvert_exporter": "python",
   "pygments_lexer": "ipython3",
   "version": "3.12.3"
  }
 },
 "nbformat": 4,
 "nbformat_minor": 5
}
