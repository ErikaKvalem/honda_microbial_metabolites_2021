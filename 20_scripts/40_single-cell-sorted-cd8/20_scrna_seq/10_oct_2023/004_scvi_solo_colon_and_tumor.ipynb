{
 "cells": [
  {
   "cell_type": "markdown",
   "id": "d5cefd07-40a9-4895-af7a-9208e216bece",
   "metadata": {
    "tags": []
   },
   "source": [
    "# Unintegrated data\n"
   ]
  },
  {
   "cell_type": "code",
   "execution_count": null,
   "id": "daaae6a2-5b01-490a-8e06-f9d1c6acb9b8",
   "metadata": {},
   "outputs": [],
   "source": [
    "# Python packages\n",
    "import scanpy as sc\n",
    "import scvi\n",
    "import numpy as np\n",
    "import pandas as pd\n",
    "import matplotlib.pyplot as plt\n",
    "import matplotlib\n",
    "import seaborn as sns"
   ]
  },
  {
   "cell_type": "code",
   "execution_count": null,
   "id": "84097b61-e35a-451a-9a70-eee5cbd73876",
   "metadata": {},
   "outputs": [],
   "source": [
    "###################################################### "
   ]
  },
  {
   "cell_type": "code",
   "execution_count": null,
   "id": "d7b562bf-b23b-412c-9a54-48ae01b8c8cd",
   "metadata": {},
   "outputs": [],
   "source": [
    "path = \"/data/projects/2021/MicrobialMetabolites/single-cell-sorted-cd8/results/solo\""
   ]
  },
  {
   "cell_type": "code",
   "execution_count": null,
   "id": "72e39947-5440-4a58-92eb-0adda9a91241",
   "metadata": {},
   "outputs": [],
   "source": [
    "adata_solo = sc.read_h5ad(f\"{path}/adata_nodoublet.h5ad\")"
   ]
  },
  {
   "cell_type": "code",
   "execution_count": null,
   "id": "7de6e8e2-b876-45e2-854b-21b921078a17",
   "metadata": {},
   "outputs": [],
   "source": [
    "adata_solo"
   ]
  },
  {
   "cell_type": "code",
   "execution_count": null,
   "id": "6238688d-2ef3-4ede-b00d-ecdf83077d3a",
   "metadata": {},
   "outputs": [],
   "source": [
    "adata_solo.obs.sample_id.value_counts()"
   ]
  },
  {
   "cell_type": "code",
   "execution_count": null,
   "id": "16b5df93-2847-42fb-96e7-d3f3311087c0",
   "metadata": {},
   "outputs": [],
   "source": [
    "adata_solo.obs"
   ]
  },
  {
   "cell_type": "code",
   "execution_count": null,
   "id": "518a5a3f-f575-47e4-aa44-56cb17df471a",
   "metadata": {},
   "outputs": [],
   "source": [
    "adata_solo"
   ]
  },
  {
   "cell_type": "code",
   "execution_count": null,
   "id": "e8ca1b0d-963b-4cd2-81ca-8c3908be85d4",
   "metadata": {},
   "outputs": [],
   "source": [
    "adata_solo"
   ]
  },
  {
   "cell_type": "code",
   "execution_count": null,
   "id": "87f09af7-f8ce-49b7-9088-ca5675593325",
   "metadata": {},
   "outputs": [],
   "source": [
    "sc.pl.umap(adata_solo, color=[\"leiden\"], wspace=1)"
   ]
  },
  {
   "cell_type": "code",
   "execution_count": null,
   "id": "6a08bb54-452a-4746-980b-0b1a1a8d39ab",
   "metadata": {},
   "outputs": [],
   "source": [
    "def update_columns(row):\n",
    "    if \"10mix1\" in row['sample_id']:\n",
    "        row['condition'] = \"10mix\"\n",
    "        row['batch_id'] = \"1\"\n",
    "    elif \"10mix2\" in row['sample_id']:\n",
    "        row['condition'] = \"10mix\"\n",
    "        row['batch_id'] = \"2\"\n",
    "    elif \"11mix1\" in row['sample_id']:\n",
    "        row['condition'] = \"11mix\"\n",
    "        row['batch_id'] = \"1\"\n",
    "    elif \"11mix2\" in row['sample_id']:\n",
    "        row['condition'] = \"11mix\"\n",
    "        row['batch_id'] = \"2\"\n",
    "    elif \"GF1\" in row['sample_id']:\n",
    "        row['condition'] = \"GF\"\n",
    "        row['batch_id'] = \"1\"\n",
    "    elif \"GF2\" in row['sample_id']:\n",
    "        row['condition'] = \"GF\"\n",
    "        row['batch_id'] = \"2\"\n",
    "    return row\n",
    "\n",
    "# Apply the function to each row in the DataFrame\n",
    "adata_solo.obs = adata_solo.obs.apply(update_columns, axis=1)"
   ]
  },
  {
   "cell_type": "code",
   "execution_count": null,
   "id": "29b67412-36fa-4157-98c3-5e90476f2b72",
   "metadata": {},
   "outputs": [],
   "source": [
    "def update_columns(row):\n",
    "    if \"10mix-ICI2\" in row['sample_id']:\n",
    "        row['condition'] = \"10mix\"\n",
    "        row['batch_id'] = \"ICI2\"\n",
    "    elif \"10mix-ICI1\" in row['sample_id']:\n",
    "        row['condition'] = \"10mix\"\n",
    "        row['batch_id'] = \"ICI1\"\n",
    "    elif \"11mix-ICI1\" in row['sample_id']:\n",
    "        row['condition'] = \"11mix\"\n",
    "        row['batch_id'] = \"ICI1\"\n",
    "    elif \"11mix-ICI2\" in row['sample_id']:\n",
    "        row['condition'] = \"11mix\"\n",
    "        row['batch_id'] = \"ICI2\"\n",
    "    elif \"GF-ICI1\" in row['sample_id']:\n",
    "        row['condition'] = \"GF\"\n",
    "        row['batch_id'] = \"ICI1\"\n",
    "    elif \"GF-ICI2\" in row['sample_id']:\n",
    "        row['condition'] = \"GF\"\n",
    "        row['batch_id'] = \"ICI2\"\n",
    "    elif \"GF-ICI1-plus \" in row['sample_id']:\n",
    "        row['condition'] = \"GF-plus\"\n",
    "        row['batch_id'] = \"ICI1\"\n",
    "    elif \"GF-ICI2-plus \" in row['sample_id']:\n",
    "        row['condition'] = \"GF-plus\"\n",
    "        row['batch_id'] = \"ICI2\"\n",
    "    return row\n",
    "\n",
    "# Apply the function to each row in the DataFrame\n",
    "adata_solo.obs = adata_solo.obs.apply(update_columns, axis=1)"
   ]
  },
  {
   "cell_type": "code",
   "execution_count": null,
   "id": "f739e3c4-7c35-496e-9d0a-18da1908cb4d",
   "metadata": {},
   "outputs": [],
   "source": [
    "set(adata_solo.obs.sample_id)"
   ]
  },
  {
   "cell_type": "code",
   "execution_count": null,
   "id": "5aa8e094-a244-45b7-90da-17f8f6fdf39b",
   "metadata": {},
   "outputs": [],
   "source": [
    "adata_solo.obs.condition.value_counts()"
   ]
  },
  {
   "cell_type": "code",
   "execution_count": null,
   "id": "b0aa90f2-2d65-46ab-b738-122a054340f3",
   "metadata": {},
   "outputs": [],
   "source": [
    "adata_solo.obs.batch_id.value_counts()"
   ]
  },
  {
   "cell_type": "code",
   "execution_count": null,
   "id": "3f0b5514-d46e-4bf4-b94b-a8fc1d94e35d",
   "metadata": {},
   "outputs": [],
   "source": [
    "adata_solo[adata_solo.obs[\"batch_id\"].isin([\"ICI2\"])].obs[\"sample_id\"].value_counts()"
   ]
  },
  {
   "cell_type": "code",
   "execution_count": null,
   "id": "e21a7295-8794-4dce-b897-f63f884d5793",
   "metadata": {},
   "outputs": [],
   "source": [
    "adata_solo[adata_solo.obs[\"batch_id\"].isin([\"ICI1\"])].obs[\"sample_id\"].value_counts()"
   ]
  },
  {
   "cell_type": "code",
   "execution_count": null,
   "id": "7b22297d-b2fe-40d3-b934-72a2e7f54dc1",
   "metadata": {},
   "outputs": [],
   "source": [
    "adata_solo[adata_solo.obs[\"condition\"].isin([\"GF\"])].obs[\"sample_id\"].value_counts()"
   ]
  },
  {
   "cell_type": "code",
   "execution_count": null,
   "id": "07635f16-50ec-4618-b713-816fd0c6f09f",
   "metadata": {},
   "outputs": [],
   "source": [
    "adata_solo[adata_solo.obs[\"condition\"].isin([\"10mix\"])].obs[\"sample_id\"].value_counts()"
   ]
  },
  {
   "cell_type": "code",
   "execution_count": null,
   "id": "c40bc78b-92cd-4940-9240-072c9cc549d9",
   "metadata": {},
   "outputs": [],
   "source": [
    "adata_solo[adata_solo.obs[\"condition\"].isin([\"11mix\"])].obs[\"sample_id\"].value_counts()"
   ]
  },
  {
   "cell_type": "code",
   "execution_count": null,
   "id": "7c0e68df-b2bf-48da-a7da-7476127e5c37",
   "metadata": {},
   "outputs": [],
   "source": [
    "sc.pl.umap(adata_solo, color=[\"batch_id\"], wspace=1)"
   ]
  },
  {
   "cell_type": "code",
   "execution_count": null,
   "id": "4a87aa19-7c15-4060-b343-e45a02675e0f",
   "metadata": {},
   "outputs": [],
   "source": [
    "sc.pl.umap(adata_solo, color=[\"condition\"], wspace=1)"
   ]
  },
  {
   "cell_type": "code",
   "execution_count": null,
   "id": "2d2343c3-31b9-4732-a97b-d27075777f13",
   "metadata": {},
   "outputs": [],
   "source": [
    "sc.pl.umap(\n",
    "    adata_solo,\n",
    "    color=[\"pct_counts_mt\", \"n_genes_by_counts\"],\n",
    "    cmap=\"inferno\",\n",
    ")"
   ]
  },
  {
   "cell_type": "code",
   "execution_count": null,
   "id": "307befd9-e5ab-4b90-acd3-a8ea889aa1d5",
   "metadata": {},
   "outputs": [],
   "source": [
    "sc.pl.umap(adata_solo, color=[\"total_counts\", \"leiden\"], vmax=10000, legend_loc=\"on data\")"
   ]
  },
  {
   "cell_type": "code",
   "execution_count": null,
   "id": "404af381-7ee0-4266-80f3-313d8c9f32e7",
   "metadata": {},
   "outputs": [],
   "source": [
    "def annot_empty_droplets(adata, boolean):\n",
    "    import numpy as np\n",
    "    \n",
    "    if \"is_droplet\" not in adata.obs.columns:\n",
    "        adata.obs[\"is_droplet\"] = \"cell\"\n",
    "\n",
    "    is_droplet = np.where(\n",
    "        (adata.obs[\"is_droplet\"] == \"cell\") & boolean, \"cell\", \"droplet\"\n",
    "    )\n",
    "    return is_droplet"
   ]
  },
  {
   "cell_type": "code",
   "execution_count": null,
   "id": "6445526d-85a0-4d57-a288-a7dbb3603c11",
   "metadata": {},
   "outputs": [],
   "source": [
    "# Remove empty droplets before scVI neighbors\n",
    "adata_solo.obs[\"is_droplet\"] = annot_empty_droplets(\n",
    "    adata_solo,\n",
    "    ~(\n",
    "        (adata_solo.obs[\"leiden\"].isin([\"0\",\"1\",\"2\",\"3\",\"4\",\"5\",\"6\"]))\n",
    "        & (adata_solo.obs[\"total_counts\"] < 2000)\n",
    "        & (adata_solo.obs[\"n_genes_by_counts\"] < 500)\n",
    "    ),\n",
    ")"
   ]
  },
  {
   "cell_type": "code",
   "execution_count": null,
   "id": "a688cec0-e93d-4afc-b75c-be4670171275",
   "metadata": {},
   "outputs": [],
   "source": [
    "adata_solo.obs[\"is_droplet\"].value_counts()"
   ]
  },
  {
   "cell_type": "code",
   "execution_count": null,
   "id": "12222213-8c5b-49c0-bebd-e0e6c39edeb9",
   "metadata": {},
   "outputs": [],
   "source": [
    "sc.pl.umap(\n",
    "    adata_solo[adata_solo.obs[\"condition\"].isin([\"GF\"])],\n",
    "    color=[\"pct_counts_mt\", \"n_genes_by_counts\"],\n",
    "    cmap=\"inferno\",\n",
    ")\n",
    "\n",
    "sc.pl.umap(adata_solo[adata_solo.obs[\"condition\"].isin([\"GF\"])], color=[\"total_counts\", \"leiden\"], vmax=20000)"
   ]
  },
  {
   "cell_type": "code",
   "execution_count": null,
   "id": "2795bb8a-7952-42cc-873b-1f02216651fc",
   "metadata": {},
   "outputs": [],
   "source": [
    "sc.pl.umap(\n",
    "    adata_solo[adata_solo.obs[\"batch_id\"].isin([\"ICI1\"])],\n",
    "    color=[\"pct_counts_mt\", \"n_genes_by_counts\"],\n",
    "    cmap=\"inferno\",\n",
    ")\n",
    "\n",
    "sc.pl.umap(adata_solo[adata_solo.obs[\"batch_id\"].isin([\"ICI1\"])], color=[\"total_counts\", \"leiden\"], vmax=20000)"
   ]
  },
  {
   "cell_type": "code",
   "execution_count": null,
   "id": "35b3bf69-64c7-47ee-9c6c-c04b038b812e",
   "metadata": {},
   "outputs": [],
   "source": [
    "sc.pl.umap(\n",
    "    adata_solo[adata_solo.obs[\"batch_id\"].isin([\"ICI2\"])],\n",
    "    color=[\"pct_counts_mt\", \"n_genes_by_counts\"],\n",
    "    cmap=\"inferno\",\n",
    ")\n",
    "\n",
    "sc.pl.umap(adata_solo[adata_solo.obs[\"batch_id\"].isin([\"ICI2\"])], color=[\"total_counts\", \"leiden\"], vmax=20000)"
   ]
  },
  {
   "cell_type": "code",
   "execution_count": null,
   "id": "7c7d134c-d58f-4db3-94fe-347900e27350",
   "metadata": {},
   "outputs": [],
   "source": []
  }
 ],
 "metadata": {
  "kernelspec": {
   "display_name": "Python 3 (ipykernel)",
   "language": "python",
   "name": "python3"
  },
  "language_info": {
   "codemirror_mode": {
    "name": "ipython",
    "version": 3
   },
   "file_extension": ".py",
   "mimetype": "text/x-python",
   "name": "python",
   "nbconvert_exporter": "python",
   "pygments_lexer": "ipython3",
   "version": "3.11.8"
  }
 },
 "nbformat": 4,
 "nbformat_minor": 5
}
