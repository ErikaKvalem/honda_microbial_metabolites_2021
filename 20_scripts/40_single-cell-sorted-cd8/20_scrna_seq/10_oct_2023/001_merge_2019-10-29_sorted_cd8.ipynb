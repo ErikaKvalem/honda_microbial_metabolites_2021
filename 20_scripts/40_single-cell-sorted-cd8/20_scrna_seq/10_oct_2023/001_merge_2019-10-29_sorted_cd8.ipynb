{
 "cells": [
  {
   "cell_type": "code",
   "execution_count": null,
   "id": "d44295cb-331a-4d1f-b4e8-2ba4a5b50992",
   "metadata": {
    "tags": []
   },
   "outputs": [],
   "source": [
    "import gzip\n",
    "import os\n",
    "from functools import reduce\n",
    "from pathlib import Path\n",
    "import scipy\n",
    "\n",
    "import anndata as ad\n",
    "import numpy as np\n",
    "import pandas as pd\n",
    "import scanpy as sc\n",
    "from scipy.sparse import csr_matrix\n",
    "from tqdm.contrib.concurrent import process_map"
   ]
  },
  {
   "cell_type": "code",
   "execution_count": null,
   "id": "098afa09-373e-48a9-9058-8fa1b249cbf9",
   "metadata": {},
   "outputs": [],
   "source": [
    "experiment = \"2019-10-29_sorted_cd8\"\n",
    "#\"2021-02-01_sorted_cd8_til\"\n",
    "sample_names = [\"10mix1\",\"10mix2\",\"11mix1\",\"11mix2\",\"GF1\",\"GF2\"]\n",
    "out_dir = \"/data/projects/2021/MicrobialMetabolites/single-cell-sorted-cd8/2019-10-29_sorted_cd8/analyses_icbi/scrna_seq_data\" #NEXTFLOW CONFIG"
   ]
  },
  {
   "cell_type": "code",
   "execution_count": null,
   "id": "77fd5961-c11c-4ed1-bd74-2a7ec509ed9f",
   "metadata": {},
   "outputs": [],
   "source": [
    "# Loop through each sample name and create empty DataFrames\n",
    "for sample_name in sample_names:\n",
    "    if experiment == \"2019-10-29_sorted_cd8\":\n",
    "        count_dir = f\"/data/projects/2021/MicrobialMetabolites/single-cell-sorted-cd8/2019-10-29_sorted_cd8/analyses_icbi/{sample_name}/outs/per_sample_outs/{sample_name}/count/sample_filtered_feature_bc_matrix\"\n",
    "        #out_dir = \"/data/projects/2021/MicrobialMetabolites/single-cell-sorted-cd8/2019-10-29_sorted_cd8/analyses_icbi/scrna_seq_data\" NEXTFLOW CONFIG\n",
    "    \n",
    "    elif experiment ==\"2021-02-01_sorted_cd8_til\":\n",
    "        count_dir = f\"/data/projects/2021/MicrobialMetabolites/single-cell-sorted-cd8/2019-10-29_sorted_cd8/analyses_icbi/{sample_name}/outs/per_sample_outs/{sample_name}/count/sample_filtered_feature_bc_matrix\"\n",
    "        #out_dir = \"/data/projects/2021/MicrobialMetabolites/single-cell-sorted-cd8/2021-02-01_sorted_cd8_til/analyses_icbi/scrna_seq_data\" NEXTFLOW CONFIG\n",
    "    \n",
    "    path_barcodes = f\"{count_dir}/barcodes.tsv.gz\"\n",
    "    path_features = f\"{count_dir}/features.tsv.gz\"\n",
    "    path_matrix = f\"{count_dir}/matrix.mtx.gz\"\n",
    "    \n",
    "    # Create an empty DataFrame for df_barcodes\n",
    "    df_barcodes = pd.read_csv(path_barcodes, delimiter=\"\\t\", header=None)\n",
    "    df_barcodes = df_barcodes.rename(columns= {0:\"barcodes\"})\n",
    "    df_barcodes.index = df_barcodes[\"barcodes\"].str.split(\"-\").str[0]\n",
    "    df_barcodes = df_barcodes.drop([\"barcodes\"],axis=1)\n",
    "    df_barcodes.index.name = None\n",
    "    # Create an empty DataFrame for df_features\n",
    "    df_features = features = pd.read_csv(path_features, delimiter=\"\\t\", header=None, compression = \"gzip\", index_col=1)\n",
    "    df_features.index.name = None\n",
    "    df_features = df_features.rename(columns={0:\"ensembl_id\",2:\"feature_types\"})\n",
    "    \n",
    "    mat = scipy.io.mmread(path_matrix)\n",
    "    adata = sc.AnnData(X=mat.T)\n",
    "    adata.X = scipy.sparse.csr_matrix(adata.X)\n",
    "    \n",
    "    adata.var = pd.DataFrame(df_features)\n",
    "    adata.var[\"gene_name\"]=adata.var_names\n",
    "    adata.var_names = adata.var[\"ensembl_id\"]\n",
    "    adata.var.index.name = None\n",
    "    assert  adata.var_names.is_unique\n",
    "    adata.obs = pd.DataFrame(df_barcodes, index=df_barcodes.index.values)\n",
    "    adata.obs[\"sample_id\"]=sample_name\n",
    "    assert  adata.obs_names.is_unique\n",
    "    \n",
    "    # Save the AnnData object to a h5ad file\n",
    "    #adata.write(f'{out_dir}/adata_{sample_name}.h5ad')"
   ]
  },
  {
   "cell_type": "code",
   "execution_count": null,
   "id": "5305ec76-57b8-4096-b944-428d787d57cf",
   "metadata": {},
   "outputs": [],
   "source": [
    "adata_list = []\n",
    "adata_obs_list =[]\n",
    "# Loop through each sample name and create empty DataFrames\n",
    "for sample_name in sample_names:\n",
    "    file_path = f'{out_dir}/adata_{sample_name}.h5ad'\n",
    "    adata = ad.read_h5ad(file_path)\n",
    "    adata_list.append(adata)\n",
    "    \n",
    "# Concatenate the AnnData objects along the rows (observations)\n",
    "merged_adata = adata_list[0].concatenate(adata_list[1:], join=\"inner\")\n",
    "merged_adata.X = csr_matrix(merged_adata.X)\n",
    "merged_adata.write(f'{out_dir}/{experiment}_merged_data.h5ad')\n"
   ]
  },
  {
   "cell_type": "code",
   "execution_count": null,
   "id": "92ddaad1-b9ca-44d0-bb04-31a88de19a62",
   "metadata": {},
   "outputs": [],
   "source": [
    "#to be able to get back to enseble-gene name match \n",
    "merged_adata.var.to_csv(\"/data/projects/2021/MicrobialMetabolites/single-cell-sorted-cd8/results/merged/2019-10-29_sorted_cd8_merged_data_var.csv\")"
   ]
  },
  {
   "cell_type": "code",
   "execution_count": null,
   "id": "64a31c48-e2aa-45ca-91af-c6317c6a6eda",
   "metadata": {},
   "outputs": [],
   "source": [
    "sc.pp.filter_cells(merged_adata, min_counts=200)\n",
    "sc.pp.filter_cells(merged_adata, min_genes=200)\n",
    "\n",
    "merged_adata.write(f'{out_dir}/{experiment}_filtered_merged_data.h5ad')"
   ]
  },
  {
   "cell_type": "code",
   "execution_count": null,
   "id": "2abea3ac-6586-4a09-a032-a84b3ff5062e",
   "metadata": {},
   "outputs": [],
   "source": []
  }
 ],
 "metadata": {
  "kernelspec": {
   "display_name": "Python 3 (ipykernel)",
   "language": "python",
   "name": "python3"
  },
  "language_info": {
   "codemirror_mode": {
    "name": "ipython",
    "version": 3
   },
   "file_extension": ".py",
   "mimetype": "text/x-python",
   "name": "python",
   "nbconvert_exporter": "python",
   "pygments_lexer": "ipython3",
   "version": "3.11.8"
  }
 },
 "nbformat": 4,
 "nbformat_minor": 5
}
