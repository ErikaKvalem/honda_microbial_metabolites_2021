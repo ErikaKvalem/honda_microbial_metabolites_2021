{
 "cells": [
  {
   "cell_type": "markdown",
   "id": "8d2129ce-2090-4526-b4fc-7205bbb24162",
   "metadata": {},
   "source": [
    "# Filtering low quality reads"
   ]
  },
  {
   "cell_type": "code",
   "execution_count": null,
   "id": "be76b7bd-93f9-4775-baae-58f93e023600",
   "metadata": {},
   "outputs": [],
   "source": [
    "import scanpy as sc\n",
    "import seaborn as sns\n",
    "import anndata as ad\n",
    "from anndata import AnnData\n",
    "from typing import Optional\n",
    "import numpy as np\n",
    "import pandas as pd\n",
    "import scvi\n",
    "from scipy.stats import median_abs_deviation"
   ]
  },
  {
   "cell_type": "code",
   "execution_count": null,
   "id": "7defab97-ab5a-4db1-af73-3a97c77750aa",
   "metadata": {},
   "outputs": [],
   "source": [
    "adata_denoised_path= \"/data/projects/2021/MicrobialMetabolites/single-cell-sorted-cd8/results/merged/colon_and_tumor_denoised_data.h5ad\""
   ]
  },
  {
   "cell_type": "code",
   "execution_count": null,
   "id": "699505d9-8196-4e59-8fbe-d95e64a76643",
   "metadata": {},
   "outputs": [],
   "source": [
    "adata_denoised = sc.read_h5ad(adata_denoised_path)"
   ]
  },
  {
   "cell_type": "code",
   "execution_count": null,
   "id": "90cb27c3-ea0d-4e63-9db1-333f349f3435",
   "metadata": {},
   "outputs": [],
   "source": [
    "adata_denoised"
   ]
  },
  {
   "cell_type": "code",
   "execution_count": null,
   "id": "2b060fd2-1963-499d-8356-ef1dadbe433e",
   "metadata": {},
   "outputs": [],
   "source": [
    "adata_denoised.obs[\"sample_id\"].value_counts()"
   ]
  },
  {
   "cell_type": "code",
   "execution_count": null,
   "id": "1547390b-4ec0-4a74-80a7-10f905f23eea",
   "metadata": {},
   "outputs": [],
   "source": [
    "adata_denoised.var"
   ]
  },
  {
   "cell_type": "code",
   "execution_count": null,
   "id": "129d6c7a-2f91-4466-b6de-84fcf2398db1",
   "metadata": {},
   "outputs": [],
   "source": [
    "adata_denoised.obs"
   ]
  },
  {
   "cell_type": "code",
   "execution_count": null,
   "id": "69f5f10a-7d1f-43d3-84a0-61f38f2ff24d",
   "metadata": {},
   "outputs": [],
   "source": [
    "# mitochondrial genes\n",
    "adata_denoised.var[\"mt\"] = adata_denoised.var.gene_name.str.startswith(\"mt-\")"
   ]
  },
  {
   "cell_type": "code",
   "execution_count": null,
   "id": "37aefda1-9eb9-45bd-bbd2-76ba05ca7992",
   "metadata": {},
   "outputs": [],
   "source": [
    "adata_denoised.var[\"mt\"].value_counts()"
   ]
  },
  {
   "cell_type": "code",
   "execution_count": null,
   "id": "d1add816-818e-481d-a55d-496f607fc392",
   "metadata": {},
   "outputs": [],
   "source": [
    "# ribosomal genes\n",
    "adata_denoised.var[\"ribo\"] = adata_denoised.var.gene_name.str.startswith(\"Rps\",\"Rpl\")"
   ]
  },
  {
   "cell_type": "code",
   "execution_count": null,
   "id": "67a055e2-94fb-4453-a001-6d531978edba",
   "metadata": {},
   "outputs": [],
   "source": [
    "adata_denoised.var[\"ribo\"].value_counts()"
   ]
  },
  {
   "cell_type": "code",
   "execution_count": null,
   "id": "9df3dc67-f7a1-4b36-81d3-0b9513e356c5",
   "metadata": {},
   "outputs": [],
   "source": [
    "adata_denoised.var"
   ]
  },
  {
   "cell_type": "code",
   "execution_count": null,
   "id": "907d2c18-1606-4936-9d0e-1ec57c0c7c9a",
   "metadata": {},
   "outputs": [],
   "source": [
    "sc.pp.calculate_qc_metrics(adata_denoised, qc_vars=[\"mt\",\"ribo\"], inplace=True, percent_top=[20], log1p=True)"
   ]
  },
  {
   "cell_type": "code",
   "execution_count": null,
   "id": "bedee940-3c0b-4fb3-9d74-7ac17f196b41",
   "metadata": {},
   "outputs": [],
   "source": [
    "adata_denoised.var"
   ]
  },
  {
   "cell_type": "code",
   "execution_count": null,
   "id": "4b6dcdcc-9275-4e74-892d-33ed6a7c3c9e",
   "metadata": {
    "tags": []
   },
   "outputs": [],
   "source": [
    "adata_denoised.obs"
   ]
  },
  {
   "cell_type": "markdown",
   "id": "b4994d74-09e1-4170-8fcc-7a472cd3de1b",
   "metadata": {},
   "source": [
    "## PRE FILTER"
   ]
  },
  {
   "cell_type": "code",
   "execution_count": null,
   "id": "5408ca1e-4027-46bd-82e7-da151a6f6ad4",
   "metadata": {},
   "outputs": [],
   "source": [
    "p1 = sns.displot(adata_denoised.obs[\"total_counts\"], bins=100, kde=False)\n",
    "sc.pl.violin(adata_denoised, 'total_counts')\n",
    "p2 = sc.pl.violin(adata_denoised, \"pct_counts_mt\")\n",
    "p3 = sc.pl.scatter(adata_denoised, \"total_counts\", \"n_genes_by_counts\", color=\"pct_counts_mt\")"
   ]
  },
  {
   "cell_type": "code",
   "execution_count": null,
   "id": "009fd0d6-edc6-427c-90d4-263a7b55c39e",
   "metadata": {
    "tags": []
   },
   "outputs": [],
   "source": [
    "#sc.pl.violin(adata_denoised, ['n_genes_by_counts', 'total_counts', 'pct_counts_mt'],\n",
    "#             jitter=0.4, groupby = 'sample_id', rotation = 45);"
   ]
  },
  {
   "cell_type": "markdown",
   "id": "57ce2442-e203-4243-b7b2-9e9b5bbc7e0b",
   "metadata": {},
   "source": [
    "## POST FILTER"
   ]
  },
  {
   "cell_type": "code",
   "execution_count": null,
   "id": "b76079f5-ca24-48a5-b043-6b48ea524f68",
   "metadata": {},
   "outputs": [],
   "source": [
    "sc.pp.filter_cells(adata_denoised, min_counts=200)\n",
    "sc.pp.filter_cells(adata_denoised, min_genes=200)\n",
    "sc.pp.filter_cells(adata_denoised, max_counts=20000)\n",
    "sc.pp.filter_genes(adata_denoised, min_cells=10)\n",
    "sc.pp.filter_genes(adata_denoised, min_counts=10)"
   ]
  },
  {
   "cell_type": "code",
   "execution_count": null,
   "id": "b665a010-d854-4d07-a3a2-dc142b466a0e",
   "metadata": {},
   "outputs": [],
   "source": [
    "p1 = sns.displot(adata_denoised.obs[\"total_counts\"], bins=100, kde=False)\n",
    "sc.pl.violin(adata_denoised, 'total_counts')\n",
    "p2 = sc.pl.violin(adata_denoised, \"pct_counts_mt\")\n",
    "p3 = sc.pl.scatter(adata_denoised, \"total_counts\", \"n_genes_by_counts\", color=\"pct_counts_mt\")"
   ]
  },
  {
   "cell_type": "code",
   "execution_count": null,
   "id": "388d8ebd-5c2b-4f19-aad3-8173fc9f74f0",
   "metadata": {},
   "outputs": [],
   "source": [
    "#sc.pl.violin(adata_denoised, ['n_genes_by_counts', 'total_counts', 'pct_counts_mt'],\n",
    "#             jitter=0.4, groupby = 'sample_id', rotation = 45)"
   ]
  },
  {
   "cell_type": "code",
   "execution_count": null,
   "id": "1e359f07-ac76-47b8-a704-d1208b2aabd3",
   "metadata": {},
   "outputs": [],
   "source": [
    "adata_denoised.var_names_make_unique()"
   ]
  },
  {
   "cell_type": "code",
   "execution_count": null,
   "id": "77bb1d61-063c-430c-9eda-2c2e65bc7e90",
   "metadata": {},
   "outputs": [],
   "source": [
    "adata_denoised.obs_names_make_unique()"
   ]
  },
  {
   "cell_type": "code",
   "execution_count": null,
   "id": "4e2b4fc5-59f9-44dc-8da5-3de68a089f75",
   "metadata": {},
   "outputs": [],
   "source": [
    "def is_outlier(adata: AnnData, metric_col: str, *, groupby: Optional[str] = None, n_mads: float = 5) -> pd.Series:\n",
    "    \"\"\"Detect outliers by median absolute deviation (MAD).\n",
    "\n",
    "    Adapted from https://www.sc-best-practices.org/preprocessing_visualization/quality_control.html#motivation\n",
    "\n",
    "    Parameters\n",
    "    ----------\n",
    "    adata\n",
    "        AnnData object\n",
    "    metric_col\n",
    "        column in adata.obs to consider\n",
    "    groupby\n",
    "        grouping variable. If specified, outliers will be determined for each value of this grouping variable separately.\n",
    "        E.g. `dataset`.\n",
    "    n_mads\n",
    "        label points that are outside of median +/- nmads * MAD.\n",
    "    \"\"\"\n",
    "\n",
    "    def _is_outlier(df):\n",
    "        \"\"\"Check if metric value deviates from the median by more than n_mads MADs.\"\"\"\n",
    "        metric_values = df[metric_col]\n",
    "        return np.abs(metric_values - np.median(metric_values)) > n_mads * median_abs_deviation(metric_values)\n",
    "\n",
    "    if groupby is None:\n",
    "        return _is_outlier(adata.obs)\n",
    "    else:\n",
    "        return adata.obs.groupby(groupby).apply(_is_outlier).droplevel(groupby).reindex(adata.obs_names)  # type: ignore"
   ]
  },
  {
   "cell_type": "code",
   "execution_count": null,
   "id": "8a37ea1e-81b1-4c44-a0ce-dbf755fe074d",
   "metadata": {
    "tags": []
   },
   "outputs": [],
   "source": [
    "adata_denoised.obs[\"is_outlier_counts\"] =is_outlier(adata_denoised, \"log1p_total_counts\", n_mads=5, groupby=\"sample_id\")\n",
    "adata_denoised.obs[\"is_outlier_genes\"] =is_outlier(adata_denoised, \"log1p_n_genes_by_counts\", n_mads=5, groupby=\"sample_id\")\n",
    "adata_denoised.obs[\"is_outlier_top_20\"] = is_outlier(adata_denoised, \"pct_counts_in_top_20_genes\", n_mads=5, groupby=\"sample_id\")"
   ]
  },
  {
   "cell_type": "code",
   "execution_count": null,
   "id": "2481fb57-fb54-4a6c-a177-3cbc3af2db60",
   "metadata": {},
   "outputs": [],
   "source": [
    "adata_denoised.obs[\"is_outlier_mito\"] = is_outlier(adata_denoised, \"pct_counts_mt\", n_mads=1, groupby=\"sample_id\")"
   ]
  },
  {
   "cell_type": "code",
   "execution_count": null,
   "id": "0d89f47b-89e8-4a9f-a6e5-d50e6ea5fa10",
   "metadata": {},
   "outputs": [],
   "source": [
    "adata_denoised.obs[\"is_outlier\"] = (\n",
    "    np.sum(\n",
    "        adata_denoised.obs.loc[\n",
    "            :,\n",
    "            [\n",
    "                \"is_outlier_counts\",\n",
    "                \"is_outlier_genes\",\n",
    "                \"is_outlier_top_20\",\n",
    "                \"is_outlier_mito\",\n",
    "            ],\n",
    "        ],\n",
    "        axis=1,\n",
    "    )\n",
    "    >= 2\n",
    ")"
   ]
  },
  {
   "cell_type": "code",
   "execution_count": null,
   "id": "56a2d8a6-549f-401e-93ad-8c6942cbbe0b",
   "metadata": {},
   "outputs": [],
   "source": [
    "adata_denoised"
   ]
  },
  {
   "cell_type": "code",
   "execution_count": null,
   "id": "76a1dfce-f146-4d3f-8537-4ac6f9819d6e",
   "metadata": {},
   "outputs": [],
   "source": [
    "adata_denoised.obs[\"is_outlier\"].value_counts()"
   ]
  },
  {
   "cell_type": "code",
   "execution_count": null,
   "id": "bdbe54d6-0fff-417a-bab8-b87d01fe8708",
   "metadata": {},
   "outputs": [],
   "source": [
    "adata_filtered = adata_denoised[~adata_denoised.obs[\"is_outlier\"]].copy()"
   ]
  },
  {
   "cell_type": "code",
   "execution_count": null,
   "id": "0953bcf7-1854-428a-b586-ccd8a5d86e67",
   "metadata": {},
   "outputs": [],
   "source": [
    "p1 = sns.displot(adata_filtered.obs[\"total_counts\"], bins=100, kde=False)\n",
    "sc.pl.violin(adata_filtered, 'total_counts')\n",
    "p2 = sc.pl.violin(adata_filtered, \"pct_counts_mt\")\n",
    "p3 = sc.pl.scatter(adata_filtered, \"total_counts\", \"n_genes_by_counts\", color=\"pct_counts_mt\")"
   ]
  },
  {
   "cell_type": "code",
   "execution_count": null,
   "id": "4282e4fd-75c0-4e6c-bed0-a2a468092dea",
   "metadata": {},
   "outputs": [],
   "source": [
    "adata_filtered.var.index = adata_filtered.var.gene_name"
   ]
  },
  {
   "cell_type": "markdown",
   "id": "9cc0a9d4-6a22-4188-a792-24ee97b1d329",
   "metadata": {},
   "source": [
    "## **ERROR adata_filtered.var_names_make_unique()**\n",
    "\n",
    "\n",
    "TypeError: Cannot setitem on a Categorical with a new category (Ptp4a1-1), set the categories first"
   ]
  },
  {
   "cell_type": "code",
   "execution_count": null,
   "id": "0505c2bd-3d50-45d4-9c17-032678d645aa",
   "metadata": {},
   "outputs": [],
   "source": [
    "sc.pl.highest_expr_genes(adata_filtered,n_top=20)"
   ]
  },
  {
   "cell_type": "code",
   "execution_count": null,
   "id": "dc47224f-8dba-4b79-bf23-e94977cf03e6",
   "metadata": {},
   "outputs": [],
   "source": [
    "adata_filtered"
   ]
  },
  {
   "cell_type": "markdown",
   "id": "c3431424-d7f5-4d27-b898-55248ae48087",
   "metadata": {},
   "source": [
    "## **Perform normalization on RAW counts or on denoised?**"
   ]
  },
  {
   "cell_type": "code",
   "execution_count": null,
   "id": "6783ea03-b815-4e97-92f0-ae1c53703a17",
   "metadata": {},
   "outputs": [],
   "source": [
    "adata_filtered.X = adata_filtered.layers[\"denoised\"].copy()"
   ]
  },
  {
   "cell_type": "code",
   "execution_count": null,
   "id": "93370b35-e93a-42a1-875d-83d271597fec",
   "metadata": {},
   "outputs": [],
   "source": [
    "adata_filtered.X.sum(axis=1) # each rows is a cell calculate the sum  --> total count for each cell "
   ]
  },
  {
   "cell_type": "code",
   "execution_count": null,
   "id": "a5089f55-6275-425c-b76b-ba3453ae8fdf",
   "metadata": {},
   "outputs": [],
   "source": [
    "# normalize the counts in each cell so that the total counts adds up to the same value \n",
    "sc.pp.normalize_total(adata_filtered, target_sum = 1e6)"
   ]
  },
  {
   "cell_type": "code",
   "execution_count": null,
   "id": "2b3fc7a7-dff7-45fe-91fa-a7fb593de849",
   "metadata": {},
   "outputs": [],
   "source": [
    "adata_filtered.X.sum(axis=1) # the sum of each adds up to 100000 the same for all "
   ]
  },
  {
   "cell_type": "code",
   "execution_count": null,
   "id": "6f7104d3-1638-4000-8507-d31485102d6c",
   "metadata": {},
   "outputs": [],
   "source": [
    "# Convert  those to log counts \n",
    "sc.pp.log1p(adata_filtered) \n",
    "adata_filtered.layers[\"logcounts\"] = adata_filtered.X.copy()"
   ]
  },
  {
   "cell_type": "code",
   "execution_count": null,
   "id": "37509793-a9e2-429c-83b1-09bc21545182",
   "metadata": {},
   "outputs": [],
   "source": [
    "adata_filtered.X.sum(axis=1) # now the logtransformation has been applied (not a linear transformation, that is why they are not all the same). \n",
    "# They are still comparable"
   ]
  },
  {
   "cell_type": "code",
   "execution_count": null,
   "id": "cc312bcc-dbe7-43ab-acc3-1e51872dcfb2",
   "metadata": {},
   "outputs": [],
   "source": [
    "# FREEZE a data as it is now before filtering based on variable genes, regressing etc \n",
    "adata_filtered.raw = adata_filtered"
   ]
  },
  {
   "cell_type": "markdown",
   "id": "8ed87e7a-684d-46cc-a568-789baff0fb5b",
   "metadata": {},
   "source": [
    "## **STIL NEED TO GET RID OF SOME MT GENES**"
   ]
  },
  {
   "cell_type": "code",
   "execution_count": null,
   "id": "c2111b16-4c7c-4416-9fc1-e4908d0cd663",
   "metadata": {},
   "outputs": [],
   "source": [
    "out_dir = \"/data/projects/2021/MicrobialMetabolites/single-cell-sorted-cd8/results/filtered\""
   ]
  },
  {
   "cell_type": "code",
   "execution_count": null,
   "id": "a2d0e0cc-586b-4068-abd2-80f999a8b8a3",
   "metadata": {},
   "outputs": [],
   "source": [
    "experiment = \"colon_and_tumor\""
   ]
  },
  {
   "cell_type": "code",
   "execution_count": null,
   "id": "f1a9d1ca-ea6b-4055-a94b-571fe6f36bf0",
   "metadata": {},
   "outputs": [],
   "source": [
    "# The final adata filtered contains raw and log counts \n",
    "adata_filtered.write_h5ad(f\"{out_dir}/{experiment}_adata_final_filtered.h5ad\") "
   ]
  },
  {
   "cell_type": "code",
   "execution_count": null,
   "id": "50c92666-b72a-41e7-9dcc-c13a7ee84a04",
   "metadata": {},
   "outputs": [],
   "source": []
  }
 ],
 "metadata": {
  "kernelspec": {
   "display_name": "Python 3 (ipykernel)",
   "language": "python",
   "name": "python3"
  },
  "language_info": {
   "codemirror_mode": {
    "name": "ipython",
    "version": 3
   },
   "file_extension": ".py",
   "mimetype": "text/x-python",
   "name": "python",
   "nbconvert_exporter": "python",
   "pygments_lexer": "ipython3",
   "version": "3.11.8"
  }
 },
 "nbformat": 4,
 "nbformat_minor": 5
}
