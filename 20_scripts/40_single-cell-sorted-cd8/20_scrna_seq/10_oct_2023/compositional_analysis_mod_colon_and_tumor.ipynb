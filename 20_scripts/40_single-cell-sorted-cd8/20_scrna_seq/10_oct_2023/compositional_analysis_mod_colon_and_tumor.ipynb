{
 "cells": [
  {
   "cell_type": "code",
   "execution_count": null,
   "id": "d41bd223-4e19-4608-a783-f4139da2513a",
   "metadata": {},
   "outputs": [],
   "source": [
    "# TUTORIAL "
   ]
  },
  {
   "cell_type": "code",
   "execution_count": null,
   "id": "5e3f7766-bdba-4a15-894f-faedbd885f9b",
   "metadata": {},
   "outputs": [],
   "source": [
    "# Imports\n",
    "import pandas as pd\n",
    "import matplotlib.pyplot as plt\n",
    "import anndata as ad\n",
    "import warnings\n",
    "\n",
    "from sccoda.util import cell_composition_data as dat\n",
    "from sccoda.util import data_visualization as viz\n",
    "\n",
    "import sccoda.datasets as scd\n",
    "\n",
    "warnings.filterwarnings(\"ignore\")"
   ]
  },
  {
   "cell_type": "code",
   "execution_count": null,
   "id": "eccb996c-700e-46ce-8558-d4a2acbd0bb8",
   "metadata": {},
   "outputs": [],
   "source": [
    "# read data\n",
    "adata = ad.read_h5ad(\"/data/projects/2021/MicrobialMetabolites/single-cell-sorted-cd8/results/adata_solo_integrated.h5ad\")\n",
    "print(adata)\n"
   ]
  },
  {
   "cell_type": "code",
   "execution_count": null,
   "id": "02d9612d-b6ff-4479-85b4-aec2aafecd7d",
   "metadata": {
    "tags": []
   },
   "outputs": [],
   "source": [
    "def update_columns(row):\n",
    "   \n",
    "    if row['sample_id'] == \"10mix1\":\n",
    "        row['condition'] = \"10mix\"\n",
    "    elif row['sample_id'] == \"10mix2\":\n",
    "         row['condition'] = \"10mix\"\n",
    "    elif row['sample_id'] == \"11mix1\":\n",
    "         row['condition'] = \"11mix\"\n",
    "    elif row['sample_id'] == \"11mix2\":\n",
    "         row['condition'] = \"11mix\"\n",
    "    elif row['sample_id'] == \"GF1\":\n",
    "         row['condition'] = \"GF\"\n",
    "    elif row['sample_id'] == \"GF2\":\n",
    "         row['condition'] = \"GF\"\n",
    "    elif row['sample_id'] == \"GF-ICI2-plus\":\n",
    "         row['condition'] = \"GF-plus\"\n",
    "    elif row['sample_id'] == \"GF-ICI1-plus\":\n",
    "         row['condition'] = \"GF-plus\"\n",
    "    elif row['sample_id'] == \"GF-ICI2\":\n",
    "         row['condition'] = \"GF\"\n",
    "    elif row['sample_id'] == \"GF-ICI1\":\n",
    "         row['condition'] = \"GF\"\n",
    "    elif row['sample_id'] == \"10mix-ICI1\":\n",
    "         row['condition'] = \"10mix\"\n",
    "    elif row['sample_id'] == \"10mix-ICI2\":\n",
    "         row['condition'] = \"10mix\"\n",
    "    elif row['sample_id'] == \"11mix-ICI1\":\n",
    "         row['condition'] = \"11mix\"\n",
    "    elif row['sample_id'] == \"11mix-ICI2\":\n",
    "         row['condition'] = \"11mix\"\n",
    "    \n",
    "    \n",
    "        \n",
    "        \n",
    "    return row\n",
    "\n",
    "# Apply the function to each row in the DataFrame\n",
    "adata.obs = adata.obs.apply(update_columns, axis=1)"
   ]
  },
  {
   "cell_type": "code",
   "execution_count": null,
   "id": "adaae83c-c4b3-406c-8194-de04d09cc482",
   "metadata": {},
   "outputs": [],
   "source": [
    "#def from_scanpy\n",
    "sample_identifier = \"cell_type\"\n",
    "cell_type_identifier  = \"condition\"\n",
    "groups = adata.obs.value_counts([sample_identifier, cell_type_identifier])\n",
    "count_data = groups.unstack(level=cell_type_identifier)\n",
    "count_data = count_data.fillna(0)\n",
    "covariate_df = pd.DataFrame(index=count_data.index)\n",
    "if set(covariate_df.index) != set(count_data.index):\n",
    "    raise ValueError(\"anndata sample names and covariate_df index do not have the same elements!\")\n",
    "covs_ord = covariate_df.reindex(count_data.index)\n",
    "covs_ord.index = covs_ord.index.astype(str)\n",
    "var_dat = count_data.sum(axis=0).rename(\"n_cells\").to_frame()\n",
    "var_dat.index = var_dat.index.astype(str)\n",
    "ad.AnnData(X=count_data.values,\n",
    "                  var=var_dat,\n",
    "                  obs=covs_ord)"
   ]
  },
  {
   "cell_type": "code",
   "execution_count": null,
   "id": "942c57b3-453e-480b-8c90-7e954a299996",
   "metadata": {},
   "outputs": [],
   "source": [
    "count_data.columns.name = None\n",
    "count_data[\"cell_type\"] = count_data.index\n",
    "count_data = count_data.reset_index(drop=True)"
   ]
  },
  {
   "cell_type": "code",
   "execution_count": null,
   "id": "e0bae908-cc7e-4819-b843-f26ab7c8133c",
   "metadata": {},
   "outputs": [],
   "source": [
    "count_data"
   ]
  },
  {
   "cell_type": "code",
   "execution_count": null,
   "id": "9ca38ff5-d7fc-42f2-8bee-358c4e0681c1",
   "metadata": {},
   "outputs": [],
   "source": [
    "custom_order = [\"10mix1\", \"10mix2\", \"11mix1\", \"11mix2\",\"GF1\",\"GF2\",\"10mix-ICI1\", \"10mix-ICI2\", \"11mix-ICI1\", \"11mix-ICI2\",\"GF-ICI1\",\"GF-ICI2\",\"GF-ICI1-plus\",\"GF-ICI2-plus\"]\n",
    "\n",
    "count_data['sample_id'] = count_data['sample_id'].astype(pd.CategoricalDtype(categories=custom_order, ordered=True))\n",
    "ordered_df = count_data.sort_values(by='sample_id')"
   ]
  },
  {
   "cell_type": "code",
   "execution_count": null,
   "id": "942b3ee6-6e72-45d3-8e0f-e4434d0d5705",
   "metadata": {},
   "outputs": [],
   "source": [
    "data_f = dat.from_pandas(count_data, covariate_columns=[\"cell_type\"])\n"
   ]
  },
  {
   "cell_type": "code",
   "execution_count": null,
   "id": "ef6f40c7-8185-405c-8177-da4a95cf9dac",
   "metadata": {},
   "outputs": [],
   "source": [
    "data_f"
   ]
  },
  {
   "cell_type": "code",
   "execution_count": null,
   "id": "25e139b0-a2f4-4c67-bb2b-f6da0cfaff4e",
   "metadata": {},
   "outputs": [],
   "source": [
    "# Stacked barplot for each sample\n",
    "\n",
    "ax=viz.stacked_barplot(data_f, feature_name=\"cell_type\")\n",
    "ax.set_ylabel(\"Fraction of cells (%)\")\n",
    "\n",
    "# Convert y-axis ticks to percentages\n",
    "ax.set_yticklabels(['{:.0f}%'.format(x) for x in ax.get_yticks()])\n",
    "\n",
    "#ax.yaxis.set_label_coords(1.1, 0.5)  # Adjust the coordinates as needed\n",
    "\n",
    "\n",
    "\n",
    "# Move the y-axis label to the right side\n",
    "ax.yaxis.tick_right()  # Place ticks on the right side\n",
    "ax.yaxis.set_label_position(\"right\")  # Position y-axis label on the right side\n",
    "ax.yaxis.labelpad = 15  #\n",
    "\n",
    "# Remove the border of the outer legend square\n",
    "ax.legend(loc='lower left', bbox_to_anchor=(1, 1), frameon=False)\n",
    "ax.set_xticklabels(ax.get_xticklabels(), rotation=90, ha='center')\n",
    "\n",
    "plt.savefig('composition.pdf', bbox_inches='tight')\n",
    "plt.savefig('composition.svg', bbox_inches='tight')\n",
    "plt.savefig('composition.png', bbox_inches='tight', dpi=300)  # Adjust dpi as needed\n",
    "plt.show()"
   ]
  },
  {
   "cell_type": "code",
   "execution_count": null,
   "id": "d902af9a-9560-401c-b21c-5a4180bfb672",
   "metadata": {},
   "outputs": [],
   "source": [
    "#def from_scanpy\n",
    "sample_identifier = \"cell_type\"\n",
    "cell_type_identifier  = \"origin\"\n",
    "groups = adata.obs.value_counts([sample_identifier, cell_type_identifier])\n",
    "count_data = groups.unstack(level=cell_type_identifier)\n",
    "count_data = count_data.fillna(0)\n",
    "covariate_df = pd.DataFrame(index=count_data.index)\n",
    "if set(covariate_df.index) != set(count_data.index):\n",
    "    raise ValueError(\"anndata sample names and covariate_df index do not have the same elements!\")\n",
    "covs_ord = covariate_df.reindex(count_data.index)\n",
    "covs_ord.index = covs_ord.index.astype(str)\n",
    "var_dat = count_data.sum(axis=0).rename(\"n_cells\").to_frame()\n",
    "var_dat.index = var_dat.index.astype(str)\n",
    "ad.AnnData(X=count_data.values,\n",
    "                  var=var_dat,\n",
    "                  obs=covs_ord)"
   ]
  },
  {
   "cell_type": "code",
   "execution_count": null,
   "id": "dfaf3d77-5897-435a-a0f8-4227c865ee44",
   "metadata": {},
   "outputs": [],
   "source": [
    "count_data.columns.name = None\n",
    "count_data[\"cell_type\"] = count_data.index\n",
    "count_data = count_data.reset_index(drop=True)"
   ]
  },
  {
   "cell_type": "code",
   "execution_count": null,
   "id": "e6fecf2e-abae-47a9-8f7d-831e1ed9172a",
   "metadata": {},
   "outputs": [],
   "source": [
    "count_data"
   ]
  },
  {
   "cell_type": "code",
   "execution_count": null,
   "id": "7a422548-a320-4031-85a8-d0879bb5025a",
   "metadata": {},
   "outputs": [],
   "source": [
    "data_f = dat.from_pandas(count_data, covariate_columns=[\"cell_type\"])\n"
   ]
  },
  {
   "cell_type": "code",
   "execution_count": null,
   "id": "8d7de5ae-be55-42bb-bfec-5e5de8b511a5",
   "metadata": {},
   "outputs": [],
   "source": [
    "import matplotlib.patches as mpatches"
   ]
  },
  {
   "cell_type": "code",
   "execution_count": null,
   "id": "f22bc297-4bd1-4b6a-ac97-23e5f0f35080",
   "metadata": {},
   "outputs": [],
   "source": [
    "# Stacked barplot for each sample\n",
    "custom_colors = ['blue', 'pink']\n",
    "ax=viz.stacked_barplot(data_f, feature_name=\"cell_type\")\n",
    "ax.set_ylabel(\"Fraction of cells (%)\")\n",
    "\n",
    "\n",
    "# Convert y-axis ticks to percentages\n",
    "ax.set_yticklabels(['{:.0f}%'.format(x) for x in ax.get_yticks()])\n",
    "\n",
    "#ax.yaxis.set_label_coords(1.1, 0.5)  # Adjust the coordinates as needed\n",
    "\n",
    "\n",
    "\n",
    "\n",
    "\n",
    "# Move the y-axis label to the right side\n",
    "ax.yaxis.tick_right()  # Place ticks on the right side\n",
    "ax.yaxis.set_label_position(\"right\")  # Position y-axis label on the right side\n",
    "ax.yaxis.labelpad = 15  #\n",
    "\n",
    "# Remove the border of the outer legend square\n",
    "ax.legend(loc='lower left', bbox_to_anchor=(1, 1), frameon=False)\n",
    "ax.set_xticklabels([])\n",
    "ax.set_xticklabels([])\n",
    "colors = ['blue', 'pink']  # Adjust colors as needed\n",
    "\n",
    "# Loop through each container in the plot and set the colors\n",
    "for container, color in zip(ax.containers, colors):\n",
    "    for patch in container.patches:\n",
    "        patch.set_facecolor(color)\n",
    "        \n",
    "        # Create custom legend handles and labels\n",
    "legend_handles = [mpatches.Patch(color=color, label=label) for color, label in zip(colors, ['Colon', 'TIL'])]\n",
    "\n",
    "# Modify the legend using the custom handles and labels\n",
    "ax.legend(handles=legend_handles, loc='upper left', bbox_to_anchor=(1, 1.5), frameon=False)\n",
    "\n",
    "\n",
    "plt.savefig('composition_origin.pdf', bbox_inches='tight')\n",
    "plt.savefig('composition_origin.svg', bbox_inches='tight')\n",
    "plt.savefig('composition_origin.png', bbox_inches='tight', dpi=300)  # Adjust dpi as needed\n",
    "\n",
    "plt.show()"
   ]
  },
  {
   "cell_type": "code",
   "execution_count": null,
   "id": "084d2084-c1f5-4826-a891-dd9c31d37fc5",
   "metadata": {},
   "outputs": [],
   "source": [
    "adata.obs.origin.value_counts()"
   ]
  },
  {
   "cell_type": "code",
   "execution_count": null,
   "id": "9cf3f9c3-7581-40d6-b448-b7119ffb6440",
   "metadata": {},
   "outputs": [],
   "source": []
  },
  {
   "cell_type": "code",
   "execution_count": null,
   "id": "657292e4-1b77-458d-bc32-730a9c7ba7d2",
   "metadata": {},
   "outputs": [],
   "source": [
    "# Create a stacked barplot with rotated x-axis and switched axes\n",
    ".pl.stacked_barplot(data_f, feature_name=\"sample_id\", swap_axes=True, rotation=45)\n",
    "\n",
    "plt.show()\n"
   ]
  },
  {
   "cell_type": "code",
   "execution_count": null,
   "id": "0da370ba-c0fd-4cc6-906c-b40d0d44f1a8",
   "metadata": {},
   "outputs": [],
   "source": [
    "# Stacked barplot for each sample\n",
    "viz.stacked_barplot(data_f, feature_name=\"origin\")\n",
    "plt.show()"
   ]
  },
  {
   "cell_type": "code",
   "execution_count": null,
   "id": "25b97161-2a1a-4928-995f-2173b19f0ba8",
   "metadata": {},
   "outputs": [],
   "source": [
    "# Grouped boxplots. No facets, relative abundance, no dots.\n",
    "viz.boxplots(\n",
    "    data_f,\n",
    "    feature_name=\"sex\",\n",
    "    plot_facets=False,\n",
    "    y_scale=\"relative\",\n",
    "    add_dots=False,\n",
    ")\n",
    "plt.show()\n",
    "\n",
    "# Grouped boxplots. Facets, log scale, added dots and custom color palette.\n",
    "viz.boxplots(\n",
    "    data_f,\n",
    "    feature_name=\"sex\",\n",
    "    plot_facets=True,\n",
    "    y_scale=\"log\",\n",
    "    add_dots=True,\n",
    "    cmap=\"Reds\",\n",
    ")\n",
    "plt.show()"
   ]
  },
  {
   "cell_type": "code",
   "execution_count": null,
   "id": "e533459f-84df-41ee-8f43-1a89c567b79f",
   "metadata": {},
   "outputs": [],
   "source": [
    "viz.rel_abundance_dispersion_plot(\n",
    "    data=data_f,\n",
    "    abundant_threshold=0.9\n",
    ")\n",
    "plt.show()"
   ]
  },
  {
   "cell_type": "code",
   "execution_count": null,
   "id": "65f91aea-4c31-4dd0-9ec4-b9b54b6d80a1",
   "metadata": {},
   "outputs": [],
   "source": [
    "from sccoda.util import comp_ana as mod"
   ]
  },
  {
   "cell_type": "code",
   "execution_count": null,
   "id": "d36fe5a6-2b01-46f4-8adf-4278f31ee1e0",
   "metadata": {},
   "outputs": [],
   "source": [
    "model_salm = mod.CompositionalAnalysis(data_f, formula=\"sex\", reference_cell_type=\"malignant cell\")"
   ]
  },
  {
   "cell_type": "code",
   "execution_count": null,
   "id": "7c8cda61-31a3-4176-bd0a-4ae4f1aadfbf",
   "metadata": {},
   "outputs": [],
   "source": [
    "# Run MCMC\n",
    "sim_results = model_salm.sample_hmc()"
   ]
  },
  {
   "cell_type": "code",
   "execution_count": null,
   "id": "02dec76e-bd30-4e93-9d34-9a48fb8df6fa",
   "metadata": {},
   "outputs": [],
   "source": [
    "sim_results.summary()"
   ]
  },
  {
   "cell_type": "code",
   "execution_count": null,
   "id": "f3bf9e54-6297-40d8-9bb2-437a5d3906bd",
   "metadata": {},
   "outputs": [],
   "source": [
    "print(sim_results.credible_effects())"
   ]
  },
  {
   "cell_type": "code",
   "execution_count": null,
   "id": "e91b1a4c-b23e-48a3-9299-48e38f949bbc",
   "metadata": {},
   "outputs": [],
   "source": [
    "sim_results.set_fdr(est_fdr=0.05)\n",
    "sim_results.summary()"
   ]
  },
  {
   "cell_type": "code",
   "execution_count": null,
   "id": "b45ee693-5bbc-4e1e-a7f7-6dd98d4bd68f",
   "metadata": {},
   "outputs": [],
   "source": [
    "print(sim_results.credible_effects())"
   ]
  },
  {
   "cell_type": "code",
   "execution_count": null,
   "id": "8b193faf-c98c-40a4-8c26-ffaf449b248d",
   "metadata": {},
   "outputs": [],
   "source": [
    "# Run scCODA with each cell type as the reference\n",
    "cell_types = data_f.var.index\n",
    "results_cycle = pd.DataFrame(index=cell_types, columns=[\"times_credible\"]).fillna(0)\n",
    "\n",
    "for ct in cell_types:\n",
    "    print(f\"Reference: {ct}\")\n",
    "\n",
    "    # Run inference\n",
    "    model_temp = mod.CompositionalAnalysis(data_f, formula=\"sex\",reference_cell_type=ct)\n",
    "    temp_results = model_temp.sample_hmc(num_results=20000)\n",
    "\n",
    "    # Select credible effects\n",
    "    cred_eff = temp_results.credible_effects()\n",
    "    cred_eff.index = cred_eff.index.droplevel(level=0)\n",
    "\n",
    "    # add up credible effects\n",
    "    results_cycle[\"times_credible\"] += cred_eff.astype(\"int\")"
   ]
  },
  {
   "cell_type": "code",
   "execution_count": null,
   "id": "74aee9aa-a956-4ad7-a4e7-012d861321d9",
   "metadata": {},
   "outputs": [],
   "source": [
    "# Calculate percentages\n",
    "results_cycle[\"pct_credible\"] = results_cycle[\"times_credible\"]/len(cell_types)\n",
    "results_cycle[\"is_credible\"] = results_cycle[\"pct_credible\"] > 0.5\n",
    "print(results_cycle)"
   ]
  },
  {
   "cell_type": "code",
   "execution_count": null,
   "id": "7383616a-e5c3-4ead-9093-734e74a6c7ce",
   "metadata": {},
   "outputs": [],
   "source": []
  }
 ],
 "metadata": {
  "kernelspec": {
   "display_name": "Python 3 (ipykernel)",
   "language": "python",
   "name": "python3"
  },
  "language_info": {
   "codemirror_mode": {
    "name": "ipython",
    "version": 3
   },
   "file_extension": ".py",
   "mimetype": "text/x-python",
   "name": "python",
   "nbconvert_exporter": "python",
   "pygments_lexer": "ipython3",
   "version": "3.11.8"
  }
 },
 "nbformat": 4,
 "nbformat_minor": 5
}
