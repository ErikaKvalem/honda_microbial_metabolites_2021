{
 "cells": [
  {
   "cell_type": "code",
   "execution_count": null,
   "id": "3a5a5b8f-59ec-4a68-9efb-fc6581fec8c3",
   "metadata": {},
   "outputs": [],
   "source": [
    "#from docopt import docopt\n",
    "#import anndata as ad\n",
    "#import scanpy as sc\n",
    "#import pandas as pd\n",
    "#import scanpy_helpers as sh\n",
    "#import decoupler as dc\n",
    "#from tqdm import tqdm\n",
    "#import re \n",
    "#import matplotlib.pyplot as plt\n",
    "#import seaborn as sns\n",
    "#from math import ceil\n",
    "#from itertools import zip_longest"
   ]
  },
  {
   "cell_type": "code",
   "execution_count": null,
   "id": "90dfdeb7-b7fb-4822-b5b7-4b5fc2b9c840",
   "metadata": {},
   "outputs": [],
   "source": [
    "import seaborn as sns\n",
    "import pandas as pd"
   ]
  },
  {
   "cell_type": "code",
   "execution_count": null,
   "id": "9e4dcad7-7b1c-4704-83c2-696f187d0354",
   "metadata": {},
   "outputs": [],
   "source": [
    "import scanpy as sc"
   ]
  },
  {
   "cell_type": "code",
   "execution_count": null,
   "id": "f033275b-7325-46ce-9f28-bb90f2258c03",
   "metadata": {},
   "outputs": [],
   "source": [
    "import scirpy as ir"
   ]
  },
  {
   "cell_type": "code",
   "execution_count": null,
   "id": "4d1c240c-68d1-44be-921d-69319e09da10",
   "metadata": {},
   "outputs": [],
   "source": [
    "path_tcr_input = \"/data/projects/2021/MicrobialMetabolites/single-cell-sorted-cd8/2019-10-29_sorted_cd8/analyses_icbi/scrna_seq_data/vdj_t/10mix1_filtered_contig_annotations.csv\""
   ]
  },
  {
   "cell_type": "code",
   "execution_count": null,
   "id": "d3e78436-cd23-456a-bd82-4ddc82577e28",
   "metadata": {},
   "outputs": [],
   "source": [
    "df_tcr_raw = pd.read_csv(path_tcr_input)"
   ]
  },
  {
   "cell_type": "code",
   "execution_count": null,
   "id": "bbe98fea-fff6-4522-bdca-14580d1de9e3",
   "metadata": {},
   "outputs": [],
   "source": [
    "df_tcr_raw"
   ]
  },
  {
   "cell_type": "code",
   "execution_count": null,
   "id": "fdb3a515-fef2-4a9f-b0ee-f4732495d39c",
   "metadata": {},
   "outputs": [],
   "source": [
    "df_tcr_raw[\"productive\"] = df_tcr_raw[\"productive\"].astype(str)\n",
    "print(f\"Total measurements: {len(df_tcr_raw)}\")\n",
    "df_tcr_raw.head(5)"
   ]
  },
  {
   "cell_type": "code",
   "execution_count": null,
   "id": "87f2f8e3-3c3c-4a32-bf26-60e4cad6345d",
   "metadata": {},
   "outputs": [],
   "source": [
    "df_tcr_raw.columns"
   ]
  },
  {
   "cell_type": "code",
   "execution_count": null,
   "id": "4fefaf58-d271-4234-ba3e-6fe0411bed1b",
   "metadata": {},
   "outputs": [],
   "source": [
    "df_tcr_raw.full_length"
   ]
  },
  {
   "cell_type": "code",
   "execution_count": null,
   "id": "af5028b6-69e9-4175-9a37-351110b226f0",
   "metadata": {},
   "outputs": [],
   "source": [
    "columns = [\n",
    "    \"barcode\",\n",
    "    \"v_gene\",\n",
    "    \"d_gene\",\n",
    "    \"c_gene\",\n",
    "    \"j_gene\",\n",
    "    \"productive\",\n",
    "    \"full_length\",\n",
    "]\n",
    "df_tcr_raw[~df_tcr_raw[\"full_length\"]][columns].head()"
   ]
  },
  {
   "cell_type": "code",
   "execution_count": null,
   "id": "e50056db-edd1-44b4-acb1-6d73560a1352",
   "metadata": {},
   "outputs": [],
   "source": [
    "columns += [\"cdr3\", \"cdr3_nt\"]"
   ]
  },
  {
   "cell_type": "code",
   "execution_count": null,
   "id": "b7e96275-04c5-4fcb-b71a-e0e361cbb0d8",
   "metadata": {},
   "outputs": [],
   "source": [
    "df_tcr_raw[(df_tcr_raw[\"productive\"] == \"False\") & (df_tcr_raw[\"full_length\"])][columns].head(5)"
   ]
  },
  {
   "cell_type": "code",
   "execution_count": null,
   "id": "dd87d5ad-8805-4a57-8869-c18b34a1b48a",
   "metadata": {},
   "outputs": [],
   "source": [
    "# The column 'productive' contains mixed data types which are not compatible with downstream tools.\n",
    "# We correct them by casting them to strings."
   ]
  },
  {
   "cell_type": "code",
   "execution_count": null,
   "id": "f9e633b9-5d6c-48d5-a969-dbbf9354ab4e",
   "metadata": {},
   "outputs": [],
   "source": [
    "df_tcr_raw[\"productive\"] = df_tcr_raw[\"productive\"].astype(str)"
   ]
  },
  {
   "cell_type": "code",
   "execution_count": null,
   "id": "64ca2f17-1c6e-4437-84a2-57439130d389",
   "metadata": {},
   "outputs": [],
   "source": [
    "print(f\"Total measurements: {len(df_tcr_raw)}\")"
   ]
  },
  {
   "cell_type": "code",
   "execution_count": null,
   "id": "eeef09ed-6111-4680-9917-f6fa868b3eb6",
   "metadata": {},
   "outputs": [],
   "source": [
    "df_tcr_raw.head(5)"
   ]
  },
  {
   "cell_type": "code",
   "execution_count": null,
   "id": "e03a3f7c-71e3-46d4-840d-b1218a3abd59",
   "metadata": {},
   "outputs": [],
   "source": []
  },
  {
   "cell_type": "code",
   "execution_count": null,
   "id": "265731c9-45a2-43d9-863f-2e06a85726c3",
   "metadata": {},
   "outputs": [],
   "source": []
  },
  {
   "cell_type": "code",
   "execution_count": null,
   "id": "9f1409c3-2bd5-4a7e-b016-8fc4f7affb1b",
   "metadata": {},
   "outputs": [],
   "source": []
  },
  {
   "cell_type": "code",
   "execution_count": null,
   "id": "227f9135-a306-4224-96cb-1506718a1b36",
   "metadata": {},
   "outputs": [],
   "source": []
  },
  {
   "cell_type": "code",
   "execution_count": null,
   "id": "2c2a1d1a-7e15-4c61-aa9c-1af8e2d59b68",
   "metadata": {},
   "outputs": [],
   "source": [
    "path_tcr_csv = \"/data/projects/2021/MicrobialMetabolites/single-cell-sorted-cd8/results/merged/2021-02-01_sorted_cd8_til_merged_data.h5ad\""
   ]
  },
  {
   "cell_type": "code",
   "execution_count": null,
   "id": "12774a6a-fb54-488a-ab2f-ea77a39518d4",
   "metadata": {},
   "outputs": [],
   "source": [
    "adata_tcr = sc.read_h5ad(path_tcr_csv)"
   ]
  },
  {
   "cell_type": "code",
   "execution_count": null,
   "id": "ae14b2c7-8d12-4801-b70d-71bd43c9ea42",
   "metadata": {},
   "outputs": [],
   "source": [
    "print(f\"Amount cells: {len(adata_tcr)}\")"
   ]
  },
  {
   "cell_type": "code",
   "execution_count": null,
   "id": "32635413-fbcb-4d2d-b4a0-06202705c248",
   "metadata": {},
   "outputs": [],
   "source": [
    "adata_tcr.var.tail(5)"
   ]
  },
  {
   "cell_type": "code",
   "execution_count": null,
   "id": "84334835-d768-4e64-842e-d6f5650e8251",
   "metadata": {},
   "outputs": [],
   "source": [
    "# Create a boolean mask for genes that do not start with \"ENS\"\n",
    "gene_mask = ~adata_tcr.var_names.str.startswith('ENS')\n",
    "\n",
    "# Filter the AnnData object based on the mask\n",
    "filtered_adata = adata_tcr[:, gene_mask].copy()"
   ]
  },
  {
   "cell_type": "code",
   "execution_count": null,
   "id": "7d62cd9a-6d78-49c6-986a-b407f6ba8520",
   "metadata": {},
   "outputs": [],
   "source": [
    "adata_tcr"
   ]
  },
  {
   "cell_type": "code",
   "execution_count": null,
   "id": "1619a95a-ac50-47a0-8cc3-ce811b6844d3",
   "metadata": {},
   "outputs": [],
   "source": [
    "path = \"/data/projects/2021/MicrobialMetabolites/single-cell-sorted-cd8/2021-02-01_sorted_cd8_til/analyses_icbi/scrna_seq_data/adata_10mix-ICI1.h5ad\"\n",
    "\n",
    "adata_10mix = sc.read_h5ad(path)"
   ]
  },
  {
   "cell_type": "code",
   "execution_count": null,
   "id": "00166fa7-9626-4417-82d2-ae7aa4551aac",
   "metadata": {},
   "outputs": [],
   "source": [
    "adata_10mix"
   ]
  },
  {
   "cell_type": "code",
   "execution_count": null,
   "id": "008ac74d-f62d-4119-9158-22d06d6f46da",
   "metadata": {},
   "outputs": [],
   "source": []
  },
  {
   "cell_type": "code",
   "execution_count": null,
   "id": "027d6d02-1c81-48ae-a84d-43a68594814b",
   "metadata": {},
   "outputs": [],
   "source": []
  },
  {
   "cell_type": "code",
   "execution_count": null,
   "id": "7f1f42a8-2350-42fa-9529-90ac55d71e35",
   "metadata": {},
   "outputs": [],
   "source": []
  },
  {
   "cell_type": "code",
   "execution_count": null,
   "id": "983088b2-c186-4b00-84f8-b18e43f9fc57",
   "metadata": {},
   "outputs": [],
   "source": [
    "import muon as mu"
   ]
  },
  {
   "cell_type": "code",
   "execution_count": null,
   "id": "43796779-f12d-4d5d-b726-9a3cd3d6a0bb",
   "metadata": {},
   "outputs": [],
   "source": [
    "path_contig_annotation= \"/data/projects/2021/MicrobialMetabolites/single-cell-sorted-cd8/2019-10-29_sorted_cd8/analyses_icbi/scrna_seq_data/vdj_t/11mix1_filtered_contig_annotations.csv\""
   ]
  },
  {
   "cell_type": "code",
   "execution_count": null,
   "id": "c4debd74-4f43-42fa-9bc1-d7ce948a23d3",
   "metadata": {},
   "outputs": [],
   "source": [
    "matrix_path = \"/data/projects/2021/MicrobialMetabolites/single-cell-sorted-cd8/2021-02-01_sorted_cd8_til/analyses_icbi/11mix-ICI1/outs/per_sample_outs/11mix-ICI1/count/sample_filtered_feature_bc_matrix.h5\""
   ]
  },
  {
   "cell_type": "code",
   "execution_count": null,
   "id": "77e4593c-d3f8-4bc3-b051-330834b0da8d",
   "metadata": {},
   "outputs": [],
   "source": [
    "# Load the TCR data\n",
    "adata_tcr = ir.io.read_10x_vdj(\n",
    "    path_contig_annotation\n",
    ")\n",
    "\n",
    "# Load the associated transcriptomics data\n",
    "adata = sc.read_10x_h5(\n",
    "    matrix_path\n",
    ")\n",
    "adata.var_names_make_unique()"
   ]
  },
  {
   "cell_type": "code",
   "execution_count": null,
   "id": "b451f1b0-14de-480a-aeb4-3077f3e79f7c",
   "metadata": {},
   "outputs": [],
   "source": [
    "mdata = mu.MuData({\"gex\": adata, \"airr\": adata_tcr})"
   ]
  },
  {
   "cell_type": "code",
   "execution_count": null,
   "id": "022ef343-0481-4273-8e2e-b4822708c53b",
   "metadata": {},
   "outputs": [],
   "source": [
    "mdata"
   ]
  },
  {
   "cell_type": "code",
   "execution_count": null,
   "id": "0e31823a-77a1-40ea-8dd0-31fff8a3a7ae",
   "metadata": {},
   "outputs": [],
   "source": [
    "sc.pp.log1p(mdata[\"gex\"])\n",
    "sc.pp.pca(mdata[\"gex\"], svd_solver=\"arpack\")\n",
    "sc.pp.neighbors(mdata[\"gex\"])\n",
    "sc.tl.umap(mdata[\"gex\"])"
   ]
  },
  {
   "cell_type": "code",
   "execution_count": null,
   "id": "bf3c4716-93eb-473f-a40e-1c6ee36b125d",
   "metadata": {},
   "outputs": [],
   "source": [
    "ir.pp.index_chains(mdata)\n",
    "ir.tl.chain_qc(mdata)"
   ]
  },
  {
   "cell_type": "code",
   "execution_count": null,
   "id": "a78913a7-8ae9-4ee4-8c2f-4d57fb6e8435",
   "metadata": {},
   "outputs": [],
   "source": [
    "import matplotlib.pyplot as plt"
   ]
  },
  {
   "cell_type": "code",
   "execution_count": null,
   "id": "ccb89866-b002-4d09-89ca-e3123e5f70a1",
   "metadata": {},
   "outputs": [],
   "source": [
    "fig, (ax0, ax1) = plt.subplots(1, 2, figsize=(10, 4), gridspec_kw={\"wspace\": 0.5})\n",
    "#mu.pl.embedding(mdata, basis=\"gex:umap\", color=[\"CD3E\"], ax=ax0, show=False)\n",
    "mu.pl.embedding(mdata, basis=\"gex:umap\", color=[\"airr:receptor_type\"], ax=ax1)"
   ]
  },
  {
   "cell_type": "code",
   "execution_count": null,
   "id": "e950d259-e372-4714-a078-3a535c8db483",
   "metadata": {},
   "outputs": [],
   "source": []
  }
 ],
 "metadata": {
  "kernelspec": {
   "display_name": "Python 3 (ipykernel)",
   "language": "python",
   "name": "python3"
  },
  "language_info": {
   "codemirror_mode": {
    "name": "ipython",
    "version": 3
   },
   "file_extension": ".py",
   "mimetype": "text/x-python",
   "name": "python",
   "nbconvert_exporter": "python",
   "pygments_lexer": "ipython3",
   "version": "3.11.8"
  }
 },
 "nbformat": 4,
 "nbformat_minor": 5
}
