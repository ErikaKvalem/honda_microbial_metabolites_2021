{
 "cells": [
  {
   "cell_type": "code",
   "execution_count": null,
   "id": "044eaaef-d9ec-4b42-a7b1-97b8e8933662",
   "metadata": {},
   "outputs": [],
   "source": [
    "import scirpy as ir"
   ]
  },
  {
   "cell_type": "code",
   "execution_count": null,
   "id": "824d15f9-221b-403b-8b79-03a243ce4073",
   "metadata": {},
   "outputs": [],
   "source": [
    "from glob import glob\n",
    "import warnings\n",
    "import tarfile\n",
    "\n",
    "import anndata\n",
    "import matplotlib.pyplot as plt\n",
    "import pandas as pd\n",
    "import scanpy as sc"
   ]
  },
  {
   "cell_type": "code",
   "execution_count": null,
   "id": "f5905770-0f84-42d2-8be1-daa0451e5e8e",
   "metadata": {},
   "outputs": [],
   "source": [
    "import muon as mu"
   ]
  },
  {
   "cell_type": "code",
   "execution_count": null,
   "id": "6fb22c98-ab47-43d0-a95c-89317ff2a9f2",
   "metadata": {},
   "outputs": [],
   "source": [
    "# define sample metadata. Usually read from a file.\n",
    "samples = {\n",
    "    \"10mix1\": {\"group\": \"10mix\"},\n",
    "    \"10mix2\": {\"group\": \"10mix\"},\n",
    "    \"11mix1\": {\"group\": \"11mix\"},\n",
    "    \"11mix2\": {\"group\": \"11mix\"},\n",
    "    \"GF1\": {\"group\": \"GF\"},\n",
    "    \"GF2\": {\"group\": \"GF\"},\n",
    "\n",
    "}"
   ]
  },
  {
   "cell_type": "code",
   "execution_count": null,
   "id": "eff048d5-1f0d-4888-8780-968fa95f7d8d",
   "metadata": {},
   "outputs": [],
   "source": [
    "####MULTIPLE SAMPLES\n",
    "\n",
    "# Create a list of AnnData objects (one for each sample)\n",
    "#adatas_tcr = {}\n",
    "#adatas_gex = {}\n",
    "#for sample, sample_meta in samples.items():\n",
    "#    gex_file = glob(f\"/data/projects/2021/MicrobialMetabolites/single-cell-sorted-cd8/2019-10-29_sorted_cd8/analyses_icbi/scrna_seq_data/samples/adata_*{sample}*.h5ad\")[0]\n",
    "#    tcr_file = glob(f\"/data/projects/2021/MicrobialMetabolites/single-cell-sorted-cd8/2019-10-29_sorted_cd8/analyses_icbi/scrna_seq_data/vdj_t/*{sample}*_filtered_contig_annotations.csv\")[0]\n",
    "#    adata_gex = sc.read_h5ad(gex_file)\n",
    "#    adata_tcr = ir.io.read_10x_vdj(tcr_file)\n",
    "    # concatenation only works with unique gene names\n",
    "#    adata_gex.var_names_make_unique()\n",
    "#    adatas_tcr[sample] = adata_tcr\n",
    "#   adatas_gex[sample] = adata_gex\n",
    "\n",
    "\"\"\"\n",
    "# Merge anndata objects\n",
    "adata_gex = anndata.concat(adatas_gex, index_unique=\"_\")\n",
    "adata_tcr = anndata.concat(adatas_tcr, index_unique=\"_\")\n",
    "mdata = mu.MuData({\"gex\": adata_gex, \"airr\": adata_tcr})\n",
    "\n",
    "# Set global metadata on `mdata.obs`\n",
    "mdata.obs[\"sample\"] = mdata.obs_names.to_series().str.split(\"_\", expand=True)[1]\n",
    "mdata.obs[\"group\"] = mdata.obs[\"sample\"].map(lambda x: samples[x][\"group\"])\n",
    "\"\"\""
   ]
  },
  {
   "cell_type": "code",
   "execution_count": null,
   "id": "5cc1468f-b6c9-419e-84d2-7b93d89e7668",
   "metadata": {},
   "outputs": [],
   "source": [
    "gex_file = glob(f\"/data/projects/2021/MicrobialMetabolites/single-cell-sorted-cd8/2019-10-29_sorted_cd8/analyses_icbi/scrna_seq_data/samples/adata_10mix1.h5ad\")[0]\n",
    "tcr_file = glob(f\"/data/projects/2021/MicrobialMetabolites/single-cell-sorted-cd8/2019-10-29_sorted_cd8/analyses_icbi/scrna_seq_data/vdj_t/10mix1_filtered_contig_annotations.csv\")[0]\n",
    "adata_gex = sc.read_h5ad(gex_file)\n",
    "adata_tcr = ir.io.read_10x_vdj(tcr_file)\n",
    "adata_gex.var_names_make_unique()\n",
    "#adatas_tcr[sample] = adata_tcr\n",
    "#adatas_gex[sample] = adata_gex"
   ]
  },
  {
   "cell_type": "code",
   "execution_count": null,
   "id": "b17ad954-db29-41ba-803b-b830a2e2465c",
   "metadata": {},
   "outputs": [],
   "source": [
    "# Merge anndata objects\n",
    "adata_gex = anndata.concat(adata_gex, index_unique=\"_\")\n",
    "adata_tcr = anndata.concat(adata_tcr, index_unique=\"_\")\n",
    "mdata = mu.MuData({\"gex\": adata_gex, \"airr\": adata_tcr})"
   ]
  },
  {
   "cell_type": "code",
   "execution_count": null,
   "id": "bdd1b8f6-a8fb-4631-8918-fd2a24ec9307",
   "metadata": {},
   "outputs": [],
   "source": [
    "# Set global metadata on `mdata.obs`\n",
    "mdata.obs[\"sample\"] = mdata.obs_names.to_series().str.split(\"_\", expand=True)[1]\n",
    "#mdata.obs[\"group\"] = mdata.obs[\"sample\"].map(lambda x: samples[x][\"group\"])"
   ]
  },
  {
   "cell_type": "code",
   "execution_count": null,
   "id": "99273785-45ee-40a9-928e-cc969666a251",
   "metadata": {},
   "outputs": [],
   "source": [
    "mdata.obs"
   ]
  },
  {
   "cell_type": "code",
   "execution_count": null,
   "id": "556b827e-f746-413f-8d92-5b87739b2c94",
   "metadata": {},
   "outputs": [],
   "source": [
    "mdata"
   ]
  },
  {
   "cell_type": "code",
   "execution_count": null,
   "id": "20681a6f-c2eb-4e5c-bb9e-80c5d2a8142e",
   "metadata": {},
   "outputs": [],
   "source": [
    "mdata[\"gex\"].obs[\"sample_id\"].value_counts()"
   ]
  },
  {
   "cell_type": "code",
   "execution_count": null,
   "id": "4fd643b9-1676-41f9-a573-334f2b2d297b",
   "metadata": {},
   "outputs": [],
   "source": [
    "mdata.var"
   ]
  },
  {
   "cell_type": "code",
   "execution_count": null,
   "id": "964a2f65-56e5-4870-9a2f-5962c2434fa2",
   "metadata": {},
   "outputs": [],
   "source": [
    "mdata"
   ]
  },
  {
   "cell_type": "code",
   "execution_count": null,
   "id": "cdb144b7-37bd-431d-adfa-07b4cb716f0f",
   "metadata": {},
   "outputs": [],
   "source": [
    "sc.pp.filter_genes(mdata[\"gex\"], min_cells=10)\n",
    "sc.pp.filter_cells(mdata[\"gex\"], min_genes=100)"
   ]
  },
  {
   "cell_type": "code",
   "execution_count": null,
   "id": "3bea4c69-109f-4b8d-b0d4-8bf7003c8593",
   "metadata": {
    "tags": []
   },
   "outputs": [],
   "source": [
    "sc.pp.normalize_total(mdata[\"gex\"])\n",
    "sc.pp.log1p(mdata[\"gex\"])\n",
    "sc.pp.highly_variable_genes(mdata[\"gex\"], flavor=\"cell_ranger\", n_top_genes=5000)\n",
    "sc.tl.pca(mdata[\"gex\"])\n",
    "sc.pp.neighbors(mdata[\"gex\"])"
   ]
  },
  {
   "cell_type": "code",
   "execution_count": null,
   "id": "e32a2755-a9d6-4eee-b1d9-38ad593bd925",
   "metadata": {},
   "outputs": [],
   "source": [
    "ir.pp.index_chains(mdata)\n",
    "ir.tl.chain_qc(mdata)"
   ]
  },
  {
   "cell_type": "code",
   "execution_count": null,
   "id": "61d1352f-2260-4bd7-8914-f0eed14f34b9",
   "metadata": {},
   "outputs": [],
   "source": [
    "mdata"
   ]
  },
  {
   "cell_type": "code",
   "execution_count": null,
   "id": "ec9cc958-5cdb-4b24-a90f-f06700132257",
   "metadata": {},
   "outputs": [],
   "source": [
    "mdata.obs"
   ]
  },
  {
   "cell_type": "code",
   "execution_count": null,
   "id": "ea385c1b-aa07-47e3-b492-bd5613d68a05",
   "metadata": {},
   "outputs": [],
   "source": [
    "mdata.var"
   ]
  },
  {
   "cell_type": "code",
   "execution_count": null,
   "id": "052cd81c-bc2d-43f0-936b-b672ba844364",
   "metadata": {},
   "outputs": [],
   "source": [
    "mdata"
   ]
  },
  {
   "cell_type": "code",
   "execution_count": null,
   "id": "a00dcd83-4b76-4166-8044-de33e589c3cc",
   "metadata": {},
   "outputs": [],
   "source": [
    "#CXL10  - ENSG00000169245\n",
    "# cxcl9 - ENSG00000138755\n",
    "# cxcl1 -  ENSG00000163739\n",
    "# cxcl2  -  ENSG00000081041 \n",
    "#TNFalpha  -  ENSG00000118503 (not sure) "
   ]
  },
  {
   "cell_type": "code",
   "execution_count": null,
   "id": "4714ff96-4147-4371-928c-1ede2d3d9077",
   "metadata": {},
   "outputs": [],
   "source": [
    "fig, (ax0) = plt.subplots(1, 1, figsize=(15, 4), gridspec_kw={\"wspace\": 0.5})\n",
    "mu.pl.embedding(mdata, basis=\"gex:pca\", color=\"sample\", ax=ax0, show=False)"
   ]
  },
  {
   "cell_type": "code",
   "execution_count": null,
   "id": "c4e0386d-771b-40b8-892f-ad75dad58f6f",
   "metadata": {},
   "outputs": [],
   "source": [
    "path = \"/data/projects/2021/MicrobialMetabolites/single-cell-sorted-cd8/2019-10-29_sorted_cd8/analyses_icbi/scrna_seq_data\"\n",
    "adata_merged= sc.read_h5ad(f\"{path}/2019-10-29_sorted_cd8_merged_data.h5ad\")"
   ]
  },
  {
   "cell_type": "code",
   "execution_count": null,
   "id": "f00d0163-3b32-4d3d-bf43-63bcb45944c2",
   "metadata": {},
   "outputs": [],
   "source": [
    "adata_merged.var"
   ]
  },
  {
   "cell_type": "code",
   "execution_count": null,
   "id": "86daddf2-5722-4b7d-978b-cbc7d5465695",
   "metadata": {},
   "outputs": [],
   "source": [
    "if \"EXLMUSG00000025900\" in a.gene_nameerged.var.index:\n",
    "    print(\"T\")\n",
    "else:\n",
    "    print(\"F\")"
   ]
  },
  {
   "cell_type": "code",
   "execution_count": null,
   "id": "0e923c3d-237f-4ab8-bd94-335716f54b39",
   "metadata": {},
   "outputs": [],
   "source": [
    "mdata.var = pd.concat([adata_solo.var, mdata.var ], axis=1)"
   ]
  },
  {
   "cell_type": "code",
   "execution_count": null,
   "id": "8cf72d07-e101-4d37-ad2a-18fc2a3c6498",
   "metadata": {},
   "outputs": [],
   "source": [
    "mdata.var"
   ]
  },
  {
   "cell_type": "code",
   "execution_count": null,
   "id": "31c65183-2f96-49cc-bba1-e8857fc18941",
   "metadata": {},
   "outputs": [],
   "source": [
    "mdata.var.index=mdata.var.gene_name"
   ]
  },
  {
   "cell_type": "code",
   "execution_count": null,
   "id": "32d54139-1e4c-4213-8b87-fdd31cfaac1a",
   "metadata": {},
   "outputs": [],
   "source": [
    "mdata.var"
   ]
  },
  {
   "cell_type": "code",
   "execution_count": null,
   "id": "56ce1594-bfe5-4d71-8257-0dba38e32855",
   "metadata": {},
   "outputs": [],
   "source": [
    "mdata"
   ]
  },
  {
   "cell_type": "code",
   "execution_count": null,
   "id": "008c0630-120f-424c-b823-69be82973154",
   "metadata": {},
   "outputs": [],
   "source": [
    "mdata[\"gex\"].var"
   ]
  },
  {
   "cell_type": "code",
   "execution_count": null,
   "id": "49729de1-6630-4e5b-a8a7-e8ea1c8cced8",
   "metadata": {},
   "outputs": [],
   "source": [
    "adata_solo"
   ]
  },
  {
   "cell_type": "code",
   "execution_count": null,
   "id": "d81fa46b-fdf1-4ddf-b1a6-e5881bd2344b",
   "metadata": {},
   "outputs": [],
   "source": [
    "mdata"
   ]
  },
  {
   "cell_type": "code",
   "execution_count": null,
   "id": "6303ad24-938f-4006-8994-79166c855f93",
   "metadata": {},
   "outputs": [],
   "source": [
    "adata_solo.var"
   ]
  },
  {
   "cell_type": "code",
   "execution_count": null,
   "id": "fb9659a9-0a84-4f09-b880-ae31a6277e1b",
   "metadata": {},
   "outputs": [],
   "source": [
    "mdata[\"gex\"].var "
   ]
  },
  {
   "cell_type": "code",
   "execution_count": null,
   "id": "a4292940-df9c-4a41-aeb3-06c6b10d419e",
   "metadata": {},
   "outputs": [],
   "source": [
    "mdata[\"gex\"].var= pd.merge(adata_solo.var,mdata[\"gex\"].var , left_index=True, right_index = True)"
   ]
  },
  {
   "cell_type": "code",
   "execution_count": null,
   "id": "556ef4a3-762f-4508-b305-7eef8e545ab6",
   "metadata": {},
   "outputs": [],
   "source": [
    "mdata[\"gex\"].var.index = mdata[\"gex\"].var.gene_name"
   ]
  },
  {
   "cell_type": "code",
   "execution_count": null,
   "id": "cd6f6b20-5678-463d-ab3d-e90fbd599b12",
   "metadata": {},
   "outputs": [],
   "source": [
    "mdata[\"gex\"].var"
   ]
  },
  {
   "cell_type": "code",
   "execution_count": null,
   "id": "00581544-8e42-40a8-9e51-9d3afba38caa",
   "metadata": {},
   "outputs": [],
   "source": [
    "mdata[\"gex\"].var_names_make_unique()"
   ]
  },
  {
   "cell_type": "code",
   "execution_count": null,
   "id": "6f8b20a9-a523-4ad6-aadb-0d2fa37f2e83",
   "metadata": {},
   "outputs": [],
   "source": [
    "fig, (ax0) = plt.subplots(1, 1, figsize=(15, 4), gridspec_kw={\"wspace\": 0.5})\n",
    "mu.pl.embedding(mdata, basis=\"gex:pca\", color=\"Mrpl15\", ax=ax0, show=False)"
   ]
  },
  {
   "cell_type": "code",
   "execution_count": null,
   "id": "fbdf0b1a-8aff-43e1-9bea-a527706f652e",
   "metadata": {},
   "outputs": [],
   "source": [
    "fig, (ax1, ax2) = plt.subplots(1, 2, figsize=(15, 4), gridspec_kw={\"wspace\": 0.5})\n",
    "#mu.pl.embedding(mdata, basis=\"gex:X_umap\", color=\"Gm1992\", ax=ax0, show=False)\n",
    "mu.pl.embedding(mdata, basis=\"gex:pca\", color=\"gex:sample_id\", ax=ax1, show=False)\n",
    "mu.pl.embedding(mdata, basis=\"gex:pca\", color=\"airr:receptor_type\", ax=ax2)"
   ]
  },
  {
   "cell_type": "code",
   "execution_count": null,
   "id": "2ca0104c-3bd3-452d-b324-9d30e233e96e",
   "metadata": {},
   "outputs": [],
   "source": [
    "if \"Emd\" in mdata.var_names:\n",
    "    print(\"T\")"
   ]
  },
  {
   "cell_type": "code",
   "execution_count": null,
   "id": "11e72038-4dc9-42b0-b6fb-4f02841a88b6",
   "metadata": {},
   "outputs": [],
   "source": [
    "mu.pl.embedding(\n",
    "    mdata,\n",
    "    basis=\"gex:umap\",\n",
    "    color=[\"gex:sample\", \"gex:patient\", \"gex:cluster\"],\n",
    "    ncols=3,\n",
    "    wspace=0.7,\n",
    ")\n",
    "mu.pl.embedding(\n",
    "    mdata,\n",
    "    basis=\"gex:umap\",\n",
    "    color=[\"CD8A\", \"CD4\", \"FOXP3\"],\n",
    "    ncols=3,\n",
    "    wspace=0.7,\n",
    ")"
   ]
  },
  {
   "cell_type": "code",
   "execution_count": null,
   "id": "6f599238-e2d3-41ba-b5d8-12a154ae817d",
   "metadata": {},
   "outputs": [],
   "source": [
    "path = \"/data/projects/2021/MicrobialMetabolites/single-cell-sorted-cd8/2019-10-29_sorted_cd8/analyses_icbi/scrna_seq_data\"\n",
    "adata_solo = sc.read_h5ad(f\"{path}/2019-10-29_sorted_cd8_merged_data.h5ad\")"
   ]
  },
  {
   "cell_type": "code",
   "execution_count": null,
   "id": "f682ff50-545f-4ffe-ac24-d9b8925c54cc",
   "metadata": {},
   "outputs": [],
   "source": []
  },
  {
   "cell_type": "code",
   "execution_count": null,
   "id": "739b5bc9-c296-445c-8d0e-f692509ded22",
   "metadata": {},
   "outputs": [],
   "source": [
    "adata_solo.var.to_csv(\"adata_solo_var.csv\")"
   ]
  },
  {
   "cell_type": "code",
   "execution_count": null,
   "id": "11e17d2e-f94d-4c31-a886-b0bb7336c7df",
   "metadata": {},
   "outputs": [],
   "source": [
    "mdata.var = pd.concat([adata_solo.var, mdata.var ], axis=1)"
   ]
  },
  {
   "cell_type": "code",
   "execution_count": null,
   "id": "b85e583f-b07b-489e-b843-ef225ba43387",
   "metadata": {},
   "outputs": [],
   "source": [
    "mdata.var_names"
   ]
  }
 ],
 "metadata": {
  "kernelspec": {
   "display_name": "Python 3 (ipykernel)",
   "language": "python",
   "name": "python3"
  },
  "language_info": {
   "codemirror_mode": {
    "name": "ipython",
    "version": 3
   },
   "file_extension": ".py",
   "mimetype": "text/x-python",
   "name": "python",
   "nbconvert_exporter": "python",
   "pygments_lexer": "ipython3",
   "version": "3.11.8"
  }
 },
 "nbformat": 4,
 "nbformat_minor": 5
}
