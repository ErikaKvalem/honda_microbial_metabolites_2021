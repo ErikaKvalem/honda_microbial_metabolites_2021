{
 "cells": [
  {
   "cell_type": "code",
   "execution_count": null,
   "id": "85d4569d-ccb6-4ee2-9cf7-d6f8051afa03",
   "metadata": {},
   "outputs": [],
   "source": [
    "import scanpy as sc\n",
    "import pandas as pd\n",
    "import anndata as ad"
   ]
  },
  {
   "cell_type": "code",
   "execution_count": null,
   "id": "c11490ad-bcdf-4b66-a4a5-b33bd6ca971e",
   "metadata": {},
   "outputs": [],
   "source": [
    "import mygene"
   ]
  },
  {
   "cell_type": "code",
   "execution_count": null,
   "id": "4d0adbd4-86ee-474a-861d-8ddd598634ad",
   "metadata": {},
   "outputs": [],
   "source": [
    "import decoupler as dc"
   ]
  },
  {
   "cell_type": "code",
   "execution_count": null,
   "id": "4ace209e-1900-430c-8a9a-e43e7b4bbcd2",
   "metadata": {},
   "outputs": [],
   "source": [
    "# Python packages\n",
    "#import scanpy as sc\n",
    "#import scvi\n",
    "#import numpy as np\n",
    "#import pandas as pd\n",
    "#import matplotlib.pyplot as plt\n",
    "#import matplotlib\n",
    "#import seaborn as sns\n",
    "#import  decoupler as dc"
   ]
  },
  {
   "cell_type": "code",
   "execution_count": null,
   "id": "ce10183f-d440-4067-ac70-fba73fcc0f63",
   "metadata": {},
   "outputs": [],
   "source": [
    "path = \"/data/scratch/kvalem/projects/2021/microbial-metabolites/preprocessing/40_single-cell-sorted-cd8/50_scrna_seq_by_sample/test/work/e7/055b59d0a151a805841cf4d86020b8\""
   ]
  },
  {
   "cell_type": "code",
   "execution_count": null,
   "id": "22f3456f-c6be-440f-b8e1-96dc97c6d504",
   "metadata": {},
   "outputs": [],
   "source": [
    "adata_solo = sc.read_h5ad(f\"{path}/adata_nodoublet.h5ad\")"
   ]
  },
  {
   "cell_type": "code",
   "execution_count": null,
   "id": "91577683-d327-4576-905c-04f81a9ba2b2",
   "metadata": {},
   "outputs": [],
   "source": [
    "adata_solo"
   ]
  },
  {
   "cell_type": "code",
   "execution_count": null,
   "id": "67ec5f14-047b-41ad-8239-8dd8c669ee22",
   "metadata": {},
   "outputs": [],
   "source": [
    "sc.tl.leiden(adata_solo, key_added=\"leiden\", resolution=0.3)"
   ]
  },
  {
   "cell_type": "code",
   "execution_count": null,
   "id": "d746fb05-9f03-45b9-beba-eba9d5b347fb",
   "metadata": {},
   "outputs": [],
   "source": [
    "sc.tl.leiden(adata_solo, resolution=1, key_added=\"leiden_2\")"
   ]
  },
  {
   "cell_type": "code",
   "execution_count": null,
   "id": "8a3c914b-c66f-47fb-a3a3-17e0eea6dcad",
   "metadata": {},
   "outputs": [],
   "source": [
    "sc.tl.leiden(adata_solo, resolution=0.7, key_added=\"leiden_3\")"
   ]
  },
  {
   "cell_type": "code",
   "execution_count": null,
   "id": "e69eab0f-3e72-407e-9f2a-1cfec56dbdd9",
   "metadata": {},
   "outputs": [],
   "source": [
    "def update_columns(row):\n",
    "   \n",
    "    if \"ICI\" not in row['sample_id']:\n",
    "        row['origin'] = \"colon\"\n",
    "    else:\n",
    "         row['origin'] = \"til\"\n",
    "        \n",
    "    return row\n",
    "\n",
    "# Apply the function to each row in the DataFrame\n",
    "adata_solo.obs = adata_solo.obs.apply(update_columns, axis=1)"
   ]
  },
  {
   "cell_type": "code",
   "execution_count": null,
   "id": "851d6ed3-bac3-4dcf-84dc-f410496c7952",
   "metadata": {},
   "outputs": [],
   "source": [
    "def update_columns(row):\n",
    "   \n",
    "    if \"ICI1\"  in row['sample_id']:\n",
    "        row['batch_id'] = \"ICI1\"\n",
    "    elif \"ICI2\" in row['sample_id']:\n",
    "         row['batch_id'] = \"ICI2\"\n",
    "    elif row['sample_id'] == \"10mix1\":\n",
    "        row['batch_id'] = \"1\"\n",
    "    elif row['sample_id'] == \"10mix2\":\n",
    "         row['batch_id'] = \"2\"\n",
    "    elif row['sample_id'] == \"11mix1\":\n",
    "        row['batch_id'] = \"1\"\n",
    "    elif row['sample_id'] == \"11mix2\":\n",
    "         row['batch_id'] = \"2\"\n",
    "    elif row['sample_id'] == \"GF1\":\n",
    "        row['batch_id'] = \"1\"\n",
    "  \n",
    "        \n",
    "        \n",
    "    return row\n",
    "\n",
    "# Apply the function to each row in the DataFrame\n",
    "adata_solo.obs = adata_solo.obs.apply(update_columns, axis=1)"
   ]
  },
  {
   "cell_type": "code",
   "execution_count": null,
   "id": "88c00273-09b0-44d6-935a-fabb7311a5f0",
   "metadata": {},
   "outputs": [],
   "source": [
    "def update_columns(row):\n",
    "   \n",
    "    if \"10mix-ICI1\"  in row['sample_id']:\n",
    "        row['ici_therapy'] = \"Yes\"\n",
    "    elif \"10mix-ICI2\" in row['sample_id']:\n",
    "        row['ici_therapy'] = \"Yes\"\n",
    "    elif \"11mix-ICI1\" in row['sample_id']:\n",
    "        row['ici_therapy'] = \"Yes\"\n",
    "    elif \"11mix-ICI2\" in row['sample_id']:\n",
    "        row['ici_therapy'] = \"Yes\"\n",
    "    elif \"GF-ICI2-plus\" in row['sample_id']:\n",
    "        row['ici_therapy'] = \"Yes\"\n",
    "    elif \"GF-ICI1-plus\" in row['sample_id']:\n",
    "        row['ici_therapy'] = \"Yes\"\n",
    "    elif \"GF-ICI1\" in row['sample_id']:\n",
    "        row['ici_therapy'] = \"No\"\n",
    "    elif \"GF-ICI2\" in row['sample_id']:\n",
    "        row['ici_therapy'] = \"No\"\n",
    "\n",
    "  \n",
    "        \n",
    "    return row\n",
    "\n",
    "# Apply the function to each row in the DataFrame\n",
    "adata_solo.obs = adata_solo.obs.apply(update_columns, axis=1)"
   ]
  },
  {
   "cell_type": "code",
   "execution_count": null,
   "id": "3abf03e1-3124-4a70-a84b-67beadc1007b",
   "metadata": {
    "tags": []
   },
   "outputs": [],
   "source": [
    "def update_columns(row):\n",
    "   \n",
    "    if row['sample_id'] == \"10mix1\":\n",
    "        row['condition'] = \"10mix\"\n",
    "    elif row['sample_id'] == \"10mix2\":\n",
    "         row['condition'] = \"10mix\"\n",
    "    elif row['sample_id'] == \"11mix1\":\n",
    "         row['condition'] = \"11mix\"\n",
    "    elif row['sample_id'] == \"11mix2\":\n",
    "         row['condition'] = \"11mix\"\n",
    "    elif row['sample_id'] == \"GF1\":\n",
    "         row['condition'] = \"GF\"\n",
    "    elif row['sample_id'] == \"GF2\":\n",
    "         row['condition'] = \"GF\"\n",
    "    elif row['sample_id'] == \"GF-ICI2-plus\":\n",
    "         row['condition'] = \"GF-plus\"\n",
    "    elif row['sample_id'] == \"GF-ICI1-plus\":\n",
    "         row['condition'] = \"GF-plus\"\n",
    "    elif row['sample_id'] == \"GF-ICI2\":\n",
    "         row['condition'] = \"GF\"\n",
    "    elif row['sample_id'] == \"GF-ICI1\":\n",
    "         row['condition'] = \"GF\"\n",
    "    elif row['sample_id'] == \"10mix-ICI1\":\n",
    "         row['condition'] = \"10mix\"\n",
    "    elif row['sample_id'] == \"10mix-ICI2\":\n",
    "         row['condition'] = \"10mix\"\n",
    "    elif row['sample_id'] == \"11mix-ICI1\":\n",
    "         row['condition'] = \"11mix\"\n",
    "    elif row['sample_id'] == \"11mix-ICI2\":\n",
    "         row['condition'] = \"11mix\"\n",
    "    \n",
    "    \n",
    "        \n",
    "        \n",
    "    return row\n",
    "\n",
    "# Apply the function to each row in the DataFrame\n",
    "adata_solo.obs = adata_solo.obs.apply(update_columns, axis=1)"
   ]
  },
  {
   "cell_type": "code",
   "execution_count": null,
   "id": "4c55bfa6-5da6-476b-b33f-02f95ae1d65c",
   "metadata": {},
   "outputs": [],
   "source": [
    "adata_solo.obs[[\"batch_id\",\"sample_id\",\"origin\",\"condition\",\"ici_therapy\"]].head(50000)"
   ]
  },
  {
   "cell_type": "code",
   "execution_count": null,
   "id": "525bab9d-2c8e-493b-a362-2dd2fd75f91b",
   "metadata": {},
   "outputs": [],
   "source": []
  },
  {
   "cell_type": "code",
   "execution_count": null,
   "id": "c9ba6882-10f7-4b79-970d-ca58295fbd20",
   "metadata": {},
   "outputs": [],
   "source": [
    "list_var = adata_solo.var.index.unique()"
   ]
  },
  {
   "cell_type": "code",
   "execution_count": null,
   "id": "f37564e4-4008-41bf-a5b2-19713ad28972",
   "metadata": {},
   "outputs": [],
   "source": [
    "len(list_var)"
   ]
  },
  {
   "cell_type": "code",
   "execution_count": null,
   "id": "d07a8bfe-5db3-4319-9e93-dcc6d67b13df",
   "metadata": {},
   "outputs": [],
   "source": []
  },
  {
   "cell_type": "code",
   "execution_count": null,
   "id": "fc40c56b-fa4b-4fb3-9aec-608fc52f34fa",
   "metadata": {},
   "outputs": [],
   "source": [
    "mg = mygene.MyGeneInfo()\n",
    "ginfo = mg.querymany(list_var, scopes='ensembl.gene')"
   ]
  },
  {
   "cell_type": "code",
   "execution_count": null,
   "id": "67707503-068d-4691-95c7-eb496c1035df",
   "metadata": {},
   "outputs": [],
   "source": [
    "df = pd.DataFrame(ginfo)"
   ]
  },
  {
   "cell_type": "code",
   "execution_count": null,
   "id": "e95dedc3-240d-4d1e-93fa-190099821372",
   "metadata": {},
   "outputs": [],
   "source": [
    "df.drop_duplicates(subset='query', keep='last', inplace=True)"
   ]
  },
  {
   "cell_type": "code",
   "execution_count": null,
   "id": "0ec59e77-9a1b-4677-b098-43bbe14ba9c9",
   "metadata": {},
   "outputs": [],
   "source": [
    "df"
   ]
  },
  {
   "cell_type": "code",
   "execution_count": null,
   "id": "ba8c1a5d-9943-47cc-84be-e2d28e0c17ff",
   "metadata": {},
   "outputs": [],
   "source": [
    "adata_solo.var[\"query\"] = adata_solo.var.index"
   ]
  },
  {
   "cell_type": "code",
   "execution_count": null,
   "id": "f05457d0-624a-4b73-942a-082814155b7d",
   "metadata": {},
   "outputs": [],
   "source": [
    "adata_solo.var = df.merge(adata_solo.var, on='query', how='left')"
   ]
  },
  {
   "cell_type": "code",
   "execution_count": null,
   "id": "8134b28b-c448-4d10-a870-843a982a9017",
   "metadata": {},
   "outputs": [],
   "source": [
    "adata_solo.var['symbol'] = adata_solo.var.apply(lambda row: row['query'] if pd.isna(row['symbol']) else row['symbol'], axis=1)\n"
   ]
  },
  {
   "cell_type": "code",
   "execution_count": null,
   "id": "a9500564-1567-4e92-8567-5078cf0836e7",
   "metadata": {},
   "outputs": [],
   "source": [
    "adata_solo.var"
   ]
  },
  {
   "cell_type": "code",
   "execution_count": null,
   "id": "d6dc9607-ed56-4d98-b736-6356f3901a2a",
   "metadata": {},
   "outputs": [],
   "source": [
    "sc.pl.umap(adata_solo, color = \"leiden\")"
   ]
  },
  {
   "cell_type": "code",
   "execution_count": null,
   "id": "51e86693-6a26-444e-97c0-3e07f90159d8",
   "metadata": {},
   "outputs": [],
   "source": [
    "sc.pl.umap(adata_solo, color = \"sample_id\")"
   ]
  },
  {
   "cell_type": "code",
   "execution_count": null,
   "id": "96fed162-1f5e-4bd7-a02c-f209c91ed00c",
   "metadata": {},
   "outputs": [],
   "source": [
    "sc.pl.umap(adata_solo, color = \"condition\")"
   ]
  },
  {
   "cell_type": "code",
   "execution_count": null,
   "id": "e4a70667-2839-4770-8df5-1b9ae9d4b482",
   "metadata": {},
   "outputs": [],
   "source": [
    "sc.pl.umap(adata_solo, color = \"ici_therapy\")"
   ]
  },
  {
   "cell_type": "code",
   "execution_count": null,
   "id": "c205f5d6-93b0-4803-9fb6-53ecb1db01e4",
   "metadata": {},
   "outputs": [],
   "source": [
    "sc.pl.umap(adata_solo, color = \"origin\")"
   ]
  },
  {
   "cell_type": "code",
   "execution_count": null,
   "id": "964990f3-2eee-4cc5-92cf-8cbb92aee322",
   "metadata": {},
   "outputs": [],
   "source": [
    "adata_solo.var.index.rename(None)"
   ]
  },
  {
   "cell_type": "code",
   "execution_count": null,
   "id": "d954f767-375e-4997-890a-e90288e50540",
   "metadata": {},
   "outputs": [],
   "source": [
    "# marker genes \n",
    "marker_genes= pd.read_csv(\"/data/scratch/kvalem/projects/2021/microbial-metabolites/preprocessing/40_single-cell-sorted-cd8/40_scrna_seq/bin/notebooks/gene_markers.csv\")"
   ]
  },
  {
   "cell_type": "code",
   "execution_count": null,
   "id": "dcdf61b2-2a56-423a-af51-ef2772c5fe5b",
   "metadata": {},
   "outputs": [],
   "source": [
    "marker_genes = marker_genes.drop_duplicates(subset=['symbol'])"
   ]
  },
  {
   "cell_type": "code",
   "execution_count": null,
   "id": "f3e5c33a-4875-4f1c-a3f3-018e51fc00f5",
   "metadata": {},
   "outputs": [],
   "source": [
    "marker_genes = {\"Tex\": [\"Cxcr6\",\"Gzmb\",\"Havcr2\",\"Ctla4\"],\"Tisg\":[\"Isg15\",\"Ifit3\",\"Ifit1\",\"Stat1\"],\"Tn\":[\"Ltb\",\"Sell\",\"Lef1\",\"Nosip\"],\"Trm\":[\"Itga1\",\"Cpne7\",\"Txnip\",\"Jaml\"],\"Tsen\":[\"Plcg2\",\"Igkc\",\"Klrk1\",\"Slamf7\"],\"Tsrt\":[\"Hspa1b\", \"Hspa1a\",\"Dnajb1\",\"Ubc\"]}"
   ]
  },
  {
   "cell_type": "markdown",
   "id": "39a6997a-5fb5-4362-a402-c7ec4d39132f",
   "metadata": {},
   "source": [
    "- Tn - Naive T cells\n",
    "- Tex - exhausted CD8+ T cell\n",
    "- Tisg - interferon (IFN) response T cell\n",
    "- Trm - Resident Memory T cells\n",
    "- Tsen - senescent-like T cells\n",
    "- Tstr - stress response T cell (identified a unique stress response state, TSTR, characterized by heat shock gene expression. TSTR cells are detectable in situ in the tumor microenvironment across various cancer types,)"
   ]
  },
  {
   "cell_type": "markdown",
   "id": "d4d12509-761b-45f3-b6bf-f1a3757cdc3f",
   "metadata": {},
   "source": [
    "- Teff - Effector T (Teff) cells\n",
    "- t-Teff - transitional effector T (Teff) cells\n",
    "- pTex - precursor exhausted\n",
    "- Tcm - T CM, central memory T cells;\n"
   ]
  },
  {
   "cell_type": "code",
   "execution_count": null,
   "id": "1117b0c9-2862-4d8d-959d-3078b16e0b23",
   "metadata": {},
   "outputs": [],
   "source": [
    "marker_genes"
   ]
  },
  {
   "cell_type": "code",
   "execution_count": null,
   "id": "6dc53598-5daa-4933-9f07-cb66f480103b",
   "metadata": {},
   "outputs": [],
   "source": [
    "cd8t_cts = [\n",
    "    \"Tex\",\n",
    "    \"Tisg\",\n",
    "    \"Tn\",\n",
    "    \"Trm\",\n",
    "    \"Tsen\",\n",
    "    \"Tsrt\"\n",
    "]"
   ]
  },
  {
   "cell_type": "code",
   "execution_count": null,
   "id": "1c71ed97-e941-453e-b12d-7bc19c73bc3a",
   "metadata": {},
   "outputs": [],
   "source": [
    "#marker_genes = {\n",
    "#    ct: [m for m in ct_markers if m in adata_solo.var.index]\n",
    "#    for ct, ct_markers in marker_genes.items()\n",
    "#    if ct in cd8t_cts\n",
    "#}"
   ]
  },
  {
   "cell_type": "code",
   "execution_count": null,
   "id": "14829074-1116-4952-aa98-2145d8ab3209",
   "metadata": {},
   "outputs": [],
   "source": [
    "marker_genes"
   ]
  },
  {
   "cell_type": "code",
   "execution_count": null,
   "id": "d861f0b4-f3ed-492b-948c-2ef67c58f696",
   "metadata": {},
   "outputs": [],
   "source": [
    "#sc.pl.dotplot(\n",
    " #   adata_solo,\n",
    " #   groupby=\"leiden\",\n",
    " #   var_names=marker_genes,\n",
    " #   gene_symbol = \"symbol\"\n",
    "#)"
   ]
  },
  {
   "cell_type": "code",
   "execution_count": null,
   "id": "34ffdd84-2b20-49d1-beb0-6a2f5618c6f8",
   "metadata": {},
   "outputs": [],
   "source": [
    "adata_solo.var"
   ]
  },
  {
   "cell_type": "code",
   "execution_count": null,
   "id": "28fa8ccd-ef4b-4a90-b0ff-820d4093f4f8",
   "metadata": {},
   "outputs": [],
   "source": [
    "adata_solo"
   ]
  },
  {
   "cell_type": "code",
   "execution_count": null,
   "id": "9741f2b6-5930-450d-a98b-8c1cf69c7796",
   "metadata": {},
   "outputs": [],
   "source": [
    "sc.pl.umap(\n",
    "        adata_solo,\n",
    "        color=[\"Casp7\",\"Casp3\",\"Fas\",\"Casp9\",\"Bcl2\"],\n",
    "        vmin=0,\n",
    "    gene_symbols=\"symbol\",\n",
    "        vmax=\"p99\",  # set vmax to the 99th percentile of the gene count instead of the maximum, to prevent outliers from making expression in other cells invisible. Note that this can cause problems for extremely lowly expressed genes.\n",
    "        sort_order=False,  # do not plot highest expression on top, to not get a biased view of the mean expression among cells\n",
    "        frameon=False,\n",
    "        cmap=\"Reds\",  # or choose another color map e.g. from here: https://matplotlib.org/stable/tutorials/colors/colormaps.html\n",
    "    )"
   ]
  },
  {
   "cell_type": "code",
   "execution_count": null,
   "id": "9ab2d08c-4ad7-4485-97d8-11d9fc3bcc54",
   "metadata": {},
   "outputs": [],
   "source": [
    "adata_annot_colon"
   ]
  },
  {
   "cell_type": "code",
   "execution_count": null,
   "id": "0720df91-7075-4b31-a762-eb70f1f05b99",
   "metadata": {},
   "outputs": [],
   "source": [
    "adata_annot = adata_solo.copy()"
   ]
  },
  {
   "cell_type": "code",
   "execution_count": null,
   "id": "20c05301-91dc-4f81-b073-8c8c75411264",
   "metadata": {},
   "outputs": [],
   "source": [
    "values_to_keep = ['10mix1', '10mix2', '11mix1', '11mix2',\"GF1\"]\n",
    "\n",
    "adata_annot_colon = adata_annot[adata_annot.obs[\"sample_id\"].isin(values_to_keep)]\n"
   ]
  },
  {
   "cell_type": "code",
   "execution_count": null,
   "id": "ad116df6-7fb6-4146-b2ed-02df93e84dc1",
   "metadata": {},
   "outputs": [],
   "source": [
    "values_to_keep = ['11mix-ICI1','GF-ICI1-plus','10mix-ICI1', '10mix-ICI2', 'GF-ICI2-plus', '11mix-ICI2','11mix2', 'GF-ICI1', 'GF-ICI2']\n",
    "\n",
    "adata_annot_tumor = adata_annot[adata_annot.obs[\"sample_id\"].isin(values_to_keep)]"
   ]
  },
  {
   "cell_type": "code",
   "execution_count": null,
   "id": "226515d1-3317-4f82-83be-a4f92212a5fd",
   "metadata": {},
   "outputs": [],
   "source": [
    "del adata_annot_colon.uns[\"neighbors\"]\n",
    "del adata_annot_colon.obs[\"leiden_3\"]\n",
    "del adata_annot_colon.obs[\"leiden_2\"]\n",
    "del adata_annot_colon.obs[\"leiden\"]"
   ]
  },
  {
   "cell_type": "code",
   "execution_count": null,
   "id": "e370b64e-92f6-43c9-83b3-5233b5f240ba",
   "metadata": {},
   "outputs": [],
   "source": [
    "del adata_annot_tumor.uns[\"neighbors\"]\n",
    "del adata_annot_tumor.obs[\"leiden_3\"]\n",
    "del adata_annot_tumor.obs[\"leiden_2\"]\n",
    "del adata_annot_tumor.obs[\"leiden\"]"
   ]
  },
  {
   "cell_type": "code",
   "execution_count": null,
   "id": "328ff47c-6fbb-48b5-a8d7-506acc1786fc",
   "metadata": {},
   "outputs": [],
   "source": [
    "sc.pp.neighbors(adata_annot_colon)"
   ]
  },
  {
   "cell_type": "code",
   "execution_count": null,
   "id": "47857358-d5da-4458-ac5c-bae6e59dae0f",
   "metadata": {},
   "outputs": [],
   "source": [
    "sc.tl.umap(adata_annot_colon)"
   ]
  },
  {
   "cell_type": "code",
   "execution_count": null,
   "id": "3f0d524d-7ee2-48f2-9795-944099cad6d9",
   "metadata": {},
   "outputs": [],
   "source": [
    "\n",
    "sc.tl.leiden(adata_annot_colon, resolution=0.7, key_added=\"leiden_3\")"
   ]
  },
  {
   "cell_type": "code",
   "execution_count": null,
   "id": "b59d3821-47ae-4b70-9326-3c11165ab96e",
   "metadata": {},
   "outputs": [],
   "source": [
    "\n",
    "sc.tl.leiden(adata_annot_colon,  key_added=\"leiden\")"
   ]
  },
  {
   "cell_type": "code",
   "execution_count": null,
   "id": "49aa392f-eb18-4652-9111-9341149f5d19",
   "metadata": {},
   "outputs": [],
   "source": [
    "\n",
    "sc.tl.leiden(adata_annot_colon, resolution=0.3, key_added=\"leiden_2\")"
   ]
  },
  {
   "cell_type": "code",
   "execution_count": null,
   "id": "57adfa1b-c333-4084-8a0c-61027b6276eb",
   "metadata": {},
   "outputs": [],
   "source": [
    "sc.pl.umap(adata_annot_colon, color = \"leiden_3\",legend_loc=\"on data\")"
   ]
  },
  {
   "cell_type": "code",
   "execution_count": null,
   "id": "d5e0a485-de15-4a6e-a546-3a0fe5daedae",
   "metadata": {},
   "outputs": [],
   "source": [
    "sc.pl.umap(adata_annot_colon, color = \"leiden\",legend_loc=\"on data\")"
   ]
  },
  {
   "cell_type": "code",
   "execution_count": null,
   "id": "6109311d-0b3a-4571-9730-766155678b5e",
   "metadata": {},
   "outputs": [],
   "source": [
    "sc.pl.umap(adata_annot_colon, color = \"leiden_2\",legend_loc=\"on data\")"
   ]
  },
  {
   "cell_type": "code",
   "execution_count": null,
   "id": "f23259cd-4665-4fcd-baa9-1ef9608b11be",
   "metadata": {},
   "outputs": [],
   "source": [
    "#tn 7.9.11.4\n",
    "sc.pl.umap(\n",
    "        adata_annot_colon,\n",
    "        color=[\"Ltb\",\"Sell\",\"Lef1\",\"Nosip\", \"Ccr7\"],\n",
    "        vmin=0,\n",
    "    gene_symbols=\"symbol\",\n",
    "        vmax=\"p99\",  # set vmax to the 99th percentile of the gene count instead of the maximum, to prevent outliers from making expression in other cells invisible. Note that this can cause problems for extremely lowly expressed genes.\n",
    "        sort_order=False,  # do not plot highest expression on top, to not get a biased view of the mean expression among cells\n",
    "        frameon=False,\n",
    "        cmap=\"Reds\",  # or choose another color map e.g. from here: https://matplotlib.org/stable/tutorials/colors/colormaps.html\n",
    "    )"
   ]
  },
  {
   "cell_type": "code",
   "execution_count": null,
   "id": "5aee65a1-208f-432c-9fe1-75ddbc356a33",
   "metadata": {},
   "outputs": [],
   "source": [
    "#tex\n",
    "sc.pl.umap(\n",
    "        adata_annot_colon,\n",
    "        color=[\"Cxcr6\",\"Gzmb\",\"Havcr2\",\"Ctla4\", \"Lag3\",\"Cd274\"],\n",
    "        vmin=0,\n",
    "    gene_symbols=\"symbol\",\n",
    "        vmax=\"p99\",  # set vmax to the 99th percentile of the gene count instead of the maximum, to prevent outliers from making expression in other cells invisible. Note that this can cause problems for extremely lowly expressed genes.\n",
    "        sort_order=False,  # do not plot highest expression on top, to not get a biased view of the mean expression among cells\n",
    "        frameon=False,\n",
    "        cmap=\"Reds\",  # or choose another color map e.g. from here: https://matplotlib.org/stable/tutorials/colors/colormaps.html\n",
    "    )"
   ]
  },
  {
   "cell_type": "code",
   "execution_count": null,
   "id": "2f78435f-64cf-49f3-b793-c9f37cdb49c9",
   "metadata": {},
   "outputs": [],
   "source": [
    "#tcd8+ cells \n",
    "\"Cd8a\"\n",
    "\n",
    "sc.pl.umap(\n",
    "        adata_annot_colon,\n",
    "        color=[\"Cd8a\"],\n",
    "        vmin=0,\n",
    "    gene_symbols=\"symbol\",\n",
    "        vmax=\"p99\",  # set vmax to the 99th percentile of the gene count instead of the maximum, to prevent outliers from making expression in other cells invisible. Note that this can cause problems for extremely lowly expressed genes.\n",
    "        sort_order=False,  # do not plot highest expression on top, to not get a biased view of the mean expression among cells\n",
    "        frameon=False,\n",
    "        cmap=\"inferno\",  # or choose another color map e.g. from here: https://matplotlib.org/stable/tutorials/colors/colormaps.html\n",
    "    )"
   ]
  },
  {
   "cell_type": "code",
   "execution_count": null,
   "id": "65be37e3-118f-42c8-8f86-cc93f9279412",
   "metadata": {},
   "outputs": [],
   "source": [
    "sc.pp.neighbors(adata_annot_tumor)"
   ]
  },
  {
   "cell_type": "code",
   "execution_count": null,
   "id": "eee89593-caed-4f64-bedf-008400609990",
   "metadata": {},
   "outputs": [],
   "source": [
    "sc.tl.umap(adata_annot_tumor)"
   ]
  },
  {
   "cell_type": "code",
   "execution_count": null,
   "id": "e198fd51-8a88-49f1-af78-7c7760ee7851",
   "metadata": {},
   "outputs": [],
   "source": [
    "sc.tl.leiden(adata_annot_tumor, resolution=0.7, key_added=\"leiden_3\")"
   ]
  },
  {
   "cell_type": "code",
   "execution_count": null,
   "id": "227f4d73-827d-40ca-b2b4-ea0aaae73451",
   "metadata": {},
   "outputs": [],
   "source": [
    "sc.tl.leiden(adata_annot_tumor, key_added=\"leiden\")"
   ]
  },
  {
   "cell_type": "code",
   "execution_count": null,
   "id": "72365513-7c81-4834-bad5-bc9acb2efa7e",
   "metadata": {},
   "outputs": [],
   "source": [
    "sc.tl.leiden(adata_annot_tumor,resolution=0.2, key_added=\"leiden_2\")"
   ]
  },
  {
   "cell_type": "code",
   "execution_count": null,
   "id": "1fb0032b-f0a9-4429-90d7-b547819da8ad",
   "metadata": {},
   "outputs": [],
   "source": [
    "sc.pl.umap(adata_annot_tumor, color = \"leiden_3\",legend_loc=\"on data\")"
   ]
  },
  {
   "cell_type": "code",
   "execution_count": null,
   "id": "d9b24490-d58c-477b-b207-e9d0243eaa5b",
   "metadata": {},
   "outputs": [],
   "source": [
    "sc.pl.umap(adata_annot_tumor, color = \"leiden_2\",legend_loc=\"on data\")"
   ]
  },
  {
   "cell_type": "code",
   "execution_count": null,
   "id": "05399fbe-5a57-4a56-abeb-d6e4cc3ad48a",
   "metadata": {},
   "outputs": [],
   "source": [
    "sc.pl.umap(adata_annot_tumor, color = \"manual_celltype_annotation\")"
   ]
  },
  {
   "cell_type": "code",
   "execution_count": null,
   "id": "9552a351-fe13-4a33-8e29-a7d6eae68081",
   "metadata": {},
   "outputs": [],
   "source": [
    "#tn 7.9.11.4, 5 left \n",
    "#leiden 3: 11,8,5,16,10,6,7\n",
    "sc.pl.umap(\n",
    "        adata_annot_tumor,\n",
    "        color=[\"Ltb\",\"Sell\",\"Lef1\",\"Nosip\", \"Ccr7\"],\n",
    "        vmin=0,\n",
    "    gene_symbols=\"symbol\",\n",
    "        vmax=\"p99\",  # set vmax to the 99th percentile of the gene count instead of the maximum, to prevent outliers from making expression in other cells invisible. Note that this can cause problems for extremely lowly expressed genes.\n",
    "        sort_order=False,  # do not plot highest expression on top, to not get a biased view of the mean expression among cells\n",
    "        frameon=False,\n",
    "        cmap=\"Reds\",  # or choose another color map e.g. from here: https://matplotlib.org/stable/tutorials/colors/colormaps.html\n",
    "    )"
   ]
  },
  {
   "cell_type": "code",
   "execution_count": null,
   "id": "f42c97f6-5e57-425b-8219-00c6158899bd",
   "metadata": {},
   "outputs": [],
   "source": [
    "#tex 1,2,8,3 , 5 right  \n",
    "# leiden3 9,13, 00,2,12,3,4,21,1,18,17\n",
    "sc.pl.umap(\n",
    "        adata_annot_tumor,\n",
    "        color=[\"Cxcr6\",\"Gzmb\",\"Havcr2\",\"Ctla4\", \"Lag3\",\"Cd274\"],\n",
    "        vmin=0,\n",
    "    gene_symbols=\"symbol\",\n",
    "        vmax=\"p99\",  # set vmax to the 99th percentile of the gene count instead of the maximum, to prevent outliers from making expression in other cells invisible. Note that this can cause problems for extremely lowly expressed genes.\n",
    "        sort_order=False,  # do not plot highest expression on top, to not get a biased view of the mean expression among cells\n",
    "        frameon=False,\n",
    "        cmap=\"Reds\",  # or choose another color map e.g. from here: https://matplotlib.org/stable/tutorials/colors/colormaps.html\n",
    "    )"
   ]
  },
  {
   "cell_type": "code",
   "execution_count": null,
   "id": "0bcdf103-991e-43fd-ad28-ad3146e1c224",
   "metadata": {},
   "outputs": [],
   "source": [
    "#tcd8+ cells \n",
    "\"Cd8a\"\n",
    "\n",
    "sc.pl.umap(\n",
    "        adata_annot_tumor,\n",
    "        color=[\"Cd8a\"],\n",
    "        vmin=0,\n",
    "    gene_symbols=\"symbol\",\n",
    "        vmax=\"p99\",  # set vmax to the 99th percentile of the gene count instead of the maximum, to prevent outliers from making expression in other cells invisible. Note that this can cause problems for extremely lowly expressed genes.\n",
    "        sort_order=False,  # do not plot highest expression on top, to not get a biased view of the mean expression among cells\n",
    "        frameon=False,\n",
    "        cmap=\"inferno\",  # or choose another color map e.g. from here: https://matplotlib.org/stable/tutorials/colors/colormaps.html\n",
    "    )"
   ]
  },
  {
   "cell_type": "code",
   "execution_count": null,
   "id": "ee79650d-1d88-48d0-871e-63e696fa0d2b",
   "metadata": {},
   "outputs": [],
   "source": [
    "#tisg\n",
    "sc.pl.umap(\n",
    "        adata_annot_tumor,\n",
    "        color=[\"Isg15\",\"Ifit3\",\"Ifit1\",\"Stat1\", \"Ifng\"],\n",
    "        vmin=0,\n",
    "    gene_symbols=\"symbol\",\n",
    "        vmax=\"p99\",  # set vmax to the 99th percentile of the gene count instead of the maximum, to prevent outliers from making expression in other cells invisible. Note that this can cause problems for extremely lowly expressed genes.\n",
    "        sort_order=False,  # do not plot highest expression on top, to not get a biased view of the mean expression among cells\n",
    "        frameon=False,\n",
    "        cmap=\"inferno\",  # or choose another color map e.g. from here: https://matplotlib.org/stable/tutorials/colors/colormaps.html\n",
    "    )"
   ]
  },
  {
   "cell_type": "code",
   "execution_count": null,
   "id": "c6a829f7-3e39-4b2b-90b2-b0b77bee0da0",
   "metadata": {},
   "outputs": [],
   "source": [
    "#trm\n",
    "sc.pl.umap(\n",
    "        adata_annot_tumor,\n",
    "        color=[\"Itga1\",\"Cpne7\",\"Txnip\",\"Jaml\",\"Prf1\",\"Gzmb\"],\n",
    "        vmin=0,\n",
    "    gene_symbols=\"symbol\",\n",
    "        vmax=\"p99\",  # set vmax to the 99th percentile of the gene count instead of the maximum, to prevent outliers from making expression in other cells invisible. Note that this can cause problems for extremely lowly expressed genes.\n",
    "        sort_order=False,  # do not plot highest expression on top, to not get a biased view of the mean expression among cells\n",
    "        frameon=False,\n",
    "        cmap=\"Reds\",  # or choose another color map e.g. from here: https://matplotlib.org/stable/tutorials/colors/colormaps.html\n",
    "    )"
   ]
  },
  {
   "cell_type": "code",
   "execution_count": null,
   "id": "44097555-d515-46ca-839e-eff37fe5d5d3",
   "metadata": {},
   "outputs": [],
   "source": [
    "#trm\n",
    "sc.pl.umap(\n",
    "        adata_annot_tumor,\n",
    "        color=[\"Prf1\",\"Gzmb\"],\n",
    "        vmin=0,\n",
    "    gene_symbols=\"symbol\",\n",
    "        vmax=\"p99\",  # set vmax to the 99th percentile of the gene count instead of the maximum, to prevent outliers from making expression in other cells invisible. Note that this can cause problems for extremely lowly expressed genes.\n",
    "        sort_order=False,  # do not plot highest expression on top, to not get a biased view of the mean expression among cells\n",
    "        frameon=False,\n",
    "        cmap=\"inferno\",  # or choose another color map e.g. from here: https://matplotlib.org/stable/tutorials/colors/colormaps.html\n",
    "    )"
   ]
  },
  {
   "cell_type": "code",
   "execution_count": null,
   "id": "4bdff2ea-fe8b-405e-a7c6-ccdae493cd63",
   "metadata": {},
   "outputs": [],
   "source": [
    "#T cell regulatory\n",
    "sc.pl.umap(\n",
    "        adata_annot_tumor,\n",
    "        color=[\"Foxp3\",\"Ctla4\",\"Il2ra\"],\n",
    "        vmin=0,\n",
    "    gene_symbols=\"symbol\",\n",
    "        vmax=\"p99\",  # set vmax to the 99th percentile of the gene count instead of the maximum, to prevent outliers from making expression in other cells invisible. Note that this can cause problems for extremely lowly expressed genes.\n",
    "        sort_order=False,  # do not plot highest expression on top, to not get a biased view of the mean expression among cells\n",
    "        frameon=False,\n",
    "        cmap=\"inferno\",  # or choose another color map e.g. from here: https://matplotlib.org/stable/tutorials/colors/colormaps.html\n",
    "    )"
   ]
  },
  {
   "cell_type": "code",
   "execution_count": null,
   "id": "78b924fd-c013-4262-9c0f-844f14ebf95e",
   "metadata": {},
   "outputs": [],
   "source": [
    "#9,13, 00,2,12,3,4,21,1,18,17 tex \n",
    "#11,8,5,16,10,6,7 tn\n",
    "\n",
    "cl_annotation = { \n",
    "    \"0\": \"Tex\",\n",
    "    \"1\": \"Tex\",\n",
    "    \"2\": \"Tex\",\n",
    "    \"3\":\"Tex\",\n",
    "    \"4\":\"Tex\",\n",
    "    \"5\":\"Tn\",\n",
    "    \"6\":\"Tn\",\n",
    "    \"7\":\"Tn\",\n",
    "    \"8\":\"Tn\",\n",
    "    \"9\":\"Tex\",\n",
    "    \"10\":\"Tn\",\n",
    "    \"11\":\"Tn\",\n",
    "    \"12\":\"Tex\",\n",
    "    \"13\":\"Tex\",\n",
    "    \"14\":\"Tex\",\n",
    "    \"15\":\"Tex\",\n",
    "    \"16\":\"Tn\",\n",
    "    \"17\":\"Tex\",\n",
    "    \"18\":\"Tex\",\n",
    "    \"19\":\"Tex\",\n",
    "    \"20\":\"Tex\",\n",
    "    \"21\":\"Tex\",\n",
    "    \"22\":\"Tex\",\n",
    "}"
   ]
  },
  {
   "cell_type": "code",
   "execution_count": null,
   "id": "0ff97d0d-d31d-4b2a-b3ec-9803b96bbd3e",
   "metadata": {},
   "outputs": [],
   "source": [
    "adata_annot_tumor.obs[\"manual_celltype_annotation\"] = adata_annot_tumor.obs.leiden_3.map(cl_annotation)"
   ]
  },
  {
   "cell_type": "code",
   "execution_count": null,
   "id": "48f3d114-d2a7-47d8-8420-9bb6a9d0e46c",
   "metadata": {},
   "outputs": [],
   "source": [
    "adata_annot.X = adata_annot.layers[\"denoised\"]"
   ]
  },
  {
   "cell_type": "code",
   "execution_count": null,
   "id": "17908d8b-2e55-42fc-be79-e0b270c5ad0c",
   "metadata": {},
   "outputs": [],
   "source": [
    "scales_counts = sc.pp.normalize_total(adata, target_sum=None, inplace=False)\n",
    "# log1p transform\n",
    "adata.layers[\"log1p_norm_denoised\"] = sc.pp.log1p(scales_counts[\"X\"], copy=True)"
   ]
  },
  {
   "cell_type": "code",
   "execution_count": null,
   "id": "c874683d-028b-49d3-a013-66cf4a930825",
   "metadata": {},
   "outputs": [],
   "source": [
    "sc.pp.normalize_total(adata_annot)\n",
    "sc.pp.log1p(adata_annot)"
   ]
  },
  {
   "cell_type": "code",
   "execution_count": null,
   "id": "b5e1b661-5d8a-4f0c-8172-9671f2a51ca7",
   "metadata": {},
   "outputs": [],
   "source": [
    "sc.pl.umap(adata_solo, color = \"leiden\",legend_loc=\"on data\")"
   ]
  },
  {
   "cell_type": "code",
   "execution_count": null,
   "id": "93bde198-9824-47c8-b48c-b907a9b41735",
   "metadata": {},
   "outputs": [],
   "source": [
    "sc.pl.umap(adata_solo, color=\"leiden_2\",legend_loc=\"on data\")"
   ]
  },
  {
   "cell_type": "code",
   "execution_count": null,
   "id": "a344998d-72a5-4759-a65f-beae8e292d98",
   "metadata": {},
   "outputs": [],
   "source": []
  },
  {
   "cell_type": "code",
   "execution_count": null,
   "id": "fad47946-a369-43c4-98b6-e77b39c2e025",
   "metadata": {},
   "outputs": [],
   "source": [
    "sc.pl.umap(adata_solo, color=\"leiden_3\",legend_loc=\"on data\")"
   ]
  },
  {
   "cell_type": "code",
   "execution_count": null,
   "id": "159f3b78-c481-4eb3-a6cc-3d9a31705178",
   "metadata": {},
   "outputs": [],
   "source": [
    "sc.pl.umap(adata_solo, color=\"leiden_3\")"
   ]
  },
  {
   "cell_type": "code",
   "execution_count": null,
   "id": "d1ced148-0c38-4470-a67b-4915c5b73eb9",
   "metadata": {},
   "outputs": [],
   "source": [
    "#Sanity check\n",
    "sc.pl.umap(adata_solo, color=\"is_doublet\")"
   ]
  },
  {
   "cell_type": "code",
   "execution_count": null,
   "id": "c766ec60-f399-4ab7-a4b5-447b39a34514",
   "metadata": {
    "tags": []
   },
   "outputs": [],
   "source": [
    "sc.pl.umap(adata_annot, color=[\"manual_celltype_annotation\"], save = \"manual_celltype_annotation\", title =\"Single cell sorted CD8+ T cells\")\n"
   ]
  },
  {
   "cell_type": "code",
   "execution_count": null,
   "id": "f4e46b03-1e00-4e9e-a5f5-d476d3a99a22",
   "metadata": {},
   "outputs": [],
   "source": [
    "adata_annot"
   ]
  },
  {
   "cell_type": "code",
   "execution_count": null,
   "id": "3a159e47-220c-4d33-a3fe-0d668f3c0640",
   "metadata": {},
   "outputs": [],
   "source": [
    "adata_solo.obs.sample_id.unique()"
   ]
  },
  {
   "cell_type": "code",
   "execution_count": null,
   "id": "e300dba8-da29-4f18-a759-96364d0df99a",
   "metadata": {},
   "outputs": [],
   "source": [
    "sc.pl.umap(adata_annot[adata_annot.obs[\"sample_id\"].isin([\"11mix1\",\"11mix2\"])], color=\"Cxcr3\",gene_symbols =\"symbol\",  vmax=1, save=\"_cxcr3_11mix\",  title = \"Cxcr3 - Colon 11mix\")\n",
    "#sc.pl.umap(adata_solo[adata_solo.obs[\"sample_id\"].isin([\"11mix1\"])], color=\"Cxcr3\")\n"
   ]
  },
  {
   "cell_type": "code",
   "execution_count": null,
   "id": "6e5d03eb-ea64-45fb-aab1-67a824fd7ae5",
   "metadata": {},
   "outputs": [],
   "source": [
    "sc.pl.umap(adata_annot, color=\"Cxcr3\",gene_symbols =\"symbol\",  vmax=\"1\",  save = \"_cxcr3_tumor_and_colon\", title = \"Cxcr3 - Colon and Tumor\")\n",
    "#sc.pl.umap(adata_solo[adata_solo.obs[\"sample_id\"].isin([\"11mix1\"])], color=\"Cxcr3\")\n"
   ]
  },
  {
   "cell_type": "code",
   "execution_count": null,
   "id": "a9a2fc36-2ef7-4223-aef0-d4a0ce71a690",
   "metadata": {},
   "outputs": [],
   "source": [
    "sc.pl.umap(adata_annot[adata_annot.obs[\"sample_id\"].isin([\"10mix-ICI1\",\"10mix-ICI2\",\"11mix-ICI1\",\"11mix-ICI2\",\"GF-ICI1\",\"GF-ICI2\",\"GF-ICI1-plus\",\"GF-ICI2-plus\"])], color=\"Cxcr3\",gene_symbols =\"symbol\",  vmax=\"p99\")\n",
    "#sc.pl.umap(adata_solo[adata_solo.obs[\"sample_id\"].isin([\"11mix1\"])], color=\"Cxcr3\")\n"
   ]
  },
  {
   "cell_type": "code",
   "execution_count": null,
   "id": "021fce86-a0c7-463c-8775-43c0b9d0e79e",
   "metadata": {},
   "outputs": [],
   "source": [
    "sc.pl.umap(adata_annot[adata_annot.obs[\"origin\"].isin([\"colon\"])], color=\"Cxcr3\",gene_symbols =\"symbol\",  save = \"_cxcr3_colon\", vmax=1, title = \"Cxcr3 - Colon\")\n",
    "#sc.pl.umap(adata_solo[adata_solo.obs[\"sample_id\"].isin([\"11mix1\"])], color=\"Cxcr3\")\n"
   ]
  },
  {
   "cell_type": "code",
   "execution_count": null,
   "id": "3d24486b-7ce0-4ffd-8565-2c45761584f0",
   "metadata": {},
   "outputs": [],
   "source": [
    "sc.pl.umap(adata_annot[adata_annot.obs[\"origin\"].isin([\"til\"])], color=\"Cxcr3\",gene_symbols =\"symbol\",    save = \"_cxcr3_tumor\",vmax=1, title = \"Cxcr3 - Tumor\")\n",
    "#sc.pl.umap(adata_solo[adata_solo.obs[\"sample_id\"].isin([\"11mix1\"])], color=\"Cxcr3\")\n"
   ]
  },
  {
   "cell_type": "code",
   "execution_count": null,
   "id": "a708c992-b05c-4ddc-be49-fa738cda0125",
   "metadata": {},
   "outputs": [],
   "source": []
  },
  {
   "cell_type": "markdown",
   "id": "b13963d7-66ca-4dd7-920b-df140567dad1",
   "metadata": {},
   "source": [
    "Tnaive\n",
    "\n",
    "Ltb\",\"Sell\",\"Lef1\",\"Nosip"
   ]
  },
  {
   "cell_type": "code",
   "execution_count": null,
   "id": "2aed9426-70d6-4d39-ae9e-87143439b881",
   "metadata": {},
   "outputs": [],
   "source": [
    "#tn\n",
    "sc.pl.umap(\n",
    "        adata_annot,\n",
    "        color=[\"Ltb\",\"Sell\",\"Lef1\",\"Nosip\", \"Ccr7\"],\n",
    "        vmin=0,\n",
    "    gene_symbols=\"symbol\",\n",
    "        vmax=\"p99\",  # set vmax to the 99th percentile of the gene count instead of the maximum, to prevent outliers from making expression in other cells invisible. Note that this can cause problems for extremely lowly expressed genes.\n",
    "        sort_order=False,  # do not plot highest expression on top, to not get a biased view of the mean expression among cells\n",
    "        frameon=False,\n",
    "        cmap=\"Reds\",  # or choose another color map e.g. from here: https://matplotlib.org/stable/tutorials/colors/colormaps.html\n",
    "    )"
   ]
  },
  {
   "cell_type": "code",
   "execution_count": null,
   "id": "19bbc410-6bf8-4c39-a9ef-ffe24d45bde5",
   "metadata": {},
   "outputs": [],
   "source": [
    "#tn\n",
    "sc.pl.umap(\n",
    "        adata_annot,\n",
    "        color=[\"Ltb\",\"Sell\",\"Lef1\",\"Nosip\", \"Ccr7\"],\n",
    "        vmin=0,\n",
    "    gene_symbols=\"symbol\",\n",
    "        vmax=\"p99\",  # set vmax to the 99th percentile of the gene count instead of the maximum, to prevent outliers from making expression in other cells invisible. Note that this can cause problems for extremely lowly expressed genes.\n",
    "        sort_order=False,  # do not plot highest expression on top, to not get a biased view of the mean expression among cells\n",
    "        frameon=False,\n",
    "        cmap=\"Reds\",  # or choose another color map e.g. from here: https://matplotlib.org/stable/tutorials/colors/colormaps.html\n",
    "    )"
   ]
  },
  {
   "cell_type": "code",
   "execution_count": null,
   "id": "c39887fc-f0e7-440d-8b8a-f28ee7864ef5",
   "metadata": {
    "tags": []
   },
   "outputs": [],
   "source": [
    "sc.pl.umap(adata_annot, color=[\"Ltb\",\"Sell\",\"Lef1\",\"Nosip\",\"Ccr7\"],gene_symbols=\"symbol\", vmax=2)"
   ]
  },
  {
   "cell_type": "code",
   "execution_count": null,
   "id": "1ac6ea8d-4093-47b2-9b98-272259fb52c6",
   "metadata": {},
   "outputs": [],
   "source": [
    "#tcd8+ cells \n",
    "\"Cd8a\"\n",
    "\n",
    "sc.pl.umap(\n",
    "        adata_annot,\n",
    "        color=[\"Cd8a\"],\n",
    "        vmin=0,\n",
    "    gene_symbols=\"symbol\",\n",
    "        vmax=\"p99\",  # set vmax to the 99th percentile of the gene count instead of the maximum, to prevent outliers from making expression in other cells invisible. Note that this can cause problems for extremely lowly expressed genes.\n",
    "        sort_order=False,  # do not plot highest expression on top, to not get a biased view of the mean expression among cells\n",
    "        frameon=False,\n",
    "        cmap=\"Reds\",  # or choose another color map e.g. from here: https://matplotlib.org/stable/tutorials/colors/colormaps.html\n",
    "    )"
   ]
  },
  {
   "cell_type": "code",
   "execution_count": null,
   "id": "7e5d176c-1139-4946-a1c8-a9505fe860f2",
   "metadata": {},
   "outputs": [],
   "source": [
    "#tex\n",
    "sc.pl.umap(\n",
    "        adata_annot,\n",
    "        color=[\"Cxcr6\",\"Gzmb\",\"Havcr2\",\"Ctla4\", \"Lag3\",\"Cd274\"],\n",
    "        vmin=0,\n",
    "    gene_symbols=\"symbol\",\n",
    "        vmax=\"p99\",  # set vmax to the 99th percentile of the gene count instead of the maximum, to prevent outliers from making expression in other cells invisible. Note that this can cause problems for extremely lowly expressed genes.\n",
    "        sort_order=False,  # do not plot highest expression on top, to not get a biased view of the mean expression among cells\n",
    "        frameon=False,\n",
    "        cmap=\"Reds\",  # or choose another color map e.g. from here: https://matplotlib.org/stable/tutorials/colors/colormaps.html\n",
    "    )"
   ]
  },
  {
   "cell_type": "code",
   "execution_count": null,
   "id": "21179db9-939f-490f-950c-f7a366eab6af",
   "metadata": {},
   "outputs": [],
   "source": [
    "sc.pl.umap(adata_annot, color=[\"Cxcr6\",\"Gzmb\",\"Havcr2\",\"Ctla4\", \"Lag3\"],gene_symbols=\"symbol\", vmax=2)"
   ]
  },
  {
   "cell_type": "code",
   "execution_count": null,
   "id": "2b0e7b0a-4522-4554-9bb0-4d8d7acd79e5",
   "metadata": {},
   "outputs": [],
   "source": [
    "#Treg\n",
    "sc.pl.umap(\n",
    "        adata_annot,\n",
    "        color=[\"Il2ra\",\"Cd3d\",\"Cd5\",\"Cd14\",\"Foxp3\",\"Gata3\",\"Batf\",\"Cd226\",\"Cxcr5\",\"Bcl6\"], #\"Ccr8\",\"Lag3\" tumor infiltrated treg \n",
    "        vmin=0,\n",
    "    gene_symbols=\"symbol\",\n",
    "        vmax=\"p99\",  # set vmax to the 99th percentile of the gene count instead of the maximum, to prevent outliers from making expression in other cells invisible. Note that this can cause problems for extremely lowly expressed genes.\n",
    "        sort_order=False,  # do not plot highest expression on top, to not get a biased view of the mean expression among cells\n",
    "        frameon=False,\n",
    "        cmap=\"Reds\",  # or choose another color map e.g. from here: https://matplotlib.org/stable/tutorials/colors/colormaps.html\n",
    "    )"
   ]
  },
  {
   "cell_type": "code",
   "execution_count": null,
   "id": "357c94ab-cc82-4984-86c1-6f09d2abac47",
   "metadata": {},
   "outputs": [],
   "source": [
    "#Treg\n",
    "sc.pl.umap(\n",
    "        adata_annot,\n",
    "        color=[\"Ikzf2\",\"Ccr4\",\"Entpd1\",\"Il2ra\",\"Itgae\",\"Tnfrsf4\"], #\"Ccr8\",\"Lag3\" tumor infiltrated treg \n",
    "        vmin=0,\n",
    "    gene_symbols=\"symbol\",\n",
    "        vmax=\"p99\",  # set vmax to the 99th percentile of the gene count instead of the maximum, to prevent outliers from making expression in other cells invisible. Note that this can cause problems for extremely lowly expressed genes.\n",
    "        sort_order=False,  # do not plot highest expression on top, to not get a biased view of the mean expression among cells\n",
    "        frameon=False,\n",
    "        cmap=\"Reds\",  # or choose another color map e.g. from here: https://matplotlib.org/stable/tutorials/colors/colormaps.html\n",
    "    )"
   ]
  },
  {
   "cell_type": "code",
   "execution_count": null,
   "id": "fa0c6319-659a-4432-9610-6972a147b4a5",
   "metadata": {},
   "outputs": [],
   "source": [
    "sc.pl.umap(adata_annot, color=[\"Il2ra\",\"Cd3d\",\"Cd5\",\"Cd14\"],gene_symbols=\"symbol\", vmax=2)"
   ]
  },
  {
   "cell_type": "code",
   "execution_count": null,
   "id": "2147373d-11a5-4506-b709-09a769944abc",
   "metadata": {},
   "outputs": [],
   "source": [
    "#tisg\n",
    "sc.pl.umap(\n",
    "        adata_annot,\n",
    "        color=[\"Isg15\",\"Ifit3\",\"Ifit1\",\"Stat1\", \"Ifng\"],\n",
    "        vmin=0,\n",
    "    gene_symbols=\"symbol\",\n",
    "        vmax=\"p99\",  # set vmax to the 99th percentile of the gene count instead of the maximum, to prevent outliers from making expression in other cells invisible. Note that this can cause problems for extremely lowly expressed genes.\n",
    "        sort_order=False,  # do not plot highest expression on top, to not get a biased view of the mean expression among cells\n",
    "        frameon=False,\n",
    "        cmap=\"Reds\",  # or choose another color map e.g. from here: https://matplotlib.org/stable/tutorials/colors/colormaps.html\n",
    "    )"
   ]
  },
  {
   "cell_type": "code",
   "execution_count": null,
   "id": "74015917-cee7-4919-8612-2ad325a0b0a5",
   "metadata": {},
   "outputs": [],
   "source": [
    "sc.pl.umap(adata_annot, color=[\"Isg15\",\"Ifit3\",\"Ifit1\",\"Stat1\", \"Ifng\"],gene_symbols=\"symbol\", vmax=2)"
   ]
  },
  {
   "cell_type": "code",
   "execution_count": null,
   "id": "a5f80e54-25e1-4536-b189-73ec79f0ba76",
   "metadata": {},
   "outputs": [],
   "source": [
    "#trm\n",
    "sc.pl.umap(\n",
    "        adata_annot,\n",
    "        color=[\"Itga1\",\"Cpne7\",\"Txnip\",\"Jaml\"],\n",
    "        vmin=0,\n",
    "    gene_symbols=\"symbol\",\n",
    "        vmax=\"p99\",  # set vmax to the 99th percentile of the gene count instead of the maximum, to prevent outliers from making expression in other cells invisible. Note that this can cause problems for extremely lowly expressed genes.\n",
    "        sort_order=False,  # do not plot highest expression on top, to not get a biased view of the mean expression among cells\n",
    "        frameon=False,\n",
    "        cmap=\"Reds\",  # or choose another color map e.g. from here: https://matplotlib.org/stable/tutorials/colors/colormaps.html\n",
    "    )"
   ]
  },
  {
   "cell_type": "code",
   "execution_count": null,
   "id": "feec1f7f-5766-4581-b1be-2a7cec98aa60",
   "metadata": {},
   "outputs": [],
   "source": [
    "#trm\n",
    "sc.pl.umap(\n",
    "        adata_annot,\n",
    "        color=[\"Cd44\",\"Ccr7\", \"Cd28\", \"Cd69\"],\n",
    "        vmin=0,\n",
    "    gene_symbols=\"symbol\",\n",
    "        vmax=\"p99\",  # set vmax to the 99th percentile of the gene count instead of the maximum, to prevent outliers from making expression in other cells invisible. Note that this can cause problems for extremely lowly expressed genes.\n",
    "        sort_order=False,  # do not plot highest expression on top, to not get a biased view of the mean expression among cells\n",
    "        frameon=False,\n",
    "        cmap=\"Reds\",  # or choose another color map e.g. from here: https://matplotlib.org/stable/tutorials/colors/colormaps.html\n",
    "    )"
   ]
  },
  {
   "cell_type": "code",
   "execution_count": null,
   "id": "2c67d931-d53f-41fe-8c72-7522f1417320",
   "metadata": {},
   "outputs": [],
   "source": [
    "sc.pl.umap(adata_annot, color=[\"Itga1\",\"Cpne7\",\"Txnip\",\"Jaml\"],gene_symbols=\"symbol\", vmax=1)"
   ]
  },
  {
   "cell_type": "code",
   "execution_count": null,
   "id": "051b8c53-f7b7-4571-9845-27ada3f42ec8",
   "metadata": {},
   "outputs": [],
   "source": [
    "#tsen\n",
    "sc.pl.umap(\n",
    "        adata_annot,\n",
    "        color=[\"Plcg2\",\"Igkc\",\"Klrk1\",\"Slamf7\"],\n",
    "        vmin=0,\n",
    "    gene_symbols=\"symbol\",\n",
    "        vmax=\"p99\",  # set vmax to the 99th percentile of the gene count instead of the maximum, to prevent outliers from making expression in other cells invisible. Note that this can cause problems for extremely lowly expressed genes.\n",
    "        sort_order=False,  # do not plot highest expression on top, to not get a biased view of the mean expression among cells\n",
    "        frameon=False,\n",
    "        cmap=\"Reds\",  # or choose another color map e.g. from here: https://matplotlib.org/stable/tutorials/colors/colormaps.html\n",
    "    )"
   ]
  },
  {
   "cell_type": "code",
   "execution_count": null,
   "id": "b2a887d8-262b-427b-bb86-4bd4a344eff8",
   "metadata": {},
   "outputs": [],
   "source": [
    "sc.pl.umap(adata_annot, color=[\"Plcg2\",\"Igkc\",\"Klrk1\",\"Slamf7\"],gene_symbols=\"symbol\", vmax=1)"
   ]
  },
  {
   "cell_type": "code",
   "execution_count": null,
   "id": "2bb57b28-dbb8-484f-bd06-67aa2cb9f7cf",
   "metadata": {},
   "outputs": [],
   "source": [
    "#tsrt\n",
    "sc.pl.umap(\n",
    "        adata_annot,\n",
    "        color=[\"Hspa1b\", \"Hspa1a\",\"Dnajb1\",\"Ubc\"],\n",
    "        vmin=0,\n",
    "    gene_symbols=\"symbol\",\n",
    "        vmax=\"p99\",  # set vmax to the 99th percentile of the gene count instead of the maximum, to prevent outliers from making expression in other cells invisible. Note that this can cause problems for extremely lowly expressed genes.\n",
    "        sort_order=False,  # do not plot highest expression on top, to not get a biased view of the mean expression among cells\n",
    "        frameon=False,\n",
    "        cmap=\"Reds\",  # or choose another color map e.g. from here: https://matplotlib.org/stable/tutorials/colors/colormaps.html\n",
    "    )"
   ]
  },
  {
   "cell_type": "code",
   "execution_count": null,
   "id": "8e09bc6c-8781-4c6e-b47f-0d4cd8cb8076",
   "metadata": {},
   "outputs": [],
   "source": [
    "sc.pl.umap(adata_annot, color=[\"Ltb\",\"Sell\",\"Lef1\",\"Nosip\"],gene_symbols=\"symbol\")"
   ]
  },
  {
   "cell_type": "markdown",
   "id": "caedb1f4-ba9b-4ac0-8807-7295e6eee220",
   "metadata": {},
   "source": [
    "Tex\n",
    "\n",
    "- Cxcr6\n",
    "- Gzmb \n",
    "- Havcr2\n",
    "- Ctla4"
   ]
  },
  {
   "cell_type": "code",
   "execution_count": null,
   "id": "a6daafa4-fb2a-4437-b5be-0412dc302359",
   "metadata": {},
   "outputs": [],
   "source": [
    "sc.pl.umap(adata_solo, color=[\"Cxcr6\",\"Gzmb\",\"Havcr2\",\"Ctla4\"], gene_symbols=\"symbol\")"
   ]
  },
  {
   "cell_type": "markdown",
   "id": "e1b23ac8-e53f-43ef-a975-0549c6164e7f",
   "metadata": {},
   "source": [
    "Tisg\n",
    "- Isg15\n",
    "- Ifi44l\n",
    "- Ifit3\n",
    "- Ifit1"
   ]
  },
  {
   "cell_type": "code",
   "execution_count": null,
   "id": "27f4cd2b-4292-4bb3-8129-7c21e2e43ef8",
   "metadata": {},
   "outputs": [],
   "source": [
    "sc.pl.umap(adata_solo, color=[\"Isg15\",\"Ifit3\",\"Ifit1\",\"Stat1\"],gene_symbols=\"symbol\" )"
   ]
  },
  {
   "cell_type": "markdown",
   "id": "fed7a113-396f-4ab9-9dbb-3fc8ce9c2fa5",
   "metadata": {},
   "source": [
    "Tn\n",
    "- Ltb\n",
    "- Sell\n",
    "- Lef1\n",
    "- Nosip"
   ]
  },
  {
   "cell_type": "code",
   "execution_count": null,
   "id": "a13831e4-37bb-43e5-9550-2a96eabf299b",
   "metadata": {},
   "outputs": [],
   "source": [
    "sc.pl.umap(adata_solo, color=[\"Ltb\",\"Sell\",\"Lef1\",\"Nosip\"],gene_symbols=\"symbol\" )"
   ]
  },
  {
   "cell_type": "markdown",
   "id": "de7b8fbf-7917-4872-8423-2cd124407bdd",
   "metadata": {},
   "source": [
    "Trm\n",
    "- Itga1\n",
    "- Cpne7\n",
    "- Txnip\n",
    "- Jaml"
   ]
  },
  {
   "cell_type": "code",
   "execution_count": null,
   "id": "f1a32a05-ece7-4c54-9732-8170316d43ef",
   "metadata": {},
   "outputs": [],
   "source": [
    "sc.pl.umap(adata_solo, color=[\"Itga1\",\"Cpne7\",\"Txnip\",\"Jaml\"],gene_symbols=\"symbol\" )"
   ]
  },
  {
   "cell_type": "markdown",
   "id": "472a9d7e-7daf-4fd5-80e6-25a6ac9accbb",
   "metadata": {},
   "source": [
    "Tsen\n",
    "- Plcg2\n",
    "- Igkc\n",
    "- Klrk1\n",
    "- Slamf7"
   ]
  },
  {
   "cell_type": "code",
   "execution_count": null,
   "id": "fe3d71e3-7fb2-4f7f-960f-a66751c0b520",
   "metadata": {},
   "outputs": [],
   "source": [
    "sc.pl.umap(adata_solo, color=[\"Plcg2\",\"Igkc\",\"Klrk1\",\"Slamf7\"],gene_symbols=\"symbol\" )"
   ]
  },
  {
   "cell_type": "markdown",
   "id": "83d6acf0-2f47-42ef-88be-66c48470c80a",
   "metadata": {},
   "source": [
    "Tsrt\n",
    "- Hspa1b\n",
    "- Hspa1a\n",
    "- Dnajb1\n",
    "- Ubc"
   ]
  },
  {
   "cell_type": "code",
   "execution_count": null,
   "id": "0fc1f5db-0893-46ce-bc5e-c920c81335f7",
   "metadata": {},
   "outputs": [],
   "source": [
    "sc.pl.umap(adata_solo, color=[\"Hspa1b\", \"Hspa1a\",\"Dnajb1\",\"Ubc\"],gene_symbols=\"symbol\" )"
   ]
  },
  {
   "cell_type": "code",
   "execution_count": null,
   "id": "6944dc8b-e10b-4ce8-a2fa-1450ad7286c8",
   "metadata": {},
   "outputs": [],
   "source": [
    "sc.pl.umap(adata_annot, color=[\"Tubb5\", \"Cdk1\"],gene_symbols=\"symbol\", cmap=\"Reds\" )"
   ]
  },
  {
   "cell_type": "code",
   "execution_count": null,
   "id": "7b137f10-0601-49ea-bb6e-8ff26c590f37",
   "metadata": {},
   "outputs": [],
   "source": [
    "sc.pl.umap(adata_annot, color=['ENSMUSG00000022443',\n",
    " 'ENSMUSG00000105361',\n",
    " 'ENSMUSG00000029580',\n",
    " 'ENSMUSG00000029635',\n",
    " 'ENSMUSG00000021998',\n",
    " 'ENSMUSG00000004980',\n",
    " 'ENSMUSG00000030695',\n",
    " 'ENSMUSG00000026728',\n",
    " 'ENSMUSG00000092341',\n",
    " 'ENSMUSG00000098178',\n",
    " 'ENSMUSG00000059005'], vmax=3)"
   ]
  },
  {
   "cell_type": "code",
   "execution_count": null,
   "id": "551ac28d-d0b6-4d06-b818-4a1d1b3d3ece",
   "metadata": {},
   "outputs": [],
   "source": []
  },
  {
   "cell_type": "code",
   "execution_count": null,
   "id": "96be879c-2eb1-49e9-8525-d2c7aededb25",
   "metadata": {},
   "outputs": [],
   "source": []
  },
  {
   "cell_type": "code",
   "execution_count": null,
   "id": "46d5564a-8b39-4882-a2d0-f9a113cdf34d",
   "metadata": {},
   "outputs": [],
   "source": []
  },
  {
   "cell_type": "code",
   "execution_count": null,
   "id": "d1a19985-f715-44bc-b267-9bc3255526fa",
   "metadata": {},
   "outputs": [],
   "source": [
    "sc.tl.rank_genes_groups(adata_annot, 'leiden_3', method='wilcoxon')"
   ]
  },
  {
   "cell_type": "code",
   "execution_count": null,
   "id": "046be96b-8672-44c7-b308-182f34b6693e",
   "metadata": {},
   "outputs": [],
   "source": [
    "adata_annot.var"
   ]
  },
  {
   "cell_type": "code",
   "execution_count": null,
   "id": "9c25ba43-78fa-4712-b7f0-c66899854a6e",
   "metadata": {},
   "outputs": [],
   "source": [
    "adata_annot_0 = adata_annot[adata_annot.obs[\"leiden\"]==\"0\"].copy()"
   ]
  },
  {
   "cell_type": "code",
   "execution_count": null,
   "id": "933d2e8f-0fac-401f-a2d2-973d0f09f5fa",
   "metadata": {},
   "outputs": [],
   "source": []
  },
  {
   "cell_type": "code",
   "execution_count": null,
   "id": "b352edf6-1395-4e52-a6c8-7158c5091bc1",
   "metadata": {},
   "outputs": [],
   "source": [
    "dedf = sc.get.rank_genes_groups_df(adata_annot, group=\"10\")"
   ]
  },
  {
   "cell_type": "code",
   "execution_count": null,
   "id": "ca5145d0-7e32-4202-a91c-538c39c7a13e",
   "metadata": {},
   "outputs": [],
   "source": [
    "sc.pl.umap(adata_solo, color=\"leiden_3\")"
   ]
  },
  {
   "cell_type": "code",
   "execution_count": null,
   "id": "9dc4c282-3466-4841-89fb-5ec81a648845",
   "metadata": {},
   "outputs": [],
   "source": [
    "sc.pl.umap(adata_solo, color=\"leiden_3\", legend_loc=\"on data\")"
   ]
  },
  {
   "cell_type": "markdown",
   "id": "c6ceaafe-09d1-4716-9f17-468a1634ee70",
   "metadata": {},
   "source": [
    "Tn - Naive T cells\n",
    "Tex - exhausted CD8+ T cell\n",
    "Tisg - interferon (IFN) response T cell\n",
    "Trm - Resident Memory T cells\n",
    "Tsen - senescent-like T cells\n",
    "Tstr - stress response T cell (identified a unique stress response state, TSTR, characterized by heat shock gene expression. TSTR cells are detectable in situ in the tumor microenvironment across various cancer types,)"
   ]
  },
  {
   "cell_type": "code",
   "execution_count": null,
   "id": "7c9de945-6f1e-479e-b9e0-3a1fa7c9473e",
   "metadata": {},
   "outputs": [],
   "source": [
    "cl_annotation = {\n",
    "    \"0\": \"IFN T-cells\",\n",
    "    \"1\": \"Naive T-cells\",\n",
    "    \"2\": \"Exhausted T-cells\",\n",
    "    \"3\": \"Naive T-cells\",\n",
    "    \"4\":\"Senescent-like T-cells\",\n",
    "    \"5\":\"Exhausted T-cells\",\n",
    "    \"6\":\"Naive T-cells\",\n",
    "    \"7\":\"Exhausted T-cells\",\n",
    "    \"8\":\"IFN T-cells\",\n",
    "    \"9\":\"Senescent-like T-cells\",\n",
    "    \"10\":\"Exhausted T-cells\",\n",
    "    \"11\":\"Undefined\",\n",
    "    \"12\":\"Naive T-cells\",\n",
    "    \"13\":\"Stress response T-cells\",\n",
    "}"
   ]
  },
  {
   "cell_type": "code",
   "execution_count": null,
   "id": "b0bc40bd-dc21-4ba5-9f17-ca43ad75eda9",
   "metadata": {},
   "outputs": [],
   "source": [
    "adata_solo.obs[\"manual_celltype_annotation\"] = adata_solo.obs.leiden_3.map(cl_annotation)"
   ]
  },
  {
   "cell_type": "code",
   "execution_count": null,
   "id": "db7d185c-76d1-4db4-afdf-ebb54016ecaf",
   "metadata": {},
   "outputs": [],
   "source": [
    "sc.pl.umap(adata_solo, color=[\"manual_celltype_annotation\"],legend_loc=\"on data\")"
   ]
  },
  {
   "cell_type": "code",
   "execution_count": null,
   "id": "e13c9d5e-e161-42bf-9215-f08f9aad64fc",
   "metadata": {},
   "outputs": [],
   "source": [
    "sc.pl.umap(adata_annot, color=[\"manual_celltype_annotation\"], save = \"manual_celltype_annotation.png\", title =\"Single cell sorted CD8+ T cells\")\n"
   ]
  },
  {
   "cell_type": "code",
   "execution_count": null,
   "id": "ff587b70-823d-4bee-ac6c-db05d9d1f83a",
   "metadata": {},
   "outputs": [],
   "source": [
    "adata_solo.obs[\"manual_celltype_annotation\"].value_counts().sort_index()"
   ]
  },
  {
   "cell_type": "code",
   "execution_count": null,
   "id": "11ddd265-4553-4d54-bb21-d6ce3426bae9",
   "metadata": {},
   "outputs": [],
   "source": [
    "marker_genes"
   ]
  },
  {
   "cell_type": "code",
   "execution_count": null,
   "id": "c8d93273-9c4e-46f6-a2f7-06c053996e82",
   "metadata": {},
   "outputs": [],
   "source": [
    "cl_annotation_1 = {\"1\":\"Tn\",\"3\":\"Tex\",\"0\":\"Tsrt\",\"5\":\"Undefined\",\"2\":\"Tisg\",\"6\":\"Undefined\",\"4\":\"Undefined\"}\n"
   ]
  },
  {
   "cell_type": "code",
   "execution_count": null,
   "id": "21006262-7240-4917-a5ef-176c81feb4d5",
   "metadata": {},
   "outputs": [],
   "source": [
    "adata_solo.obs[\"manual_celltype_annotation_1\"] = adata_solo.obs.leiden.map(cl_annotation_1)"
   ]
  },
  {
   "cell_type": "code",
   "execution_count": null,
   "id": "5a0e19e3-e750-43e8-bfd2-16289b16ddc6",
   "metadata": {},
   "outputs": [],
   "source": [
    "sc.pl.umap(adata_solo, color=[\"manual_celltype_annotation_1\"],legend_loc=\"on data\")"
   ]
  },
  {
   "cell_type": "code",
   "execution_count": null,
   "id": "06d2acb1-d15f-4789-b189-6b1e96e3ad5e",
   "metadata": {},
   "outputs": [],
   "source": [
    "sc.pl.umap(adata_solo, color=[\"manual_celltype_annotation_1\"])"
   ]
  },
  {
   "cell_type": "code",
   "execution_count": null,
   "id": "7a10cc63-7169-4fc7-bb31-3467720e988f",
   "metadata": {},
   "outputs": [],
   "source": []
  },
  {
   "cell_type": "code",
   "execution_count": null,
   "id": "343700dd-e4b8-4407-b19c-bd2a7453921a",
   "metadata": {},
   "outputs": [],
   "source": [
    "adata_solo.var"
   ]
  },
  {
   "cell_type": "code",
   "execution_count": null,
   "id": "160314ca-be2b-4f4a-9740-ba515f6948a1",
   "metadata": {},
   "outputs": [],
   "source": [
    "adata_annot"
   ]
  },
  {
   "cell_type": "code",
   "execution_count": null,
   "id": "6b4a885e-58a2-4070-808c-a84179f51cee",
   "metadata": {},
   "outputs": [],
   "source": [
    "\n",
    "sc.pl.violin(adata_annot, keys='n_genes', groupby='manual_celltype_annotation', rotation=90)"
   ]
  },
  {
   "cell_type": "code",
   "execution_count": null,
   "id": "99fb1843-41fe-4288-99c5-4e1a55a92ea6",
   "metadata": {},
   "outputs": [],
   "source": [
    "\n",
    "sc.pl.violin(adata_annot, keys='n_genes', groupby='origin', rotation=90)"
   ]
  },
  {
   "cell_type": "code",
   "execution_count": null,
   "id": "6e7ea6ca-1191-4333-a57b-2d5137d2b11e",
   "metadata": {},
   "outputs": [],
   "source": [
    "\n",
    "sc.pl.violin(adata_annot, keys='n_genes', groupby='sample_id', rotation=90)"
   ]
  },
  {
   "cell_type": "code",
   "execution_count": null,
   "id": "bf3abf58-8b74-4237-8583-52cbb406133d",
   "metadata": {},
   "outputs": [],
   "source": [
    "\n",
    "sc.pl.violin(adata_annot, keys='total_counts', groupby='manual_celltype_annotation', rotation=90)"
   ]
  },
  {
   "cell_type": "code",
   "execution_count": null,
   "id": "86a40822-4596-4e6b-a950-5ba7765a19af",
   "metadata": {},
   "outputs": [],
   "source": [
    "\n",
    "sc.pl.violin(adata_annot, keys='total_counts', groupby='sample_id', rotation=90)"
   ]
  },
  {
   "cell_type": "code",
   "execution_count": null,
   "id": "cc74b4da-9965-4f91-bdcc-98a64c92397c",
   "metadata": {},
   "outputs": [],
   "source": [
    "\n",
    "sc.pl.violin(adata_annot, keys='total_counts', groupby='origin', rotation=90)"
   ]
  },
  {
   "cell_type": "code",
   "execution_count": null,
   "id": "bd32ce23-850c-434d-8d13-33c1c16aa442",
   "metadata": {},
   "outputs": [],
   "source": [
    "adata_solo.var.index = adata_solo.var[\"query\"]"
   ]
  },
  {
   "cell_type": "code",
   "execution_count": null,
   "id": "4c1a4524-ae2e-48e2-8200-ad4c117292b2",
   "metadata": {},
   "outputs": [],
   "source": [
    "#markers = [\"1Ab\", \"2Ab\",\"3Ab\",\"4Ab\",\"CD103\",\"CD44\",\"CD69\",\"ICOS\",\"PD1\"]\n",
    "#sc.pl.dotplot(adata_solo, marker_genes, groupby='manual_celltype_annotation', dendrogram=True, gene_symbols=\"symbol\")"
   ]
  },
  {
   "cell_type": "code",
   "execution_count": null,
   "id": "33fc21f3-093b-42ca-ab32-bbbb25accc05",
   "metadata": {},
   "outputs": [],
   "source": [
    "#sc.pl.matrixplot(adata_solo, marker_genes, groupby='manual_celltype_annotation', dendrogram=False, gene_symbols=\"symbol\")"
   ]
  },
  {
   "cell_type": "code",
   "execution_count": null,
   "id": "f335c014-c999-4cd2-8037-c5d10d7be8de",
   "metadata": {},
   "outputs": [],
   "source": [
    "adata_solo"
   ]
  },
  {
   "cell_type": "code",
   "execution_count": null,
   "id": "641d05f2-5e28-457c-96f6-d503bfea030a",
   "metadata": {},
   "outputs": [],
   "source": [
    "#sc.pl.heatmap(adata_solo, marker_genes, groupby='manual_celltype_annotation', swap_axes=True, gene_symbols=\"symbol\", standard_scale=\"obs\")\n"
   ]
  },
  {
   "cell_type": "code",
   "execution_count": null,
   "id": "e195fd65-0494-46b8-8306-0fbc02a715ff",
   "metadata": {},
   "outputs": [],
   "source": [
    "marker_genes"
   ]
  },
  {
   "cell_type": "code",
   "execution_count": null,
   "id": "1015d25f-7930-4fcf-9051-ddbb3e2d0029",
   "metadata": {},
   "outputs": [],
   "source": [
    "marker_list = [\"1Ab\", \"2Ab\",\"3Ab\",\"4Ab\",\"CD103\",\"CD44\",\"CD69\",\"ICOS\",\"PD1\"]"
   ]
  },
  {
   "cell_type": "code",
   "execution_count": null,
   "id": "dc3c8d84-bd18-49d3-bafc-43cd73d74784",
   "metadata": {},
   "outputs": [],
   "source": [
    "sc.pl.heatmap(adata_solo, marker_list, groupby='manual_celltype_annotation', swap_axes=True, log = True)\n"
   ]
  },
  {
   "cell_type": "code",
   "execution_count": null,
   "id": "5823a820-77b7-470c-b169-73a4a3ed4b5d",
   "metadata": {},
   "outputs": [],
   "source": [
    "marker_genes"
   ]
  },
  {
   "cell_type": "code",
   "execution_count": null,
   "id": "c72195c2-f5e0-4782-a3f4-6146827fd18c",
   "metadata": {},
   "outputs": [],
   "source": [
    "sc.pl.umap(adata_solo, color=[\"origin\"],gene_symbols=\"symbol\", save = \"umap_origin.jpg\", title =\"Single cell sorted CD8+ T cells - Origin \")"
   ]
  },
  {
   "cell_type": "code",
   "execution_count": null,
   "id": "3125743d-6561-43d7-89c1-1cfeb583156a",
   "metadata": {},
   "outputs": [],
   "source": [
    "sc.pl.umap(adata_solo, color=[\"condition\",\"origin\"],gene_symbols=\"symbol\" )\n",
    "sc.pl.umap(adata_solo, color=[\"sample_id\",\"ici_therapy\"],gene_symbols=\"symbol\" )"
   ]
  },
  {
   "cell_type": "code",
   "execution_count": null,
   "id": "9ec16c20-9a19-4da1-8c6d-b85df2b9072b",
   "metadata": {},
   "outputs": [],
   "source": [
    "sc.pl.umap(adata_solo, color=[\"CD103\",\"CD44\",\"CD69\"] ,gene_symbols=\"symbol\", save = \"umap_marker_genes1.png\")\n",
    "sc.pl.umap(adata_solo, color=[\"ICOS\",\"PD1\"] ,gene_symbols=\"symbol\",save = \"umap_marker_genes2.png\" )"
   ]
  },
  {
   "cell_type": "code",
   "execution_count": null,
   "id": "432e6842-b2cd-41dc-b09b-f9bab76dd9a6",
   "metadata": {},
   "outputs": [],
   "source": [
    "sc.pl.umap(adata_solo, color=[\"1Ab\", \"2Ab\",\"3Ab\",\"4Ab\",\"CD103\",\"CD44\",\"CD69\",\"ICOS\",\"PD1\"],gene_symbols=\"symbol\" )"
   ]
  },
  {
   "cell_type": "code",
   "execution_count": null,
   "id": "c30a686e-27a4-4628-bb62-be264a64d246",
   "metadata": {},
   "outputs": [],
   "source": [
    "sc.pl.umap(adata_solo, color=[\"Cxcr6\", \"Cxcr3\",\"Cxcr4\",\"Cxcr5\"],gene_symbols=\"symbol\" )"
   ]
  },
  {
   "cell_type": "code",
   "execution_count": null,
   "id": "64e8774c-36b7-4265-be8f-93e17e0148b3",
   "metadata": {},
   "outputs": [],
   "source": [
    "adata_solo.var"
   ]
  },
  {
   "cell_type": "code",
   "execution_count": null,
   "id": "0e9e12fb-8f52-46d7-81c1-583b048b3545",
   "metadata": {},
   "outputs": [],
   "source": [
    "sc.pl.violin(adata_solo, keys='ENSMUSG00000050232', groupby='origin', rotation=90, gene_symbols=\"symbol\") ##Cxcr3"
   ]
  },
  {
   "cell_type": "code",
   "execution_count": null,
   "id": "5ec13174-24a5-4456-b19d-7ec91f00da84",
   "metadata": {},
   "outputs": [],
   "source": [
    "sc.pl.violin(adata_solo, keys='ENSMUSG00000050232', groupby='condition', rotation=90, gene_symbols=\"symbol\") ##Cxcr3"
   ]
  },
  {
   "cell_type": "code",
   "execution_count": null,
   "id": "e88328c9-a394-40ab-a1ad-4ff943188119",
   "metadata": {},
   "outputs": [],
   "source": [
    "sc.pl.violin(adata_solo, keys='ENSMUSG00000048521', groupby='origin', rotation=90, gene_symbols=\"symbol\") ##Cxcr6"
   ]
  },
  {
   "cell_type": "code",
   "execution_count": null,
   "id": "a2ec4201-b05d-42d5-a646-92ac942c7a19",
   "metadata": {},
   "outputs": [],
   "source": [
    "sc.pl.violin(adata_solo, keys='CD44', groupby='origin', rotation=90, gene_symbols=\"symbol\") ##CD44"
   ]
  },
  {
   "cell_type": "code",
   "execution_count": null,
   "id": "4badbddd-4e7c-4251-840a-ff4d46b9f949",
   "metadata": {},
   "outputs": [],
   "source": [
    "sc.pl.violin(adata_solo, keys='PD1', groupby='origin', rotation=90, gene_symbols=\"symbol\") ##PD1"
   ]
  },
  {
   "cell_type": "code",
   "execution_count": null,
   "id": "afc7ea68-5b4f-4433-9003-6391212b2d57",
   "metadata": {},
   "outputs": [],
   "source": [
    "sc.pl.violin(adata_solo, keys='ENSMUSG00000048521', groupby='condition', rotation=90, gene_symbols=\"symbol\") ##Cxcr6"
   ]
  },
  {
   "cell_type": "code",
   "execution_count": null,
   "id": "a4534bb3-e2f1-419d-af73-1bf7473e7d76",
   "metadata": {},
   "outputs": [],
   "source": [
    "adata_annot.obs.columns"
   ]
  },
  {
   "cell_type": "code",
   "execution_count": null,
   "id": "181ffc12-6985-4eb6-b38e-fe2416a0ef47",
   "metadata": {},
   "outputs": [],
   "source": [
    "sample10mix_h5ad=  sc.read_h5ad(\"/data/projects/2021/MicrobialMetabolites/single-cell-sorted-cd8/scrna_seq_data/samples/adata_GF1.h5ad\")\n"
   ]
  },
  {
   "cell_type": "code",
   "execution_count": null,
   "id": "4172de0e-964a-4692-85c6-98bad6dd483d",
   "metadata": {},
   "outputs": [],
   "source": [
    "sample10mix_h5ad.obs"
   ]
  },
  {
   "cell_type": "code",
   "execution_count": null,
   "id": "d294c89b-5573-49f3-bb8f-6f8ef3332420",
   "metadata": {},
   "outputs": [],
   "source": [
    "import pandas as pd\n",
    "\n",
    "# Assuming adata_solo.obs.cell_type.value_counts() generates the cell type counts\n",
    "\n",
    "# Get the cell type value counts\n",
    "cell_type_counts = adata_annot.obs.sample_id.value_counts()\n",
    "\n",
    "# Create a DataFrame from the cell type value counts\n",
    "cell_type_df = pd.DataFrame(cell_type_counts).reset_index()\n",
    "\n",
    "# Rename columns\n",
    "cell_type_df.columns = ['cell_type', 'count']\n",
    "\n",
    "# Display the resulting DataFrame\n",
    "print(cell_type_df)"
   ]
  },
  {
   "cell_type": "code",
   "execution_count": null,
   "id": "7b392359-6814-4243-8c8e-e43fa0d4678e",
   "metadata": {},
   "outputs": [],
   "source": [
    "cell_type_df.drop([0,1,2,3,4,5,6,7], axis=0, inplace=True)"
   ]
  },
  {
   "cell_type": "code",
   "execution_count": null,
   "id": "6d059347-98a0-4edc-bff1-2b1d58b8bcd2",
   "metadata": {},
   "outputs": [],
   "source": [
    "cell_type_df"
   ]
  },
  {
   "cell_type": "code",
   "execution_count": null,
   "id": "a16cf735-af4c-4bea-9519-bf5f5552038d",
   "metadata": {},
   "outputs": [],
   "source": [
    "# initialize list of lists \n",
    "data = [['11mix', 7505], ['10mix', 6024], ['GF', 3132]] \n",
    "  \n",
    "# Create the pandas DataFrame \n",
    "df = pd.DataFrame(data, columns=['cell_type', 'count']) "
   ]
  },
  {
   "cell_type": "code",
   "execution_count": null,
   "id": "35721691-be0e-4ec4-b3d5-2d49b218f17a",
   "metadata": {},
   "outputs": [],
   "source": [
    "from matplotlib.ticker import MultipleLocator\n",
    "import pandas as pd\n",
    "import matplotlib.pyplot as plt\n",
    "\n",
    "# Assuming cell_type_df is your DataFrame with cell type counts\n",
    "\n",
    "# Create a bar plot using matplotlib\n",
    "plt.figure(figsize=(10,4 ))  # Set the figure size\n",
    "\n",
    "# Plot the data\n",
    "plt.barh(df['cell_type'], df['count'], fill=False)\n",
    "\n",
    "# Customize the plot\n",
    "plt.xlabel('Number of cells')\n",
    "\n",
    "plt.xticks(rotation=0)  # Rotate x-axis labels for better visibility\n",
    "\n",
    "x_locator = MultipleLocator(base=1000)\n",
    "plt.gca().xaxis.set_major_locator(x_locator)\n",
    "\n",
    "# Show the plot\n",
    "plt.tight_layout()  # Adjust layout for better spacing\n",
    "\n",
    "\n",
    "plt.savefig(\"/home/kvalem/myScratch/projects/2021/microbial-metabolites/preprocessing/40_single-cell-sorted-cd8/40_scrna_seq/bin/notebooks/figures/colon_cell_number.pdf\")\n",
    "plt.show()"
   ]
  },
  {
   "cell_type": "code",
   "execution_count": null,
   "id": "b312f862-0263-430c-a75c-0f3e5a7b03d9",
   "metadata": {},
   "outputs": [],
   "source": []
  },
  {
   "cell_type": "code",
   "execution_count": null,
   "id": "1b74d55e-9511-49fb-9ad1-372cadcc2347",
   "metadata": {},
   "outputs": [],
   "source": []
  },
  {
   "cell_type": "code",
   "execution_count": null,
   "id": "50af8bc2-b938-43c4-9c5c-532fdb1c47ed",
   "metadata": {},
   "outputs": [],
   "source": []
  },
  {
   "cell_type": "code",
   "execution_count": null,
   "id": "13416df5-4cc1-4c76-a42b-cdc9bfa7af49",
   "metadata": {},
   "outputs": [],
   "source": []
  },
  {
   "cell_type": "code",
   "execution_count": null,
   "id": "e1a13c57-8838-4385-83e7-e7d4675eedbb",
   "metadata": {},
   "outputs": [],
   "source": []
  },
  {
   "cell_type": "code",
   "execution_count": null,
   "id": "59982aab-7e23-4e97-946c-f0ae7156e755",
   "metadata": {},
   "outputs": [],
   "source": []
  },
  {
   "cell_type": "code",
   "execution_count": null,
   "id": "c91820e7-efcf-427d-9bf3-fc18e522b4ae",
   "metadata": {},
   "outputs": [],
   "source": []
  },
  {
   "cell_type": "code",
   "execution_count": null,
   "id": "16093f8e-ab10-46e0-aa77-e2c62bfcba7e",
   "metadata": {},
   "outputs": [],
   "source": []
  },
  {
   "cell_type": "code",
   "execution_count": null,
   "id": "a5ba2063-11e8-4812-8017-412a3ab1ec4f",
   "metadata": {},
   "outputs": [],
   "source": []
  },
  {
   "cell_type": "code",
   "execution_count": null,
   "id": "13cc86e5-f07e-4623-b94a-81c1503fef85",
   "metadata": {},
   "outputs": [],
   "source": []
  },
  {
   "cell_type": "code",
   "execution_count": null,
   "id": "6dfaca2e-d763-4ef1-8a71-d5fa90cf3815",
   "metadata": {},
   "outputs": [],
   "source": [
    "genes = \"/data/scratch/kvalem/projects/2021/microbial-metabolites/preprocessing/40_single-cell-sorted-cd8/40_scrna_seq/bin/notebooks/gene_markers.csv\""
   ]
  },
  {
   "cell_type": "code",
   "execution_count": null,
   "id": "af176f6f-5b93-42a8-ad5b-162c8044394f",
   "metadata": {},
   "outputs": [],
   "source": [
    "genes_df = pd.read_csv(genes)"
   ]
  },
  {
   "cell_type": "code",
   "execution_count": null,
   "id": "15d405bc-c087-4413-ab47-1b3227158a2c",
   "metadata": {},
   "outputs": [],
   "source": [
    "genes_df = genes_df.drop_duplicates(subset=['symbol'])"
   ]
  },
  {
   "cell_type": "code",
   "execution_count": null,
   "id": "853cf9ff-009c-49d0-8b1b-a6d9d1c87c51",
   "metadata": {},
   "outputs": [],
   "source": [
    "genes_df"
   ]
  },
  {
   "cell_type": "markdown",
   "id": "a4fb55b6-e1f8-473e-9e7a-c4cccb616794",
   "metadata": {},
   "source": [
    "### Automatic annotation"
   ]
  },
  {
   "cell_type": "code",
   "execution_count": null,
   "id": "51302921-36f6-48a0-ad5d-b2495a1a4e32",
   "metadata": {},
   "outputs": [],
   "source": [
    "dc.run_ora(\n",
    "    mat=adata_solo,\n",
    "    net=genes_df,\n",
    "    source='cell_type',\n",
    "    target='symbol',\n",
    "    min_n=1,\n",
    "    verbose=True\n",
    ")"
   ]
  },
  {
   "cell_type": "code",
   "execution_count": null,
   "id": "3b98803d-984f-415a-be4b-6f8b3f9c3aee",
   "metadata": {},
   "outputs": [],
   "source": [
    "acts = dc.get_acts(adata_solo, obsm_key='ora_estimate')"
   ]
  },
  {
   "cell_type": "code",
   "execution_count": null,
   "id": "b0f6d91e-07d9-45dd-a92a-7e17fb1e9171",
   "metadata": {},
   "outputs": [],
   "source": [
    "acts_v = acts.X.ravel()\n",
    "max_e = np.nanmax(acts_v[np.isfinite(acts_v)])\n",
    "acts.X[~np.isfinite(acts.X)] = max_e"
   ]
  },
  {
   "cell_type": "code",
   "execution_count": null,
   "id": "573b3591-0471-466a-a0b3-0c953d4e6cd0",
   "metadata": {},
   "outputs": [],
   "source": [
    "acts"
   ]
  }
 ],
 "metadata": {
  "kernelspec": {
   "display_name": "Python 3 (ipykernel)",
   "language": "python",
   "name": "python3"
  },
  "language_info": {
   "codemirror_mode": {
    "name": "ipython",
    "version": 3
   },
   "file_extension": ".py",
   "mimetype": "text/x-python",
   "name": "python",
   "nbconvert_exporter": "python",
   "pygments_lexer": "ipython3",
   "version": "3.11.8"
  }
 },
 "nbformat": 4,
 "nbformat_minor": 5
}
