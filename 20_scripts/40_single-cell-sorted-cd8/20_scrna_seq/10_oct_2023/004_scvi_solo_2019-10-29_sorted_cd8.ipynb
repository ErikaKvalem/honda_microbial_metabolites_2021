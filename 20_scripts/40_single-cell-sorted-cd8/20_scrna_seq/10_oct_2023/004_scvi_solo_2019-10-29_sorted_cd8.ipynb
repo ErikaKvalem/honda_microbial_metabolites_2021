{
 "cells": [
  {
   "cell_type": "markdown",
   "id": "d5cefd07-40a9-4895-af7a-9208e216bece",
   "metadata": {
    "tags": []
   },
   "source": [
    "# After SOLO doublet removal\n"
   ]
  },
  {
   "cell_type": "code",
   "execution_count": null,
   "id": "daaae6a2-5b01-490a-8e06-f9d1c6acb9b8",
   "metadata": {},
   "outputs": [],
   "source": [
    "# Python packages\n",
    "import scanpy as sc\n",
    "import scvi\n",
    "import numpy as np\n",
    "import pandas as pd\n",
    "import matplotlib.pyplot as plt\n",
    "import matplotlib\n",
    "import seaborn as sns"
   ]
  },
  {
   "cell_type": "code",
   "execution_count": null,
   "id": "d7b562bf-b23b-412c-9a54-48ae01b8c8cd",
   "metadata": {},
   "outputs": [],
   "source": [
    "path = \"/data/projects/2021/MicrobialMetabolites/single-cell-sorted-cd8/results/solo_2019\""
   ]
  },
  {
   "cell_type": "code",
   "execution_count": null,
   "id": "72e39947-5440-4a58-92eb-0adda9a91241",
   "metadata": {},
   "outputs": [],
   "source": [
    "adata_solo = sc.read_h5ad(f\"{path}/adata_nodoublet.h5ad\")"
   ]
  },
  {
   "cell_type": "code",
   "execution_count": null,
   "id": "7de6e8e2-b876-45e2-854b-21b921078a17",
   "metadata": {},
   "outputs": [],
   "source": [
    "adata_solo"
   ]
  },
  {
   "cell_type": "code",
   "execution_count": null,
   "id": "43e1b796-1fc6-43b4-b04d-9a9475f0e622",
   "metadata": {},
   "outputs": [],
   "source": [
    "adata_solo.var.sort_values(\"n_cells_by_counts\")"
   ]
  },
  {
   "cell_type": "code",
   "execution_count": null,
   "id": "ab2ec1c0-83d0-44eb-9f50-be8a2234092c",
   "metadata": {},
   "outputs": [],
   "source": [
    "adata_solo.obs"
   ]
  },
  {
   "cell_type": "code",
   "execution_count": null,
   "id": "9547b9fa-58af-42a9-ac3b-fe72d746c77b",
   "metadata": {},
   "outputs": [],
   "source": [
    "adata_solo.obs"
   ]
  },
  {
   "cell_type": "code",
   "execution_count": null,
   "id": "f9068167-cec1-4d65-ab83-85d93d19d9a9",
   "metadata": {},
   "outputs": [],
   "source": [
    "def update_columns(row):\n",
    "    if \"10mix1\" in row['sample_id']:\n",
    "        row['condition'] = \"10mix\"\n",
    "        row['batch_id'] = \"1\"\n",
    "    elif \"10mix2\" in row['sample_id']:\n",
    "        row['condition'] = \"10mix\"\n",
    "        row['batch_id'] = \"2\"\n",
    "    elif \"11mix1\" in row['sample_id']:\n",
    "        row['condition'] = \"11mix\"\n",
    "        row['batch_id'] = \"1\"\n",
    "    elif \"11mix2\" in row['sample_id']:\n",
    "        row['condition'] = \"11mix\"\n",
    "        row['batch_id'] = \"2\"\n",
    "    elif \"GF1\" in row['sample_id']:\n",
    "        row['condition'] = \"GF\"\n",
    "        row['batch_id'] = \"1\"\n",
    "    elif \"GF2\" in row['sample_id']:\n",
    "        row['condition'] = \"GF\"\n",
    "        row['batch_id'] = \"2\"\n",
    "    return row\n",
    "\n",
    "# Apply the function to each row in the DataFrame\n",
    "adata_solo.obs = adata_solo.obs.apply(update_columns, axis=1)"
   ]
  },
  {
   "cell_type": "code",
   "execution_count": null,
   "id": "4d03e289-84ae-485a-a3b8-64a2ef959c2f",
   "metadata": {},
   "outputs": [],
   "source": [
    "adata_solo.var.mt.value_counts()"
   ]
  },
  {
   "cell_type": "code",
   "execution_count": null,
   "id": "50f60d5e-481d-496c-94aa-2f92ff92de49",
   "metadata": {},
   "outputs": [],
   "source": [
    "adata_solo.obs.is_doublet.value_counts()"
   ]
  },
  {
   "cell_type": "code",
   "execution_count": null,
   "id": "87f09af7-f8ce-49b7-9088-ca5675593325",
   "metadata": {},
   "outputs": [],
   "source": [
    "sc.pl.umap(adata_solo, color=[\"leiden\"], wspace=1)"
   ]
  },
  {
   "cell_type": "code",
   "execution_count": null,
   "id": "462223c9-2e4e-4b73-b74e-bf1f1c012d33",
   "metadata": {},
   "outputs": [],
   "source": [
    "sc.pl.umap(adata_solo, color=[\"batch_id\"], wspace=1)"
   ]
  },
  {
   "cell_type": "code",
   "execution_count": null,
   "id": "84436a4e-25c5-46af-94bd-e4da6e445e29",
   "metadata": {},
   "outputs": [],
   "source": [
    "sc.pl.umap(adata_solo, color=[\"condition\"], wspace=1)"
   ]
  },
  {
   "cell_type": "code",
   "execution_count": null,
   "id": "b6278f4d-5de5-4aa6-9e3d-1e6dba6ca06e",
   "metadata": {},
   "outputs": [],
   "source": [
    "adata_solo[adata_solo.obs[\"batch_id\"].isin([\"2\"])].obs[\"sample_id\"].value_counts()"
   ]
  },
  {
   "cell_type": "code",
   "execution_count": null,
   "id": "04bee771-0beb-41c0-899b-ee124bc0336a",
   "metadata": {},
   "outputs": [],
   "source": [
    "adata_solo.obs[\"sample_id\"].value_counts()"
   ]
  },
  {
   "cell_type": "code",
   "execution_count": null,
   "id": "2d2343c3-31b9-4732-a97b-d27075777f13",
   "metadata": {},
   "outputs": [],
   "source": [
    "sc.pl.umap(\n",
    "    adata_solo,\n",
    "    color=[\"pct_counts_mt\", \"n_genes_by_counts\"],\n",
    "    cmap=\"inferno\",\n",
    ")"
   ]
  },
  {
   "cell_type": "code",
   "execution_count": null,
   "id": "307befd9-e5ab-4b90-acd3-a8ea889aa1d5",
   "metadata": {},
   "outputs": [],
   "source": [
    "sc.pl.umap(adata_solo, color=[\"total_counts\", \"leiden\"], vmax=10000, legend_loc=\"on data\")"
   ]
  },
  {
   "cell_type": "code",
   "execution_count": null,
   "id": "404af381-7ee0-4266-80f3-313d8c9f32e7",
   "metadata": {},
   "outputs": [],
   "source": [
    "#Function to add a bolean mask ti label the barcode cell or EMTPY droplet\n",
    "def annot_empty_droplets(adata, boolean):\n",
    "    import numpy as np\n",
    "    \n",
    "    if \"is_droplet\" not in adata.obs.columns:\n",
    "        adata.obs[\"is_droplet\"] = \"cell\"\n",
    "\n",
    "    is_droplet = np.where(\n",
    "        (adata.obs[\"is_droplet\"] == \"cell\") & boolean, \"cell\", \"droplet\"\n",
    "    )\n",
    "    return is_droplet"
   ]
  },
  {
   "cell_type": "code",
   "execution_count": null,
   "id": "6445526d-85a0-4d57-a288-a7dbb3603c11",
   "metadata": {},
   "outputs": [],
   "source": [
    "# Remove empty droplets before scVI neighbors\n",
    "adata_solo.obs[\"is_droplet\"] = annot_empty_droplets(\n",
    "    adata_solo,\n",
    "    ~(\n",
    "        (adata_solo.obs[\"leiden\"].isin([\"0\",\"1\",\"2\",\"3\",\"4\",\"5\",\"6\"]))\n",
    "        & (adata_solo.obs[\"total_counts\"] < 2000)\n",
    "        & (adata_solo.obs[\"n_genes_by_counts\"] < 500)\n",
    "    ),\n",
    ")"
   ]
  },
  {
   "cell_type": "code",
   "execution_count": null,
   "id": "a688cec0-e93d-4afc-b75c-be4670171275",
   "metadata": {},
   "outputs": [],
   "source": [
    "adata_solo.obs[\"is_droplet\"].value_counts()"
   ]
  },
  {
   "cell_type": "code",
   "execution_count": null,
   "id": "12222213-8c5b-49c0-bebd-e0e6c39edeb9",
   "metadata": {},
   "outputs": [],
   "source": [
    "## Zoom into a specific leiden cluster \n",
    "sc.pl.umap(\n",
    "    adata_solo[adata_solo.obs[\"leiden\"].isin([\"0\"])],\n",
    "    color=[\"pct_counts_mt\", \"n_genes_by_counts\"],\n",
    "    cmap=\"inferno\",\n",
    ")\n",
    "\n",
    "sc.pl.umap(adata_solo[adata_solo.obs[\"leiden\"].isin([\"0\"])], color=[\"total_counts\", \"leiden\"], vmax=20000)"
   ]
  }
 ],
 "metadata": {
  "kernelspec": {
   "display_name": "Python 3 (ipykernel)",
   "language": "python",
   "name": "python3"
  },
  "language_info": {
   "codemirror_mode": {
    "name": "ipython",
    "version": 3
   },
   "file_extension": ".py",
   "mimetype": "text/x-python",
   "name": "python",
   "nbconvert_exporter": "python",
   "pygments_lexer": "ipython3",
   "version": "3.11.8"
  }
 },
 "nbformat": 4,
 "nbformat_minor": 5
}
