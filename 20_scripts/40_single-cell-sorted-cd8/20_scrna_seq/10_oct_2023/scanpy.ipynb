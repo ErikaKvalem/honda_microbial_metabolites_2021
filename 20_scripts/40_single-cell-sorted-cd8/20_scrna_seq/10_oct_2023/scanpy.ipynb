{
 "cells": [
  {
   "cell_type": "code",
   "execution_count": null,
   "id": "445f5741-302b-48c0-802c-41368b1b528b",
   "metadata": {},
   "outputs": [],
   "source": [
    "import gzip\n",
    "import os\n",
    "from functools import reduce\n",
    "from pathlib import Path\n",
    "import scipy\n",
    "\n",
    "import anndata as ad\n",
    "import numpy as np\n",
    "import pandas as pd\n",
    "import scanpy as sc\n",
    "from scipy.sparse import csr_matrix\n",
    "from tqdm.contrib.concurrent import process_map"
   ]
  },
  {
   "cell_type": "code",
   "execution_count": null,
   "id": "3fc6fea3-0d0b-45c8-bcf9-9453230eb2df",
   "metadata": {},
   "outputs": [],
   "source": [
    "pdata = sc.read_h5ad(\"pseudobulk.h5ad\")"
   ]
  },
  {
   "cell_type": "code",
   "execution_count": null,
   "id": "edd75ae9-7b79-4548-9c2f-4377b5da8748",
   "metadata": {},
   "outputs": [],
   "source": [
    "pdata"
   ]
  },
  {
   "cell_type": "code",
   "execution_count": null,
   "id": "c39aff18-dfe5-43f1-96ad-f0f26cef3d72",
   "metadata": {},
   "outputs": [],
   "source": [
    "# Import DESeq2\n",
    "from pydeseq2.dds import DeseqDataSet\n",
    "from pydeseq2.ds import DeseqStats"
   ]
  },
  {
   "cell_type": "code",
   "execution_count": null,
   "id": "4d5e94ce-12fc-491f-b7ce-321d2a449f03",
   "metadata": {},
   "outputs": [],
   "source": [
    "# Infer pathway activities with ulm\n",
    "tf_acts, tf_pvals = dc.run_ulm(mat=mat, net=collectri)\n",
    "tf_acts"
   ]
  },
  {
   "cell_type": "code",
   "execution_count": null,
   "id": "1a6c6754-43b1-45ab-86d1-6f59eae5f224",
   "metadata": {},
   "outputs": [],
   "source": [
    "pdata.var"
   ]
  },
  {
   "cell_type": "code",
   "execution_count": null,
   "id": "90b44b68-5eb5-43fd-85cb-daa296dbda9b",
   "metadata": {},
   "outputs": [],
   "source": [
    "pdata.obs['leiden'] = pdata.obs['leiden'].astype('category')"
   ]
  },
  {
   "cell_type": "code",
   "execution_count": null,
   "id": "18495cf1-3fd7-4981-bf27-08c8d956f5dc",
   "metadata": {},
   "outputs": [],
   "source": [
    "sc.tl.rank_genes_groups(pdata, 'leiden', method='wilcoxon')"
   ]
  },
  {
   "cell_type": "code",
   "execution_count": null,
   "id": "ab2df0d2-e3e5-49dc-8638-006b9be1e955",
   "metadata": {},
   "outputs": [],
   "source": [
    "pdata.obs.leiden.value_counts()"
   ]
  },
  {
   "cell_type": "code",
   "execution_count": null,
   "id": "f97fec25-ec46-4f0e-94b2-d2df2f4de17a",
   "metadata": {},
   "outputs": [],
   "source": [
    "gene_list_ranked = sc.get.rank_genes_groups_df(pdata, group=None,key=\"rank_genes_groups\", gene_symbols=\"gene_name\").dropna().head(50)\n",
    "display(gene_list_ranked[[\"gene_name\", \"pvals_adj\"]])"
   ]
  },
  {
   "cell_type": "code",
   "execution_count": null,
   "id": "cdd16907-8a08-4f00-9bfb-4e3ae3b59b60",
   "metadata": {},
   "outputs": [],
   "source": []
  },
  {
   "cell_type": "code",
   "execution_count": null,
   "id": "80a6a5aa-8bc9-4d45-bbcf-2a898b65cb85",
   "metadata": {},
   "outputs": [],
   "source": [
    "import scanpy_helpers as sh"
   ]
  },
  {
   "cell_type": "code",
   "execution_count": null,
   "id": "48cb7675-0d76-4f5a-a01a-e14825e914fc",
   "metadata": {},
   "outputs": [],
   "source": [
    "ah.plot_dotplot(adata_m)"
   ]
  },
  {
   "cell_type": "code",
   "execution_count": null,
   "id": "ceda8293-4b52-4346-972c-a5007342c661",
   "metadata": {},
   "outputs": [],
   "source": [
    "path = \"/data/projects/2021/MicrobialMetabolites/single-cell-sorted-cd8/results/solo\""
   ]
  },
  {
   "cell_type": "code",
   "execution_count": null,
   "id": "bbfe3d1e-b3f2-4730-a07b-2d4c300401ce",
   "metadata": {},
   "outputs": [],
   "source": [
    "adata_solo = sc.read_h5ad(f\"{path}/adata_nodoublet.h5ad\")"
   ]
  },
  {
   "cell_type": "code",
   "execution_count": null,
   "id": "ef63cc2f-cdc5-4452-be22-a1156b392343",
   "metadata": {},
   "outputs": [],
   "source": [
    "adata_solo_int = sc.read_h5ad(\"/data/projects/2021/MicrobialMetabolites/single-cell-sorted-cd8/results/adata_solo_integrated.h5ad\")"
   ]
  },
  {
   "cell_type": "code",
   "execution_count": null,
   "id": "c6e5525e-ebe2-42dc-a4cf-215fa025767e",
   "metadata": {},
   "outputs": [],
   "source": [
    "adata_solo_int.var"
   ]
  },
  {
   "cell_type": "code",
   "execution_count": null,
   "id": "f419f5c2-73b7-477f-b5b5-f669915779d9",
   "metadata": {},
   "outputs": [],
   "source": [
    "# marker genes \n",
    "marker_genes= pd.read_csv(\"/data/scratch/kvalem/projects/2021/microbial-metabolites/tables/40_single-cell-sorted-cd8/marker_genes_cd8t_cells.csv\")"
   ]
  },
  {
   "cell_type": "code",
   "execution_count": null,
   "id": "54ae5efc-5fe1-4e66-8489-b66b9f8d9fc9",
   "metadata": {},
   "outputs": [],
   "source": [
    "def sentence_case(text):\n",
    "    return text.capitalize()"
   ]
  },
  {
   "cell_type": "code",
   "execution_count": null,
   "id": "f666cf54-5ba1-4123-b8aa-6f0583b1ca4c",
   "metadata": {},
   "outputs": [],
   "source": [
    "marker_genes['gene'] = marker_genes['gene'].apply(sentence_case)\n"
   ]
  },
  {
   "cell_type": "code",
   "execution_count": null,
   "id": "e2699aea-c07c-4043-a20a-7feacd5a5cb8",
   "metadata": {},
   "outputs": [],
   "source": [
    "marker_genes"
   ]
  },
  {
   "cell_type": "code",
   "execution_count": null,
   "id": "b0a1928b-6fef-4273-9147-c5dc72ee7869",
   "metadata": {},
   "outputs": [],
   "source": [
    "split_columns = marker_genes['cluster'].str.split('_', expand=True)\n",
    "split_columns.columns = ['CD8', 'cluster', 'cell','genes']\n",
    "# Concatenate the split columns with the original DataFrame\n",
    "marker_genes = pd.concat([marker_genes, split_columns], axis=1)"
   ]
  },
  {
   "cell_type": "code",
   "execution_count": null,
   "id": "ca6693b2-e468-4a1a-ade0-53d967402e82",
   "metadata": {},
   "outputs": [],
   "source": [
    "marker_genes"
   ]
  },
  {
   "cell_type": "code",
   "execution_count": null,
   "id": "b091dc9b-162a-46c9-ae26-b9174165ca89",
   "metadata": {},
   "outputs": [],
   "source": [
    "marker_genes.rename(columns={\"gene\":\"genesymbol\",\"cell\":\"cell_type\"}, inplace = True)"
   ]
  },
  {
   "cell_type": "code",
   "execution_count": null,
   "id": "de031a70-9ae9-4463-ba5b-0bbecb421a55",
   "metadata": {},
   "outputs": [],
   "source": [
    "marker_genes"
   ]
  },
  {
   "cell_type": "code",
   "execution_count": null,
   "id": "4b155160-8820-424d-a155-81562a3c5893",
   "metadata": {},
   "outputs": [],
   "source": [
    "marker_genes = marker_genes.drop_duplicates(subset=['genesymbol'])"
   ]
  },
  {
   "cell_type": "code",
   "execution_count": null,
   "id": "6130492a-ab37-4295-99a9-76bfc50b0ae8",
   "metadata": {},
   "outputs": [],
   "source": [
    "marker_genes.rename(columns={\"genesymbol\":\"gene_identifier\"}, inplace = True)"
   ]
  },
  {
   "cell_type": "code",
   "execution_count": null,
   "id": "c2aa0046-7abf-494d-a0aa-32956e08cbb8",
   "metadata": {},
   "outputs": [],
   "source": [
    "marker_genes"
   ]
  },
  {
   "cell_type": "code",
   "execution_count": null,
   "id": "aec5a851-ca50-4f30-80af-06444166ad3e",
   "metadata": {},
   "outputs": [],
   "source": [
    "marker_genes_ss = marker_genes[['cell_type', 'gene_identifier']]"
   ]
  },
  {
   "cell_type": "code",
   "execution_count": null,
   "id": "37285005-794c-41c6-bff2-729375f172c3",
   "metadata": {},
   "outputs": [],
   "source": [
    "marker_genes_ss"
   ]
  },
  {
   "cell_type": "code",
   "execution_count": null,
   "id": "6523022d-16c7-4b9f-a492-eaaec782fed6",
   "metadata": {},
   "outputs": [],
   "source": [
    "ah = sh.annotation.AnnotationHelper(markers=marker_genes_ss)"
   ]
  },
  {
   "cell_type": "code",
   "execution_count": null,
   "id": "f228fd2d-d3e0-4fe0-bc45-5796b40022dd",
   "metadata": {},
   "outputs": [],
   "source": [
    "adata_solo.var_names_make_unique()"
   ]
  },
  {
   "cell_type": "code",
   "execution_count": null,
   "id": "1315532e-35c0-4bd5-90a6-3fbe1237db06",
   "metadata": {},
   "outputs": [],
   "source": []
  },
  {
   "cell_type": "code",
   "execution_count": null,
   "id": "a94181a8-9a82-4c18-9785-c00eedcd74e9",
   "metadata": {},
   "outputs": [],
   "source": []
  },
  {
   "cell_type": "code",
   "execution_count": null,
   "id": "a2b7c5ee-d67a-4e0d-acbc-8faa56191c56",
   "metadata": {},
   "outputs": [],
   "source": []
  },
  {
   "cell_type": "code",
   "execution_count": null,
   "id": "bf297045-d163-498c-be59-48f59f544450",
   "metadata": {},
   "outputs": [],
   "source": []
  },
  {
   "cell_type": "code",
   "execution_count": null,
   "id": "508ab5c2-b415-4213-bdcf-f5b2d5bc6ba7",
   "metadata": {},
   "outputs": [],
   "source": []
  },
  {
   "cell_type": "code",
   "execution_count": null,
   "id": "725a5c29-0d25-46a7-9d4b-73419c3ec4df",
   "metadata": {},
   "outputs": [],
   "source": []
  },
  {
   "cell_type": "code",
   "execution_count": null,
   "id": "dd978ecc-9a36-4a19-a306-2c85b2633f14",
   "metadata": {},
   "outputs": [],
   "source": []
  },
  {
   "cell_type": "code",
   "execution_count": null,
   "id": "b7a5be74-084b-42ab-878b-63cc9f06f318",
   "metadata": {},
   "outputs": [],
   "source": [
    "acts = sc.read_h5ad(\"acts.h5ad\")"
   ]
  },
  {
   "cell_type": "code",
   "execution_count": null,
   "id": "d94eaa0b-c60e-4534-852c-65ac5383117c",
   "metadata": {},
   "outputs": [],
   "source": [
    "sc.pp.scale(acts)\n",
    "acts"
   ]
  },
  {
   "cell_type": "code",
   "execution_count": null,
   "id": "ed447738-550e-4224-9fda-611f86f68e7c",
   "metadata": {},
   "outputs": [],
   "source": [
    "chemokine_receptor_genes = [\"CCR4\",\"CCR5\",\"CCR7\",\"CXCR3\",\"CXCR4\",\"CXCR5\",\"CXCR6\",\"CCL3\",\"CCL4\",\"CCL5\",\"CXCL8\",\"XCL1\",\"XCL2\",\"CXCL2\",\"CXCL9\",\"CXCL1\",\"CXCL10\"]\n",
    "chemokine_receptor_genes_sentence_case = [item.capitalize() for item in chemokine_receptor_genes]\n"
   ]
  },
  {
   "cell_type": "code",
   "execution_count": null,
   "id": "b05cad4d-e024-4310-a3a2-ba50639c8e39",
   "metadata": {},
   "outputs": [],
   "source": [
    "genes_in_adata = adata_solo[:, adata_solo.var.gene_name.isin(chemokine_receptor_genes_sentence_case)].var.gene_name.to_list()"
   ]
  },
  {
   "cell_type": "code",
   "execution_count": null,
   "id": "8f24200d-fdc5-4669-bbea-4a43f8c06463",
   "metadata": {},
   "outputs": [],
   "source": [
    "genes_in_adata"
   ]
  },
  {
   "cell_type": "code",
   "execution_count": null,
   "id": "0e0539cc-996c-45e6-b39e-41cc4a2779ae",
   "metadata": {},
   "outputs": [],
   "source": [
    "genes_in_adata"
   ]
  },
  {
   "cell_type": "code",
   "execution_count": null,
   "id": "ebf59660-cfdf-4b3b-99a2-84340482f94e",
   "metadata": {},
   "outputs": [],
   "source": [
    "adata_solo"
   ]
  },
  {
   "cell_type": "code",
   "execution_count": null,
   "id": "ac2b67f0-c82e-41c7-b003-67472c4cf010",
   "metadata": {},
   "outputs": [],
   "source": [
    "def update_columns(row):\n",
    "   \n",
    "    if \"ICI\" not in row['sample_id']:\n",
    "        row['origin'] = \"colon\"\n",
    "    else:\n",
    "         row['origin'] = \"til\"\n",
    "        \n",
    "    return row\n",
    "\n",
    "# Apply the function to each row in the DataFrame\n",
    "adata_solo.obs = adata_solo.obs.apply(update_columns, axis=1)"
   ]
  },
  {
   "cell_type": "code",
   "execution_count": null,
   "id": "6c7b9c66-58ff-4728-ab89-afc4af41fd3e",
   "metadata": {},
   "outputs": [],
   "source": [
    "def update_columns(row):\n",
    "   \n",
    "    if \"ICI1\"  in row['sample_id']:\n",
    "        row['batch_id'] = \"ICI1\"\n",
    "    elif \"ICI2\" in row['sample_id']:\n",
    "         row['batch_id'] = \"ICI2\"\n",
    "    elif row['sample_id'] == \"10mix1\":\n",
    "        row['batch_id'] = \"1\"\n",
    "    elif row['sample_id'] == \"10mix2\":\n",
    "         row['batch_id'] = \"2\"\n",
    "        \n",
    "        \n",
    "    return row\n",
    "\n",
    "# Apply the function to each row in the DataFrame\n",
    "adata_solo.obs = adata_solo.obs.apply(update_columns, axis=1)"
   ]
  },
  {
   "cell_type": "code",
   "execution_count": null,
   "id": "48db4213-971f-4f80-954e-684f27a076bf",
   "metadata": {
    "tags": []
   },
   "outputs": [],
   "source": [
    "def update_columns(row):\n",
    "   \n",
    "    if row['sample_id'] == \"10mix1\":\n",
    "        row['condition'] = \"10mix\"\n",
    "    elif row['sample_id'] == \"10mix2\":\n",
    "         row['condition'] = \"10mix\"\n",
    "    elif row['sample_id'] == \"11mix1\":\n",
    "         row['condition'] = \"11mix\"\n",
    "    elif row['sample_id'] == \"11mix2\":\n",
    "         row['condition'] = \"11mix\"\n",
    "    elif row['sample_id'] == \"GF1\":\n",
    "         row['condition'] = \"GF\"\n",
    "    elif row['sample_id'] == \"GF2\":\n",
    "         row['condition'] = \"GF\"\n",
    "    elif row['sample_id'] == \"GF-ICI2-plus\":\n",
    "         row['condition'] = \"GF-plus\"\n",
    "    elif row['sample_id'] == \"GF-ICI1-plus\":\n",
    "         row['condition'] = \"GF-plus\"\n",
    "    elif row['sample_id'] == \"GF-ICI2\":\n",
    "         row['condition'] = \"GF\"\n",
    "    elif row['sample_id'] == \"GF-ICI1\":\n",
    "         row['condition'] = \"GF\"\n",
    "    elif row['sample_id'] == \"10mix-ICI1\":\n",
    "         row['condition'] = \"10mix\"\n",
    "    elif row['sample_id'] == \"10mix-ICI2\":\n",
    "         row['condition'] = \"10mix\"\n",
    "    elif row['sample_id'] == \"11mix-ICI1\":\n",
    "         row['condition'] = \"11mix\"\n",
    "    elif row['sample_id'] == \"11mix-ICI2\":\n",
    "         row['condition'] = \"11mix\"\n",
    "    \n",
    "    \n",
    "        \n",
    "        \n",
    "    return row\n",
    "\n",
    "# Apply the function to each row in the DataFrame\n",
    "adata_solo.obs = adata_solo.obs.apply(update_columns, axis=1)"
   ]
  },
  {
   "cell_type": "code",
   "execution_count": null,
   "id": "978b24ec-091a-483a-85ea-ac781a9e190b",
   "metadata": {},
   "outputs": [],
   "source": [
    "adata_11mix = adata_solo[adata_solo.obs[\"sample_id\"].isin([\"11mix1\",\"11mix2\"])]"
   ]
  },
  {
   "cell_type": "code",
   "execution_count": null,
   "id": "84e4a46b-e4b1-434e-807c-b3871ae9b516",
   "metadata": {},
   "outputs": [],
   "source": [
    "adata_10mix = adata_solo[adata_solo.obs[\"sample_id\"].isin([\"10mix1\",\"10mix2\"])]"
   ]
  },
  {
   "cell_type": "code",
   "execution_count": null,
   "id": "38adbfbd-c626-4441-95fd-d8dff4d5d633",
   "metadata": {},
   "outputs": [],
   "source": [
    "adata_GF = adata_solo[adata_solo.obs[\"sample_id\"].isin([\"GF1\",\"GF2\"])]"
   ]
  },
  {
   "cell_type": "code",
   "execution_count": null,
   "id": "68fa8ce6-5e04-4190-901c-711548f535bc",
   "metadata": {},
   "outputs": [],
   "source": [
    "adata_11mixici = adata_solo[adata_solo.obs[\"sample_id\"].isin([\"11mix-ICI1\",\"11mixICI2\"])]"
   ]
  },
  {
   "cell_type": "code",
   "execution_count": null,
   "id": "b80c9af0-def6-4adb-9bf1-debcd394ab27",
   "metadata": {},
   "outputs": [],
   "source": [
    "adata_10mixici = adata_solo[adata_solo.obs[\"sample_id\"].isin([\"10mix-ICI1\",\"10mix-ICI2\"])]"
   ]
  },
  {
   "cell_type": "code",
   "execution_count": null,
   "id": "5c36372e-f5da-4a24-9397-39dcf54690f8",
   "metadata": {},
   "outputs": [],
   "source": [
    "adata_GFici = adata_solo[adata_solo.obs[\"sample_id\"].isin([\"GF-ICI1\",\"GF-ICI2\"])]"
   ]
  },
  {
   "cell_type": "code",
   "execution_count": null,
   "id": "ff011c62-cd3d-41a6-b542-53307a6bdbc2",
   "metadata": {},
   "outputs": [],
   "source": [
    "adata_GFiciplus = adata_solo[adata_solo.obs[\"sample_id\"].isin([\"GF-ICI1-plus\",\"GF-ICI2-plus\"])]"
   ]
  },
  {
   "cell_type": "code",
   "execution_count": null,
   "id": "973902bb-38fe-4c5f-8a04-52e3c28c718f",
   "metadata": {},
   "outputs": [],
   "source": [
    "adata_til = adata_solo[adata_solo.obs[\"origin\"].isin([\"til\"])]"
   ]
  },
  {
   "cell_type": "code",
   "execution_count": null,
   "id": "31c3f8f3-7e3b-4fe7-af46-5b1ece44540d",
   "metadata": {},
   "outputs": [],
   "source": [
    "adata_colon = adata_solo[adata_solo.obs[\"origin\"].isin([\"colon\"])]"
   ]
  },
  {
   "cell_type": "code",
   "execution_count": null,
   "id": "1b5c63ff-9e57-406a-ae26-92f75c811e11",
   "metadata": {},
   "outputs": [],
   "source": [
    "gene_name = \"Cxcr3\"\n",
    "# Check if the gene is present in adata.var\n",
    "if gene_name in adata_11mix.var_names:\n",
    "    # Get the index of the gene in adata.var\n",
    "    gene_index = adata_11mix.var_names.get_loc(gene_name)\n",
    "\n",
    "    # Filter rows in adata.X based on the presence of the gene\n",
    "    gene_expression = adata_11mix.X[:, gene_index]\n",
    "\n",
    "    # Count the number of non-zero entries (presence of the gene)\n",
    "    num_rows_with_gene = (gene_expression > 0).sum()\n",
    "\n",
    "    print(f\"Number of rows with {gene_name}: {num_rows_with_gene}\")\n",
    "else:\n",
    "    print(f\"{gene_name} not found in adata.var\")"
   ]
  },
  {
   "cell_type": "code",
   "execution_count": null,
   "id": "6ace47ad-03bb-4d13-acde-91a466c6cb3d",
   "metadata": {},
   "outputs": [],
   "source": [
    "gene_name = \"Cxcr3\"\n",
    "# Check if the gene is present in adata.var\n",
    "if gene_name in adata_10mix.var_names:\n",
    "    # Get the index of the gene in adata.var\n",
    "    gene_index = adata_10mix.var_names.get_loc(gene_name)\n",
    "\n",
    "    # Filter rows in adata.X based on the presence of the gene\n",
    "    gene_expression = adata_10mix.X[:, gene_index]\n",
    "\n",
    "    # Count the number of non-zero entries (presence of the gene)\n",
    "    num_rows_with_gene = (gene_expression > 0).sum()\n",
    "\n",
    "    print(f\"Number of rows with {gene_name}: {num_rows_with_gene}\")\n",
    "else:\n",
    "    print(f\"{gene_name} not found in adata.var\")"
   ]
  },
  {
   "cell_type": "code",
   "execution_count": null,
   "id": "6ab3de97-2e41-4365-bec2-7cf9712ffc41",
   "metadata": {},
   "outputs": [],
   "source": [
    "gene_name = \"Cxcr3\"\n",
    "# Check if the gene is present in adata.var\n",
    "if gene_name in adata_GF.var_names:\n",
    "    # Get the index of the gene in adata.var\n",
    "    gene_index = adata_GF.var_names.get_loc(gene_name)\n",
    "\n",
    "    # Filter rows in adata.X based on the presence of the gene\n",
    "    gene_expression = adata_GF.X[:, gene_index]\n",
    "\n",
    "    # Count the number of non-zero entries (presence of the gene)\n",
    "    num_rows_with_gene = (gene_expression > 0).sum()\n",
    "\n",
    "    print(f\"Number of rows with {gene_name}: {num_rows_with_gene}\")\n",
    "else:\n",
    "    print(f\"{gene_name} not found in adata.var\")"
   ]
  },
  {
   "cell_type": "code",
   "execution_count": null,
   "id": "adf46a3f-43d0-4c25-a408-c4c8eb8fbf34",
   "metadata": {},
   "outputs": [],
   "source": [
    "gene_name = \"Cxcl10\"\n",
    "# Check if the gene is present in adata.var\n",
    "if gene_name in adata_colon.var_names:\n",
    "    # Get the index of the gene in adata.var\n",
    "    gene_index = adata_colon.var_names.get_loc(gene_name)\n",
    "\n",
    "    # Filter rows in adata.X based on the presence of the gene\n",
    "    gene_expression = adata_colon.X[:, gene_index]\n",
    "\n",
    "    # Count the number of non-zero entries (presence of the gene)\n",
    "    num_rows_with_gene = (gene_expression > 0).sum()\n",
    "\n",
    "    print(f\"Number of rows with {gene_name}: {num_rows_with_gene}\")\n",
    "else:\n",
    "    print(f\"{gene_name} not found in adata.var\")"
   ]
  },
  {
   "cell_type": "code",
   "execution_count": null,
   "id": "eea45723-9ffe-458a-be63-57b39d55937b",
   "metadata": {},
   "outputs": [],
   "source": [
    "sc.pl.umap(adata_solo[adata_solo.obs[\"sample_id\"].isin([\"10mix1\",\"10mix2\",\"11mix1\",\"11mix2\",\"GF1\",\"GF2\"])],color=\"cell_type\",legend_loc=\"on data\", frameon=False)\n"
   ]
  },
  {
   "cell_type": "code",
   "execution_count": null,
   "id": "e50f1bb0-59e9-4380-832d-a216bb7779f6",
   "metadata": {},
   "outputs": [],
   "source": [
    "if \"Cxcr2\" in adata_solo.var:\n",
    "    print(\"T\")"
   ]
  },
  {
   "cell_type": "code",
   "execution_count": null,
   "id": "034fb153-4e9b-4980-812a-cbf65007ff36",
   "metadata": {},
   "outputs": [],
   "source": [
    "adata_solo.var.index = adata_solo.var.gene_name"
   ]
  },
  {
   "cell_type": "code",
   "execution_count": null,
   "id": "37fcd415-cf48-48b3-a2c6-ebbb3bb5020e",
   "metadata": {},
   "outputs": [],
   "source": [
    "sc.pl.umap(adata_solo[adata_solo.obs[\"sample_id\"].isin([\"11mix1\",\"11mix2\"])], color=\"Cxcr2\", frameon=False)"
   ]
  },
  {
   "cell_type": "code",
   "execution_count": null,
   "id": "b28cf8ac-f2e2-499e-b946-27087008cc92",
   "metadata": {},
   "outputs": [],
   "source": [
    "sc.pl.umap(adata_solo[adata_solo.obs[\"sample_id\"].isin([\"GF1\",\"GF2\"])], color=\"Cxcr3\", frameon=False)\n"
   ]
  },
  {
   "cell_type": "code",
   "execution_count": null,
   "id": "23fad9ff-d309-4bc8-b73d-9d72b4f630b1",
   "metadata": {},
   "outputs": [],
   "source": [
    "sc.pl.umap(adata_solo[adata_solo.obs[\"sample_id\"].isin([\"10mix1\",\"10mix2\"])], color=\"Cxcr3\", frameon=False)\n"
   ]
  },
  {
   "cell_type": "code",
   "execution_count": null,
   "id": "1be7b87a-1fe7-4253-8810-9a76afe1439a",
   "metadata": {},
   "outputs": [],
   "source": [
    "sc.pl.umap(adata_solo[adata_solo.obs[\"sample_id\"].isin([\"11mix-ICI1\",\"11mix-ICI2\"])], color=\"Cxcr3\", frameon=False)\n"
   ]
  },
  {
   "cell_type": "code",
   "execution_count": null,
   "id": "eeb9d559-ff2a-4757-89bc-aaed23eca0a2",
   "metadata": {},
   "outputs": [],
   "source": [
    "sc.pl.umap(adata_solo[adata_solo.obs[\"sample_id\"].isin([\"GF-ICI1\",\"GF-ICI2\"])], color=\"Cxcr3\", frameon=False)\n"
   ]
  },
  {
   "cell_type": "code",
   "execution_count": null,
   "id": "fd8d9dbe-ae67-4e6a-8963-a948f714a5e8",
   "metadata": {},
   "outputs": [],
   "source": [
    "sc.pl.umap(adata_solo[adata_solo.obs[\"sample_id\"].isin([\"GF-ICI1-plus\",\"GF-ICI2-plus\"])], color=\"Cxcr3\", frameon=False)\n"
   ]
  },
  {
   "cell_type": "code",
   "execution_count": null,
   "id": "38c0bf37-cfa8-402f-989f-35c6fa4e72b9",
   "metadata": {},
   "outputs": [],
   "source": [
    "sc.pl.umap(adata_solo[adata_solo.obs[\"sample_id\"].isin([\"10mix-ICI1\",\"10mix-ICI2\"])], color=\"Cxcr3\", frameon=False)\n"
   ]
  },
  {
   "cell_type": "code",
   "execution_count": null,
   "id": "a522fa67-33cd-4ed6-b448-17ca42565751",
   "metadata": {},
   "outputs": [],
   "source": [
    "sc.pl.umap(adata_solo[adata_solo.obs[\"sample_id\"].isin([\"10mix-ICI1\",\"10mix-ICI2\",\"GF-ICI1-plus\",\"GF-ICI2-plus\",\"GF-ICI1\",\"GF-ICI2\",\"11mix-ICI1\",\"11mix-ICI2\"])], color=\"Cxcr3\", frameon=False)\n"
   ]
  },
  {
   "cell_type": "code",
   "execution_count": null,
   "id": "51b52ffe-9636-480b-801d-c69a66dda9bb",
   "metadata": {},
   "outputs": [],
   "source": [
    "sc.pl.umap(adata_solo[adata_solo.obs[\"sample_id\"].isin([\"10mix1\",\"10mix2\",\"GF1\",\"GF2\",\"11mix1\",\"11mix2\"])], color=\"Cxcr3\", frameon=False)\n"
   ]
  },
  {
   "cell_type": "code",
   "execution_count": null,
   "id": "9a7da575-2e5d-4a12-983d-4d108f41df30",
   "metadata": {},
   "outputs": [],
   "source": []
  },
  {
   "cell_type": "code",
   "execution_count": null,
   "id": "712b2a33-e6be-4d7c-bf1f-3fc72747a2f9",
   "metadata": {},
   "outputs": [],
   "source": [
    "if \"Cxcl10\" in adata_solo_int.var.index:\n",
    "    print(\"T\")"
   ]
  },
  {
   "cell_type": "code",
   "execution_count": null,
   "id": "461c9c3b-7b12-46bf-9753-e7569c80a305",
   "metadata": {},
   "outputs": [],
   "source": [
    "adata_solo.obs.columns"
   ]
  },
  {
   "cell_type": "code",
   "execution_count": null,
   "id": "f0fcf648-8874-4511-9cae-5d38b7a87823",
   "metadata": {},
   "outputs": [],
   "source": [
    "sc.pl.umap(adata_solo[adata_solo.obs[\"cell_type\"]], color=\"Cxcl10\", frameon=False)"
   ]
  },
  {
   "cell_type": "code",
   "execution_count": null,
   "id": "5b915806-617f-4d27-823f-0ccab95f76e4",
   "metadata": {},
   "outputs": [],
   "source": [
    "\"CXCL2\",\"CXCL9\",\"CXCL1\",\"CXCL10\""
   ]
  },
  {
   "cell_type": "code",
   "execution_count": null,
   "id": "f025db45-fd30-4987-8b33-65670b545269",
   "metadata": {},
   "outputs": [],
   "source": [
    "genes_in_adata"
   ]
  },
  {
   "cell_type": "code",
   "execution_count": null,
   "id": "699f5102-17fc-400d-9f8e-cb1d912815d9",
   "metadata": {},
   "outputs": [],
   "source": [
    "adata_solo.var.index = adata_solo.var.ensembl_id"
   ]
  },
  {
   "cell_type": "code",
   "execution_count": null,
   "id": "9bffeea8-9e0b-453a-9369-f4b716f17ff7",
   "metadata": {},
   "outputs": [],
   "source": [
    "adata_11mix.var"
   ]
  },
  {
   "cell_type": "code",
   "execution_count": null,
   "id": "2a5f5d8f-1ab8-4bdb-a490-87897c472896",
   "metadata": {},
   "outputs": [],
   "source": [
    "adata_solo.var"
   ]
  },
  {
   "cell_type": "code",
   "execution_count": null,
   "id": "6853966e-5d47-4f51-9b6d-e75ba1ccb192",
   "metadata": {},
   "outputs": [],
   "source": [
    "adata_solo"
   ]
  },
  {
   "cell_type": "code",
   "execution_count": null,
   "id": "339fcfe5-5481-49c4-99a7-996c5fe7ac4f",
   "metadata": {},
   "outputs": [],
   "source": [
    "# Subsetting AnnData object\n",
    "desired_cell_type = \"10mix1\"\n",
    "subset_mask = adata_solo.obs[\"sample_id\"] == desired_cell_type\n",
    "subset_adata = adata_solo[subset_mask, :]"
   ]
  },
  {
   "cell_type": "code",
   "execution_count": null,
   "id": "a4d52521-3a6a-4a11-bcf0-0985bff472f9",
   "metadata": {},
   "outputs": [],
   "source": [
    "subset_adata"
   ]
  },
  {
   "cell_type": "code",
   "execution_count": null,
   "id": "80167a63-68ae-4c37-b4c6-eb8cb4b5fb28",
   "metadata": {},
   "outputs": [],
   "source": [
    "list_var_names = adata_solo.raw.var_names.drop_duplicates()"
   ]
  },
  {
   "cell_type": "code",
   "execution_count": null,
   "id": "7afc657a-1836-4dd4-8525-4fcd123d8379",
   "metadata": {},
   "outputs": [],
   "source": [
    "adata_solo.raw.index= list_var_names"
   ]
  },
  {
   "cell_type": "code",
   "execution_count": null,
   "id": "417bb8ae-5b9e-4ce9-bfec-ed6716ce825d",
   "metadata": {},
   "outputs": [],
   "source": [
    "adata_colon.raw.index= adata_colon.raw.var_names.drop_duplicates()"
   ]
  },
  {
   "cell_type": "code",
   "execution_count": null,
   "id": "652b0e39-3db3-4053-b3aa-d69c79a2c414",
   "metadata": {},
   "outputs": [],
   "source": [
    "adata_solo.raw = None\n",
    "\n",
    "#del adata.raw"
   ]
  },
  {
   "cell_type": "code",
   "execution_count": null,
   "id": "63654096-208c-4e36-ac8c-ebf3590c62f7",
   "metadata": {},
   "outputs": [],
   "source": [
    "adata_solo.var.index = adata_solo.var.ensembl_id"
   ]
  },
  {
   "cell_type": "code",
   "execution_count": null,
   "id": "6cf07b94-f495-42c7-a4c5-0d1562105dec",
   "metadata": {},
   "outputs": [],
   "source": [
    "adata_solo"
   ]
  },
  {
   "cell_type": "code",
   "execution_count": null,
   "id": "f6ffbf1a-005c-43f9-ba51-7fe5db930098",
   "metadata": {},
   "outputs": [],
   "source": [
    "annotation_dict = {'0': 'Tex',\n",
    " '1': 'Tn',\n",
    " '2': 'Tisg',\n",
    " '3': 'Tsen',\n",
    " '4': 'Tstr',\n",
    " '5': 'Trm',\n",
    " '6': 'Tstr'}"
   ]
  },
  {
   "cell_type": "code",
   "execution_count": null,
   "id": "a9d90b79-5f4e-4b25-a5c6-736779b44bda",
   "metadata": {},
   "outputs": [],
   "source": [
    "# Add cell type column based on annotation\n",
    "adata_solo.obs['cell_type'] = [annotation_dict[clust] for clust in adata_solo.obs['leiden']]"
   ]
  },
  {
   "cell_type": "code",
   "execution_count": null,
   "id": "e75329f6-ead0-472d-9d35-cd7504044967",
   "metadata": {},
   "outputs": [],
   "source": [
    "adata_solo.obs.cell_type"
   ]
  },
  {
   "cell_type": "code",
   "execution_count": null,
   "id": "f40726c4-0212-4244-b22c-18ad1e584e71",
   "metadata": {},
   "outputs": [],
   "source": [
    "genes_in_adata"
   ]
  },
  {
   "cell_type": "code",
   "execution_count": null,
   "id": "ae4550f8-16fd-4266-b070-20afee9211ff",
   "metadata": {},
   "outputs": [],
   "source": [
    "import scanpy as sc\n",
    "\n",
    "#genes_in_adata\n",
    "genes_in_data_list  =  [\"ENSMUSG00000045382\",\"ENSMUSG00000026573\",\"ENSMUSG00000034855\",\"ENSMUSG00000047880\",\"ENSMUSG00000047898\",\"ENSMUSG00000048521\",\"ENSMUSG00000079227\",\"ENSMUSG00000035042\",\"ENSMUSG00000000982\",\"ENSMUSG00000018930\",\"ENSMUSG00000037944\",\"ENSMUSG00000050232\"]\n",
    "sc.pl.heatmap(adata_solo, genes_in_adata,gene_symbols=\"gene_name\", groupby='cell_type', swap_axes=True)"
   ]
  },
  {
   "cell_type": "code",
   "execution_count": null,
   "id": "8e002f01-65f7-4515-b856-193b58dd07a3",
   "metadata": {},
   "outputs": [],
   "source": [
    "import scanpy as sc\n",
    "\n",
    "#genes_in_adata\n",
    "genes_in_data_list  =  [\"ENSMUSG00000045382\",\"ENSMUSG00000026573\",\"ENSMUSG00000034855\",\"ENSMUSG00000047880\",\"ENSMUSG00000047898\",\"ENSMUSG00000048521\",\"ENSMUSG00000079227\",\"ENSMUSG00000035042\",\"ENSMUSG00000000982\",\"ENSMUSG00000018930\",\"ENSMUSG00000037944\",\"ENSMUSG00000050232\"]\n",
    "sc.pl.heatmap(adata_solo, genes_in_adata,gene_symbols=\"gene_name\", groupby='origin', swap_axes=True)"
   ]
  },
  {
   "cell_type": "code",
   "execution_count": null,
   "id": "0d145b66-a9a0-47e9-9a66-12d1aef24d81",
   "metadata": {},
   "outputs": [],
   "source": [
    "import scanpy as sc\n",
    "\n",
    "#genes_in_adata\n",
    "genes_in_data_list  =  [\"ENSMUSG00000045382\",\"ENSMUSG00000026573\",\"ENSMUSG00000034855\",\"ENSMUSG00000047880\",\"ENSMUSG00000047898\",\"ENSMUSG00000048521\",\"ENSMUSG00000079227\",\"ENSMUSG00000035042\",\"ENSMUSG00000000982\",\"ENSMUSG00000018930\",\"ENSMUSG00000037944\",\"ENSMUSG00000050232\"]\n",
    "sc.pl.heatmap(adata_solo, genes_in_adata,gene_symbols=\"gene_name\", groupby='condition', swap_axes=True)"
   ]
  },
  {
   "cell_type": "code",
   "execution_count": null,
   "id": "7f4a7246-574c-496a-9610-4ddcae935967",
   "metadata": {},
   "outputs": [],
   "source": [
    "import scanpy as sc\n",
    "\n",
    "#genes_in_adata\n",
    "genes_in_data_list  =  [\"ENSMUSG00000045382\",\"ENSMUSG00000026573\",\"ENSMUSG00000034855\",\"ENSMUSG00000047880\",\"ENSMUSG00000047898\",\"ENSMUSG00000048521\",\"ENSMUSG00000079227\",\"ENSMUSG00000035042\",\"ENSMUSG00000000982\",\"ENSMUSG00000018930\",\"ENSMUSG00000037944\",\"ENSMUSG00000050232\"]\n",
    "sc.pl.heatmap(adata_solo, genes_in_adata,gene_symbols=\"gene_name\", groupby='sample_id', swap_axes=True)"
   ]
  },
  {
   "cell_type": "code",
   "execution_count": null,
   "id": "eeae89a6-201f-477c-8bb3-eae2e449c14a",
   "metadata": {},
   "outputs": [],
   "source": [
    "\n",
    "sc.pl.dotplot(adata_solo,  genes_in_adata,gene_symbols=\"gene_name\", groupby='cell_type', dendrogram=False, swap_axes = True)"
   ]
  },
  {
   "cell_type": "code",
   "execution_count": null,
   "id": "edd0b66c-a931-44ce-8bff-f2029f07f152",
   "metadata": {},
   "outputs": [],
   "source": [
    "\n",
    "sc.pl.dotplot(adata_solo,  genes_in_adata,gene_symbols=\"gene_name\", groupby='sample_id',  dendrogram=False, swap_axes = True)"
   ]
  },
  {
   "cell_type": "code",
   "execution_count": null,
   "id": "f84b10a3-d77e-404e-a2c5-ff4d1610cb95",
   "metadata": {},
   "outputs": [],
   "source": [
    "\n",
    "sc.pl.dotplot(adata_solo,  genes_in_adata,gene_symbols=\"gene_name\", groupby='origin',  dendrogram=False, swap_axes = True)"
   ]
  },
  {
   "cell_type": "code",
   "execution_count": null,
   "id": "eb76ac1f-7d18-4718-9bcc-f47c7e6f4492",
   "metadata": {},
   "outputs": [],
   "source": [
    "\n",
    "sc.pl.dotplot(adata_solo,  genes_in_adata,gene_symbols=\"gene_name\", groupby='condition',  dendrogram=False, swap_axes = True)"
   ]
  },
  {
   "cell_type": "code",
   "execution_count": null,
   "id": "0f76bd85-95f3-4c3f-bbdd-ca1fbfcd8659",
   "metadata": {},
   "outputs": [],
   "source": [
    "sc.pl.matrixplot(adata_solo,  genes_in_adata,gene_symbols=\"gene_name\", groupby='cell_type', dendrogram=False, swap_axes = True)"
   ]
  },
  {
   "cell_type": "code",
   "execution_count": null,
   "id": "b932cdca-54b4-4dc2-b60f-ae55e21b19ca",
   "metadata": {},
   "outputs": [],
   "source": [
    "sc.pl.matrixplot(adata_solo,  genes_in_adata,gene_symbols=\"gene_name\", groupby='sample_id',dendrogram=False, swap_axes = True)"
   ]
  },
  {
   "cell_type": "code",
   "execution_count": null,
   "id": "4a76e57a-81df-47b0-9551-0bd059687c21",
   "metadata": {},
   "outputs": [],
   "source": [
    "sc.pl.matrixplot(adata_solo,  genes_in_adata,gene_symbols=\"gene_name\", groupby='origin', dendrogram=False, swap_axes = True)"
   ]
  },
  {
   "cell_type": "code",
   "execution_count": null,
   "id": "1ec1f5ca-d137-4a8a-8e12-960812e70272",
   "metadata": {},
   "outputs": [],
   "source": [
    "sc.pl.matrixplot(adata_solo,  genes_in_adata,gene_symbols=\"gene_name\", groupby='condition', dendrogram=False, swap_axes = True)"
   ]
  },
  {
   "cell_type": "code",
   "execution_count": null,
   "id": "316818f6-be66-4aa4-bc3c-7f4df019b67c",
   "metadata": {},
   "outputs": [],
   "source": [
    "gene_name =\n",
    "gene_index = adata_solo.var.index.get_loc(gene_name)\n",
    "\n",
    "# Get the corresponding value in the 'enseml_id' column\n",
    "enseml_id = adata_solo.var.loc[gene_name, 'ensembl_id']"
   ]
  },
  {
   "cell_type": "code",
   "execution_count": null,
   "id": "1c99d213-62e3-4b9a-8338-ff26093a6aaf",
   "metadata": {},
   "outputs": [],
   "source": [
    "adata_solo.var.to_csv(\"adata_solo_var.csv\")"
   ]
  },
  {
   "cell_type": "code",
   "execution_count": null,
   "id": "6de866e9-3321-493b-9baf-07011b62036b",
   "metadata": {},
   "outputs": [],
   "source": [
    "filtered_denoised = sc.read_h5ad(\"/data/projects/2021/MicrobialMetabolites/single-cell-sorted-cd8/results/filtered/colon_and_tumor_adata_final_filtered.h5ad\")"
   ]
  },
  {
   "cell_type": "code",
   "execution_count": null,
   "id": "2172ba87-4e52-47df-8cb2-d82c42c389aa",
   "metadata": {},
   "outputs": [],
   "source": [
    "filtered_denoised.var"
   ]
  },
  {
   "cell_type": "code",
   "execution_count": null,
   "id": "5709b4fc-bf2a-4482-b25b-b41c45144e24",
   "metadata": {},
   "outputs": [],
   "source": [
    "if \"Cxcl2\" in filtered_denoised.var.gene_name:\n",
    "    print(\"T\")"
   ]
  },
  {
   "cell_type": "code",
   "execution_count": null,
   "id": "6560373c-b2c4-4a95-91e6-bc9b23e83be4",
   "metadata": {},
   "outputs": [],
   "source": [
    "####TAKESHI\n"
   ]
  },
  {
   "cell_type": "code",
   "execution_count": null,
   "id": "86e60b95-9840-454d-8e87-b8e2104c285e",
   "metadata": {},
   "outputs": [],
   "source": [
    "sur_prot = [\"Cd69\",\"Cd44\",\"Cd8a\",\"Cd8b1\"]"
   ]
  },
  {
   "cell_type": "code",
   "execution_count": null,
   "id": "061b71a4-631d-4dd0-ac03-fa47be55e828",
   "metadata": {},
   "outputs": [],
   "source": [
    "\n",
    "sc.pl.dotplot(adata_solo,  sur_prot,gene_symbols=\"gene_name\", groupby='cell_type',  dendrogram=False, swap_axes = True)"
   ]
  },
  {
   "cell_type": "code",
   "execution_count": null,
   "id": "f145157e-c44a-40eb-8585-f1d3a0101136",
   "metadata": {},
   "outputs": [],
   "source": [
    "\n",
    "sc.pl.dotplot(adata_solo,  sur_prot,gene_symbols=\"gene_name\", groupby='sample_id', dendrogram=False, swap_axes = True)"
   ]
  },
  {
   "cell_type": "code",
   "execution_count": null,
   "id": "e7859546-ba30-4776-b4ce-91bed0f62d47",
   "metadata": {},
   "outputs": [],
   "source": [
    "\n",
    "sc.pl.dotplot(adata_solo,  sur_prot,gene_symbols=\"gene_name\", groupby='condition', dendrogram=False, swap_axes = True)"
   ]
  },
  {
   "cell_type": "code",
   "execution_count": null,
   "id": "0f5237e9-5754-4633-8c7d-1f38d0d520de",
   "metadata": {},
   "outputs": [],
   "source": [
    "\n",
    "sc.pl.dotplot(adata_solo,  sur_prot,gene_symbols=\"gene_name\", groupby='origin', dendrogram=False, swap_axes = True)"
   ]
  },
  {
   "cell_type": "code",
   "execution_count": null,
   "id": "a1c052fa-2c8c-4b5c-88bc-a9e08ade2510",
   "metadata": {},
   "outputs": [],
   "source": [
    "genes_heatmap = [\"Klrk1\", \"Ccl4\", \"Klrc1\", \"Gzma\", \"Dapk2\", \"Gzmk\", \"Gpr55\",\"Ifng\",\"Mcm5\",\"Ifit3\",\"Ramp3\", \"Gzmb\",]"
   ]
  },
  {
   "cell_type": "code",
   "execution_count": null,
   "id": "2946f677-e616-4218-8993-08f452afe4f6",
   "metadata": {},
   "outputs": [],
   "source": [
    "import scanpy as sc\n",
    "\n",
    "sc.pl.heatmap(adata_solo, genes_heatmap,gene_symbols=\"gene_name\", groupby='cell_type', swap_axes=True)"
   ]
  },
  {
   "cell_type": "code",
   "execution_count": null,
   "id": "71c5bd57-ddfb-4c7e-a783-6104503968fa",
   "metadata": {},
   "outputs": [],
   "source": [
    "import scanpy as sc\n",
    "\n",
    "sc.pl.heatmap(adata_solo, genes_heatmap,gene_symbols=\"gene_name\", groupby='origin', swap_axes=True)"
   ]
  },
  {
   "cell_type": "code",
   "execution_count": null,
   "id": "5271e140-c750-4f2c-8c33-a1b8454c0ab3",
   "metadata": {},
   "outputs": [],
   "source": [
    "import scanpy as sc\n",
    "\n",
    "sc.pl.heatmap(adata_solo, genes_heatmap,gene_symbols=\"gene_name\", groupby='condition', swap_axes=True)"
   ]
  },
  {
   "cell_type": "code",
   "execution_count": null,
   "id": "d94e08cb-af12-4243-899b-16ceadc117e7",
   "metadata": {},
   "outputs": [],
   "source": [
    "import scanpy as sc\n",
    "\n",
    "sc.pl.heatmap(adata_solo, genes_heatmap,gene_symbols=\"gene_name\", groupby='sample_id', swap_axes=True)"
   ]
  },
  {
   "cell_type": "code",
   "execution_count": null,
   "id": "19e25381-ea7a-44ff-9eec-625e57506d3a",
   "metadata": {},
   "outputs": [],
   "source": [
    "adata_solo.var.index = adata_solo.var.ensembl_id"
   ]
  },
  {
   "cell_type": "code",
   "execution_count": null,
   "id": "7cca82b6-7021-46ea-9f81-e5f87f45a229",
   "metadata": {},
   "outputs": [],
   "source": [
    "\n",
    "sc.pl.dotplot(adata_solo,  genes_heatmap,gene_symbols=\"gene_name\", groupby='cell_type',  dendrogram=False, swap_axes = True)"
   ]
  },
  {
   "cell_type": "code",
   "execution_count": null,
   "id": "32544a58-dc76-4f3f-8bac-2e84299e6457",
   "metadata": {},
   "outputs": [],
   "source": [
    "\n",
    "sc.pl.dotplot(adata_solo,  genes_heatmap,gene_symbols=\"gene_name\", groupby='sample_id', dendrogram=False, swap_axes = True)"
   ]
  },
  {
   "cell_type": "code",
   "execution_count": null,
   "id": "94115b77-2999-48ae-bb0a-d0974bfe17d0",
   "metadata": {},
   "outputs": [],
   "source": [
    "sc.pl.dotplot(adata_solo,  genes_heatmap,gene_symbols=\"gene_name\", groupby='origin', dendrogram=False, swap_axes = True)"
   ]
  },
  {
   "cell_type": "code",
   "execution_count": null,
   "id": "0937fc2d-f938-44f4-a3e1-8dd51d34a1b1",
   "metadata": {},
   "outputs": [],
   "source": [
    "sc.pl.dotplot(adata_solo,  genes_heatmap,gene_symbols=\"gene_name\", groupby='condition', dendrogram=False, swap_axes = True)"
   ]
  },
  {
   "cell_type": "code",
   "execution_count": null,
   "id": "8b4d974c-e785-4c83-8adb-ff72144ac144",
   "metadata": {},
   "outputs": [],
   "source": [
    "genes_heatmap_cytokine = [\"Csf1\", \"Il10ra\",\"Il16\", \"Il18rap\",\"Il21r\",\"Il2rb\",\"Il2rg\",\"Il9r\",\"Adam10\",\"Adam8\",\"Cd70\"]"
   ]
  },
  {
   "cell_type": "code",
   "execution_count": null,
   "id": "ac6f07a1-97b9-436c-a62c-feb637745d34",
   "metadata": {},
   "outputs": [],
   "source": [
    "genes_heatmap_cytotoxicty = [\"Ifng\", \"Tnf\",\"Cxcl9\"]"
   ]
  },
  {
   "cell_type": "code",
   "execution_count": null,
   "id": "2f23a6da-980b-4e34-b9e1-bc81fb368520",
   "metadata": {},
   "outputs": [],
   "source": [
    "adata_solo"
   ]
  },
  {
   "cell_type": "code",
   "execution_count": null,
   "id": "6632301e-8063-4d44-b7de-b7078b11a021",
   "metadata": {},
   "outputs": [],
   "source": [
    "sc.pl.dotplot(adata_solo, genes_heatmap_cytokine,gene_symbols=\"gene_name\", groupby='sample_id',layer= \"logcounts\", dendrogram=False, swap_axes = True)"
   ]
  },
  {
   "cell_type": "code",
   "execution_count": null,
   "id": "66244b55-f2ad-4c9d-a4d2-64e0bddccd36",
   "metadata": {},
   "outputs": [],
   "source": [
    "sc.pl.dotplot(adata_solo,  genes_heatmap_cytokine,gene_symbols=\"gene_name\", groupby='cell_type', dendrogram=False, swap_axes = True)"
   ]
  },
  {
   "cell_type": "code",
   "execution_count": null,
   "id": "9060c89b-667f-4f3c-8abb-8059cec77bcf",
   "metadata": {},
   "outputs": [],
   "source": [
    "sc.pl.dotplot(adata_solo,  genes_heatmap_cytokine,gene_symbols=\"gene_name\", groupby='origin', dendrogram=False, swap_axes = True)"
   ]
  },
  {
   "cell_type": "code",
   "execution_count": null,
   "id": "83a5baf6-22fb-49b2-8a27-0536d2b0b5ce",
   "metadata": {},
   "outputs": [],
   "source": [
    "sc.pl.dotplot(adata_solo,  genes_heatmap_cytokine,gene_symbols=\"gene_name\", groupby='condition', dendrogram=False, swap_axes = True)"
   ]
  },
  {
   "cell_type": "code",
   "execution_count": null,
   "id": "08e0107b-3492-46a1-99dd-fea070e8342e",
   "metadata": {},
   "outputs": [],
   "source": [
    "import pandas as pd\n",
    "\n",
    "# Assuming you have a list of sample IDs and a corresponding list of cell counts\n",
    "sample_ids = [\"10mix\", \"11mix\", \"GF\"]  # Replace with your actual sample IDs\n",
    "number_of_cells = [826, 1111, 175]  # Replace with your actual cell count data\n",
    "\n",
    "# Create a dictionary to store the data\n",
    "data = {\n",
    "    \"sample_id\": sample_ids,\n",
    "    \"number_of_cells\": number_of_cells\n",
    "}\n",
    "\n",
    "# Create a DataFrame from the dictionary\n",
    "df = pd.DataFrame(data)\n",
    "\n",
    "print(df)\n"
   ]
  },
  {
   "cell_type": "code",
   "execution_count": null,
   "id": "05105525-61c6-475f-a012-d73bf6b589ef",
   "metadata": {},
   "outputs": [],
   "source": [
    "import pandas as pd\n",
    "import matplotlib.pyplot as plt\n",
    "\n",
    "# Assuming df is your DataFrame with sample IDs and cell counts\n",
    "\n",
    "# Create a horizontal bar plot using matplotlib\n",
    "plt.figure(figsize=(5, 3))  # Set the figure size\n",
    "\n",
    "# Plot the data as horizontal bars\n",
    "plt.barh(df['sample_id'], df['number_of_cells'],  fill=False)\n",
    "\n",
    "# Customize the plot\n",
    "plt.xlabel('Number of Cells')\n",
    "plt.ylabel('Sample')\n",
    "plt.title('')\n",
    "plt.tight_layout()  # Adjust layout for better spacing\n",
    "\n",
    "# Show the plot\n",
    "plt.show()\n"
   ]
  },
  {
   "cell_type": "code",
   "execution_count": null,
   "id": "e217c00a-9b3f-4dd5-a63d-eacaf86ed482",
   "metadata": {},
   "outputs": [],
   "source": [
    "import pandas as pd\n",
    "import matplotlib.pyplot as plt\n",
    "\n",
    "# Assuming cell_type_df is your DataFrame with cell type counts\n",
    "\n",
    "# Create a bar plot using matplotlib\n",
    "plt.figure(figsize=(3, 5))  # Set the figure size\n",
    "\n",
    "# Plot the data\n",
    "plt.bar(df['sample_id'], df['number_of_cells'], fill=False)\n",
    "\n",
    "# Customize the plot\n",
    "plt.xlabel('Sample')\n",
    "plt.ylabel('N. of cells')\n",
    "plt.title('Sample Counts')\n",
    "plt.xticks(rotation=90)  # Rotate x-axis labels for better visibility\n",
    "\n",
    "\n",
    "# Show the plot\n",
    "plt.tight_layout()  # Adjust layout for better spacing\n",
    "plt.show()\n"
   ]
  }
 ],
 "metadata": {
  "kernelspec": {
   "display_name": "Python 3 (ipykernel)",
   "language": "python",
   "name": "python3"
  },
  "language_info": {
   "codemirror_mode": {
    "name": "ipython",
    "version": 3
   },
   "file_extension": ".py",
   "mimetype": "text/x-python",
   "name": "python",
   "nbconvert_exporter": "python",
   "pygments_lexer": "ipython3",
   "version": "3.11.8"
  }
 },
 "nbformat": 4,
 "nbformat_minor": 5
}
