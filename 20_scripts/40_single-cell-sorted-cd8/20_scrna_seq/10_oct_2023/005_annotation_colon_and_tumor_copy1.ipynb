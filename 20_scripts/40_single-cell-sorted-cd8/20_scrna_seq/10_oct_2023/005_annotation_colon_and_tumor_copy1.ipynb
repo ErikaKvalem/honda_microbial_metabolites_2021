{
 "cells": [
  {
   "cell_type": "code",
   "execution_count": null,
   "id": "354e9300-c83c-4a43-922d-5bf84898a5d5",
   "metadata": {},
   "outputs": [],
   "source": [
    "#import scanpy_helpers as sh"
   ]
  },
  {
   "cell_type": "code",
   "execution_count": null,
   "id": "c487f98d-b7ec-4d33-b3a3-42ea074e9d74",
   "metadata": {},
   "outputs": [],
   "source": [
    "# Python packages\n",
    "#import scanpy as sc\n",
    "import scvi\n",
    "import numpy as np\n",
    "import pandas as pd\n",
    "import matplotlib.pyplot as plt\n",
    "import matplotlib\n",
    "import seaborn as sns\n",
    "#import  decoupler as dc"
   ]
  },
  {
   "cell_type": "code",
   "execution_count": null,
   "id": "15755fbb-8536-444a-bb46-41a6adfed138",
   "metadata": {},
   "outputs": [],
   "source": [
    "import decoupler as dc"
   ]
  },
  {
   "cell_type": "code",
   "execution_count": null,
   "id": "ef8bb1ca-7368-4d40-89df-a2e707c6dc70",
   "metadata": {},
   "outputs": [],
   "source": [
    "path = \"/data/scratch/kvalem/projects/2021/microbial-metabolites/preprocessing/40_single-cell-sorted-cd8/50_scrna_seq_by_sample/test/work/e7/055b59d0a151a805841cf4d86020b8\""
   ]
  },
  {
   "cell_type": "code",
   "execution_count": null,
   "id": "97ab7c68-628c-4bd1-9b6a-31e3c13018be",
   "metadata": {},
   "outputs": [],
   "source": [
    "path_merged = \"/data/scratch/kvalem/projects/2021/microbial-metabolites/preprocessing/40_single-cell-sorted-cd8/50_scrna_seq_by_sample/test/work/e7/055b59d0a151a805841cf4d86020b8/merged_adata.h5ad\""
   ]
  },
  {
   "cell_type": "code",
   "execution_count": null,
   "id": "1b5fff3b-b05a-4e98-8936-ef9df43db2ad",
   "metadata": {},
   "outputs": [],
   "source": [
    "path_qc = \"/data/projects/2021/MicrobialMetabolites/single-cell-sorted-cd8/results/results_by_sample/quality_control/10mix1_adata_filtered_denoised_adata_after_qc.h5ad\""
   ]
  },
  {
   "cell_type": "code",
   "execution_count": null,
   "id": "166a6056-e65d-484b-90ba-5b5920e838b5",
   "metadata": {},
   "outputs": [],
   "source": [
    "path_filtered_1st_Step = \"/data/projects/2021/MicrobialMetabolites/single-cell-sorted-cd8/results/results_by_sample/filter_sample_adata/GF-ICI2-plus_adata_filtered.h5ad\""
   ]
  },
  {
   "cell_type": "code",
   "execution_count": null,
   "id": "2262966c-851d-4ae7-8e43-2f75a6e1bfe2",
   "metadata": {},
   "outputs": [],
   "source": [
    "og_sample = \"/data/projects/2021/MicrobialMetabolites/single-cell-sorted-cd8/scrna_seq_data/samples/adata_10mix1.h5ad\""
   ]
  },
  {
   "cell_type": "code",
   "execution_count": null,
   "id": "054e285d-0797-4df0-9b1d-8f74ca8096e8",
   "metadata": {},
   "outputs": [],
   "source": [
    "adata_solo = sc.read_h5ad(f\"{path}/adata_nodoublet.h5ad\")"
   ]
  },
  {
   "cell_type": "code",
   "execution_count": null,
   "id": "fe457acc-f703-4263-b733-c4ef29f48b5d",
   "metadata": {},
   "outputs": [],
   "source": [
    "adata_merged = sc.read_h5ad(path_merged)"
   ]
  },
  {
   "cell_type": "code",
   "execution_count": null,
   "id": "59b20f37-a4a3-4b2a-b781-d2dda63cdb93",
   "metadata": {},
   "outputs": [],
   "source": [
    "import scanpy as sc"
   ]
  },
  {
   "cell_type": "code",
   "execution_count": null,
   "id": "64aae18f-c537-42d6-b6e5-63b27905cb48",
   "metadata": {},
   "outputs": [],
   "source": [
    "import anndata as ad"
   ]
  },
  {
   "cell_type": "code",
   "execution_count": null,
   "id": "8b9003e3-876b-407d-a09d-36c9a6ccb5d0",
   "metadata": {},
   "outputs": [],
   "source": [
    "adata_solo"
   ]
  },
  {
   "cell_type": "code",
   "execution_count": null,
   "id": "d2a80e51-243e-41a6-8e96-cb51b6f5b9b8",
   "metadata": {},
   "outputs": [],
   "source": [
    "adata_merged"
   ]
  },
  {
   "cell_type": "code",
   "execution_count": null,
   "id": "7c0257d1-d457-490f-8375-c6c502f356d9",
   "metadata": {},
   "outputs": [],
   "source": [
    "sc.pp.normalize_total(adata_solo)\n",
    "sc.pp.log1p(adata_solo)\n",
    "sc.tl.pca(adata_solo)"
   ]
  },
  {
   "cell_type": "code",
   "execution_count": null,
   "id": "d38402c1-229e-4c06-a472-ba742387d506",
   "metadata": {},
   "outputs": [],
   "source": [
    "sc.pp.neighbors(adata_solo, key_added=\"neighbors_uncorrected\")\n",
    "sc.tl.umap(adata_solo, neighbors_key=\"neighbors_uncorrected\")"
   ]
  },
  {
   "cell_type": "code",
   "execution_count": null,
   "id": "5e599b0e-1836-47d5-9db4-79c835063e3c",
   "metadata": {},
   "outputs": [],
   "source": [
    "adata_solo"
   ]
  },
  {
   "cell_type": "code",
   "execution_count": null,
   "id": "430b799b-3eb7-416a-802b-f9d6abe02694",
   "metadata": {},
   "outputs": [],
   "source": [
    "sc.pl.umap(adata_solo, color = \"leiden\")"
   ]
  },
  {
   "cell_type": "code",
   "execution_count": null,
   "id": "384e92a9-2ead-41fc-a7f6-39b0cfb29d1e",
   "metadata": {},
   "outputs": [],
   "source": [
    "sc.pl.umap(adata_solo, color = \"sample_id\")"
   ]
  },
  {
   "cell_type": "code",
   "execution_count": null,
   "id": "b84d0fcc-189f-425e-8cb5-09d4bf3d5717",
   "metadata": {},
   "outputs": [],
   "source": [
    "sc.pl.umap(adata_solo, color = \"condition\")"
   ]
  },
  {
   "cell_type": "code",
   "execution_count": null,
   "id": "436731ba-0fb4-4325-a2cb-d43c4a6701db",
   "metadata": {},
   "outputs": [],
   "source": [
    "sc.pl.umap(adata_solo, color = \"ici_therapy\")"
   ]
  },
  {
   "cell_type": "code",
   "execution_count": null,
   "id": "6ba85a97-bcfb-42c6-a554-b42e12a32dfc",
   "metadata": {},
   "outputs": [],
   "source": [
    "sc.pl.umap(adata_solo, color = \"origin\")"
   ]
  },
  {
   "cell_type": "code",
   "execution_count": null,
   "id": "fe89a8d6-95cb-403c-959b-4c0fd9ad319b",
   "metadata": {},
   "outputs": [],
   "source": [
    "sc.pl.umap(adata_solo[adata_solo.obs[\"condition\"].isin([\"GF\"])], color=tex_genes)\n"
   ]
  },
  {
   "cell_type": "code",
   "execution_count": null,
   "id": "d1c82869-41ca-48ff-8cae-c4b9cd9173df",
   "metadata": {},
   "outputs": [],
   "source": [
    "sc.pl.umap(adata_solo[adata_solo.obs[\"sample_id\"].isin([\"11mix1\"])], color=tex_genes)\n"
   ]
  },
  {
   "cell_type": "code",
   "execution_count": null,
   "id": "30bb2161-fe2d-4bb6-92ac-4da0e4f89e3c",
   "metadata": {},
   "outputs": [],
   "source": [
    "sc.pl.umap(adata_solo[adata_solo.obs[\"sample_id\"].isin([\"10mix1\"])], color=tex_genes)\n"
   ]
  },
  {
   "cell_type": "code",
   "execution_count": null,
   "id": "6d3d346d-6075-4073-9e08-4a7d6ae1232a",
   "metadata": {},
   "outputs": [],
   "source": [
    "sc.pl.umap(adata_solo[adata_solo.obs[\"sample_id\"].isin([\"GF1\"])], color=tex_genes)\n"
   ]
  },
  {
   "cell_type": "code",
   "execution_count": null,
   "id": "18aea248-6c03-4caf-9e76-18efd2a9cb02",
   "metadata": {},
   "outputs": [],
   "source": [
    "genes_in_adata = [\"CD103\",\"CD44\",\"CD69\",\"1Ab\",\"2Ab\"]"
   ]
  },
  {
   "cell_type": "code",
   "execution_count": null,
   "id": "526c327e-cee8-4073-b6a3-6f005532ddc8",
   "metadata": {},
   "outputs": [],
   "source": [
    "sc.pl.umap(adata_solo[adata_solo.obs[\"condition\"].isin([\"GF\"])], color=genes_in_adata)"
   ]
  },
  {
   "cell_type": "code",
   "execution_count": null,
   "id": "4c7f8967-f4da-4298-9696-227cc595213b",
   "metadata": {},
   "outputs": [],
   "source": [
    "adata_solo.var[\"query\"] = adata_solo.var.index\n",
    "adata_solo.var"
   ]
  },
  {
   "cell_type": "code",
   "execution_count": null,
   "id": "45b2fb00-bedd-4e3a-bf6c-2a7cb8d4c743",
   "metadata": {},
   "outputs": [],
   "source": [
    "list_var = adata_solo.var.index.unique()"
   ]
  },
  {
   "cell_type": "code",
   "execution_count": null,
   "id": "fd8af9ec-019a-4b7f-abb8-1bb6c84ce691",
   "metadata": {},
   "outputs": [],
   "source": [
    "len(list_var)"
   ]
  },
  {
   "cell_type": "code",
   "execution_count": null,
   "id": "2a2d5872-85b0-43e6-acd6-4f0d69870b6f",
   "metadata": {},
   "outputs": [],
   "source": [
    "prefixes = \"ENSMUSG\"\n",
    "newlist = [x for x in list_var if  x.startswith(prefixes)]"
   ]
  },
  {
   "cell_type": "code",
   "execution_count": null,
   "id": "c0416af7-4968-4d94-bb22-8b04c35f6aa3",
   "metadata": {},
   "outputs": [],
   "source": [
    "import mygene"
   ]
  },
  {
   "cell_type": "code",
   "execution_count": null,
   "id": "36c91bbb-d665-4213-be83-35f9cd08aae3",
   "metadata": {},
   "outputs": [],
   "source": [
    "mg = mygene.MyGeneInfo()\n",
    "ginfo = mg.querymany(list_var, scopes='ensembl.gene')"
   ]
  },
  {
   "cell_type": "code",
   "execution_count": null,
   "id": "00569f64-6c34-4fd2-bd8a-1f3e1a73f101",
   "metadata": {},
   "outputs": [],
   "source": [
    "df = pd.DataFrame(ginfo)"
   ]
  },
  {
   "cell_type": "code",
   "execution_count": null,
   "id": "617644d8-15cc-4dfc-b702-1525a64fa13b",
   "metadata": {},
   "outputs": [],
   "source": [
    "df.drop_duplicates(subset='query', keep='last', inplace=True)"
   ]
  },
  {
   "cell_type": "code",
   "execution_count": null,
   "id": "ccc0aebe-2daf-4c5f-b571-d7b0adb3fd2d",
   "metadata": {},
   "outputs": [],
   "source": [
    "df"
   ]
  },
  {
   "cell_type": "code",
   "execution_count": null,
   "id": "d77870e3-04a8-4315-93bb-8c636ea1f1ba",
   "metadata": {},
   "outputs": [],
   "source": [
    "df['symbol'] = df.apply(lambda row: row['query'] if pd.isna(row['symbol']) else row['symbol'], axis=1)\n"
   ]
  },
  {
   "cell_type": "code",
   "execution_count": null,
   "id": "7a012532-16e5-4d44-b1f7-6d5f34beb039",
   "metadata": {},
   "outputs": [],
   "source": [
    "adata_solo.var"
   ]
  },
  {
   "cell_type": "code",
   "execution_count": null,
   "id": "b26947e0-6463-4796-afe1-af90d3bba4f0",
   "metadata": {},
   "outputs": [],
   "source": [
    "df = df.set_index('query')"
   ]
  },
  {
   "cell_type": "code",
   "execution_count": null,
   "id": "92fe7214-c2c4-4f5e-860c-15c3dbbde205",
   "metadata": {},
   "outputs": [],
   "source": [
    "df"
   ]
  },
  {
   "cell_type": "code",
   "execution_count": null,
   "id": "9b729545-36bb-4170-9745-da7026af5ef8",
   "metadata": {},
   "outputs": [],
   "source": [
    "adata_solo.var[\"query\"] =adata_solo.var.index"
   ]
  },
  {
   "cell_type": "code",
   "execution_count": null,
   "id": "47e2221d-9342-42f3-9455-8122f9a50255",
   "metadata": {},
   "outputs": [],
   "source": [
    "adata_solo.var\n",
    "adata_solo.var.set_index('query')"
   ]
  },
  {
   "cell_type": "code",
   "execution_count": null,
   "id": "04a4eb1f-1e61-49a2-8092-48ccb1180b62",
   "metadata": {},
   "outputs": [],
   "source": [
    "df2"
   ]
  },
  {
   "cell_type": "code",
   "execution_count": null,
   "id": "a57411af-1cee-4bfe-8d95-4b08b970e1b3",
   "metadata": {},
   "outputs": [],
   "source": [
    "merged_df"
   ]
  },
  {
   "cell_type": "code",
   "execution_count": null,
   "id": "67131fbd-ff1e-467d-87ab-b1131e2efacb",
   "metadata": {},
   "outputs": [],
   "source": [
    "df2 = df.join(adata_solo.var, lsuffix='query', rsuffix='symbol')\n",
    "\n",
    "#df3  = adata_solo.var.set_index('query').join(df.set_index('query'))"
   ]
  },
  {
   "cell_type": "code",
   "execution_count": null,
   "id": "18445e5d-d8b6-425d-9157-340c7e646107",
   "metadata": {},
   "outputs": [],
   "source": [
    "adata_solo.var = df.merge(adata_solo.var, on='query', how='left')"
   ]
  },
  {
   "cell_type": "code",
   "execution_count": null,
   "id": "95b1925a-3614-4e55-8240-9e375ee8bd35",
   "metadata": {},
   "outputs": [],
   "source": [
    "adata_solo.var['symbol'] = merged_df.apply(lambda row: row['query'] if pd.isna(row['symbol']) else row['symbol'], axis=1)\n"
   ]
  },
  {
   "cell_type": "code",
   "execution_count": null,
   "id": "413676a4-07dd-4b96-a749-f4995475ce82",
   "metadata": {},
   "outputs": [],
   "source": [
    "adata_solo.var"
   ]
  },
  {
   "cell_type": "code",
   "execution_count": null,
   "id": "2b1d1d8c-bab7-4e6e-9381-7665e5720625",
   "metadata": {},
   "outputs": [],
   "source": [
    "tex_genes = [\"PD1\"]"
   ]
  },
  {
   "cell_type": "markdown",
   "id": "efd93c8b-ebcc-47e5-9d28-6d9ed2f18ab5",
   "metadata": {},
   "source": [
    "CXCL13 - ENSG00000156234\n",
    "GZMB - ENSG00000100453\n",
    "HAVCR2 - ENSG00000135077\n",
    "KRT86 - ENSG00000170442    "
   ]
  },
  {
   "cell_type": "markdown",
   "id": "0d403227-dea3-4033-8529-4bb9c7d654d8",
   "metadata": {},
   "source": [
    "- Tex - Exhausted T cell → CXCL13, GZMB, HAVCR2, KRT86\n",
    "- Tisg - Interferon (IFN) response T cell → Isg15, Ifi44l,Ifit3, Ifit1\n",
    "- Tn - Naive T cells  →Ltb, Sell,  Lef1, Nosip\n",
    "- Trm - Resident Memory T cells → Itga1, Cpne7, Txnip, Il7r\n",
    "- Tsen - Senescent - like T cells  → Plcg2, Igkc, Klrk1\n",
    "- Tstr - Stress response T cell → Hspa1b, Hspa1a,Dnajb1, Hsph1\n"
   ]
  },
  {
   "cell_type": "code",
   "execution_count": null,
   "id": "a4f2d485-8f26-4bd3-aa1f-36e378c169ce",
   "metadata": {},
   "outputs": [],
   "source": [
    "dataframe = pd.DataFrame()"
   ]
  },
  {
   "cell_type": "code",
   "execution_count": null,
   "id": "c4a9030b-694c-4a45-b7c5-87f347fbc254",
   "metadata": {},
   "outputs": [],
   "source": [
    "# marker genes \n",
    "marker_genes= pd.read_csv(\"/data/scratch/kvalem/projects/2021/microbial-metabolites/preprocessing/40_single-cell-sorted-cd8/40_scrna_seq/bin/notebooks/gene_markers.csv\")"
   ]
  },
  {
   "cell_type": "code",
   "execution_count": null,
   "id": "7268b75b-abdb-4b52-b5ab-26f01064aa5d",
   "metadata": {},
   "outputs": [],
   "source": [
    "!pip install decoupler"
   ]
  },
  {
   "cell_type": "code",
   "execution_count": null,
   "id": "24c8272b-a900-4622-9b29-2efdec0cd492",
   "metadata": {},
   "outputs": [],
   "source": [
    "dc.run_ora(\n",
    "    mat=adata_solo,\n",
    "    net=marker_genes[[\"cell_type\", \"genesymbol\"]],\n",
    "    source='cell_type',\n",
    "    target='genesymbol',\n",
    "    min_n=1,\n",
    "    verbose=True\n",
    ")"
   ]
  },
  {
   "cell_type": "code",
   "execution_count": null,
   "id": "6ccd5652-818e-4bc5-8aff-8be052edcb68",
   "metadata": {},
   "outputs": [],
   "source": [
    "adata_solo.obs.sample_id.unique()"
   ]
  },
  {
   "cell_type": "code",
   "execution_count": null,
   "id": "d7c24e7f-194d-4491-b943-63096e0b93f7",
   "metadata": {},
   "outputs": [],
   "source": [
    "adata_solo.obs.groupby([\"sample_id\",\"batch_id\"]).sum()"
   ]
  },
  {
   "cell_type": "code",
   "execution_count": null,
   "id": "cef53c0c-d3ea-4843-8d92-87b96a295ff4",
   "metadata": {},
   "outputs": [],
   "source": [
    "sc.tl.leiden(adata_solo, key_added=\"leiden\", resolution=0.3)"
   ]
  },
  {
   "cell_type": "code",
   "execution_count": null,
   "id": "01f2cc3b-a706-4ebb-8a5b-4e1b839e1850",
   "metadata": {},
   "outputs": [],
   "source": [
    "adata_list = []\n",
    "for adata_file in file_list:\n",
    "    adata = sc.read_h5ad(f\"{path_adata_denoised_after_qc}/{adata_file}\")\n",
    "    adata_list.append(adata)\n",
    "\n",
    "    # Concatenate the AnnData objects along the rows (observations)\n",
    "merged_adata = ad.concat(adata_list, index_unique=\"-\", join=\"outer\", fill_value=0)\n"
   ]
  },
  {
   "cell_type": "code",
   "execution_count": null,
   "id": "0dbe90bd-7bb3-4d49-a7ac-222adf6b21e6",
   "metadata": {},
   "outputs": [],
   "source": [
    "#list of all files in the directory\n",
    "import os\n",
    "file_list = os.listdir(\"/data/projects/2021/MicrobialMetabolites/single-cell-sorted-cd8/results/results_by_sample/quality_control\")\n"
   ]
  },
  {
   "cell_type": "code",
   "execution_count": null,
   "id": "1f456401-b2d8-4df9-bcef-02526319a299",
   "metadata": {},
   "outputs": [],
   "source": [
    "merged_adata = ad.concat(adata_list, index_unique=\"-\", join=\"outer\", fill_value=0)"
   ]
  },
  {
   "cell_type": "code",
   "execution_count": null,
   "id": "7d55b1c6-6538-4797-8f5a-4f3ce631c392",
   "metadata": {},
   "outputs": [],
   "source": [
    "sc.pp.highly_variable_genes(\n",
    "    merged_adata,\n",
    "    layer=\"counts\",\n",
    "    n_top_genes=4000,\n",
    "    subset=False,\n",
    "    flavor=\"seurat_v3\",\n",
    "    batch_key=\"sample_id\"\n",
    ")\n"
   ]
  },
  {
   "cell_type": "code",
   "execution_count": null,
   "id": "cf1db564-dc57-4495-ba27-280c3e8c3b04",
   "metadata": {},
   "outputs": [],
   "source": [
    "adata_solo.obs.sample_id.unique()"
   ]
  },
  {
   "cell_type": "code",
   "execution_count": null,
   "id": "3e64e108-6969-45d3-a5f6-6ba0e833176e",
   "metadata": {},
   "outputs": [],
   "source": [
    "def update_columns(row):\n",
    "   \n",
    "    if \"ICI\" not in row['sample_id']:\n",
    "        row['origin'] = \"colon\"\n",
    "    else:\n",
    "         row['origin'] = \"til\"\n",
    "        \n",
    "    return row\n",
    "\n",
    "# Apply the function to each row in the DataFrame\n",
    "adata_solo.obs = adata_solo.obs.apply(update_columns, axis=1)"
   ]
  },
  {
   "cell_type": "code",
   "execution_count": null,
   "id": "18f41ddb-abd5-4406-b750-3c30f9d09dd0",
   "metadata": {},
   "outputs": [],
   "source": [
    "def update_columns(row):\n",
    "   \n",
    "    if \"ICI1\"  in row['sample_id']:\n",
    "        row['batch_id'] = \"ICI1\"\n",
    "    elif \"ICI2\" in row['sample_id']:\n",
    "         row['batch_id'] = \"ICI2\"\n",
    "    elif row['sample_id'] == \"10mix1\":\n",
    "        row['batch_id'] = \"1\"\n",
    "    elif row['sample_id'] == \"10mix2\":\n",
    "         row['batch_id'] = \"2\"\n",
    "    elif row['sample_id'] == \"11mix1\":\n",
    "        row['batch_id'] = \"1\"\n",
    "    elif row['sample_id'] == \"11mix2\":\n",
    "         row['batch_id'] = \"2\"\n",
    "    elif row['sample_id'] == \"GF1\":\n",
    "        row['batch_id'] = \"1\"\n",
    "  \n",
    "        \n",
    "        \n",
    "    return row\n",
    "\n",
    "# Apply the function to each row in the DataFrame\n",
    "adata_solo.obs = adata_solo.obs.apply(update_columns, axis=1)"
   ]
  },
  {
   "cell_type": "code",
   "execution_count": null,
   "id": "266f5cfb-19a6-454a-a3a6-d2d65bfbca83",
   "metadata": {},
   "outputs": [],
   "source": [
    "def update_columns(row):\n",
    "   \n",
    "    if \"10mix-ICI1\"  in row['sample_id']:\n",
    "        row['ici_therapy'] = \"Yes\"\n",
    "    elif \"10mix-ICI2\" in row['sample_id']:\n",
    "        row['ici_therapy'] = \"Yes\"\n",
    "    elif \"11mix-ICI1\" in row['sample_id']:\n",
    "        row['ici_therapy'] = \"Yes\"\n",
    "    elif \"11mix-ICI2\" in row['sample_id']:\n",
    "        row['ici_therapy'] = \"Yes\"\n",
    "    elif \"GF-ICI2-plus\" in row['sample_id']:\n",
    "        row['ici_therapy'] = \"Yes\"\n",
    "    elif \"GF-ICI1-plus\" in row['sample_id']:\n",
    "        row['ici_therapy'] = \"Yes\"\n",
    "    elif \"GF-ICI1\" in row['sample_id']:\n",
    "        row['ici_therapy'] = \"No\"\n",
    "    elif \"GF-ICI2\" in row['sample_id']:\n",
    "        row['ici_therapy'] = \"No\"\n",
    "\n",
    "  \n",
    "        \n",
    "    return row\n",
    "\n",
    "# Apply the function to each row in the DataFrame\n",
    "adata_solo.obs = adata_solo.obs.apply(update_columns, axis=1)"
   ]
  },
  {
   "cell_type": "code",
   "execution_count": null,
   "id": "205a538e-d84a-4c33-b16d-99c7b45269e0",
   "metadata": {
    "tags": []
   },
   "outputs": [],
   "source": [
    "def update_columns(row):\n",
    "   \n",
    "    if row['sample_id'] == \"10mix1\":\n",
    "        row['condition'] = \"10mix\"\n",
    "    elif row['sample_id'] == \"10mix2\":\n",
    "         row['condition'] = \"10mix\"\n",
    "    elif row['sample_id'] == \"11mix1\":\n",
    "         row['condition'] = \"11mix\"\n",
    "    elif row['sample_id'] == \"11mix2\":\n",
    "         row['condition'] = \"11mix\"\n",
    "    elif row['sample_id'] == \"GF1\":\n",
    "         row['condition'] = \"GF\"\n",
    "    elif row['sample_id'] == \"GF2\":\n",
    "         row['condition'] = \"GF\"\n",
    "    elif row['sample_id'] == \"GF-ICI2-plus\":\n",
    "         row['condition'] = \"GF-plus\"\n",
    "    elif row['sample_id'] == \"GF-ICI1-plus\":\n",
    "         row['condition'] = \"GF-plus\"\n",
    "    elif row['sample_id'] == \"GF-ICI2\":\n",
    "         row['condition'] = \"GF\"\n",
    "    elif row['sample_id'] == \"GF-ICI1\":\n",
    "         row['condition'] = \"GF\"\n",
    "    elif row['sample_id'] == \"10mix-ICI1\":\n",
    "         row['condition'] = \"10mix\"\n",
    "    elif row['sample_id'] == \"10mix-ICI2\":\n",
    "         row['condition'] = \"10mix\"\n",
    "    elif row['sample_id'] == \"11mix-ICI1\":\n",
    "         row['condition'] = \"11mix\"\n",
    "    elif row['sample_id'] == \"11mix-ICI2\":\n",
    "         row['condition'] = \"11mix\"\n",
    "    \n",
    "    \n",
    "        \n",
    "        \n",
    "    return row\n",
    "\n",
    "# Apply the function to each row in the DataFrame\n",
    "adata_solo.obs = adata_solo.obs.apply(update_columns, axis=1)"
   ]
  },
  {
   "cell_type": "code",
   "execution_count": null,
   "id": "ccb86bfb-63a6-4f04-bc33-3917afffcd84",
   "metadata": {},
   "outputs": [],
   "source": [
    "adata_solo.obs[[\"batch_id\",\"sample_id\",\"origin\",\"condition\",\"ici_therapy\"]].head(50000)"
   ]
  },
  {
   "cell_type": "code",
   "execution_count": null,
   "id": "ce18bb51-b4ae-4fd9-8ee1-1e8d888c7f91",
   "metadata": {},
   "outputs": [],
   "source": [
    "adata_solo.obs.sample_id.value_counts()"
   ]
  },
  {
   "cell_type": "code",
   "execution_count": null,
   "id": "0b6509c5-21f7-4ffc-b6e7-4c8c03e922a2",
   "metadata": {},
   "outputs": [],
   "source": [
    "adata_solo.obs"
   ]
  },
  {
   "cell_type": "code",
   "execution_count": null,
   "id": "ba93d6ec-f6c2-46e0-852e-ec9007f96575",
   "metadata": {},
   "outputs": [],
   "source": [
    "adata_solo.obs.origin.value_counts()"
   ]
  },
  {
   "cell_type": "code",
   "execution_count": null,
   "id": "680424cb-eb87-42ff-a713-df19199f6353",
   "metadata": {},
   "outputs": [],
   "source": [
    "# Apply the split function and expand into new columns\n",
    "def split_by_last_number(text):\n",
    "    match = re.search(pattern, text)\n",
    "    if match:\n",
    "        return match.group(1), match.group(2)\n",
    "    else:\n",
    "        return text, None\n",
    "\n",
    "\n",
    "adata_solo.obs[['condition', 'batch_id']] = adata_solo.obs['sample_id'].apply(split_by_last_number).apply(pd.Series)\n"
   ]
  },
  {
   "cell_type": "code",
   "execution_count": null,
   "id": "252e2f24-ec14-4ff2-a6ad-52f968c4a0b8",
   "metadata": {},
   "outputs": [],
   "source": [
    "def update_columns(row):\n",
    "    if \"10mix1\" in row['sample_id']:\n",
    "        row['COND'] = \"10mix\"\n",
    "        row['batch_id'] = \"1\"\n",
    "    elif \"10mix2\" in row['sample_id']:\n",
    "        row['COND'] = \"10mix\"\n",
    "        row['batch_id'] = \"2\"\n",
    "    elif \"11mix1\" in row['sample_id']:\n",
    "        row['COND'] = \"11mix\"\n",
    "        row['batch_id'] = \"1\"\n",
    "    elif \"11mix2\" in row['sample_id']:\n",
    "        row['COND'] = \"11mix\"\n",
    "        row['batch_id'] = \"2\"\n",
    "    elif \"GF1\" in row['sample_id']:\n",
    "        row['COND'] = \"GF\"\n",
    "        row['batch_id'] = \"1\"\n",
    "    elif \"GF2\" in row['sample_id']:\n",
    "        row['COND'] = \"GF\"\n",
    "        row['batch_id'] = \"2\"\n",
    "    return row\n",
    "\n",
    "# Apply the function to each row in the DataFrame\n",
    "adata_solo.obs = adata_solo.obs.apply(update_columns, axis=1)"
   ]
  },
  {
   "cell_type": "code",
   "execution_count": null,
   "id": "98df2b77-5874-41ec-bfa5-78b8d5cdaa9e",
   "metadata": {},
   "outputs": [],
   "source": [
    "def update_columns(row):\n",
    "    if \"10mix-ICI2\" in row['sample_id']:\n",
    "        row['COND'] = \"10mix\"\n",
    "        row['batch_id'] = \"ICI2\"\n",
    "    elif \"10mix-ICI1\" in row['sample_id']:\n",
    "        row['COND'] = \"10mix\"\n",
    "        row['batch_id'] = \"ICI1\"\n",
    "    elif \"11mix-ICI1\" in row['sample_id']:\n",
    "        row['COND'] = \"11mix\"\n",
    "        row['batch_id'] = \"ICI1\"\n",
    "    elif \"11mix-ICI2\" in row['sample_id']:\n",
    "        row['COND'] = \"11mix\"\n",
    "        row['batch_id'] = \"ICI2\"\n",
    "    elif \"GF-ICI1\" in row['sample_id']:\n",
    "        row['COND'] = \"GF\"\n",
    "        row['batch_id'] = \"ICI1\"\n",
    "    elif \"GF-ICI2\" in row['sample_id']:\n",
    "        row['COND'] = \"GF\"\n",
    "        row['batch_id'] = \"ICI2\"\n",
    "    elif \"GF-ICI1-plus \" in row['sample_id']:\n",
    "        row['COND'] = \"GF-plus\"\n",
    "        row['batch_id'] = \"ICI1\"\n",
    "    elif \"GF-ICI2-plus \" in row['sample_id']:\n",
    "        row['COND'] = \"GF-plus\"\n",
    "        row['batch_id'] = \"ICI2\"\n",
    "    return row\n",
    "\n",
    "# Apply the function to each row in the DataFrame\n",
    "adata_solo.obs = adata_solo.obs.apply(update_columns, axis=1)"
   ]
  },
  {
   "cell_type": "code",
   "execution_count": null,
   "id": "592d2221-8b87-4ec7-9518-47b2d76688c7",
   "metadata": {},
   "outputs": [],
   "source": [
    "adata_solo.obs.COND.value_counts()"
   ]
  },
  {
   "cell_type": "code",
   "execution_count": null,
   "id": "f7f39928-d175-4bba-bac4-e5b6a6150942",
   "metadata": {},
   "outputs": [],
   "source": [
    "import pandas as pd"
   ]
  },
  {
   "cell_type": "code",
   "execution_count": null,
   "id": "4e188dbe-5632-4d8c-b486-8d2287d10bef",
   "metadata": {},
   "outputs": [],
   "source": [
    "# marker genes \n",
    "marker_genes_wang_et_al= pd.read_csv(\"/data/scratch/kvalem/projects/2021/microbial-metabolites/tables/40_single-cell-sorted-cd8/marker_genes_cd8t_cells.csv\")"
   ]
  },
  {
   "cell_type": "code",
   "execution_count": null,
   "id": "f6444cd2-2d31-4440-bb77-ee01be133ed9",
   "metadata": {},
   "outputs": [],
   "source": [
    "marker_genes_wang_et_al"
   ]
  },
  {
   "cell_type": "code",
   "execution_count": null,
   "id": "ce2726f1-f1c9-4bfd-97f6-183aaeccfe7e",
   "metadata": {},
   "outputs": [],
   "source": [
    "def sentence_case(text):\n",
    "    return text.capitalize()"
   ]
  },
  {
   "cell_type": "code",
   "execution_count": null,
   "id": "ef864877-46bd-47ea-89bd-c9f9d7e79cbc",
   "metadata": {},
   "outputs": [],
   "source": [
    "marker_genes_wang_et_al['gene'] = marker_genes_wang_et_al['gene'].apply(sentence_case)\n"
   ]
  },
  {
   "cell_type": "code",
   "execution_count": null,
   "id": "299da517-fed7-4630-b323-d5ef543d6dbc",
   "metadata": {},
   "outputs": [],
   "source": [
    "marker_genes_wang_et_al"
   ]
  },
  {
   "cell_type": "code",
   "execution_count": null,
   "id": "de134ad9-52bd-45f8-a595-0af0c5a7408d",
   "metadata": {},
   "outputs": [],
   "source": [
    "split_columns = marker_genes_wang_et_al['cluster'].str.split('_', expand=True)\n",
    "split_columns.columns = ['CD8', 'cluster', 'cell','genes']\n",
    "# Concatenate the split columns with the original DataFrame\n",
    "marker_genes_wang_et_al = pd.concat([marker_genes_wang_et_al, split_columns], axis=1)"
   ]
  },
  {
   "cell_type": "code",
   "execution_count": null,
   "id": "af6cada9-6cb8-44ec-a9bb-7fbb935898ad",
   "metadata": {},
   "outputs": [],
   "source": [
    "marker_genes_wang_et_al"
   ]
  },
  {
   "cell_type": "code",
   "execution_count": null,
   "id": "cf81a450-83f6-4277-bb15-e9c7fc23a7f7",
   "metadata": {},
   "outputs": [],
   "source": [
    "marker_genes_wang_et_al.rename(columns={\"gene\":\"genesymbol\",\"cell\":\"cell_type\"}, inplace = True)"
   ]
  },
  {
   "cell_type": "code",
   "execution_count": null,
   "id": "252ed904-c38d-4a86-a3eb-193f689b8a54",
   "metadata": {},
   "outputs": [],
   "source": [
    "marker_genes_wang_et_al"
   ]
  },
  {
   "cell_type": "code",
   "execution_count": null,
   "id": "7f87c834-0e46-4b6f-9169-49f3e77944ee",
   "metadata": {},
   "outputs": [],
   "source": []
  },
  {
   "cell_type": "markdown",
   "id": "5e39485c-b6bc-4954-9ba4-10b55e0f35bb",
   "metadata": {},
   "source": [
    "marker_genes_wang_et_al_unique = marker_genes_wang_et_al.drop_duplicates(subset=['genesymbol'])"
   ]
  },
  {
   "cell_type": "code",
   "execution_count": null,
   "id": "0662def6-648e-453d-8976-37fea4792a03",
   "metadata": {},
   "outputs": [],
   "source": [
    "genes_in_adata = adata_solo[:, adata_solo.var_names.isin(marker_genes_wang_et_al_unique[\"genesymbol\"])].var.gene_name.to_list()"
   ]
  },
  {
   "cell_type": "code",
   "execution_count": null,
   "id": "1e08b9d2-1dfb-4f72-8a25-6fbc893062e2",
   "metadata": {},
   "outputs": [],
   "source": [
    "len(genes_in_adata)"
   ]
  },
  {
   "cell_type": "code",
   "execution_count": null,
   "id": "0258787b-538b-4c71-a066-9fa6694306fd",
   "metadata": {},
   "outputs": [],
   "source": [
    "adata_solo.var"
   ]
  },
  {
   "cell_type": "code",
   "execution_count": null,
   "id": "5cac5364-700e-43fa-abf5-5e96d5075b95",
   "metadata": {},
   "outputs": [],
   "source": [
    "marker_genes_wang_et_al_unique[[\"cell_type\", \"genesymbol\"]]"
   ]
  },
  {
   "cell_type": "code",
   "execution_count": null,
   "id": "ed840746-e6c9-4f70-9f23-adb07daba4ff",
   "metadata": {},
   "outputs": [],
   "source": [
    "dc.run_ora(\n",
    "    mat=adata_solo,\n",
    "    net=marker_genes_wang_et_al_unique[[\"cell_type\", \"genesymbol\"]],\n",
    "    source='cell_type',\n",
    "    target='genesymbol',\n",
    "    min_n=1,\n",
    "    verbose=True\n",
    ")"
   ]
  },
  {
   "cell_type": "code",
   "execution_count": null,
   "id": "081b1ea6-9ae1-47c8-b1d8-02aea2e13a80",
   "metadata": {},
   "outputs": [],
   "source": [
    "acts = dc.get_acts(adata_solo, obsm_key='ora_estimate')"
   ]
  },
  {
   "cell_type": "code",
   "execution_count": null,
   "id": "ce909bad-13a1-4935-ba9a-e0f2540eaddb",
   "metadata": {},
   "outputs": [],
   "source": [
    "acts_v = acts.X.ravel()\n",
    "max_e = np.nanmax(acts_v[np.isfinite(acts_v)])\n",
    "acts.X[~np.isfinite(acts.X)] = max_e"
   ]
  },
  {
   "cell_type": "code",
   "execution_count": null,
   "id": "39bbb3ce-cb77-4944-be22-0a70e93adc31",
   "metadata": {},
   "outputs": [],
   "source": [
    "acts"
   ]
  },
  {
   "cell_type": "code",
   "execution_count": null,
   "id": "630d91c9-31dd-454a-bbd8-a20cf684d7e6",
   "metadata": {},
   "outputs": [],
   "source": [
    "acts.write('acts.h5ad')"
   ]
  },
  {
   "cell_type": "code",
   "execution_count": null,
   "id": "370ce0e4-8e5b-48b0-ac91-6dca5327ea9c",
   "metadata": {},
   "outputs": [],
   "source": [
    "\n",
    "\n",
    "# We need to remove inf and set them to the maximum value observed\n",
    "\n",
    "\n",
    "# We can scale the obtained activities for better visualizations\n",
    "sc.pp.scale(acts)\n",
    "acts"
   ]
  },
  {
   "cell_type": "code",
   "execution_count": null,
   "id": "6dd88f60-4971-46a8-bdeb-ff6fd6f1ce7d",
   "metadata": {},
   "outputs": [],
   "source": [
    "marker_genes_wang_et_al_unique.cell_type.value_counts()"
   ]
  },
  {
   "cell_type": "code",
   "execution_count": null,
   "id": "3bbfbecc-9250-46f3-8277-1c0e65e887a3",
   "metadata": {},
   "outputs": [],
   "source": [
    "acts.var"
   ]
  },
  {
   "cell_type": "code",
   "execution_count": null,
   "id": "fc768cae-63c7-455c-8a3c-033a205bf587",
   "metadata": {},
   "outputs": [],
   "source": [
    "acts.obs"
   ]
  },
  {
   "cell_type": "markdown",
   "id": "7b3e272f-4b05-49eb-9c87-111a4f75bbac",
   "metadata": {},
   "source": [
    "## Cell types \n",
    "\n",
    "* Teff    - Effector T (Teff) cells \n",
    "* t-Teff  -  transitional effector T (Teff) cells \n",
    "* Tn      - Naive T cells\n",
    "* Tex     - exhausted CD8+ T cell \n",
    "* Tisg    -  interferon (IFN) response  T cell \n",
    "* Tstr    - stress response T cell \n",
    "(identified a unique stress response state, TSTR, characterized by heat shock gene expression. TSTR cells are detectable in situ in the tumor microenvironment across various cancer types,)\n",
    "* pTex     - precursor exhausted\n",
    "* Trm      - Resident Memory T cells \n",
    "* Tcm      - T CM, central memory T cells;\n",
    "* Tsen     -  senescent-like T cells "
   ]
  },
  {
   "cell_type": "code",
   "execution_count": null,
   "id": "c6ae2cd6-c8f9-4b93-86cc-30851a70aa09",
   "metadata": {
    "tags": []
   },
   "outputs": [],
   "source": [
    "sc.pl.umap(acts, color=['Tcm','Teff','Tex','Tisg','Tn','Trm','Tsen','Tstr','pTex','sample_id', ], cmap='RdBu_r', vcenter=0)\n"
   ]
  },
  {
   "cell_type": "code",
   "execution_count": null,
   "id": "0aef1913-434e-4198-ae3c-a1a2dc7a9d9b",
   "metadata": {},
   "outputs": [],
   "source": [
    "sample_list = list(set(adata_solo.obs.sample_id))\n",
    "\n",
    "samples_in_adata = adata_solo[:, adata_solo.obs.sample_id.isin(sample_list)]"
   ]
  },
  {
   "cell_type": "code",
   "execution_count": null,
   "id": "e84f80c4-1c92-4c75-84c4-b437e41cabc5",
   "metadata": {},
   "outputs": [],
   "source": [
    "sc.pl.umap(\n",
    "    adata_solo[adata_solo.obs[\"condition\"].isin([\"10mix\"])],\n",
    "    color=[\"pct_counts_mt\", \"n_genes_by_counts\"],\n",
    "    cmap=\"inferno\",\n",
    ")"
   ]
  },
  {
   "cell_type": "code",
   "execution_count": null,
   "id": "d72f69aa-1a5c-49b0-8eb3-8152bbd5e918",
   "metadata": {},
   "outputs": [],
   "source": [
    "chemokine_receptor_genes = [\"CCR4\",\"CCR5\",\"CCR7\",\"CXCR3\",\"CXCR4\",\"CXCR5\",\"CXCR6\",\"CCL3\",\"CCL4\",\"CCL5\",\"CXCL8\",\"XCL1\",\"XCL2\"]\n",
    "chemokine_receptor_genes_sentence_case = [item.capitalize() for item in chemokine_receptor_genes]\n"
   ]
  },
  {
   "cell_type": "code",
   "execution_count": null,
   "id": "00076e73-68e5-4dfc-b103-0f165ad25a7d",
   "metadata": {},
   "outputs": [],
   "source": [
    "chemokine_receptor_genes_sentence_case"
   ]
  },
  {
   "cell_type": "code",
   "execution_count": null,
   "id": "0043e342-1739-49e6-83e5-c68132b76f63",
   "metadata": {},
   "outputs": [],
   "source": [
    "genes_in_adata = adata_solo[:, adata_solo.var_names.isin(chemokine_receptor_genes_sentence_case)].var.gene_name.to_list()"
   ]
  },
  {
   "cell_type": "code",
   "execution_count": null,
   "id": "9f35d0b0-487c-4c0b-b826-7b1754fb8564",
   "metadata": {},
   "outputs": [],
   "source": [
    "adata_solo.obs[\"condition\"].value_counts()"
   ]
  },
  {
   "cell_type": "code",
   "execution_count": null,
   "id": "a8b0f7af-3469-4466-95f1-28f3a0d7d188",
   "metadata": {},
   "outputs": [],
   "source": [
    "adata_solo.obs.columns"
   ]
  },
  {
   "cell_type": "code",
   "execution_count": null,
   "id": "c84ac287-3f17-41c0-82b9-91c539e559c0",
   "metadata": {},
   "outputs": [],
   "source": [
    "################## CHEMOKINES\n",
    "import scanpy as sc"
   ]
  },
  {
   "cell_type": "code",
   "execution_count": null,
   "id": "46c3d0ec-7715-4ead-9bea-f1a603377651",
   "metadata": {},
   "outputs": [],
   "source": [
    "sc.pl.umap(adata_solo[adata_solo.obs[\"origin\"].isin([\"til\"])], color=\"Cxcr3\")\n"
   ]
  },
  {
   "cell_type": "code",
   "execution_count": null,
   "id": "9ed6d87d-b562-4659-89e0-430350fae1cd",
   "metadata": {},
   "outputs": [],
   "source": [
    "sc.pl.umap(adata_solo[adata_solo.obs[\"origin\"].isin([\"colon\"])], color=\"Ccr4\")\n"
   ]
  },
  {
   "cell_type": "code",
   "execution_count": null,
   "id": "b07d0516-7e77-4a5d-a7a2-754d6cc96607",
   "metadata": {},
   "outputs": [],
   "source": [
    "sc.pl.umap(adata_solo[adata_solo.obs[\"sample_id\"].isin([\"GF-ICI1-plus\",\"GF-ICI2-plus\"])], color=\"Cxcr5\", frameon=False)\n"
   ]
  },
  {
   "cell_type": "code",
   "execution_count": null,
   "id": "b4a03159-df75-442a-a040-20b8e45a66b3",
   "metadata": {},
   "outputs": [],
   "source": [
    "sc.pl.umap(adata_solo[adata_solo.obs[\"sample_id\"].isin([\"10mix1\"])], color=\"Ccl5\")\n"
   ]
  },
  {
   "cell_type": "code",
   "execution_count": null,
   "id": "02f615e7-c3ac-4da9-adb8-b0d59cba1656",
   "metadata": {},
   "outputs": [],
   "source": [
    "sc.pl.umap(adata_solo[adata_solo.obs[\"sample_id\"].isin([\"10mix1\"])], color=\"Ccr4\")\n"
   ]
  },
  {
   "cell_type": "code",
   "execution_count": null,
   "id": "bddc33ea-e705-412a-b598-c403d7562c20",
   "metadata": {},
   "outputs": [],
   "source": [
    "sc.pl.umap(adata_solo[adata_solo.obs[\"sample_id\"].isin([\"10mix2\"])], color=\"Ccl5\")\n"
   ]
  },
  {
   "cell_type": "code",
   "execution_count": null,
   "id": "aaf30ef0-690b-4761-adde-404f077b2a22",
   "metadata": {},
   "outputs": [],
   "source": [
    "sc.pl.umap(adata_solo[adata_solo.obs[\"sample_id\"].isin([\"11mix1\"])], color=\"Ccl5\")\n"
   ]
  },
  {
   "cell_type": "code",
   "execution_count": null,
   "id": "c008e3a9-7a1f-487e-80c2-faec48257558",
   "metadata": {},
   "outputs": [],
   "source": [
    "sc.pl.umap(adata_solo[adata_solo.obs[\"sample_id\"].isin([\"11mix2\"])], color=\"Ccl5\")\n"
   ]
  },
  {
   "cell_type": "code",
   "execution_count": null,
   "id": "da2f420d-d646-4cbd-b074-6ede67472b75",
   "metadata": {},
   "outputs": [],
   "source": [
    "sc.pl.umap(adata_solo[adata_solo.obs[\"condition\"].isin([\"GF\"])], color=genes_in_adata)\n"
   ]
  },
  {
   "cell_type": "code",
   "execution_count": null,
   "id": "0a0d32ce-dbab-4548-9d21-87a3e8bc475e",
   "metadata": {},
   "outputs": [],
   "source": [
    "sc.pl.umap(adata_solo[adata_solo.obs[\"condition\"].isin([\"10mix\"])], color=genes_in_adata)\n"
   ]
  },
  {
   "cell_type": "code",
   "execution_count": null,
   "id": "02754ced-6195-4ecb-ae54-a1693ef9f95b",
   "metadata": {},
   "outputs": [],
   "source": [
    "sc.pl.umap(adata_solo[adata_solo.obs[\"condition\"].isin([\"11mix\"])], color=genes_in_adata)\n"
   ]
  },
  {
   "cell_type": "code",
   "execution_count": null,
   "id": "6d295ded-e448-4b0e-8968-ee80142bd357",
   "metadata": {},
   "outputs": [],
   "source": [
    "sc.pl.umap(adata_solo[adata_solo.obs[\"origin\"].isin([\"til\"])], color=genes_in_adata)\n"
   ]
  },
  {
   "cell_type": "code",
   "execution_count": null,
   "id": "457c7bea-c7ed-4598-a099-362e121d36ca",
   "metadata": {},
   "outputs": [],
   "source": [
    "sc.pl.umap(adata_solo[adata_solo.obs[\"origin\"].isin([\"colon\"])], color=genes_in_adata)\n"
   ]
  },
  {
   "cell_type": "code",
   "execution_count": null,
   "id": "d5bc90c9-0442-4049-b43a-7f65c7d2257d",
   "metadata": {},
   "outputs": [],
   "source": [
    "################## GENES TAKESHI"
   ]
  },
  {
   "cell_type": "code",
   "execution_count": null,
   "id": "db7f661e-ff09-4a90-bf98-3cf34117fb4e",
   "metadata": {},
   "outputs": [],
   "source": [
    "sc.pl.umap(adata_solo[adata_solo.obs[\"condition\"].isin([\"GF\"])], color=[\"Klrk1\", \"Ccl4\", \"Klrc1\", \"Gzma\", \"Dapk2\", \"Gzmk\", \"Gpr55\",\"Ifng\",\"Mcm5\",\"Ifit3\",\"Ramp3\",\"Cd8b1\",\"Cd8a\",\"Cd69\",\"Cd44\"])\n"
   ]
  },
  {
   "cell_type": "code",
   "execution_count": null,
   "id": "ae225ece-e637-4e14-aff0-2f89ecfd433f",
   "metadata": {},
   "outputs": [],
   "source": [
    "sc.pl.umap(adata_solo[adata_solo.obs[\"sample_id\"].isin([\"GF-ICI1-plus\",\"GF-ICI2-plus\"])], color=\"Klrk1\", frameon=False)\n"
   ]
  },
  {
   "cell_type": "code",
   "execution_count": null,
   "id": "054920ed-bce6-4977-b035-814835efc7c2",
   "metadata": {},
   "outputs": [],
   "source": [
    "sc.pl.umap(adata_solo[adata_solo.obs[\"sample_id\"].isin([\"GF-ICI1\",\"GF-ICI2\"])], color=\"Klrk1\", frameon=False)\n"
   ]
  },
  {
   "cell_type": "code",
   "execution_count": null,
   "id": "a9dcde3d-5ada-43a9-883a-4d366459927b",
   "metadata": {},
   "outputs": [],
   "source": [
    "sc.pl.umap(adata_solo[adata_solo.obs[\"sample_id\"].isin([\"10mix-ICI1\",\"10mix-ICI2\"])], color=\"Klrk1\", frameon=False)\n"
   ]
  },
  {
   "cell_type": "code",
   "execution_count": null,
   "id": "9c7cfb3c-460c-46ea-9bbc-134c7f9ea591",
   "metadata": {},
   "outputs": [],
   "source": [
    "sc.pl.umap(adata_solo[adata_solo.obs[\"sample_id\"].isin([\"11mix-ICI1\",\"11mix-ICI2\"])], color=\"Klrk1\", frameon=False)\n"
   ]
  },
  {
   "cell_type": "code",
   "execution_count": null,
   "id": "9609309a-ce14-4c9b-9345-3ce02f208a7a",
   "metadata": {},
   "outputs": [],
   "source": [
    "sc.pl.umap(adata_solo[adata_solo.obs[\"sample_id\"].isin([\"11mix1\",\"11mix2\"])], color=\"Klrk1\", frameon=False)\n"
   ]
  },
  {
   "cell_type": "code",
   "execution_count": null,
   "id": "bfdff92b-2b6a-4d9e-af11-4a04126ae0fa",
   "metadata": {},
   "outputs": [],
   "source": [
    "sc.pl.umap(adata_solo[adata_solo.obs[\"sample_id\"].isin([\"10mix1\",\"10mix2\"])], color=\"Klrk1\", frameon=False)\n"
   ]
  },
  {
   "cell_type": "code",
   "execution_count": null,
   "id": "0a1d5ccd-6da6-4c72-b4ef-453c42668ca9",
   "metadata": {},
   "outputs": [],
   "source": [
    "sc.pl.umap(adata_solo[adata_solo.obs[\"sample_id\"].isin([\"GF1\",\"GF2\"])], color=\"Klrk1\", frameon=False)\n"
   ]
  },
  {
   "cell_type": "code",
   "execution_count": null,
   "id": "d71b77a7-c351-41a8-aea0-3e2bb34d8f8b",
   "metadata": {},
   "outputs": [],
   "source": []
  },
  {
   "cell_type": "code",
   "execution_count": null,
   "id": "e5aa9755-32e0-45a7-8c5b-551cadd81ed0",
   "metadata": {},
   "outputs": [],
   "source": [
    "sc.pl.umap(adata_solo[adata_solo.obs[\"condition\"].isin([\"GF\"])], color=[\"Cd44\"])\n"
   ]
  },
  {
   "cell_type": "code",
   "execution_count": null,
   "id": "28608e82-7282-4c28-a585-2c1a683463a3",
   "metadata": {},
   "outputs": [],
   "source": [
    "sc.pl.umap(adata_solo[adata_solo.obs[\"condition\"].isin([\"10mix\"])], color=[\"Klrk1\", \"Ccl4\", \"Klrc1\", \"Gzma\", \"Dapk2\", \"Gzmk\", \"Gpr55\",\"Ifng\",\"Mcm5\",\"Ifit3\",\"Ramp3\",\"Cd8b1\",\"Cd8a\",\"Cd69\",\"Cd44\"])\n"
   ]
  },
  {
   "cell_type": "code",
   "execution_count": null,
   "id": "3b3f7a08-55d6-4553-9500-21515aa97b7b",
   "metadata": {},
   "outputs": [],
   "source": [
    "sc.pl.umap(adata_solo[adata_solo.obs[\"condition\"].isin([\"11mix\"])], color=[\"Klrk1\", \"Ccl4\", \"Klrc1\", \"Gzma\", \"Dapk2\", \"Gzmk\", \"Gpr55\",\"Ifng\",\"Mcm5\",\"Ifit3\",\"Ramp3\",\"Cd8b1\",\"Cd8a\",\"Cd69\",\"Cd44\"])\n"
   ]
  },
  {
   "cell_type": "code",
   "execution_count": null,
   "id": "d832c805-0473-47c4-8d47-c49cf008ca60",
   "metadata": {},
   "outputs": [],
   "source": [
    "sc.pl.umap(adata_solo, color=genes_in_adata)\n"
   ]
  },
  {
   "cell_type": "code",
   "execution_count": null,
   "id": "18b477be-fb23-4ccc-b542-31a588205b2b",
   "metadata": {},
   "outputs": [],
   "source": []
  },
  {
   "cell_type": "code",
   "execution_count": null,
   "id": "1c0df50b-4146-475b-b260-421ec3a6f586",
   "metadata": {},
   "outputs": [],
   "source": [
    "sc.pl.umap(adata_solo, color=[\"Klrk1\", \"Ccl4\", \"Klrc1\", \"Gzma\", \"Dapk2\", \"Gzmk\", \"Gpr55\",\"Ifng\",\"Mcm5\",\"Ifit3\",\"Ramp3\"])\n"
   ]
  },
  {
   "cell_type": "code",
   "execution_count": null,
   "id": "6b661415-a053-4a4b-a9c0-0b24ef430345",
   "metadata": {},
   "outputs": [],
   "source": [
    "df = dc.rank_sources_groups(acts, groupby='leiden', reference='rest', method='t-test_overestim_var')\n",
    "df"
   ]
  },
  {
   "cell_type": "code",
   "execution_count": null,
   "id": "cee53520-f7b5-40b0-b421-60190c770a05",
   "metadata": {},
   "outputs": [],
   "source": [
    "n_ctypes = 3\n",
    "ctypes_dict = df.groupby('group').head(n_ctypes).groupby('group')['names'].apply(lambda x: list(x)).to_dict()\n",
    "ctypes_dict"
   ]
  },
  {
   "cell_type": "code",
   "execution_count": null,
   "id": "d991bd63-f903-4cc6-af2f-7a90d246e552",
   "metadata": {},
   "outputs": [],
   "source": [
    "sc.pl.matrixplot(acts, ctypes_dict, 'leiden', dendrogram=True,\n",
    "                 colorbar_title='Z-scaled scores', vmin=-2, vmax=2, cmap='RdBu_r')"
   ]
  },
  {
   "cell_type": "code",
   "execution_count": null,
   "id": "7d55cd9f-481c-4f2b-8183-85ecb3af68cd",
   "metadata": {},
   "outputs": [],
   "source": [
    "sc.pl.violin(acts, keys=['Tex', 'Tn','Tisg'], groupby='leiden')"
   ]
  },
  {
   "cell_type": "code",
   "execution_count": null,
   "id": "874230a4-a2d7-4368-a401-b0edee2f0dec",
   "metadata": {},
   "outputs": [],
   "source": [
    "sc.pl.violin(acts, keys=['Tsen', 'Tstr','Trm'], groupby='leiden')"
   ]
  },
  {
   "cell_type": "code",
   "execution_count": null,
   "id": "af041308-34a3-4d81-b85a-fed5cd892b51",
   "metadata": {
    "tags": []
   },
   "outputs": [],
   "source": [
    "annotation_dict = df.groupby('group').head(1).set_index('group')['names'].to_dict()\n",
    "annotation_dict\n"
   ]
  },
  {
   "cell_type": "code",
   "execution_count": null,
   "id": "73c2a057-bed3-4b7a-9118-fa0349f91b8c",
   "metadata": {},
   "outputs": [],
   "source": [
    "annotation_dict_manual = {'0': 'T1',\n",
    " '1': 'T3',\n",
    " '2': 'T1',\n",
    " '3': 'T2',\n",
    " '4': 'T3',\n",
    " '5': 'T2',\n",
    " '6': 'T3'}"
   ]
  },
  {
   "cell_type": "code",
   "execution_count": null,
   "id": "e13d275b-13f1-4f81-9789-12dbaffab0e4",
   "metadata": {},
   "outputs": [],
   "source": [
    "adata_solo"
   ]
  },
  {
   "cell_type": "code",
   "execution_count": null,
   "id": "dbfa6e62-0a5e-4ab4-8c7a-9c5039cc17d0",
   "metadata": {},
   "outputs": [],
   "source": [
    "adata_solo.obs.cell_type.value_counts()"
   ]
  },
  {
   "cell_type": "code",
   "execution_count": null,
   "id": "78ea6086-9c51-4328-bc18-a08b34ebd8a5",
   "metadata": {},
   "outputs": [],
   "source": [
    "fig, axs = plt.subplots(1,1,figsize = (5,5))\n",
    "sc.pl.umap(adata_solo, color=[\"leiden\"], wspace=1, legend_loc=\"on data\", ax=axs , frameon=False, title=\"Colon & TIL integration\")\n",
    "plt.show()\n",
    "fig.savefig('clusters_numbers.png')\n",
    "fig.savefig('clusters_numbers.pdf')\n",
    "fig.savefig('clusters_numbers.svg')"
   ]
  },
  {
   "cell_type": "code",
   "execution_count": null,
   "id": "8eea85a4-b3ac-467f-8cf4-6643132a65e7",
   "metadata": {},
   "outputs": [],
   "source": [
    "# Add cell type column based on annotation\n",
    "adata_solo.obs['cell_type'] = [annotation_dict_manual[clust] for clust in adata_solo.obs['leiden']]\n",
    "\n",
    "# Visualize\n",
    "fig, axs = plt.subplots(1,1,figsize = (5,5))\n",
    "sc.pl.umap(adata_solo, color='cell_type',legend_loc=\"on data\", ax=axs, frameon=False,title=\"Colon & TIL integration\")\n",
    "plt.show()\n",
    "fig.savefig('clusters_coarse.png')\n",
    "fig.savefig('clusters_coarse.pdf')\n",
    "fig.savefig('clusters_coarse.svg')"
   ]
  },
  {
   "cell_type": "code",
   "execution_count": null,
   "id": "70942ad2-b108-45a5-8093-b9fb8d393879",
   "metadata": {},
   "outputs": [],
   "source": [
    "fig, axs = plt.subplots(1,1,figsize = (5,5))\n",
    "sc.pl.umap(adata_solo, color=[\"leiden\"], wspace=1, legend_loc=\"on data\", ax=axs , frameon=False)\n",
    "plt.show()\n",
    "fig.savefig('fig.png')"
   ]
  },
  {
   "cell_type": "code",
   "execution_count": null,
   "id": "6b28a1a5-6396-43a2-9d80-1aeecc6c3788",
   "metadata": {},
   "outputs": [],
   "source": [
    "# Add cell type column based on annotation\n",
    "adata_solo.obs['cell_type'] = [annotation_dict[clust] for clust in adata_solo.obs['leiden']]\n",
    "\n",
    "# Visualize\n",
    "fig, axs = plt.subplots(1,1,figsize = (5,5))\n",
    "sc.pl.umap(adata_solo, color='cell_type',legend_loc=\"on data\", ax=axs, frameon=False,title=\"Colon & TIL integration\")\n",
    "plt.show()\n",
    "fig.savefig('clusters_cell_type.png')\n",
    "fig.savefig('clusters_cell_type.pdf')\n",
    "fig.savefig('clusters_cell_type.svg')"
   ]
  },
  {
   "cell_type": "code",
   "execution_count": null,
   "id": "06b7d6ae-572a-45d6-9fd3-4eb8561e74ef",
   "metadata": {},
   "outputs": [],
   "source": [
    "# Add cell type column based on annotation\n",
    "adata_solo.obs['cell_type'] = [annotation_dict[clust] for clust in adata_solo.obs['leiden']]\n",
    "\n",
    "# Visualize\n",
    "fig, axs = plt.subplots(1,1,figsize = (5,5))\n",
    "sc.pl.umap(adata_solo[adata_solo.obs[\"sample_id\"].isin([\"GF1\",\"GF2\"])], color='cell_type',legend_loc=\"on data\", ax=axs, frameon=False,title=\"Colon & TIL integration\")\n",
    "\n",
    "plt.show()\n",
    "#fig.savefig('clusters_cell_type_GF.png')\n",
    "#fig.savefig('clusters_cell_type_GF.pdf')\n",
    "#fig.savefig('clusters_cell_type_GF.svg')"
   ]
  },
  {
   "cell_type": "code",
   "execution_count": null,
   "id": "05ec10cc-83c2-4da6-85e4-4d4ab8a3f397",
   "metadata": {},
   "outputs": [],
   "source": [
    "fig, axs = plt.subplots(1,1,figsize = (5,5))\n",
    "sc.pl.umap(adata_solo[adata_solo.obs[\"sample_id\"].isin([\"GF1\",\"GF2\"])], color='origin',frameon=False,title=\"Colon & TIL integration\", ax=axs)\n",
    "plt.show()\n",
    "#fig.savefig('clusters_origin.png')\n",
    "#fig.savefig('clusters_origin.pdf')\n",
    "#fig.savefig('clusters_origin.svg')"
   ]
  },
  {
   "cell_type": "code",
   "execution_count": null,
   "id": "6b9d710b-9fd5-4c18-8535-40346abb7de4",
   "metadata": {
    "tags": []
   },
   "outputs": [],
   "source": [
    "# Add cell type column based on annotation\n",
    "adata_solo.obs['cell_type'] = [annotation_dict[clust] for clust in adata_solo.obs['leiden']]\n",
    "\n",
    "# Visualize\n",
    "fig, axs = plt.subplots(1,1,figsize = (5,5))\n",
    "sc.pl.umap(adata_solo[adata_solo.obs[\"condition\"].isin([\"GF\"])], color='cell_type',legend_loc=\"on data\", ax=axs, frameon=False,title=\"Colon & TIL integration\")\n",
    "\n",
    "plt.show()\n",
    "#fig.savefig('clusters_cell_type_GF.png')\n",
    "#fig.savefig('clusters_cell_type_GF.pdf')\n",
    "#fig.savefig('clusters_cell_type_GF.svg')"
   ]
  },
  {
   "cell_type": "code",
   "execution_count": null,
   "id": "184a074a-4dbe-4ffa-b2f9-074e89e59903",
   "metadata": {
    "tags": []
   },
   "outputs": [],
   "source": [
    "# Add cell type column based on annotation\n",
    "adata_solo.obs['cell_type'] = [annotation_dict[clust] for clust in adata_solo.obs['leiden']]\n",
    "\n",
    "# Visualize\n",
    "fig, axs = plt.subplots(1,1,figsize = (5,5))\n",
    "sc.pl.umap(adata_solo[adata_solo.obs[\"condition\"].isin([\"GF-plus\"])], color='cell_type',legend_loc=\"on data\", ax=axs, frameon=False,title=\"Colon & TIL integration\")\n",
    "\n",
    "plt.show()\n",
    "#fig.savefig('clusters_cell_type_GF.png')\n",
    "#fig.savefig('clusters_cell_type_GF.pdf')\n",
    "#fig.savefig('clusters_cell_type_GF.svg')"
   ]
  },
  {
   "cell_type": "code",
   "execution_count": null,
   "id": "1bfdb0dc-dde8-414e-81c0-0e2d1b6c5a68",
   "metadata": {
    "tags": []
   },
   "outputs": [],
   "source": [
    "# Add cell type column based on annotation\n",
    "adata_solo.obs['cell_type'] = [annotation_dict[clust] for clust in adata_solo.obs['leiden']]\n",
    "\n",
    "# Visualize\n",
    "fig, axs = plt.subplots(1,1,figsize = (5,5))\n",
    "sc.pl.umap(adata_solo[adata_solo.obs[\"condition\"].isin([\"11mix\"])], color='cell_type',legend_loc=\"on data\", ax=axs, frameon=False,title=\"Colon & TIL integration\")\n",
    "\n",
    "plt.show()\n",
    "#fig.savefig('clusters_cell_type_GF.png')\n",
    "#fig.savefig('clusters_cell_type_GF.pdf')\n",
    "#fig.savefig('clusters_cell_type_GF.svg')"
   ]
  },
  {
   "cell_type": "code",
   "execution_count": null,
   "id": "849c77af-0f65-4b53-8ab8-4e5cb63ca0e1",
   "metadata": {},
   "outputs": [],
   "source": [
    "fig, axs = plt.subplots(1,1,figsize = (5,5))\n",
    "sc.pl.umap(adata_solo[adata_solo.obs[\"condition\"].isin([\"GF\"])], color='origin',frameon=False,title=\"Colon & TIL integration\", ax=axs)\n",
    "plt.show()\n",
    "#fig.savefig('clusters_origin.png')\n",
    "#fig.savefig('clusters_origin.pdf')\n",
    "#fig.savefig('clusters_origin.svg')"
   ]
  },
  {
   "cell_type": "code",
   "execution_count": null,
   "id": "4be650d2-0ea2-40d2-89ed-146f66458bc6",
   "metadata": {},
   "outputs": [],
   "source": [
    "fig, axs = plt.subplots(1,1,figsize = (5,5))\n",
    "sc.pl.umap(adata_solo[adata_solo.obs[\"condition\"].isin([\"GF-plus\"])], color='origin',frameon=False,title=\"Colon & TIL integration\", ax=axs)\n",
    "plt.show()\n",
    "#fig.savefig('clusters_origin.png')\n",
    "#fig.savefig('clusters_origin.pdf')\n",
    "#fig.savefig('clusters_origin.svg')"
   ]
  },
  {
   "cell_type": "code",
   "execution_count": null,
   "id": "cd83a1e5-4aef-466f-ad42-eb1cd87b5eac",
   "metadata": {},
   "outputs": [],
   "source": [
    "fig, axs = plt.subplots(1,1,figsize = (5,5))\n",
    "sc.pl.umap(adata_solo[adata_solo.obs[\"condition\"].isin([\"10mix\"])], color='origin',frameon=False,title=\"Colon & TIL integration\", ax=axs)\n",
    "plt.show()\n",
    "#fig.savefig('clusters_origin.png')\n",
    "#fig.savefig('clusters_origin.pdf')\n",
    "#fig.savefig('clusters_origin.svg')"
   ]
  },
  {
   "cell_type": "code",
   "execution_count": null,
   "id": "b4a77b97-1e45-4ba6-bb82-7a30f9102a54",
   "metadata": {},
   "outputs": [],
   "source": [
    "fig, axs = plt.subplots(1,1,figsize = (5,5))\n",
    "sc.pl.umap(adata_solo[adata_solo.obs[\"condition\"].isin([\"11mix\"])], color='origin',frameon=False,title=\"Colon & TIL integration\", ax=axs)\n",
    "plt.show()\n",
    "#fig.savefig('clusters_origin.png')\n",
    "#fig.savefig('clusters_origin.pdf')\n",
    "#fig.savefig('clusters_origin.svg')"
   ]
  },
  {
   "cell_type": "code",
   "execution_count": null,
   "id": "7ecd7ac8-dd2a-496b-a92d-f62dc3230d34",
   "metadata": {},
   "outputs": [],
   "source": [
    "fig, axs = plt.subplots(1,1,figsize = (5,5))\n",
    "sc.pl.umap(adata_solo, color='origin',frameon=False,title=\"Colon & TIL integration\", ax=axs)\n",
    "plt.show()\n",
    "fig.savefig('clusters_origin.png')\n",
    "fig.savefig('clusters_origin.pdf')\n",
    "fig.savefig('clusters_origin.svg')"
   ]
  },
  {
   "cell_type": "code",
   "execution_count": null,
   "id": "3335a3e2-5db2-4678-ac11-1e5b12a656dc",
   "metadata": {},
   "outputs": [],
   "source": [
    "fig, axs = plt.subplots(1,1,figsize = (5,5))\n",
    "sc.pl.umap(adata_solo, color='condition',frameon=False,title=\"Colon & TIL integration\", ax=axs)\n",
    "plt.show()\n",
    "fig.savefig('clusters_condition.png')\n",
    "fig.savefig('clusters_condition.pdf')\n",
    "fig.savefig('clusters_condition.svg')"
   ]
  },
  {
   "cell_type": "code",
   "execution_count": null,
   "id": "b5e284f0-8f37-43ee-ac5a-a54cad9e03f8",
   "metadata": {},
   "outputs": [],
   "source": [
    "fig, axs = plt.subplots(1,1,figsize = (5,5))\n",
    "sc.pl.umap(adata_solo, color='sample_id',frameon=False,title=\"Colon & TIL integration\", ax=axs)\n",
    "plt.show()\n",
    "fig.savefig('clusters_sample_id.png')\n",
    "fig.savefig('clusters_sample_id.pdf')\n",
    "fig.savefig('clusters_sample_id.svg')"
   ]
  },
  {
   "cell_type": "code",
   "execution_count": null,
   "id": "b02cae75-d8e1-4c6d-9052-766f871671f1",
   "metadata": {},
   "outputs": [],
   "source": [
    "adata_solo.obs"
   ]
  },
  {
   "cell_type": "code",
   "execution_count": null,
   "id": "c6161b01-42c1-46d6-97ce-c98f69c37fdd",
   "metadata": {
    "tags": []
   },
   "outputs": [],
   "source": [
    "adata_solo.obs.groupby([\"sample_id\",\"cell_type\"]).count()"
   ]
  },
  {
   "cell_type": "code",
   "execution_count": null,
   "id": "9a4f8a68-2484-4d80-ac5b-92b04dfc809a",
   "metadata": {},
   "outputs": [],
   "source": [
    "import pandas as pd\n",
    "\n",
    "# Assuming adata_solo.obs.cell_type.value_counts() generates the cell type counts\n",
    "\n",
    "# Get the cell type value counts\n",
    "cell_type_counts = adata_solo.obs.sample_id.value_counts()\n",
    "\n",
    "# Create a DataFrame from the cell type value counts\n",
    "sample_id_df = pd.DataFrame(cell_type_counts).reset_index()\n",
    "\n",
    "# Rename columns\n",
    "sample_id_df.columns = ['sample_id', 'count']\n",
    "\n",
    "# Display the resulting DataFrame\n",
    "print(sample_id_df)\n"
   ]
  },
  {
   "cell_type": "code",
   "execution_count": null,
   "id": "52c23ba2-10b5-4290-9513-286f3a908a5d",
   "metadata": {},
   "outputs": [],
   "source": [
    "sample_id_df"
   ]
  },
  {
   "cell_type": "code",
   "execution_count": null,
   "id": "b41c26ed-2b0d-4f64-859a-e1c816a2e1f9",
   "metadata": {},
   "outputs": [],
   "source": [
    "import pandas as pd\n",
    "\n",
    "# Assuming adata_solo.obs.cell_type.value_counts() generates the cell type counts\n",
    "\n",
    "# Get the cell type value counts\n",
    "cell_type_counts = adata_solo.obs.sample_id.value_counts()\n",
    "\n",
    "# Create a DataFrame from the cell type value counts\n",
    "cell_type_df = pd.DataFrame(cell_type_counts).reset_index()\n",
    "\n",
    "# Rename columns\n",
    "cell_type_df.columns = ['cell_type', 'count']\n",
    "\n",
    "# Display the resulting DataFrame\n",
    "print(cell_type_df)\n"
   ]
  },
  {
   "cell_type": "code",
   "execution_count": null,
   "id": "845afd99-be9b-44da-97c0-728521c2afb9",
   "metadata": {},
   "outputs": [],
   "source": [
    "cell_type_df"
   ]
  },
  {
   "cell_type": "code",
   "execution_count": null,
   "id": "1843dd90-adeb-428f-812a-7319df48f87d",
   "metadata": {},
   "outputs": [],
   "source": [
    "from matplotlib.ticker import MultipleLocator"
   ]
  },
  {
   "cell_type": "code",
   "execution_count": null,
   "id": "200a4999-53b4-462c-8852-e410853dd658",
   "metadata": {},
   "outputs": [],
   "source": [
    "import pandas as pd\n",
    "import matplotlib.pyplot as plt\n",
    "\n",
    "# Assuming cell_type_df is your DataFrame with cell type counts\n",
    "\n",
    "# Create a bar plot using matplotlib\n",
    "plt.figure(figsize=(10, 6))  # Set the figure size\n",
    "\n",
    "# Plot the data\n",
    "plt.barh(sample_id_df['sample_id'], sample_id_df['count'], fill=False)\n",
    "\n",
    "# Customize the plot\n",
    "plt.xlabel('N. of cells')\n",
    "plt.ylabel('Sample')\n",
    "plt.title('Number of cells per sample after filtering')\n",
    "plt.xticks(rotation=45)  # Rotate x-axis labels for better visibility\n",
    "\n",
    "x_locator = MultipleLocator(base=500)\n",
    "plt.gca().xaxis.set_major_locator(x_locator)\n",
    "\n",
    "# Show the plot\n",
    "plt.tight_layout()  # Adjust layout for better spacing\n",
    "plt.show()\n"
   ]
  },
  {
   "cell_type": "code",
   "execution_count": null,
   "id": "5a670c81-f9ba-47b8-913d-6569524cb65d",
   "metadata": {},
   "outputs": [],
   "source": [
    "import pandas as pd\n",
    "import matplotlib.pyplot as plt\n",
    "\n",
    "# Assuming cell_type_df is your DataFrame with cell type counts\n",
    "\n",
    "# Create a bar plot using matplotlib\n",
    "plt.figure(figsize=(10, 6))  # Set the figure size\n",
    "\n",
    "# Plot the data\n",
    "plt.bar(cell_type_df['cell_type'], cell_type_df['count'], color='#b2abd2')\n",
    "\n",
    "# Customize the plot\n",
    "plt.xlabel('Cell Type')\n",
    "plt.ylabel('N. of cells')\n",
    "plt.title('Cell Type Counts')\n",
    "plt.xticks(rotation=90)  # Rotate x-axis labels for better visibility\n",
    "\n",
    "# Show the plot\n",
    "plt.tight_layout()  # Adjust layout for better spacing\n",
    "plt.show()\n"
   ]
  },
  {
   "cell_type": "code",
   "execution_count": null,
   "id": "9b7b9fea-fb14-4630-94a1-78e93558a18a",
   "metadata": {},
   "outputs": [],
   "source": [
    "sc.pl.umap(\n",
    "    adata_solo[adata_solo.obs[\"condition\"].isin([\"10mix\"])],\n",
    "    color=[\"pct_counts_mt\", \"n_genes_by_counts\"],\n",
    "    cmap=\"inferno\",\n",
    ")"
   ]
  },
  {
   "cell_type": "code",
   "execution_count": null,
   "id": "399b5976-c628-4dba-8bb6-24541cc4f9f6",
   "metadata": {},
   "outputs": [],
   "source": [
    "subset = adata_solo[adata_solo.obs[\"condition\"].isin([\"11mix\"])]"
   ]
  },
  {
   "cell_type": "code",
   "execution_count": null,
   "id": "6dff0554-c09d-44db-92e9-a0435a3d369e",
   "metadata": {},
   "outputs": [],
   "source": [
    "subset.obs.cell_type.value_counts()"
   ]
  },
  {
   "cell_type": "code",
   "execution_count": null,
   "id": "2a3c8f6c-5c5e-4a57-acb7-161a8eeddb35",
   "metadata": {},
   "outputs": [],
   "source": [
    "subset.obs.origin.value_counts()"
   ]
  },
  {
   "cell_type": "code",
   "execution_count": null,
   "id": "039be560-16c7-4543-b0b1-952edb22f1ce",
   "metadata": {},
   "outputs": [],
   "source": [
    "\n",
    "\n",
    "subset = adata_solo[adata_solo.obs[\"condition\"].isin([\"10mix\"])]"
   ]
  },
  {
   "cell_type": "code",
   "execution_count": null,
   "id": "f2d823ab-724a-480d-96f3-db9c2f91ab32",
   "metadata": {},
   "outputs": [],
   "source": [
    "subset.obs.cell_type.value_counts()"
   ]
  },
  {
   "cell_type": "code",
   "execution_count": null,
   "id": "fe2d129b-9830-4986-99b4-18e58eadcb1b",
   "metadata": {},
   "outputs": [],
   "source": [
    "subset.obs.origin.value_counts()"
   ]
  },
  {
   "cell_type": "code",
   "execution_count": null,
   "id": "799b4342-a942-4004-9f9a-67515182fd04",
   "metadata": {},
   "outputs": [],
   "source": [
    "\n",
    "\n",
    "subset = adata_solo[adata_solo.obs[\"condition\"].isin([\"GF\"])]"
   ]
  },
  {
   "cell_type": "code",
   "execution_count": null,
   "id": "a72a004d-43a7-44f5-8787-e9345e5a8662",
   "metadata": {},
   "outputs": [],
   "source": [
    "subset.obs.cell_type.value_counts()"
   ]
  },
  {
   "cell_type": "code",
   "execution_count": null,
   "id": "5ae2f765-9c99-4b24-9a08-a3e859e124f6",
   "metadata": {},
   "outputs": [],
   "source": [
    "subset.obs.origin.value_counts()"
   ]
  },
  {
   "cell_type": "code",
   "execution_count": null,
   "id": "5d73cfa5-79a5-4661-8475-65a5e75d44e7",
   "metadata": {},
   "outputs": [],
   "source": [
    "\n",
    "\n",
    "subset = adata_solo[adata_solo.obs[\"condition\"].isin([\"GF-plus\"])]"
   ]
  },
  {
   "cell_type": "code",
   "execution_count": null,
   "id": "c620ade1-d284-48e5-b456-3f7c47f71d61",
   "metadata": {},
   "outputs": [],
   "source": [
    "subset.obs.cell_type.value_counts()"
   ]
  },
  {
   "cell_type": "code",
   "execution_count": null,
   "id": "1d2b92a1-bf02-4bd2-a661-4f6a7a1977ee",
   "metadata": {},
   "outputs": [],
   "source": [
    "subset.obs.origin.value_counts()"
   ]
  },
  {
   "cell_type": "code",
   "execution_count": null,
   "id": "b8522b2d-cac8-4784-8c12-df7b79296263",
   "metadata": {},
   "outputs": [],
   "source": [
    "sc.pl.umap(\n",
    "    adata_solo[adata_solo.obs[\"cell_type\"].isin([\"Tex\"])],\n",
    "    color=[\"pct_counts_mt\", \"n_genes_by_counts\"],\n",
    "    cmap=\"inferno\",\n",
    ")\n",
    "\n",
    "sc.pl.umap(adata_solo[adata_solo.obs[\"cell_type\"].isin([\"Tex\"])], color=[\"total_counts\", \"leiden\"], vmax=20000)"
   ]
  },
  {
   "cell_type": "code",
   "execution_count": null,
   "id": "62f534c1-0ce7-4e0a-9bc7-24c4a4c2930d",
   "metadata": {},
   "outputs": [],
   "source": []
  },
  {
   "cell_type": "code",
   "execution_count": null,
   "id": "0b606263-7b57-4674-8d03-9c1137156214",
   "metadata": {},
   "outputs": [],
   "source": []
  },
  {
   "cell_type": "code",
   "execution_count": null,
   "id": "bce26dd6-65e1-4f1b-88aa-416c66b11763",
   "metadata": {},
   "outputs": [],
   "source": []
  },
  {
   "cell_type": "code",
   "execution_count": null,
   "id": "b7a2c796-a2a7-4014-950d-aefa7589d97a",
   "metadata": {},
   "outputs": [],
   "source": []
  },
  {
   "cell_type": "code",
   "execution_count": null,
   "id": "f90ea0fb-77df-4813-8221-7e584da9a487",
   "metadata": {},
   "outputs": [],
   "source": []
  },
  {
   "cell_type": "code",
   "execution_count": null,
   "id": "d9870de3-3ca6-4673-bd16-4f53ff636506",
   "metadata": {},
   "outputs": [],
   "source": []
  },
  {
   "cell_type": "code",
   "execution_count": null,
   "id": "7f502c5d-c379-4bbb-957a-ceca4da997c2",
   "metadata": {},
   "outputs": [],
   "source": [
    "pd.set_option('display.max_rows', 100)"
   ]
  },
  {
   "cell_type": "code",
   "execution_count": null,
   "id": "dbe387ca-bb9d-4b96-8dba-022dea57169b",
   "metadata": {},
   "outputs": [],
   "source": [
    "adata_solo.obs.sample_id.value_counts()"
   ]
  },
  {
   "cell_type": "code",
   "execution_count": null,
   "id": "3557676e-893d-4778-a95b-f57eb065dc80",
   "metadata": {},
   "outputs": [],
   "source": [
    "fig, axs = plt.subplots(1,1,figsize = (5,5))\n",
    "sc.pl.umap(\n",
    "    adata_solo[adata_solo.obs[\"sample_id\"].isin([\"GF2\"])],\n",
    "    color=[\"pct_counts_mt\"],\n",
    "    cmap=\"inferno\",\n",
    "    ax = axs,\n",
    "    title=\"pct_counts_mt GF2 Colon\"\n",
    ")\n",
    "plt.show()\n",
    "fig.savefig('GF2_pct_counts_mt.png')\n",
    "fig.savefig('GF2_pct_counts_mt.pdf')\n",
    "fig.savefig('GF2_pct_counts_mt.svg')"
   ]
  },
  {
   "cell_type": "code",
   "execution_count": null,
   "id": "93c68c21-303f-4c82-bb82-6057baccc240",
   "metadata": {},
   "outputs": [],
   "source": [
    "fig, axs = plt.subplots(figsize = (5,5))\n",
    "sc.pl.umap(\n",
    "    adata_solo[adata_solo.obs[\"sample_id\"].isin([\"GF2\"])],\n",
    "    color=[\"n_genes_by_counts\"],\n",
    "    cmap=\"inferno\",\n",
    "    ax = axs,\n",
    "    title=\"n_genes_by_counts GF2 Colon \"\n",
    ")\n",
    "plt.show()\n",
    "fig.savefig('GF2n_genes_by_counts.png')\n",
    "fig.savefig('GF2n_genes_by_counts.pdf')\n",
    "fig.savefig('GF2n_genes_by_counts.svg')"
   ]
  },
  {
   "cell_type": "code",
   "execution_count": null,
   "id": "138d0393-2bf9-4608-959a-836bbf5aa1ed",
   "metadata": {},
   "outputs": [],
   "source": [
    "fig, axs = plt.subplots(figsize = (5,5))\n",
    "sc.pl.umap(adata_solo[adata_solo.obs[\"sample_id\"].isin([\"GF2\"])], color=[\"total_counts\"], ax = axs, vmax=20000,   title=\"total counts GF2 Colon \")\n",
    "plt.show()\n",
    "fig.savefig('GF2_total_counts.png')\n",
    "fig.savefig('GF2_total_counts.pdf')\n",
    "fig.savefig('GF2_total_counts.svg')\n"
   ]
  },
  {
   "cell_type": "code",
   "execution_count": null,
   "id": "8adceac1-41f7-4b1c-859f-d5b10414c6b6",
   "metadata": {},
   "outputs": [],
   "source": [
    "fig, axs = plt.subplots(figsize = (8,8))\n",
    "sc.pl.umap(adata_solo[adata_solo.obs[\"sample_id\"].isin([\"GF2\"])], color=[\"cell_type\"], ax = axs, vmax=20000, title=\"Cell type prediction GF2 Colon \")\n",
    "plt.show()\n",
    "fig.savefig('GF2_cell_type.png')\n",
    "fig.savefig('GF2_cell_type.pdf')\n",
    "fig.savefig('GF2_cell_type.svg')\n"
   ]
  },
  {
   "cell_type": "code",
   "execution_count": null,
   "id": "8960cc0a-c6fd-4da4-b593-c5fcb96639a4",
   "metadata": {},
   "outputs": [],
   "source": [
    "sc.pl.umap(\n",
    "    adata_solo[adata_solo.obs[\"sample_id\"].isin([\"GF2\"])],\n",
    "    color=[\"pct_counts_mt\", \"n_genes_by_counts\"],\n",
    "    cmap=\"inferno\",\n",
    ")\n",
    "\n",
    "sc.pl.umap(adata_solo[adata_solo.obs[\"sample_id\"].isin([\"GF2\"])], color=[\"total_counts\", \"leiden\"], vmax=20000)"
   ]
  },
  {
   "cell_type": "code",
   "execution_count": null,
   "id": "3dbd6d1f-715b-4743-a0f8-7b324539a3fa",
   "metadata": {},
   "outputs": [],
   "source": [
    "sc.pl.umap(adata_solo, color=[\"condition\"], wspace=1)\n"
   ]
  },
  {
   "cell_type": "code",
   "execution_count": null,
   "id": "1461eab8-d7aa-4748-bb85-56c81293ff43",
   "metadata": {},
   "outputs": [],
   "source": [
    "# The final adata filtered contains raw and log counts \n",
    "adata_solo.write_h5ad(\"/data/projects/2021/MicrobialMetabolites/single-cell-sorted-cd8/results/adata_solo_integrated.h5ad\") "
   ]
  },
  {
   "cell_type": "code",
   "execution_count": null,
   "id": "010dfd32-ac82-46dc-b93f-2ec574a6a50e",
   "metadata": {},
   "outputs": [],
   "source": [
    "adata_solo = sc.read_h5ad(\"/data/projects/2021/MicrobialMetabolites/single-cell-sorted-cd8/results/adata_solo_integrated.h5ad\")"
   ]
  },
  {
   "cell_type": "code",
   "execution_count": null,
   "id": "67a3b510-5251-47ce-bd1a-28eb4be59f4a",
   "metadata": {},
   "outputs": [],
   "source": [
    "genes_heatmap = [\"Klrk1\", \"Ccl4\", \"Klrc1\", \"Gzma\", \"Dapk2\", \"Gzmk\", \"Gpr55\",\"Ifng\",\"Mcm5\",\"Ifit3\",\"Ramp3\"]"
   ]
  },
  {
   "cell_type": "code",
   "execution_count": null,
   "id": "3cec7f8c-b8c4-444e-b7ca-1e8a888b7251",
   "metadata": {},
   "outputs": [],
   "source": [
    "adata_solo.raw.var_names.index = adata_solo.var.ensembl_id"
   ]
  },
  {
   "cell_type": "code",
   "execution_count": null,
   "id": "a0986768-bb63-489e-8987-3756215646a2",
   "metadata": {},
   "outputs": [],
   "source": [
    "adata_solo"
   ]
  },
  {
   "cell_type": "code",
   "execution_count": null,
   "id": "b78810ad-a828-46cf-b79b-49cc3bf27f45",
   "metadata": {
    "tags": []
   },
   "outputs": [],
   "source": [
    "adata_solo.var"
   ]
  },
  {
   "cell_type": "code",
   "execution_count": null,
   "id": "abedcf8f-6292-43b3-88b7-dfefd750bace",
   "metadata": {},
   "outputs": [],
   "source": [
    "sc.pl.matrixplot(adata_solo, genes_heatmap, groupby=\"leiden\", colorbar_title='Z-scaled scores', vmin=-2, vmax=2, cmap='RdBu_r')"
   ]
  },
  {
   "cell_type": "code",
   "execution_count": null,
   "id": "4661981e-d0ce-4add-b209-b6b8549200bb",
   "metadata": {},
   "outputs": [],
   "source": [
    "adata_solo.var.index = adata_solo.var.gene_name"
   ]
  },
  {
   "cell_type": "code",
   "execution_count": null,
   "id": "a09a1e48-7042-4385-9cce-7ba56a8c1ba2",
   "metadata": {},
   "outputs": [],
   "source": [
    "adata_solo.var"
   ]
  },
  {
   "cell_type": "code",
   "execution_count": null,
   "id": "8eb3bab6-437b-4219-9287-cc0be782c622",
   "metadata": {},
   "outputs": [],
   "source": [
    "sc.pl.heatmap(df, markers, groupby='bulk_labels', swap_axes=True)"
   ]
  },
  {
   "cell_type": "code",
   "execution_count": null,
   "id": "1a8c5714-1930-4836-8d98-95513b7aa0fa",
   "metadata": {},
   "outputs": [],
   "source": [
    "df = dc.rank_sources_groups(acts, groupby='leiden', reference='rest', method='t-test_overestim_var')\n",
    "df.head()"
   ]
  },
  {
   "cell_type": "code",
   "execution_count": null,
   "id": "8a3468cc-ef12-40b6-95dc-32a6b9247407",
   "metadata": {},
   "outputs": [],
   "source": [
    "adata_solo.obs[\"cell_type\"]"
   ]
  },
  {
   "cell_type": "code",
   "execution_count": null,
   "id": "6f77c99a-204d-476a-963f-5f19692898d2",
   "metadata": {},
   "outputs": [],
   "source": []
  },
  {
   "cell_type": "code",
   "execution_count": null,
   "id": "d790eb16-58d8-4b16-84f2-d72e1db225fe",
   "metadata": {
    "tags": []
   },
   "outputs": [],
   "source": [
    "sc.tl.rank_genes_groups(adata_solo, 'leiden', method='wilcoxon')"
   ]
  },
  {
   "cell_type": "code",
   "execution_count": null,
   "id": "4d7f4d30-9254-4168-9957-d1498b8b4a31",
   "metadata": {},
   "outputs": [],
   "source": [
    "sc.pp.log1p(adata_solo)"
   ]
  },
  {
   "cell_type": "code",
   "execution_count": null,
   "id": "7869fa99-8e5f-47b5-aa25-c20baf907bac",
   "metadata": {},
   "outputs": [],
   "source": [
    "adata_solo = adata_solo[~adata_solo.obs['cell_type'].isnull()]"
   ]
  },
  {
   "cell_type": "code",
   "execution_count": null,
   "id": "991176d4-09c7-43db-88b8-be746362b949",
   "metadata": {},
   "outputs": [],
   "source": []
  }
 ],
 "metadata": {
  "kernelspec": {
   "display_name": "Python 3 (ipykernel)",
   "language": "python",
   "name": "python3"
  },
  "language_info": {
   "codemirror_mode": {
    "name": "ipython",
    "version": 3
   },
   "file_extension": ".py",
   "mimetype": "text/x-python",
   "name": "python",
   "nbconvert_exporter": "python",
   "pygments_lexer": "ipython3",
   "version": "3.11.8"
  }
 },
 "nbformat": 4,
 "nbformat_minor": 5
}
