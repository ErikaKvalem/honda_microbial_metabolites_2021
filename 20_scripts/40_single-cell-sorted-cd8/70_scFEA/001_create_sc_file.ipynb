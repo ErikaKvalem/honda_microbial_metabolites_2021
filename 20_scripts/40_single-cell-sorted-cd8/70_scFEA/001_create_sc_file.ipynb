{
 "cells": [
  {
   "cell_type": "markdown",
   "id": "e252b31d-1acd-4740-b153-d511c8bebffb",
   "metadata": {},
   "source": [
    "# scFEA \n",
    "## Constructing the test SC file\n",
    "- The input of scFEA is a single cell profile matrix, where row is gene and column is cell- \n",
    "- I am using adata_solo_integrated.h5ad from single cell experiment Honda 2019 & 2021 integrated"
   ]
  },
  {
   "cell_type": "code",
   "execution_count": 1,
   "id": "c4423d9e-7191-40a1-811c-95e404dd93b0",
   "metadata": {},
   "outputs": [],
   "source": [
    "import scanpy as sc"
   ]
  },
  {
   "cell_type": "code",
   "execution_count": 2,
   "id": "a418cd02-9e72-44d9-955f-7b1550a3c54e",
   "metadata": {},
   "outputs": [
    {
     "name": "stderr",
     "output_type": "stream",
     "text": [
      "/home/kvalem/.conda/envs/scanpy/lib/python3.12/site-packages/anndata/_core/anndata.py:1820: UserWarning: Variable names are not unique. To make them unique, call `.var_names_make_unique`.\n",
      "  utils.warn_names_duplicates(\"var\")\n"
     ]
    }
   ],
   "source": [
    "adata = sc.read_h5ad(\"/data/projects/2021/MicrobialMetabolites/single-cell-sorted-cd8/results/adata_solo_integrated.h5ad\")"
   ]
  },
  {
   "cell_type": "code",
   "execution_count": 3,
   "id": "c3601390-35bc-41bf-9a0e-4f07ed5b732b",
   "metadata": {},
   "outputs": [
    {
     "data": {
      "text/plain": [
       "AnnData object with n_obs × n_vars = 74491 × 12052\n",
       "    obs: 'COND', '_scvi_batch', '_scvi_labels', 'batch', 'batch_id', 'cell_type', 'condition', 'is_doublet', 'is_outlier', 'is_outlier_counts', 'is_outlier_genes', 'is_outlier_mito', 'is_outlier_top_20', 'leiden', 'log1p_n_genes_by_counts', 'log1p_total_counts', 'log1p_total_counts_mt', 'log1p_total_counts_ribo', 'n_counts', 'n_genes', 'n_genes_by_counts', 'origin', 'pct_counts_in_top_20_genes', 'pct_counts_mt', 'pct_counts_ribo', 'sample_id', 'total_counts', 'total_counts_mt', 'total_counts_ribo', 'value'\n",
       "    var: 'ensembl_id', 'feature_types', 'gene_name', 'mt', 'ribo', 'n_cells_by_counts', 'mean_counts', 'log1p_mean_counts', 'pct_dropout_by_counts', 'total_counts', 'log1p_total_counts', 'n_cells', 'n_counts', 'highly_variable', 'highly_variable_rank', 'means', 'variances', 'variances_norm', 'highly_variable_nbatches'\n",
       "    uns: 'COND_colors', 'cell_type_colors', 'condition_colors', 'dendrogram_leiden', 'hvg', 'is_doublet_colors', 'leiden', 'leiden_colors', 'log1p', 'neighbors', 'neighbors_uncorrected', 'origin_colors', 'sample_id_colors', 'umap'\n",
       "    obsm: 'X_pca', 'X_scAR', 'X_scVI', 'X_umap', 'X_umap_uncorrected', 'ora_estimate', 'ora_pvals'\n",
       "    layers: 'counts', 'denoised', 'logcounts'\n",
       "    obsp: 'connectivities', 'distances', 'neighbors_uncorrected_connectivities', 'neighbors_uncorrected_distances'"
      ]
     },
     "execution_count": 3,
     "metadata": {},
     "output_type": "execute_result"
    }
   ],
   "source": [
    "adata"
   ]
  },
  {
   "cell_type": "code",
   "execution_count": 16,
   "id": "ba71ef4b-9927-419f-a9f6-6007c96a68b7",
   "metadata": {},
   "outputs": [],
   "source": [
    "adata.var.index.name = None"
   ]
  },
  {
   "cell_type": "code",
   "execution_count": 18,
   "id": "e7578635-da4a-4b34-97d8-715a922a428f",
   "metadata": {},
   "outputs": [
    {
     "name": "stderr",
     "output_type": "stream",
     "text": [
      "/home/kvalem/.conda/envs/scanpy/lib/python3.12/site-packages/anndata/_core/anndata.py:1818: UserWarning: Observation names are not unique. To make them unique, call `.obs_names_make_unique`.\n",
      "  utils.warn_names_duplicates(\"obs\")\n"
     ]
    }
   ],
   "source": [
    "adata.T.to_df().to_csv('/data/projects/2021/MicrobialMetabolites/single-cell-sorted-cd8/results/scFEA/tmp/matrix.csv')"
   ]
  },
  {
   "cell_type": "code",
   "execution_count": null,
   "id": "bd712ffb-ca39-480b-a7b8-3cf985350489",
   "metadata": {},
   "outputs": [],
   "source": []
  }
 ],
 "metadata": {
  "kernelspec": {
   "display_name": "scanpy",
   "language": "python",
   "name": "scanpy"
  },
  "language_info": {
   "codemirror_mode": {
    "name": "ipython",
    "version": 3
   },
   "file_extension": ".py",
   "mimetype": "text/x-python",
   "name": "python",
   "nbconvert_exporter": "python",
   "pygments_lexer": "ipython3",
   "version": "3.12.3"
  }
 },
 "nbformat": 4,
 "nbformat_minor": 5
}
