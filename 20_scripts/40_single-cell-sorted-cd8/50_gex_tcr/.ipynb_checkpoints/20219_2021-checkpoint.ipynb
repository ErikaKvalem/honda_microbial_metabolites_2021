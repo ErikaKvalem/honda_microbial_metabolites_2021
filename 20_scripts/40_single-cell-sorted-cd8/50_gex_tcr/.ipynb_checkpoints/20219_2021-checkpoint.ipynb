{
 "cells": [
  {
   "cell_type": "code",
   "execution_count": null,
   "id": "ab8edcd2-c70e-4a6c-a6f3-811002dfeb4b",
   "metadata": {},
   "outputs": [],
   "source": [
    "import scirpy as ir"
   ]
  },
  {
   "cell_type": "code",
   "execution_count": null,
   "id": "5601eec5-3bbf-4f2d-bde7-f2c6e66365af",
   "metadata": {},
   "outputs": [],
   "source": [
    "import scanpy as sc"
   ]
  },
  {
   "cell_type": "code",
   "execution_count": null,
   "id": "c1fff82f-350f-451d-a352-6cce6a6f464e",
   "metadata": {},
   "outputs": [],
   "source": [
    "from glob import glob\n",
    "import warnings\n",
    "import tarfile\n",
    "\n",
    "import anndata\n",
    "import matplotlib.pyplot as plt\n",
    "import pandas as pd\n",
    "import scanpy as sc"
   ]
  },
  {
   "cell_type": "code",
   "execution_count": null,
   "id": "94d25d60-9db3-48b9-a5f9-509cd2d3dc3a",
   "metadata": {},
   "outputs": [],
   "source": [
    "import muon as mu"
   ]
  },
  {
   "cell_type": "code",
   "execution_count": null,
   "id": "c0ccc6c4-7ab8-4821-89a7-8af5166b09d0",
   "metadata": {},
   "outputs": [],
   "source": [
    "import numpy as np"
   ]
  },
  {
   "cell_type": "code",
   "execution_count": null,
   "id": "92eb3f15-93b7-4d2e-bd65-26e6bc091e96",
   "metadata": {},
   "outputs": [],
   "source": [
    "\n",
    "samples = {\n",
    "    \"10mix1\": {\"group\": \"10mix\"},\n",
    "    \"10mix2\": {\"group\": \"10mix\"},\n",
    "    \"11mix1\": {\"group\": \"11mix\"},\n",
    "    \"11mix2\": {\"group\": \"11mix\"},\n",
    "    \"GF1\": {\"group\": \"GF\"},\n",
    "    \"GF2\": {\"group\": \"GF\"},\n",
    "\n",
    "}    \n",
    "    \n",
    "# Create a list of AnnData objects (one for each sample)\n",
    "adatas_tcr = {}\n",
    "adatas_gex = {}\n",
    "for sample, sample_meta in samples.items():\n",
    "    adata_gex = sc.read_10x_h5(f\"/data/projects/2021/MicrobialMetabolites/single-cell-sorted-cd8/2019-10-29_sorted_cd8/analyses_icbi/{sample}/outs/per_sample_outs/{sample}/count/sample_filtered_feature_bc_matrix.h5\")\n",
    "    adata_tcr = ir.io.read_10x_vdj(f\"/data/projects/2021/MicrobialMetabolites/single-cell-sorted-cd8/2019-10-29_sorted_cd8/analyses_icbi/{sample}/outs/per_sample_outs/{sample}/vdj_t/filtered_contig_annotations.csv\")\n",
    "    # concatenation only works with unique gene names\n",
    "    adata_gex.var_names_make_unique()\n",
    "    adatas_tcr[sample] = adata_tcr\n",
    "    adatas_gex[sample] = adata_gex"
   ]
  },
  {
   "cell_type": "code",
   "execution_count": null,
   "id": "e5867370-76bd-4641-afc5-08cb034cddfa",
   "metadata": {},
   "outputs": [],
   "source": [
    "samples = {\n",
    "    \"10mix-ICI1\": {\"group\": \"10mix\", \"condition\":\"ICI\"},\n",
    "    \"10mix-ICI2\": {\"group\": \"10mix\",\"condition\":\"ICI\"},\n",
    "    \"11mix-ICI1\": {\"group\": \"11mix\",\"condition\":\"ICI\"},\n",
    "    \"11mix-ICI2\": {\"group\": \"11mix\",\"condition\":\"ICI\"},\n",
    "    \"GF-ICI1\": {\"group\": \"GF\",\"condition\":\"No ICI\"},\n",
    "    \"GF-ICI2\": {\"group\": \"GF\",\"condition\":\"No ICI\"},\n",
    "    \"GF-ICI1-plus\": {\"group\": \"GF-plus\",\"condition\":\"ICI\"},\n",
    "    \"GF-ICI2-plus\": {\"group\": \"GF-plus\",\"condition\":\"ICI\"},\n",
    "\n",
    "\n",
    "}    \n",
    "    \n",
    "# Create a list of AnnData objects (one for each sample)\n",
    "adatas_tcr_2021 = {}\n",
    "adatas_gex_2021 = {}\n",
    "for sample, sample_meta in samples.items():\n",
    "    adata_gex_2021 = sc.read_10x_h5(f\"/data/projects/2021/MicrobialMetabolites/single-cell-sorted-cd8/2021-02-01_sorted_cd8_til/analyses_icbi/{sample}/outs/per_sample_outs/{sample}/count/sample_filtered_feature_bc_matrix.h5\")\n",
    "    adata_tcr_2021 = ir.io.read_10x_vdj(f\"/data/projects/2021/MicrobialMetabolites/single-cell-sorted-cd8/2021-02-01_sorted_cd8_til/analyses_icbi/{sample}/outs/per_sample_outs/{sample}/vdj_t/filtered_contig_annotations.csv\")\n",
    "    # concatenation only works with unique gene names\n",
    "    adata_gex_2021.var_names_make_unique()\n",
    "    adatas_tcr_2021[sample] = adata_tcr_2021\n",
    "    adatas_gex_2021[sample] = adata_gex_2021"
   ]
  },
  {
   "cell_type": "code",
   "execution_count": null,
   "id": "ab847004-40b4-4272-a738-b1879a19d2c9",
   "metadata": {},
   "outputs": [],
   "source": [
    "samples = {\n",
    "    \"10mix-ICI1\": {\"group\": \"10mix\", \"condition\":\"ICI\"},\n",
    "    \"10mix-ICI2\": {\"group\": \"10mix\",\"condition\":\"ICI\"},\n",
    "    \"11mix-ICI1\": {\"group\": \"11mix\",\"condition\":\"ICI\"},\n",
    "    \"11mix-ICI2\": {\"group\": \"11mix\",\"condition\":\"ICI\"},\n",
    "    \"GF-ICI1\": {\"group\": \"GF\",\"condition\":\"No ICI\"},\n",
    "    \"GF-ICI2\": {\"group\": \"GF\",\"condition\":\"No ICI\"},\n",
    "    \"GF-ICI1-plus\": {\"group\": \"GF-plus\",\"condition\":\"ICI\"},\n",
    "    \"GF-ICI2-plus\": {\"group\": \"GF-plus\",\"condition\":\"ICI\"},\n",
    "    \"10mix1\": {\"group\": \"10mix\", \"condition\":\"naive\"},\n",
    "    \"10mix2\": {\"group\": \"10mix\", \"condition\":\"naive\"},\n",
    "    \"11mix1\": {\"group\": \"11mix\", \"condition\":\"naive\"},\n",
    "    \"11mix2\": {\"group\": \"11mix\", \"condition\":\"naive\"},\n",
    "    \"GF1\": {\"group\": \"GF\", \"condition\":\"naive\"},\n",
    "    \"GF2\": {\"group\": \"GF\", \"condition\":\"naive\"},\n",
    "}    "
   ]
  },
  {
   "cell_type": "code",
   "execution_count": null,
   "id": "2b7234d4-a079-4468-a17a-51baff4c95c3",
   "metadata": {},
   "outputs": [],
   "source": [
    "# Merge anndata objects\n",
    "adata_gex = anndata.concat(adatas_gex, index_unique=\"_\")\n",
    "adata_tcr = anndata.concat(adatas_tcr, index_unique=\"_\")"
   ]
  },
  {
   "cell_type": "code",
   "execution_count": null,
   "id": "95cd4cc7-dd09-4162-bad7-54fcaf583f0d",
   "metadata": {},
   "outputs": [],
   "source": [
    "# Merge anndata objects\n",
    "adata_gex_2021 = anndata.concat(adatas_gex_2021, index_unique=\"_\")\n",
    "adata_tcr_2021 = anndata.concat(adatas_tcr_2021, index_unique=\"_\")"
   ]
  },
  {
   "cell_type": "code",
   "execution_count": null,
   "id": "89a61146-08a8-4c60-896c-e32326763020",
   "metadata": {},
   "outputs": [],
   "source": [
    "adata_gex_merge = anndata.concat([adata_gex,adata_gex_2021], index_unique=\"_\")\n",
    "adata_tcr_merge = anndata.concat([adata_tcr,adata_tcr_2021], index_unique=\"_\")"
   ]
  },
  {
   "cell_type": "code",
   "execution_count": null,
   "id": "6cdeeef5-86ab-4019-9ee7-391b2eb741c1",
   "metadata": {},
   "outputs": [],
   "source": [
    "# Set global met'adata on `mdata.obs`\n",
    "adata_gex_merge.obs[\"sample\"] = adata_gex_merge.obs_names.to_series().str.split(\"_\", expand=True)[1]\n",
    "adata_gex_merge.obs[\"group\"] = adata_gex_merge.obs[\"sample\"].map(lambda x: samples[x][\"group\"])\n",
    "adata_gex_merge.obs[\"condition\"] = adata_gex_merge.obs[\"sample\"].map(lambda x: samples[x][\"condition\"])"
   ]
  },
  {
   "cell_type": "code",
   "execution_count": null,
   "id": "06886a91-1297-4658-808f-3398343ad158",
   "metadata": {},
   "outputs": [],
   "source": [
    "mdata = mu.MuData({\"gex\": adata_gex_merge, \"airr\": adata_tcr_merge})"
   ]
  },
  {
   "cell_type": "code",
   "execution_count": null,
   "id": "8db2ea37-c56f-4c37-a15d-ccadcf1a62b6",
   "metadata": {},
   "outputs": [],
   "source": [
    "mdata"
   ]
  },
  {
   "cell_type": "code",
   "execution_count": null,
   "id": "87133de8-d586-49ad-a93c-c8e8b2a38d1a",
   "metadata": {},
   "outputs": [],
   "source": [
    "mdata_2019 = mu.MuData({\"gex\": adata_gex, \"airr\": adata_tcr})"
   ]
  },
  {
   "cell_type": "code",
   "execution_count": null,
   "id": "a9dab5de-52a4-4733-8df0-5f12c343a267",
   "metadata": {},
   "outputs": [],
   "source": [
    "mdata_2021 = mu.MuData({\"gex\": adata_gex_2021, \"airr\": adata_tcr_2021})"
   ]
  },
  {
   "cell_type": "code",
   "execution_count": null,
   "id": "1eb9565b-5834-4dba-9af3-9a81ee1c47df",
   "metadata": {},
   "outputs": [],
   "source": [
    "mdata.obs[\"sample\"] = mdata.obs_names.to_series().str.split(\"_\", expand=True)[1]"
   ]
  },
  {
   "cell_type": "code",
   "execution_count": null,
   "id": "9644e7a5-302c-4e96-b0a8-a3f210e45c35",
   "metadata": {},
   "outputs": [],
   "source": [
    "# Set global met'adata on `mdata.obs`\n",
    "mdata.obs[\"sample\"] = mdata.obs_names.to_series().str.split(\"_\", expand=True)[1]\n",
    "mdata.obs[\"group\"] = mdata.obs[\"sample\"].map(lambda x: samples[x][\"group\"])\n",
    "mdata.obs[\"condition\"] = mdata.obs[\"sample\"].map(lambda x: samples[x][\"condition\"])"
   ]
  },
  {
   "cell_type": "code",
   "execution_count": null,
   "id": "d314ec23-8c22-4262-a210-7f2c0b10d214",
   "metadata": {},
   "outputs": [],
   "source": [
    "sc.pp.filter_genes(mdata[\"gex\"], min_cells=10)\n",
    "sc.pp.filter_cells(mdata[\"gex\"], min_genes=100)"
   ]
  },
  {
   "cell_type": "code",
   "execution_count": null,
   "id": "b8b8e0f1-a5b1-4816-87b3-e6b05a01904e",
   "metadata": {},
   "outputs": [],
   "source": [
    "sc.pp.normalize_per_cell(mdata[\"gex\"])\n",
    "sc.pp.log1p(mdata[\"gex\"])\n",
    "sc.pp.highly_variable_genes(mdata[\"gex\"], flavor=\"cell_ranger\", n_top_genes=5000)\n",
    "sc.tl.pca(mdata[\"gex\"])\n",
    "sc.pp.neighbors(mdata[\"gex\"])"
   ]
  },
  {
   "cell_type": "code",
   "execution_count": null,
   "id": "2af1c2e2-68d5-434b-b5ce-f397dc7fbe63",
   "metadata": {},
   "outputs": [],
   "source": [
    "sc.tl.umap(mdata[\"gex\"])"
   ]
  },
  {
   "cell_type": "code",
   "execution_count": null,
   "id": "800adb56-1db7-4b11-9f4e-0e07d72316e2",
   "metadata": {},
   "outputs": [],
   "source": [
    "sc.tl.leiden(mdata[\"gex\"])"
   ]
  },
  {
   "cell_type": "code",
   "execution_count": null,
   "id": "997e8a3b-6349-4dfb-a94d-676e0495afad",
   "metadata": {},
   "outputs": [],
   "source": [
    "mdata[\"gex\"].var"
   ]
  },
  {
   "cell_type": "code",
   "execution_count": null,
   "id": "b2418923-5686-40ab-bd25-f4d6afbe2445",
   "metadata": {},
   "outputs": [],
   "source": [
    "mdata[\"gex\"].obs[\"sample\"] = mdata[\"gex\"].obs_names.to_series().str.split(\"_\", expand=True)[1]\n",
    "mdata[\"gex\"].obs[\"group\"] = mdata[\"gex\"].obs[\"sample\"].map(lambda x: samples[x][\"group\"])\n",
    "mdata[\"gex\"].obs[\"condition\"] = mdata[\"gex\"].obs[\"sample\"].map(lambda x: samples[x][\"condition\"])"
   ]
  },
  {
   "cell_type": "code",
   "execution_count": null,
   "id": "074fdc47-4020-41b9-98c5-de16ac5c398e",
   "metadata": {},
   "outputs": [],
   "source": [
    "def update_columns(row):\n",
    "   \n",
    "    if \"ICI\" not in row['sample']:\n",
    "        row['origin'] = \"colon\"\n",
    "    else:\n",
    "         row['origin'] = \"til\"\n",
    "        \n",
    "    return row\n",
    "\n",
    "# Apply the function to each row in the DataFrame\n",
    "mdata[\"gex\"].obs= mdata[\"gex\"].obs.apply(update_columns, axis=1)"
   ]
  },
  {
   "cell_type": "code",
   "execution_count": null,
   "id": "e15e8cd6-d067-4906-8b65-2c27ab64df46",
   "metadata": {},
   "outputs": [],
   "source": [
    "mdata.update()"
   ]
  },
  {
   "cell_type": "code",
   "execution_count": null,
   "id": "6eb9384b-597b-4c5e-8a59-fd80262e13c4",
   "metadata": {},
   "outputs": [],
   "source": [
    "mu.pp.intersect_obs(mdata)"
   ]
  },
  {
   "cell_type": "code",
   "execution_count": null,
   "id": "d334a384-e669-4f1e-b1a9-8d417605b796",
   "metadata": {},
   "outputs": [],
   "source": [
    "mdata"
   ]
  },
  {
   "cell_type": "code",
   "execution_count": null,
   "id": "4fa5f573-6739-4a59-bce7-0a98c5d78d55",
   "metadata": {},
   "outputs": [],
   "source": [
    "sc.pl.umap(mdata[\"gex\"], color = \"leiden\")"
   ]
  },
  {
   "cell_type": "code",
   "execution_count": null,
   "id": "30266752-b874-4601-b0a9-b401af9f8823",
   "metadata": {},
   "outputs": [],
   "source": [
    "mu.pl.embedding(\n",
    "    mdata,\n",
    "    basis=\"gex:umap\",\n",
    "    color=[\"gex:leiden\",\"gex:group\"],\n",
    "    ncols=3,\n",
    "    wspace=0.7,\n",
    ")\n"
   ]
  },
  {
   "cell_type": "code",
   "execution_count": null,
   "id": "95840d1b-d366-446b-a15d-df3a495fc2fe",
   "metadata": {},
   "outputs": [],
   "source": [
    "mu.pl.embedding(\n",
    "    mdata,\n",
    "    basis=\"gex:umap\",\n",
    "    color=[\"gex:origin\",\"gex:group\"],\n",
    "    ncols=3,\n",
    "    wspace=0.7,\n",
    ")\n"
   ]
  },
  {
   "cell_type": "code",
   "execution_count": null,
   "id": "556cf414-6d6d-438d-a0d4-7bd9cfd06dd8",
   "metadata": {},
   "outputs": [],
   "source": [
    "#### cell annotation"
   ]
  },
  {
   "cell_type": "code",
   "execution_count": null,
   "id": "c3fa67a3-a437-48a1-b460-32cc48e87357",
   "metadata": {},
   "outputs": [],
   "source": [
    "mu.pl.embedding(\n",
    "    mdata,\n",
    "    basis=\"gex:umap\",\n",
    "    color=[\"Klrk1\",\"Ifng\",\"Klrc1\",\"Ccl4\"],\n",
    "    ncols=3,\n",
    "    wspace=0.7,\n",
    "    vmax= \"p99\",\n",
    "    cmap =\"inferno\"\n",
    ")\n"
   ]
  },
  {
   "cell_type": "code",
   "execution_count": null,
   "id": "1dfad3c9-c1a0-41ef-96b4-c5f75c02a309",
   "metadata": {},
   "outputs": [],
   "source": [
    "mu.pl.embedding(\n",
    "    mdata,\n",
    "    basis=\"gex:umap\",\n",
    "    color=[\"Gzma\",\"Dapk2\",\"Gzmk\",\"Gpr55\"],\n",
    "    ncols=3,\n",
    "    wspace=0.7,\n",
    "    vmax= \"p99\",\n",
    "    cmap =\"inferno\"\n",
    ")\n"
   ]
  },
  {
   "cell_type": "code",
   "execution_count": null,
   "id": "d56c8c05-f6a7-4dc4-865e-332b51d2bbbc",
   "metadata": {},
   "outputs": [],
   "source": [
    "mu.pl.embedding(\n",
    "    mdata,\n",
    "    basis=\"gex:umap\",\n",
    "    color=[\"Cd8a\",\"Cd8b1\",\"Ifng\",\"Gzmb\"],\n",
    "    ncols=3,\n",
    "    wspace=0.7,\n",
    "    vmax= \"p99\",\n",
    "    cmap =\"inferno\"\n",
    ")\n"
   ]
  },
  {
   "cell_type": "code",
   "execution_count": null,
   "id": "cf8e3360-ace8-4a4f-b616-90aa637790fd",
   "metadata": {},
   "outputs": [],
   "source": [
    "mu.pl.embedding(\n",
    "    mdata,\n",
    "    basis=\"gex:umap\",\n",
    "    color=[\"gex:leiden\"],\n",
    "    ncols=3,\n",
    "    wspace=0.7,\n",
    ")"
   ]
  },
  {
   "cell_type": "code",
   "execution_count": null,
   "id": "b9e98dec-ad83-461d-8909-bd64646cd96f",
   "metadata": {},
   "outputs": [],
   "source": [
    "# mitochondrial genes\n",
    "mdata[\"gex\"].var[\"mt\"] = mdata.var_names.str.startswith(\"mt-\")\n"
   ]
  },
  {
   "cell_type": "code",
   "execution_count": null,
   "id": "a4c6a0ca-173e-43d7-b522-1aefe04782b1",
   "metadata": {},
   "outputs": [],
   "source": [
    "sc.pp.calculate_qc_metrics(\n",
    "    mdata[\"gex\"], qc_vars=[\"mt\"], inplace=True, percent_top=[20], log1p=True\n",
    ")"
   ]
  },
  {
   "cell_type": "code",
   "execution_count": null,
   "id": "2a743750-6793-44ff-9308-078ad3d3c888",
   "metadata": {},
   "outputs": [],
   "source": [
    "mdata"
   ]
  },
  {
   "cell_type": "code",
   "execution_count": null,
   "id": "5e58eedf-a2d6-4ac4-b1cc-365b97acc332",
   "metadata": {},
   "outputs": [],
   "source": [
    "fig, axes = plt.subplots(2, 2, figsize=(10, 8))\n",
    "axes=axes.flatten()\n",
    "sc.pl.umap(\n",
    "    mdata[\"gex\"],\n",
    "    color=\"pct_counts_mt\",\n",
    "    cmap=\"inferno\",\n",
    "    vmin=0,\n",
    "    vmax=\"p99\",\n",
    "    sort_order=False,\n",
    "    show=False,\n",
    "    ax=axes[0],\n",
    ")\n",
    "sc.pl.umap(\n",
    "    mdata[\"gex\"],\n",
    "    color=\"total_counts\",\n",
    "    cmap=\"inferno\",\n",
    "    vmax=\"p99\",\n",
    "    sort_order=False,\n",
    "    show=False,\n",
    "    ax=axes[1],\n",
    ")\n",
    "sc.pl.umap(\n",
    "    mdata[\"gex\"],\n",
    "    color=\"n_genes_by_counts\",\n",
    "    cmap=\"inferno\",\n",
    "    vmax=\"p99\",\n",
    "    sort_order=False,\n",
    "    show=False,\n",
    "    ax=axes[2],\n",
    ")\n",
    "sc.pl.umap(\n",
    "    mdata[\"gex\"],\n",
    "    color=\"n_genes\",\n",
    "    cmap=\"inferno\",\n",
    "    vmax=\"p99\",\n",
    "    sort_order=False,\n",
    "    show=False,\n",
    "    ax=axes[3],\n",
    ")"
   ]
  },
  {
   "cell_type": "code",
   "execution_count": null,
   "id": "6656e091-7375-4f01-9a81-101051af4ecc",
   "metadata": {},
   "outputs": [],
   "source": [
    "def is_outlier(adata, metric: str, nmads: int):\n",
    "    M = adata.obs[metric]\n",
    "    outlier = (M < np.median(M) - nmads * median_abs_deviation(M)) | (\n",
    "        np.median(M) + nmads * median_abs_deviation(M) < M\n",
    "    )\n",
    "    return outlier"
   ]
  },
  {
   "cell_type": "code",
   "execution_count": null,
   "id": "975198b9-2d36-4454-a077-6cec56e8af98",
   "metadata": {},
   "outputs": [],
   "source": [
    "\n",
    "from scipy.stats import median_abs_deviation"
   ]
  },
  {
   "cell_type": "code",
   "execution_count": null,
   "id": "0eef9923-45e2-4c75-ad34-f0174d3fd85e",
   "metadata": {},
   "outputs": [],
   "source": [
    "mdata[\"gex\"].obs[\"outlier\"] = (\n",
    "    is_outlier(mdata[\"gex\"], \"log1p_total_counts\", 1)\n",
    "    | is_outlier(mdata[\"gex\"], \"log1p_n_genes_by_counts\", 1)\n",
    "    | is_outlier(mdata[\"gex\"], \"pct_counts_in_top_20_genes\",1)\n",
    ")\n",
    "mdata[\"gex\"].obs.outlier.value_counts()"
   ]
  },
  {
   "cell_type": "code",
   "execution_count": null,
   "id": "f89a0f45-8897-4b68-b1cd-bb02988a0ec3",
   "metadata": {},
   "outputs": [],
   "source": [
    "mdata_qc = mdata[\"gex\"][(~mdata[\"gex\"].obs.outlier)]"
   ]
  },
  {
   "cell_type": "code",
   "execution_count": null,
   "id": "7fa659ab-8377-42fb-8cd0-e4c0f42a4815",
   "metadata": {},
   "outputs": [],
   "source": [
    "mdata_qc"
   ]
  },
  {
   "cell_type": "code",
   "execution_count": null,
   "id": "0223bdc0-9fd5-4881-8a10-68e1638c6bca",
   "metadata": {},
   "outputs": [],
   "source": [
    "fig, axes = plt.subplots(2, 2, figsize=(10, 8))\n",
    "axes=axes.flatten()\n",
    "sc.pl.umap(\n",
    "    mdata_qc,\n",
    "    color=\"pct_counts_mt\",\n",
    "    cmap=\"inferno\",\n",
    "    vmin=0,\n",
    "    vmax=\"p99\",\n",
    "    sort_order=False,\n",
    "    show=False,\n",
    "    ax=axes[0],\n",
    ")\n",
    "sc.pl.umap(\n",
    "    mdata_qc,\n",
    "    color=\"total_counts\",\n",
    "    cmap=\"inferno\",\n",
    "    vmax=\"p99\",\n",
    "    sort_order=False,\n",
    "    show=False,\n",
    "    ax=axes[1],\n",
    ")\n",
    "sc.pl.umap(\n",
    "    mdata_qc,\n",
    "    color=\"n_genes_by_counts\",\n",
    "    cmap=\"inferno\",\n",
    "    vmax=\"p99\",\n",
    "    sort_order=False,\n",
    "    show=False,\n",
    "    ax=axes[2],\n",
    ")\n",
    "sc.pl.umap(\n",
    "    mdata_qc,\n",
    "    color=\"n_genes\",\n",
    "    cmap=\"inferno\",\n",
    "    vmax=\"p99\",\n",
    "    sort_order=False,\n",
    "    show=False,\n",
    "    ax=axes[3],\n",
    ")"
   ]
  },
  {
   "cell_type": "code",
   "execution_count": null,
   "id": "33e056a4-7489-46c0-a8b0-d6b4e695171d",
   "metadata": {},
   "outputs": [],
   "source": [
    "#naive\n",
    "mu.pl.embedding(\n",
    "    mdata_qc,\n",
    "    basis=\"X_umap\",\n",
    "    color=[\"Sell\",\"Lef1\"],\n",
    "    ncols=3,\n",
    "    wspace=0.7,\n",
    "    vmax= \"p99\",\n",
    "    cmap =\"inferno\"\n",
    ")"
   ]
  },
  {
   "cell_type": "code",
   "execution_count": null,
   "id": "0ae62747-4b25-4d07-980b-23a08a56adb6",
   "metadata": {},
   "outputs": [],
   "source": [
    "#ex\n",
    "mu.pl.embedding(\n",
    "    mdata_qc,\n",
    "    basis=\"X_umap\",\n",
    "    color=[ \"Cxcr6\",\"Gzmb\",\"Havcr2\",\"Ctla4\"],\n",
    "    ncols=3,\n",
    "    wspace=0.7,\n",
    "    vmax= \"p99\",\n",
    "    cmap =\"inferno\"\n",
    ")"
   ]
  },
  {
   "cell_type": "code",
   "execution_count": null,
   "id": "b7699556-2911-4dda-af54-64f683fe7878",
   "metadata": {},
   "outputs": [],
   "source": [
    "#9,13, 00,2,12,3,4,21,1,18,17 tex \n",
    "#11,8,5,16,10,6,7 tn\n",
    "\n",
    "cl_annotation = { \n",
    "    \"0\": \"Naive\",\n",
    "    \"1\": \"Resident Memory\",\n",
    "    \"3\":\"Naive\",\n",
    "    \"4\":\"Exhausted\",\n",
    "    \"5\":\"Exhausted\",\n",
    "    \"7\":\"Exhausted\",\n",
    "    \"8\":\"Naive\",\n",
    "    \"10\":\"IFg\",\n",
    "    \"11\":\"Exhausted\",\n",
    "\n",
    "}"
   ]
  },
  {
   "cell_type": "code",
   "execution_count": null,
   "id": "60e4a2bf-9092-4663-99bd-e3168190a225",
   "metadata": {},
   "outputs": [],
   "source": [
    "mdata[\"gex\"].obs[\"cell_type_coarse\"] = mdata[\"gex\"].obs.leiden.map(cl_annotation)"
   ]
  },
  {
   "cell_type": "code",
   "execution_count": null,
   "id": "8653b2bd-bf34-469f-81b3-c757d00c98cf",
   "metadata": {},
   "outputs": [],
   "source": [
    "mdata_2019[\"gex\"].obs[\"cell_type_coarse\"] = mdata_2019[\"gex\"].obs.leiden.map(cl_annotation)"
   ]
  },
  {
   "cell_type": "code",
   "execution_count": null,
   "id": "fe8b67f0-342b-4d1f-b9b7-6988388a0138",
   "metadata": {},
   "outputs": [],
   "source": [
    "mdata_2021[\"gex\"].obs[\"cell_type_coarse\"] = mdata_2021[\"gex\"].obs.leiden.map(cl_annotation)"
   ]
  },
  {
   "cell_type": "code",
   "execution_count": null,
   "id": "c1f6cabe-71c2-4d77-a021-de956079af12",
   "metadata": {},
   "outputs": [],
   "source": [
    "mdata_2021.update()"
   ]
  },
  {
   "cell_type": "code",
   "execution_count": null,
   "id": "fd7d5669-6f45-4f6e-8839-c1458bc9f0e9",
   "metadata": {},
   "outputs": [],
   "source": [
    "mdata_2019.update()"
   ]
  },
  {
   "cell_type": "code",
   "execution_count": null,
   "id": "2ccb3075-fc07-486f-bec4-75e4c6514f6c",
   "metadata": {},
   "outputs": [],
   "source": [
    "mdata_qc.obs[\"cell_type_coarse\"] = mdata_qc.obs.leiden.map(cl_annotation)"
   ]
  },
  {
   "cell_type": "code",
   "execution_count": null,
   "id": "ad07d1ca-9c3b-4540-ae48-e358d8371c10",
   "metadata": {},
   "outputs": [],
   "source": [
    "naive - 0, 3,8\n",
    "rm - 10,1\n",
    "ex - 5,11,7,4\n",
    "ifg - "
   ]
  },
  {
   "cell_type": "code",
   "execution_count": null,
   "id": "c99cf7da-3634-467d-a30f-10dd6de08295",
   "metadata": {},
   "outputs": [],
   "source": [
    "mdata_qc = mdata_qc[mdata_qc.obs[\"cell_type_coarse\"].isin(['Exhausted', 'Naive', 'Resident Memory'])]\n",
    "                     "
   ]
  },
  {
   "cell_type": "code",
   "execution_count": null,
   "id": "b5f9305c-fcd8-453a-ba25-ca82e5d11a50",
   "metadata": {},
   "outputs": [],
   "source": [
    "mdata_qc.write_h5ad(\"mdata_qc.h5ad\")"
   ]
  },
  {
   "cell_type": "code",
   "execution_count": null,
   "id": "bdda395c-2cc7-4030-8250-60ee6d9bf3ef",
   "metadata": {},
   "outputs": [],
   "source": [
    "set(mdata_qc.obs.cell_type_coarse)"
   ]
  },
  {
   "cell_type": "code",
   "execution_count": null,
   "id": "204c6c7d-b5a7-4c70-a923-75bb78bdfd90",
   "metadata": {},
   "outputs": [],
   "source": [
    "mu.pl.embedding(\n",
    "      mdata_qc,\n",
    "    basis=\"X_umap\",\n",
    "    color=[\"cell_type_coarse\",\"origin\"],\n",
    "    ncols=3,\n",
    "    wspace=0.7,\n",
    ")"
   ]
  },
  {
   "cell_type": "code",
   "execution_count": null,
   "id": "d441bdaa-cd7d-4d04-9374-c4b877eeaad3",
   "metadata": {},
   "outputs": [],
   "source": [
    "mu.pl.embedding(\n",
    "      mdata_qc,\n",
    "    basis=\"X_umap\",\n",
    "    color=[\"cell_type_coarse\"],\n",
    "    ncols=3,\n",
    "    wspace=0.7,\n",
    ")"
   ]
  },
  {
   "cell_type": "code",
   "execution_count": null,
   "id": "84e264dd-3825-4a07-a3fc-839d185d4a0f",
   "metadata": {},
   "outputs": [],
   "source": [
    "#rm \n",
    "\n",
    "\n",
    "#ex\n",
    "mu.pl.embedding(\n",
    "    mdata_qc,\n",
    "    basis=\"X_umap\",\n",
    "    color=[\"Jaml\",\"Prf1\",\"Gzmb\"],\n",
    "    ncols=3,\n",
    "    wspace=0.7,\n",
    "    vmax= \"p99\",\n",
    "    cmap =\"inferno\"\n",
    ")"
   ]
  },
  {
   "cell_type": "code",
   "execution_count": null,
   "id": "349e8c33-3612-4574-935e-1375ce60b155",
   "metadata": {},
   "outputs": [],
   "source": [
    "#ifg\n",
    "mu.pl.embedding(\n",
    "    mdata_qc,\n",
    "    basis=\"X_umap\",\n",
    "    color=[ \"Isg15\",\"Ifit3\",\"Ifit1\",\"Stat1\" ],\n",
    "    ncols=3,\n",
    "    wspace=0.7,\n",
    "    vmax= \"p99\",\n",
    "    cmap =\"inferno\"\n",
    ")"
   ]
  },
  {
   "cell_type": "code",
   "execution_count": null,
   "id": "71234059-146c-4e82-9ca2-ba1a4942d744",
   "metadata": {},
   "outputs": [],
   "source": [
    "mdata.update()"
   ]
  },
  {
   "cell_type": "code",
   "execution_count": null,
   "id": "92eede53-c392-438c-af52-6e33270915dd",
   "metadata": {},
   "outputs": [],
   "source": [
    "Tnaive - Ltb\",\"Sell\",\"Lef1\",\"Nosip -- 3,8\n",
    "Tex - Cxcr6\",\"Gzmb\",\"Havcr2\",\"Ctla4\"\n",
    "Tsen - Plcg2\",\"Igkc\",\"Klrk1\",\"Slamf7\"\n",
    "Tifn \"Isg15\",\"Ifit3\",\"Ifit1\",\"Stat1\" "
   ]
  },
  {
   "cell_type": "code",
   "execution_count": null,
   "id": "1bf98fd4-7278-4a42-b091-89409833527e",
   "metadata": {},
   "outputs": [],
   "source": [
    "#naive\n",
    "mu.pl.embedding(\n",
    "    mdata_2021,\n",
    "    basis=\"gex:umap\",\n",
    "    color=[\"Sell\",\"Lef1\"],\n",
    "    ncols=3,\n",
    "    wspace=0.7,\n",
    "    vmax= \"p99\",\n",
    "    cmap =\"inferno\"\n",
    ")"
   ]
  },
  {
   "cell_type": "code",
   "execution_count": null,
   "id": "e33c2446-4e1d-4b43-9f5b-ac44178137f8",
   "metadata": {},
   "outputs": [],
   "source": [
    "#rm\n",
    "mu.pl.embedding(\n",
    "    mdata_2021,\n",
    "    basis=\"gex:umap\",\n",
    "    color=[\"Jaml\",\"Prf1\",\"Gzmb\"],\n",
    "    ncols=3,\n",
    "    wspace=0.7,\n",
    "    vmax= \"p99\",\n",
    "    cmap =\"inferno\"\n",
    ")"
   ]
  },
  {
   "cell_type": "code",
   "execution_count": null,
   "id": "4b8d4880-96d2-4cec-9801-53767d8f817b",
   "metadata": {},
   "outputs": [],
   "source": [
    "#ex\n",
    "mu.pl.embedding(\n",
    "    mdata_2021,\n",
    "    basis=\"gex:umap\",\n",
    "    color=[ \"Cxcr6\",\"Gzmb\",\"Havcr2\",\"Ctla4\"],\n",
    "    ncols=3,\n",
    "    wspace=0.7,\n",
    "    vmax= \"p99\",\n",
    "    cmap =\"inferno\"\n",
    ")"
   ]
  },
  {
   "cell_type": "code",
   "execution_count": null,
   "id": "31def636-bdfd-4e9d-84ad-59e2574e569b",
   "metadata": {},
   "outputs": [],
   "source": [
    "#ifg\n",
    "mu.pl.embedding(\n",
    "    mdata_2021,\n",
    "    basis=\"gex:umap\",\n",
    "    color=[ \"Isg15\",\"Ifit3\",\"Ifit1\",\"Stat1\" ],\n",
    "    ncols=3,\n",
    "    wspace=0.7,\n",
    "    vmax= \"p99\",\n",
    "    cmap =\"inferno\"\n",
    ")"
   ]
  },
  {
   "cell_type": "code",
   "execution_count": null,
   "id": "d200c0d4-6776-4c69-8f0e-70aa2f8a1010",
   "metadata": {},
   "outputs": [],
   "source": [
    "#ifg\n",
    "mu.pl.embedding(\n",
    "    mdata_2019,\n",
    "    basis=\"gex:umap\",\n",
    "    color=[ \"Isg15\",\"Stat1\",\"sample\"],\n",
    "    ncols=3,\n",
    "    wspace=0.7,\n",
    "    vmax= \"p99\",\n",
    "    cmap =\"inferno\"\n",
    ")"
   ]
  },
  {
   "cell_type": "code",
   "execution_count": null,
   "id": "c6e362a2-3e89-49df-8c63-f4f4eb80c969",
   "metadata": {},
   "outputs": [],
   "source": []
  },
  {
   "cell_type": "code",
   "execution_count": null,
   "id": "50b8fc4d-d5cd-458d-a694-026dd2fa2496",
   "metadata": {},
   "outputs": [],
   "source": []
  },
  {
   "cell_type": "code",
   "execution_count": null,
   "id": "d8034a05-ffb1-4a41-a3cc-e45ec8fd9b2b",
   "metadata": {},
   "outputs": [],
   "source": [
    "mdata"
   ]
  },
  {
   "cell_type": "code",
   "execution_count": null,
   "id": "02eb0db2-c85c-402a-bcab-8753c1c9886f",
   "metadata": {},
   "outputs": [],
   "source": [
    "ir.pp.index_chains(mdata)"
   ]
  },
  {
   "cell_type": "code",
   "execution_count": null,
   "id": "1eb4ba0b-7d0d-4b69-8f33-018644eacb9e",
   "metadata": {},
   "outputs": [],
   "source": [
    "mdata"
   ]
  },
  {
   "cell_type": "code",
   "execution_count": null,
   "id": "e357f202-eee5-4f0c-90cf-a8346fa6755f",
   "metadata": {},
   "outputs": [],
   "source": [
    "ir.tl.chain_qc(mdata)"
   ]
  },
  {
   "cell_type": "code",
   "execution_count": null,
   "id": "3497baa9-5ee5-451e-983a-8e4dd47a0249",
   "metadata": {},
   "outputs": [],
   "source": [
    "set(mdata.obs[\"gex:sample\"])"
   ]
  },
  {
   "cell_type": "code",
   "execution_count": null,
   "id": "2292dfc6-1ef1-4512-aac4-95e45d6d741d",
   "metadata": {},
   "outputs": [],
   "source": [
    "mdata_2019  = mdata[mdata.obs[\"gex:sample\"].isin(['10mix1',\n",
    " '10mix2',\n",
    " '11mix1',\n",
    " '11mix2',\n",
    "  'GF1',\n",
    " 'GF2'])]"
   ]
  },
  {
   "cell_type": "code",
   "execution_count": null,
   "id": "079246ca-ac2c-43a0-b933-a606db95e4dc",
   "metadata": {},
   "outputs": [],
   "source": [
    "mdata_2021  = mdata[mdata.obs[\"gex:sample\"].isin(['10mix-ICI1',\n",
    " '10mix-ICI2',\n",
    " '11mix-ICI1',\n",
    " '11mix-ICI2',\n",
    " 'GF-ICI1',\n",
    " 'GF-ICI1-plus',\n",
    " 'GF-ICI2',\n",
    " 'GF-ICI2-plus'])]"
   ]
  },
  {
   "cell_type": "code",
   "execution_count": null,
   "id": "949aa0df-317f-4b95-83ce-6eb1012a5f3a",
   "metadata": {},
   "outputs": [],
   "source": [
    "mdata_2019"
   ]
  },
  {
   "cell_type": "code",
   "execution_count": null,
   "id": "af872545-3715-42be-b04a-92b030a33948",
   "metadata": {},
   "outputs": [],
   "source": [
    "mdata_2021"
   ]
  },
  {
   "cell_type": "code",
   "execution_count": null,
   "id": "a98853e2-1b23-45b1-a1a1-5f8dc9e7ab66",
   "metadata": {},
   "outputs": [],
   "source": [
    "_ = ir.pl.group_abundance(mdata_2019, groupby=\"airr:receptor_subtype\", target_col=\"gex:sample\", )"
   ]
  },
  {
   "cell_type": "code",
   "execution_count": null,
   "id": "74e90120-2442-40d5-9549-2c649bb39ba6",
   "metadata": {},
   "outputs": [],
   "source": [
    "_ = ir.pl.group_abundance(mdata_2021, groupby=\"airr:receptor_subtype\", target_col=\"gex:sample\", )"
   ]
  },
  {
   "cell_type": "code",
   "execution_count": null,
   "id": "d277e800-0593-4cda-b3c3-03726ff01ecf",
   "metadata": {},
   "outputs": [],
   "source": [
    "mdata.update()"
   ]
  },
  {
   "cell_type": "code",
   "execution_count": null,
   "id": "9483f084-c7e7-432c-931a-89cdf175c22e",
   "metadata": {},
   "outputs": [],
   "source": [
    "_ = ir.pl.group_abundance(mdata, groupby=\"airr:receptor_subtype\", target_col=\"gex:cell_type_coarse\", )"
   ]
  },
  {
   "cell_type": "code",
   "execution_count": null,
   "id": "522d1dff-4f7f-494f-a2c0-10c801733bcf",
   "metadata": {},
   "outputs": [],
   "source": [
    "_ = ir.pl.group_abundance(mdata_2019, groupby=\"airr:receptor_subtype\", target_col=\"gex:cell_type_coarse\", )"
   ]
  },
  {
   "cell_type": "code",
   "execution_count": null,
   "id": "70281a73-5fc0-41b6-a3bd-eff18a6014ca",
   "metadata": {},
   "outputs": [],
   "source": [
    "_ = ir.pl.group_abundance(mdata_2021, groupby=\"airr:receptor_subtype\", target_col=\"gex:cell_type_coarse\", )"
   ]
  },
  {
   "cell_type": "code",
   "execution_count": null,
   "id": "5abc3214-eaad-46e5-995a-5c3fe58f6e9d",
   "metadata": {},
   "outputs": [],
   "source": [
    "mdata_qc.obs[\"cell_type_coarse\"] = mdata_qc.obs.leiden.map(cl_annotation)"
   ]
  },
  {
   "cell_type": "code",
   "execution_count": null,
   "id": "1f252dca-a8b9-4bf7-b729-95fd5257d8b1",
   "metadata": {},
   "outputs": [],
   "source": [
    "_ = ir.pl.group_abundance(mdata, groupby=\"airr:receptor_subtype\", target_col=\"gex:origin\")"
   ]
  },
  {
   "cell_type": "code",
   "execution_count": null,
   "id": "d34ee1f4-b1ec-43d9-aa07-79d5159ad342",
   "metadata": {},
   "outputs": [],
   "source": [
    "_ = ir.pl.group_abundance(mdata, groupby=\"airr:chain_pairing\", target_col=\"gex:origin\")"
   ]
  },
  {
   "cell_type": "code",
   "execution_count": null,
   "id": "dfc33a9f-e706-42cb-a9b5-cca5319322fc",
   "metadata": {},
   "outputs": [],
   "source": [
    "_ = ir.pl.group_abundance(mdata, groupby=\"airr:chain_pairing\", target_col=\"gex:cell_type_coarse\")"
   ]
  },
  {
   "cell_type": "code",
   "execution_count": null,
   "id": "726ab2f8-b6a2-4502-a3d4-67ab044b0f34",
   "metadata": {},
   "outputs": [],
   "source": [
    "_ = ir.pl.group_abundance(mdata_2019, groupby=\"airr:chain_pairing\", target_col=\"gex:cell_type_coarse\")"
   ]
  },
  {
   "cell_type": "code",
   "execution_count": null,
   "id": "9f8f2931-5725-456f-a1da-606074278a4a",
   "metadata": {},
   "outputs": [],
   "source": [
    "_ = ir.pl.group_abundance(mdata, groupby=\"gex:cell_type_coarse\", target_col=\"airr:chain_pairing\")"
   ]
  },
  {
   "cell_type": "code",
   "execution_count": null,
   "id": "97640e03-0e67-4289-9304-178287cc2f0f",
   "metadata": {},
   "outputs": [],
   "source": [
    "_ = ir.pl.group_abundance(mdata_2019, groupby=\"gex:cell_type_coarse\", target_col=\"airr:chain_pairing\")"
   ]
  },
  {
   "cell_type": "code",
   "execution_count": null,
   "id": "9324fdb2-c536-4544-b4a6-3e8e31255f9d",
   "metadata": {},
   "outputs": [],
   "source": [
    "_ = ir.pl.group_abundance(mdata_2021, groupby=\"gex:cell_type_coarse\", target_col=\"airr:chain_pairing\")"
   ]
  },
  {
   "cell_type": "code",
   "execution_count": null,
   "id": "169f9f8d-2d50-42f1-b293-7ab3e9071006",
   "metadata": {},
   "outputs": [],
   "source": [
    "_ = ir.pl.group_abundance(mdata_2021, groupby=\"airr:chain_pairing\", target_col=\"gex:cell_type_coarse\")"
   ]
  },
  {
   "cell_type": "code",
   "execution_count": null,
   "id": "68230489-3c4d-4962-bbeb-1c0b56c86174",
   "metadata": {},
   "outputs": [],
   "source": [
    "print(\n",
    "    \"Fraction of cells with more than one pair of TCRs: {:.2f}\".format(\n",
    "        np.sum(mdata.obs[\"airr:chain_pairing\"].isin([\"extra VJ\", \"extra VDJ\", \"two full chains\", \"multichain\"]))\n",
    "        / mdata[\"airr\"].n_obs\n",
    "    )\n",
    ")"
   ]
  },
  {
   "cell_type": "code",
   "execution_count": null,
   "id": "f091f6c5-c5a6-45a8-b17a-e22328a3a2e0",
   "metadata": {},
   "outputs": [],
   "source": [
    "mu.pl.embedding(mdata, basis=\"gex:umap\", color=\"airr:chain_pairing\", groups=\"two full chains\")"
   ]
  },
  {
   "cell_type": "code",
   "execution_count": null,
   "id": "d8c54964-73cc-42b8-b0ad-bb92bd1cebf4",
   "metadata": {},
   "outputs": [],
   "source": [
    "#mu.pp.filter_obs(mdata, \"airr:chain_pairing\", lambda x: x != \"two full chains\")"
   ]
  },
  {
   "cell_type": "code",
   "execution_count": null,
   "id": "43f2ba0e-ad1c-445e-961a-cfa957ee1e48",
   "metadata": {},
   "outputs": [],
   "source": [
    "import numpy as np"
   ]
  },
  {
   "cell_type": "code",
   "execution_count": null,
   "id": "b23f8418-41a5-4133-aea0-7d332d582f42",
   "metadata": {},
   "outputs": [],
   "source": [
    "mu.pp.filter_obs(mdata, \"airr:chain_pairing\", lambda x: ~np.isin(x, [\"orphan VDJ\", \"orphan VJ\"]))"
   ]
  },
  {
   "cell_type": "code",
   "execution_count": null,
   "id": "1100c97b-28b6-4a27-b138-b41fccdd1083",
   "metadata": {},
   "outputs": [],
   "source": [
    "mu.pp.filter_obs(mdata_2019, \"airr:chain_pairing\", lambda x: ~np.isin(x, [\"orphan VDJ\", \"orphan VJ\"]))"
   ]
  },
  {
   "cell_type": "code",
   "execution_count": null,
   "id": "72dc9154-08e3-4126-8632-6075b09fcbc2",
   "metadata": {},
   "outputs": [],
   "source": [
    "mu.pp.filter_obs(mdata_2021, \"airr:chain_pairing\", lambda x: ~np.isin(x, [\"orphan VDJ\", \"orphan VJ\"]))"
   ]
  },
  {
   "cell_type": "code",
   "execution_count": null,
   "id": "3b1b10c6-36da-4f1f-837b-26b5edc1ea52",
   "metadata": {},
   "outputs": [],
   "source": [
    "mdata[\"gex\"].var"
   ]
  },
  {
   "cell_type": "code",
   "execution_count": null,
   "id": "9a1160cf-fbb3-451d-9d4d-1ecdec4650ba",
   "metadata": {},
   "outputs": [],
   "source": [
    "ax = ir.pl.group_abundance(mdata, groupby=\"airr:chain_pairing\", target_col=\"gex:origin\")"
   ]
  },
  {
   "cell_type": "code",
   "execution_count": null,
   "id": "96662567-605b-4059-af85-3e2ea0dde7d8",
   "metadata": {},
   "outputs": [],
   "source": [
    "ax = ir.pl.group_abundance(mdata, groupby=\"airr:chain_pairing\", target_col=\"gex:origin\")"
   ]
  },
  {
   "cell_type": "code",
   "execution_count": null,
   "id": "1d541d97-0604-4f43-985b-66388527e0c2",
   "metadata": {},
   "outputs": [],
   "source": [
    "ax = ir.pl.group_abundance(mdata, groupby=\"gex:sample\", target_col=\"airr:chain_pairing\")"
   ]
  },
  {
   "cell_type": "code",
   "execution_count": null,
   "id": "0acfc2e8-a14c-4000-8702-6f6614402da9",
   "metadata": {},
   "outputs": [],
   "source": [
    "ax = ir.pl.group_abundance(mdata_2019, groupby=\"gex:sample\", target_col=\"airr:chain_pairing\")"
   ]
  },
  {
   "cell_type": "code",
   "execution_count": null,
   "id": "46471893-259a-47b5-a2e0-905ab4729336",
   "metadata": {},
   "outputs": [],
   "source": [
    "ax = ir.pl.group_abundance(mdata_2021, groupby=\"gex:sample\", target_col=\"airr:chain_pairing\")"
   ]
  },
  {
   "cell_type": "code",
   "execution_count": null,
   "id": "1fba0d25-7bb8-4610-8fb3-bc843f0b60ad",
   "metadata": {},
   "outputs": [],
   "source": [
    "mdata"
   ]
  },
  {
   "cell_type": "code",
   "execution_count": null,
   "id": "d2c949e4-c3cb-4272-a727-9754d75af4e5",
   "metadata": {},
   "outputs": [],
   "source": [
    "mdata_2019"
   ]
  },
  {
   "cell_type": "code",
   "execution_count": null,
   "id": "096a90b3-fc08-415f-8aeb-2e606390c717",
   "metadata": {},
   "outputs": [],
   "source": [
    "mu.pp.intersect_obs(mdata)"
   ]
  },
  {
   "cell_type": "code",
   "execution_count": null,
   "id": "60495815-a144-4151-bed1-5dc0f3a5a682",
   "metadata": {},
   "outputs": [],
   "source": [
    "# using default parameters, `ir_dist` will compute nucleotide sequence identity\n",
    "ir.pp.ir_dist(mdata_2019 )"
   ]
  },
  {
   "cell_type": "code",
   "execution_count": null,
   "id": "362b165f-e901-431d-a5db-62b5aef238d8",
   "metadata": {},
   "outputs": [],
   "source": [
    "ir.tl.define_clonotypes(mdata_2019, receptor_arms=\"all\",dual_ir=\"primary_only\")"
   ]
  },
  {
   "cell_type": "code",
   "execution_count": null,
   "id": "910d47ab-7190-4999-8e24-bee02f74e4f5",
   "metadata": {},
   "outputs": [],
   "source": [
    "mdata[\"airr\"].obs"
   ]
  },
  {
   "cell_type": "code",
   "execution_count": null,
   "id": "2027de70-5d31-4c94-9efb-1438513d7967",
   "metadata": {},
   "outputs": [],
   "source": [
    "mdata[\"airr\"].var"
   ]
  },
  {
   "cell_type": "code",
   "execution_count": null,
   "id": "70b6ba09-e3ca-496e-a18f-aeefc4c12a26",
   "metadata": {},
   "outputs": [],
   "source": [
    "mdata[\"gex\"]"
   ]
  },
  {
   "cell_type": "code",
   "execution_count": null,
   "id": "697dce7c-55f2-4d80-9a04-cf4a82769cf9",
   "metadata": {},
   "outputs": [],
   "source": [
    "sc.pp.neighbors(mdata[\"airr\"])"
   ]
  },
  {
   "cell_type": "code",
   "execution_count": null,
   "id": "5848fdc2-2046-4085-b2e8-cd8d2daea3ec",
   "metadata": {},
   "outputs": [],
   "source": [
    "muon.tl.leiden(mdata)\n",
    "muon.tl.umap(mdata)"
   ]
  },
  {
   "cell_type": "code",
   "execution_count": null,
   "id": "d18b372a-93a9-4152-863a-b98adfb1a524",
   "metadata": {},
   "outputs": [],
   "source": [
    "mdata[\"airr\"]"
   ]
  },
  {
   "cell_type": "code",
   "execution_count": null,
   "id": "8a52f5f6-77ab-4865-ad5c-385ba246a052",
   "metadata": {},
   "outputs": [],
   "source": [
    "mdata[\"gex\"]"
   ]
  },
  {
   "cell_type": "code",
   "execution_count": null,
   "id": "8372a990-3a29-461a-8f0f-73be140ec623",
   "metadata": {},
   "outputs": [],
   "source": [
    "sc.pl.umap(mdata[\"gex\"], color=\"Cxcr3\")"
   ]
  },
  {
   "cell_type": "code",
   "execution_count": null,
   "id": "20409644-62ec-49c9-a6d3-9d4c88997b2d",
   "metadata": {},
   "outputs": [],
   "source": [
    "sc.pl.umap(mdata[\"gex\"], color=\"leiden\")"
   ]
  },
  {
   "cell_type": "code",
   "execution_count": null,
   "id": "7b21d1a0-a1b8-4cb6-b1ff-eaa26857dbce",
   "metadata": {},
   "outputs": [],
   "source": [
    "sc.pl.umap(mdata_2019[\"gex\"], color=[\"Cxcr3\",\"sample\"])"
   ]
  },
  {
   "cell_type": "code",
   "execution_count": null,
   "id": "cbae9457-71d5-4dc0-a57f-023ce2f3e0f2",
   "metadata": {},
   "outputs": [],
   "source": [
    "sc.pl.umap(mdata_2021[\"gex\"], color=\"Cxcr3\")"
   ]
  },
  {
   "cell_type": "code",
   "execution_count": null,
   "id": "1a76393f-f08d-42ad-86c8-eac60119b192",
   "metadata": {},
   "outputs": [],
   "source": [
    "mdata_2021"
   ]
  },
  {
   "cell_type": "code",
   "execution_count": null,
   "id": "9446d6d2-9edb-47b5-a2bf-a332016ecc64",
   "metadata": {},
   "outputs": [],
   "source": [
    "sc.pl.umap(mdata_2019[\"gex\"], color=\"sample\")"
   ]
  },
  {
   "cell_type": "code",
   "execution_count": null,
   "id": "fcfc84dd-8d38-45c4-8e33-4a48391109ab",
   "metadata": {},
   "outputs": [],
   "source": []
  },
  {
   "cell_type": "code",
   "execution_count": null,
   "id": "ad64b9dd-d18d-4f5d-83d6-811923d40c1a",
   "metadata": {},
   "outputs": [],
   "source": []
  },
  {
   "cell_type": "code",
   "execution_count": null,
   "id": "dfafdd1b-8241-4768-a2fa-29ca3d46fb58",
   "metadata": {},
   "outputs": [],
   "source": []
  },
  {
   "cell_type": "markdown",
   "id": "0f7d7550-d8aa-41fc-b32f-3637656c5e71",
   "metadata": {},
   "source": [
    "### Compositional analysis"
   ]
  },
  {
   "cell_type": "code",
   "execution_count": null,
   "id": "6e3c11b5-be21-49a9-ae66-74f66f5599fc",
   "metadata": {},
   "outputs": [],
   "source": [
    "sample"
   ]
  },
  {
   "cell_type": "code",
   "execution_count": null,
   "id": "203e1b4e-cf0d-4a6a-94bc-97c5d4df9a86",
   "metadata": {},
   "outputs": [],
   "source": [
    "adata_tumor = adata_gex_merge[(adata_gex_merge.obs[\"origin\"] == \"tumor_primary\")] #tumor "
   ]
  },
  {
   "cell_type": "code",
   "execution_count": null,
   "id": "6f090201-cc74-45c3-9544-1b31436f469e",
   "metadata": {},
   "outputs": [],
   "source": [
    "adata_normal = subset_adata[(subset_adata.obs[\"origin\"] == \"normal_adjacent\")] #normal\n",
    "adata_normal = adata_normal[(adata_normal.obs[\"cell_type_major\"] != \"Tumor cells\")] #normal"
   ]
  },
  {
   "cell_type": "code",
   "execution_count": null,
   "id": "c81008e3-c452-4102-a59c-4713dbe2646a",
   "metadata": {},
   "outputs": [],
   "source": [
    "set(frac_by_condition.origin)"
   ]
  },
  {
   "cell_type": "code",
   "execution_count": null,
   "id": "433a1ff0-d04a-4ada-8373-32ec2a2c94d1",
   "metadata": {},
   "outputs": [],
   "source": [
    "frac_by_condition = (\n",
    "    adata_gex_merge.obs.groupby([\"group\", \"condition\"])\n",
    "    .apply(lambda x: x.value_counts(\"sample\", normalize=False))\n",
    "    .reset_index(name=\"n_cells\")\n",
    "    .assign(condition=lambda x: x[\"group\"].astype(str))\n",
    ")\n"
   ]
  },
  {
   "cell_type": "code",
   "execution_count": null,
   "id": "491df2cb-9108-4df1-9b3b-09a64aaa4931",
   "metadata": {
    "tags": []
   },
   "outputs": [],
   "source": [
    "frac_pivot = (\n",
    "    frac_by_condition.pivot(\n",
    "        index=[\"group\", \"condition\"],\n",
    "        columns=\"sample\",\n",
    "        values=\"n_cells\",\n",
    "    )\n",
    "    .reset_index()\n",
    "    #.drop(columns=\"other\")\n",
    ")\n"
   ]
  },
  {
   "cell_type": "code",
   "execution_count": null,
   "id": "ad232a97-c81d-4088-a796-ffb9a4ccb46e",
   "metadata": {},
   "outputs": [],
   "source": [
    "data_all = scc_dat.from_pandas(\n",
    "    frac_pivot, covariate_columns=[\"donor_id\", \"dataset\", \"sex\", \"tumor_stage\",\"condition\",\"origin\"]\n",
    ")"
   ]
  },
  {
   "cell_type": "code",
   "execution_count": null,
   "id": "b1dc0116-bd15-46d3-9739-fc4fa93540cb",
   "metadata": {},
   "outputs": [],
   "source": [
    "data_all.obs[\"sex\"] = pd.Categorical(\n",
    "    data_all.obs[\"sex\"], categories=[\"male\", \"female\"]\n",
    ")"
   ]
  },
  {
   "cell_type": "code",
   "execution_count": null,
   "id": "395168e7-cc0a-4db7-9aa1-1ef79f39ba38",
   "metadata": {},
   "outputs": [],
   "source": [
    "data_all._sanitize()"
   ]
  },
  {
   "cell_type": "code",
   "execution_count": null,
   "id": "76565610-5d11-4fb8-b7ae-e23dd8e8815f",
   "metadata": {},
   "outputs": [],
   "source": [
    "scc_viz.boxplots(data_all, feature_name=\"sex\", figsize=(12, 5), cmap = \"inferno\")\n",
    "\n",
    "#plt.savefig( \"figures/cell_proportion_tumor_and_normal_sex.png\")\n"
   ]
  },
  {
   "cell_type": "code",
   "execution_count": null,
   "id": "9cdc4fd5-e471-4a46-8776-d5b711700b2c",
   "metadata": {},
   "outputs": [],
   "source": [
    "scc_viz.boxplots(data_all, feature_name=\"origin\", figsize=(12, 5), cmap = \"inferno\")\n",
    "\n",
    "#plt.savefig( \"figures/cell_proportion_tumor_and_normal_origin.png\")\n"
   ]
  },
  {
   "cell_type": "code",
   "execution_count": null,
   "id": "5cce2967-5475-498a-b0c1-9b1ecc9517d1",
   "metadata": {},
   "outputs": [],
   "source": [
    "scc_viz.stacked_barplot(data_all, feature_name=\"sex\", figsize = (3,6))\n",
    "#plt.savefig( \"figures/cell_proportion_tumor_and_normal_sex_barplot.png\")"
   ]
  },
  {
   "cell_type": "code",
   "execution_count": null,
   "id": "ae21833d-a7eb-4393-879f-38714dc10939",
   "metadata": {},
   "outputs": [],
   "source": [
    "scc_viz.stacked_barplot(data_all, feature_name=\"origin\", figsize = (3,6))\n",
    "#plt.savefig( \"figures/cell_proportion_tumor_and_normal_origin_barplot.png\")"
   ]
  },
  {
   "cell_type": "code",
   "execution_count": null,
   "id": "97cc76d3-c2cf-4643-9c51-171dfe39cdf1",
   "metadata": {},
   "outputs": [],
   "source": []
  },
  {
   "cell_type": "code",
   "execution_count": null,
   "id": "cd2558f7-e8a4-47b9-8b74-ad3aa577f150",
   "metadata": {},
   "outputs": [],
   "source": [
    "#############################################################"
   ]
  },
  {
   "cell_type": "code",
   "execution_count": null,
   "id": "4b6e39ed-3cc0-4805-8a67-fc340b79616e",
   "metadata": {},
   "outputs": [],
   "source": [
    "# Load in the H5AD data\n",
    "path = \"/data/projects/2021/MicrobialMetabolites/single-cell-sorted-cd8/results/results_by_sample/merge_and_solo_samples\"\n",
    "adata = sc.read_h5ad(\n",
    "    f\"{path}/adata_nodoublet.h5ad\"\n",
    ")\n"
   ]
  },
  {
   "cell_type": "code",
   "execution_count": null,
   "id": "911701d7-022a-4a9e-b7e9-62cd4b5be755",
   "metadata": {},
   "outputs": [],
   "source": [
    "adata_vdj_10mix1_2019 = ir.io.read_10x_vdj(\"/data/projects/2021/MicrobialMetabolites/single-cell-sorted-cd8/2019-10-29_sorted_cd8/analyses_icbi/10mix1/outs/multi/vdj_t/all_contig_annotations.csv\")\n",
    "adata_vdj_10mix2_2019 = ir.io.read_10x_vdj(\"/data/projects/2021/MicrobialMetabolites/single-cell-sorted-cd8/2019-10-29_sorted_cd8/analyses_icbi/10mix2/outs/multi/vdj_t/all_contig_annotations.csv\")\n",
    "adata_vdj_11mix1_2019 = ir.io.read_10x_vdj(\"/data/projects/2021/MicrobialMetabolites/single-cell-sorted-cd8/2019-10-29_sorted_cd8/analyses_icbi/11mix1/outs/multi/vdj_t/all_contig_annotations.csv\")\n",
    "adata_vdj_11mix2_2019 = ir.io.read_10x_vdj(\"/data/projects/2021/MicrobialMetabolites/single-cell-sorted-cd8/2019-10-29_sorted_cd8/analyses_icbi/11mix2/outs/multi/vdj_t/all_contig_annotations.csv\")\n",
    "adata_vdj_GF1_2019 = ir.io.read_10x_vdj(\"/data/projects/2021/MicrobialMetabolites/single-cell-sorted-cd8/2019-10-29_sorted_cd8/analyses_icbi/GF1/outs/multi/vdj_t/all_contig_annotations.csv\")\n",
    "\n",
    "############ 2021\n",
    "adata_vdj_10mix_ICI1_2021 = ir.io.read_10x_vdj(\"/data/projects/2021/MicrobialMetabolites/single-cell-sorted-cd8/2021-02-01_sorted_cd8_til/analyses_icbi/10mix-ICI1/outs/multi/vdj_t/all_contig_annotations.csv\")\n",
    "adata_vdj_10mix_ICI2_2021 = ir.io.read_10x_vdj(\"/data/projects/2021/MicrobialMetabolites/single-cell-sorted-cd8/2021-02-01_sorted_cd8_til/analyses_icbi/10mix-ICI2/outs/multi/vdj_t/all_contig_annotations.csv\")\n",
    "adata_vdj_11mix_ICI1_2021 = ir.io.read_10x_vdj(\"/data/projects/2021/MicrobialMetabolites/single-cell-sorted-cd8/2021-02-01_sorted_cd8_til/analyses_icbi/11mix-ICI1/outs/multi/vdj_t/all_contig_annotations.csv\")\n",
    "adata_vdj_11mix_ICI2_2021 = ir.io.read_10x_vdj(\"/data/projects/2021/MicrobialMetabolites/single-cell-sorted-cd8/2021-02-01_sorted_cd8_til/analyses_icbi/11mix-ICI2/outs/multi/vdj_t/all_contig_annotations.csv\")\n",
    "adata_vdj_GF_ICI1_2021 = ir.io.read_10x_vdj(\"/data/projects/2021/MicrobialMetabolites/single-cell-sorted-cd8/2021-02-01_sorted_cd8_til/analyses_icbi/GF-ICI1/outs/multi/vdj_t/all_contig_annotations.csv\")\n",
    "adata_vdj_GF_ICI2_2021 = ir.io.read_10x_vdj(\"/data/projects/2021/MicrobialMetabolites/single-cell-sorted-cd8/2021-02-01_sorted_cd8_til/analyses_icbi/GF-ICI2/outs/multi/vdj_t/all_contig_annotations.csv\")\n",
    "adata_vdj_GF_ICI1_plus_2021 = ir.io.read_10x_vdj(\"/data/projects/2021/MicrobialMetabolites/single-cell-sorted-cd8/2021-02-01_sorted_cd8_til/analyses_icbi/GF-ICI1-plus/outs/multi/vdj_t/all_contig_annotations.csv\")\n",
    "adata_vdj_GF_ICI2_plus_2021 = ir.io.read_10x_vdj(\"/data/projects/2021/MicrobialMetabolites/single-cell-sorted-cd8/2021-02-01_sorted_cd8_til/analyses_icbi/GF-ICI2-plus/outs/multi/vdj_t/all_contig_annotations.csv\")"
   ]
  },
  {
   "cell_type": "code",
   "execution_count": null,
   "id": "1f212554-fb70-47f5-9fa2-8fe993990af8",
   "metadata": {},
   "outputs": [],
   "source": [
    "adata_gex_10mix1_2019.obs[\"sample_id\"]=\"10mix1_2019\"\n",
    "adata_gex_10mix2_2019.obs[\"sample_id\"]=\"10mix2_2019\"\n",
    "adata_gex_11mix1_2019.obs[\"sample_id\"]=\"11mix1_2019\"\n",
    "adata_gex_11mix2_2019.obs[\"sample_id\"]=\"11mix2_2019\"\n",
    "adata_gex_GF1_2019.obs[\"sample_id\"]=\"GF1_2019\"\n",
    "\n",
    "\n",
    "###############################################\n",
    "adata_gex_10mix_ICI1_2021.obs[\"sample_id\"]=\"10mix-ICI1_2021\"\n",
    "adata_gex_10mix_ICI2_2021.obs[\"sample_id\"]=\"10mix-ICI2_2021\"\n",
    "adata_gex_11mix_ICI1_2021.obs[\"sample_id\"]=\"11mix-ICI1_2021\"\n",
    "adata_gex_11mix_ICI2_2021.obs[\"sample_id\"]=\"11mix-ICI2_2021\"\n",
    "adata_gex_GF_ICI1_2021.obs[\"sample_id\"]=\"GF-ICI1_2021\"\n",
    "adata_gex_GF_ICI2_2021.obs[\"sample_id\"]=\"GF-ICI2_2021\"\n",
    "adata_gex_GF_ICI1_plus_2021.obs[\"sample_id\"]=\"GF-ICI1_plus_2021\"\n",
    "adata_gex_GF_ICI2_plus_2021.obs[\"sample_id\"]=\"GF-ICI2_plus_2021\""
   ]
  },
  {
   "cell_type": "code",
   "execution_count": null,
   "id": "5debd858-8d0e-4f32-81f3-8c1b916321d0",
   "metadata": {},
   "outputs": [],
   "source": [
    "adata_gex_10mix1_2019 =sc.read_10x_mtx(\"/data/projects/2021/MicrobialMetabolites/single-cell-sorted-cd8/2019-10-29_sorted_cd8/analyses_icbi/10mix1/outs/per_sample_outs/10mix1/count/sample_filtered_feature_bc_matrix\")\n",
    "adata_gex_10mix2_2019 = sc.read_10x_mtx(\"/data/projects/2021/MicrobialMetabolites/single-cell-sorted-cd8/2019-10-29_sorted_cd8/analyses_icbi/10mix2/outs/per_sample_outs/10mix2/count/sample_filtered_feature_bc_matrix\")\n",
    "adata_gex_11mix1_2019 =sc.read_10x_mtx(\"/data/projects/2021/MicrobialMetabolites/single-cell-sorted-cd8/2019-10-29_sorted_cd8/analyses_icbi/11mix1/outs/per_sample_outs/11mix1/count/sample_filtered_feature_bc_matrix\")\n",
    "adata_gex_11mix2_2019 = sc.read_10x_mtx(\"/data/projects/2021/MicrobialMetabolites/single-cell-sorted-cd8/2019-10-29_sorted_cd8/analyses_icbi/11mix2/outs/per_sample_outs/11mix2/count/sample_filtered_feature_bc_matrix\")\n",
    "adata_gex_GF1_2019 =sc.read_10x_mtx(\"/data/projects/2021/MicrobialMetabolites/single-cell-sorted-cd8/2019-10-29_sorted_cd8/analyses_icbi/GF1/outs/per_sample_outs/GF1/count/sample_filtered_feature_bc_matrix\")\n",
    "\n",
    "############ 2021\n",
    "adata_gex_10mix_ICI1_2021 = sc.read_10x_mtx(\"/data/projects/2021/MicrobialMetabolites/single-cell-sorted-cd8/2021-02-01_sorted_cd8_til/analyses_icbi/10mix-ICI1/outs/per_sample_outs/10mix-ICI1/count/sample_filtered_feature_bc_matrix\")\n",
    "adata_gex_10mix_ICI2_2021 =sc.read_10x_mtx(\"/data/projects/2021/MicrobialMetabolites/single-cell-sorted-cd8/2021-02-01_sorted_cd8_til/analyses_icbi/10mix-ICI2/outs/per_sample_outs/10mix-ICI2/count/sample_filtered_feature_bc_matrix\")\n",
    "adata_gex_11mix_ICI1_2021 =sc.read_10x_mtx(\"/data/projects/2021/MicrobialMetabolites/single-cell-sorted-cd8/2021-02-01_sorted_cd8_til/analyses_icbi/11mix-ICI1/outs/per_sample_outs/11mix-ICI1/count/sample_filtered_feature_bc_matrix\")\n",
    "adata_gex_11mix_ICI2_2021 = sc.read_10x_mtx(\"/data/projects/2021/MicrobialMetabolites/single-cell-sorted-cd8/2021-02-01_sorted_cd8_til/analyses_icbi/11mix-ICI2/outs/per_sample_outs/11mix-ICI2/count/sample_filtered_feature_bc_matrix\")\n",
    "adata_gex_GF_ICI1_2021 = sc.read_10x_mtx(\"/data/projects/2021/MicrobialMetabolites/single-cell-sorted-cd8/2021-02-01_sorted_cd8_til/analyses_icbi/GF-ICI1/outs/per_sample_outs/GF-ICI1/count/sample_filtered_feature_bc_matrix\")\n",
    "adata_gex_GF_ICI2_2021 = sc.read_10x_mtx(\"/data/projects/2021/MicrobialMetabolites/single-cell-sorted-cd8/2021-02-01_sorted_cd8_til/analyses_icbi/GF-ICI2/outs/per_sample_outs/GF-ICI2/count/sample_filtered_feature_bc_matrix\")\n",
    "adata_gex_GF_ICI1_plus_2021 = sc.read_10x_mtx(\"/data/projects/2021/MicrobialMetabolites/single-cell-sorted-cd8/2021-02-01_sorted_cd8_til/analyses_icbi/GF-ICI1-plus/outs/per_sample_outs/GF-ICI1-plus/count/sample_filtered_feature_bc_matrix\")\n",
    "adata_gex_GF_ICI2_plus_2021 = sc.read_10x_mtx(\"/data/projects/2021/MicrobialMetabolites/single-cell-sorted-cd8/2021-02-01_sorted_cd8_til/analyses_icbi/GF-ICI2-plus/outs/per_sample_outs/GF-ICI2-plus/count/sample_filtered_feature_bc_matrix\")"
   ]
  },
  {
   "cell_type": "code",
   "execution_count": null,
   "id": "57c6a44d-b306-439b-9311-cb7f8f376197",
   "metadata": {},
   "outputs": [],
   "source": [
    "adata_vdj_list = [adata_vdj_10mix2_2019,adata_vdj_11mix1_2019,adata_vdj_11mix2_2019,adata_vdj_GF1_2019,adata_vdj_10mix_ICI1_2021,adata_vdj_10mix_ICI2_2021,adata_vdj_11mix_ICI1_2021,adata_vdj_11mix_ICI2_2021,adata_vdj_GF_ICI1_2021,adata_vdj_GF_ICI2_2021,adata_vdj_GF_ICI1_plus_2021,adata_vdj_GF_ICI2_plus_2021]"
   ]
  },
  {
   "cell_type": "code",
   "execution_count": null,
   "id": "ae0f623f-fe6b-445c-9ed0-c8de5475aa75",
   "metadata": {
    "tags": []
   },
   "outputs": [],
   "source": [
    "adata_vdj = adata_vdj_10mix1_2019.concatenate(adata_vdj_list)"
   ]
  },
  {
   "cell_type": "code",
   "execution_count": null,
   "id": "6adba8ce-eb4f-426c-bbe1-467bb182899d",
   "metadata": {},
   "outputs": [],
   "source": [
    "adata_gex_list = [adata_gex_10mix2_2019,adata_gex_11mix1_2019,adata_gex_11mix2_2019,adata_gex_GF1_2019,adata_gex_10mix_ICI1_2021,adata_gex_10mix_ICI2_2021,adata_gex_11mix_ICI1_2021,adata_gex_11mix_ICI2_2021,adata_gex_GF_ICI1_2021,adata_gex_GF_ICI2_2021,adata_gex_GF_ICI1_plus_2021,adata_gex_GF_ICI2_plus_2021]"
   ]
  },
  {
   "cell_type": "code",
   "execution_count": null,
   "id": "280023be-d8ce-47c2-97c4-503a31f51864",
   "metadata": {},
   "outputs": [],
   "source": [
    "adata_gex = adata_gex_10mix1_2019.concatenate(adata_gex_list)"
   ]
  },
  {
   "cell_type": "code",
   "execution_count": null,
   "id": "9caae088-7c96-44fc-952b-3e0837d3ac2a",
   "metadata": {},
   "outputs": [],
   "source": [
    "adata_vdj.write_h5ad(\"adata_vdj.h5ad\")"
   ]
  },
  {
   "cell_type": "code",
   "execution_count": null,
   "id": "7e0cedb6-4a0c-43b8-9441-98269f7cd371",
   "metadata": {},
   "outputs": [],
   "source": [
    "adata_gex.write_h5ad(\"adata_gex.h5ad\")"
   ]
  },
  {
   "cell_type": "code",
   "execution_count": null,
   "id": "056dbef0-1384-4ba3-82ba-63d7fc053beb",
   "metadata": {},
   "outputs": [],
   "source": [
    "adata_vdj"
   ]
  },
  {
   "cell_type": "code",
   "execution_count": null,
   "id": "ba2b40d2-2917-4a13-b2b9-742e6edceba6",
   "metadata": {},
   "outputs": [],
   "source": [
    "adata_vdj_10mix1_2019"
   ]
  },
  {
   "cell_type": "code",
   "execution_count": null,
   "id": "a9311e92-ac0b-4064-86a3-d190bfd16b09",
   "metadata": {},
   "outputs": [],
   "source": [
    "adata_gex_10mix1_2019  = sc.read_10x_mtx(\"/data/projects/2021/MicrobialMetabolites/single-cell-sorted-cd8/2019-10-29_sorted_cd8/analyses_icbi/10mix1/outs/per_sample_outs/10mix1/count/sample_filtered_feature_bc_matrix\")"
   ]
  },
  {
   "cell_type": "code",
   "execution_count": null,
   "id": "e95a464b-de29-410a-b4e1-78c724000780",
   "metadata": {},
   "outputs": [],
   "source": [
    "adata_vdj_10mix1_2019"
   ]
  },
  {
   "cell_type": "code",
   "execution_count": null,
   "id": "c39884df-6436-4721-8ac2-2380d3e4018a",
   "metadata": {},
   "outputs": [],
   "source": [
    "adata_vdj_10mix1_2019.obs"
   ]
  },
  {
   "cell_type": "code",
   "execution_count": null,
   "id": "b773363e-d0c3-4645-bc13-12479327e130",
   "metadata": {},
   "outputs": [],
   "source": [
    "adata_vdj_10mix1_2019.var"
   ]
  },
  {
   "cell_type": "code",
   "execution_count": null,
   "id": "23568f5a-a16f-4957-bddd-d7a3ec76eea7",
   "metadata": {},
   "outputs": [],
   "source": [
    "adata_gex_10mix1_2019"
   ]
  },
  {
   "cell_type": "code",
   "execution_count": null,
   "id": "9ed34d44-215e-4471-b6da-de058f82e63c",
   "metadata": {},
   "outputs": [],
   "source": [
    "adata_gex_10mix1_2019.obs"
   ]
  },
  {
   "cell_type": "code",
   "execution_count": null,
   "id": "7f29bca1-a70e-48fd-9745-3417af95b597",
   "metadata": {},
   "outputs": [],
   "source": [
    "adata_gex_10mix1_2019.var"
   ]
  },
  {
   "cell_type": "code",
   "execution_count": null,
   "id": "4879d27f-f8f0-496c-b463-44ff75ebf8e0",
   "metadata": {},
   "outputs": [],
   "source": [
    "pd.DataFrame([x for x in adata_gex_10mix1_2019.var.index[~adata_gex_10mix1_2019.var.gene_ids.str.contains(\"ENSMUSG\")]], columns=['Antibody'])"
   ]
  },
  {
   "cell_type": "code",
   "execution_count": null,
   "id": "b050ee25-79b8-4da2-bfc1-9186ab839604",
   "metadata": {},
   "outputs": [],
   "source": [
    "mudata_10mix1_2019 = mu.MuData({\"gex\": adata_gex_10mix1_2019, \"airr\": adata_vdj_10mix1_2019})"
   ]
  },
  {
   "cell_type": "code",
   "execution_count": null,
   "id": "40a0c181-53d4-4bae-84df-d8b954246aa4",
   "metadata": {},
   "outputs": [],
   "source": [
    "mudata_10mix1_2019"
   ]
  },
  {
   "cell_type": "code",
   "execution_count": null,
   "id": "de6a9958-cb99-46b2-909e-3e336a56a608",
   "metadata": {},
   "outputs": [],
   "source": [
    "mu.pp.intersect_obs(mudata_10mix1_2019)"
   ]
  },
  {
   "cell_type": "code",
   "execution_count": null,
   "id": "9b447461-bba2-4fa4-9cd8-0993a8aab901",
   "metadata": {},
   "outputs": [],
   "source": [
    "mdata = mudata_10mix1_2019"
   ]
  },
  {
   "cell_type": "code",
   "execution_count": null,
   "id": "8151cd72-3ff9-4d09-88f3-985f6a0fb728",
   "metadata": {},
   "outputs": [],
   "source": [
    "sc.pp.filter_genes(mdata[\"gex\"], min_cells=10)\n",
    "sc.pp.filter_cells(mdata[\"gex\"], min_genes=100)\n",
    "sc.pp.normalize_total(mdata[\"gex\"])\n",
    "sc.pp.log1p(mdata[\"gex\"])\n",
    "\n",
    "# Simplified preprocessing steps:\n",
    "sc.pp.highly_variable_genes(mdata[\"gex\"], n_top_genes=5000)\n",
    "sc.tl.pca(mdata[\"gex\"])\n",
    "sc.pp.neighbors(mdata[\"gex\"])"
   ]
  },
  {
   "cell_type": "code",
   "execution_count": null,
   "id": "ee3d8de3-33fc-43e5-be26-bfca490a4624",
   "metadata": {},
   "outputs": [],
   "source": [
    "mdata[\"gex\"].obs[\"sample_id\"] = \"10mix_1_2019\""
   ]
  },
  {
   "cell_type": "code",
   "execution_count": null,
   "id": "4fe7e0be-f209-4513-9c7d-94d040f90a75",
   "metadata": {},
   "outputs": [],
   "source": [
    "mdata.update()"
   ]
  },
  {
   "cell_type": "code",
   "execution_count": null,
   "id": "634395f4-7303-4cdf-8b17-12b28dce097c",
   "metadata": {},
   "outputs": [],
   "source": [
    "ir.pp.index_chains(mdata)"
   ]
  },
  {
   "cell_type": "code",
   "execution_count": null,
   "id": "0535f8e2-f1cb-4cca-b366-72b788bef79e",
   "metadata": {},
   "outputs": [],
   "source": [
    "ir.tl.chain_qc(mdata)\n",
    "\n",
    "_ = ir.pl.group_abundance(\n",
    "   mdata, groupby=\"airr:receptor_type\", target_col=\"gex:sample_id\"\n",
    ")"
   ]
  },
  {
   "cell_type": "code",
   "execution_count": null,
   "id": "6890f88b-9a87-43c5-9b80-de8b69f66035",
   "metadata": {},
   "outputs": [],
   "source": [
    "_ = ir.pl.group_abundance(\n",
    "    mdata, groupby=\"airr:receptor_subtype\", target_col=\"gex:sample_id\"\n",
    ")"
   ]
  },
  {
   "cell_type": "code",
   "execution_count": null,
   "id": "b2464dcb-1f40-413f-892d-1cc05bb6e515",
   "metadata": {},
   "outputs": [],
   "source": [
    "mu.pp.filter_obs(mdata, \"airr:chain_pairing\", lambda x: x != \"multichain\")"
   ]
  },
  {
   "cell_type": "code",
   "execution_count": null,
   "id": "95a05694-c977-4bf7-9523-578069a2be61",
   "metadata": {},
   "outputs": [],
   "source": [
    "_ = ir.pl.group_abundance(\n",
    "    mdata, groupby=\"airr:chain_pairing\", target_col=\"gex:sample_id\"\n",
    ")"
   ]
  },
  {
   "cell_type": "code",
   "execution_count": null,
   "id": "b995dcc7-95d2-4475-add6-5ee267caf6ea",
   "metadata": {},
   "outputs": [],
   "source": [
    "mu.pp.filter_obs(mdata, \"airr:chain_pairing\", lambda x: x == \"single pair\")"
   ]
  },
  {
   "cell_type": "code",
   "execution_count": null,
   "id": "093c41d5-0342-4a00-afcb-1648d8c859a1",
   "metadata": {},
   "outputs": [],
   "source": [
    "sc.tl.umap(mdata[\"gex\"])\n",
    "sc.tl.leiden(mdata[\"gex\"])"
   ]
  },
  {
   "cell_type": "code",
   "execution_count": null,
   "id": "be883e0d-14de-4483-924d-160ef7df5b23",
   "metadata": {},
   "outputs": [],
   "source": [
    "mudata_10mix1_2019"
   ]
  },
  {
   "cell_type": "code",
   "execution_count": null,
   "id": "669d3443-9ea4-4b03-a7a8-e3d754761b88",
   "metadata": {},
   "outputs": [],
   "source": [
    "sc.pl.umap(mdata[\"gex\"], color=[\"leiden\"], wspace=0.3)"
   ]
  },
  {
   "cell_type": "code",
   "execution_count": null,
   "id": "62fb5e0c-4b03-4a5f-bcf5-25ae19ab7536",
   "metadata": {},
   "outputs": [],
   "source": [
    "ir.pp.ir_dist(mdata, metric='identity', sequence='nt')"
   ]
  },
  {
   "cell_type": "code",
   "execution_count": null,
   "id": "747b0224-f891-4227-b531-d2eaefdcc6ca",
   "metadata": {},
   "outputs": [],
   "source": [
    "ir.tl.define_clonotypes(mdata, receptor_arms=\"all\", dual_ir=\"primary_only\")"
   ]
  },
  {
   "cell_type": "code",
   "execution_count": null,
   "id": "352528e4-a669-4f58-90d5-8c484f6b533b",
   "metadata": {},
   "outputs": [],
   "source": [
    "print(pd.__version__)"
   ]
  },
  {
   "cell_type": "code",
   "execution_count": null,
   "id": "c503937b-4a4e-4d7d-8ffe-89638189c40e",
   "metadata": {},
   "outputs": [],
   "source": [
    "print(sc.__version__)"
   ]
  },
  {
   "cell_type": "code",
   "execution_count": null,
   "id": "ebcd67cc-788c-4da8-8b9f-7208e448e3f0",
   "metadata": {},
   "outputs": [],
   "source": []
  }
 ],
 "metadata": {
  "kernelspec": {
   "display_name": "Python 3 (ipykernel)",
   "language": "python",
   "name": "python3"
  },
  "language_info": {
   "codemirror_mode": {
    "name": "ipython",
    "version": 3
   },
   "file_extension": ".py",
   "mimetype": "text/x-python",
   "name": "python",
   "nbconvert_exporter": "python",
   "pygments_lexer": "ipython3",
   "version": "3.11.8"
  }
 },
 "nbformat": 4,
 "nbformat_minor": 5
}
