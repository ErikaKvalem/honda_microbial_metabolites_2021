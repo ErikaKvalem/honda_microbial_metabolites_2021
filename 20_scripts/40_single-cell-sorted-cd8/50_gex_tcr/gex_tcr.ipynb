{
 "cells": [
  {
   "cell_type": "code",
   "execution_count": null,
   "id": "99c9a2cb-eeb4-4b62-bd84-5d3cd03dfa1d",
   "metadata": {},
   "outputs": [],
   "source": [
    "import scirpy as ir"
   ]
  },
  {
   "cell_type": "code",
   "execution_count": null,
   "id": "4cab73b6-7df2-416c-99d7-44d07376172c",
   "metadata": {},
   "outputs": [],
   "source": [
    "import scanpy as sc"
   ]
  },
  {
   "cell_type": "code",
   "execution_count": null,
   "id": "6c63c463-2269-4f65-90ba-a715e7752464",
   "metadata": {},
   "outputs": [],
   "source": [
    "from glob import glob\n",
    "import warnings\n",
    "import tarfile\n",
    "\n",
    "import anndata\n",
    "import matplotlib.pyplot as plt\n",
    "import pandas as pd\n",
    "import scanpy as sc"
   ]
  },
  {
   "cell_type": "code",
   "execution_count": null,
   "id": "bbb3d073-adc2-4e7d-b923-854fa3bdf677",
   "metadata": {},
   "outputs": [],
   "source": [
    "import muon as mu"
   ]
  },
  {
   "cell_type": "code",
   "execution_count": null,
   "id": "1b823966-dbfb-4cae-adf5-c7f607199244",
   "metadata": {},
   "outputs": [],
   "source": [
    "import numpy as np"
   ]
  },
  {
   "cell_type": "markdown",
   "id": "7a4fc3ff-3105-4482-9457-8a265076a9e3",
   "metadata": {},
   "source": [
    "## TCR"
   ]
  },
  {
   "cell_type": "code",
   "execution_count": null,
   "id": "faf1c397-9f87-4a27-97b3-3f5e1128ca9d",
   "metadata": {},
   "outputs": [],
   "source": [
    "samples = {\n",
    "    \"10mix1\": {\"group\": \"10mix\"},\n",
    "    \"10mix2\": {\"group\": \"10mix\"},\n",
    "    \"11mix1\": {\"group\": \"11mix\"},\n",
    "    \"11mix2\": {\"group\": \"11mix\"},\n",
    "    \"GF1\": {\"group\": \"GF\"},\n",
    "    \"GF2\": {\"group\": \"GF\"},\n",
    "\n",
    "}    \n",
    "    \n",
    "# Create a list of AnnData objects (one for each sample)\n",
    "adatas_tcr = {}\n",
    "#adatas_gex = {}\n",
    "for sample, sample_meta in samples.items():\n",
    "    #adata_gex = sc.read_10x_h5(f\"/data/projects/2021/MicrobialMetabolites/single-cell-sorted-cd8/2019-10-29_sorted_cd8/analyses_icbi/{sample}/outs/per_sample_outs/{sample}/count/sample_filtered_feature_bc_matrix.h5\")\n",
    "    adata_tcr = ir.io.read_10x_vdj(f\"/data/projects/2021/MicrobialMetabolites/single-cell-sorted-cd8/2019-10-29_sorted_cd8/analyses_icbi/{sample}/outs/per_sample_outs/{sample}/vdj_t/filtered_contig_annotations.csv\")\n",
    "    # concatenation only works with unique gene names\n",
    "    #adata_gex.var_names_make_unique()\n",
    "    adatas_tcr[sample] = adata_tcr\n",
    "    #adatas_gex[sample] = adata_gexc"
   ]
  },
  {
   "cell_type": "code",
   "execution_count": null,
   "id": "4c0cce37-e215-479e-ad91-15e1acc323d1",
   "metadata": {},
   "outputs": [],
   "source": [
    "samples = {\n",
    "    \"10mix-ICI1\": {\"group\": \"10mix\", \"condition\":\"ICI\"},\n",
    "    \"10mix-ICI2\": {\"group\": \"10mix\",\"condition\":\"ICI\"},\n",
    "    \"11mix-ICI1\": {\"group\": \"11mix\",\"condition\":\"ICI\"},\n",
    "    \"11mix-ICI2\": {\"group\": \"11mix\",\"condition\":\"ICI\"},\n",
    "    \"GF-ICI1\": {\"group\": \"GF\",\"condition\":\"No ICI\"},\n",
    "    \"GF-ICI2\": {\"group\": \"GF\",\"condition\":\"No ICI\"},\n",
    "    \"GF-ICI1-plus\": {\"group\": \"GF-plus\",\"condition\":\"ICI\"},\n",
    "    \"GF-ICI2-plus\": {\"group\": \"GF-plus\",\"condition\":\"ICI\"},\n",
    "}    \n",
    "    \n",
    "# Create a list of AnnData objects (one for each sample)\n",
    "adatas_tcr_2021 = {}\n",
    "#adatas_gex_2021 = {}\n",
    "for sample, sample_meta in samples.items():\n",
    "    #adata_gex_2021 = sc.read_10x_h5(f\"/data/projects/2021/MicrobialMetabolites/single-cell-sorted-cd8/2021-02-01_sorted_cd8_til/analyses_icbi/{sample}/outs/per_sample_outs/{sample}/count/sample_filtered_feature_bc_matrix.h5\")\n",
    "    adata_tcr_2021 = ir.io.read_10x_vdj(f\"/data/projects/2021/MicrobialMetabolites/single-cell-sorted-cd8/2021-02-01_sorted_cd8_til/analyses_icbi/{sample}/outs/per_sample_outs/{sample}/vdj_t/filtered_contig_annotations.csv\")\n",
    "    # concatenation only works with unique gene names\n",
    "    #adata_gex_2021.var_names_make_unique()\n",
    "    adatas_tcr_2021[sample] = adata_tcr_2021\n",
    "    #adatas_gex_2021[sample] = adata_gex_2021"
   ]
  },
  {
   "cell_type": "code",
   "execution_count": null,
   "id": "98babbd6-3677-45ee-a004-1864d2d6796f",
   "metadata": {},
   "outputs": [],
   "source": [
    "samples = {\n",
    "    \"10mix-ICI1\": {\"group\": \"10mix\", \"condition\":\"ICI\"},\n",
    "    \"10mix-ICI2\": {\"group\": \"10mix\",\"condition\":\"ICI\"},\n",
    "    \"11mix-ICI1\": {\"group\": \"11mix\",\"condition\":\"ICI\"},\n",
    "    \"11mix-ICI2\": {\"group\": \"11mix\",\"condition\":\"ICI\"},\n",
    "    \"GF-ICI1\": {\"group\": \"GF\",\"condition\":\"No ICI\"},\n",
    "    \"GF-ICI2\": {\"group\": \"GF\",\"condition\":\"No ICI\"},\n",
    "    \"GF-ICI1-plus\": {\"group\": \"GF-plus\",\"condition\":\"ICI\"},\n",
    "    \"GF-ICI2-plus\": {\"group\": \"GF-plus\",\"condition\":\"ICI\"},\n",
    "    \"10mix1\": {\"group\": \"10mix\", \"condition\":\"naive\"},\n",
    "    \"10mix2\": {\"group\": \"10mix\", \"condition\":\"naive\"},\n",
    "    \"11mix1\": {\"group\": \"11mix\", \"condition\":\"naive\"},\n",
    "    \"11mix2\": {\"group\": \"11mix\", \"condition\":\"naive\"},\n",
    "    \"GF1\": {\"group\": \"GF\", \"condition\":\"naive\"},\n",
    "    \"GF2\": {\"group\": \"GF\", \"condition\":\"naive\"},\n",
    "}    "
   ]
  },
  {
   "cell_type": "code",
   "execution_count": null,
   "id": "b8996fe2-d7d1-4605-b024-22874fbc403b",
   "metadata": {},
   "outputs": [],
   "source": [
    "# Merge anndata objects\n",
    "#adata_gex = anndata.concat(adatas_gex, index_unique=\"_\")\n",
    "adata_tcr = anndata.concat(adatas_tcr, index_unique=\"_\")"
   ]
  },
  {
   "cell_type": "code",
   "execution_count": null,
   "id": "8a8e0e44-5dda-40ed-b625-32a6fbc2d386",
   "metadata": {},
   "outputs": [],
   "source": [
    "# Merge anndata objects\n",
    "#adata_gex_2021 = anndata.concat(adatas_gex_2021, index_unique=\"_\")\n",
    "adata_tcr_2021 = anndata.concat(adatas_tcr_2021, index_unique=\"_\")"
   ]
  },
  {
   "cell_type": "code",
   "execution_count": null,
   "id": "8fec21c9-2be9-4df0-be40-83af071e53f1",
   "metadata": {},
   "outputs": [],
   "source": [
    "#adata_gex_merge = anndata.concat([adata_gex,adata_gex_2021], index_unique=\"_\")\n",
    "adata_tcr_merge = anndata.concat([adata_tcr,adata_tcr_2021], index_unique=\"_\")"
   ]
  },
  {
   "cell_type": "code",
   "execution_count": null,
   "id": "56654f08-7bbc-4d2d-ad29-e70b90b5acf1",
   "metadata": {},
   "outputs": [],
   "source": [
    "# Set global met'adata on `mdata.obs`\n",
    "adata_tcr_merge.obs[\"sample_id\"] = adata_tcr_merge.obs_names.to_series().str.split(\"_\", expand=True)[1]\n",
    "adata_tcr_merge.obs[\"group\"] = adata_tcr_merge.obs[\"sample_id\"].map(lambda x: samples[x][\"group\"])\n",
    "adata_tcr_merge.obs[\"condition\"] = adata_tcr_merge.obs[\"sample_id\"].map(lambda x: samples[x][\"condition\"])"
   ]
  },
  {
   "cell_type": "code",
   "execution_count": null,
   "id": "2d7e1694-adbe-4525-b05f-f4a6fd7f8cd1",
   "metadata": {},
   "outputs": [],
   "source": [
    "def remove_after_last_underscore(name):\n",
    "    return name.rsplit('_', 1)[0]\n",
    "\n",
    "# Apply the function to obs_names\n",
    "adata_tcr_merge.obs_names = [remove_after_last_underscore(name) for name in adata_tcr_merge.obs_names]"
   ]
  },
  {
   "cell_type": "code",
   "execution_count": null,
   "id": "bf3ef9e9-2e2b-44d6-8d54-e31945bd26fe",
   "metadata": {},
   "outputs": [],
   "source": [
    "adata_tcr_merge.obs.group.unique()"
   ]
  },
  {
   "cell_type": "code",
   "execution_count": null,
   "id": "89aeb072-f9a7-4445-b2bb-6217b7420e04",
   "metadata": {},
   "outputs": [],
   "source": [
    "mask = ~(adata_tcr_merge.obs['sample_id'] == \"GF2\") #remove GF2 because the quality of this sample was not good\n",
    "# Subset the AnnData object using the boolean mask\n",
    "adata_tcr_merge = adata_tcr_merge[mask].copy()"
   ]
  },
  {
   "cell_type": "code",
   "execution_count": null,
   "id": "89bc2072-ca01-4d56-b7db-ce6d35e66e7b",
   "metadata": {},
   "outputs": [],
   "source": [
    "set(adata_tcr_merge.obs[\"sample_id\"])"
   ]
  },
  {
   "cell_type": "code",
   "execution_count": null,
   "id": "6fb819af-b3e3-48e7-a010-e0308cfb8e76",
   "metadata": {},
   "outputs": [],
   "source": [
    "adata_tcr_merge.obs_names"
   ]
  },
  {
   "cell_type": "markdown",
   "id": "a491fda8-11f9-4593-94c7-3b89a37829ac",
   "metadata": {},
   "source": [
    "## GEX"
   ]
  },
  {
   "cell_type": "code",
   "execution_count": null,
   "id": "76f456df-bcf9-4b3b-b4d8-13a8c847d634",
   "metadata": {},
   "outputs": [],
   "source": [
    "adata_gex =  sc.read_h5ad(\"/data/projects/2021/MicrobialMetabolites/single-cell-sorted-cd8/results/adata_solo_integrated.h5ad\")"
   ]
  },
  {
   "cell_type": "code",
   "execution_count": null,
   "id": "26d4b0e8-093c-4096-84a7-0c076b66c562",
   "metadata": {},
   "outputs": [],
   "source": [
    "mask =  ~(adata_gex.obs['sample_id'] == \"GF2\") #remove GF2 because the quality of this sample was not good\n",
    "# Subset the AnnData object using the boolean mask\n",
    "adata_gex = adata_gex[mask].copy()"
   ]
  },
  {
   "cell_type": "code",
   "execution_count": null,
   "id": "02b4e1f1-4473-49e3-9b4e-3def95531243",
   "metadata": {},
   "outputs": [],
   "source": [
    "adata_gex"
   ]
  },
  {
   "cell_type": "code",
   "execution_count": null,
   "id": "116fd759-53d4-48d6-89c1-c55751c16659",
   "metadata": {
    "scrolled": true
   },
   "outputs": [],
   "source": [
    "adata_gex.obs[[\"COND\", \"batch_id\", \"condition\",\"sample_id\"]]"
   ]
  },
  {
   "cell_type": "code",
   "execution_count": null,
   "id": "7cea8a44-ac29-4076-8799-3a74c5b5dfa6",
   "metadata": {},
   "outputs": [],
   "source": [
    "adata_gex.obs[\"group\"] = adata_gex.obs[\"sample_id\"].map(lambda x: samples[x][\"group\"])\n",
    "adata_gex.obs[\"condition\"] = adata_gex.obs[\"sample_id\"].map(lambda x: samples[x][\"condition\"])"
   ]
  },
  {
   "cell_type": "code",
   "execution_count": null,
   "id": "2c48b570-c699-4adc-9021-a85a281eeb32",
   "metadata": {},
   "outputs": [],
   "source": [
    "new_obs_names = [f\"{name}_{sample_id}\" for name, sample_id in zip(adata_gex.obs_names, adata_gex.obs['sample_id'])]\n",
    "\n",
    "# Update the obs_names with the new names\n",
    "adata_gex.obs_names = new_obs_names"
   ]
  },
  {
   "cell_type": "code",
   "execution_count": null,
   "id": "23ce6491-ef33-463d-846f-f2066345963e",
   "metadata": {},
   "outputs": [],
   "source": [
    "def replace_after_hyphen(name):\n",
    "    parts = name.split('-', 1)  # Split at the first hyphen\n",
    "    if len(parts) > 1 and len(parts[1]) > 0:\n",
    "        parts[1] = '1' + parts[1][1:]  # Replace the first character after the hyphen\n",
    "    return '-'.join(parts)\n",
    "\n",
    "# Apply the function to obs_names\n",
    "adata_gex.obs_names = [replace_after_hyphen(name) for name in adata_gex.obs_names]"
   ]
  },
  {
   "cell_type": "code",
   "execution_count": null,
   "id": "e38283ae-3ad5-4641-bc05-fe5b86936087",
   "metadata": {
    "scrolled": true
   },
   "outputs": [],
   "source": [
    "adata_gex.var.index.name = None"
   ]
  },
  {
   "cell_type": "markdown",
   "id": "175aeba0-48b9-4c84-ab98-593fe09dadae",
   "metadata": {},
   "source": [
    "## MUDATA"
   ]
  },
  {
   "cell_type": "code",
   "execution_count": null,
   "id": "bcd4a556-3ace-4502-b1ab-62b51b6b2403",
   "metadata": {},
   "outputs": [],
   "source": [
    "mdata = mu.MuData({\"gex\": adata_gex, \"airr\": adata_tcr_merge})"
   ]
  },
  {
   "cell_type": "code",
   "execution_count": null,
   "id": "e6c92b4d-cb9d-4dc1-bc51-81a50b1e3cbb",
   "metadata": {
    "scrolled": true
   },
   "outputs": [],
   "source": [
    "mdata"
   ]
  },
  {
   "cell_type": "markdown",
   "id": "a9597aa2-0b03-46cd-b0a4-9dbb030aa82d",
   "metadata": {},
   "source": [
    "### MUDATA QC"
   ]
  },
  {
   "cell_type": "code",
   "execution_count": null,
   "id": "85319713-e0b5-42d1-8df5-438aa0a9bf8e",
   "metadata": {},
   "outputs": [],
   "source": [
    "mu.pl.embedding(\n",
    "    mdata,\n",
    "    basis=\"gex:umap\",\n",
    "    color=[\"gex:leiden\"],\n",
    "    ncols=3,\n",
    "    wspace=0.7,\n",
    ")"
   ]
  },
  {
   "cell_type": "code",
   "execution_count": null,
   "id": "54f8ff9d-2a60-4c6f-9f3f-f7d213ab20b2",
   "metadata": {},
   "outputs": [],
   "source": [
    "# mitochondrial genes\n",
    "mdata[\"gex\"].var[\"mt\"] = mdata.var_names.str.startswith(\"mt-\")\n"
   ]
  },
  {
   "cell_type": "code",
   "execution_count": null,
   "id": "b2fc39df-5cec-4f34-a12a-20aedeacd2e9",
   "metadata": {},
   "outputs": [],
   "source": [
    "sc.pp.calculate_qc_metrics(\n",
    "    mdata[\"gex\"], qc_vars=[\"mt\"], inplace=True, percent_top=[20], log1p=True\n",
    ")"
   ]
  },
  {
   "cell_type": "code",
   "execution_count": null,
   "id": "9d150d84-dcf2-4ea4-8f58-6045779b5d7d",
   "metadata": {},
   "outputs": [],
   "source": [
    "fig, axes = plt.subplots(2, 2, figsize=(10, 8))\n",
    "axes=axes.flatten()\n",
    "sc.pl.umap(\n",
    "    mdata[\"gex\"],\n",
    "    color=\"pct_counts_mt\",\n",
    "    cmap=\"inferno\",\n",
    "    vmin=0,\n",
    "    vmax=\"p99\",\n",
    "    sort_order=False,\n",
    "    show=False,\n",
    "    ax=axes[0],\n",
    ")\n",
    "sc.pl.umap(\n",
    "    mdata[\"gex\"],\n",
    "    color=\"total_counts\",\n",
    "    cmap=\"inferno\",\n",
    "    vmax=\"p99\",\n",
    "    sort_order=False,\n",
    "    show=False,\n",
    "    ax=axes[1],\n",
    ")\n",
    "sc.pl.umap(\n",
    "    mdata[\"gex\"],\n",
    "    color=\"n_genes_by_counts\",\n",
    "    cmap=\"inferno\",\n",
    "    vmax=\"p99\",\n",
    "    sort_order=False,\n",
    "    show=False,\n",
    "    ax=axes[2],\n",
    ")\n",
    "sc.pl.umap(\n",
    "    mdata[\"gex\"],\n",
    "    color=\"n_genes\",\n",
    "    cmap=\"inferno\",\n",
    "    vmax=\"p99\",\n",
    "    sort_order=False,\n",
    "    show=False,\n",
    "    ax=axes[3],\n",
    ")"
   ]
  },
  {
   "cell_type": "code",
   "execution_count": null,
   "id": "bd750871-d961-49d4-8c96-df1d07a4a4a1",
   "metadata": {},
   "outputs": [],
   "source": [
    "def is_outlier(adata, metric: str, nmads: int):\n",
    "    M = adata.obs[metric]\n",
    "    outlier = (M < np.median(M) - nmads * median_abs_deviation(M)) | (\n",
    "        np.median(M) + nmads * median_abs_deviation(M) < M\n",
    "    )\n",
    "    return outlier"
   ]
  },
  {
   "cell_type": "code",
   "execution_count": null,
   "id": "6297870a-aaa9-4520-b11a-967c32b1cca5",
   "metadata": {},
   "outputs": [],
   "source": [
    "\n",
    "from scipy.stats import median_abs_deviation"
   ]
  },
  {
   "cell_type": "code",
   "execution_count": null,
   "id": "ca1bfa74-5a6e-496c-b6f0-cdafe7dd6dbe",
   "metadata": {},
   "outputs": [],
   "source": [
    "mdata[\"gex\"].obs[\"outlier\"] = (\n",
    "    is_outlier(mdata[\"gex\"], \"log1p_total_counts\", 1)\n",
    "    | is_outlier(mdata[\"gex\"], \"log1p_n_genes_by_counts\", 1)\n",
    "    | is_outlier(mdata[\"gex\"], \"pct_counts_in_top_20_genes\",1)\n",
    ")\n",
    "mdata[\"gex\"].obs.outlier.value_counts()"
   ]
  },
  {
   "cell_type": "code",
   "execution_count": null,
   "id": "f206d804-be61-4b24-b70b-3e6e8e785415",
   "metadata": {},
   "outputs": [],
   "source": [
    "mdata_qc = mdata[\"gex\"][(~mdata[\"gex\"].obs.outlier)]"
   ]
  },
  {
   "cell_type": "code",
   "execution_count": null,
   "id": "90cd4d58-3354-4efe-9866-d9482092f16d",
   "metadata": {},
   "outputs": [],
   "source": [
    "fig, axes = plt.subplots(2, 2, figsize=(10, 8))\n",
    "axes=axes.flatten()\n",
    "sc.pl.umap(\n",
    "    mdata_qc,\n",
    "    color=\"pct_counts_mt\",\n",
    "    cmap=\"inferno\",\n",
    "    vmin=0,\n",
    "    vmax=\"p99\",\n",
    "    sort_order=False,\n",
    "    show=False,\n",
    "    ax=axes[0],\n",
    ")\n",
    "sc.pl.umap(\n",
    "    mdata_qc,\n",
    "    color=\"total_counts\",\n",
    "    cmap=\"inferno\",\n",
    "    vmax=\"p99\",\n",
    "    sort_order=False,\n",
    "    show=False,\n",
    "    ax=axes[1],\n",
    ")\n",
    "sc.pl.umap(\n",
    "    mdata_qc,\n",
    "    color=\"n_genes_by_counts\",\n",
    "    cmap=\"inferno\",\n",
    "    vmax=\"p99\",\n",
    "    sort_order=False,\n",
    "    show=False,\n",
    "    ax=axes[2],\n",
    ")\n",
    "sc.pl.umap(\n",
    "    mdata_qc,\n",
    "    color=\"n_genes\",\n",
    "    cmap=\"inferno\",\n",
    "    vmax=\"p99\",\n",
    "    sort_order=False,\n",
    "    show=False,\n",
    "    ax=axes[3],\n",
    ")"
   ]
  },
  {
   "cell_type": "code",
   "execution_count": null,
   "id": "3b05334b-2e93-4564-96e0-e0798813c15e",
   "metadata": {},
   "outputs": [],
   "source": [
    "#mdata_qc.obs[\"cell_type_coarse\"] = mdata_qc.obs.leiden.map(cl_annotation)"
   ]
  },
  {
   "cell_type": "code",
   "execution_count": null,
   "id": "8faa8912-f4cd-4d72-b86c-b8cb44e11375",
   "metadata": {},
   "outputs": [],
   "source": [
    "ir.pp.index_chains(mdata)"
   ]
  },
  {
   "cell_type": "code",
   "execution_count": null,
   "id": "8615bf5e-ce12-4161-9616-f241dc17a029",
   "metadata": {},
   "outputs": [],
   "source": [
    "ir.tl.chain_qc(mdata)"
   ]
  },
  {
   "cell_type": "code",
   "execution_count": null,
   "id": "326a5f30-d99f-4682-849a-84767fd18aaf",
   "metadata": {},
   "outputs": [],
   "source": [
    "mdata_colon  = mdata[mdata.obs[\"gex:sample_id\"].isin(['10mix1',\n",
    " '10mix2',\n",
    " '11mix1',\n",
    " '11mix2',\n",
    "  'GF1'])]"
   ]
  },
  {
   "cell_type": "code",
   "execution_count": null,
   "id": "e5eb30de-b405-4541-ba43-509ecd5c1dee",
   "metadata": {},
   "outputs": [],
   "source": [
    "mdata_til  = mdata[mdata.obs[\"gex:sample_id\"].isin(['10mix-ICI1',\n",
    " '10mix-ICI2',\n",
    " '11mix-ICI1',\n",
    " '11mix-ICI2',\n",
    " 'GF-ICI1',\n",
    " 'GF-ICI1-plus',\n",
    " 'GF-ICI2',\n",
    " 'GF-ICI2-plus'])]"
   ]
  },
  {
   "cell_type": "code",
   "execution_count": null,
   "id": "ca384d64-6474-463d-b7cf-94085bd26372",
   "metadata": {},
   "outputs": [],
   "source": [
    "_ = ir.pl.group_abundance(mdata_colon, groupby=\"airr:receptor_subtype\", target_col=\"gex:sample_id\", )"
   ]
  },
  {
   "cell_type": "code",
   "execution_count": null,
   "id": "701a79ea-a9c0-420c-957b-4456cf48e2d5",
   "metadata": {},
   "outputs": [],
   "source": [
    "_ = ir.pl.group_abundance(mdata_til, groupby=\"airr:receptor_subtype\", target_col=\"gex:sample_id\", )"
   ]
  },
  {
   "cell_type": "code",
   "execution_count": null,
   "id": "42a56c7f-f047-4c77-83e0-2deebed097b2",
   "metadata": {
    "scrolled": true
   },
   "outputs": [],
   "source": [
    "mdata.update()"
   ]
  },
  {
   "cell_type": "markdown",
   "id": "75533690-f136-4a56-9cca-b0d1d32a4629",
   "metadata": {},
   "source": [
    "### Receptors in mdata"
   ]
  },
  {
   "cell_type": "code",
   "execution_count": null,
   "id": "99f38851-f52a-4406-96ab-5d537012da99",
   "metadata": {},
   "outputs": [],
   "source": [
    "_ = ir.pl.group_abundance(mdata, groupby=\"airr:receptor_subtype\", target_col=\"gex:leiden\", )"
   ]
  },
  {
   "cell_type": "code",
   "execution_count": null,
   "id": "0f3a13fb-cdb8-4170-8ee5-3ce0d7b909ab",
   "metadata": {},
   "outputs": [],
   "source": [
    "_ = ir.pl.group_abundance(mdata, groupby=\"airr:receptor_subtype\", target_col=\"gex:origin\")"
   ]
  },
  {
   "cell_type": "code",
   "execution_count": null,
   "id": "783a529d-9376-44d2-b0e2-b1a96ef6da9e",
   "metadata": {},
   "outputs": [],
   "source": [
    "_ = ir.pl.group_abundance(mdata, groupby=\"airr:chain_pairing\", target_col=\"gex:origin\")"
   ]
  },
  {
   "cell_type": "code",
   "execution_count": null,
   "id": "68076059-585e-4fb1-9bb6-e470917d1ba9",
   "metadata": {},
   "outputs": [],
   "source": [
    "_ = ir.pl.group_abundance(mdata, groupby=\"airr:chain_pairing\", target_col=\"gex:leiden\")"
   ]
  },
  {
   "cell_type": "code",
   "execution_count": null,
   "id": "6d4a047c-56dd-4b4c-8dce-4fb7317d3a71",
   "metadata": {},
   "outputs": [],
   "source": [
    "mu.pl.embedding(\n",
    "    mdata,\n",
    "    basis=\"gex:umap\",\n",
    "    color=[\"gex:leiden\"],\n",
    "    ncols=3,\n",
    "    wspace=0.7,\n",
    ")"
   ]
  },
  {
   "cell_type": "markdown",
   "id": "c5227ea6-beeb-4d92-85e2-1f19aa3ad35a",
   "metadata": {},
   "source": [
    "### Receptors in mdata colon"
   ]
  },
  {
   "cell_type": "code",
   "execution_count": null,
   "id": "6c24ef3f-1a05-4d5e-9b19-cafa19962500",
   "metadata": {},
   "outputs": [],
   "source": [
    "mu.pl.embedding(\n",
    "    mdata_colon,\n",
    "    basis=\"gex:umap\",\n",
    "    color=[\"gex:leiden\"],\n",
    "    ncols=3,\n",
    "    wspace=0.7,\n",
    ")"
   ]
  },
  {
   "cell_type": "code",
   "execution_count": null,
   "id": "fd0d468a-3e17-46a7-9fd1-526a44f5ecf7",
   "metadata": {},
   "outputs": [],
   "source": [
    "_ = ir.pl.group_abundance(mdata_colon, groupby=\"airr:receptor_subtype\", target_col=\"gex:leiden\", )"
   ]
  },
  {
   "cell_type": "code",
   "execution_count": null,
   "id": "934b3a69-6594-4437-a0ea-7d074ca268dc",
   "metadata": {},
   "outputs": [],
   "source": [
    "_ = ir.pl.group_abundance(mdata_til, groupby=\"airr:chain_pairing\", target_col=\"gex:leiden\")"
   ]
  },
  {
   "cell_type": "code",
   "execution_count": null,
   "id": "14409a57-4ddb-48a6-91e8-052a45f45357",
   "metadata": {},
   "outputs": [],
   "source": [
    "_ = ir.pl.group_abundance(mdata, groupby=\"airr:sample_id\", target_col=\"gex:leiden\")"
   ]
  },
  {
   "cell_type": "markdown",
   "id": "7c055652-f8ee-4821-9ba4-f392a1b946b3",
   "metadata": {},
   "source": [
    "### Receptors in mdata til"
   ]
  },
  {
   "cell_type": "code",
   "execution_count": null,
   "id": "60d746ea-87cf-478c-9d30-63d73812acf2",
   "metadata": {},
   "outputs": [],
   "source": [
    "mu.pl.embedding(\n",
    "    mdata_til,\n",
    "    basis=\"gex:umap\",\n",
    "    color=[\"gex:leiden\"],\n",
    "    ncols=3,\n",
    "    wspace=0.7,\n",
    ")"
   ]
  },
  {
   "cell_type": "code",
   "execution_count": null,
   "id": "b1ab5b22-2c3e-4907-b642-777d2c144986",
   "metadata": {},
   "outputs": [],
   "source": [
    "_ = ir.pl.group_abundance(mdata_til, groupby=\"airr:receptor_subtype\", target_col=\"gex:leiden\", )"
   ]
  },
  {
   "cell_type": "code",
   "execution_count": null,
   "id": "22e36231-305e-4827-8df1-186542ff8063",
   "metadata": {},
   "outputs": [],
   "source": [
    "_ = ir.pl.group_abundance(mdata_til, groupby=\"airr:chain_pairing\", target_col=\"gex:leiden\")"
   ]
  },
  {
   "cell_type": "markdown",
   "id": "75b381d9-0afa-418e-aefd-a04cecc3cbbf",
   "metadata": {},
   "source": [
    "## GEX annotation"
   ]
  },
  {
   "cell_type": "code",
   "execution_count": null,
   "id": "3fd1d727-4554-49c3-a890-02a88c585be3",
   "metadata": {},
   "outputs": [],
   "source": [
    "# Visualize\n",
    "sc.pl.umap(adata_gex, color='leiden')"
   ]
  },
  {
   "cell_type": "markdown",
   "id": "fc97b36a-a1f8-4e11-8cf6-38491c7f6226",
   "metadata": {},
   "source": [
    "### Cluster 3,4 gex_prot --> cluster 1 in gex_tcr"
   ]
  },
  {
   "cell_type": "code",
   "execution_count": null,
   "id": "96db00b8-9ad9-41f1-8ce1-34d1638caa30",
   "metadata": {},
   "outputs": [],
   "source": [
    "sc.pl.umap(adata_gex, color = [\"Sell\"], cmap=\"Reds\", vmax=\"p99\")"
   ]
  },
  {
   "cell_type": "code",
   "execution_count": null,
   "id": "add7bc60-4e9b-48ca-9335-332798047404",
   "metadata": {},
   "outputs": [],
   "source": [
    "adata_gex_til = adata_gex[adata_gex.obs[\"origin\"]==\"til\"]"
   ]
  },
  {
   "cell_type": "code",
   "execution_count": null,
   "id": "a1e790f6-2a45-4e16-98ba-c5d0cedd7a97",
   "metadata": {},
   "outputs": [],
   "source": [
    "adata_gex_colon = adata_gex[adata_gex.obs[\"origin\"]==\"colon\"]"
   ]
  },
  {
   "cell_type": "markdown",
   "id": "f0667b21-defa-4d06-8c41-18736e0087f4",
   "metadata": {},
   "source": [
    "### GEX annotation til1"
   ]
  },
  {
   "cell_type": "code",
   "execution_count": null,
   "id": "83560a77-546f-49e9-9f1a-881fb40f2a72",
   "metadata": {},
   "outputs": [],
   "source": [
    "adata_gex_til1 = adata_gex_til[adata_gex_til.obs[\"leiden\"].isin([\"1\"])]"
   ]
  },
  {
   "cell_type": "code",
   "execution_count": null,
   "id": "c578eb15-d52a-48a0-ae33-eb82b6b5a04c",
   "metadata": {
    "scrolled": true
   },
   "outputs": [],
   "source": [
    "adata_gex_til1.var[\"ribo\"] = adata_gex.var_names.str.startswith((\"Rps\", \"Rpl\"))"
   ]
  },
  {
   "cell_type": "code",
   "execution_count": null,
   "id": "f55fc143-58f9-46a7-b168-a17dd3cddb74",
   "metadata": {},
   "outputs": [],
   "source": [
    "adata_gex_til1 = adata_gex_til1[:, adata_gex_til1.var['ribo'] == False]"
   ]
  },
  {
   "cell_type": "code",
   "execution_count": null,
   "id": "eb8f78ce-3775-4c3e-89dc-e713477b80ee",
   "metadata": {},
   "outputs": [],
   "source": [
    "adata_gex_til1.var[\"mito\"] = adata_gex_til1.var_names.str.startswith((\"mt-\"))"
   ]
  },
  {
   "cell_type": "code",
   "execution_count": null,
   "id": "3d5124bf-6c6e-4719-8257-fea2f5826bd6",
   "metadata": {},
   "outputs": [],
   "source": [
    "adata_gex_til1 = adata_gex_til1[:, adata_gex_til1.var['mito'] == False]"
   ]
  },
  {
   "cell_type": "code",
   "execution_count": null,
   "id": "ca3835d0-0e11-4bc6-b187-5af2c47d931f",
   "metadata": {},
   "outputs": [],
   "source": [
    "sc.pp.neighbors(adata_gex_til1, n_neighbors=10)\n",
    "sc.tl.leiden(adata_gex_til1, resolution=0.3, n_iterations=-1)\n",
    "sc.tl.umap(adata_gex_til1)"
   ]
  },
  {
   "cell_type": "code",
   "execution_count": null,
   "id": "3541362f-5292-48a1-bd66-568823d6d9bb",
   "metadata": {},
   "outputs": [],
   "source": [
    "sc.pl.umap(adata_gex_til1, color='leiden')"
   ]
  },
  {
   "cell_type": "code",
   "execution_count": null,
   "id": "44cc6fdb-37fc-46f3-af66-9dd02f8b9875",
   "metadata": {},
   "outputs": [],
   "source": [
    "sc.pl.umap(adata_gex_til1, color=['condition',\"group\"])"
   ]
  },
  {
   "cell_type": "code",
   "execution_count": null,
   "id": "45164c3b-1f3f-4d6c-a115-59948e5ec150",
   "metadata": {},
   "outputs": [],
   "source": [
    "sc.pl.umap(adata_gex_til1, color=[\"sample_id\"])"
   ]
  },
  {
   "cell_type": "markdown",
   "id": "4af68b86-b4ac-4c18-9030-153c94a12e46",
   "metadata": {},
   "source": [
    "### Cycling marker"
   ]
  },
  {
   "cell_type": "code",
   "execution_count": null,
   "id": "aa8ddf6f-74ba-4344-b037-6c87b428e138",
   "metadata": {},
   "outputs": [],
   "source": [
    "# Visualize\n",
    "sc.pl.umap(adata_gex_til1, color='Mki67', cmap=\"Reds\", vmax=\"p99\")"
   ]
  },
  {
   "cell_type": "markdown",
   "id": "7203dd36-99ac-4116-a53b-4509f2ee0bdc",
   "metadata": {},
   "source": [
    "### T differentiation"
   ]
  },
  {
   "cell_type": "code",
   "execution_count": null,
   "id": "5536468b-4e81-4ce9-909c-3d9ba5ce3e9b",
   "metadata": {},
   "outputs": [],
   "source": [
    "# Visualize\n",
    "sc.pl.umap(adata_gex_til1, color=['Sell','Cd44'], cmap=\"Reds\", vmax=\"p99\")"
   ]
  },
  {
   "cell_type": "markdown",
   "id": "90c502eb-59ce-4292-b101-e88b5ae062f8",
   "metadata": {},
   "source": [
    "### T effector into SLEC and MPEC"
   ]
  },
  {
   "cell_type": "markdown",
   "id": "182f6aaa-d654-4b9c-ac60-9f04614e7134",
   "metadata": {},
   "source": [
    "### Markers from publication SLECs & MPECs\n",
    "\n",
    "https://www.ncbi.nlm.nih.gov/pmc/articles/PMC2034442/\n",
    "\n",
    "MPECs KLRG1 low, Il7r high, CD122 high, SELF RENEWAL\n",
    "\n",
    "SLECs KLRG1 high, Il7r low, Cd122 high NOT SELF RENEWAl\n",
    "\n",
    "Naive CD8 T cells are IL-7Rhi, CD122lo (IL-2/15βR), KLRG1neg and T-betneg and are IL-7 dependent. Early during infection, most effector CD8 T cells become CD122hi and downregulate IL-7R to an intermediate-to-low level, but expression of T-bet and KLRG1 is set depending on their exposure to inflammatory cytokines (e.g. IL-12). Effector CD8 T cells that are exposed to lower levels of inflammation express less T-bet (light blue cells) and begin to upregulate IL-7R to become KLRG1lo IL-7Rhi MPECs (turquoise cells). Effector CD8 T cells that encounter higher levels of inflammatory cytokines express relatively more T-bet and KLRG1 (dark blue cells), stably repress IL-7R and consequentially become KLRG1hi IL-7Rlo SLECs. SLECs become IL-15 dependent, however, IL-15 alone cannot support their long-term persistence or homeostatic turnover and they decline over time. In contrast, MPECs remain dually responsive to IL-7 and IL-15 and preferentially develop into long-lived memory CD8 T cells that can self-renew."
   ]
  },
  {
   "cell_type": "code",
   "execution_count": null,
   "id": "a9f36b7b-1bad-4a59-8eb3-97ebbc9f344d",
   "metadata": {},
   "outputs": [],
   "source": [
    "sc.pl.umap(adata_gex_til1, color = [\"Klrg1\",\"Il7r\",\"Il2rb\",\"Itga4\",\"Itgae\",\"Cxcr3\",\"Casp3\"], cmap=\"Reds\", vmax=\"p99\")"
   ]
  },
  {
   "cell_type": "markdown",
   "id": "2d362150-9b4d-4806-873c-1e6e2aa91868",
   "metadata": {},
   "source": [
    "### Cytotoxic"
   ]
  },
  {
   "cell_type": "code",
   "execution_count": null,
   "id": "fd726a30-ac08-4035-af20-4e359ab51cec",
   "metadata": {},
   "outputs": [],
   "source": [
    "sc.pl.umap(adata_gex_til1, color = [\"Gzmb\",\"Gzmk\",\"Gzma\",\"Ifng\"], cmap=\"Reds\", vmax=\"p99\")"
   ]
  },
  {
   "cell_type": "markdown",
   "id": "3dbf323c-7c0a-4216-8fd9-e1294e22652d",
   "metadata": {},
   "source": [
    "### T act EARLY vs LATE CD25 --> Il2ra"
   ]
  },
  {
   "cell_type": "code",
   "execution_count": null,
   "id": "fdbf4cd9-2e8d-4c04-b78a-8107890ffc09",
   "metadata": {},
   "outputs": [],
   "source": [
    "sc.pl.umap(adata_gex_til1, color = [\"Cd69\",\"Il2ra\"], cmap=\"Reds\", vmax=\"p99\")"
   ]
  },
  {
   "cell_type": "markdown",
   "id": "99b46dd8-8f27-4c01-8323-4b71853651a9",
   "metadata": {},
   "source": [
    "### Top genes from rank genes"
   ]
  },
  {
   "cell_type": "code",
   "execution_count": null,
   "id": "1e39fbad-3887-4851-9ad7-1324def1cbcd",
   "metadata": {},
   "outputs": [],
   "source": [
    "sc.tl.rank_genes_groups(adata_gex_til1, \"leiden\", method=\"t-test\")\n",
    "sc.pl.rank_genes_groups(adata_gex_til1, n_genes=25, sharey=False)"
   ]
  },
  {
   "cell_type": "code",
   "execution_count": null,
   "id": "73bcb998-6ccb-4b7d-af9e-fbeffb1dea00",
   "metadata": {},
   "outputs": [],
   "source": [
    "pd.DataFrame(adata_gex_til1.uns[\"rank_genes_groups\"][\"names\"]).head(20)"
   ]
  },
  {
   "cell_type": "code",
   "execution_count": null,
   "id": "8e48f01b-88bd-4b19-a1e7-b050e665d621",
   "metadata": {},
   "outputs": [],
   "source": [
    "adata_gex_til1.raw = None"
   ]
  },
  {
   "cell_type": "code",
   "execution_count": null,
   "id": "2748f0cf-0144-4001-a665-6cda20f60b9e",
   "metadata": {},
   "outputs": [],
   "source": [
    "adata_gex_til1.var_names = adata_gex_til1.var[\"ensembl_id\"]"
   ]
  },
  {
   "cell_type": "code",
   "execution_count": null,
   "id": "fe181dec-1324-4426-9761-87e450d6f412",
   "metadata": {},
   "outputs": [],
   "source": [
    "adata_gex_til1.var_names_make_unique()"
   ]
  },
  {
   "cell_type": "code",
   "execution_count": null,
   "id": "5c10e82e-b4b8-4e25-a455-83f4525f17f3",
   "metadata": {},
   "outputs": [],
   "source": [
    "sc.tl.dendrogram(adata_gex_til1, groupby='leiden')"
   ]
  },
  {
   "cell_type": "code",
   "execution_count": null,
   "id": "ea32a88a-74d5-4e05-ab6b-f211fd9547a9",
   "metadata": {
    "scrolled": true
   },
   "outputs": [],
   "source": [
    "markers = ['Cdk6', 'Nap1l1', 'Eif1', 'Isg15', 'Icos', 'Dnajb1', 'Irf7']\n",
    "\n",
    "sc.pl.dotplot(adata_gex_til1, markers, groupby='leiden', dendrogram=True, use_raw=False, gene_symbols=\"gene_name\")"
   ]
  },
  {
   "cell_type": "markdown",
   "id": "4a8ddc6f-4feb-4e87-aefb-eb83d667c2fe",
   "metadata": {},
   "source": [
    "### Exhaustion markers"
   ]
  },
  {
   "cell_type": "code",
   "execution_count": null,
   "id": "ebaaa6ee-8fdb-42a7-8430-4d6cc79d95a8",
   "metadata": {},
   "outputs": [],
   "source": [
    "sc.pl.umap(adata_gex_til1, color = [\"Tox\",\"Lag3\"], cmap=\"Reds\", vmax=\"p99\",gene_symbols=\"gene_name\")"
   ]
  },
  {
   "cell_type": "code",
   "execution_count": null,
   "id": "46ec771b-2bdf-4f3b-8e05-eb4e66495ca6",
   "metadata": {},
   "outputs": [],
   "source": [
    "new_cluster_names = [\"REC1\",\"REC2\",\"REC3\",\"REC4\",\"REC5\",\n",
    "]\n",
    "adata_gex_til1.rename_categories(\"leiden\", new_cluster_names)"
   ]
  },
  {
   "cell_type": "code",
   "execution_count": null,
   "id": "e5cfb6c1-2d9e-4607-8302-44e4cb75a6d0",
   "metadata": {},
   "outputs": [],
   "source": [
    "sc.pl.umap(adata_gex_til1, color='leiden', legend_loc=\"on data\")"
   ]
  },
  {
   "cell_type": "markdown",
   "id": "fdbe1617-02e2-4d75-90d7-eac1bd22a471",
   "metadata": {},
   "source": [
    "### GEX annotation til2"
   ]
  },
  {
   "cell_type": "code",
   "execution_count": null,
   "id": "f5116b81-3718-457f-b69e-5f5788543380",
   "metadata": {},
   "outputs": [],
   "source": [
    "adata_gex_til2 = adata_gex_til[adata_gex_til.obs[\"leiden\"].isin([\"0\",\"2\",\"3\",\"4\",\"5\",\"6\"])]"
   ]
  },
  {
   "cell_type": "code",
   "execution_count": null,
   "id": "ee7f714b-7c5c-4e2a-964a-e5b798af71b6",
   "metadata": {},
   "outputs": [],
   "source": [
    "adata_gex_til2.var[\"ribo\"] = adata_gex.var_names.str.startswith((\"Rps\", \"Rpl\"))"
   ]
  },
  {
   "cell_type": "code",
   "execution_count": null,
   "id": "c536f109-52f5-4a59-bcec-9303ed98730d",
   "metadata": {},
   "outputs": [],
   "source": [
    "adata_gex_til2 = adata_gex_til2[:, adata_gex_til2.var['ribo'] == False]"
   ]
  },
  {
   "cell_type": "code",
   "execution_count": null,
   "id": "ea70a686-e278-4c88-ae22-541d13d28db9",
   "metadata": {},
   "outputs": [],
   "source": [
    "adata_gex_til2.var[\"mito\"] = adata_gex_til2.var_names.str.startswith((\"mt-\"))"
   ]
  },
  {
   "cell_type": "code",
   "execution_count": null,
   "id": "a2eb12c4-74e9-4168-b53b-06c52e70e790",
   "metadata": {},
   "outputs": [],
   "source": [
    "adata_gex_til2 = adata_gex_til2[:, adata_gex_til2.var['mito'] == False]"
   ]
  },
  {
   "cell_type": "code",
   "execution_count": null,
   "id": "f15291ad-609e-4e54-937b-30486274f5db",
   "metadata": {},
   "outputs": [],
   "source": [
    "sc.pp.neighbors(adata_gex_til2, n_neighbors=10)\n",
    "sc.tl.leiden(adata_gex_til2, resolution=0.3, n_iterations=-1)\n",
    "sc.tl.umap(adata_gex_til2)"
   ]
  },
  {
   "cell_type": "code",
   "execution_count": null,
   "id": "759a684e-0410-4a72-98de-5c3ebc52c265",
   "metadata": {},
   "outputs": [],
   "source": [
    "sc.pl.umap(adata_gex_til2, color='leiden')"
   ]
  },
  {
   "cell_type": "code",
   "execution_count": null,
   "id": "009e11c7-c14a-4603-8d3e-ca133ea9cf9a",
   "metadata": {},
   "outputs": [],
   "source": [
    "sc.pl.umap(adata_gex_til2, color=['group',\"sample_id\"])"
   ]
  },
  {
   "cell_type": "markdown",
   "id": "918051c6-d4e7-43a6-8d78-55bd93c5bc4a",
   "metadata": {},
   "source": [
    "### Cycling marker"
   ]
  },
  {
   "cell_type": "code",
   "execution_count": null,
   "id": "f7128d1f-7527-4ea2-9132-f40eb47edc20",
   "metadata": {},
   "outputs": [],
   "source": [
    "# Visualize\n",
    "sc.pl.umap(adata_gex_til2, color='Mki67', cmap=\"Reds\", vmax=\"p99\")"
   ]
  },
  {
   "cell_type": "markdown",
   "id": "c503df12-ac40-48f2-9d92-b28d922c877b",
   "metadata": {},
   "source": [
    "### T differentiation"
   ]
  },
  {
   "cell_type": "code",
   "execution_count": null,
   "id": "7353b25c-dc41-4082-8259-1453f83803d8",
   "metadata": {},
   "outputs": [],
   "source": [
    "# Visualize\n",
    "sc.pl.umap(adata_gex_til2, color=['Sell','Cd44'], cmap=\"Reds\", vmax=\"p99\")"
   ]
  },
  {
   "cell_type": "markdown",
   "id": "b9827c58-6433-4c65-9c3c-037c16f66d56",
   "metadata": {},
   "source": [
    "### T effector into SLEC and MPEC"
   ]
  },
  {
   "cell_type": "markdown",
   "id": "d293bf79-00d7-4d54-88fb-d13a5b9ef91d",
   "metadata": {},
   "source": [
    "### Markers from publication SLECs & MPECs\n",
    "\n",
    "https://www.ncbi.nlm.nih.gov/pmc/articles/PMC2034442/\n",
    "\n",
    "MPECs KLRG1 low, Il7r high, CD122 high, SELF RENEWAL\n",
    "\n",
    "SLECs KLRG1 high, Il7r low, Cd122 high NOT SELF RENEWAl\n",
    "\n",
    "Naive CD8 T cells are IL-7Rhi, CD122lo (IL-2/15βR), KLRG1neg and T-betneg and are IL-7 dependent. Early during infection, most effector CD8 T cells become CD122hi and downregulate IL-7R to an intermediate-to-low level, but expression of T-bet and KLRG1 is set depending on their exposure to inflammatory cytokines (e.g. IL-12). Effector CD8 T cells that are exposed to lower levels of inflammation express less T-bet (light blue cells) and begin to upregulate IL-7R to become KLRG1lo IL-7Rhi MPECs (turquoise cells). Effector CD8 T cells that encounter higher levels of inflammatory cytokines express relatively more T-bet and KLRG1 (dark blue cells), stably repress IL-7R and consequentially become KLRG1hi IL-7Rlo SLECs. SLECs become IL-15 dependent, however, IL-15 alone cannot support their long-term persistence or homeostatic turnover and they decline over time. In contrast, MPECs remain dually responsive to IL-7 and IL-15 and preferentially develop into long-lived memory CD8 T cells that can self-renew."
   ]
  },
  {
   "cell_type": "code",
   "execution_count": null,
   "id": "ee14fc79-bf7a-40ec-a4d0-ea779b220a9e",
   "metadata": {},
   "outputs": [],
   "source": [
    "sc.pl.umap(adata_gex_til2, color = [\"Klrg1\",\"Il7r\",\"Il2rb\",\"Itga4\",\"Itgae\",\"Cxcr3\",\"Casp3\"], cmap=\"Reds\", vmax=\"p99\")"
   ]
  },
  {
   "cell_type": "markdown",
   "id": "4e6e4676-c03e-4085-8328-0c180097f8fa",
   "metadata": {},
   "source": [
    "### Cytotoxic"
   ]
  },
  {
   "cell_type": "code",
   "execution_count": null,
   "id": "8ddea849-35c0-467e-b436-83e3897f17ce",
   "metadata": {},
   "outputs": [],
   "source": [
    "sc.pl.umap(adata_gex_til2, color = [\"Gzmb\",\"Gzmk\",\"Gzma\",\"Ifng\"], cmap=\"Reds\", vmax=\"p99\")"
   ]
  },
  {
   "cell_type": "markdown",
   "id": "9643c81b-7cd8-43f7-8ffe-f1407ff8eb55",
   "metadata": {},
   "source": [
    "### T act EARLY vs LATE CD25 --> Il2ra"
   ]
  },
  {
   "cell_type": "code",
   "execution_count": null,
   "id": "6e1fa00c-e377-4d97-b7a8-5bd951780f5f",
   "metadata": {},
   "outputs": [],
   "source": [
    "sc.pl.umap(adata_gex_til2, color = [\"Cd69\",\"Il2ra\"], cmap=\"Reds\", vmax=\"p99\")"
   ]
  },
  {
   "cell_type": "code",
   "execution_count": null,
   "id": "0dc2fd43-c43b-4d22-8e0e-1a4263799134",
   "metadata": {},
   "outputs": [],
   "source": [
    "sc.tl.rank_genes_groups(adata_gex_til2, \"leiden\", method=\"t-test\")\n",
    "sc.pl.rank_genes_groups(adata_gex_til2, n_genes=25, sharey=False)"
   ]
  },
  {
   "cell_type": "code",
   "execution_count": null,
   "id": "0d2e8173-a057-4ca4-9ebb-e7165c59d229",
   "metadata": {},
   "outputs": [],
   "source": [
    "pd.DataFrame(adata_gex_til2.uns[\"rank_genes_groups\"][\"names\"]).head(20)"
   ]
  },
  {
   "cell_type": "code",
   "execution_count": null,
   "id": "2387b2bf-014f-46f0-8185-6b618bf64b5e",
   "metadata": {},
   "outputs": [],
   "source": [
    "#adata_gex_til2.raw = None"
   ]
  },
  {
   "cell_type": "code",
   "execution_count": null,
   "id": "b2ccd42c-10e7-411b-a266-587fa355e834",
   "metadata": {},
   "outputs": [],
   "source": [
    "adata_gex_til2.var_names = adata_gex_til2.var[\"ensembl_id\"]"
   ]
  },
  {
   "cell_type": "code",
   "execution_count": null,
   "id": "c71ead8b-b557-4d8d-97c4-9aa1d0a3cbde",
   "metadata": {},
   "outputs": [],
   "source": [
    "adata_gex_til2.var_names_make_unique()"
   ]
  },
  {
   "cell_type": "code",
   "execution_count": null,
   "id": "958c19f2-1640-48c4-9282-5aafa512d893",
   "metadata": {},
   "outputs": [],
   "source": [
    "sc.tl.dendrogram(adata_gex_til2, groupby='leiden')"
   ]
  },
  {
   "cell_type": "code",
   "execution_count": null,
   "id": "5457ccc7-50f3-4c39-9a45-edd0f84a4cc1",
   "metadata": {},
   "outputs": [],
   "source": [
    "markers = ['S100a10', 'Sell', 'Lef1', 'Ccr7', 'Camk4', 'Foxo1', 'Cmip', 'Fbl']\n",
    "\n",
    "sc.pl.dotplot(adata_gex_til2, markers, groupby='leiden', dendrogram=True, use_raw=False, gene_symbols=\"gene_name\")"
   ]
  },
  {
   "cell_type": "code",
   "execution_count": null,
   "id": "6abe6051-254e-494d-b0ec-e0be34fa0080",
   "metadata": {},
   "outputs": [],
   "source": [
    "new_cluster_names = [\"EX1\",\"EX2\",\"EX3\",\"EX4\",\"EX5\",\"EX6\",\"EX7\",\"EX8\"\n",
    "]\n",
    "adata_gex_til2.rename_categories(\"leiden\", new_cluster_names)"
   ]
  },
  {
   "cell_type": "code",
   "execution_count": null,
   "id": "e25ec96b-5ce4-4c7a-ab09-fc124e947493",
   "metadata": {},
   "outputs": [],
   "source": [
    "sc.pl.umap(adata_gex_til2, color='leiden', legend_loc=\"on data\")"
   ]
  },
  {
   "cell_type": "markdown",
   "id": "9423cae4-bb1b-4fbe-acb8-531c4344e2bd",
   "metadata": {},
   "source": [
    "## COLON"
   ]
  },
  {
   "cell_type": "code",
   "execution_count": null,
   "id": "6296992b-5059-4bbd-877c-c9fd692c3330",
   "metadata": {},
   "outputs": [],
   "source": [
    "adata_gex_colon = adata_gex[adata_gex.obs[\"origin\"]==\"colon\"]"
   ]
  },
  {
   "cell_type": "code",
   "execution_count": null,
   "id": "f4ca1c31-646f-4944-a35c-0672ebe84bae",
   "metadata": {},
   "outputs": [],
   "source": [
    "# Visualize\n",
    "sc.pl.umap(adata_gex_colon, color=['leiden',\"sample_id\",\"group\"])"
   ]
  },
  {
   "cell_type": "code",
   "execution_count": null,
   "id": "d25feca8-7e33-485f-a2a5-fdd200eb47aa",
   "metadata": {},
   "outputs": [],
   "source": [
    "# Visualize\n",
    "sc.pl.umap(adata_gex_colon, color=['Cd44','Cd69'], cmap=\"Reds\", vmax=\"p99\")"
   ]
  },
  {
   "cell_type": "code",
   "execution_count": null,
   "id": "3675998e-ca30-4d35-b99a-73163e6844e3",
   "metadata": {},
   "outputs": [],
   "source": []
  },
  {
   "cell_type": "code",
   "execution_count": null,
   "id": "ae9c8657-5136-45f8-b4ab-88d9c03becfd",
   "metadata": {},
   "outputs": [],
   "source": [
    "adata_gex_colon1 = adata_gex_colon[adata_gex_colon.obs[\"leiden\"].isin([\"0\",\"2\"])]"
   ]
  },
  {
   "cell_type": "code",
   "execution_count": null,
   "id": "1ef12121-a4b1-4836-8947-aec811d2d5f1",
   "metadata": {
    "scrolled": true
   },
   "outputs": [],
   "source": [
    "adata_gex_colon1.var[\"ribo\"] = adata_gex_colon1.var_names.str.startswith((\"Rps\", \"Rpl\"))"
   ]
  },
  {
   "cell_type": "code",
   "execution_count": null,
   "id": "8bbea29e-3c8a-4fa5-971e-e28197c8f10f",
   "metadata": {},
   "outputs": [],
   "source": [
    "adata_gex_colon1 = adata_gex_colon1[:, adata_gex_colon1.var['ribo'] == False]"
   ]
  },
  {
   "cell_type": "code",
   "execution_count": null,
   "id": "a2991488-e438-4a6c-9c7d-e21f823c8dbd",
   "metadata": {},
   "outputs": [],
   "source": [
    "adata_gex_colon1.var[\"mito\"] = adata_gex_colon1.var_names.str.startswith((\"mt-\"))"
   ]
  },
  {
   "cell_type": "code",
   "execution_count": null,
   "id": "a00b79a6-3033-4d02-bdfc-f2a0cc166836",
   "metadata": {},
   "outputs": [],
   "source": [
    "adata_gex_colon1 = adata_gex_colon1[:, adata_gex_colon1.var['mito'] == False]"
   ]
  },
  {
   "cell_type": "code",
   "execution_count": null,
   "id": "3783bc87-c94c-44ba-8c2d-7c4914ad2298",
   "metadata": {},
   "outputs": [],
   "source": [
    "sc.pp.neighbors(adata_gex_colon1, n_neighbors=10)\n",
    "sc.tl.leiden(adata_gex_colon1, resolution=0.3, n_iterations=-1)\n",
    "sc.tl.umap(adata_gex_colon1)"
   ]
  },
  {
   "cell_type": "code",
   "execution_count": null,
   "id": "5a43e96e-5186-41fc-9c49-5f14b44e8c21",
   "metadata": {},
   "outputs": [],
   "source": [
    "sc.pl.umap(adata_gex_colon1, color='leiden')"
   ]
  },
  {
   "cell_type": "markdown",
   "id": "44315614-46e0-49b6-9ed2-d3fa2ff205e9",
   "metadata": {},
   "source": [
    "### Cycling marker"
   ]
  },
  {
   "cell_type": "code",
   "execution_count": null,
   "id": "67082070-bca8-4478-9732-5883cd2df10f",
   "metadata": {},
   "outputs": [],
   "source": [
    "# Visualize\n",
    "sc.pl.umap(adata_gex_colon1, color='Mki67', cmap=\"Reds\", vmax=\"p99\")"
   ]
  },
  {
   "cell_type": "markdown",
   "id": "8836c732-0655-4af6-9cf6-c4b4d9458dfa",
   "metadata": {},
   "source": [
    "### T differentiation"
   ]
  },
  {
   "cell_type": "code",
   "execution_count": null,
   "id": "4e43383a-53a7-4f79-af74-24c1ded89418",
   "metadata": {},
   "outputs": [],
   "source": [
    "# Visualize\n",
    "sc.pl.umap(adata_gex_colon1, color=['Sell','Cd44'], cmap=\"Reds\", vmax=\"p99\")"
   ]
  },
  {
   "cell_type": "markdown",
   "id": "d0615d78-e494-4977-b813-e001f36f5551",
   "metadata": {},
   "source": [
    "### T effector into SLEC and MPEC"
   ]
  },
  {
   "cell_type": "markdown",
   "id": "e3077aa9-11a8-47fe-963a-bb61ac81b659",
   "metadata": {},
   "source": [
    "### Markers from publication SLECs & MPECs\n",
    "\n",
    "https://www.ncbi.nlm.nih.gov/pmc/articles/PMC2034442/\n",
    "\n",
    "MPECs KLRG1 low, Il7r high, CD122 high, SELF RENEWAL\n",
    "\n",
    "SLECs KLRG1 high, Il7r low, Cd122 high NOT SELF RENEWAl\n",
    "\n",
    "Naive CD8 T cells are IL-7Rhi, CD122lo (IL-2/15βR), KLRG1neg and T-betneg and are IL-7 dependent. Early during infection, most effector CD8 T cells become CD122hi and downregulate IL-7R to an intermediate-to-low level, but expression of T-bet and KLRG1 is set depending on their exposure to inflammatory cytokines (e.g. IL-12). Effector CD8 T cells that are exposed to lower levels of inflammation express less T-bet (light blue cells) and begin to upregulate IL-7R to become KLRG1lo IL-7Rhi MPECs (turquoise cells). Effector CD8 T cells that encounter higher levels of inflammatory cytokines express relatively more T-bet and KLRG1 (dark blue cells), stably repress IL-7R and consequentially become KLRG1hi IL-7Rlo SLECs. SLECs become IL-15 dependent, however, IL-15 alone cannot support their long-term persistence or homeostatic turnover and they decline over time. In contrast, MPECs remain dually responsive to IL-7 and IL-15 and preferentially develop into long-lived memory CD8 T cells that can self-renew."
   ]
  },
  {
   "cell_type": "code",
   "execution_count": null,
   "id": "61510aeb-defc-46b2-a669-8fefce372035",
   "metadata": {},
   "outputs": [],
   "source": [
    "sc.pl.umap(adata_gex_colon1, color = [\"Klrg1\",\"Il7r\",\"Il2rb\",\"Itga4\",\"Itgae\",\"Cxcr3\",\"Casp3\"], cmap=\"Reds\", vmax=\"p99\")"
   ]
  },
  {
   "cell_type": "markdown",
   "id": "647fd859-6a5a-4f4d-b700-77a5ccafccd2",
   "metadata": {},
   "source": [
    "### Cytotoxic"
   ]
  },
  {
   "cell_type": "code",
   "execution_count": null,
   "id": "11503cc8-6af3-42c0-862a-49a93f5c51f6",
   "metadata": {},
   "outputs": [],
   "source": [
    "sc.pl.umap(adata_gex_colon1, color = [\"Gzmb\",\"Gzmk\",\"Gzma\",\"Ifng\"], cmap=\"Reds\", vmax=\"p99\")"
   ]
  },
  {
   "cell_type": "markdown",
   "id": "de153613-811b-487b-adef-03cf868e688f",
   "metadata": {},
   "source": [
    "### T act EARLY vs LATE CD25 --> Il2ra"
   ]
  },
  {
   "cell_type": "code",
   "execution_count": null,
   "id": "c32095e3-5d52-4c8c-805d-deea27830908",
   "metadata": {},
   "outputs": [],
   "source": [
    "sc.pl.umap(adata_gex_colon1, color = [\"Cd69\",\"Il2ra\"], cmap=\"Reds\", vmax=\"p99\")"
   ]
  },
  {
   "cell_type": "code",
   "execution_count": null,
   "id": "bc5f8672-2da4-4b99-ac6e-8ed261aef7eb",
   "metadata": {},
   "outputs": [],
   "source": [
    "sc.tl.rank_genes_groups(adata_gex_colon1, \"leiden\", method=\"t-test\")\n",
    "sc.pl.rank_genes_groups(adata_gex_colon1, n_genes=25, sharey=False)"
   ]
  },
  {
   "cell_type": "code",
   "execution_count": null,
   "id": "0966a325-ef7d-4f3d-95a0-12ed94acc0b2",
   "metadata": {},
   "outputs": [],
   "source": [
    "pd.DataFrame(adata_gex_colon1.uns[\"rank_genes_groups\"][\"names\"]).head(20)"
   ]
  },
  {
   "cell_type": "code",
   "execution_count": null,
   "id": "e5e60ebd-f1b1-42a0-9344-908517a150a9",
   "metadata": {},
   "outputs": [],
   "source": [
    "#adata_gex_til2.raw = None"
   ]
  },
  {
   "cell_type": "code",
   "execution_count": null,
   "id": "d54a4d94-ee9e-43bf-9362-1f317979c504",
   "metadata": {},
   "outputs": [],
   "source": [
    "adata_gex_colon1.var_names = adata_gex_colon1.var[\"ensembl_id\"]"
   ]
  },
  {
   "cell_type": "code",
   "execution_count": null,
   "id": "2c2a1714-4df7-4e17-9e6c-2dd0b8d31b3b",
   "metadata": {},
   "outputs": [],
   "source": [
    "adata_gex_colon1.var_names_make_unique()"
   ]
  },
  {
   "cell_type": "code",
   "execution_count": null,
   "id": "fa38f40b-733c-492d-929f-738b2cea7ed0",
   "metadata": {},
   "outputs": [],
   "source": [
    "sc.tl.dendrogram(adata_gex_colon1, groupby='leiden')"
   ]
  },
  {
   "cell_type": "code",
   "execution_count": null,
   "id": "aed67b4f-3dcf-4962-aa5f-1052ae030330",
   "metadata": {},
   "outputs": [],
   "source": [
    "markers = ['Itgae', 'Eif1', 'Lef1', 'Junb', 'H3f3b']\n",
    "\n",
    "sc.pl.dotplot(adata_gex_colon1, markers, groupby='leiden', dendrogram=True, use_raw=False, gene_symbols=\"gene_name\")"
   ]
  },
  {
   "cell_type": "code",
   "execution_count": null,
   "id": "c2fbf126-2f16-45cc-8914-04fff3d27cbc",
   "metadata": {},
   "outputs": [],
   "source": [
    "adata_gex_colon2 = adata_gex_colon[adata_gex_colon.obs[\"leiden\"].isin([\"1\",\"3\",\"4\",\"5\"])]"
   ]
  },
  {
   "cell_type": "code",
   "execution_count": null,
   "id": "42c08d7a-9d38-442d-92aa-d80cd9f3ac5b",
   "metadata": {
    "scrolled": true
   },
   "outputs": [],
   "source": [
    "adata_gex_colon2.var[\"ribo\"] = adata_gex_colon2.var_names.str.startswith((\"Rps\", \"Rpl\"))"
   ]
  },
  {
   "cell_type": "code",
   "execution_count": null,
   "id": "89e1c36a-11eb-4cc9-8cc0-f36b6c1f267b",
   "metadata": {},
   "outputs": [],
   "source": [
    "adata_gex_colon2 = adata_gex_colon2[:, adata_gex_colon2.var['ribo'] == False]"
   ]
  },
  {
   "cell_type": "code",
   "execution_count": null,
   "id": "9cc5e857-ac2a-4dae-831f-629c6f1995b7",
   "metadata": {},
   "outputs": [],
   "source": [
    "adata_gex_colon2.var[\"mito\"] = adata_gex_colon2.var_names.str.startswith((\"mt-\"))"
   ]
  },
  {
   "cell_type": "code",
   "execution_count": null,
   "id": "bd71a6ae-b92b-4169-8fcd-f14c1cdd2c34",
   "metadata": {},
   "outputs": [],
   "source": [
    "adata_gex_colon2 = adata_gex_colon2[:, adata_gex_colon2.var['mito'] == False]"
   ]
  },
  {
   "cell_type": "code",
   "execution_count": null,
   "id": "9cc8fc40-0ef2-4671-aacf-7cb937d13d91",
   "metadata": {},
   "outputs": [],
   "source": [
    "sc.pp.neighbors(adata_gex_colon2, n_neighbors=10)\n",
    "sc.tl.leiden(adata_gex_colon2, resolution=0.3, n_iterations=-1)\n",
    "sc.tl.umap(adata_gex_colon2)"
   ]
  },
  {
   "cell_type": "code",
   "execution_count": null,
   "id": "6d1d65c3-29d6-44f0-a498-04127871c3cc",
   "metadata": {},
   "outputs": [],
   "source": [
    "sc.pl.umap(adata_gex_colon2, color='leiden')"
   ]
  },
  {
   "cell_type": "markdown",
   "id": "3c581559-2faa-4c17-a0fa-e4d161487fa0",
   "metadata": {},
   "source": [
    "### Cycling marker"
   ]
  },
  {
   "cell_type": "code",
   "execution_count": null,
   "id": "610b1058-6a6e-4637-b09f-b5221105d20a",
   "metadata": {},
   "outputs": [],
   "source": [
    "# Visualize\n",
    "sc.pl.umap(adata_gex_colon2, color='Mki67', cmap=\"Reds\", vmax=\"p99\")"
   ]
  },
  {
   "cell_type": "markdown",
   "id": "afb41961-1eed-4f9c-8d79-e17fae580b5e",
   "metadata": {},
   "source": [
    "### T differentiation"
   ]
  },
  {
   "cell_type": "code",
   "execution_count": null,
   "id": "09f2025c-9a3d-4f8f-9375-9af81d90592f",
   "metadata": {},
   "outputs": [],
   "source": [
    "# Visualize\n",
    "sc.pl.umap(adata_gex_colon2, color=['Sell','Cd44'], cmap=\"Reds\", vmax=\"p99\")"
   ]
  },
  {
   "cell_type": "markdown",
   "id": "4fd03423-c09e-45d2-95f8-c910782b1844",
   "metadata": {},
   "source": [
    "### T effector into SLEC and MPEC"
   ]
  },
  {
   "cell_type": "markdown",
   "id": "37f4fc24-9c02-4cd4-8062-5f0843d9c531",
   "metadata": {},
   "source": [
    "### Markers from publication SLECs & MPECs\n",
    "\n",
    "https://www.ncbi.nlm.nih.gov/pmc/articles/PMC2034442/\n",
    "\n",
    "MPECs KLRG1 low, Il7r high, CD122 high, SELF RENEWAL\n",
    "\n",
    "SLECs KLRG1 high, Il7r low, Cd122 high NOT SELF RENEWAl\n",
    "\n",
    "Naive CD8 T cells are IL-7Rhi, CD122lo (IL-2/15βR), KLRG1neg and T-betneg and are IL-7 dependent. Early during infection, most effector CD8 T cells become CD122hi and downregulate IL-7R to an intermediate-to-low level, but expression of T-bet and KLRG1 is set depending on their exposure to inflammatory cytokines (e.g. IL-12). Effector CD8 T cells that are exposed to lower levels of inflammation express less T-bet (light blue cells) and begin to upregulate IL-7R to become KLRG1lo IL-7Rhi MPECs (turquoise cells). Effector CD8 T cells that encounter higher levels of inflammatory cytokines express relatively more T-bet and KLRG1 (dark blue cells), stably repress IL-7R and consequentially become KLRG1hi IL-7Rlo SLECs. SLECs become IL-15 dependent, however, IL-15 alone cannot support their long-term persistence or homeostatic turnover and they decline over time. In contrast, MPECs remain dually responsive to IL-7 and IL-15 and preferentially develop into long-lived memory CD8 T cells that can self-renew."
   ]
  },
  {
   "cell_type": "code",
   "execution_count": null,
   "id": "c6711a87-7edc-48ae-8fce-43da6afdca18",
   "metadata": {},
   "outputs": [],
   "source": [
    "sc.pl.umap(adata_gex_colon2, color = [\"Klrg1\",\"Il7r\",\"Il2rb\",\"Itga4\",\"Itgae\",\"Cxcr3\",\"Casp3\"], cmap=\"Reds\", vmax=\"p99\")"
   ]
  },
  {
   "cell_type": "markdown",
   "id": "2acd88c1-1bf1-4b52-bb69-f1b7334f4d30",
   "metadata": {},
   "source": [
    "### Cytotoxic"
   ]
  },
  {
   "cell_type": "code",
   "execution_count": null,
   "id": "a44d6bf3-0f50-489a-a357-4fb6cf6e3ad6",
   "metadata": {},
   "outputs": [],
   "source": [
    "sc.pl.umap(adata_gex_colon2, color = [\"Gzmb\",\"Gzmk\",\"Gzma\",\"Ifng\"], cmap=\"Reds\", vmax=\"p99\")"
   ]
  },
  {
   "cell_type": "markdown",
   "id": "da666ac5-43d1-449b-a7be-9cd78b0ca7f1",
   "metadata": {},
   "source": [
    "### T act EARLY vs LATE CD25 --> Il2ra"
   ]
  },
  {
   "cell_type": "code",
   "execution_count": null,
   "id": "d24cfb89-94d4-4429-b670-e7105451e179",
   "metadata": {},
   "outputs": [],
   "source": [
    "sc.pl.umap(adata_gex_colon2, color = [\"Cd69\",\"Il2ra\"], cmap=\"Reds\", vmax=\"p99\")"
   ]
  },
  {
   "cell_type": "code",
   "execution_count": null,
   "id": "cd367e8b-f6cc-4d50-87e1-ed4f9b0b48e9",
   "metadata": {},
   "outputs": [],
   "source": [
    "sc.tl.rank_genes_groups(adata_gex_colon2, \"leiden\", method=\"t-test\")\n",
    "sc.pl.rank_genes_groups(adata_gex_colon2, n_genes=25, sharey=False)"
   ]
  },
  {
   "cell_type": "code",
   "execution_count": null,
   "id": "d838f765-e719-4e48-bfc2-16e845425144",
   "metadata": {},
   "outputs": [],
   "source": [
    "pd.DataFrame(adata_gex_colon2.uns[\"rank_genes_groups\"][\"names\"]).head(20)"
   ]
  },
  {
   "cell_type": "code",
   "execution_count": null,
   "id": "056212c9-36a1-4c4f-a29f-a7351070127b",
   "metadata": {},
   "outputs": [],
   "source": [
    "#adata_gex_til2.raw = None"
   ]
  },
  {
   "cell_type": "code",
   "execution_count": null,
   "id": "b4626aaa-72e0-455e-b071-1cd096d9d55c",
   "metadata": {},
   "outputs": [],
   "source": [
    "adata_gex_colon2.var_names = adata_gex_colon2.var[\"ensembl_id\"]"
   ]
  },
  {
   "cell_type": "code",
   "execution_count": null,
   "id": "51cb3762-b63a-4339-9f95-d6327561d601",
   "metadata": {},
   "outputs": [],
   "source": [
    "adata_gex_colon2.var_names_make_unique()"
   ]
  },
  {
   "cell_type": "code",
   "execution_count": null,
   "id": "5655e733-d41a-4845-a591-d8ac6f296378",
   "metadata": {},
   "outputs": [],
   "source": [
    "sc.tl.dendrogram(adata_gex_colon2, groupby='leiden')"
   ]
  },
  {
   "cell_type": "code",
   "execution_count": null,
   "id": "df1ca966-d62d-4cef-88e8-b34be40a957b",
   "metadata": {},
   "outputs": [],
   "source": [
    "markers = ['Igfbp4', 'Gm42418', 'Cox6c', 'Pfn1', 'Cd52']\n",
    "\n",
    "sc.pl.dotplot(adata_gex_colon2, markers, groupby='leiden', dendrogram=True, use_raw=False, gene_symbols=\"gene_name\")"
   ]
  },
  {
   "cell_type": "markdown",
   "id": "16e09583-0bf2-471c-a889-530168d79cd2",
   "metadata": {},
   "source": [
    "## naive markers in colon \n",
    "https://www.ncbi.nlm.nih.gov/pmc/articles/PMC4810120/#:~:text=CD8%20Cell%20Subsets%20and%20Cell%20Differentiation&text=Naive%20T%20cells%20differentiate%20into,are%20shown%20in%20Figure%204."
   ]
  },
  {
   "cell_type": "code",
   "execution_count": null,
   "id": "a5b0d0c5-1502-43ce-9643-a85cb950f9ba",
   "metadata": {},
   "outputs": [],
   "source": []
  }
 ],
 "metadata": {
  "kernelspec": {
   "display_name": "tcr_2024",
   "language": "python",
   "name": "tcr_2024"
  },
  "language_info": {
   "codemirror_mode": {
    "name": "ipython",
    "version": 3
   },
   "file_extension": ".py",
   "mimetype": "text/x-python",
   "name": "python",
   "nbconvert_exporter": "python",
   "pygments_lexer": "ipython3",
   "version": "3.12.4"
  }
 },
 "nbformat": 4,
 "nbformat_minor": 5
}
