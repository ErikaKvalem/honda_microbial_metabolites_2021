{
 "cells": [
  {
   "cell_type": "markdown",
   "id": "9af4cbaa-33da-495b-9093-9c0a53736059",
   "metadata": {},
   "source": [
    "# Gene expression & surface protein TIL "
   ]
  },
  {
   "cell_type": "markdown",
   "id": "e9595731-44c9-48b2-8b31-cf4f475565ae",
   "metadata": {},
   "source": [
    "### Load adata from ICI treated samples TIL "
   ]
  },
  {
   "cell_type": "code",
   "execution_count": null,
   "id": "4a08a114-6ebe-426b-b3ee-71d273467666",
   "metadata": {},
   "outputs": [],
   "source": [
    "# Libraries\n",
    "import scanpy as sc\n",
    "import anndata as ad\n",
    "import pandas as pd\n",
    "import sc_atlas_helpers as ah\n",
    "import numpy as np\n",
    "from scipy.stats import median_abs_deviation\n",
    "from matplotlib.pyplot import rc_context\n",
    "import matplotlib as plt"
   ]
  },
  {
   "cell_type": "code",
   "execution_count": null,
   "id": "82b03362-cf7f-4602-8422-2911f802db44",
   "metadata": {},
   "outputs": [],
   "source": [
    "resDir =\"/data/projects/2021/MicrobialMetabolites/single-cell-sorted-cd8/results/40_gex_surface_prot/\""
   ]
  },
  {
   "cell_type": "code",
   "execution_count": null,
   "id": "65b4387e-6339-417c-9b06-528a483be976",
   "metadata": {},
   "outputs": [],
   "source": [
    "adata_10mix_ICI1 = sc.read_10x_h5(\"/data/projects/2021/MicrobialMetabolites/single-cell-sorted-cd8/2021-02-01_sorted_cd8_til/analyses_icbi/10mix-ICI1/outs/per_sample_outs/10mix-ICI1/count/sample_filtered_feature_bc_matrix.h5\", gex_only=False)\n",
    "adata_10mix_ICI2 = sc.read_10x_h5(\"/data/projects/2021/MicrobialMetabolites/single-cell-sorted-cd8/2021-02-01_sorted_cd8_til/analyses_icbi/10mix-ICI2/outs/per_sample_outs/10mix-ICI2/count/sample_filtered_feature_bc_matrix.h5\", gex_only=False)\n",
    "adata_11mix_ICI1 = sc.read_10x_h5(\"/data/projects/2021/MicrobialMetabolites/single-cell-sorted-cd8/2021-02-01_sorted_cd8_til/analyses_icbi/11mix-ICI1/outs/per_sample_outs/11mix-ICI1/count/sample_filtered_feature_bc_matrix.h5\", gex_only=False)\n",
    "adata_11mix_ICI2 = sc.read_10x_h5(\"/data/projects/2021/MicrobialMetabolites/single-cell-sorted-cd8/2021-02-01_sorted_cd8_til/analyses_icbi/11mix-ICI2/outs/per_sample_outs/11mix-ICI2/count/sample_filtered_feature_bc_matrix.h5\", gex_only=False)\n",
    "adata_GF_ICI1 = sc.read_10x_h5(\"/data/projects/2021/MicrobialMetabolites/single-cell-sorted-cd8/2021-02-01_sorted_cd8_til/analyses_icbi/GF-ICI1/outs/per_sample_outs/GF-ICI1/count/sample_filtered_feature_bc_matrix.h5\", gex_only=False)\n",
    "adata_GF_ICI2 = sc.read_10x_h5(\"/data/projects/2021/MicrobialMetabolites/single-cell-sorted-cd8/2021-02-01_sorted_cd8_til/analyses_icbi/GF-ICI2/outs/per_sample_outs/GF-ICI2/count/sample_filtered_feature_bc_matrix.h5\", gex_only=False)\n",
    "adata_GF_ICI1_plus = sc.read_10x_h5(\"/data/projects/2021/MicrobialMetabolites/single-cell-sorted-cd8/2021-02-01_sorted_cd8_til/analyses_icbi/GF-ICI1-plus/outs/per_sample_outs/GF-ICI1-plus/count/sample_filtered_feature_bc_matrix.h5\", gex_only=False)\n",
    "adata_GF_ICI2_plus = sc.read_10x_h5(\"/data/projects/2021/MicrobialMetabolites/single-cell-sorted-cd8/2021-02-01_sorted_cd8_til/analyses_icbi/GF-ICI2-plus/outs/per_sample_outs/GF-ICI2-plus/count/sample_filtered_feature_bc_matrix.h5\", gex_only=False)"
   ]
  },
  {
   "cell_type": "markdown",
   "id": "3884c8c8-bc01-4690-8af3-2212c9f4bdba",
   "metadata": {},
   "source": [
    "### Add metadata"
   ]
  },
  {
   "cell_type": "code",
   "execution_count": null,
   "id": "5248344b-a11a-458c-8258-33b1a49b9154",
   "metadata": {},
   "outputs": [],
   "source": [
    "adata_10mix_ICI1.obs['adata_name'] = 'adata_10mix_ICI1'\n",
    "adata_10mix_ICI2.obs['adata_name'] =  \"adata_10mix_ICI2\"\n",
    "adata_11mix_ICI1.obs['adata_name'] = \"adata_11mix_ICI1\"\n",
    "adata_11mix_ICI2.obs['adata_name'] = \"adata_11mix_ICI2\"\n",
    "adata_GF_ICI1.obs['adata_name'] = \"adata_GF_ICI1\"\n",
    "adata_GF_ICI2.obs['adata_name'] = \"adata_GF_ICI2\"\n",
    "adata_GF_ICI1_plus.obs['adata_name'] = \"adata_GF_ICI1_plus\"\n",
    "adata_GF_ICI2_plus.obs['adata_name'] =  \"adata_GF_ICI2_plus\""
   ]
  },
  {
   "cell_type": "code",
   "execution_count": null,
   "id": "2a3ee87f-c54d-49e6-8790-8e68421567f9",
   "metadata": {},
   "outputs": [],
   "source": [
    "def clean_adata(adata): \n",
    "    adata.var_names_make_unique()\n",
    "    adata.layers[\"counts\"] = adata.X.copy()\n",
    "    sc.pp.filter_genes(adata, min_counts=1)\n",
    "    return adata"
   ]
  },
  {
   "cell_type": "code",
   "execution_count": null,
   "id": "fbf87827-03e3-4587-9e8d-d1a364f98139",
   "metadata": {},
   "outputs": [],
   "source": [
    "adata_10mix_ICI1 = clean_adata(adata_10mix_ICI1)\n",
    "adata_10mix_ICI2 =  clean_adata(adata_10mix_ICI2)\n",
    "adata_11mix_ICI1 =  clean_adata(adata_11mix_ICI1)\n",
    "adata_11mix_ICI2 =  clean_adata(adata_11mix_ICI2)\n",
    "adata_GF_ICI1 =  clean_adata(adata_GF_ICI1)\n",
    "adata_GF_ICI2 =  clean_adata(adata_GF_ICI2)\n",
    "adata_GF_ICI1_plus=  clean_adata(adata_GF_ICI1_plus)\n",
    "adata_GF_ICI2_plus=  clean_adata(adata_GF_ICI2_plus)"
   ]
  },
  {
   "cell_type": "code",
   "execution_count": null,
   "id": "21a4221d-97ee-4e59-956c-3b004cc3dc74",
   "metadata": {},
   "outputs": [],
   "source": [
    "def metadata(adata):\n",
    "    print(list(set(adata.obs.adata_name)))\n",
    "    adata.obs[\"condition\"] = list(set(adata.obs.adata_name))[0].split(\"_\")[1] #condition\n",
    "    adata.obs[\"batch_id\"] = list(set(adata.obs.adata_name))[0].split(\"_\")[2] # batch_id\n",
    "    adata.obs[\"sample_id\"] = list(set(adata.obs.adata_name))[0].split(\"_\",1)[1] # sample_id"
   ]
  },
  {
   "cell_type": "code",
   "execution_count": null,
   "id": "7d26b888-b3fc-451a-9c18-2d369c28f9ce",
   "metadata": {},
   "outputs": [],
   "source": [
    "adatas = []\n",
    "adatas.append(adata_10mix_ICI1)\n",
    "adatas.append(adata_10mix_ICI2)\n",
    "adatas.append(adata_11mix_ICI1)\n",
    "adatas.append(adata_11mix_ICI2)\n",
    "adatas.append(adata_GF_ICI1)\n",
    "adatas.append(adata_GF_ICI2)\n",
    "adatas.append(adata_GF_ICI1_plus)\n",
    "adatas.append(adata_GF_ICI2_plus)"
   ]
  },
  {
   "cell_type": "code",
   "execution_count": null,
   "id": "8ebcb14f-1aa4-448f-b690-1dbff9e85cd8",
   "metadata": {},
   "outputs": [],
   "source": [
    "for i in adatas:\n",
    "    metadata(i)"
   ]
  },
  {
   "cell_type": "code",
   "execution_count": null,
   "id": "4831c787-d575-4d96-b083-eae80ce4e304",
   "metadata": {},
   "outputs": [],
   "source": [
    "adatas"
   ]
  },
  {
   "cell_type": "code",
   "execution_count": null,
   "id": "d2330db8-5850-4801-92d6-8c022f5ff12a",
   "metadata": {},
   "outputs": [],
   "source": [
    "adata_merged = ad.concat(adatas,merge=\"same\")"
   ]
  },
  {
   "cell_type": "code",
   "execution_count": null,
   "id": "ce5a0e4a-a3eb-47d4-a359-8ac5a96606ec",
   "metadata": {},
   "outputs": [],
   "source": [
    "adata_merged"
   ]
  },
  {
   "cell_type": "code",
   "execution_count": null,
   "id": "9704100e-717c-455b-8cd2-aac5af3364f7",
   "metadata": {},
   "outputs": [],
   "source": [
    "adata = adata_merged"
   ]
  },
  {
   "cell_type": "code",
   "execution_count": null,
   "id": "0b1a7ebe-4707-4ba6-ac96-9e0e315f3def",
   "metadata": {},
   "outputs": [],
   "source": [
    "#adata.write_h5ad(f\"{resDir}adata_merged_til.h5ad\")"
   ]
  }
 ],
 "metadata": {
  "kernelspec": {
   "display_name": "scanpy",
   "language": "python",
   "name": "scanpy"
  },
  "language_info": {
   "codemirror_mode": {
    "name": "ipython",
    "version": 3
   },
   "file_extension": ".py",
   "mimetype": "text/x-python",
   "name": "python",
   "nbconvert_exporter": "python",
   "pygments_lexer": "ipython3",
   "version": "3.12.3"
  }
 },
 "nbformat": 4,
 "nbformat_minor": 5
}
