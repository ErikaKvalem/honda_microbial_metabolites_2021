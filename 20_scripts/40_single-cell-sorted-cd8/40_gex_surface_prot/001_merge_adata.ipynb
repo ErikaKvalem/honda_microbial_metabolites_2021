{
 "cells": [
  {
   "cell_type": "markdown",
   "id": "9af4cbaa-33da-495b-9093-9c0a53736059",
   "metadata": {},
   "source": [
    "# Gene expression & surface protein TIL "
   ]
  },
  {
   "cell_type": "markdown",
   "id": "e9595731-44c9-48b2-8b31-cf4f475565ae",
   "metadata": {},
   "source": [
    "### Load adata from ICI treated samples TIL "
   ]
  },
  {
   "cell_type": "code",
   "execution_count": 1,
   "id": "4a08a114-6ebe-426b-b3ee-71d273467666",
   "metadata": {},
   "outputs": [],
   "source": [
    "# Libraries\n",
    "import scanpy as sc\n",
    "import anndata as ad\n",
    "import pandas as pd\n",
    "import sc_atlas_helpers as ah\n",
    "import numpy as np\n",
    "from scipy.stats import median_abs_deviation\n",
    "from matplotlib.pyplot import rc_context\n",
    "import matplotlib as plt"
   ]
  },
  {
   "cell_type": "code",
   "execution_count": 2,
   "id": "82b03362-cf7f-4602-8422-2911f802db44",
   "metadata": {},
   "outputs": [],
   "source": [
    "resDir =\"/data/projects/2021/MicrobialMetabolites/single-cell-sorted-cd8/results/40_gex_surface_prot/\""
   ]
  },
  {
   "cell_type": "code",
   "execution_count": 3,
   "id": "65b4387e-6339-417c-9b06-528a483be976",
   "metadata": {},
   "outputs": [
    {
     "name": "stderr",
     "output_type": "stream",
     "text": [
      "/home/kvalem/.conda/envs/scanpy/lib/python3.12/site-packages/anndata/_core/anndata.py:1820: UserWarning: Variable names are not unique. To make them unique, call `.var_names_make_unique`.\n",
      "  utils.warn_names_duplicates(\"var\")\n",
      "/home/kvalem/.conda/envs/scanpy/lib/python3.12/site-packages/anndata/_core/anndata.py:1820: UserWarning: Variable names are not unique. To make them unique, call `.var_names_make_unique`.\n",
      "  utils.warn_names_duplicates(\"var\")\n",
      "/home/kvalem/.conda/envs/scanpy/lib/python3.12/site-packages/anndata/_core/anndata.py:1820: UserWarning: Variable names are not unique. To make them unique, call `.var_names_make_unique`.\n",
      "  utils.warn_names_duplicates(\"var\")\n",
      "/home/kvalem/.conda/envs/scanpy/lib/python3.12/site-packages/anndata/_core/anndata.py:1820: UserWarning: Variable names are not unique. To make them unique, call `.var_names_make_unique`.\n",
      "  utils.warn_names_duplicates(\"var\")\n",
      "/home/kvalem/.conda/envs/scanpy/lib/python3.12/site-packages/anndata/_core/anndata.py:1820: UserWarning: Variable names are not unique. To make them unique, call `.var_names_make_unique`.\n",
      "  utils.warn_names_duplicates(\"var\")\n",
      "/home/kvalem/.conda/envs/scanpy/lib/python3.12/site-packages/anndata/_core/anndata.py:1820: UserWarning: Variable names are not unique. To make them unique, call `.var_names_make_unique`.\n",
      "  utils.warn_names_duplicates(\"var\")\n",
      "/home/kvalem/.conda/envs/scanpy/lib/python3.12/site-packages/anndata/_core/anndata.py:1820: UserWarning: Variable names are not unique. To make them unique, call `.var_names_make_unique`.\n",
      "  utils.warn_names_duplicates(\"var\")\n",
      "/home/kvalem/.conda/envs/scanpy/lib/python3.12/site-packages/anndata/_core/anndata.py:1820: UserWarning: Variable names are not unique. To make them unique, call `.var_names_make_unique`.\n",
      "  utils.warn_names_duplicates(\"var\")\n"
     ]
    }
   ],
   "source": [
    "adata_10mix_ICI1 = sc.read_10x_h5(\"/data/projects/2021/MicrobialMetabolites/single-cell-sorted-cd8/2021-02-01_sorted_cd8_til/analyses_icbi/10mix-ICI1/outs/per_sample_outs/10mix-ICI1/count/sample_filtered_feature_bc_matrix.h5\", gex_only=False)\n",
    "adata_10mix_ICI2 = sc.read_10x_h5(\"/data/projects/2021/MicrobialMetabolites/single-cell-sorted-cd8/2021-02-01_sorted_cd8_til/analyses_icbi/10mix-ICI2/outs/per_sample_outs/10mix-ICI2/count/sample_filtered_feature_bc_matrix.h5\", gex_only=False)\n",
    "adata_11mix_ICI1 = sc.read_10x_h5(\"/data/projects/2021/MicrobialMetabolites/single-cell-sorted-cd8/2021-02-01_sorted_cd8_til/analyses_icbi/11mix-ICI1/outs/per_sample_outs/11mix-ICI1/count/sample_filtered_feature_bc_matrix.h5\", gex_only=False)\n",
    "adata_11mix_ICI2 = sc.read_10x_h5(\"/data/projects/2021/MicrobialMetabolites/single-cell-sorted-cd8/2021-02-01_sorted_cd8_til/analyses_icbi/11mix-ICI2/outs/per_sample_outs/11mix-ICI2/count/sample_filtered_feature_bc_matrix.h5\", gex_only=False)\n",
    "adata_GF_ICI1 = sc.read_10x_h5(\"/data/projects/2021/MicrobialMetabolites/single-cell-sorted-cd8/2021-02-01_sorted_cd8_til/analyses_icbi/GF-ICI1/outs/per_sample_outs/GF-ICI1/count/sample_filtered_feature_bc_matrix.h5\", gex_only=False)\n",
    "adata_GF_ICI2 = sc.read_10x_h5(\"/data/projects/2021/MicrobialMetabolites/single-cell-sorted-cd8/2021-02-01_sorted_cd8_til/analyses_icbi/GF-ICI2/outs/per_sample_outs/GF-ICI2/count/sample_filtered_feature_bc_matrix.h5\", gex_only=False)\n",
    "adata_GF_ICI1_plus = sc.read_10x_h5(\"/data/projects/2021/MicrobialMetabolites/single-cell-sorted-cd8/2021-02-01_sorted_cd8_til/analyses_icbi/GF-ICI1-plus/outs/per_sample_outs/GF-ICI1-plus/count/sample_filtered_feature_bc_matrix.h5\", gex_only=False)\n",
    "adata_GF_ICI2_plus = sc.read_10x_h5(\"/data/projects/2021/MicrobialMetabolites/single-cell-sorted-cd8/2021-02-01_sorted_cd8_til/analyses_icbi/GF-ICI2-plus/outs/per_sample_outs/GF-ICI2-plus/count/sample_filtered_feature_bc_matrix.h5\", gex_only=False)"
   ]
  },
  {
   "cell_type": "markdown",
   "id": "3884c8c8-bc01-4690-8af3-2212c9f4bdba",
   "metadata": {},
   "source": [
    "### Add metadata"
   ]
  },
  {
   "cell_type": "code",
   "execution_count": 4,
   "id": "5248344b-a11a-458c-8258-33b1a49b9154",
   "metadata": {},
   "outputs": [],
   "source": [
    "adata_10mix_ICI1.obs['adata_name'] = 'adata_10mix_ICI1'\n",
    "adata_10mix_ICI2.obs['adata_name'] =  \"adata_10mix_ICI2\"\n",
    "adata_11mix_ICI1.obs['adata_name'] = \"adata_11mix_ICI1\"\n",
    "adata_11mix_ICI2.obs['adata_name'] = \"adata_11mix_ICI2\"\n",
    "adata_GF_ICI1.obs['adata_name'] = \"adata_GF_ICI1\"\n",
    "adata_GF_ICI2.obs['adata_name'] = \"adata_GF_ICI2\"\n",
    "adata_GF_ICI1_plus.obs['adata_name'] = \"adata_GF_ICI1_plus\"\n",
    "adata_GF_ICI2_plus.obs['adata_name'] =  \"adata_GF_ICI2_plus\""
   ]
  },
  {
   "cell_type": "code",
   "execution_count": 5,
   "id": "2a3ee87f-c54d-49e6-8790-8e68421567f9",
   "metadata": {},
   "outputs": [],
   "source": [
    "def clean_adata(adata): \n",
    "    adata.var_names_make_unique()\n",
    "    adata.layers[\"counts\"] = adata.X.copy()\n",
    "    #sc.pp.filter_genes(adata, min_counts=1)\n",
    "    return adata"
   ]
  },
  {
   "cell_type": "code",
   "execution_count": 6,
   "id": "fbf87827-03e3-4587-9e8d-d1a364f98139",
   "metadata": {},
   "outputs": [],
   "source": [
    "adata_10mix_ICI1 = clean_adata(adata_10mix_ICI1)\n",
    "adata_10mix_ICI2 =  clean_adata(adata_10mix_ICI2)\n",
    "adata_11mix_ICI1 =  clean_adata(adata_11mix_ICI1)\n",
    "adata_11mix_ICI2 =  clean_adata(adata_11mix_ICI2)\n",
    "adata_GF_ICI1 =  clean_adata(adata_GF_ICI1)\n",
    "adata_GF_ICI2 =  clean_adata(adata_GF_ICI2)\n",
    "adata_GF_ICI1_plus=  clean_adata(adata_GF_ICI1_plus)\n",
    "adata_GF_ICI2_plus=  clean_adata(adata_GF_ICI2_plus)"
   ]
  },
  {
   "cell_type": "code",
   "execution_count": 7,
   "id": "21a4221d-97ee-4e59-956c-3b004cc3dc74",
   "metadata": {},
   "outputs": [],
   "source": [
    "def metadata(adata):\n",
    "    print(list(set(adata.obs.adata_name)))\n",
    "    adata.obs[\"condition\"] = list(set(adata.obs.adata_name))[0].split(\"_\")[1] #condition\n",
    "    adata.obs[\"batch_id\"] = list(set(adata.obs.adata_name))[0].split(\"_\")[2] # batch_id\n",
    "    adata.obs[\"sample_id\"] = list(set(adata.obs.adata_name))[0].split(\"_\",1)[1] # sample_id"
   ]
  },
  {
   "cell_type": "code",
   "execution_count": 8,
   "id": "7d26b888-b3fc-451a-9c18-2d369c28f9ce",
   "metadata": {},
   "outputs": [],
   "source": [
    "adatas = []\n",
    "adatas.append(adata_10mix_ICI1)\n",
    "adatas.append(adata_10mix_ICI2)\n",
    "adatas.append(adata_11mix_ICI1)\n",
    "adatas.append(adata_11mix_ICI2)\n",
    "adatas.append(adata_GF_ICI1)\n",
    "adatas.append(adata_GF_ICI2)\n",
    "adatas.append(adata_GF_ICI1_plus)\n",
    "adatas.append(adata_GF_ICI2_plus)"
   ]
  },
  {
   "cell_type": "code",
   "execution_count": 9,
   "id": "8ebcb14f-1aa4-448f-b690-1dbff9e85cd8",
   "metadata": {},
   "outputs": [
    {
     "name": "stdout",
     "output_type": "stream",
     "text": [
      "['adata_10mix_ICI1']\n",
      "['adata_10mix_ICI2']\n",
      "['adata_11mix_ICI1']\n",
      "['adata_11mix_ICI2']\n",
      "['adata_GF_ICI1']\n",
      "['adata_GF_ICI2']\n",
      "['adata_GF_ICI1_plus']\n",
      "['adata_GF_ICI2_plus']\n"
     ]
    }
   ],
   "source": [
    "for i in adatas:\n",
    "    metadata(i)"
   ]
  },
  {
   "cell_type": "code",
   "execution_count": 10,
   "id": "4831c787-d575-4d96-b083-eae80ce4e304",
   "metadata": {
    "scrolled": true
   },
   "outputs": [
    {
     "data": {
      "text/plain": [
       "[AnnData object with n_obs × n_vars = 11401 × 32292\n",
       "     obs: 'adata_name', 'condition', 'batch_id', 'sample_id'\n",
       "     var: 'gene_ids', 'feature_types', 'genome', 'pattern', 'read', 'sequence'\n",
       "     layers: 'counts',\n",
       " AnnData object with n_obs × n_vars = 10828 × 32292\n",
       "     obs: 'adata_name', 'condition', 'batch_id', 'sample_id'\n",
       "     var: 'gene_ids', 'feature_types', 'genome', 'pattern', 'read', 'sequence'\n",
       "     layers: 'counts',\n",
       " AnnData object with n_obs × n_vars = 9974 × 32292\n",
       "     obs: 'adata_name', 'condition', 'batch_id', 'sample_id'\n",
       "     var: 'gene_ids', 'feature_types', 'genome', 'pattern', 'read', 'sequence'\n",
       "     layers: 'counts',\n",
       " AnnData object with n_obs × n_vars = 9099 × 32292\n",
       "     obs: 'adata_name', 'condition', 'batch_id', 'sample_id'\n",
       "     var: 'gene_ids', 'feature_types', 'genome', 'pattern', 'read', 'sequence'\n",
       "     layers: 'counts',\n",
       " AnnData object with n_obs × n_vars = 8299 × 32292\n",
       "     obs: 'adata_name', 'condition', 'batch_id', 'sample_id'\n",
       "     var: 'gene_ids', 'feature_types', 'genome', 'pattern', 'read', 'sequence'\n",
       "     layers: 'counts',\n",
       " AnnData object with n_obs × n_vars = 6237 × 32292\n",
       "     obs: 'adata_name', 'condition', 'batch_id', 'sample_id'\n",
       "     var: 'gene_ids', 'feature_types', 'genome', 'pattern', 'read', 'sequence'\n",
       "     layers: 'counts',\n",
       " AnnData object with n_obs × n_vars = 7595 × 32292\n",
       "     obs: 'adata_name', 'condition', 'batch_id', 'sample_id'\n",
       "     var: 'gene_ids', 'feature_types', 'genome', 'pattern', 'read', 'sequence'\n",
       "     layers: 'counts',\n",
       " AnnData object with n_obs × n_vars = 9159 × 32292\n",
       "     obs: 'adata_name', 'condition', 'batch_id', 'sample_id'\n",
       "     var: 'gene_ids', 'feature_types', 'genome', 'pattern', 'read', 'sequence'\n",
       "     layers: 'counts']"
      ]
     },
     "execution_count": 10,
     "metadata": {},
     "output_type": "execute_result"
    }
   ],
   "source": [
    "adatas"
   ]
  },
  {
   "cell_type": "code",
   "execution_count": 12,
   "id": "bc41376f-af04-473c-b7a4-86b78f538290",
   "metadata": {},
   "outputs": [
    {
     "name": "stderr",
     "output_type": "stream",
     "text": [
      "/home/kvalem/.conda/envs/scanpy/lib/python3.12/site-packages/anndata/_core/anndata.py:1818: UserWarning: Observation names are not unique. To make them unique, call `.obs_names_make_unique`.\n",
      "  utils.warn_names_duplicates(\"obs\")\n"
     ]
    }
   ],
   "source": [
    "adata_merged = ad.concat(adatas,merge=\"same\")"
   ]
  },
  {
   "cell_type": "code",
   "execution_count": 13,
   "id": "b1377587-b103-4d4d-9201-757b2f533bde",
   "metadata": {},
   "outputs": [
    {
     "data": {
      "text/html": [
       "<div>\n",
       "<style scoped>\n",
       "    .dataframe tbody tr th:only-of-type {\n",
       "        vertical-align: middle;\n",
       "    }\n",
       "\n",
       "    .dataframe tbody tr th {\n",
       "        vertical-align: top;\n",
       "    }\n",
       "\n",
       "    .dataframe thead th {\n",
       "        text-align: right;\n",
       "    }\n",
       "</style>\n",
       "<table border=\"1\" class=\"dataframe\">\n",
       "  <thead>\n",
       "    <tr style=\"text-align: right;\">\n",
       "      <th></th>\n",
       "      <th>gene_ids</th>\n",
       "      <th>feature_types</th>\n",
       "      <th>genome</th>\n",
       "      <th>pattern</th>\n",
       "      <th>read</th>\n",
       "      <th>sequence</th>\n",
       "    </tr>\n",
       "  </thead>\n",
       "  <tbody>\n",
       "    <tr>\n",
       "      <th>Cxcl13</th>\n",
       "      <td>ENSMUSG00000023078</td>\n",
       "      <td>Gene Expression</td>\n",
       "      <td>mm10</td>\n",
       "      <td></td>\n",
       "      <td></td>\n",
       "      <td></td>\n",
       "    </tr>\n",
       "  </tbody>\n",
       "</table>\n",
       "</div>"
      ],
      "text/plain": [
       "                  gene_ids    feature_types genome pattern read sequence\n",
       "Cxcl13  ENSMUSG00000023078  Gene Expression   mm10                      "
      ]
     },
     "execution_count": 13,
     "metadata": {},
     "output_type": "execute_result"
    }
   ],
   "source": [
    "adata_merged.var[adata_merged.var[\"gene_ids\"]==\"ENSMUSG00000023078\"]"
   ]
  },
  {
   "cell_type": "code",
   "execution_count": 16,
   "id": "15203cee-5acb-400b-8ec3-14aa32a2ece2",
   "metadata": {},
   "outputs": [
    {
     "data": {
      "text/html": [
       "<div>\n",
       "<style scoped>\n",
       "    .dataframe tbody tr th:only-of-type {\n",
       "        vertical-align: middle;\n",
       "    }\n",
       "\n",
       "    .dataframe tbody tr th {\n",
       "        vertical-align: top;\n",
       "    }\n",
       "\n",
       "    .dataframe thead th {\n",
       "        text-align: right;\n",
       "    }\n",
       "</style>\n",
       "<table border=\"1\" class=\"dataframe\">\n",
       "  <thead>\n",
       "    <tr style=\"text-align: right;\">\n",
       "      <th></th>\n",
       "      <th>gene_ids</th>\n",
       "      <th>feature_types</th>\n",
       "      <th>genome</th>\n",
       "      <th>pattern</th>\n",
       "      <th>read</th>\n",
       "      <th>sequence</th>\n",
       "    </tr>\n",
       "  </thead>\n",
       "  <tbody>\n",
       "    <tr>\n",
       "      <th>Layn</th>\n",
       "      <td>ENSMUSG00000060594</td>\n",
       "      <td>Gene Expression</td>\n",
       "      <td>mm10</td>\n",
       "      <td></td>\n",
       "      <td></td>\n",
       "      <td></td>\n",
       "    </tr>\n",
       "  </tbody>\n",
       "</table>\n",
       "</div>"
      ],
      "text/plain": [
       "                gene_ids    feature_types genome pattern read sequence\n",
       "Layn  ENSMUSG00000060594  Gene Expression   mm10                      "
      ]
     },
     "execution_count": 16,
     "metadata": {},
     "output_type": "execute_result"
    }
   ],
   "source": [
    "adata_merged.var[adata_merged.var[\"gene_ids\"]==\"ENSMUSG00000060594\"]"
   ]
  },
  {
   "cell_type": "code",
   "execution_count": 14,
   "id": "ce5a0e4a-a3eb-47d4-a359-8ac5a96606ec",
   "metadata": {},
   "outputs": [
    {
     "data": {
      "text/plain": [
       "AnnData object with n_obs × n_vars = 72592 × 32290\n",
       "    obs: 'adata_name', 'condition', 'batch_id', 'sample_id'\n",
       "    var: 'gene_ids', 'feature_types', 'genome', 'pattern', 'read', 'sequence'\n",
       "    layers: 'counts'"
      ]
     },
     "execution_count": 14,
     "metadata": {},
     "output_type": "execute_result"
    }
   ],
   "source": [
    "adata_merged"
   ]
  },
  {
   "cell_type": "code",
   "execution_count": 15,
   "id": "9704100e-717c-455b-8cd2-aac5af3364f7",
   "metadata": {},
   "outputs": [],
   "source": [
    "adata = adata_merged"
   ]
  },
  {
   "cell_type": "code",
   "execution_count": 17,
   "id": "0b1a7ebe-4707-4ba6-ac96-9e0e315f3def",
   "metadata": {},
   "outputs": [],
   "source": [
    "adata.write_h5ad(f\"{resDir}adata_merged_til_all_genes.h5ad\")"
   ]
  },
  {
   "cell_type": "code",
   "execution_count": null,
   "id": "3d28c875-fd44-4bff-999d-a90f5fa8aecf",
   "metadata": {},
   "outputs": [],
   "source": []
  }
 ],
 "metadata": {
  "kernelspec": {
   "display_name": "scanpy",
   "language": "python",
   "name": "scanpy"
  },
  "language_info": {
   "codemirror_mode": {
    "name": "ipython",
    "version": 3
   },
   "file_extension": ".py",
   "mimetype": "text/x-python",
   "name": "python",
   "nbconvert_exporter": "python",
   "pygments_lexer": "ipython3",
   "version": "3.12.3"
  }
 },
 "nbformat": 4,
 "nbformat_minor": 5
}
