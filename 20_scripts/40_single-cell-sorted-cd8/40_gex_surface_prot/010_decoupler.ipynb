{
 "cells": [
  {
   "cell_type": "code",
   "execution_count": null,
   "id": "bf7174ca-4a58-462f-abc0-22ec8b631ad3",
   "metadata": {},
   "outputs": [],
   "source": [
    "import scanpy as sc\n",
    "import decoupler as dc "
   ]
  },
  {
   "cell_type": "code",
   "execution_count": null,
   "id": "9cdf5c67-0c1b-4921-853b-c3f16e0508e2",
   "metadata": {},
   "outputs": [],
   "source": [
    "adata = sc.read_h5ad(\"adata_solo_annotated_all.h5ad\")"
   ]
  },
  {
   "cell_type": "code",
   "execution_count": null,
   "id": "a8003431-6fd7-4988-b86f-554ff7ca259c",
   "metadata": {},
   "outputs": [],
   "source": [
    "adata"
   ]
  },
  {
   "cell_type": "code",
   "execution_count": null,
   "id": "52be9478-5129-4fce-8ff8-0e644566f06f",
   "metadata": {},
   "outputs": [],
   "source": [
    "sc.set_figure_params(figsize=(6, 6))"
   ]
  },
  {
   "cell_type": "code",
   "execution_count": null,
   "id": "50a751b3-3f7c-4ad1-b952-9b7bac2f6118",
   "metadata": {},
   "outputs": [],
   "source": [
    "sc.pl.umap(adata, color=[\"cell_type\",\"origin\"], frameon=False, save=\"umap_all\", legend_loc=\"on data\",legend_fontsize=7 )"
   ]
  },
  {
   "cell_type": "code",
   "execution_count": null,
   "id": "77659cca-a9e2-46b2-bd04-8b6f64f2f1ff",
   "metadata": {},
   "outputs": [],
   "source": [
    "sc.pl.umap(adata, color=[\"Ifng\",\"Cxcr3\"], frameon=False,gene_symbols=\"gene_name\", save= \"ifng_cxcr3\",legend_loc=\"on data\",legend_fontsize=7 , vmax=\"p99\", cmap=\"Reds\",add_outline=True)"
   ]
  },
  {
   "cell_type": "code",
   "execution_count": null,
   "id": "9dc77769-3579-4a75-9f6f-0a0cc984583e",
   "metadata": {},
   "outputs": [],
   "source": [
    "sc.pl.umap(adata, color=[\"Ifng\",\"cell_type\"], frameon=False,gene_symbols=\"gene_name\",legend_fontsize=7 , vmax=\"p99\", cmap=\"Reds\",add_outline=True)"
   ]
  },
  {
   "cell_type": "code",
   "execution_count": null,
   "id": "e960dbdd-cbc4-44ec-9f5e-b436f352cf46",
   "metadata": {},
   "outputs": [],
   "source": [
    "set(adata.obs.cell_type)"
   ]
  },
  {
   "cell_type": "code",
   "execution_count": null,
   "id": "1d7e7bc3-5c6b-4318-ba32-fd64cceb4d38",
   "metadata": {},
   "outputs": [],
   "source": [
    "order = [ 'COLON_Naive', 'COLON_Intermediate', 'COLON_Infg','COLON_Exhausted',\n",
    "\n",
    "\n",
    " 'MPEC_Progenitor', 'MPEC_Intermediate',\n",
    " 'MPEC_Effector',\n",
    "\n",
    " 'SLEC_Progenitor', 'SLEC_Plastic', 'SLEC_Intermediate',\n",
    " 'SLEC_Effector',\n",
    " 'SLEC_Inf',\n",
    "\n",
    "\n",
    "\n",
    " 'SLEC_Terminal']"
   ]
  },
  {
   "cell_type": "code",
   "execution_count": null,
   "id": "b9c6675a-6673-494f-bc18-aff3e53818e9",
   "metadata": {},
   "outputs": [],
   "source": []
  },
  {
   "cell_type": "code",
   "execution_count": null,
   "id": "a0dc66e3-e8da-49b7-9eeb-0d69dd130e67",
   "metadata": {},
   "outputs": [],
   "source": [
    "sc.pl.dotplot(adata, var_names=[\"Cxcr3\"], groupby=\"cell_type\", gene_symbols=\"gene_name\", categories_order= order)"
   ]
  },
  {
   "cell_type": "code",
   "execution_count": null,
   "id": "eade9757-5f25-4c33-b86a-e776b8ed135b",
   "metadata": {},
   "outputs": [],
   "source": [
    "sc.pl.dotplot(adata, var_names=[\"Ifng\"], groupby=\"cell_type\", gene_symbols=\"gene_name\", categories_order= order)"
   ]
  },
  {
   "cell_type": "code",
   "execution_count": null,
   "id": "0d418075-441c-4076-b8fb-f62f510dd4fb",
   "metadata": {},
   "outputs": [],
   "source": [
    "\"Lcn2\",\"Cxcl1\",\"Cxcl5\"\"Ccl20\"\"Cxcl2\",\"Cxcl9\",\n",
    "\n",
    "Cxcl9 --> Cxcr3 \n",
    "Cxcl2 --> \n",
    "Ccl20 --> Ccr6 \n",
    "CXCL5 --> Cxcr2 (not found)\n",
    "Cxcl1 --> Cxcr2"
   ]
  },
  {
   "cell_type": "code",
   "execution_count": null,
   "id": "9c34040f-ba25-4578-80e7-8455fd17e603",
   "metadata": {},
   "outputs": [],
   "source": [
    "sc.pl.dotplot(adata, var_names=[\"Tnf\",\"Cxcl10\", \"Cxcr3\",\"Ccr6\",\"Ccl5\"], groupby=\"cell_type\", gene_symbols=\"gene_name\", categories_order= order)"
   ]
  },
  {
   "cell_type": "code",
   "execution_count": null,
   "id": "84b3cfd8-32d1-4dbc-ad16-d9ac9f451123",
   "metadata": {},
   "outputs": [],
   "source": [
    "sc.pl.dotplot(adata, var_names=[\"Tnf\",\"Cxcl10\", \"Cxcr3\",\"Ccr6\",\"Ccl5\"], groupby=\"condition\", gene_symbols=\"gene_name\")"
   ]
  },
  {
   "cell_type": "code",
   "execution_count": null,
   "id": "2ddfdef1-0bd8-45ce-b4cd-ddf31063fac9",
   "metadata": {},
   "outputs": [],
   "source": [
    "sc.pl.dotplot(adata, var_names=[\"Tnf\",\"Cxcl10\", \"Cxcr3\",\"Ccr6\",\"Ccl5\"], groupby=\"origin\", gene_symbols=\"gene_name\")"
   ]
  },
  {
   "cell_type": "code",
   "execution_count": null,
   "id": "3bb610e0-4daf-4641-bb04-959aa6cd523b",
   "metadata": {},
   "outputs": [],
   "source": [
    "sc.pl.umap(adata, color=\"condition\",groups=\"11mix\", frameon=False)"
   ]
  },
  {
   "cell_type": "code",
   "execution_count": null,
   "id": "634fc1ef-3212-4fc0-bdf3-b6389f3c90c6",
   "metadata": {},
   "outputs": [],
   "source": [
    "sc.pl.umap(adata, color=\"condition\",groups=\"10mix\", frameon=False)"
   ]
  },
  {
   "cell_type": "code",
   "execution_count": null,
   "id": "5592490a-30dd-4383-99a8-30fc2c2f5cf6",
   "metadata": {},
   "outputs": [],
   "source": [
    "sc.pl.umap(adata, color=\"sample_id\", groups= [\"10mix_ICI1\",\"10mix_ICI2\"], frameon=False)"
   ]
  },
  {
   "cell_type": "code",
   "execution_count": null,
   "id": "8a8856a6-fbf2-493d-bd7d-a60a065c8dd3",
   "metadata": {},
   "outputs": [],
   "source": [
    "# Query Omnipath and get PanglaoDB\n",
    "markers = dc.get_resource('PanglaoDB',organism=\"mouse\")\n",
    "markers"
   ]
  },
  {
   "cell_type": "code",
   "execution_count": null,
   "id": "bc4cb20e-067d-4c67-8ef2-184fd8e85fb9",
   "metadata": {
    "scrolled": true
   },
   "outputs": [],
   "source": [
    "# Filter by canonical_marker and human\n",
    "markers = markers[markers['mouse'] & markers['canonical_marker'] & (markers['mouse_sensitivity'] > 0.5)]\n",
    "\n",
    "# Remove duplicated entries\n",
    "markers = markers[~markers.duplicated(['cell_type', 'genesymbol'])]\n",
    "markers"
   ]
  },
  {
   "cell_type": "code",
   "execution_count": null,
   "id": "ce9c7b12-f59e-4c9d-af84-4a735af958aa",
   "metadata": {},
   "outputs": [],
   "source": [
    "adata.var = adata.var.set_index('gene_name')"
   ]
  },
  {
   "cell_type": "code",
   "execution_count": null,
   "id": "a4c877aa-deed-47b8-abe9-4badd49b21f7",
   "metadata": {},
   "outputs": [],
   "source": [
    "#adata.var_names_make_unique()"
   ]
  },
  {
   "cell_type": "code",
   "execution_count": null,
   "id": "4e960daf-9f0d-4eda-806c-3029aa604a87",
   "metadata": {
    "scrolled": true
   },
   "outputs": [],
   "source": [
    "adata.var"
   ]
  },
  {
   "cell_type": "code",
   "execution_count": null,
   "id": "536a8ee0-d5d6-4be9-ac9b-80e4e910c259",
   "metadata": {},
   "outputs": [],
   "source": [
    "dc.run_ora(\n",
    "    mat=adata,\n",
    "    net=markers,\n",
    "    source='cell_type',\n",
    "    target='genesymbol',\n",
    "    min_n=1,\n",
    "    verbose=True,\n",
    "    use_raw=False\n",
    ")"
   ]
  },
  {
   "cell_type": "code",
   "execution_count": null,
   "id": "cd0f2898-99f9-45c4-9c41-914faebbdc43",
   "metadata": {},
   "outputs": [],
   "source": [
    "acts = dc.get_acts(adata, obsm_key='ora_estimate')\n",
    "\n",
    "# We need to remove inf and set them to the maximum value observed for pvals=0\n",
    "acts_v = acts.X.ravel()\n",
    "max_e = np.nanmax(acts_v[np.isfinite(acts_v)])\n",
    "acts.X[~np.isfinite(acts.X)] = max_e\n",
    "\n",
    "acts"
   ]
  },
  {
   "cell_type": "code",
   "execution_count": null,
   "id": "edf75c45-67ac-408c-92bf-478e192f7147",
   "metadata": {},
   "outputs": [],
   "source": []
  }
 ],
 "metadata": {
  "kernelspec": {
   "display_name": "scanpy",
   "language": "python",
   "name": "scanpy"
  },
  "language_info": {
   "codemirror_mode": {
    "name": "ipython",
    "version": 3
   },
   "file_extension": ".py",
   "mimetype": "text/x-python",
   "name": "python",
   "nbconvert_exporter": "python",
   "pygments_lexer": "ipython3",
   "version": "3.12.3"
  }
 },
 "nbformat": 4,
 "nbformat_minor": 5
}
