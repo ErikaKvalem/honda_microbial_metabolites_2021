{
 "cells": [
  {
   "cell_type": "code",
   "execution_count": 1,
   "id": "3c95d4d6-7341-433b-9750-d7e384fe8361",
   "metadata": {},
   "outputs": [],
   "source": [
    "#import sccoda"
   ]
  },
  {
   "cell_type": "code",
   "execution_count": 2,
   "id": "591929b6-d85d-4cd6-a4aa-5c121d5e86ea",
   "metadata": {},
   "outputs": [],
   "source": [
    "import seaborn "
   ]
  },
  {
   "cell_type": "code",
   "execution_count": 3,
   "id": "5d5ed28f-0aa0-4c61-968a-3159645ddbb7",
   "metadata": {},
   "outputs": [],
   "source": [
    "import warnings\n",
    "import numpy as np\n",
    "import pandas as pd \n",
    "import scanpy as sc\n",
    "#import tensorflow as tf\n",
    "import matplotlib.pyplot as plt\n",
    "import matplotlib\n",
    "import seaborn as sns"
   ]
  },
  {
   "cell_type": "code",
   "execution_count": 4,
   "id": "16891578-26bb-476b-9a1a-51c9257a40b3",
   "metadata": {},
   "outputs": [],
   "source": [
    "import numpy as np\n",
    "import pandas as pd\n",
    "import matplotlib.pyplot as plt\n",
    "import seaborn as sns\n",
    "from matplotlib import cm, rcParams\n",
    "from matplotlib.colors import ListedColormap\n",
    "\n",
    "from anndata import AnnData\n",
    "from typing import Optional, Tuple, Collection, Union, List"
   ]
  },
  {
   "cell_type": "code",
   "execution_count": 5,
   "id": "a1d529a5-4763-49b3-a2c1-3c2f0307ce94",
   "metadata": {},
   "outputs": [],
   "source": [
    "import importlib\n",
    "import warnings\n",
    "warnings.filterwarnings(\"ignore\")\n",
    "\n",
    "import pandas as pd\n",
    "import pickle as pkl\n",
    "import matplotlib.pyplot as plt"
   ]
  },
  {
   "cell_type": "code",
   "execution_count": 6,
   "id": "0e3baf8d-43d9-4800-abe0-22c2255518b1",
   "metadata": {},
   "outputs": [],
   "source": [
    "#from sccoda.util import comp_ana as mod\n",
    "#from sccoda.util import cell_composition_data as dat\n",
    "#from sccoda.util import data_visualization as viz\n",
    "\n",
    "#import sccoda.datasets as scd"
   ]
  },
  {
   "cell_type": "code",
   "execution_count": 7,
   "id": "81635f6a-1c64-4d5f-b03b-49e0ea72e6a8",
   "metadata": {},
   "outputs": [],
   "source": [
    "import seaborn as sns\n",
    "import matplotlib.pyplot as plt"
   ]
  },
  {
   "cell_type": "code",
   "execution_count": 8,
   "id": "f49c774e-b832-46d7-a3fd-08bc5f4b4654",
   "metadata": {},
   "outputs": [],
   "source": [
    "from statannotations.Annotator import Annotator"
   ]
  },
  {
   "cell_type": "code",
   "execution_count": 9,
   "id": "07f1f28f-b1d5-44ac-ae10-0cbba99b49ed",
   "metadata": {},
   "outputs": [],
   "source": [
    "#from statannotations.Annotator import Annotator"
   ]
  },
  {
   "cell_type": "code",
   "execution_count": 11,
   "id": "237e95f7-0570-4d88-aead-32ca13fe2285",
   "metadata": {},
   "outputs": [],
   "source": [
    "adata = sc.read_h5ad(\"adata_solo_annotated_all.h5ad\")"
   ]
  },
  {
   "cell_type": "code",
   "execution_count": 12,
   "id": "3cdcdf82-3596-4019-89b9-d7eea9c4ce5d",
   "metadata": {},
   "outputs": [
    {
     "data": {
      "text/plain": [
       "AnnData object with n_obs × n_vars = 60459 × 11945\n",
       "    obs: '_scvi_batch', '_scvi_labels', 'batch', 'batch_id', 'cell_type', 'condition', 'is_doublet', 'is_outlier', 'is_outlier_counts', 'is_outlier_genes', 'is_outlier_mito', 'is_outlier_top_20', 'leiden', 'log1p_n_genes_by_counts', 'log1p_total_counts', 'log1p_total_counts_mt', 'log1p_total_counts_ribo', 'n_counts', 'n_genes', 'n_genes_by_counts', 'origin', 'pct_counts_in_top_20_genes', 'pct_counts_mt', 'pct_counts_ribo', 'sample_id', 'total_counts', 'total_counts_mt', 'total_counts_ribo', 'value', 'outlier', 'mt_outlier', 'ribo_outlier'\n",
       "    var: 'ensembl_id', 'feature_types', 'gene_name', 'mt', 'ribo', 'n_cells_by_counts', 'mean_counts', 'log1p_mean_counts', 'pct_dropout_by_counts', 'total_counts', 'log1p_total_counts', 'n_cells', 'n_counts', 'highly_variable', 'highly_variable_rank', 'means', 'variances', 'variances_norm', 'highly_variable_nbatches'\n",
       "    uns: 'cell_type_colors', 'hvg', 'is_doublet_colors', 'leiden', 'leiden_colors', 'log1p', 'neighbors', 'neighbors_uncorrected', 'origin_colors', 'sample_id_colors', 'umap'\n",
       "    obsm: 'X_pca', 'X_scAR', 'X_scVI', 'X_umap', 'X_umap_uncorrected'\n",
       "    layers: 'counts', 'denoised', 'logcounts'\n",
       "    obsp: 'connectivities', 'distances', 'neighbors_uncorrected_connectivities', 'neighbors_uncorrected_distances'"
      ]
     },
     "execution_count": 12,
     "metadata": {},
     "output_type": "execute_result"
    }
   ],
   "source": [
    "adata"
   ]
  },
  {
   "cell_type": "code",
   "execution_count": 13,
   "id": "f2d2fe11-87f8-45e0-a29a-9caac501d356",
   "metadata": {},
   "outputs": [],
   "source": [
    "adata = adata[adata.obs[\"condition\"].isin([\"10mix\",\"11mix\"])]"
   ]
  },
  {
   "cell_type": "code",
   "execution_count": 14,
   "id": "a2ef649b-9885-4adf-836b-7878f423e339",
   "metadata": {},
   "outputs": [
    {
     "data": {
      "text/plain": [
       "Index(['ENSMUSG00000033845', 'ENSMUSG00000025903', 'ENSMUSG00000033813',\n",
       "       'ENSMUSG00000033793', 'ENSMUSG00000025907', 'ENSMUSG00000090031',\n",
       "       'ENSMUSG00000051285', 'ENSMUSG00000061024', 'ENSMUSG00000025912',\n",
       "       'ENSMUSG00000045210',\n",
       "       ...\n",
       "       'ENSMUSG00000069049', 'ENSMUSG00000068457', 'ENSMUSG00000069045',\n",
       "       'ENSMUSG00000095366', 'ENSMUSG00000096768', 'ENSMUSG00000063897',\n",
       "       'ENSMUSG00000051412', 'ENSMUSG00000079834', 'ENSMUSG00000095742',\n",
       "       'ENSMUSG00000095041'],\n",
       "      dtype='object', name='ensembl_id', length=11945)"
      ]
     },
     "execution_count": 14,
     "metadata": {},
     "output_type": "execute_result"
    }
   ],
   "source": [
    "adata.var.index"
   ]
  },
  {
   "cell_type": "code",
   "execution_count": 15,
   "id": "1810925b-a9dd-473a-bb18-51fd302d811d",
   "metadata": {},
   "outputs": [],
   "source": [
    "#plot_df"
   ]
  },
  {
   "cell_type": "code",
   "execution_count": 16,
   "id": "763bbeae-bf37-4d65-9c2f-549677130850",
   "metadata": {},
   "outputs": [],
   "source": [
    "adata_11 = adata[adata.obs[\"condition\"]==\"11mix\"]"
   ]
  },
  {
   "cell_type": "code",
   "execution_count": 17,
   "id": "2ab3ad1b-38f4-4262-8c8d-73c6d6997e80",
   "metadata": {},
   "outputs": [],
   "source": [
    "adata_10 = adata[adata.obs[\"condition\"]==\"10mix\"]"
   ]
  },
  {
   "cell_type": "code",
   "execution_count": 18,
   "id": "6d1df034-4d27-4ed9-bb9f-557151c9f1a1",
   "metadata": {},
   "outputs": [],
   "source": [
    "def boxplots(\n",
    "        data: AnnData,\n",
    "        feature_name: str,\n",
    "        y_scale: str = \"relative\",\n",
    "        plot_facets: bool = False,\n",
    "        add_dots: bool = False,\n",
    "        cell_types: Optional[list] = None,\n",
    "        args_boxplot: Optional[dict] = {},\n",
    "        args_swarmplot: Optional[dict] = {},\n",
    "        figsize: Optional[Tuple[int, int]] = None,\n",
    "        dpi: Optional[int] = 100,\n",
    "        cmap: Optional[str] = \"Blues\",\n",
    "        plot_legend: Optional[bool] = True,\n",
    "        level_order: List[str] = None\n",
    ") -> Optional[Tuple[plt.Subplot, sns.axisgrid.FacetGrid]]:\n",
    "    \"\"\"\\\n",
    "    Grouped boxplot visualization. The cell counts for each cell type are shown as a group of boxplots,\n",
    "    with intra--group separation by a covariate from data.obs.\n",
    "\n",
    "    The cell type groups can either be ordered along the x-axis of a single plot (plot_facets=False) or as plot facets (plot_facets=True).\n",
    "\n",
    "    Parameters\n",
    "    ----------\n",
    "    data\n",
    "        A scCODA-compatible data object\n",
    "    feature_name\n",
    "        The name of the feature in data.obs to plot\n",
    "    y_scale\n",
    "        Transformation to of cell counts. Options: \"relative\" - Relative abundance, \"log\" - log(count), \"count\" - absolute abundance (cell counts)\n",
    "    plot_facets\n",
    "        If False, plot cell types on the x-axis. If True, plot as facets\n",
    "    add_dots\n",
    "        If True, overlay a scatterplot with one dot for each data point\n",
    "    cell_types\n",
    "        Subset of cell types that should be plotted\n",
    "    args_boxplot\n",
    "        Arguments passed to sns.boxplot\n",
    "    args_swarmplot\n",
    "            Arguments passed to sns.swarmplot\n",
    "    figsize\n",
    "        figure size\n",
    "    dpi\n",
    "        dpi setting\n",
    "    cmap\n",
    "        The seaborn color map for the barplot\n",
    "    plot_legend\n",
    "        If True, adds a legend\n",
    "    level_order\n",
    "        Custom ordering of bars on the x-axis\n",
    "\n",
    "    Returns\n",
    "    -------\n",
    "    Depending on `plot_facets`, returns a :class:`~plt.AxesSubplot` (`plot_facets = False`) or :class:`~sns.axisgrid.FacetGrid` (`plot_facets = True`) object\n",
    "\n",
    "    ax\n",
    "        if `plot_facets = False`\n",
    "    g\n",
    "        if `plot_facets = True`\n",
    "    \"\"\"\n",
    "\n",
    "    # y scale transformations\n",
    "    if y_scale == \"relative\":\n",
    "        sample_sums = np.sum(data.X, axis=1, keepdims=True)\n",
    "        X = data.X/sample_sums\n",
    "        value_name = \"Proportion\"\n",
    "    # add pseudocount 1 if using log scale (needs to be improved)\n",
    "    elif y_scale == \"log\":\n",
    "        X = np.log(data.X + 1)\n",
    "        value_name = \"log(count)\"\n",
    "    elif y_scale == \"count\":\n",
    "        X = data.X\n",
    "        value_name = \"count\"\n",
    "    else:\n",
    "        raise ValueError(\"Invalid y_scale transformation\")\n",
    "\n",
    "    count_df = pd.DataFrame(X, columns=data.var.index, index=data.obs.index).\\\n",
    "        merge(data.obs[feature_name], left_index=True, right_index=True)\n",
    "    plot_df = pd.melt(count_df, id_vars=feature_name, var_name=\"Cell type\", value_name=value_name)\n",
    "    if cell_types is not None:\n",
    "        plot_df = plot_df[plot_df[\"Cell type\"].isin(cell_types)] \n",
    "    if plot_facets:\n",
    "\n",
    "        if level_order is None:\n",
    "            level_order = pd.unique(plot_df[feature_name])\n",
    "\n",
    "        K = X.shape[1]\n",
    "\n",
    "        g = sns.FacetGrid(\n",
    "            plot_df,\n",
    "            col=\"Cell type\",\n",
    "            sharex=False,\n",
    "            col_wrap=int(np.floor(np.sqrt(K))),\n",
    "            height=5,\n",
    "            aspect=2,\n",
    "        )\n",
    "        g.map(\n",
    "            sns.boxplot,\n",
    "            value_name,\n",
    "            feature_name,\n",
    "            palette=cmap,\n",
    "            order=level_order,\n",
    "            **args_boxplot\n",
    "        )\n",
    "        for ax in g.axes.flat:\n",
    "            cell_type = ax.get_title().split(' = ')[-1]\n",
    "            sub_df = plot_df[plot_df[\"Cell type\"] == cell_type]\n",
    "\n",
    "\n",
    "        if add_dots:\n",
    "\n",
    "            if \"hue\" in args_swarmplot:\n",
    "                hue = args_swarmplot.pop(\"hue\")\n",
    "            else:\n",
    "                hue = None\n",
    "\n",
    "            if hue is None:\n",
    "                g.map(\n",
    "                    sns.swarmplot,\n",
    "                    value_name,\n",
    "                    feature_name,\n",
    "                    color=\"black\",\n",
    "                    order=level_order,\n",
    "                    **args_swarmplot\n",
    "                ).set_titles(\"{col_name}\")\n",
    "            else:\n",
    "                g.map(\n",
    "                    sns.swarmplot,\n",
    "                    value_name,\n",
    "                    feature_name,\n",
    "                    hue,\n",
    "                    order=level_order,\n",
    "                    **args_swarmplot\n",
    "                ).set_titles(\"{col_name}\")\n",
    "        # Remove frame (spines)\n",
    "        ax.spines['top'].set_visible(False)\n",
    "        ax.spines['right'].set_visible(False)\n",
    "        ax.spines['left'].set_visible(False)\n",
    "        ax.spines['bottom'].set_visible(False)\n",
    "\n",
    "        return g\n",
    "\n",
    "    else:\n",
    "\n",
    "        if level_order:\n",
    "            args_boxplot[\"hue_order\"] = level_order\n",
    "            args_swarmplot[\"hue_order\"] = level_order\n",
    "\n",
    "        fig, ax = plt.subplots(figsize=figsize, dpi=dpi)\n",
    "\n",
    "        sns.boxplot(y=\"Cell type\", x=value_name, hue=feature_name, data=plot_df, fliersize=1,\n",
    "                    palette=cmap, ax=ax, **args_boxplot)\n",
    "    \n",
    "\n",
    "\n",
    "        if add_dots:\n",
    "            sns.swarmplot(\n",
    "                y=\"Cell type\",\n",
    "                x=value_name,\n",
    "                data=plot_df,\n",
    "                hue=feature_name,\n",
    "                ax=ax,\n",
    "                dodge=True,\n",
    "                color=\"black\",\n",
    "                **args_swarmplot\n",
    "            )\n",
    "\n",
    "        cell_types = pd.unique(plot_df[\"Cell type\"])\n",
    "        ax.set_yticklabels(cell_types)\n",
    "        ax.yaxis.tick_right()\n",
    "        ax.yaxis.set_label_position(\"right\")\n",
    "\n",
    "        # Invert x-axis\n",
    "        #ax.set_xlim(ax.get_xlim()[::-1])\n",
    "\n",
    "        if plot_legend:\n",
    "            handles, labels = ax.get_legend_handles_labels()\n",
    "            handout = []\n",
    "            labelout = []\n",
    "            for h, l in zip(handles, labels):\n",
    "                if l not in labelout:\n",
    "                    labelout.append(l)\n",
    "                    handout.append(h)\n",
    "          #  ax.legend(handout, labelout, loc='upper left', bbox_to_anchor=(1, 1), ncol=1, title=feature_name)\n",
    "\n",
    "        plt.tight_layout()\n",
    "\n",
    "        return ax\n"
   ]
  },
  {
   "cell_type": "code",
   "execution_count": null,
   "id": "696b3792-e1ee-4f53-bd2b-f28e9932401e",
   "metadata": {},
   "outputs": [],
   "source": []
  },
  {
   "cell_type": "code",
   "execution_count": 19,
   "id": "3c95fafe-9b99-4acb-a42f-82b46e38aed9",
   "metadata": {},
   "outputs": [
    {
     "data": {
      "text/plain": [
       "<Axes: xlabel='Proportion', ylabel='Cell type'>"
      ]
     },
     "execution_count": 19,
     "metadata": {},
     "output_type": "execute_result"
    },
    {
     "data": {
      "image/png": "[encoded data removed]",
      "text/plain": [
       "<Figure size 800x500 with 1 Axes>"
      ]
     },
     "metadata": {},
     "output_type": "display_data"
    }
   ],
   "source": [
    "boxplots(adata_10, feature_name=\"condition\", cmap=\"seismic\",figsize=(8, 5), plot_facets=False)"
   ]
  },
  {
   "cell_type": "code",
   "execution_count": null,
   "id": "648ba5cd-4043-4b27-9441-d90351bc3915",
   "metadata": {},
   "outputs": [],
   "source": [
    "boxplots(adata, feature_name=\"condition\", figsize=(12, 5), cmap = \"seismic\", plot_facets=True)"
   ]
  },
  {
   "cell_type": "code",
   "execution_count": null,
   "id": "348b3405-b9e2-47a5-83ff-43914cad96c6",
   "metadata": {},
   "outputs": [],
   "source": [
    "boxplots(adata, feature_name=\"condition\", figsize=(8, 5), cmap = \"inferno\", plot_facets=True, save = \"\")"
   ]
  },
  {
   "cell_type": "code",
   "execution_count": null,
   "id": "453f7a2d-6364-40c9-a47b-608356e4b6d8",
   "metadata": {},
   "outputs": [],
   "source": []
  },
  {
   "cell_type": "code",
   "execution_count": null,
   "id": "f899f874-a2a8-4d43-9bf5-803a68388db5",
   "metadata": {},
   "outputs": [],
   "source": []
  },
  {
   "cell_type": "code",
   "execution_count": null,
   "id": "dfa2d307-79ec-41f3-9f32-be1a858b39ee",
   "metadata": {},
   "outputs": [],
   "source": []
  },
  {
   "cell_type": "code",
   "execution_count": null,
   "id": "4a3aee3d-c5f6-4566-b694-a4c324756a81",
   "metadata": {},
   "outputs": [],
   "source": []
  },
  {
   "cell_type": "code",
   "execution_count": null,
   "id": "ad5139a9-6a71-4d35-9b38-ecf6dd933893",
   "metadata": {},
   "outputs": [],
   "source": []
  },
  {
   "cell_type": "code",
   "execution_count": null,
   "id": "0e9ebbcc-48a8-44f9-bcff-1ad543eaa498",
   "metadata": {},
   "outputs": [],
   "source": []
  }
 ],
 "metadata": {
  "kernelspec": {
   "display_name": "scanpy",
   "language": "python",
   "name": "scanpy"
  },
  "language_info": {
   "codemirror_mode": {
    "name": "ipython",
    "version": 3
   },
   "file_extension": ".py",
   "mimetype": "text/x-python",
   "name": "python",
   "nbconvert_exporter": "python",
   "pygments_lexer": "ipython3",
   "version": "3.12.3"
  }
 },
 "nbformat": 4,
 "nbformat_minor": 5
}
