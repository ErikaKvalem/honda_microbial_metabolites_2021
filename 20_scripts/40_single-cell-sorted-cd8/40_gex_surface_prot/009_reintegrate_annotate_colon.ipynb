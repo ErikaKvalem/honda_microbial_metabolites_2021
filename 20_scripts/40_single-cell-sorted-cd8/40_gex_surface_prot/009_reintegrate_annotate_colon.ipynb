{
 "cells": [
  {
   "cell_type": "markdown",
   "id": "9f0f3d65-cb82-49d1-adce-0a2ab14f6305",
   "metadata": {},
   "source": [
    "# Integrate annotated TIL & COLON"
   ]
  },
  {
   "cell_type": "markdown",
   "id": "f1eec119-4e34-4725-bdb7-466a00ffc60c",
   "metadata": {},
   "source": [
    "## Load adata annotated "
   ]
  },
  {
   "cell_type": "code",
   "execution_count": null,
   "id": "d1c4cf27-559b-4644-bc27-f2e0fc68339a",
   "metadata": {},
   "outputs": [],
   "source": [
    "# Libraries\n",
    "import anndata as ad\n",
    "import matplotlib as plt\n",
    "import numpy as np\n",
    "import pandas as pd\n",
    "import sc_atlas_helpers as ah\n",
    "import scanpy as sc\n",
    "from matplotlib.pyplot import rc_context\n",
    "from scipy.stats import median_abs_deviation"
   ]
  },
  {
   "cell_type": "code",
   "execution_count": null,
   "id": "d81a2e6f-4471-42a8-8be3-64b4bad09294",
   "metadata": {},
   "outputs": [],
   "source": [
    "from functools import partial\n",
    "\n",
    "import altair as alt"
   ]
  },
  {
   "cell_type": "code",
   "execution_count": null,
   "id": "13330462-666b-4f66-82c2-1f1fb747ce86",
   "metadata": {},
   "outputs": [],
   "source": [
    "import seaborn as sns"
   ]
  },
  {
   "cell_type": "code",
   "execution_count": null,
   "id": "a5fd69f3-c249-4bf1-b030-53b8b7eec0ff",
   "metadata": {},
   "outputs": [],
   "source": [
    "import decoupler as dc"
   ]
  },
  {
   "cell_type": "code",
   "execution_count": null,
   "id": "084aacd8-bb40-4c13-b453-06bc72134708",
   "metadata": {},
   "outputs": [],
   "source": [
    "resDir = \"/data/projects/2021/MicrobialMetabolites/single-cell-sorted-cd8/results/40_gex_surface_prot/\"\n",
    "inputDir = \"/data/projects/2021/MicrobialMetabolites/single-cell-sorted-cd8/results/40_gex_surface_prot/\""
   ]
  },
  {
   "cell_type": "code",
   "execution_count": null,
   "id": "2563d5cf-5ba9-424f-9a5c-efdbebb29ddf",
   "metadata": {},
   "outputs": [],
   "source": [
    "adata= sc.read_h5ad(\"/data/projects/2021/MicrobialMetabolites/single-cell-sorted-cd8/results/adata_merged_til_slec_mpec_annotation_tryneighbors.h5ad\")"
   ]
  },
  {
   "cell_type": "code",
   "execution_count": null,
   "id": "7c8d3637-891a-4ea9-aa07-68ad49344e07",
   "metadata": {
    "tags": []
   },
   "outputs": [],
   "source": [
    "path = \"/data/projects/2021/MicrobialMetabolites/single-cell-sorted-cd8/results/solo\""
   ]
  },
  {
   "cell_type": "code",
   "execution_count": null,
   "id": "5e582034-dd79-4118-9fa5-d77c07b43467",
   "metadata": {
    "scrolled": true
   },
   "outputs": [],
   "source": [
    "adata_solo = sc.read_h5ad(f\"{path}/adata_nodoublet.h5ad\")"
   ]
  },
  {
   "cell_type": "markdown",
   "id": "17c9f207-842e-4e6a-8853-10daa224f454",
   "metadata": {},
   "source": [
    "### Functions"
   ]
  },
  {
   "cell_type": "code",
   "execution_count": null,
   "id": "eab18898-a30d-4979-97f1-d09141883374",
   "metadata": {},
   "outputs": [],
   "source": [
    "def update_columns(row):\n",
    "   \n",
    "    if \"ICI\" not in row['sample_id']:\n",
    "        row['origin'] = \"colon\"\n",
    "    else:\n",
    "         row['origin'] = \"til\"\n",
    "        \n",
    "    return row\n",
    "\n"
   ]
  },
  {
   "cell_type": "code",
   "execution_count": null,
   "id": "2b72a82d-7ed9-462a-b320-ad7fd58985ba",
   "metadata": {},
   "outputs": [],
   "source": [
    "def update_columns(row):\n",
    "   \n",
    "    if \"ICI1\"  in row['sample_id']:\n",
    "        row['batch_id'] = \"ICI1\"\n",
    "    elif \"ICI2\" in row['sample_id']:\n",
    "         row['batch_id'] = \"ICI2\"\n",
    "    elif row['sample_id'] == \"10mix1\":\n",
    "        row['batch_id'] = \"1\"\n",
    "    elif row['sample_id'] == \"10mix2\":\n",
    "         row['batch_id'] = \"2\"\n",
    "        \n",
    "        \n",
    "    return row\n",
    "\n"
   ]
  },
  {
   "cell_type": "code",
   "execution_count": null,
   "id": "0978b684-da10-4327-98fa-6442f3f4b3ba",
   "metadata": {
    "tags": []
   },
   "outputs": [],
   "source": [
    "def update_columns(row):\n",
    "   \n",
    "    if row['sample_id'] == \"10mix1\":\n",
    "        row['condition'] = \"10mix\"\n",
    "    elif row['sample_id'] == \"10mix2\":\n",
    "         row['condition'] = \"10mix\"\n",
    "    elif row['sample_id'] == \"11mix1\":\n",
    "         row['condition'] = \"11mix\"\n",
    "    elif row['sample_id'] == \"11mix2\":\n",
    "         row['condition'] = \"11mix\"\n",
    "    elif row['sample_id'] == \"GF1\":\n",
    "         row['condition'] = \"GF\"\n",
    "    elif row['sample_id'] == \"GF2\":\n",
    "         row['condition'] = \"GF\"\n",
    "    elif row['sample_id'] == \"GF-ICI2-plus\":\n",
    "         row['condition'] = \"GF-plus\"\n",
    "    elif row['sample_id'] == \"GF-ICI1-plus\":\n",
    "         row['condition'] = \"GF-plus\"\n",
    "    elif row['sample_id'] == \"GF-ICI2\":\n",
    "         row['condition'] = \"GF\"\n",
    "    elif row['sample_id'] == \"GF-ICI1\":\n",
    "         row['condition'] = \"GF\"\n",
    "    elif row['sample_id'] == \"10mix-ICI1\":\n",
    "         row['condition'] = \"10mix\"\n",
    "    elif row['sample_id'] == \"10mix-ICI2\":\n",
    "         row['condition'] = \"10mix\"\n",
    "    elif row['sample_id'] == \"11mix-ICI1\":\n",
    "         row['condition'] = \"11mix\"\n",
    "    elif row['sample_id'] == \"11mix-ICI2\":\n",
    "         row['condition'] = \"11mix\"\n",
    "    \n",
    "    \n",
    "        \n",
    "        \n",
    "    return row\n",
    "\n"
   ]
  },
  {
   "cell_type": "markdown",
   "id": "b52f1a82-c72e-437f-9301-024037bbb346",
   "metadata": {},
   "source": [
    "### Map adata cell type column to adata_solo based on cell barcodes "
   ]
  },
  {
   "cell_type": "code",
   "execution_count": null,
   "id": "c9d0d0f7-043b-46ca-a430-bf4893677e46",
   "metadata": {},
   "outputs": [],
   "source": [
    "adata_solo.obs[\"sample_id\"]  = adata_solo.obs[\"sample_id\"].str.replace(\"-\",\"_\")"
   ]
  },
  {
   "cell_type": "code",
   "execution_count": null,
   "id": "e71fb043-c757-42c3-9eef-2e6ad6ba6b59",
   "metadata": {},
   "outputs": [],
   "source": [
    "new_obs_names = adata_solo.obs_names.str.replace(r\"-.+\", \"-1\", regex=True)\n",
    "\n",
    "# Step 2: Concatenate with \"_\" and adata_solo.obs[\"sample_id\"]\n",
    "new_obs_names += \"_\" + adata_solo.obs[\"sample_id\"].astype(str)\n",
    "\n",
    "# Assign the new values back to adata_solo.obs_names\n",
    "adata_solo.obs_names = new_obs_names"
   ]
  },
  {
   "cell_type": "code",
   "execution_count": null,
   "id": "376b3767-d291-46fd-9924-93fb775548c8",
   "metadata": {},
   "outputs": [],
   "source": [
    "cell_type_data = adata.obs[\"cell_type\"]\n",
    "adata_solo.obs[\"cell_type\"] = adata_solo.obs.index.map(cell_type_data)"
   ]
  },
  {
   "cell_type": "code",
   "execution_count": null,
   "id": "59f5f842-5bba-41ae-9343-a2977b25042e",
   "metadata": {},
   "outputs": [],
   "source": [
    "sc.pl.umap(adata_solo, color=[\"cell_type\"], vmax=\"p99\", cmap=\"Reds\")"
   ]
  },
  {
   "cell_type": "code",
   "execution_count": null,
   "id": "d0385b4d-29d9-4786-a588-8b2d98017c72",
   "metadata": {},
   "outputs": [],
   "source": [
    "# Apply the function to each row in the DataFrame\n",
    "adata_solo.obs = adata_solo.obs.apply(update_columns, axis=1)"
   ]
  },
  {
   "cell_type": "code",
   "execution_count": null,
   "id": "638b3b9c-e5ba-4139-af74-96bfb67e4589",
   "metadata": {},
   "outputs": [],
   "source": [
    "# Apply the function to each row in the DataFrame\n",
    "adata_solo.obs = adata_solo.obs.apply(update_columns, axis=1)"
   ]
  },
  {
   "cell_type": "code",
   "execution_count": null,
   "id": "fe958344-0bfb-4927-b063-6d478a79ed39",
   "metadata": {},
   "outputs": [],
   "source": [
    "# Apply the function to each row in the DataFrame\n",
    "adata_solo.obs = adata_solo.obs.apply(update_columns, axis=1)"
   ]
  },
  {
   "cell_type": "code",
   "execution_count": null,
   "id": "758c9212-21ff-4e14-ba5d-dff43284de09",
   "metadata": {},
   "outputs": [],
   "source": [
    "sc.pl.umap(adata_solo, color=[\"cell_type\",\"origin\"])"
   ]
  },
  {
   "cell_type": "markdown",
   "id": "847a54cb-8f4b-4578-9b83-d98ea51b139f",
   "metadata": {},
   "source": [
    "### Split adata"
   ]
  },
  {
   "cell_type": "code",
   "execution_count": null,
   "id": "d4a3fdc1-a806-49cd-9a3e-fac800bc58ac",
   "metadata": {},
   "outputs": [],
   "source": [
    "adata_solo_til = adata_solo[adata_solo.obs[\"origin\"] == \"til\"]"
   ]
  },
  {
   "cell_type": "code",
   "execution_count": null,
   "id": "27f93138-6710-4741-bf81-283895e330ac",
   "metadata": {},
   "outputs": [],
   "source": [
    "adata_solo_colon = adata_solo[adata_solo.obs[\"origin\"] == \"colon\"]"
   ]
  },
  {
   "cell_type": "markdown",
   "id": "8ecc0cd9-26a2-467b-8483-71554c4666c8",
   "metadata": {},
   "source": [
    "### Annotate colon"
   ]
  },
  {
   "cell_type": "code",
   "execution_count": null,
   "id": "a5a01bd7-2228-4497-b684-9472255bfbf9",
   "metadata": {},
   "outputs": [],
   "source": [
    "sc.pl.umap(adata_solo_colon, color=[\"condition\",\"sample_id\"])"
   ]
  },
  {
   "cell_type": "code",
   "execution_count": null,
   "id": "2d90b254-a74b-47ff-9620-17e4d50bd68b",
   "metadata": {},
   "outputs": [],
   "source": [
    "sc.pl.umap(adata_solo_colon, color=[\"Itga4\"], vmax=\"p99\", cmap=\"Reds\")"
   ]
  },
  {
   "cell_type": "code",
   "execution_count": null,
   "id": "e7aa7a85-4eb9-43b4-9183-f6ceb405ff10",
   "metadata": {},
   "outputs": [],
   "source": [
    "sc.pl.umap(adata_solo_colon, color=[\"Cd69\",\"Il2ra\"], vmax=\"p99\", cmap=\"Reds\")"
   ]
  },
  {
   "cell_type": "code",
   "execution_count": null,
   "id": "d9378e6e-9821-4b81-9556-c8840c1cde25",
   "metadata": {},
   "outputs": [],
   "source": [
    "sc.pl.umap(adata_solo_colon, color=[\"Sell\",\"Cd44\"], vmax=\"p99\", cmap=\"Reds\")"
   ]
  },
  {
   "cell_type": "code",
   "execution_count": null,
   "id": "30453278-0d32-4d7d-b816-ca9134e2aaee",
   "metadata": {},
   "outputs": [],
   "source": [
    "sc.pl.umap(adata_solo_colon, color=[\"Klrg1\",\"Il7r\",\"Tbx21\"], vmax=\"p99\", cmap=\"Reds\")"
   ]
  },
  {
   "cell_type": "code",
   "execution_count": null,
   "id": "92ae41ab-03b4-45a3-9e05-4fe7e664c698",
   "metadata": {},
   "outputs": [],
   "source": [
    "sc.tl.rank_genes_groups(adata_solo_colon, \"leiden\", method=\"t-test\")"
   ]
  },
  {
   "cell_type": "code",
   "execution_count": null,
   "id": "bbd03dfb-285e-4020-af09-8d87546ca1d7",
   "metadata": {},
   "outputs": [],
   "source": [
    "pd.DataFrame(adata_solo_colon.uns[\"rank_genes_groups\"][\"names\"]).head(20)"
   ]
  },
  {
   "cell_type": "code",
   "execution_count": null,
   "id": "16d1a965-6404-42d2-8d87-ce982665bf91",
   "metadata": {},
   "outputs": [],
   "source": [
    "adata_solo_colon.var[\"ribo\"] = adata_solo_colon.var_names.str.startswith((\"Rps\", \"Rpl\"))"
   ]
  },
  {
   "cell_type": "code",
   "execution_count": null,
   "id": "2663ce85-7387-402a-be0a-a6d950ba192e",
   "metadata": {},
   "outputs": [],
   "source": [
    "adata_solo_colon = adata_solo_colon[:, adata_solo_colon.var['ribo'] == False].copy()"
   ]
  },
  {
   "cell_type": "code",
   "execution_count": null,
   "id": "b886547f-ee1d-44f5-98af-20550c3183a7",
   "metadata": {
    "scrolled": true
   },
   "outputs": [],
   "source": [
    "adata_solo_colon"
   ]
  },
  {
   "cell_type": "code",
   "execution_count": null,
   "id": "bc3af73d-35ec-4742-b910-a718ec1518c9",
   "metadata": {},
   "outputs": [],
   "source": [
    "sc.pl.umap(adata_solo_colon, color=[\"Cd7\",\"Lef1\",\"Ccl5\",\"Il31ra\",\"Ifngr1\",\"Ifng\"], vmax=\"p99\", cmap=\"Reds\")"
   ]
  },
  {
   "cell_type": "code",
   "execution_count": null,
   "id": "cbfed643-f406-49bc-80ba-dfd4212fc029",
   "metadata": {},
   "outputs": [],
   "source": [
    "sc.pl.umap(adata_solo_colon, color=[\"Ifng\",\"Tox\",\"Itgae\",\"Mki67\",\"Itga4\"], vmax=\"p99\", cmap=\"Reds\")"
   ]
  },
  {
   "cell_type": "code",
   "execution_count": null,
   "id": "4c853294-f032-41f0-9107-008307102dca",
   "metadata": {},
   "outputs": [],
   "source": [
    "adata_solo_colon"
   ]
  },
  {
   "cell_type": "code",
   "execution_count": null,
   "id": "e32b6d36-aee5-48f1-b902-5a4d3eed5636",
   "metadata": {},
   "outputs": [],
   "source": [
    "sc.pl.umap(adata_solo_colon, color=[\"leiden\"],vmax=\"p99\", cmap=\"Reds\")"
   ]
  },
  {
   "cell_type": "code",
   "execution_count": null,
   "id": "affb869e-5430-4c01-80fe-17413a72e907",
   "metadata": {},
   "outputs": [],
   "source": [
    "sc.pl.umap(adata_solo_colon, color=[\"Sell\",\"Cd44\"], vmax=\"p99\", cmap=\"Reds\")"
   ]
  },
  {
   "cell_type": "code",
   "execution_count": null,
   "id": "5c4d0232-61d6-46e7-bbc4-052e51eb097e",
   "metadata": {},
   "outputs": [],
   "source": [
    "# Adata til2"
   ]
  },
  {
   "cell_type": "code",
   "execution_count": null,
   "id": "653bcf86-9e5c-4a81-99ed-e43364f68a21",
   "metadata": {},
   "outputs": [],
   "source": [
    "sc.pp.neighbors(adata_solo_colon, n_neighbors=10)\n",
    "sc.tl.leiden(adata_solo_colon, resolution=0.5,  n_iterations=-1)"
   ]
  },
  {
   "cell_type": "code",
   "execution_count": null,
   "id": "cacd7d2c-f3d6-4d45-b8ac-d1e9f78651a1",
   "metadata": {},
   "outputs": [],
   "source": [
    "sc.pl.umap(adata_solo_colon, color=[\"leiden\"],vmax=\"p99\", cmap=\"Reds\")"
   ]
  },
  {
   "cell_type": "code",
   "execution_count": null,
   "id": "b4cd60dc-dd53-4c04-8041-0dc750db6847",
   "metadata": {},
   "outputs": [],
   "source": []
  }
 ],
 "metadata": {
  "kernelspec": {
   "display_name": "scanpy",
   "language": "python",
   "name": "scanpy"
  },
  "language_info": {
   "codemirror_mode": {
    "name": "ipython",
    "version": 3
   },
   "file_extension": ".py",
   "mimetype": "text/x-python",
   "name": "python",
   "nbconvert_exporter": "python",
   "pygments_lexer": "ipython3",
   "version": "3.12.3"
  }
 },
 "nbformat": 4,
 "nbformat_minor": 5
}
