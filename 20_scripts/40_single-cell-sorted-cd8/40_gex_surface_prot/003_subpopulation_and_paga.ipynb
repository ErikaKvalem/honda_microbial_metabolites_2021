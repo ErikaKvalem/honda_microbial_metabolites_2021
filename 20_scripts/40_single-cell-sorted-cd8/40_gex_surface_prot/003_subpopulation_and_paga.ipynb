{
 "cells": [
  {
   "cell_type": "markdown",
   "id": "9f0f3d65-cb82-49d1-adce-0a2ab14f6305",
   "metadata": {},
   "source": [
    "# Gene expression & surface protein TIL "
   ]
  },
  {
   "cell_type": "markdown",
   "id": "f1eec119-4e34-4725-bdb7-466a00ffc60c",
   "metadata": {},
   "source": [
    "## Load adata annotated "
   ]
  },
  {
   "cell_type": "code",
   "execution_count": null,
   "id": "d1c4cf27-559b-4644-bc27-f2e0fc68339a",
   "metadata": {},
   "outputs": [],
   "source": [
    "# Libraries\n",
    "import anndata as ad\n",
    "import matplotlib as plt\n",
    "import numpy as np\n",
    "import pandas as pd\n",
    "import sc_atlas_helpers as ah\n",
    "import scanpy as sc\n",
    "from matplotlib.pyplot import rc_context\n",
    "from scipy.stats import median_abs_deviation"
   ]
  },
  {
   "cell_type": "code",
   "execution_count": null,
   "id": "d81a2e6f-4471-42a8-8be3-64b4bad09294",
   "metadata": {},
   "outputs": [],
   "source": [
    "from functools import partial\n",
    "\n",
    "import altair as alt"
   ]
  },
  {
   "cell_type": "code",
   "execution_count": null,
   "id": "13330462-666b-4f66-82c2-1f1fb747ce86",
   "metadata": {},
   "outputs": [],
   "source": [
    "import seaborn as sns"
   ]
  },
  {
   "cell_type": "code",
   "execution_count": null,
   "id": "a5fd69f3-c249-4bf1-b030-53b8b7eec0ff",
   "metadata": {},
   "outputs": [],
   "source": [
    "import decoupler as dc"
   ]
  },
  {
   "cell_type": "code",
   "execution_count": null,
   "id": "084aacd8-bb40-4c13-b453-06bc72134708",
   "metadata": {},
   "outputs": [],
   "source": [
    "resDir = \"/data/projects/2021/MicrobialMetabolites/single-cell-sorted-cd8/results/40_gex_surface_prot/\"\n",
    "inputDir = \"/data/projects/2021/MicrobialMetabolites/single-cell-sorted-cd8/results/40_gex_surface_prot/\""
   ]
  },
  {
   "cell_type": "code",
   "execution_count": null,
   "id": "0b029ebc-71ca-4ed9-b9b2-b19746ff4f0a",
   "metadata": {
    "scrolled": true
   },
   "outputs": [],
   "source": [
    "adata = sc.read_h5ad(f\"{resDir}adata_merged_til_annotated_new.h5ad\")"
   ]
  },
  {
   "cell_type": "markdown",
   "id": "bf4c7934-2e2d-42eb-926b-29008fd45cd2",
   "metadata": {},
   "source": [
    "### Functions"
   ]
  },
  {
   "cell_type": "code",
   "execution_count": null,
   "id": "6c054971-976a-4114-a273-7109835af971",
   "metadata": {},
   "outputs": [],
   "source": [
    "def is_outlier(adata, metric: str, nmads: int):\n",
    "    M = adata.obs[metric]\n",
    "    outlier = (M < np.median(M) - nmads * median_abs_deviation(M)) | (\n",
    "        np.median(M) + nmads * median_abs_deviation(M) < M\n",
    "    )\n",
    "    return outlier"
   ]
  },
  {
   "cell_type": "markdown",
   "id": "5643446e-59d9-43fc-af00-fcf474fce680",
   "metadata": {},
   "source": [
    "### QC clean"
   ]
  },
  {
   "cell_type": "code",
   "execution_count": null,
   "id": "9a23bff9-de41-48bb-9595-02788d565509",
   "metadata": {},
   "outputs": [],
   "source": [
    "# mitochondrial genes\n",
    "adata.var[\"mt\"] = adata.var_names.str.startswith(\"mt-\")\n",
    "# ribosomal genes\n",
    "adata.var[\"ribo\"] = adata.var_names.str.startswith((\"Rps\", \"Rpl\"))\n"
   ]
  },
  {
   "cell_type": "code",
   "execution_count": null,
   "id": "5ef7ebf3-dac6-44dc-943e-ce08144d96d3",
   "metadata": {},
   "outputs": [],
   "source": [
    "sc.pp.calculate_qc_metrics(\n",
    "    adata, qc_vars=[\"mt\", \"ribo\"], inplace=True, percent_top=[20], log1p=True\n",
    ")\n",
    "adata"
   ]
  },
  {
   "cell_type": "code",
   "execution_count": null,
   "id": "aa880453-2a06-4bd8-9444-51b94280b2b0",
   "metadata": {},
   "outputs": [],
   "source": [
    "sc.pl.violin(adata, \"pct_counts_mt\")"
   ]
  },
  {
   "cell_type": "code",
   "execution_count": null,
   "id": "9a1be2c4-5260-406f-8902-e640d76739a1",
   "metadata": {},
   "outputs": [],
   "source": [
    "adata.obs[\"outlier\"] = (\n",
    "    is_outlier(adata, \"log1p_total_counts\", 5)\n",
    "    | is_outlier(adata, \"log1p_n_genes_by_counts\", 5)\n",
    "    | is_outlier(adata, \"pct_counts_in_top_20_genes\", 5)\n",
    ")\n",
    "adata.obs.outlier.value_counts()"
   ]
  },
  {
   "cell_type": "code",
   "execution_count": null,
   "id": "f4dee6fc-06f9-4abc-af3f-31f4b2bfe4a1",
   "metadata": {},
   "outputs": [],
   "source": [
    "adata.obs[\"mt_outlier\"] = is_outlier(adata, \"pct_counts_mt\", 3) | (\n",
    "    adata.obs[\"pct_counts_mt\"] > 1.5\n",
    ")\n",
    "adata.obs.mt_outlier.value_counts()"
   ]
  },
  {
   "cell_type": "code",
   "execution_count": null,
   "id": "48cb7b32-e51f-41c8-bc05-3794d7321147",
   "metadata": {},
   "outputs": [],
   "source": [
    "print(f\"Total number of cells: {adata.n_obs}\")\n",
    "adata = adata[(~adata.obs.outlier) & (~adata.obs.mt_outlier)].copy()\n",
    "\n",
    "print(f\"Number of cells after filtering of low quality cells: {adata.n_obs}\")"
   ]
  },
  {
   "cell_type": "code",
   "execution_count": null,
   "id": "93f71ff0-70f4-46df-bb72-702c1deea80c",
   "metadata": {},
   "outputs": [],
   "source": [
    "sc.pl.violin(adata, \"pct_counts_mt\")"
   ]
  },
  {
   "cell_type": "code",
   "execution_count": null,
   "id": "09f6eae7-b325-4341-9129-82dd5973d6c6",
   "metadata": {},
   "outputs": [],
   "source": [
    "# Visualize\n",
    "sc.pl.umap(adata, color='joint_leiden')"
   ]
  },
  {
   "cell_type": "code",
   "execution_count": null,
   "id": "32c19e36-490a-4c30-9ef1-5ecc7ca15010",
   "metadata": {},
   "outputs": [],
   "source": [
    "adata.obs.sample_id.value_counts()"
   ]
  },
  {
   "cell_type": "markdown",
   "id": "5bf3793d-631e-4553-9b3a-e0b8ce954e11",
   "metadata": {},
   "source": [
    "### Split adata"
   ]
  },
  {
   "cell_type": "code",
   "execution_count": null,
   "id": "acf15a6d-b5a2-4ce9-a3fe-e2ba6c5a05dd",
   "metadata": {},
   "outputs": [],
   "source": [
    "adata_til1 = adata[adata.obs[\"joint_leiden\"].isin([\"2\",\"5\"])]"
   ]
  },
  {
   "cell_type": "code",
   "execution_count": null,
   "id": "800b9899-12d3-43bb-bd27-74fae1a456cd",
   "metadata": {},
   "outputs": [],
   "source": [
    "adata_til2 = adata[adata.obs[\"joint_leiden\"].isin([\"0\",\"1\",\"3\",\"4\",\"6\"])]"
   ]
  },
  {
   "cell_type": "code",
   "execution_count": null,
   "id": "a750be4a-4e90-44a4-9db1-02843e1c6de6",
   "metadata": {},
   "outputs": [],
   "source": [
    "adata_til2.var[\"ribo\"] = adata.var_names.str.startswith((\"Rps\", \"Rpl\"))"
   ]
  },
  {
   "cell_type": "code",
   "execution_count": null,
   "id": "22b28519-7a7c-4446-b95f-578c2979ae85",
   "metadata": {},
   "outputs": [],
   "source": [
    "adata_til1.var[\"ribo\"] = adata.var_names.str.startswith((\"Rps\", \"Rpl\"))"
   ]
  },
  {
   "cell_type": "code",
   "execution_count": null,
   "id": "f82d64c0-8918-4e0e-94da-d3496795ef3e",
   "metadata": {},
   "outputs": [],
   "source": [
    "adata_til1 = adata_til1[:, adata_til1.var['ribo'] == False].copy()"
   ]
  },
  {
   "cell_type": "code",
   "execution_count": null,
   "id": "05a0ea05-30df-4449-af08-3ac78ac895b4",
   "metadata": {},
   "outputs": [],
   "source": [
    "adata_til2 = adata_til2[:, adata_til2.var['ribo'] == False].copy()"
   ]
  },
  {
   "cell_type": "markdown",
   "id": "bee7ffe6-168d-4cd9-8d33-f76544fc999e",
   "metadata": {},
   "source": [
    "### Working on TIL1 subset"
   ]
  },
  {
   "cell_type": "code",
   "execution_count": null,
   "id": "0ddf04d7-c163-4791-8a28-ad28e76963c1",
   "metadata": {},
   "outputs": [],
   "source": [
    "sc.pp.neighbors(adata_til1, n_neighbors=10)\n",
    "sc.tl.leiden(adata_til1, resolution=0.32, n_iterations=-1)\n",
    "sc.tl.umap(adata_til1)"
   ]
  },
  {
   "cell_type": "code",
   "execution_count": null,
   "id": "1c27dab9-4bd9-47bc-bec9-ede463684757",
   "metadata": {},
   "outputs": [],
   "source": [
    "sc.pl.umap(adata_til1, color = \"leiden\")"
   ]
  },
  {
   "cell_type": "code",
   "execution_count": null,
   "id": "9a31ce3c-19ef-4115-b956-a5e436f116e3",
   "metadata": {},
   "outputs": [],
   "source": [
    "annotation_dict = {\n",
    "    '2':'MPEC_Progenitor',\n",
    "    '0':'MPEC_Intermediate',\n",
    "    '1':'MPEC_Effector',}"
   ]
  },
  {
   "cell_type": "code",
   "execution_count": null,
   "id": "b5e699f5-29ad-4e53-b85e-1337e7ee93c3",
   "metadata": {},
   "outputs": [],
   "source": [
    "## Add cell type column based on annotation\n",
    "adata_til1.obs['cell_type'] = [annotation_dict[clust] for clust in adata_til1.obs['leiden']]\n",
    "\n",
    "# Visualize\n",
    "sc.pl.umap(adata_til1, color='cell_type')"
   ]
  },
  {
   "cell_type": "code",
   "execution_count": null,
   "id": "f75d756f-4991-444d-a6c9-c1b379cda9eb",
   "metadata": {},
   "outputs": [],
   "source": [
    "markers = {\n",
    "    \"Early A.\": [\"Cd69\"],\n",
    "    \"Late A.\": [\"Il2ra\"],\n",
    "        \"Naive\": [\"Sell\"],\n",
    "        \"E.Memory\": [\"Cd44\"],\n",
    "\n",
    "       \"MPEC\": [\"Il7r\"],#Memory Precursor Effector Cells\n",
    "       \"SPEC\": [\"Klrg1\",\"Tbx21\"], #Short Lived Effector Cells\n",
    " \n",
    "    \"Exhaustion\":[\"Havcr2\",\"Entpd1\",\"Tox\"],\n",
    "    \"Cytotoxic\":[\"Gzmb\",\"Gzmk\",\"Ifng\"],\n",
    "    \"Sel-renewal\":[\"Cxcr3\",\"Casp3\"],\n",
    "    }"
   ]
  },
  {
   "cell_type": "code",
   "execution_count": null,
   "id": "9767a57d-5258-4837-8e6d-13352f37b628",
   "metadata": {},
   "outputs": [],
   "source": [
    "adata_til1"
   ]
  },
  {
   "cell_type": "code",
   "execution_count": null,
   "id": "7920144f-c6e4-4a38-82ba-86bb5a3defd5",
   "metadata": {},
   "outputs": [],
   "source": [
    "sc.pl.dotplot(adata_til1, groupby=\"cell_type\",categories_order = [ 'MPEC_Progenitor', 'MPEC_Intermediate','MPEC_Effector'],var_names=markers, dendrogram=False,log=True)"
   ]
  },
  {
   "cell_type": "code",
   "execution_count": null,
   "id": "707012ae-0edf-4304-9a9c-f08090495430",
   "metadata": {},
   "outputs": [],
   "source": [
    "marker_list = [\"Cd69\",\"Il2ra\",\"Sell\",\"Cd44\",\"Il7r\",\"Klrg1\",\"Tbx21\",\"Havcr2\",\"Entpd1\",\"Tox\",\"Gzmb\",\"Gzmk\",\"Ifng\",\"Cxcr3\",\"Casp3\"]"
   ]
  },
  {
   "cell_type": "code",
   "execution_count": null,
   "id": "ee792aa5-ece3-4c94-8f37-fdec18f41010",
   "metadata": {},
   "outputs": [],
   "source": [
    "sc.pl.umap(\n",
    "    adata_til1,\n",
    "    color=marker_list,\n",
    "    cmap=\"Reds\",\n",
    "    frameon=False,add_outline=True, vmax=\"p99\"\n",
    ")"
   ]
  },
  {
   "cell_type": "markdown",
   "id": "e18b5ea7-e3a4-4cf7-ae26-777743a7e2e1",
   "metadata": {},
   "source": [
    "### Working on TIL2 subset"
   ]
  },
  {
   "cell_type": "code",
   "execution_count": null,
   "id": "55e7bd5a-5cb4-42f3-802b-aec70fd8fe3a",
   "metadata": {},
   "outputs": [],
   "source": [
    "sc.pp.neighbors(adata_til2, n_neighbors=10)\n",
    "sc.tl.leiden(adata_til2, resolution=0.5,  n_iterations=-1)\n",
    "sc.tl.umap(adata_til2)"
   ]
  },
  {
   "cell_type": "code",
   "execution_count": null,
   "id": "16532264-a66e-4231-b193-ad0629b7e578",
   "metadata": {},
   "outputs": [],
   "source": [
    "sc.pl.umap(adata_til2, color = \"leiden\")"
   ]
  },
  {
   "cell_type": "code",
   "execution_count": null,
   "id": "666afc7c-8a5f-4bde-bb41-1a54389d7e6c",
   "metadata": {},
   "outputs": [],
   "source": [
    "annotation_dict = {\n",
    "    '0':'SLEC_Effector',\n",
    "    '1':'SLEC_Effector',\n",
    "    '2':'SLEC_Inf',\n",
    "    '3':'SLEC_Terminal',\n",
    "    '4':'SLEC_Plastic',\n",
    "    '5':'SLEC_Terminal',\n",
    "    '6':\"SLEC_Progenitor\",\n",
    "    '7':'SLEC_Inf',\n",
    "    '8':'SLEC_Intermediate',\n",
    "    '9':'SLEC_Intermediate',\n",
    "    '10':'SLEC_Terminal',\n",
    "    '11':'SLEC_Terminal',\n",
    "    '12':'SLEC_Terminal',\n",
    "    '13':'SLEC_Terminal',\n",
    "    '14':'SLEC_Terminal'}"
   ]
  },
  {
   "cell_type": "code",
   "execution_count": null,
   "id": "27dcf53e-7cee-48e9-8478-5bcd452c03e4",
   "metadata": {},
   "outputs": [],
   "source": [
    "sc.pl.umap(adata_til2, color='rna_leiden')"
   ]
  },
  {
   "cell_type": "code",
   "execution_count": null,
   "id": "51909680-b163-4e21-a0e4-f0cc923db21e",
   "metadata": {},
   "outputs": [],
   "source": [
    "## Add cell type column based on annotation\n",
    "adata_til2.obs['cell_type'] = [annotation_dict[clust] for clust in adata_til2.obs['rna_leiden']]\n",
    "\n",
    "# Visualize\n",
    "sc.pl.umap(adata_til2, color='cell_type')"
   ]
  },
  {
   "cell_type": "code",
   "execution_count": null,
   "id": "e1e6ab79-5873-4843-b5b1-4d71461032e8",
   "metadata": {},
   "outputs": [],
   "source": [
    "sc.pl.dotplot(adata_til2, groupby=\"cell_type\",categories_order = ['SLEC_Progenitor', 'SLEC_Plastic',\n",
    "  'SLEC_Intermediate', 'SLEC_Inf','SLEC_Effector', \n",
    " 'SLEC_Terminal'],var_names=markers, dendrogram=False,log=True)"
   ]
  },
  {
   "cell_type": "code",
   "execution_count": null,
   "id": "d8b626ff-d697-428e-ac56-6b9ce60876a1",
   "metadata": {},
   "outputs": [],
   "source": [
    "marker_list = [\"Cd69\",\"Il2ra\",\"Sell\",\"Cd44\",\"Il7r\",\"Klrg1\",\"Tbx21\",\"Havcr2\",\"Entpd1\",\"Tox\",\"Gzmb\",\"Gzmk\",\"Ifng\",\"Cxcr3\",\"Casp3\"]"
   ]
  },
  {
   "cell_type": "code",
   "execution_count": null,
   "id": "98a031ad-5c3b-41c8-b4bd-ee8fa3cdf8df",
   "metadata": {},
   "outputs": [],
   "source": [
    "sc.pl.umap(\n",
    "    adata_til2,\n",
    "    color=marker_list,\n",
    "    cmap=\"Reds\",\n",
    "    frameon=False,\n",
    "    vmax=\"p99\",add_outline=True\n",
    ")"
   ]
  },
  {
   "cell_type": "markdown",
   "id": "b4e2a6d5-cd8b-4100-b0dd-f47c9bde066b",
   "metadata": {},
   "source": [
    "### Reintegrate annotated subsets"
   ]
  },
  {
   "cell_type": "code",
   "execution_count": null,
   "id": "3e938fb6-b2ab-4efe-8c06-16ad049cb015",
   "metadata": {},
   "outputs": [],
   "source": [
    "adata.obs[\"cell_type\"] = adata.obs[\"cell_type\"].astype(\"str\")\n",
    "adata.obs.loc[adata_til2.obs.index, \"cell_type\"] = adata_til2.obs[\"cell_type\"].astype(\"str\")"
   ]
  },
  {
   "cell_type": "code",
   "execution_count": null,
   "id": "27f1e1eb-3621-4b4e-ac31-0ac7fa2401d4",
   "metadata": {},
   "outputs": [],
   "source": [
    "adata.obs[\"cell_type\"] = adata.obs[\"cell_type\"].astype(\"str\")\n",
    "adata.obs.loc[adata_til1.obs.index, \"cell_type\"] = adata_til1.obs[\"cell_type\"].astype(\"str\")"
   ]
  },
  {
   "cell_type": "code",
   "execution_count": null,
   "id": "e21396dc-2736-4db1-a56a-68b0aa5b3bdf",
   "metadata": {},
   "outputs": [],
   "source": [
    "sc.pl.umap(adata, color='cell_type')#, legend_loc=\"on data\",legend_fontsize=5)"
   ]
  },
  {
   "cell_type": "code",
   "execution_count": null,
   "id": "6d4aef07-2707-48d9-bcbf-436661ed8d58",
   "metadata": {},
   "outputs": [],
   "source": [
    "adata.obs[\"cell_type2\"] = adata.obs[\"cell_type\"] "
   ]
  },
  {
   "cell_type": "code",
   "execution_count": null,
   "id": "1695efdc-dccc-4c22-97b2-22ac5300d2e3",
   "metadata": {},
   "outputs": [],
   "source": [
    "set(adata.obs[\"cell_type2\"])"
   ]
  },
  {
   "cell_type": "code",
   "execution_count": null,
   "id": "1a09f4c3-c72b-4a87-a847-f4732359d4eb",
   "metadata": {},
   "outputs": [],
   "source": [
    "set(adata.obs[\"cell_type\"])"
   ]
  },
  {
   "cell_type": "code",
   "execution_count": null,
   "id": "9d878904-6869-4d8a-8921-56072559e11b",
   "metadata": {
    "scrolled": true
   },
   "outputs": [],
   "source": [
    "adata.obs[\"cell_type2\"].replace('Plastic', 'SLEC_Plastic', inplace=True)\n",
    "adata.obs[\"cell_type2\"].replace('Tex_prog', 'SLEC_Progenitor', inplace=True)\n",
    "adata.obs[\"cell_type2\"].replace('Tex_int', 'SLEC_Intermediate', inplace=True)\n",
    "adata.obs[\"cell_type2\"].replace('Interferon_response', 'SLEC_Inf', inplace=True)\n",
    "adata.obs[\"cell_type2\"].replace('Tex_eff', 'SLEC_Effector', inplace=True) \n",
    "adata.obs[\"cell_type2\"].replace('Tex_term', 'SLEC_Terminal', inplace=True)\n",
    "adata.obs[\"cell_type2\"].replace('Zc3h7a', 'SLEC_Terminal', inplace=True)"
   ]
  },
  {
   "cell_type": "code",
   "execution_count": null,
   "id": "da0efa7e-5b84-4f89-b7a8-52baf7da255b",
   "metadata": {},
   "outputs": [],
   "source": [
    "sc.pl.umap(adata, color=['cell_type2'], legend_loc =\"on data\",sort_order=True, legend_fontsize=6)"
   ]
  },
  {
   "cell_type": "code",
   "execution_count": null,
   "id": "1a3a7ac7-2979-4e7e-8fec-198b7e9d03e1",
   "metadata": {},
   "outputs": [],
   "source": [
    "markers = {\n",
    "    \"Early A.\": [\"Cd69\"],\n",
    "    \"Late A.\": [\"Il2ra\"],\n",
    "        \"Naive\": [\"Sell\"],\n",
    "        \"E.Memory\": [\"Cd44\"],\n",
    "\n",
    "       \"MPEC\": [\"Il7r\"],#Memory Precursor Effector Cells\n",
    "       \"SPEC\": [\"Klrg1\",\"Tbx21\"], #Short Lived Effector Cells\n",
    " \n",
    "    \"Exhaustion\":[\"Havcr2\",\"Entpd1\",\"Tox\"],\n",
    "    \"Cytotoxic\":[\"Gzmb\",\"Gzmk\",\"Ifng\"],\n",
    "    \"Sel-renewal\":[\"Cxcr3\",\"Casp3\"],\n",
    "    }"
   ]
  },
  {
   "cell_type": "code",
   "execution_count": null,
   "id": "6257d22d-01ab-4fab-bfff-d19fcd89bce4",
   "metadata": {},
   "outputs": [],
   "source": [
    "sc.pl.dotplot(adata, groupby=\"cell_type2\",categories_order = [ 'MPEC_Progenitor', 'MPEC_Intermediate','MPEC_Effector', 'SLEC_Progenitor', 'SLEC_Plastic',\n",
    "  'SLEC_Intermediate', 'SLEC_Inf','SLEC_Effector', \n",
    " 'SLEC_Terminal'],var_names=markers, dendrogram=False,log=True)"
   ]
  },
  {
   "cell_type": "code",
   "execution_count": null,
   "id": "5f6f3d0e-9b3a-4328-86c9-f6b60c25cbe9",
   "metadata": {},
   "outputs": [],
   "source": [
    "marker_list = [\"Cd69\",\"Il2ra\",\"Sell\",\"Cd44\",\"Il7r\",\"Klrg1\",\"Tbx21\",\"Havcr2\",\"Entpd1\",\"Tox\",\"Gzmb\",\"Gzmk\",\"Ifng\",\"Cxcr3\",\"Casp3\"]"
   ]
  },
  {
   "cell_type": "code",
   "execution_count": null,
   "id": "b7a86e69-3dce-4231-a696-5eefc6d9bd9c",
   "metadata": {},
   "outputs": [],
   "source": [
    "sc.pl.umap(\n",
    "    adata,\n",
    "    color=marker_list,\n",
    "    cmap=\"Reds\",\n",
    "    frameon=False,\n",
    "    vmax=\"p99\",add_outline=True\n",
    ")"
   ]
  },
  {
   "cell_type": "markdown",
   "id": "12ff5981-a6ba-472e-9d89-c92f9668abf2",
   "metadata": {},
   "source": [
    "### Save annotated adata TIL "
   ]
  },
  {
   "cell_type": "code",
   "execution_count": null,
   "id": "5a4e9844-c1de-4167-a187-7459c91b1ccb",
   "metadata": {},
   "outputs": [],
   "source": [
    "#adata.write_h5ad(\"/data/projects/2021/MicrobialMetabolites/single-cell-sorted-cd8/results/adata_merged_til_slec_mpec_annotation_tryneighbors.h5ad\", )"
   ]
  },
  {
   "cell_type": "code",
   "execution_count": null,
   "id": "bfc4b6ca-43a3-4c90-b0a0-119562e4b9bf",
   "metadata": {},
   "outputs": [],
   "source": [
    "#adata= sc.read_h5ad(\"/data/projects/2021/MicrobialMetabolites/single-cell-sorted-cd8/results/adata_merged_til_slec_mpec_annotation_tryneighbors.h5ad\")"
   ]
  },
  {
   "cell_type": "markdown",
   "id": "8887f488-1299-40df-834b-98ceb7a3c1e1",
   "metadata": {},
   "source": [
    "## PAGA analysis"
   ]
  },
  {
   "cell_type": "code",
   "execution_count": null,
   "id": "b3d24a5c-ec35-4dc0-acb8-cd5509e2dddb",
   "metadata": {},
   "outputs": [],
   "source": [
    "# Libraries\n",
    "import anndata as ad\n",
    "import matplotlib as plt\n",
    "import matplotlib.pyplot as pl\n",
    "import numpy as np\n",
    "import pandas as pd\n",
    "#import sc_atlas_helpers as ah\n",
    "import scanpy as sc\n",
    "from matplotlib.pyplot import rc_context\n",
    "from scipy.stats import median_abs_deviation\n",
    "from scipy.stats import mode\n",
    "from collections import Counter"
   ]
  },
  {
   "cell_type": "code",
   "execution_count": null,
   "id": "bf1ec107-e4d9-4f1e-ab02-3a9c0b6f785f",
   "metadata": {},
   "outputs": [],
   "source": [
    "sc.pp.neighbors(adata, n_neighbors=7, n_pcs=20)"
   ]
  },
  {
   "cell_type": "code",
   "execution_count": null,
   "id": "86b62d59-0268-415d-83fb-478b96a59e95",
   "metadata": {},
   "outputs": [],
   "source": [
    "sc.tl.leiden(adata)"
   ]
  },
  {
   "cell_type": "code",
   "execution_count": null,
   "id": "247cc3cf-c7f3-4391-b455-47a0bcd5bd11",
   "metadata": {},
   "outputs": [],
   "source": [
    "sc.tl.louvain(adata)"
   ]
  },
  {
   "cell_type": "code",
   "execution_count": null,
   "id": "e2f64289-d725-416c-8100-949f94c32384",
   "metadata": {},
   "outputs": [],
   "source": [
    "sc.pl.umap(adata, color=['leiden','louvain'], sort_order=True)"
   ]
  },
  {
   "cell_type": "code",
   "execution_count": null,
   "id": "a561caf0-02ae-4fea-af63-8bca19746054",
   "metadata": {},
   "outputs": [],
   "source": [
    "#adata.write_h5ad(\"adata_neighbors.h5ad\")\n",
    "#adata = sc.read_h5ad(\"adata_neighbors.h5ad\")"
   ]
  },
  {
   "cell_type": "code",
   "execution_count": null,
   "id": "52c5bc7a-dee7-4821-9701-3e836ce5816f",
   "metadata": {},
   "outputs": [],
   "source": [
    "sc.tl.paga(adata)"
   ]
  },
  {
   "cell_type": "code",
   "execution_count": null,
   "id": "41c0ccd1-1256-4039-9198-ee2a1e832a03",
   "metadata": {},
   "outputs": [],
   "source": [
    "sc.pl.umap(adata, color=['leiden','louvain'], sort_order=True)"
   ]
  },
  {
   "cell_type": "code",
   "execution_count": null,
   "id": "de45c2d8-09d2-4dd2-80a1-b9224cc38b08",
   "metadata": {},
   "outputs": [],
   "source": [
    "sc.pl.umap(adata, color=['cell_type','cell_type2'], sort_order=True)"
   ]
  },
  {
   "cell_type": "code",
   "execution_count": null,
   "id": "5d6daa00-8be4-4958-b91c-a685159af3b4",
   "metadata": {},
   "outputs": [],
   "source": [
    "sc.tl.diffmap(adata)"
   ]
  },
  {
   "cell_type": "code",
   "execution_count": null,
   "id": "0eeba6f1-09d5-47a8-bade-432a4dabbd14",
   "metadata": {},
   "outputs": [],
   "source": [
    "sc.pp.neighbors(adata, n_neighbors=15, use_rep='X_diffmap')"
   ]
  },
  {
   "cell_type": "code",
   "execution_count": null,
   "id": "95cccc72-3670-4a6a-8dac-abef455a82b6",
   "metadata": {},
   "outputs": [],
   "source": [
    "adata.obs['clusters'] = adata.obs['cell_type']"
   ]
  },
  {
   "cell_type": "code",
   "execution_count": null,
   "id": "886fa65f-6420-48c1-bc15-b64bcd4f2b1b",
   "metadata": {},
   "outputs": [],
   "source": [
    "sc.tl.paga(adata, groups='clusters')"
   ]
  },
  {
   "cell_type": "code",
   "execution_count": null,
   "id": "57a3788d-1f6b-411d-bdac-3a6e04ae1b7a",
   "metadata": {},
   "outputs": [],
   "source": [
    "sc.pl.paga(adata, threshold=0.02, edge_width_scale=1, layout='fr', random_state=0)"
   ]
  },
  {
   "cell_type": "code",
   "execution_count": null,
   "id": "25299690-1b3f-491a-bb8c-1b9f01d297f2",
   "metadata": {},
   "outputs": [],
   "source": [
    "pos = adata.uns['paga']['pos']"
   ]
  },
  {
   "cell_type": "code",
   "execution_count": null,
   "id": "0e124973-cfaa-4f35-8511-c0a37e65b055",
   "metadata": {},
   "outputs": [],
   "source": [
    "sc.pl.paga(adata, threshold=0.02, edge_width_scale=1, layout='fr', pos=pos)"
   ]
  },
  {
   "cell_type": "code",
   "execution_count": null,
   "id": "779e12d8-4011-4010-9e9d-6d1a64583a04",
   "metadata": {},
   "outputs": [],
   "source": [
    "sc.pl.umap(adata, color='clusters', legend_loc='on data')"
   ]
  },
  {
   "cell_type": "code",
   "execution_count": null,
   "id": "006efb7f-588f-4f99-8a3f-0da6bd00f646",
   "metadata": {},
   "outputs": [],
   "source": [
    "axs = sc.pl.paga_compare(\n",
    "    adata, title='', right_margin=0.2, size=10,\n",
    "    threshold=0.02,\n",
    "    legend_fontsize=8, fontsize=8, frameon=False, show=False)"
   ]
  },
  {
   "cell_type": "code",
   "execution_count": null,
   "id": "c08d828f-d686-43e1-b02b-78a241d17f86",
   "metadata": {},
   "outputs": [],
   "source": [
    "adata.uns['iroot'] = np.flatnonzero(adata.obs['clusters'] == 'MPEC_Progenitor')[0]"
   ]
  },
  {
   "cell_type": "code",
   "execution_count": null,
   "id": "80cdbf90-cff9-4522-b1ef-397ac38b3568",
   "metadata": {},
   "outputs": [],
   "source": [
    "sc.tl.dpt(adata)"
   ]
  },
  {
   "cell_type": "code",
   "execution_count": null,
   "id": "acf98d6d-782b-42ba-aa89-77142ba178e7",
   "metadata": {},
   "outputs": [],
   "source": [
    "sc.pl.umap(adata, color=['cell_type2','dpt_pseudotime'], vmax=\"p99\", cmap = \"viridis\",legend_fontsize=8)"
   ]
  },
  {
   "cell_type": "code",
   "execution_count": null,
   "id": "e636fdae-a7bc-41f2-997f-507321c5d592",
   "metadata": {},
   "outputs": [],
   "source": [
    "## colon & til "
   ]
  },
  {
   "cell_type": "code",
   "execution_count": null,
   "id": "7c8d3637-891a-4ea9-aa07-68ad49344e07",
   "metadata": {
    "tags": []
   },
   "outputs": [],
   "source": [
    "path = \"/data/projects/2021/MicrobialMetabolites/single-cell-sorted-cd8/results/solo\""
   ]
  },
  {
   "cell_type": "code",
   "execution_count": null,
   "id": "5e582034-dd79-4118-9fa5-d77c07b43467",
   "metadata": {
    "scrolled": true
   },
   "outputs": [],
   "source": [
    "adata_solo = sc.read_h5ad(f\"{path}/adata_nodoublet.h5ad\")"
   ]
  }
 ],
 "metadata": {
  "kernelspec": {
   "display_name": "scanpy",
   "language": "python",
   "name": "scanpy"
  },
  "language_info": {
   "codemirror_mode": {
    "name": "ipython",
    "version": 3
   },
   "file_extension": ".py",
   "mimetype": "text/x-python",
   "name": "python",
   "nbconvert_exporter": "python",
   "pygments_lexer": "ipython3",
   "version": "3.12.3"
  }
 },
 "nbformat": 4,
 "nbformat_minor": 5
}
