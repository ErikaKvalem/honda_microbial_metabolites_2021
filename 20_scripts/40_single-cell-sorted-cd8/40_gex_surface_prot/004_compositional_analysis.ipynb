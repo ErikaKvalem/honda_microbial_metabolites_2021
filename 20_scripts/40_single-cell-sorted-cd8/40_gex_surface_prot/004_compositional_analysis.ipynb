{
 "cells": [
  {
   "cell_type": "code",
   "execution_count": null,
   "id": "724693aa-a133-4edd-b68e-43c008dab36e",
   "metadata": {},
   "outputs": [],
   "source": [
    "# Libraries\n",
    "import anndata as ad\n",
    "import matplotlib as plt\n",
    "import numpy as np\n",
    "import pandas as pd\n",
    "import sc_atlas_helpers as ah\n",
    "import scanpy as sc\n",
    "from matplotlib.pyplot import rc_context\n",
    "from scipy.stats import median_abs_deviation"
   ]
  },
  {
   "cell_type": "code",
   "execution_count": null,
   "id": "2caa9891-9add-4648-ad17-93be4d71591c",
   "metadata": {},
   "outputs": [],
   "source": [
    "from functools import partial\n",
    "\n",
    "import altair as alt"
   ]
  },
  {
   "cell_type": "code",
   "execution_count": null,
   "id": "1bd42441-fb9b-413e-a048-e331c6ef6bc8",
   "metadata": {},
   "outputs": [],
   "source": [
    "import seaborn as sns"
   ]
  },
  {
   "cell_type": "code",
   "execution_count": null,
   "id": "d1e67874-988b-49cc-8f57-8e6ee2a9f2bc",
   "metadata": {},
   "outputs": [],
   "source": [
    "import decoupler as dc"
   ]
  },
  {
   "cell_type": "code",
   "execution_count": null,
   "id": "a36074ab-3544-4b0a-a85c-4ff30c98d192",
   "metadata": {},
   "outputs": [],
   "source": [
    "order_list = ['MPEC_Progenitor',\n",
    " 'MPEC_Intermediate',\n",
    " 'MPEC_Effector',\n",
    " 'SLEC_Plastic',\n",
    " 'SLEC_Progenitor',\n",
    " 'SLEC_Intermediate',\n",
    " 'SLEC_Ifn',\n",
    " 'SLEC_Effector',\n",
    " 'SLEC_Terminal']"
   ]
  },
  {
   "cell_type": "code",
   "execution_count": null,
   "id": "ad622431-29fb-405b-99a0-591f90464bd4",
   "metadata": {},
   "outputs": [],
   "source": [
    "adata = sc.read_h5ad(\"adata_neighbors.h5ad\")"
   ]
  },
  {
   "cell_type": "code",
   "execution_count": null,
   "id": "f508e446-500d-4be4-baf8-174b920b0a08",
   "metadata": {},
   "outputs": [],
   "source": [
    "df = adata.obs#\n",
    "origin_counts = df.groupby('condition')['sample_id'].nunique().reset_index()\n",
    "origin_counts.columns = ['condition', 'count']"
   ]
  },
  {
   "cell_type": "code",
   "execution_count": null,
   "id": "fef8431f-d88b-4d99-bb77-923cba996da2",
   "metadata": {},
   "outputs": [],
   "source": [
    "import seaborn as sns\n",
    "import matplotlib.pyplot as plt"
   ]
  },
  {
   "cell_type": "code",
   "execution_count": null,
   "id": "a52c8901-9d42-401e-a28e-d277ae1b5b00",
   "metadata": {},
   "outputs": [],
   "source": [
    "df_num = adata.obs[[\"sample_id\",\"condition\",\"cell_type\",\"cell_type2\"]].value_counts()"
   ]
  },
  {
   "cell_type": "code",
   "execution_count": null,
   "id": "9495bb45-0213-46a0-8119-29117e245210",
   "metadata": {},
   "outputs": [],
   "source": [
    "df_num"
   ]
  },
  {
   "cell_type": "code",
   "execution_count": null,
   "id": "538487a8-b001-4007-8f28-7024f62cf7af",
   "metadata": {},
   "outputs": [],
   "source": [
    "df_num = df_num.to_frame()"
   ]
  },
  {
   "cell_type": "code",
   "execution_count": null,
   "id": "acbb8f32-d7ac-44cd-8748-2cae0aacd916",
   "metadata": {},
   "outputs": [],
   "source": [
    "df_num = df_num.reset_index()"
   ]
  },
  {
   "cell_type": "code",
   "execution_count": null,
   "id": "be7fb26c-d463-45b2-820d-d8ef327ee1ee",
   "metadata": {},
   "outputs": [],
   "source": [
    "df_num = df_num.rename(columns={0:\"cell_count\"})"
   ]
  },
  {
   "cell_type": "code",
   "execution_count": null,
   "id": "a1070eb8-7e4d-4bbd-8406-d443f8070b7e",
   "metadata": {},
   "outputs": [],
   "source": [
    "df_num[\"cell_type\"].replace('Interferon_response', 'SLEC_Ifn', inplace=True)\n",
    "df_num[\"cell_type\"].replace('Plastic', 'SLEC_Plastic', inplace=True)\n",
    "df_num[\"cell_type\"].replace('Tex_eff', 'SLEC_Effector', inplace=True)\n",
    "df_num[\"cell_type\"].replace('Tex_int', 'SLEC_Intermediate', inplace=True)\n",
    "df_num[\"cell_type\"].replace('Tex_prog', 'SLEC_Progenitor', inplace=True) \n",
    "df_num[\"cell_type\"].replace('Tex_term', 'SLEC_Terminal', inplace=True)\n",
    "df_num[\"cell_type\"].replace('MPEC1', 'MPEC_Progenitor', inplace=True)\n",
    "df_num[\"cell_type\"].replace('MPEC2', 'MPEC_Intermediate', inplace=True)\n",
    "df_num[\"cell_type\"].replace('MPEC3', 'MPEC_Effector', inplace=True)\n"
   ]
  },
  {
   "cell_type": "code",
   "execution_count": null,
   "id": "f3d6aa05-8209-42bd-ac08-243b6ee86fad",
   "metadata": {},
   "outputs": [],
   "source": [
    "adata.obs[\"cell_type\"].replace('Interferon_response', 'SLEC_Ifn', inplace=True)\n",
    "adata.obs[\"cell_type\"].replace('Plastic', 'SLEC_Plastic', inplace=True)\n",
    "adata.obs[\"cell_type\"].replace('Tex_eff', 'SLEC_Effector', inplace=True)\n",
    "adata.obs[\"cell_type\"].replace('Tex_int', 'SLEC_Intermediate', inplace=True)\n",
    "adata.obs[\"cell_type\"].replace('Tex_prog', 'SLEC_Progenitor', inplace=True) \n",
    "adata.obs[\"cell_type\"].replace('Tex_term', 'SLEC_Terminal', inplace=True)\n",
    "adata.obs[\"cell_type\"].replace('MPEC1', 'MPEC_Progenitor', inplace=True)\n",
    "adata.obs[\"cell_type\"].replace('MPEC2', 'MPEC_Intermediate', inplace=True)\n",
    "adata.obs[\"cell_type\"].replace('MPEC3', 'MPEC_Effector', inplace=True)\n",
    "\n"
   ]
  },
  {
   "cell_type": "code",
   "execution_count": null,
   "id": "9a127964-4d5c-455d-b308-38ce22466016",
   "metadata": {},
   "outputs": [],
   "source": [
    "df_num"
   ]
  },
  {
   "cell_type": "code",
   "execution_count": null,
   "id": "8121916d-ee70-4440-943e-2e8f074f63e4",
   "metadata": {},
   "outputs": [],
   "source": [
    "set(df_num.cell_type)"
   ]
  },
  {
   "cell_type": "code",
   "execution_count": null,
   "id": "49bd1f71-3a15-42a7-bebc-5d6c7b533627",
   "metadata": {},
   "outputs": [],
   "source": [
    "set(adata.obs[\"cell_type\"])"
   ]
  },
  {
   "cell_type": "code",
   "execution_count": null,
   "id": "594f63af-2eb8-4969-936e-a892c4d37d28",
   "metadata": {},
   "outputs": [],
   "source": [
    "df_num['total_cell_count'] = df_num.groupby('condition')['cell_count'].transform('sum')\n",
    "\n",
    "# Calculate the cell fraction\n",
    "df_num['cell_fraction'] = df_num['cell_count'] / df_num['total_cell_count']"
   ]
  },
  {
   "cell_type": "code",
   "execution_count": null,
   "id": "69684483-dc55-482c-8d4a-08ca19506bde",
   "metadata": {},
   "outputs": [],
   "source": [
    "tmp = pd.crosstab(adata.obs['cell_type'], adata.obs['sample_id'], normalize='columns').T\n",
    "\n",
    "# Plotting the stacked barplot\n",
    "ax = tmp.plot(kind='bar', stacked=True, legend=False)\n",
    "\n",
    "# Annotating percentages\n",
    "for p in ax.patches:\n",
    "    width = p.get_width()\n",
    "    height = p.get_height()\n",
    "    x, y = p.get_xy()\n",
    "    ax.text(x + width / 1.5, y + height / 1.5, f'{height:.01%}', ha='center', va='center', size=6)\n",
    "    #ax.text(x + width / 2, y + height / 2, f'{height:.2%}', ha='center', va='center')\n",
    "\n",
    "# Adjusting legend\n",
    "ax.legend(title='cell_type', bbox_to_anchor=(1.8,1), loc='upper right')\n",
    "# Adding y-axis label\n",
    "ax.set_ylabel('Cell Proportion')\n",
    "\n",
    "\n",
    "#plt.tight_layout()\n",
    "\n",
    "# Save the plot\n",
    "#plt.savefig('stacked_barplot_with_percentages.png', bbox_inches='tight')\n",
    "# Show the plot\n",
    "plt.show()"
   ]
  },
  {
   "cell_type": "code",
   "execution_count": null,
   "id": "f405504e-ac39-4a36-930b-6d9d73ae4124",
   "metadata": {},
   "outputs": [],
   "source": [
    "tmp = pd.crosstab(adata.obs['cell_type'], adata.obs['sample_id'], normalize='columns').T\n",
    "\n",
    "# Plotting the stacked barplot\n",
    "ax = tmp.plot(kind='bar', stacked=True, legend=False)\n",
    "\n",
    "# Annotating percentages\n",
    "for p in ax.patches:\n",
    "    width = p.get_width()\n",
    "    height = p.get_height()\n",
    "    x, y = p.get_xy()\n",
    "    #ax.text(x + width / 1.5, y + height / 1.5, f'{height:.01%}', ha='center', va='center', size=6)\n",
    "    #ax.text(x + width / 2, y + height / 2, f'{height:.2%}', ha='center', va='center')\n",
    "\n",
    "# Adjusting legend\n",
    "ax.legend(title='cell_type', bbox_to_anchor=(1.8,1), loc='upper right')\n",
    "# Adding y-axis label\n",
    "ax.set_ylabel('Cell Proportion')\n",
    "\n",
    "\n",
    "#plt.tight_layout()\n",
    "\n",
    "# Save the plot\n",
    "#plt.savefig('stacked_barplot_with_percentages.png', bbox_inches='tight')\n",
    "# Show the plot\n",
    "plt.show()"
   ]
  },
  {
   "cell_type": "code",
   "execution_count": null,
   "id": "f58e1e01-3b0a-4574-be8a-46a1c6c92dc3",
   "metadata": {},
   "outputs": [],
   "source": [
    "tmp = pd.crosstab(adata.obs['cell_type'], adata.obs['condition'], normalize='columns').T\n",
    "\n",
    "# Plotting the stacked barplot\n",
    "ax = tmp.plot(kind='bar', stacked=True, legend=False)\n",
    "\n",
    "# Annotating percentages\n",
    "for p in ax.patches:\n",
    "    width = p.get_width()\n",
    "    height = p.get_height()\n",
    "    x, y = p.get_xy()\n",
    "    ax.text(x + width / 1.5, y + height / 1.5, f'{height:.01%}', ha='center', va='center', size=8)\n",
    "\n",
    "# Adjusting legend\n",
    "ax.legend(title='cell type', bbox_to_anchor=(1.8,1), loc='upper right')\n",
    "# Adding y-axis label\n",
    "ax.set_ylabel('Cell Proportion')\n",
    "\n",
    "\n",
    "#plt.tight_layout()\n",
    "\n",
    "# Save the plot\n",
    "#plt.savefig('stacked_barplot_with_percentages.png', bbox_inches='tight')\n",
    "# Show the plot\n",
    "plt.show()"
   ]
  },
  {
   "cell_type": "code",
   "execution_count": null,
   "id": "2bf3ce9f-28e8-4d69-8c57-f1fba7862551",
   "metadata": {},
   "outputs": [],
   "source": [
    "tmp = pd.crosstab(adata.obs['cell_type'], adata.obs['condition'], normalize='columns').T\n",
    "ax = tmp.plot(kind='bar', stacked=True, legend=False)\n",
    "for p in ax.patches:\n",
    "    width = p.get_width()\n",
    "    height = p.get_height()\n",
    "    x, y = p.get_xy()\n",
    "\n",
    "ax.legend(title='cell_type', bbox_to_anchor=(1.8,1), loc='upper right')\n",
    "# Adding y-axis label\n",
    "ax.set_ylabel('Cell Proportion')\n",
    "\n",
    "plt.show()"
   ]
  },
  {
   "cell_type": "code",
   "execution_count": null,
   "id": "9ff93bc8-483f-4fc6-9ca6-91d630235ff8",
   "metadata": {},
   "outputs": [],
   "source": [
    "plt.figure(figsize=(10, 6))\n",
    "f, ax = plt.subplots(1)\n",
    "sns.boxplot(x='cell_count', y='cell_type', data=df_num, color='white',\n",
    "            boxprops=dict(edgecolor='black'), # Set box edge color\n",
    "            whiskerprops=dict(color='black'), # Set whisker color\n",
    "            capprops=dict(color='black'), # Set cap color\n",
    "            medianprops=dict(color='black') # Set median line color\n",
    "           )\n",
    "ax = sns.swarmplot(x=\"cell_count\", y=\"sample_id\",hue=\"cell_type\",data=df_num)\n",
    "ax.legend(title='Cell type', bbox_to_anchor=(1.8,1), loc='upper right')\n",
    "plt.xlabel(\"Number of cells\")\n",
    "plt.ylabel(\"\")"
   ]
  },
  {
   "cell_type": "code",
   "execution_count": null,
   "id": "9f979542-7262-45a9-a7a4-9da7e0136f1f",
   "metadata": {},
   "outputs": [],
   "source": [
    "plt.figure(figsize=(10, 6))\n",
    "f, ax = plt.subplots(1)\n",
    "sns.boxplot(x='cell_count', y='condition', data=df_num, color='white',\n",
    "            boxprops=dict(edgecolor='black'), # Set box edge color\n",
    "            whiskerprops=dict(color='black'), # Set whisker color\n",
    "            capprops=dict(color='black'), # Set cap color\n",
    "            medianprops=dict(color='black') # Set median line color\n",
    "           )\n",
    "ax = sns.swarmplot(x=\"cell_count\", y=\"condition\",hue=\"cell_type\",data=df_num)\n",
    "ax.legend(title='Cell type', bbox_to_anchor=(1.8,1), loc='upper right')\n",
    "plt.xlabel(\"Number of cells\")\n",
    "plt.ylabel(\"\")"
   ]
  },
  {
   "cell_type": "code",
   "execution_count": null,
   "id": "c45b9d9f-5e71-4898-b460-47588fd6d99e",
   "metadata": {},
   "outputs": [],
   "source": [
    "plt.figure(figsize=(10, 6))\n",
    "f, ax = plt.subplots(1)\n",
    "sns.boxplot(x='cell_count', y='cell_type', data=df_num, color='white',order=order_list,\n",
    "            boxprops=dict(edgecolor='black'), # Set box edge color\n",
    "            whiskerprops=dict(color='black'), # Set whisker color\n",
    "            capprops=dict(color='black'), # Set cap color\n",
    "            medianprops=dict(color='black') # Set median line color\n",
    "           )\n",
    "ax = sns.swarmplot(x=\"cell_count\", y=\"cell_type\",hue=\"sample_id\",data=df_num,dodge=True,order=order_list)\n",
    "ax.legend(title='Sample', bbox_to_anchor=(1.8,1), loc='upper right')\n",
    "plt.xlabel(\"Number of cells\")\n",
    "plt.ylabel(\"\")"
   ]
  },
  {
   "cell_type": "code",
   "execution_count": null,
   "id": "30525f68-205c-46f5-a89a-3e74031d5773",
   "metadata": {},
   "outputs": [],
   "source": [
    "plt.figure(figsize=(10, 6))\n",
    "f, ax = plt.subplots(1)\n",
    "sns.boxplot(x='cell_count', y='cell_type', data=df_num, color='white',order=order_list,\n",
    "            boxprops=dict(edgecolor='black'), # Set box edge color\n",
    "            whiskerprops=dict(color='black'), # Set whisker color\n",
    "            capprops=dict(color='black'), # Set cap color\n",
    "            medianprops=dict(color='black') # Set median line color\n",
    "           )\n",
    "ax = sns.swarmplot(x=\"cell_count\", y=\"cell_type\",hue=\"condition\",data=df_num,dodge=True,order=order_list)\n",
    "ax.legend(title='Condition', bbox_to_anchor=(1.8,1), loc='upper right')\n",
    "plt.xlabel(\"Number of cells\")\n",
    "plt.ylabel(\"\")"
   ]
  },
  {
   "cell_type": "code",
   "execution_count": null,
   "id": "cead2839-f66b-435f-b5dc-a97572670a8a",
   "metadata": {},
   "outputs": [],
   "source": [
    "df_num"
   ]
  },
  {
   "cell_type": "code",
   "execution_count": null,
   "id": "1c3b063c-5e90-4f80-8287-164c9569208d",
   "metadata": {},
   "outputs": [],
   "source": [
    "### Fraction of cells "
   ]
  },
  {
   "cell_type": "code",
   "execution_count": null,
   "id": "f3e1e6f4-565e-404f-a055-92b07dc08c24",
   "metadata": {},
   "outputs": [],
   "source": [
    "plt.figure(figsize=(10, 6))\n",
    "f, ax = plt.subplots(1)\n",
    "sns.boxplot(x='cell_fraction', y='cell_type', data=df_num, color='white',\n",
    "            boxprops=dict(edgecolor='black'), # Set box edge color\n",
    "            whiskerprops=dict(color='black'), # Set whisker color\n",
    "            capprops=dict(color='black'), # Set cap color\n",
    "            medianprops=dict(color='black') # Set median line color\n",
    "           )\n",
    "ax = sns.swarmplot(x=\"cell_fraction\", y=\"sample_id\",hue=\"cell_type\",data=df_num)\n",
    "ax.legend(title='Cell type', bbox_to_anchor=(1.8,1), loc='upper right')\n",
    "plt.xlabel(\"Cell fraction\")\n",
    "plt.ylabel(\"\")"
   ]
  },
  {
   "cell_type": "code",
   "execution_count": null,
   "id": "8bb696b1-fffb-4ad9-be6d-2890285217e8",
   "metadata": {},
   "outputs": [],
   "source": [
    "plt.figure(figsize=(10, 6))\n",
    "f, ax = plt.subplots(1)\n",
    "sns.boxplot(x='cell_fraction', y='condition', data=df_num, color='white',\n",
    "            boxprops=dict(edgecolor='black'), # Set box edge color\n",
    "            whiskerprops=dict(color='black'), # Set whisker color\n",
    "            capprops=dict(color='black'), # Set cap color\n",
    "            medianprops=dict(color='black') # Set median line color\n",
    "           )\n",
    "ax = sns.swarmplot(x=\"cell_fraction\", y=\"condition\",hue=\"cell_type\",data=df_num)\n",
    "ax.legend(title='Cell type', bbox_to_anchor=(1.8,1), loc='upper right')\n",
    "plt.xlabel(\"Cell fraction\")\n",
    "plt.ylabel(\"\")"
   ]
  },
  {
   "cell_type": "code",
   "execution_count": null,
   "id": "e5a5fa66-614d-4ae7-9f31-4aa9e26c5ba2",
   "metadata": {},
   "outputs": [],
   "source": [
    "plt.figure(figsize=(10, 6))\n",
    "f, ax = plt.subplots(1)\n",
    "sns.boxplot(x='cell_fraction', y='cell_type', data=df_num, color='white',order=order_list,\n",
    "            boxprops=dict(edgecolor='black'), # Set box edge color\n",
    "            whiskerprops=dict(color='black'), # Set whisker color\n",
    "            capprops=dict(color='black'), # Set cap color\n",
    "            medianprops=dict(color='black') # Set median line color\n",
    "           )\n",
    "ax = sns.swarmplot(x=\"cell_fraction\", y=\"cell_type\",hue=\"sample_id\",data=df_num,dodge=True,order=order_list)\n",
    "ax.legend(title='Sample', bbox_to_anchor=(1.8,1), loc='upper right')\n",
    "plt.xlabel(\"Cell fraction\")\n",
    "plt.ylabel(\"\")"
   ]
  },
  {
   "cell_type": "code",
   "execution_count": null,
   "id": "d59533eb-6eb0-4675-8d65-02eb1809274b",
   "metadata": {},
   "outputs": [],
   "source": [
    "plt.figure(figsize=(10, 6))\n",
    "f, ax = plt.subplots(1)\n",
    "sns.boxplot(x='cell_fraction', y='cell_type', data=df_num, color='white',order=order_list,\n",
    "            boxprops=dict(edgecolor='black'), # Set box edge color\n",
    "            whiskerprops=dict(color='black'), # Set whisker color\n",
    "            capprops=dict(color='black'), # Set cap color\n",
    "            medianprops=dict(color='black') # Set median line color\n",
    "           )\n",
    "ax = sns.swarmplot(x=\"cell_fraction\", y=\"cell_type\",hue=\"condition\",data=df_num,dodge=True,order=order_list)\n",
    "ax.legend(title='Condition', bbox_to_anchor=(1.8,1), loc='upper right')\n",
    "plt.xlabel(\"Cell fraction\")\n",
    "plt.ylabel(\"\")"
   ]
  },
  {
   "cell_type": "code",
   "execution_count": null,
   "id": "5de52f95-021a-44c6-81cf-b1803f6e0e9a",
   "metadata": {},
   "outputs": [],
   "source": [
    "\n",
    "# Create a subset where 'condition' is '10mix'\n",
    "df_num_10mix = df_num[df_num['condition'] == '10mix']\n",
    "df_num_11mix = df_num[df_num['condition'] == '11mix']"
   ]
  },
  {
   "cell_type": "code",
   "execution_count": null,
   "id": "c97baa6d-27b6-4602-be1e-67773947b58f",
   "metadata": {},
   "outputs": [],
   "source": [
    "df_num_10mix"
   ]
  },
  {
   "cell_type": "code",
   "execution_count": null,
   "id": "08c6336e-bfbe-4589-a131-fb98305a3154",
   "metadata": {},
   "outputs": [],
   "source": [
    "plt.figure(figsize=(10, 6))\n",
    "f, ax = plt.subplots(1)\n",
    "sns.boxplot(x='cell_fraction', y='cell_type', data=df_num_10mix,order=order_list) # Set median line color\n",
    "plt.xlabel(\"Fraciton of cells\")\n",
    "plt.ylabel(\"\")\n",
    "plt.title(\"10mix\")"
   ]
  },
  {
   "cell_type": "code",
   "execution_count": null,
   "id": "d4533519-4da1-470a-8d15-bab963f27c20",
   "metadata": {},
   "outputs": [],
   "source": [
    "plt.figure(figsize=(10, 6))\n",
    "f, ax = plt.subplots(1)\n",
    "sns.boxplot(x='cell_fraction', y='cell_type', data=df_num_11mix,order=order_list) # Set median line color\n",
    "\n",
    "plt.xlabel(\"Fraction of cells\")\n",
    "plt.ylabel(\"\")\n",
    "plt.title(\"11mix\")"
   ]
  },
  {
   "cell_type": "code",
   "execution_count": null,
   "id": "b8ffcace-69c4-4d79-83d1-6e537b73826e",
   "metadata": {},
   "outputs": [],
   "source": []
  },
  {
   "cell_type": "code",
   "execution_count": null,
   "id": "ae434cb0-deb9-46eb-bf7f-5dbdcaf8b45d",
   "metadata": {},
   "outputs": [],
   "source": []
  },
  {
   "cell_type": "code",
   "execution_count": null,
   "id": "25fc26b8-7f87-45b5-9395-0340bb82d602",
   "metadata": {},
   "outputs": [],
   "source": []
  },
  {
   "cell_type": "code",
   "execution_count": null,
   "id": "621cb050-c386-4b44-9865-9ce5849039a1",
   "metadata": {},
   "outputs": [],
   "source": []
  }
 ],
 "metadata": {
  "kernelspec": {
   "display_name": "scanpy",
   "language": "python",
   "name": "scanpy"
  },
  "language_info": {
   "codemirror_mode": {
    "name": "ipython",
    "version": 3
   },
   "file_extension": ".py",
   "mimetype": "text/x-python",
   "name": "python",
   "nbconvert_exporter": "python",
   "pygments_lexer": "ipython3",
   "version": "3.12.3"
  }
 },
 "nbformat": 4,
 "nbformat_minor": 5
}
