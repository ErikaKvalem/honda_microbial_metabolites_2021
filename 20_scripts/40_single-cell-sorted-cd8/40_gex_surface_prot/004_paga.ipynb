{
 "cells": [
  {
   "cell_type": "markdown",
   "id": "e70a6238-4c6a-41f7-9f8b-78e1a54c57bb",
   "metadata": {},
   "source": [
    "# Psuedotime"
   ]
  },
  {
   "cell_type": "markdown",
   "id": "ce1d7582-c441-4c33-b306-686804a9badb",
   "metadata": {},
   "source": [
    "## PAGA"
   ]
  },
  {
   "cell_type": "code",
   "execution_count": null,
   "id": "06bd629b-4835-4f22-93c4-4e6202f4982c",
   "metadata": {},
   "outputs": [],
   "source": [
    "# Libraries\n",
    "import anndata as ad\n",
    "import matplotlib as plt\n",
    "import matplotlib.pyplot as pl\n",
    "import numpy as np\n",
    "import pandas as pd\n",
    "#import sc_atlas_helpers as ah\n",
    "import scanpy as sc\n",
    "from matplotlib.pyplot import rc_context\n",
    "from scipy.stats import median_abs_deviation\n",
    "from scipy.stats import mode\n",
    "from collections import Counter"
   ]
  },
  {
   "cell_type": "code",
   "execution_count": null,
   "id": "47fe1498-50f4-4c18-a8c4-854f85f7eb3b",
   "metadata": {},
   "outputs": [],
   "source": [
    "adata = sc.read(\"/data/projects/2021/MicrobialMetabolites/single-cell-sorted-cd8/results/adata_merged_til_slec_mpec_annotation.h5ad\")\n",
    "adata.var_names_make_unique()"
   ]
  },
  {
   "cell_type": "code",
   "execution_count": null,
   "id": "dc5e996d-6776-498d-8077-0d4c9beec70d",
   "metadata": {},
   "outputs": [],
   "source": [
    "adata"
   ]
  },
  {
   "cell_type": "code",
   "execution_count": null,
   "id": "86822d1c-0413-41d5-8a58-14a61dd8171b",
   "metadata": {},
   "outputs": [],
   "source": [
    "sc.pl.umap(adata, color='cell_type', legend_loc='on data')"
   ]
  },
  {
   "cell_type": "code",
   "execution_count": null,
   "id": "6895eed3-2b5c-42f4-b206-b4a694ddd93e",
   "metadata": {},
   "outputs": [],
   "source": [
    "sc.pp.neighbors(adata, n_neighbors=10)"
   ]
  },
  {
   "cell_type": "code",
   "execution_count": null,
   "id": "fe50193a-cc34-4a6f-91f1-f5fee870ca5f",
   "metadata": {},
   "outputs": [],
   "source": [
    "sc.tl.leiden(adata, resolution=0.3, n_iterations=-1)"
   ]
  },
  {
   "cell_type": "code",
   "execution_count": null,
   "id": "6c07cdc0-0589-4277-9d37-bdb886243730",
   "metadata": {},
   "outputs": [],
   "source": [
    "sc.tl.paga(adata)"
   ]
  },
  {
   "cell_type": "code",
   "execution_count": null,
   "id": "edc76324-b542-41ad-a328-1b18dc74a4f1",
   "metadata": {},
   "outputs": [],
   "source": [
    "#sc.pp.neighbors(adata, n_neighbors=7, n_pcs=20)"
   ]
  },
  {
   "cell_type": "code",
   "execution_count": null,
   "id": "45c63939-5bd9-4e7b-bab7-5d817d7e7076",
   "metadata": {},
   "outputs": [],
   "source": [
    "sc.pp.neighbors(adata)#, n_neighbors=7, n_pcs=20)"
   ]
  },
  {
   "cell_type": "code",
   "execution_count": null,
   "id": "4fe19b7c-4219-47fa-9765-04c97128e55c",
   "metadata": {},
   "outputs": [],
   "source": [
    "#sc.tl.louvain(adata)"
   ]
  },
  {
   "cell_type": "code",
   "execution_count": null,
   "id": "b1da1321-dad7-4845-a512-5157627c4c63",
   "metadata": {},
   "outputs": [],
   "source": [
    "sc.tl.leiden(adata)"
   ]
  },
  {
   "cell_type": "code",
   "execution_count": null,
   "id": "391360b5-6d6b-493f-8dd7-69020109263a",
   "metadata": {},
   "outputs": [],
   "source": [
    "#sc.pl.paga(adata, color=['leiden'], edge_width_scale=0.2, threshold=0.2)"
   ]
  },
  {
   "cell_type": "code",
   "execution_count": null,
   "id": "51a4d01c-c177-49a3-bcb5-dd5711ce5748",
   "metadata": {},
   "outputs": [],
   "source": [
    "sc.tl.umap(adata)"
   ]
  },
  {
   "cell_type": "code",
   "execution_count": null,
   "id": "1f20f78f-159e-437f-b541-d307aee0df6d",
   "metadata": {},
   "outputs": [],
   "source": [
    "sc.pl.umap(adata, color='cell_type', legend_loc='on data')"
   ]
  },
  {
   "cell_type": "code",
   "execution_count": null,
   "id": "a6572e91-114e-4d49-b848-fe65bdea6387",
   "metadata": {},
   "outputs": [],
   "source": [
    "adata.obsm['X_umap'][:, 1] = np.clip(adata.obsm['X_umap'][:, 1], a_min=-20, a_max=None)"
   ]
  },
  {
   "cell_type": "code",
   "execution_count": null,
   "id": "4446683e-ee5a-44e7-9048-e15badc95534",
   "metadata": {},
   "outputs": [],
   "source": [
    "sc.tl.diffmap(adata)\n",
    "sc.pp.neighbors(adata, n_neighbors=15, use_rep='X_diffmap')"
   ]
  },
  {
   "cell_type": "markdown",
   "id": "5550f073-9aef-414e-bbc3-4e5231f034f2",
   "metadata": {},
   "source": [
    "## Clustering"
   ]
  },
  {
   "cell_type": "code",
   "execution_count": null,
   "id": "ed34606d-9df4-4380-9245-7a9bc71e53df",
   "metadata": {},
   "outputs": [],
   "source": [
    "sc.tl.leiden(adata, resolution=0.2)"
   ]
  },
  {
   "cell_type": "code",
   "execution_count": null,
   "id": "02df131e-f996-4dbb-881c-07b78415d516",
   "metadata": {},
   "outputs": [],
   "source": [
    "sc.pl.umap(adata, color='leiden', legend_loc='on data')"
   ]
  },
  {
   "cell_type": "code",
   "execution_count": null,
   "id": "f5ce1770-e4b5-491c-bf75-23a5ff8c33cd",
   "metadata": {},
   "outputs": [],
   "source": [
    "#sc.tl.louvain(adata, resolution=0.03, restrict_to=('leiden', ['3', '4']))"
   ]
  },
  {
   "cell_type": "code",
   "execution_count": null,
   "id": "563ead7b-2057-457e-a925-61834b119b95",
   "metadata": {},
   "outputs": [],
   "source": [
    "adata.obs['leiden'].cat.categories = [str(i) for i in range(len(adata.obs['leiden'].cat.categories))]"
   ]
  },
  {
   "cell_type": "code",
   "execution_count": null,
   "id": "ae1ddd7c-d9fe-4eeb-9f7a-114b2310c417",
   "metadata": {},
   "outputs": [],
   "source": [
    "sc.pl.umap(adata, color=['cell_type2','cell_type'], legend_loc='on data')"
   ]
  },
  {
   "cell_type": "code",
   "execution_count": null,
   "id": "8998a8ed-6b67-461c-b23f-4e35981cf745",
   "metadata": {},
   "outputs": [],
   "source": [
    "adata.obs['clusters'] = adata.obs['cell_type2']"
   ]
  },
  {
   "cell_type": "code",
   "execution_count": null,
   "id": "f1dc4671-5e5b-423f-a4b8-80508e66ba73",
   "metadata": {},
   "outputs": [],
   "source": [
    "adata.obs['cell_type2'].cat.categories"
   ]
  },
  {
   "cell_type": "code",
   "execution_count": null,
   "id": "45df8809-7fd6-4d3e-81f1-84ff93cfd270",
   "metadata": {},
   "outputs": [],
   "source": [
    "sc.tl.paga(adata, groups='clusters')"
   ]
  },
  {
   "cell_type": "code",
   "execution_count": null,
   "id": "786ad0a5-6263-46d2-b8f7-c69e8db7751c",
   "metadata": {},
   "outputs": [],
   "source": [
    "sc.pl.paga(adata, threshold=0.02, edge_width_scale=1, layout='fr', random_state=0)"
   ]
  },
  {
   "cell_type": "code",
   "execution_count": null,
   "id": "3844fe23-4b93-4df5-9712-8e2ff96e92c3",
   "metadata": {},
   "outputs": [],
   "source": [
    "pos = adata.uns['paga']['pos']"
   ]
  },
  {
   "cell_type": "code",
   "execution_count": null,
   "id": "35dc7220-0fb9-40ad-8d3b-3470e5da12ab",
   "metadata": {},
   "outputs": [],
   "source": [
    "sc.pl.paga(adata, threshold=0.02, edge_width_scale=1, layout='fr', pos=pos)"
   ]
  },
  {
   "cell_type": "code",
   "execution_count": null,
   "id": "0a25dee7-e665-4bcc-a813-a941f48a7ddb",
   "metadata": {},
   "outputs": [],
   "source": [
    "sc.tl.umap(adata, init_pos='paga')"
   ]
  },
  {
   "cell_type": "code",
   "execution_count": null,
   "id": "53277f01-197e-44d8-8634-048c01e41b01",
   "metadata": {},
   "outputs": [],
   "source": [
    "sc.pl.umap(adata, color='clusters')#, legend_loc='on data')"
   ]
  },
  {
   "cell_type": "code",
   "execution_count": null,
   "id": "feb29ccd-0d81-4c9c-a8ae-a87a344083ed",
   "metadata": {},
   "outputs": [],
   "source": [
    "axs = sc.pl.paga_compare(\n",
    "    adata, title='', right_margin=0.2, size=10,\n",
    "    threshold=0.02,\n",
    "    legend_fontsize=12, fontsize=12, frameon=False, show=False)"
   ]
  },
  {
   "cell_type": "code",
   "execution_count": null,
   "id": "a51cc0e2-5cf7-48d5-91de-98d4851c45e0",
   "metadata": {},
   "outputs": [],
   "source": [
    "adata.uns['iroot'] = np.flatnonzero(adata.obs['cell_type2'] == 'MPEC1')[0]"
   ]
  },
  {
   "cell_type": "code",
   "execution_count": null,
   "id": "bd487813-dbcc-4943-b3c3-27c6dd325864",
   "metadata": {},
   "outputs": [],
   "source": [
    "sc.tl.diffmap(adata)"
   ]
  },
  {
   "cell_type": "code",
   "execution_count": null,
   "id": "d6c8e626-68fd-4126-812d-7ea1f4d06902",
   "metadata": {},
   "outputs": [],
   "source": [
    "sc.tl.dpt(adata)"
   ]
  },
  {
   "cell_type": "code",
   "execution_count": null,
   "id": "d68dddb0-0c48-483a-bc86-debbcd2928b6",
   "metadata": {},
   "outputs": [],
   "source": [
    "sc.pl.umap(adata, color=[\"rna_leiden\",\"leiden\",'clusters','dpt_pseudotime'], legend_loc='on data', vmax = \"p99\")"
   ]
  },
  {
   "cell_type": "code",
   "execution_count": null,
   "id": "865a98f0-ef38-4de7-8517-634ab1333e0f",
   "metadata": {},
   "outputs": [],
   "source": [
    "sc.pl.umap(adata, color=[\"condition\",\"sample_id\",],groups=[\"11mix_ICI1\",\"11mix_ICI2\"], vmax = \"0.2\")"
   ]
  },
  {
   "cell_type": "code",
   "execution_count": null,
   "id": "2666a742-0a57-42ba-ae55-5573903c4bab",
   "metadata": {},
   "outputs": [],
   "source": [
    "sc.pl.umap(adata, color=[\"condition\",\"sample_id\",],groups=[\"10mix_ICI1\",\"10mix_ICI2\"], vmax = \"0.2\")"
   ]
  },
  {
   "cell_type": "code",
   "execution_count": null,
   "id": "bd103176-1fc3-43e3-8c0d-5e185ff3e0c0",
   "metadata": {},
   "outputs": [],
   "source": [
    "sc.pl.umap(adata, color=[\"condition\",\"sample_id\",],groups=[\"GF_ICI1\",\"GF_ICI2\"], vmax = \"0.2\")"
   ]
  },
  {
   "cell_type": "code",
   "execution_count": null,
   "id": "8a3a8b5e-6683-44ab-a2da-bc8bceb482a8",
   "metadata": {},
   "outputs": [],
   "source": [
    "sc.pl.umap(adata, color=[\"condition\",\"sample_id\",],groups=[\"GF_ICI1_plus\",\"GF_ICI2_plus\"], vmax = \"0.2\")"
   ]
  },
  {
   "cell_type": "code",
   "execution_count": null,
   "id": "029786f1-0829-4e64-8104-6b12a3ae55f1",
   "metadata": {},
   "outputs": [],
   "source": [
    "sc.pl.umap(adata, color=[\"condition\",\"sample_id\"])"
   ]
  }
 ],
 "metadata": {
  "kernelspec": {
   "display_name": "scanpy",
   "language": "python",
   "name": "scanpy"
  },
  "language_info": {
   "codemirror_mode": {
    "name": "ipython",
    "version": 3
   },
   "file_extension": ".py",
   "mimetype": "text/x-python",
   "name": "python",
   "nbconvert_exporter": "python",
   "pygments_lexer": "ipython3",
   "version": "3.12.3"
  }
 },
 "nbformat": 4,
 "nbformat_minor": 5
}
