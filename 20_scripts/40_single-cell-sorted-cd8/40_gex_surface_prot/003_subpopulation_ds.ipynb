{
 "cells": [
  {
   "cell_type": "markdown",
   "id": "9f0f3d65-cb82-49d1-adce-0a2ab14f6305",
   "metadata": {},
   "source": [
    "# Gene expression & surface protein TIL "
   ]
  },
  {
   "cell_type": "markdown",
   "id": "f1eec119-4e34-4725-bdb7-466a00ffc60c",
   "metadata": {},
   "source": [
    "## Load adata annotated "
   ]
  },
  {
   "cell_type": "code",
   "execution_count": null,
   "id": "d1c4cf27-559b-4644-bc27-f2e0fc68339a",
   "metadata": {},
   "outputs": [],
   "source": [
    "# Libraries\n",
    "import anndata as ad\n",
    "import matplotlib as plt\n",
    "import numpy as np\n",
    "import pandas as pd\n",
    "import sc_atlas_helpers as ah\n",
    "import scanpy as sc\n",
    "from matplotlib.pyplot import rc_context\n",
    "from scipy.stats import median_abs_deviation"
   ]
  },
  {
   "cell_type": "code",
   "execution_count": null,
   "id": "d81a2e6f-4471-42a8-8be3-64b4bad09294",
   "metadata": {},
   "outputs": [],
   "source": [
    "from functools import partial\n",
    "\n",
    "import altair as alt"
   ]
  },
  {
   "cell_type": "code",
   "execution_count": null,
   "id": "13330462-666b-4f66-82c2-1f1fb747ce86",
   "metadata": {},
   "outputs": [],
   "source": [
    "import seaborn as sns"
   ]
  },
  {
   "cell_type": "code",
   "execution_count": null,
   "id": "a5fd69f3-c249-4bf1-b030-53b8b7eec0ff",
   "metadata": {},
   "outputs": [],
   "source": [
    "import decoupler as dc"
   ]
  },
  {
   "cell_type": "code",
   "execution_count": null,
   "id": "084aacd8-bb40-4c13-b453-06bc72134708",
   "metadata": {},
   "outputs": [],
   "source": [
    "resDir = \"/data/projects/2021/MicrobialMetabolites/single-cell-sorted-cd8/results/40_gex_surface_prot/\"\n",
    "inputDir = \"/data/projects/2021/MicrobialMetabolites/single-cell-sorted-cd8/results/40_gex_surface_prot/\""
   ]
  },
  {
   "cell_type": "code",
   "execution_count": null,
   "id": "0b029ebc-71ca-4ed9-b9b2-b19746ff4f0a",
   "metadata": {
    "scrolled": true
   },
   "outputs": [],
   "source": [
    "adata = sc.read_h5ad(f\"{resDir}adata_merged_til_annotated.h5ad\")"
   ]
  },
  {
   "cell_type": "code",
   "execution_count": null,
   "id": "4f63457a-d37c-4705-b6a0-71f6796930e9",
   "metadata": {},
   "outputs": [],
   "source": [
    "adata"
   ]
  },
  {
   "cell_type": "code",
   "execution_count": null,
   "id": "b8cccf91-f720-4e95-8061-776a6b121d05",
   "metadata": {},
   "outputs": [],
   "source": [
    "adata"
   ]
  },
  {
   "cell_type": "code",
   "execution_count": null,
   "id": "9a23bff9-de41-48bb-9595-02788d565509",
   "metadata": {},
   "outputs": [],
   "source": [
    "# mitochondrial genes\n",
    "adata.var[\"mt\"] = adata.var_names.str.startswith(\"mt-\")\n",
    "# ribosomal genes\n",
    "adata.var[\"ribo\"] = adata.var_names.str.startswith((\"Rps\", \"Rpl\"))\n"
   ]
  },
  {
   "cell_type": "code",
   "execution_count": null,
   "id": "5ef7ebf3-dac6-44dc-943e-ce08144d96d3",
   "metadata": {},
   "outputs": [],
   "source": [
    "sc.pp.calculate_qc_metrics(\n",
    "    adata, qc_vars=[\"mt\", \"ribo\"], inplace=True, percent_top=[20], log1p=True\n",
    ")\n",
    "adata"
   ]
  },
  {
   "cell_type": "code",
   "execution_count": null,
   "id": "aa880453-2a06-4bd8-9444-51b94280b2b0",
   "metadata": {},
   "outputs": [],
   "source": [
    "sc.pl.violin(adata, \"pct_counts_mt\")"
   ]
  },
  {
   "cell_type": "code",
   "execution_count": null,
   "id": "6c054971-976a-4114-a273-7109835af971",
   "metadata": {},
   "outputs": [],
   "source": [
    "def is_outlier(adata, metric: str, nmads: int):\n",
    "    M = adata.obs[metric]\n",
    "    outlier = (M < np.median(M) - nmads * median_abs_deviation(M)) | (\n",
    "        np.median(M) + nmads * median_abs_deviation(M) < M\n",
    "    )\n",
    "    return outlier"
   ]
  },
  {
   "cell_type": "code",
   "execution_count": null,
   "id": "9a1be2c4-5260-406f-8902-e640d76739a1",
   "metadata": {},
   "outputs": [],
   "source": [
    "adata.obs[\"outlier\"] = (\n",
    "    is_outlier(adata, \"log1p_total_counts\", 5)\n",
    "    | is_outlier(adata, \"log1p_n_genes_by_counts\", 5)\n",
    "    | is_outlier(adata, \"pct_counts_in_top_20_genes\", 5)\n",
    ")\n",
    "adata.obs.outlier.value_counts()"
   ]
  },
  {
   "cell_type": "code",
   "execution_count": null,
   "id": "f4dee6fc-06f9-4abc-af3f-31f4b2bfe4a1",
   "metadata": {},
   "outputs": [],
   "source": [
    "adata.obs[\"mt_outlier\"] = is_outlier(adata, \"pct_counts_mt\", 3) | (\n",
    "    adata.obs[\"pct_counts_mt\"] > 1.5\n",
    ")\n",
    "adata.obs.mt_outlier.value_counts()"
   ]
  },
  {
   "cell_type": "code",
   "execution_count": null,
   "id": "48cb7b32-e51f-41c8-bc05-3794d7321147",
   "metadata": {},
   "outputs": [],
   "source": [
    "print(f\"Total number of cells: {adata.n_obs}\")\n",
    "adata = adata[(~adata.obs.outlier) & (~adata.obs.mt_outlier)].copy()\n",
    "\n",
    "print(f\"Number of cells after filtering of low quality cells: {adata.n_obs}\")"
   ]
  },
  {
   "cell_type": "code",
   "execution_count": null,
   "id": "93f71ff0-70f4-46df-bb72-702c1deea80c",
   "metadata": {},
   "outputs": [],
   "source": [
    "sc.pl.violin(adata, \"pct_counts_mt\")"
   ]
  },
  {
   "cell_type": "code",
   "execution_count": null,
   "id": "09f6eae7-b325-4341-9129-82dd5973d6c6",
   "metadata": {},
   "outputs": [],
   "source": [
    "# Visualize\n",
    "sc.pl.umap(adata, color='joint_leiden')"
   ]
  },
  {
   "cell_type": "code",
   "execution_count": null,
   "id": "dbd6ace4-cbc2-4ddc-b46a-3ba019a9d4d7",
   "metadata": {},
   "outputs": [],
   "source": [
    "#sc.pl.umap(adata, color = [\"Cd69\",\"Il2ra\"], cmap=\"Reds\", vmax=\"p99\")"
   ]
  },
  {
   "cell_type": "code",
   "execution_count": null,
   "id": "7ef27968-a7de-4819-9e0b-914b8c92c938",
   "metadata": {},
   "outputs": [],
   "source": [
    "#sc.pl.violin(adata, keys = [\"Cd69\",\"Il2ra\"], groupby=\"joint_leiden\")"
   ]
  },
  {
   "cell_type": "code",
   "execution_count": null,
   "id": "7a56b71d-6755-4c74-b351-925e28d088cf",
   "metadata": {},
   "outputs": [],
   "source": [
    "#markers =[\"Cd69\",\"Il2ra\"]\n",
    "#sc.pl.dotplot(adata,markers , groupby='joint_leiden', dendrogram=False,log=True, cmap=\"seismic\" )"
   ]
  },
  {
   "cell_type": "code",
   "execution_count": null,
   "id": "bed5d033-4a01-48a1-b869-cf7fd5034005",
   "metadata": {},
   "outputs": [],
   "source": [
    "#sc.pl.umap(adata, color = [\"Sell\",\"Cd44\"], cmap=\"Reds\", vmax=\"p99\")"
   ]
  },
  {
   "cell_type": "code",
   "execution_count": null,
   "id": "e7095f78-56ed-458d-a18c-8a5b56585d4a",
   "metadata": {},
   "outputs": [],
   "source": [
    "#markers =[\"Sell\",\"Cd44\"]\n",
    "#sc.pl.dotplot(adata,markers , groupby='joint_leiden', dendrogram=False,log=True, cmap=\"seismic\" )"
   ]
  },
  {
   "cell_type": "code",
   "execution_count": null,
   "id": "04e45c99-8d16-4ae4-8c02-515f767e0d57",
   "metadata": {},
   "outputs": [],
   "source": [
    "#sc.pl.violin(adata, keys = [\"Sell\",\"Cd44\"], groupby=\"joint_leiden\")"
   ]
  },
  {
   "cell_type": "code",
   "execution_count": null,
   "id": "2a7c6cb3-40c0-4712-95eb-422c9d209019",
   "metadata": {},
   "outputs": [],
   "source": [
    "#sc.pl.umap(adata, color = [\"Gzmk\",\"Il7r\"], cmap=\"Reds\", vmax=\"p99\")"
   ]
  },
  {
   "cell_type": "code",
   "execution_count": null,
   "id": "a090c0d3-9522-46dd-9e1c-dc97bc5d8e84",
   "metadata": {},
   "outputs": [],
   "source": [
    "#sc.pl.umap(adata, color = [\"Sell\",\"Cd69\",\"Il2ra\"], cmap=\"Reds\", vmax=\"p99\")"
   ]
  },
  {
   "cell_type": "code",
   "execution_count": null,
   "id": "32c19e36-490a-4c30-9ef1-5ecc7ca15010",
   "metadata": {},
   "outputs": [],
   "source": [
    "adata.obs.sample_id.value_counts()"
   ]
  },
  {
   "cell_type": "code",
   "execution_count": null,
   "id": "acf15a6d-b5a2-4ce9-a3fe-e2ba6c5a05dd",
   "metadata": {},
   "outputs": [],
   "source": [
    "adata_til1 = adata[adata.obs[\"joint_leiden\"].isin([\"3\",\"4\"])]"
   ]
  },
  {
   "cell_type": "code",
   "execution_count": null,
   "id": "800b9899-12d3-43bb-bd27-74fae1a456cd",
   "metadata": {},
   "outputs": [],
   "source": [
    "adata_til2 = adata[adata.obs[\"joint_leiden\"].isin([\"0\",\"1\",\"2\",\"5\",\"6\"])]"
   ]
  },
  {
   "cell_type": "code",
   "execution_count": null,
   "id": "a750be4a-4e90-44a4-9db1-02843e1c6de6",
   "metadata": {},
   "outputs": [],
   "source": [
    "adata_til2.var[\"ribo\"] = adata.var_names.str.startswith((\"Rps\", \"Rpl\"))"
   ]
  },
  {
   "cell_type": "code",
   "execution_count": null,
   "id": "22b28519-7a7c-4446-b95f-578c2979ae85",
   "metadata": {},
   "outputs": [],
   "source": [
    "adata_til1.var[\"ribo\"] = adata.var_names.str.startswith((\"Rps\", \"Rpl\"))"
   ]
  },
  {
   "cell_type": "code",
   "execution_count": null,
   "id": "f82d64c0-8918-4e0e-94da-d3496795ef3e",
   "metadata": {},
   "outputs": [],
   "source": [
    "adata_til1 = adata_til1[:, adata_til1.var['ribo'] == False].copy()"
   ]
  },
  {
   "cell_type": "code",
   "execution_count": null,
   "id": "05a0ea05-30df-4449-af08-3ac78ac895b4",
   "metadata": {},
   "outputs": [],
   "source": [
    "adata_til2 = adata_til2[:, adata_til2.var['ribo'] == False].copy()"
   ]
  },
  {
   "cell_type": "code",
   "execution_count": null,
   "id": "0ddf04d7-c163-4791-8a28-ad28e76963c1",
   "metadata": {},
   "outputs": [],
   "source": [
    "sc.pp.neighbors(adata_til1, n_neighbors=10)\n",
    "sc.tl.leiden(adata_til1, resolution=0.3, n_iterations=-1)\n",
    "sc.tl.umap(adata_til1)"
   ]
  },
  {
   "cell_type": "code",
   "execution_count": null,
   "id": "96af1538-9554-4dad-b2f6-e9bd192819b5",
   "metadata": {},
   "outputs": [],
   "source": [
    "sc.pp.neighbors(adata_til1, n_neighbors=10)\n",
    "sc.tl.leiden(adata_til1, resolution=1, n_iterations=-1, key_added=\"leiden_1\")\n",
    "sc.tl.umap(adata_til1)"
   ]
  },
  {
   "cell_type": "code",
   "execution_count": null,
   "id": "1c27dab9-4bd9-47bc-bec9-ede463684757",
   "metadata": {},
   "outputs": [],
   "source": [
    "sc.pl.umap(adata_til1, color = \"leiden\")"
   ]
  },
  {
   "cell_type": "code",
   "execution_count": null,
   "id": "24f50e2f-19eb-4df6-9c43-5a7dee7521d5",
   "metadata": {},
   "outputs": [],
   "source": [
    "#sc.pl.umap(adata_til1, color = [\"Sell\",\"Cd44\"], cmap=\"Reds\", vmax=\"p99\")"
   ]
  },
  {
   "cell_type": "code",
   "execution_count": null,
   "id": "581bd3f9-2f84-40ce-9c1d-34846e4b2e92",
   "metadata": {},
   "outputs": [],
   "source": [
    "#markers =[\"Sell\",\"Cd44\"]\n",
    "#sc.pl.dotplot(adata_til1,markers , groupby='leiden', dendrogram=False,log=True, cmap=\"seismic\" )"
   ]
  },
  {
   "cell_type": "code",
   "execution_count": null,
   "id": "8612adea-90d8-4dda-bc8e-a0040af7829d",
   "metadata": {},
   "outputs": [],
   "source": [
    "#sc.pl.violin(adata_til1, keys = [\"Sell\",\"Cd44\"], groupby=\"cell_type\", rotation=45)"
   ]
  },
  {
   "cell_type": "code",
   "execution_count": null,
   "id": "45378f27-de71-46eb-89b2-d71795e11155",
   "metadata": {},
   "outputs": [],
   "source": [
    "annotation_dict = {\n",
    "    '2':'MPEC1',\n",
    "    '0':'MPEC2',\n",
    "    '1':'MPEC3',}"
   ]
  },
  {
   "cell_type": "code",
   "execution_count": null,
   "id": "b5e699f5-29ad-4e53-b85e-1337e7ee93c3",
   "metadata": {},
   "outputs": [],
   "source": [
    "## Add cell type column based on annotation\n",
    "adata_til1.obs['cell_type'] = [annotation_dict[clust] for clust in adata_til1.obs['leiden']]\n",
    "\n",
    "# Visualize\n",
    "sc.pl.umap(adata_til1, color='cell_type')"
   ]
  },
  {
   "cell_type": "code",
   "execution_count": null,
   "id": "ebe8332d-4e81-42e0-9ac2-24baa3e07b0d",
   "metadata": {},
   "outputs": [],
   "source": [
    "#sc.pl.violin(adata_til1, keys = [\"Itga4\"], groupby=\"cell_type\", rotation=45)"
   ]
  },
  {
   "cell_type": "code",
   "execution_count": null,
   "id": "aba3bf76-7dae-44a7-9a61-67b23f15975a",
   "metadata": {},
   "outputs": [],
   "source": [
    "#sc.pl.umap(adata_til1, color = [\"Itga4\"], cmap=\"Reds\", vmax=\"p99\")"
   ]
  },
  {
   "cell_type": "code",
   "execution_count": null,
   "id": "d4d797dd-632e-4824-b35c-f13f66464274",
   "metadata": {},
   "outputs": [],
   "source": [
    "#sc.pl.umap(adata, color = [\"Itga4\",\"joint_leiden\"], cmap=\"Reds\", vmax=\"p99\")"
   ]
  },
  {
   "cell_type": "code",
   "execution_count": null,
   "id": "dc742490-64f6-4a20-8e11-87df1d748599",
   "metadata": {},
   "outputs": [],
   "source": [
    "#markers =[\"Itga4\"]\n",
    "#sc.pl.dotplot(adata,markers , groupby='joint_leiden', swap_axes =False,log=True, cmap=\"seismic\" )"
   ]
  },
  {
   "cell_type": "markdown",
   "id": "7faf97ad-36df-46b4-804f-078dde4d0df0",
   "metadata": {},
   "source": [
    "## Tumor reactive like CD8 T cell markers\n",
    "# Lacking Layn \n",
    "https://ars.els-cdn.com/content/image/1-s2.0-S1535610824002344-gr4_lrg.jpg"
   ]
  },
  {
   "cell_type": "code",
   "execution_count": null,
   "id": "651fd1ee-fbbe-4fea-9b31-dede8664c6ab",
   "metadata": {},
   "outputs": [],
   "source": [
    "#sc.pl.umap(adata_til1, color = [\"Cxcr5\",\"Gzmk\",\"Il7r\"], cmap=\"Reds\", vmax=\"p99\")"
   ]
  },
  {
   "cell_type": "code",
   "execution_count": null,
   "id": "15e6e5aa-c019-4c7e-a862-3ff619f5404c",
   "metadata": {},
   "outputs": [],
   "source": [
    "#markers =[\"Cxcr5\",\"Gzmk\",\"Il7r\"]\n",
    "#sc.pl.dotplot(adata_til1,markers , groupby='joint_leiden', swap_axes =False,log=True, cmap=\"seismic\" )"
   ]
  },
  {
   "cell_type": "markdown",
   "id": "ac33032c-4b7e-431b-91cd-f59966890a5a",
   "metadata": {},
   "source": [
    "## Cycling marker"
   ]
  },
  {
   "cell_type": "code",
   "execution_count": null,
   "id": "06d702b4-e25b-4899-a00e-665c293b2980",
   "metadata": {},
   "outputs": [],
   "source": [
    "#sc.pl.umap(adata_til1, color = [\"Mki67\"], cmap=\"Reds\", vmax=\"p99\")"
   ]
  },
  {
   "cell_type": "markdown",
   "id": "046f939f-27f4-4a74-899d-e0be5a279746",
   "metadata": {},
   "source": [
    "## T differentiation "
   ]
  },
  {
   "cell_type": "code",
   "execution_count": null,
   "id": "08de0394-737c-4a6f-8ecb-11bd8c1eebe0",
   "metadata": {},
   "outputs": [],
   "source": [
    "#sc.pl.umap(adata_til1, color = [\"Sell\",\"Cd44\"], cmap=\"Reds\", vmax=\"p99\")"
   ]
  },
  {
   "cell_type": "markdown",
   "id": "d0bd32fc-9a60-4ec0-a3c4-ff08ca78656b",
   "metadata": {},
   "source": [
    "## Surface antibodies"
   ]
  },
  {
   "cell_type": "code",
   "execution_count": null,
   "id": "f5ae6ab0-c5f7-421d-8b16-c756775bad2e",
   "metadata": {},
   "outputs": [],
   "source": [
    "#sc.pl.umap(adata_til1, color = [\"PD1_TotalSeqC\",\"CD69_TotalSeqC\",\"CD44_TotalSeqC\",\"ICOS_TotalSeqC\",\"CD103_TotalSeqC\"], cmap=\"Reds\", vmax=\"p99\")"
   ]
  },
  {
   "cell_type": "markdown",
   "id": "cb7ba5f3-8687-479f-a5cd-f001d5497602",
   "metadata": {},
   "source": [
    "## T effector into SLEC and MPEC"
   ]
  },
  {
   "cell_type": "code",
   "execution_count": null,
   "id": "083dd26f-9e65-4c20-bf25-5c48c416957e",
   "metadata": {},
   "outputs": [],
   "source": [
    "#sc.pl.umap(adata_til1, color = [\"Klrg1\",\"Il7r\",\"Tbx21\"], cmap=\"Reds\", vmax=\"p99\")"
   ]
  },
  {
   "cell_type": "code",
   "execution_count": null,
   "id": "a62ee0c6-6707-441c-94f0-ed40072961e1",
   "metadata": {},
   "outputs": [],
   "source": [
    "#sc.pl.violin(adata_til1, keys =[\"Klrg1\",\"Il7r\",\"Tbx21\"], groupby=\"cell_type\", rotation=45)"
   ]
  },
  {
   "cell_type": "code",
   "execution_count": null,
   "id": "84786f15-14e2-40d2-9f5a-6ff07801d441",
   "metadata": {},
   "outputs": [],
   "source": [
    "#markers =[\"Klrg1\",\"Il7r\",\"Tbx21\"]\n",
    "#sc.pl.dotplot(adata_til1,markers , groupby='cell_type', swap_axes =False,log=True, cmap=\"seismic\" )"
   ]
  },
  {
   "cell_type": "markdown",
   "id": "445bbf4c-2d08-469b-9777-96ffe4409308",
   "metadata": {},
   "source": [
    "## Markers from publication SLECs & MPECs \n",
    "- https://www.ncbi.nlm.nih.gov/pmc/articles/PMC2034442/\n",
    "\n",
    "- MPECs KLRG1 low, Il7r high, CD122 high, SELF RENEWAL\n",
    "- SLECs KLRG1 high, Il7r low, Cd122 high NOT SELF RENEWAl\n",
    "\n",
    "- Naive CD8 T cells are IL-7Rhi, CD122lo (IL-2/15βR), KLRG1neg and T-betneg and are IL-7 dependent. Early during infection, most effector CD8 T cells become CD122hi and downregulate IL-7R to an intermediate-to-low level, but expression of T-bet and KLRG1 is set depending on their exposure to inflammatory cytokines (e.g. IL-12). Effector CD8 T cells that are exposed to lower levels of inflammation express less T-bet (light blue cells) and begin to upregulate IL-7R to become KLRG1lo IL-7Rhi MPECs (turquoise cells). Effector CD8 T cells that encounter higher levels of inflammatory cytokines express relatively more T-bet and KLRG1 (dark blue cells), stably repress IL-7R and consequentially become KLRG1hi IL-7Rlo SLECs. SLECs become IL-15 dependent, however, IL-15 alone cannot support their long-term persistence or homeostatic turnover and they decline over time. In contrast, MPECs remain dually responsive to IL-7 and IL-15 and preferentially develop into long-lived memory CD8 T cells that can self-renew."
   ]
  },
  {
   "cell_type": "code",
   "execution_count": null,
   "id": "debc76fe-997e-4b62-960d-b16695cbd847",
   "metadata": {},
   "outputs": [],
   "source": [
    "#sc.pl.umap(adata_til1, color = [\"Klrg1\",\"Il7r\",\"Il2rb\",\"Itga4\",\"Itgae\",\"Cxcr3\",\"Casp3\"], cmap=\"Reds\", vmax=\"p99\")"
   ]
  },
  {
   "cell_type": "code",
   "execution_count": null,
   "id": "0f9249ee-59ad-470e-a1c0-8a31acedd2d2",
   "metadata": {},
   "outputs": [],
   "source": [
    "#sc.pl.umap(adata_til1, color = [\"Cxcr3\",\"Casp3\"], cmap=\"Reds\", vmax=\"p99\")"
   ]
  },
  {
   "cell_type": "code",
   "execution_count": null,
   "id": "40e768d1-c6c9-421c-a194-ec71bf1c1116",
   "metadata": {},
   "outputs": [],
   "source": [
    "#sc.pl.violin(adata_til1, keys = [\"Cxcr3\",\"Casp3\"], groupby=\"cell_type\", rotation=45)"
   ]
  },
  {
   "cell_type": "code",
   "execution_count": null,
   "id": "d6c2da35-7d63-4a31-9e9a-578fe5228fac",
   "metadata": {},
   "outputs": [],
   "source": [
    "#markers =[\"Cxcr3\",\"Casp3\",\"Gzmb\",\"Gzmk\",\"Gzma\",\"Ifng\",\"Tox\",\"Lag3\"]\n",
    "#sc.pl.dotplot(adata_til1,markers , groupby='cell_type', swap_axes =False,log=True, cmap=\"seismic\" )"
   ]
  },
  {
   "cell_type": "code",
   "execution_count": null,
   "id": "ae898bcc-3ddb-4a12-8239-22b3acbce83e",
   "metadata": {},
   "outputs": [],
   "source": [
    "#sc.pl.umap(adata_til1, color = [\"Cxcr5\"], cmap=\"Reds\", vmax=\"p99\")"
   ]
  },
  {
   "cell_type": "markdown",
   "id": "2216d904-647b-445b-a2c2-36dcd5147116",
   "metadata": {},
   "source": [
    "## CYTOTOXIC "
   ]
  },
  {
   "cell_type": "code",
   "execution_count": null,
   "id": "2332636c-77a8-43b4-adf5-82c1a7e9ea71",
   "metadata": {},
   "outputs": [],
   "source": [
    "#sc.pl.umap(adata_til1, color = [\"Gzmb\",\"Gzmk\",\"Gzma\",\"Ifng\"], cmap=\"Reds\", vmax=\"p99\")"
   ]
  },
  {
   "cell_type": "code",
   "execution_count": null,
   "id": "cbb0c3b2-7887-4f31-8c0f-81e26080a3a8",
   "metadata": {},
   "outputs": [],
   "source": [
    "#sc.pl.violin(adata_til1, keys =[\"Gzmb\",\"Gzmk\",\"Gzma\",\"Ifng\"], groupby=\"cell_type\", rotation=45)"
   ]
  },
  {
   "cell_type": "markdown",
   "id": "eaeffcee-1b8e-442d-86cb-58acc0813af4",
   "metadata": {},
   "source": [
    "## T act EARLY vs LATE \n",
    "CD25 --> Il2ra"
   ]
  },
  {
   "cell_type": "code",
   "execution_count": null,
   "id": "39cbd19a-8fb9-4878-9908-bff26603e565",
   "metadata": {},
   "outputs": [],
   "source": [
    "#sc.pl.umap(adata_til1, color = [\"Cd69\",\"Il2ra\"], cmap=\"Reds\", vmax=\"p99\")"
   ]
  },
  {
   "cell_type": "markdown",
   "id": "27b2f869-8588-4ed5-a54e-1f5bcb8d7e4a",
   "metadata": {},
   "source": [
    "## Top genes from rank genes "
   ]
  },
  {
   "cell_type": "code",
   "execution_count": null,
   "id": "137ae24c-e51c-4ffd-ad72-76f9cb7d5e52",
   "metadata": {},
   "outputs": [],
   "source": [
    "sc.tl.rank_genes_groups(adata_til1, \"cell_type\", method=\"t-test\")\n",
    "sc.pl.rank_genes_groups(adata_til1, n_genes=25, sharey=False)"
   ]
  },
  {
   "cell_type": "code",
   "execution_count": null,
   "id": "7b3658fc-0486-4945-b8cc-e76d69785af3",
   "metadata": {},
   "outputs": [],
   "source": [
    "pd.DataFrame(adata_til1.uns[\"rank_genes_groups\"][\"names\"]).head(20)"
   ]
  },
  {
   "cell_type": "code",
   "execution_count": null,
   "id": "47f4b399-a683-4ef2-8be0-49f07b67259e",
   "metadata": {},
   "outputs": [],
   "source": [
    "#sc.pl.umap(adata_til1, color = [\"ICOS_TotalSeqC\",\"CD103_TotalSeqC\",\"Lef1\",\"Ccr7\",\"Ly6c2\",\"CD44_TotalSeqC\",\"Eef1b2\",\"Sell\",\"Ccl5\",\"S100a6\",\"Nkg7\",\"Itgb1\"], cmap=\"Reds\", vmax=\"p99\")"
   ]
  },
  {
   "cell_type": "markdown",
   "id": "31336619-019f-4b0c-8a04-27e0c0ef33eb",
   "metadata": {},
   "source": [
    "## Cluster mpec1 naive "
   ]
  },
  {
   "cell_type": "code",
   "execution_count": null,
   "id": "ac340a5a-a2f2-46f2-81ac-fd7101729c30",
   "metadata": {},
   "outputs": [],
   "source": [
    "#sc.pl.umap(adata_til1, color = [\"ICOS_TotalSeqC\",\"CD103_TotalSeqC\",\"Lef1\",\"Ccr7\",\"Satb1\",\"Klf2\"], cmap=\"Reds\", vmax=\"p99\")"
   ]
  },
  {
   "cell_type": "markdown",
   "id": "1653abdb-3d78-4bed-bf46-7fca5aff036f",
   "metadata": {},
   "source": [
    "## Cluster mpec memory  "
   ]
  },
  {
   "cell_type": "code",
   "execution_count": null,
   "id": "2a746197-b5c6-4f95-b910-ce283cdfe9e1",
   "metadata": {},
   "outputs": [],
   "source": [
    "#sc.pl.umap(adata_til1, color = [\"Ly6c2\",\"CD44_TotalSeqC\",\"Bcl2\",\"Eef1b2\",\"Nme2\",\"Sell\"], cmap=\"Reds\", vmax=\"p99\")"
   ]
  },
  {
   "cell_type": "markdown",
   "id": "d8766b73-b00e-4669-8f14-e88352a765df",
   "metadata": {},
   "source": [
    "## Cluster 2 effector"
   ]
  },
  {
   "cell_type": "code",
   "execution_count": null,
   "id": "b065c7c4-ce68-4790-b8f1-076422a3ef0f",
   "metadata": {},
   "outputs": [],
   "source": [
    "\n",
    "#sc.pl.umap(adata_til1, color = [\"Ccl5\",\"Nkg7\",\"S100a6\",\"Lgals1\",\"H2-D1\"], cmap=\"Reds\", vmax=\"p99\")"
   ]
  },
  {
   "cell_type": "markdown",
   "id": "4fae86a1-dacd-4f48-a50e-cb616df5ca86",
   "metadata": {},
   "source": [
    "## Exhaustion markers"
   ]
  },
  {
   "cell_type": "code",
   "execution_count": null,
   "id": "79ac7a0d-35e0-4d56-b46c-259c7c3bda50",
   "metadata": {},
   "outputs": [],
   "source": [
    "#sc.pl.umap(adata_til1, color = [\"Tox\",\"Lag3\"], cmap=\"Reds\", vmax=\"p99\")"
   ]
  },
  {
   "cell_type": "code",
   "execution_count": null,
   "id": "8f554f55-f3ec-4834-b454-eeef33f32fbc",
   "metadata": {},
   "outputs": [],
   "source": [
    "#sc.pl.violin(adata_til1, keys =[\"Tox\",\"Lag3\"], groupby=\"cell_type\", rotation=45)"
   ]
  },
  {
   "cell_type": "code",
   "execution_count": null,
   "id": "29b544db-abc2-4419-995b-ead8b0049797",
   "metadata": {},
   "outputs": [],
   "source": [
    "#sc.pl.umap(adata_til1, color = [\"CD103_TotalSeqC\",\"Bcl2\",\"Cxcr3\"], cmap=\"Reds\", vmax=\"p99\")"
   ]
  },
  {
   "cell_type": "markdown",
   "id": "25fd84e9-ac26-4a5c-bdda-92aef10f6330",
   "metadata": {},
   "source": [
    "# Adata til2"
   ]
  },
  {
   "cell_type": "code",
   "execution_count": null,
   "id": "55e7bd5a-5cb4-42f3-802b-aec70fd8fe3a",
   "metadata": {},
   "outputs": [],
   "source": [
    "sc.pp.neighbors(adata_til2, n_neighbors=10)\n",
    "sc.tl.leiden(adata_til2, resolution=0.5,  n_iterations=-1)\n",
    "sc.tl.umap(adata_til2)"
   ]
  },
  {
   "cell_type": "code",
   "execution_count": null,
   "id": "16532264-a66e-4231-b193-ad0629b7e578",
   "metadata": {},
   "outputs": [],
   "source": [
    "sc.pl.umap(adata_til2, color = \"leiden\")"
   ]
  },
  {
   "cell_type": "code",
   "execution_count": null,
   "id": "1c31c5ed-678a-4763-9a03-cbf108a6afa2",
   "metadata": {},
   "outputs": [],
   "source": [
    "#sc.pl.umap(adata_til2, color = [\"PD1_TotalSeqC\",\"CD69_TotalSeqC\",\"CD44_TotalSeqC\",\"ICOS_TotalSeqC\",\"CD103_TotalSeqC\"], cmap=\"Reds\", vmax=\"p99\")"
   ]
  },
  {
   "cell_type": "code",
   "execution_count": null,
   "id": "5df9d24c-336f-44c4-94ec-7615527bf35e",
   "metadata": {},
   "outputs": [],
   "source": [
    "#sc.pl.umap(adata_til2, color = [\"PD1_TotalSeqC\",\"Lag3\",\"Tox\",\"Havcr2\",\"Entpd1\"], cmap=\"Reds\", vmax=\"p99\")"
   ]
  },
  {
   "cell_type": "code",
   "execution_count": null,
   "id": "5fca6cb0-0565-4afd-9646-8e1a0f94ea39",
   "metadata": {},
   "outputs": [],
   "source": [
    "#sc.pl.umap(adata_til2, color = [\"CD69_TotalSeqC\",\"CD103_TotalSeqC\",\"Itgae\",\"Sell\",\"CD44_TotalSeqC\",\"Cd44\"], cmap=\"Reds\", vmax=\"p99\")"
   ]
  },
  {
   "cell_type": "markdown",
   "id": "5cd1b5c6-837a-4c6b-8f90-f5acf59236d2",
   "metadata": {},
   "source": [
    "## CYTOTOXIC "
   ]
  },
  {
   "cell_type": "code",
   "execution_count": null,
   "id": "3883fe78-7626-4f47-919e-8f01098a3dff",
   "metadata": {},
   "outputs": [],
   "source": [
    "#sc.pl.umap(adata_til2, color = [\"Gzmb\",\"Gzmk\",\"Gzma\",\"Ifng\"], cmap=\"Reds\", vmax=\"p99\")"
   ]
  },
  {
   "cell_type": "markdown",
   "id": "ddb71d6d-916f-4e3b-924a-5f95a15e2527",
   "metadata": {},
   "source": [
    "## JUST A CHECK"
   ]
  },
  {
   "cell_type": "markdown",
   "id": "e988d814-a03f-4792-bac0-890da0e5beed",
   "metadata": {},
   "source": [
    "### Early vs late "
   ]
  },
  {
   "cell_type": "code",
   "execution_count": null,
   "id": "963fdc16-3961-4da1-a8f3-18efa84d713b",
   "metadata": {},
   "outputs": [],
   "source": [
    "#sc.pl.umap(adata_til2, color = [\"Cd69\",\"Il2ra\"], cmap=\"Reds\", vmax=\"p99\")"
   ]
  },
  {
   "cell_type": "markdown",
   "id": "c988633e-4731-4502-8837-fb7f422cbe0a",
   "metadata": {},
   "source": [
    "### Differentiation"
   ]
  },
  {
   "cell_type": "code",
   "execution_count": null,
   "id": "f515ddbc-6d5e-476d-909a-ed5dff32456f",
   "metadata": {},
   "outputs": [],
   "source": [
    "#sc.pl.umap(adata_til2, color = [\"Sell\",\"Cd44\"], cmap=\"Reds\", vmax=\"p99\")"
   ]
  },
  {
   "cell_type": "markdown",
   "id": "4be03cc3-e36d-4235-b6d5-fa50d2527c3e",
   "metadata": {},
   "source": [
    "### Effector states"
   ]
  },
  {
   "cell_type": "code",
   "execution_count": null,
   "id": "4d02de9f-e980-48ef-bccc-8266fcb2e907",
   "metadata": {},
   "outputs": [],
   "source": [
    "#sc.pl.umap(adata_til2, color = [\"Klrg1\",\"Il7r\"], cmap=\"Reds\", vmax=\"p99\")"
   ]
  },
  {
   "cell_type": "code",
   "execution_count": null,
   "id": "1eb756b8-e045-4a75-8dce-5754b02408e5",
   "metadata": {},
   "outputs": [],
   "source": [
    "sc.tl.rank_genes_groups(adata_til2, \"rna_leiden\", method=\"t-test\")\n",
    "sc.pl.rank_genes_groups(adata_til2, n_genes=25, sharey=False)"
   ]
  },
  {
   "cell_type": "code",
   "execution_count": null,
   "id": "9d1cc7e8-d169-4b39-8151-72342f463669",
   "metadata": {},
   "outputs": [],
   "source": [
    "pd.DataFrame(adata_til2.uns[\"rank_genes_groups\"][\"names\"]).head(20)"
   ]
  },
  {
   "cell_type": "code",
   "execution_count": null,
   "id": "bc765c0e-979c-42a1-8356-7d3f7bf71c87",
   "metadata": {},
   "outputs": [],
   "source": [
    "sc.tl.rank_genes_groups(adata_til2, 'rna_leiden')"
   ]
  },
  {
   "cell_type": "code",
   "execution_count": null,
   "id": "c36a3ca4-a461-46fe-96db-f9d32047d3ac",
   "metadata": {},
   "outputs": [],
   "source": [
    "sc.pl.rank_genes_groups_dotplot(\n",
    "    adata_til2,\n",
    "    n_genes=4,\n",
    "    values_to_plot=\"logfoldchanges\", cmap='Reds',\n",
    "    vmin=-4,\n",
    "    vmax=4,\n",
    "    min_logfoldchange=3,\n",
    "    colorbar_title='log fold change'\n",
    ")"
   ]
  },
  {
   "cell_type": "code",
   "execution_count": null,
   "id": "11b70db1-ff87-40c6-8ae0-1792d43d7833",
   "metadata": {},
   "outputs": [],
   "source": [
    "sc.pl.umap(adata_til2, color = \"rna_leiden\")"
   ]
  },
  {
   "cell_type": "code",
   "execution_count": null,
   "id": "336836ef-3f5d-4b82-9666-398d379483ae",
   "metadata": {},
   "outputs": [],
   "source": [
    "markers =[\"Lag3\",\"Tox\",\"Ifit1\",\"Ifitm1\",\"Ifit3\",\"Ccl5\",\"Ccr7\",\"Sell\",\"Foxp1\",\"Dock2\",\"Dock10\",\"Zc3h7a\",\"S100a6\",\"Gzmb\",\"Il31ra\",\"Lef1\"]\n",
    "sc.pl.dotplot(adata_til2, markers, groupby='rna_leiden', dendrogram=True,log=True, cmap=\"Reds\" )"
   ]
  },
  {
   "cell_type": "code",
   "execution_count": null,
   "id": "919ada7d-1a75-4e43-8235-6886a01d203f",
   "metadata": {},
   "outputs": [],
   "source": [
    "annotation_dict = {\n",
    "    '0':'SLEC_Ccr7',\n",
    "    '1':'SLEC_unknown',\n",
    "    '2':'SLEC_Ifit3',\n",
    "    '3':'SLEC_Dock2',\n",
    "    '4':'SLEC_Ccr7',\n",
    "    '5':'SLEC_unknown',\n",
    "    '6':'SLEC_Ccr7',\n",
    "    '7':'SLEC_Ifitm1',\n",
    "    '8':'SLEC_Trbv13-2',\n",
    "    '9':'SLEC_Trbv16',\n",
    "    '10':'SLEC_unknown',\n",
    "    '11':'SLEC_Hmgb2',\n",
    "    '12':'SLEC_Zc3h7a',\n",
    "    '13':'SLEC_Dock2',\n",
    "    '14':'SLEC_Zc3h7a'}"
   ]
  },
  {
   "cell_type": "code",
   "execution_count": null,
   "id": "c6336b4f-c2ac-4885-b092-9689ea05b9e1",
   "metadata": {},
   "outputs": [],
   "source": [
    "## Add cell type column based on annotation\n",
    "adata_til2.obs['cell_type'] = [annotation_dict[clust] for clust in adata_til2.obs['rna_leiden']]\n",
    "\n",
    "# Visualize\n",
    "sc.pl.umap(adata_til2, color='cell_type')"
   ]
  },
  {
   "cell_type": "code",
   "execution_count": null,
   "id": "21287876-f99d-430f-816c-0ee83893a52b",
   "metadata": {},
   "outputs": [],
   "source": [
    "sc.pl.umap(adata_til2, color='leiden')"
   ]
  },
  {
   "cell_type": "code",
   "execution_count": null,
   "id": "c493a4b0-8fad-47a2-ab14-d26b15c70b55",
   "metadata": {},
   "outputs": [],
   "source": [
    "sc.pl.umap(adata_til2, color='rna_leiden')"
   ]
  },
  {
   "cell_type": "code",
   "execution_count": null,
   "id": "941aabbf-9fcd-4ee5-8fe7-8ee352c3ca42",
   "metadata": {},
   "outputs": [],
   "source": [
    "sc.tl.rank_genes_groups(adata_til2, 'rna_leiden')"
   ]
  },
  {
   "cell_type": "code",
   "execution_count": null,
   "id": "a725bf66-57f3-4b56-a0d3-c9a0595735f4",
   "metadata": {},
   "outputs": [],
   "source": [
    "pd.DataFrame(adata_til2.uns[\"rank_genes_groups\"][\"names\"]).head(20)"
   ]
  },
  {
   "cell_type": "code",
   "execution_count": null,
   "id": "28b602ac-0903-4e44-ad2c-165a41272383",
   "metadata": {},
   "outputs": [],
   "source": [
    "sc.pl.rank_genes_groups_dotplot(\n",
    "    adata_til2,\n",
    "    n_genes=4,\n",
    "    values_to_plot=\"logfoldchanges\", cmap='Reds',\n",
    "    vmin=-4,\n",
    "    vmax=4,\n",
    "    min_logfoldchange=3,\n",
    "    colorbar_title='log fold change'\n",
    ")"
   ]
  },
  {
   "cell_type": "code",
   "execution_count": null,
   "id": "bf334783-e8f9-48e6-8888-36dc801d23d2",
   "metadata": {},
   "outputs": [],
   "source": [
    "sc.pl.umap(adata_til2, color = [\"Ifit3\",\"Ifit1\",\"Ifitm1\",\"Sell\",\"Tnfrsf9\",\"Ccr7\",\"Trbv13-2\",\"Trbv16\",\"Stmn1\",\"Hmgb2\",\"Zc3h7a\",\"Tox\",\"Dock2\",\"Itga4\",\"Cxcr3\",\"Itgae\",\"Il2rb\"], cmap=\"Reds\", vmax=\"p99\", legend_loc=\"on data\")"
   ]
  },
  {
   "cell_type": "code",
   "execution_count": null,
   "id": "4d53c8ce-1497-49b0-a86f-7ece7b2c35ec",
   "metadata": {},
   "outputs": [],
   "source": [
    "sc.pl.umap(adata_til2, color = \"rna_leiden\",vmax=\"p99\", cmap=\"Reds\")"
   ]
  },
  {
   "cell_type": "markdown",
   "id": "ce664af2-334b-44cc-b9f9-bead221fbe94",
   "metadata": {},
   "source": [
    "## Markers of exhausted CD8+ T cell subsets \n",
    "\n",
    "- https://pubmed.ncbi.nlm.nih.gov/36907685/#&gid=article-figures&pid=figure-1-uid-0\n",
    "\n",
    "Tex_pro : Ly1008+, Cxcr5+ Il7r+, Cd62l+, Ccr7+ ,Ifng low, Tnf alpha low, Tcf1+, Tox high, Eomes int  \n",
    "\n",
    "- Ly108 - Slamf6\n",
    "- Tcf1  - Tcf7\n",
    "- Cd62 - Sell \n",
    "\n",
    "Tex_int: Cxcr1+, Cxcr6 high, Tim3+, PD1int, Gzmb int, Ifng int, Tnfa int, Tox int, Eomes int, Tbet int, NR4aw int\n",
    "\n",
    "- \"Cxcr1\" - Il8ra no present\n",
    "- Tim3 - Havcr2\n",
    "\n",
    "Tex eff Cxcr1+, Klrg1+, Cxcr6+, Tim3+, Pd1int, Gzmb high, Ifng high, Tnf a high, Tbet high, Zeb2+, \n",
    "\n",
    "Tex term Tim3+, Pd1 high, Lag3 high, Cxcr6 high, Cd101+, Gzmbint, Gzmk+, Ifng low, Tnfa low, Tox high, Eomes high, Nr4a2+ "
   ]
  },
  {
   "cell_type": "markdown",
   "id": "fdaf4d79-7b95-4a89-82ad-4d9811afa053",
   "metadata": {},
   "source": [
    "## Tex_prog"
   ]
  },
  {
   "cell_type": "code",
   "execution_count": null,
   "id": "af94072b-c301-420b-bbca-dc58bb2c0136",
   "metadata": {},
   "outputs": [],
   "source": [
    "#Tex_prog = [\"Slamf6\",\"Cxcr5\",\"Il7r\",\"Sell\",\"Ccr7\",\"Ifng\",\"Tnf\",\"Tcf7\",\"Tox\",\"Eomes\"]"
   ]
  },
  {
   "cell_type": "code",
   "execution_count": null,
   "id": "22887ab1-4ab3-4ad9-8032-35997424cf89",
   "metadata": {},
   "outputs": [],
   "source": [
    "#sc.pl.umap(adata_til2, color = Tex_prog, cmap=\"Reds\", vmax=\"p99\")"
   ]
  },
  {
   "cell_type": "markdown",
   "id": "e2c13aec-a5ec-4bdf-90c9-3e24f985eb62",
   "metadata": {},
   "source": [
    "## Tex_int"
   ]
  },
  {
   "cell_type": "code",
   "execution_count": null,
   "id": "78c5ad14-12b4-473e-aac3-bbace01b719f",
   "metadata": {},
   "outputs": [],
   "source": [
    "#Tex_int = [\"Cxcr6\",\"Havcr2\",\"Pdcd1\",\"Gzmb\",\"Ifng\",\"Tnf\",\"Tox\",\"Eomes\",\"Nr4a2\"]"
   ]
  },
  {
   "cell_type": "code",
   "execution_count": null,
   "id": "2a11f3c3-e586-4391-bf26-c78a4e26cba7",
   "metadata": {},
   "outputs": [],
   "source": [
    "#sc.pl.umap(adata_til2, color = Tex_int, cmap=\"Reds\", vmax=\"p99\")"
   ]
  },
  {
   "cell_type": "markdown",
   "id": "1e6fe94b-c4c3-493e-b2ae-6c3ff9cddbc1",
   "metadata": {},
   "source": [
    "## Tex_eff"
   ]
  },
  {
   "cell_type": "code",
   "execution_count": null,
   "id": "9ef82708-c55a-4d47-b149-85175cabb134",
   "metadata": {},
   "outputs": [],
   "source": [
    "#Tex_eff = [\"Klrg1\",\"Cxcr6\",\"Havcr2\",\"Pdcd1\",\"Gzmb\",\"Ifng\",\"Tnf\",\"Zeb2\"]"
   ]
  },
  {
   "cell_type": "code",
   "execution_count": null,
   "id": "28119a2a-282b-40e4-af0c-e65e348758f0",
   "metadata": {},
   "outputs": [],
   "source": [
    "#sc.pl.umap(adata_til2, color = Tex_eff, cmap=\"Reds\", vmax=\"p99\")"
   ]
  },
  {
   "cell_type": "markdown",
   "id": "01db69af-67ac-4512-a312-59b42997c31b",
   "metadata": {},
   "source": [
    "## Tex_term"
   ]
  },
  {
   "cell_type": "code",
   "execution_count": null,
   "id": "c8d3d3e6-f7b2-4f74-aefd-b338a2be8420",
   "metadata": {},
   "outputs": [],
   "source": [
    "#Tex_term = [\"Havcr2\",\"Pdcd1\",\"Lag3\",\"Cxcr6\",\"Cd101\",\"Gzmb\",\"Gzmk\",\"Ifng\",\"Tnf\",\"Tox\",\"Eomes\", \"Nr4a2\"]"
   ]
  },
  {
   "cell_type": "code",
   "execution_count": null,
   "id": "beedeb7e-3cca-4bf3-a780-c3b4a158d762",
   "metadata": {},
   "outputs": [],
   "source": [
    "#sc.pl.umap(adata_til2, color = Tex_term, cmap=\"Reds\", vmax=\"p99\")"
   ]
  },
  {
   "cell_type": "markdown",
   "id": "29562c5a-e1ce-49ce-bf30-3c463f3793b4",
   "metadata": {},
   "source": [
    "## All markers for of exhausted CD8+ T cell subsets"
   ]
  },
  {
   "cell_type": "code",
   "execution_count": null,
   "id": "e93bf157-1fb3-4f0e-b845-8e4b12668f0c",
   "metadata": {},
   "outputs": [],
   "source": [
    "#markers = Tex_prog + Tex_eff + Tex_int + Tex_term"
   ]
  },
  {
   "cell_type": "code",
   "execution_count": null,
   "id": "7fee09fb-50fd-46c1-b512-7f2860fb9c1f",
   "metadata": {},
   "outputs": [],
   "source": [
    "#markers_unique = list(set(markers))"
   ]
  },
  {
   "cell_type": "code",
   "execution_count": null,
   "id": "2d7c9610-214a-4b8c-9f3f-e664ebfdd2b4",
   "metadata": {},
   "outputs": [],
   "source": [
    "#markers_unique.append(\"Klrg1\")"
   ]
  },
  {
   "cell_type": "markdown",
   "id": "f439c790-d6b1-4fec-b3a3-451df3b173b6",
   "metadata": {},
   "source": [
    "## SLEC "
   ]
  },
  {
   "cell_type": "code",
   "execution_count": null,
   "id": "fcf05224-c14e-40c7-a86e-73069db53eb2",
   "metadata": {},
   "outputs": [],
   "source": [
    "#sc.pl.dotplot(adata_til2, markers_unique, groupby='leiden', dendrogram=True)"
   ]
  },
  {
   "cell_type": "code",
   "execution_count": null,
   "id": "c8188faf-1a33-48c8-aefc-405d08cdebd6",
   "metadata": {},
   "outputs": [],
   "source": [
    "#sc.pl.umap(adata_til1, color='cell_type')"
   ]
  },
  {
   "cell_type": "code",
   "execution_count": null,
   "id": "f39222c2-7db1-493b-9940-59d58b3f865d",
   "metadata": {},
   "outputs": [],
   "source": [
    "#sc.pl.umap(adata_til2, color = [\"leiden\",\"rna_leiden\"])"
   ]
  },
  {
   "cell_type": "code",
   "execution_count": null,
   "id": "0a6e33b0-0262-4364-be73-aba9ded063fa",
   "metadata": {},
   "outputs": [],
   "source": [
    "#sc.pl.umap(adata_til2, color = [\"rna_leiden\"], groups=[\"3\",\"4\",\"6\",\"12\"])"
   ]
  },
  {
   "cell_type": "code",
   "execution_count": null,
   "id": "c761d275-380b-4813-bf77-fc2cde484a8e",
   "metadata": {},
   "outputs": [],
   "source": [
    "Texprog = [\"Slamf6\",\"Sell\",\"Ccr7\",\"Tcf7\"]\n",
    "Texint = [\"Havcr2\",\"Entpd1\",\"Gzmb\",\"Tox\",\"Ifng\",\"Tnf\",\"Tox\",\"Eomes\",\"Tbx21\",\"Nr4a2\"]\n",
    "Texeff = [\"Klrg1\",\"Cxcr6\",\"Havcr2\",\"Entpd1\",\"Gzmb\",\"Ifng\",\"Zeb2\"]\n",
    "Texeterm = [\"Havcr2\",\"Entpd1\",\"Lag3\",\"Cxcr6\",\"Cd101\",\"Gzmb\",\"Gzmk\",\"Ifng\",\"Tnf\",\"Tox\",\"Eomes\",\"Nr4a2\"]"
   ]
  },
  {
   "cell_type": "code",
   "execution_count": null,
   "id": "a561e68d-11e6-4d0f-a94e-2a80c2229686",
   "metadata": {},
   "outputs": [],
   "source": [
    "sc.pl.umap(adata_til2, color = Texprog, cmap=\"Reds\", vmax=\"p99\", vmin=0)"
   ]
  },
  {
   "cell_type": "code",
   "execution_count": null,
   "id": "b703647d-1c49-45d9-9754-03dbcb3c449b",
   "metadata": {},
   "outputs": [],
   "source": [
    "sc.pl.umap(adata_til2, color = Texint, cmap=\"Reds\",  vmax=\"p99\", vmin=0)"
   ]
  },
  {
   "cell_type": "code",
   "execution_count": null,
   "id": "90328361-0495-49cf-9a68-ae692b620d55",
   "metadata": {},
   "outputs": [],
   "source": [
    "sc.pl.umap(adata_til2, color = Texeff, cmap=\"Reds\",  vmax=\"p99\", vmin=0)"
   ]
  },
  {
   "cell_type": "code",
   "execution_count": null,
   "id": "0bbd3d10-4696-41e6-a252-8d9bc9a22d2c",
   "metadata": {},
   "outputs": [],
   "source": [
    "sc.pl.umap(adata_til2, color = Texeterm, cmap=\"Reds\",  vmax=\"p99\", vmin=0)"
   ]
  },
  {
   "cell_type": "code",
   "execution_count": null,
   "id": "c205818c-9ccc-4b5f-a809-170b17f914a5",
   "metadata": {},
   "outputs": [],
   "source": [
    "sc.pl.umap(adata_til2, color = [\"Sell\",\"Ccr7\",\"Cxcr3\",\"Trbv16\",\"Trbv13-2\",\"Hmgb2\",\"Gzmb\",\"Ifit3\",\"Ifit1\",\"Ifitm1\",\"Zc3h7a\",\"Tox\"], cmap=\"Reds\",  vmax=\"p99\", vmin=0)"
   ]
  },
  {
   "cell_type": "code",
   "execution_count": null,
   "id": "8a5e3be2-399a-41ef-8dbc-637aec3d6552",
   "metadata": {},
   "outputs": [],
   "source": []
  },
  {
   "cell_type": "code",
   "execution_count": null,
   "id": "a9a89060-3f5b-4cd4-9cc7-b24cfc2bb980",
   "metadata": {},
   "outputs": [],
   "source": [
    "annotation_dict = {\n",
    "    '0':'Tex_eff',\n",
    "    '1':'Tex_eff',\n",
    "    '2':'Interferon_response',\n",
    "    '3':'Tex_term',\n",
    "    '4':'Plastic',\n",
    "    '5':'Tex_eff',\n",
    "    '6':'Tex_prog',\n",
    "    '7':'Interferon_response',\n",
    "    '8':'Tex_int',\n",
    "    '9':'Tex_int',\n",
    "    '10':'Zc3h7a',\n",
    "    '11':'Tex_int',\n",
    "    '12':'Zc3h7a',\n",
    "    '13':'Zc3h7a',\n",
    "    '14':'Zc3h7a'}"
   ]
  },
  {
   "cell_type": "code",
   "execution_count": null,
   "id": "666afc7c-8a5f-4bde-bb41-1a54389d7e6c",
   "metadata": {},
   "outputs": [],
   "source": [
    "annotation_dict = {\n",
    "    '0':'Tex_eff',\n",
    "    '1':'Tex_eff',\n",
    "    '2':'Interferon_response',\n",
    "    '3':'Tex_term',\n",
    "    '4':'Plastic',\n",
    "    '5':'Tex_eff',\n",
    "    '6':'Tex_prog',\n",
    "    '7':'Interferon_response',\n",
    "    '8':'Tex_int',\n",
    "    '9':'Tex_int',\n",
    "    '10':'Zc3h7a',\n",
    "    '11':'Tex_int',\n",
    "    '12':'Zc3h7a',\n",
    "    '13':'Zc3h7a',\n",
    "    '14':'Zc3h7a'}"
   ]
  },
  {
   "cell_type": "code",
   "execution_count": null,
   "id": "51909680-b163-4e21-a0e4-f0cc923db21e",
   "metadata": {},
   "outputs": [],
   "source": [
    "## Add cell type column based on annotation\n",
    "adata_til2.obs['cell_type'] = [annotation_dict[clust] for clust in adata_til2.obs['rna_leiden']]\n",
    "\n",
    "# Visualize\n",
    "sc.pl.umap(adata_til2, color='cell_type')"
   ]
  },
  {
   "cell_type": "code",
   "execution_count": null,
   "id": "67e75ae1-9d71-4cd5-88e4-320871c36def",
   "metadata": {},
   "outputs": [],
   "source": [
    "sc.pl.umap(adata_til2, color='rna_leiden')"
   ]
  },
  {
   "cell_type": "code",
   "execution_count": null,
   "id": "cdb16632-373a-45ff-a8f4-d201178762d8",
   "metadata": {},
   "outputs": [],
   "source": [
    "#adata.write_h5ad(f\"{resDir}/adata_merged_til_annotated.h5ad\")"
   ]
  },
  {
   "cell_type": "markdown",
   "id": "1ef7e807-1b93-4643-ac8e-b036c8f62756",
   "metadata": {},
   "source": [
    "## Checking subsets from publication \n",
    "https://www.sciencedirect.com/science/article/pii/S1535610824002344?ref=pdf_download&fr=RR-2&rr=8a7ba8113b45c268\n"
   ]
  },
  {
   "cell_type": "code",
   "execution_count": null,
   "id": "c9194c79-2f3c-4912-881e-cb2f41dad06e",
   "metadata": {},
   "outputs": [],
   "source": [
    "#markers_tcell_subset = [\"Ccr7\",\"Sell\",\"Anxa1\",\"Gzmk\",\"Xcl1\",\"Hspa1b\",\"Cx3cr1\",\"Cd160\"]"
   ]
  },
  {
   "cell_type": "code",
   "execution_count": null,
   "id": "552196f4-21d9-46dd-9f31-754e0f5a961d",
   "metadata": {},
   "outputs": [],
   "source": [
    "#sc.pl.umap(adata, color = markers_tcell_subset, cmap=\"Reds\",  vmax=\"p99\", vmin=0)"
   ]
  },
  {
   "cell_type": "code",
   "execution_count": null,
   "id": "0d46afe6-a504-4cb6-989f-dba03b5b30ba",
   "metadata": {},
   "outputs": [],
   "source": [
    "#sc.pl.umap(adata_til1, color = markers_tcell_subset, cmap=\"Reds\",  vmax=\"p99\", vmin=0)"
   ]
  },
  {
   "cell_type": "code",
   "execution_count": null,
   "id": "ebf22c1f-5c39-4779-8feb-043311f2543b",
   "metadata": {},
   "outputs": [],
   "source": [
    "#sc.pl.umap(adata_til2, color = markers_tcell_subset, cmap=\"Reds\",  vmax=\"p99\", vmin=0)"
   ]
  },
  {
   "cell_type": "code",
   "execution_count": null,
   "id": "f4e1df21-2b55-4454-9d36-5d61d51c47f9",
   "metadata": {},
   "outputs": [],
   "source": [
    "## SLEC vs MPEC difference "
   ]
  },
  {
   "cell_type": "code",
   "execution_count": null,
   "id": "b1e23f5d-d87b-43a0-a737-02cffca86026",
   "metadata": {},
   "outputs": [],
   "source": [
    "#sc.pl.umap(adata, color = [\"Klrg1\",\"Il7r\",\"Tbx21\"], cmap=\"Reds\",  vmax=\"p99\", vmin=0)"
   ]
  },
  {
   "cell_type": "code",
   "execution_count": null,
   "id": "153b4368-eaa6-45c6-b336-a04214f0e370",
   "metadata": {},
   "outputs": [],
   "source": [
    "#adata"
   ]
  },
  {
   "cell_type": "code",
   "execution_count": null,
   "id": "ead60ad8-5bce-4679-8347-f595e5855e2a",
   "metadata": {},
   "outputs": [],
   "source": [
    "#sc.pl.violin(adata, keys = [\"Klrg1\",\"Il7r\",\"Tbx21\"], groupby=\"joint_leiden\")"
   ]
  },
  {
   "cell_type": "code",
   "execution_count": null,
   "id": "cb417647-21ea-4495-a5f6-3dda1a5d9c67",
   "metadata": {},
   "outputs": [],
   "source": [
    "#markers =[\"Klrg1\",\"Il7r\",\"Tbx21\"]\n",
    "#sc.pl.dotplot(adata, markers, groupby='joint_leiden', dendrogram=False,log=True, cmap=\"seismic\" )"
   ]
  },
  {
   "cell_type": "code",
   "execution_count": null,
   "id": "25acb425-f31e-49ec-9b77-2ff2412eceed",
   "metadata": {},
   "outputs": [],
   "source": [
    "#sc.pl.matrixplot(adata, markers, groupby='joint_leiden', dendrogram=True,log=True)"
   ]
  },
  {
   "cell_type": "code",
   "execution_count": null,
   "id": "b6aa68df-8cb9-47ad-965e-02856d7d60c4",
   "metadata": {},
   "outputs": [],
   "source": [
    "#sc.pl.umap(adata, color = \"joint_leiden\")"
   ]
  },
  {
   "cell_type": "code",
   "execution_count": null,
   "id": "3e938fb6-b2ab-4efe-8c06-16ad049cb015",
   "metadata": {},
   "outputs": [],
   "source": [
    "adata.obs[\"cell_type\"] = adata.obs[\"cell_type\"].astype(\"str\")\n",
    "adata.obs.loc[adata_til2.obs.index, \"cell_type\"] = adata_til2.obs[\"cell_type\"].astype(\"str\")\n"
   ]
  },
  {
   "cell_type": "code",
   "execution_count": null,
   "id": "27f1e1eb-3621-4b4e-ac31-0ac7fa2401d4",
   "metadata": {},
   "outputs": [],
   "source": [
    "adata.obs[\"cell_type\"] = adata.obs[\"cell_type\"].astype(\"str\")\n",
    "adata.obs.loc[adata_til1.obs.index, \"cell_type\"] = adata_til1.obs[\"cell_type\"].astype(\"str\")\n"
   ]
  },
  {
   "cell_type": "code",
   "execution_count": null,
   "id": "e21396dc-2736-4db1-a56a-68b0aa5b3bdf",
   "metadata": {},
   "outputs": [],
   "source": [
    "sc.pl.umap(adata, color='cell_type')#, legend_loc=\"on data\",legend_fontsize=5)"
   ]
  },
  {
   "cell_type": "code",
   "execution_count": null,
   "id": "6d4aef07-2707-48d9-bcbf-436661ed8d58",
   "metadata": {},
   "outputs": [],
   "source": [
    "adata.obs[\"cell_type2\"] = adata.obs[\"cell_type\"] "
   ]
  },
  {
   "cell_type": "code",
   "execution_count": null,
   "id": "1695efdc-dccc-4c22-97b2-22ac5300d2e3",
   "metadata": {},
   "outputs": [],
   "source": [
    "adata.obs[\"cell_type2\"].unique()"
   ]
  },
  {
   "cell_type": "code",
   "execution_count": null,
   "id": "03492c4b-19a8-4fed-bf6b-a81020bf7dbf",
   "metadata": {
    "scrolled": true
   },
   "outputs": [],
   "source": [
    "adata.obs[\"cell_type2\"].replace('Tex_eff', 'SLEC1', inplace=True) \n",
    "adata.obs[\"cell_type2\"].replace('Interferon_response', 'SLEC2', inplace=True)\n",
    "adata.obs[\"cell_type2\"].replace('Tex_int', 'SLEC3', inplace=True)\n",
    "adata.obs[\"cell_type2\"].replace('Tex_prog', 'SLEC4', inplace=True)\n",
    "adata.obs[\"cell_type2\"].replace('Tex_term', 'SLEC5', inplace=True)\n",
    "adata.obs[\"cell_type2\"].replace('Plastic', 'SLEC5', inplace=True)\n",
    "adata.obs[\"cell_type2\"].replace('Zc3h7a', 'SLEC6', inplace=True)\n"
   ]
  },
  {
   "cell_type": "code",
   "execution_count": null,
   "id": "da0efa7e-5b84-4f89-b7a8-52baf7da255b",
   "metadata": {},
   "outputs": [],
   "source": [
    "sc.pl.umap(adata, color='cell_type2', sort_order=True)"
   ]
  },
  {
   "cell_type": "code",
   "execution_count": null,
   "id": "5a4e9844-c1de-4167-a187-7459c91b1ccb",
   "metadata": {},
   "outputs": [],
   "source": [
    "#adata.write_h5ad(\"/data/projects/2021/MicrobialMetabolites/single-cell-sorted-cd8/results/adata_merged_til_slec_mpec_annotation.h5ad\")"
   ]
  },
  {
   "cell_type": "code",
   "execution_count": null,
   "id": "016e2fb2-cd45-4866-ab50-1e58a981fbf0",
   "metadata": {
    "tags": []
   },
   "outputs": [],
   "source": [
    "path = \"/data/projects/2021/MicrobialMetabolites/single-cell-sorted-cd8/results/solo\""
   ]
  },
  {
   "cell_type": "code",
   "execution_count": null,
   "id": "782632a1-1606-455c-b331-ed399e3c5d82",
   "metadata": {},
   "outputs": [],
   "source": [
    "adata_solo = sc.read_h5ad(f\"{path}/adata_nodoublet.h5ad\")"
   ]
  },
  {
   "cell_type": "code",
   "execution_count": null,
   "id": "70874a04-8f6c-4a19-84a7-0f899a7c22b3",
   "metadata": {},
   "outputs": [],
   "source": [
    "adata_solo"
   ]
  },
  {
   "cell_type": "code",
   "execution_count": null,
   "id": "38f780c5-a5d5-49c1-8460-fcc83cdeca48",
   "metadata": {},
   "outputs": [],
   "source": [
    "sc.pl.umap(adata_solo, color=['leiden',\"sample_id\"], sort_order=True)"
   ]
  },
  {
   "cell_type": "code",
   "execution_count": null,
   "id": "783faba7-43a6-4a59-9cd1-89e4215067db",
   "metadata": {},
   "outputs": [],
   "source": [
    "adata_solo = sc.read_h5ad(\"/data/projects/2021/MicrobialMetabolites/single-cell-sorted-cd8/results/adata_solo_integrated.h5ad\")"
   ]
  },
  {
   "cell_type": "code",
   "execution_count": null,
   "id": "d310e715-d037-4222-9651-1ce846e83368",
   "metadata": {},
   "outputs": [],
   "source": [
    "sc.pl.umap(adata_solo, color=['leiden',\"sample_id\"], sort_order=True)"
   ]
  },
  {
   "cell_type": "code",
   "execution_count": null,
   "id": "04c5661d-552b-49ed-a6e1-56cd8ef65f58",
   "metadata": {},
   "outputs": [],
   "source": [
    "set(adata_solo.obs.sample_id)"
   ]
  },
  {
   "cell_type": "code",
   "execution_count": null,
   "id": "1a9d4996-7ef7-42d8-b042-06cb2785f6df",
   "metadata": {},
   "outputs": [],
   "source": [
    "adata_solo_til = adata_solo[adata_solo.obs[\"sample_id\"].isin(['10mix-ICI1',\n",
    " '10mix-ICI2',\n",
    " '11mix-ICI1',\n",
    " '11mix-ICI2',\n",
    " 'GF-ICI1',\n",
    " 'GF-ICI1-plus',\n",
    " 'GF-ICI2',\n",
    " 'GF-ICI2-plus'])]"
   ]
  },
  {
   "cell_type": "code",
   "execution_count": null,
   "id": "bb8d777e-6b80-4a19-b584-9c82b5be9e56",
   "metadata": {},
   "outputs": [],
   "source": [
    "adata_solo_til.obs.index"
   ]
  },
  {
   "cell_type": "code",
   "execution_count": null,
   "id": "60639fe9-8b2c-4abf-8187-49859a2adfb6",
   "metadata": {},
   "outputs": [],
   "source": [
    "adata.obs"
   ]
  },
  {
   "cell_type": "code",
   "execution_count": null,
   "id": "9328bb09-741b-4b0e-8e7c-ac47d5d50e83",
   "metadata": {},
   "outputs": [],
   "source": [
    "adata_solo_til.obs[\"cell_type\"] = adata_solo_til.obs[\"cell_type\"].astype(\"str\")\n",
    "adata_solo_til.obs.loc[adata_til2.obs.index, \"cell_type\"] = adata_til2.obs[\"cell_type\"].astype(\"str\")\n"
   ]
  }
 ],
 "metadata": {
  "kernelspec": {
   "display_name": "crc_atlas",
   "language": "python",
   "name": "crc_atlas"
  },
  "language_info": {
   "codemirror_mode": {
    "name": "ipython",
    "version": 3
   },
   "file_extension": ".py",
   "mimetype": "text/x-python",
   "name": "python",
   "nbconvert_exporter": "python",
   "pygments_lexer": "ipython3",
   "version": "3.11.6"
  }
 },
 "nbformat": 4,
 "nbformat_minor": 5
}
