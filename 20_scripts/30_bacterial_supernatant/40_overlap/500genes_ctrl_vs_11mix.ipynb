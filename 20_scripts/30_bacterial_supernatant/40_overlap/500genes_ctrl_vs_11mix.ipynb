{
 "cells": [
  {
   "cell_type": "markdown",
   "id": "d826baad-9b52-4374-adf1-815a0ac8c0b5",
   "metadata": {},
   "source": [
    "## Batch1 vs Batch 2 ctrl_vs_11mix top 500 genes"
   ]
  },
  {
   "cell_type": "markdown",
   "id": "e54074e7-1b57-495e-bd6d-f6b81d77a700",
   "metadata": {},
   "source": [
    "Importing libraries"
   ]
  },
  {
   "cell_type": "code",
   "execution_count": null,
   "id": "db13d997-3877-4561-8adb-f9c5e6a065a5",
   "metadata": {},
   "outputs": [],
   "source": [
    "import decoupler as dc\n",
    "from scipy.stats import fisher_exact\n",
    "import matplotlib.pyplot as plt\n",
    "from matplotlib_venn import venn2\n",
    "\n",
    "\n",
    "# Only needed for visualization:\n",
    "import matplotlib.pyplot as plt\n",
    "import numpy as np\n",
    "import pandas as pd\n",
    "import scanpy as sc\n",
    "import seaborn as sns\n",
    "from anndata import AnnData"
   ]
  },
  {
   "cell_type": "markdown",
   "id": "be0e7644-25c5-4cfa-82fc-ae5423533cfc",
   "metadata": {},
   "source": [
    "Reading data from tsv Batch1 ctrl_vs_11mix IHWallGenes and Batch2 ctrl_vs_11mix IHWallGenes"
   ]
  },
  {
   "cell_type": "markdown",
   "id": "a1250f7e-cdf4-4f46-8a1c-a1f1c70d966a",
   "metadata": {},
   "source": [
    "Selecting only the TOP 100 GENES and the columns \"log2FoldChange\",\"pvalue\",\"padj\",\"gene_name\""
   ]
  },
  {
   "cell_type": "code",
   "execution_count": null,
   "id": "8bb9adf3-047f-4fc8-a0df-6fde8c0a77c5",
   "metadata": {},
   "outputs": [],
   "source": [
    "# Batch1 ctrl_vs_11mix IHWallGenes and Batch2 ctrl_vs_11mix IHWallGenes\n",
    "b1_ctrl_vs_11mix_all =\"/data/projects/2021/MicrobialMetabolites/bacterial-supernatant/20_deseq2icbi/batch1/paired_grp/deseq2_ctrl_vs_11mix/11mix_ctrl_IHWallGenes.tsv\"\n",
    "b2_ctrl_vs_11mix_all = \"/data/projects/2021/MicrobialMetabolites/bacterial-supernatant/20_deseq2icbi/batch2/paired_grp/deseq2_ctrl_vs_11mix/11mix_ctrl_IHWallGenes.tsv\"\n",
    "\n",
    "b1_ctrl_vs_11mix_all = pd.read_csv(b1_ctrl_vs_11mix_all, sep=\"\\t\")\n",
    "b2_ctrl_vs_11mix_all = pd.read_csv(b2_ctrl_vs_11mix_all, sep=\"\\t\")"
   ]
  },
  {
   "cell_type": "code",
   "execution_count": null,
   "id": "717855ef-42eb-43c6-a3b1-7eee63498270",
   "metadata": {},
   "outputs": [],
   "source": [
    "#B1 \n",
    "b1_ctrl_vs_11mix_500 = b1_ctrl_vs_11mix_all.iloc[0:500,:]\n",
    "b1_ctrl_vs_11mix_500 = b1_ctrl_vs_11mix_500[[\"log2FoldChange\",\"pvalue\",\"padj\",\"gene_name\"]]\n",
    "# B2\n",
    "b2_ctrl_vs_11mix_500 = b2_ctrl_vs_11mix_all.iloc[0:500,:]\n",
    "b2_ctrl_vs_11mix_500 = b2_ctrl_vs_11mix_500[[\"log2FoldChange\",\"pvalue\",\"padj\",\"gene_name\"]]\n"
   ]
  },
  {
   "cell_type": "markdown",
   "id": "63a81e24-f477-4feb-aeee-5f2ed65ba461",
   "metadata": {},
   "source": [
    "Check that the genes only appear once "
   ]
  },
  {
   "cell_type": "code",
   "execution_count": null,
   "id": "3e45cf5c-37df-463a-8c66-dde586577b9f",
   "metadata": {},
   "outputs": [],
   "source": [
    "b1_ctrl_vs_11mix_500[\"gene_name\"].value_counts().max()"
   ]
  },
  {
   "cell_type": "code",
   "execution_count": null,
   "id": "bd6ec5ec-15a6-4b63-8c59-c56d8a24de8b",
   "metadata": {},
   "outputs": [],
   "source": [
    "b2_ctrl_vs_11mix_500[\"gene_name\"].value_counts().max()"
   ]
  },
  {
   "cell_type": "markdown",
   "id": "5aba8565-2dc8-4bbb-8e05-bebca980afc7",
   "metadata": {},
   "source": [
    "Creating a dataframe for each batch with only gene_name information"
   ]
  },
  {
   "cell_type": "code",
   "execution_count": null,
   "id": "c5c5d01f-fea6-49f8-b3d1-80f22ea83f57",
   "metadata": {},
   "outputs": [],
   "source": [
    "b1_ctrl_vs_11mix_500_gene = pd.DataFrame(b1_ctrl_vs_11mix_500[\"gene_name\"])"
   ]
  },
  {
   "cell_type": "code",
   "execution_count": null,
   "id": "6da8e26a-6ab7-415d-a81c-b2188dcccdb5",
   "metadata": {},
   "outputs": [],
   "source": [
    "b1_ctrl_vs_11mix_500_gene"
   ]
  },
  {
   "cell_type": "code",
   "execution_count": null,
   "id": "bc160441-cacb-4b68-a840-3dc9d317e15b",
   "metadata": {},
   "outputs": [],
   "source": [
    "b2_ctrl_vs_11mix_500_gene = pd.DataFrame(b2_ctrl_vs_11mix_500[\"gene_name\"])"
   ]
  },
  {
   "cell_type": "code",
   "execution_count": null,
   "id": "7f4ad13d-8a39-4e7e-9b37-5d3111daf67e",
   "metadata": {},
   "outputs": [],
   "source": [
    "b2_ctrl_vs_11mix_500_gene"
   ]
  },
  {
   "cell_type": "markdown",
   "id": "1483af26-11bb-432c-b0b1-3c99a5e42365",
   "metadata": {},
   "source": [
    "Finding common elements between the 2 datasets (b1 and b2 ctrl_vs_11mix)"
   ]
  },
  {
   "cell_type": "code",
   "execution_count": null,
   "id": "0fb77425-4c57-425a-b6d3-df3cea0f0dc3",
   "metadata": {},
   "outputs": [],
   "source": [
    "common_b1_b2_ctrl_vs_11mix = list(set(b1_ctrl_vs_11mix_500_gene.gene_name) & set(b2_ctrl_vs_11mix_500_gene.gene_name))"
   ]
  },
  {
   "cell_type": "code",
   "execution_count": null,
   "id": "57763d50-acba-40d6-9474-53daff68fdda",
   "metadata": {
    "tags": []
   },
   "outputs": [],
   "source": [
    "# The union of the genes present in the All genes table from Batch1 and Batch2 \n",
    "genes_universe = list(set(b1_ctrl_vs_11mix_all.gene_name) & set(b2_ctrl_vs_11mix_all.gene_name))"
   ]
  },
  {
   "cell_type": "code",
   "execution_count": null,
   "id": "ee72f4ae-5081-45e8-b5ac-00f00665518f",
   "metadata": {},
   "outputs": [],
   "source": [
    "len(genes_universe)"
   ]
  },
  {
   "cell_type": "code",
   "execution_count": null,
   "id": "eb4ebcdd-a0ad-4cbb-9fdf-9e411da151ba",
   "metadata": {},
   "outputs": [],
   "source": [
    "len(common_b1_b2_ctrl_vs_11mix)"
   ]
  },
  {
   "cell_type": "code",
   "execution_count": null,
   "id": "93b2186b-bd54-4a8c-be86-e8c750ad0e57",
   "metadata": {},
   "outputs": [],
   "source": [
    "common_b1_b2_ctrl_vs_11mix"
   ]
  },
  {
   "cell_type": "code",
   "execution_count": null,
   "id": "57ebc01e-8326-45fc-841e-94254e93e536",
   "metadata": {},
   "outputs": [],
   "source": [
    "b1_common = b1_ctrl_vs_11mix_500[b1_ctrl_vs_11mix_500[\"gene_name\"].isin(common_b1_b2_ctrl_vs_11mix)]\n",
    "b1_common"
   ]
  },
  {
   "cell_type": "code",
   "execution_count": null,
   "id": "c01af895-378f-49ec-831d-70c60181d1d3",
   "metadata": {},
   "outputs": [],
   "source": [
    "b2_common = b2_ctrl_vs_11mix_500[b2_ctrl_vs_11mix_500[\"gene_name\"].isin(common_b1_b2_ctrl_vs_11mix)]\n",
    "b2_common"
   ]
  },
  {
   "cell_type": "markdown",
   "id": "ffc68359-0d11-49f6-969b-782bfe658e97",
   "metadata": {},
   "source": [
    "### Fisher exact test\n",
    "Test if the number of common genes is larger than what would be obtained by chance"
   ]
  },
  {
   "cell_type": "code",
   "execution_count": null,
   "id": "24816495-282a-482e-adeb-d1a79ee3f368",
   "metadata": {},
   "outputs": [],
   "source": [
    "b1_and_b2 = len(common_b1_b2_ctrl_vs_11mix)\n",
    "notb1_onlyb2 = 500 - b1_and_b2 \n",
    "notb2_onlyb1 = 500 - b1_and_b2 \n",
    "notb1_notb2 = len(genes_universe)\n",
    "oddsratio, pvalue = fisher_exact([[b1_and_b2, notb1_onlyb2], [notb2_onlyb1, notb1_notb2]])\n",
    "pvalue"
   ]
  },
  {
   "cell_type": "code",
   "execution_count": null,
   "id": "4dd93954-3401-416b-8687-3372caf98d85",
   "metadata": {},
   "outputs": [],
   "source": [
    "oddsratio"
   ]
  },
  {
   "cell_type": "markdown",
   "id": "11c7c85a-1d05-471a-95c3-567cfb9ba130",
   "metadata": {
    "tags": []
   },
   "source": [
    "The p value is less than 5% (0.05), therefore we conclude that our observation is statistically significant. \n",
    "### The number of intersected genes is higher than what we would expect by random chance.  "
   ]
  },
  {
   "cell_type": "code",
   "execution_count": null,
   "id": "97dbd270-01d8-453a-9596-8a070bc1dc13",
   "metadata": {},
   "outputs": [],
   "source": [
    "# Plot intersection\n",
    "venn2(subsets = (len(b1_ctrl_vs_11mix_500), len(b2_ctrl_vs_11mix_500), len(common_b1_b2_ctrl_vs_11mix)), set_labels = ('Batch1', 'Batch2'))\n",
    "plt.show()"
   ]
  }
 ],
 "metadata": {
  "kernelspec": {
   "display_name": "Python 3 (ipykernel)",
   "language": "python",
   "name": "python3"
  },
  "language_info": {
   "codemirror_mode": {
    "name": "ipython",
    "version": 3
   },
   "file_extension": ".py",
   "mimetype": "text/x-python",
   "name": "python",
   "nbconvert_exporter": "python",
   "pygments_lexer": "ipython3",
   "version": "3.11.8"
  }
 },
 "nbformat": 4,
 "nbformat_minor": 5
}
