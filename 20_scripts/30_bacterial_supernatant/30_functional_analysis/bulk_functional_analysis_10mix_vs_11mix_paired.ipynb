{
 "cells": [
  {
   "cell_type": "markdown",
   "id": "5146494c-2bf9-49ee-87d1-d67f29d517a4",
   "metadata": {},
   "source": [
    "## Bulk functional analysis for Control = 10mix and perturbation = 11mix"
   ]
  },
  {
   "cell_type": "markdown",
   "id": "ed316f8d-d7a8-42a8-88a2-c2593aa82d3c",
   "metadata": {},
   "source": [
    "### Import libraries"
   ]
  },
  {
   "cell_type": "code",
   "execution_count": null,
   "id": "a5dfbcb7-c3f0-4509-ad27-7da0926673a3",
   "metadata": {
    "tags": []
   },
   "outputs": [],
   "source": [
    "import decoupler as dc\n",
    "\n",
    "# Only needed for visualization:\n",
    "import matplotlib.pyplot as plt\n",
    "import numpy as np\n",
    "import pandas as pd\n",
    "import scanpy as sc\n",
    "import seaborn as sns\n",
    "from anndata import AnnData"
   ]
  },
  {
   "cell_type": "markdown",
   "id": "534cad5a-479a-4954-9273-f57bf983e986",
   "metadata": {
    "tags": []
   },
   "source": [
    "### Read data from  DESe2"
   ]
  },
  {
   "cell_type": "code",
   "execution_count": null,
   "id": "5772e7a6-d521-449c-9a95-4c24d8a3bb51",
   "metadata": {},
   "outputs": [],
   "source": [
    "# Differencial expression analysis\n",
    "path_11mix_vs_10mix = \"/data/projects/2021/MicrobialMetabolites/bacterial-supernatant/20_deseq2icbi/paired_grp/deseq2_11mix_vs_10mix/11mix_10mix_IHWallGenes.tsv\"\n",
    "\n",
    "IHWallGenes = pd.read_csv(path_11mix_vs_10mix, sep=\"\\t\")"
   ]
  },
  {
   "cell_type": "markdown",
   "id": "f0d32072-3a26-4bd9-999c-2edcc2e6715e",
   "metadata": {
    "tags": []
   },
   "source": [
    "#### Remove NaN from Log2FC and pvalue columns"
   ]
  },
  {
   "cell_type": "code",
   "execution_count": null,
   "id": "51921210-87f0-4899-afca-3e81cbdaeae2",
   "metadata": {},
   "outputs": [],
   "source": [
    "IHWallGenes[\"log2FoldChange\"] = IHWallGenes[\"log2FoldChange\"].fillna(value=0)\n",
    "IHWallGenes[\"pvalue\"] = IHWallGenes[\"pvalue\"].fillna(value=1)"
   ]
  },
  {
   "cell_type": "code",
   "execution_count": null,
   "id": "c3de2ab5-aac2-4595-ba14-4a5cb4276468",
   "metadata": {},
   "outputs": [],
   "source": [
    "IHWallGenes[\"log2FoldChange\"].min()"
   ]
  },
  {
   "cell_type": "code",
   "execution_count": null,
   "id": "0817c9ed-dcbf-41f4-8216-9e0f29aa4fb2",
   "metadata": {},
   "outputs": [],
   "source": [
    "IHWallGenes[\"log2FoldChange\"].max()"
   ]
  },
  {
   "cell_type": "code",
   "execution_count": null,
   "id": "d27452a7-72ce-4c7f-a378-1dde873e2ed3",
   "metadata": {},
   "outputs": [],
   "source": [
    "IHWallGenes[\"pvalue\"].min()"
   ]
  },
  {
   "cell_type": "code",
   "execution_count": null,
   "id": "ba2d496c-bbc5-4f58-ad95-b468c9453fc8",
   "metadata": {},
   "outputs": [],
   "source": [
    "IHWallGenes[\"pvalue\"].max()"
   ]
  },
  {
   "cell_type": "markdown",
   "id": "573e3246-c93c-44f8-9cfa-a3fd130e3c93",
   "metadata": {},
   "source": [
    "#### Create the logFCs_icbi and pvalue_icbi dataframes"
   ]
  },
  {
   "cell_type": "code",
   "execution_count": null,
   "id": "661f002d-5a35-48ea-b873-c2ae9e54f717",
   "metadata": {},
   "outputs": [],
   "source": [
    "logFCs_icbi = IHWallGenes[[\"log2FoldChange\", \"gene_name\"]].set_index(\"gene_name\").T\n",
    "logFCs_icbi.index = (\"stat\",)"
   ]
  },
  {
   "cell_type": "code",
   "execution_count": null,
   "id": "5f2fd084-9771-4ac5-bc2a-27651cac7c0a",
   "metadata": {},
   "outputs": [],
   "source": [
    "logFCs_icbi"
   ]
  },
  {
   "cell_type": "code",
   "execution_count": null,
   "id": "0107e501-904f-41f4-a222-5e75b03fdc73",
   "metadata": {},
   "outputs": [],
   "source": [
    "pvalue_icbi = IHWallGenes[[\"pvalue\", \"gene_name\"]].set_index(\"gene_name\").T\n",
    "pvalue_icbi.index = (\"stat\",)\n",
    "pvalue_icbi"
   ]
  },
  {
   "cell_type": "code",
   "execution_count": null,
   "id": "cf543788-9ddd-4102-8d3a-8bc614f10633",
   "metadata": {},
   "outputs": [],
   "source": [
    "pvalue_icbi"
   ]
  },
  {
   "cell_type": "code",
   "execution_count": null,
   "id": "fe8a0f5b-6b8f-4dee-91fe-389359562fde",
   "metadata": {
    "tags": []
   },
   "outputs": [],
   "source": [
    "logFCs_icbi.shape"
   ]
  },
  {
   "cell_type": "markdown",
   "id": "b7883574-fef4-41db-8bf5-7472b92850ce",
   "metadata": {
    "tags": []
   },
   "source": [
    "#### Set name to None to avoid mistakes with dc function "
   ]
  },
  {
   "cell_type": "code",
   "execution_count": null,
   "id": "66abd117-7237-442c-b0bb-d535dd6f21a1",
   "metadata": {},
   "outputs": [],
   "source": [
    "pvalue_icbi.columns.name = None\n",
    "logFCs_icbi.columns.name = None"
   ]
  },
  {
   "cell_type": "code",
   "execution_count": null,
   "id": "7a5b5b26-9cec-4606-90d0-afdc62074aea",
   "metadata": {},
   "outputs": [],
   "source": [
    "logFCs_icbi"
   ]
  },
  {
   "cell_type": "code",
   "execution_count": null,
   "id": "b914c195-55c2-4c1c-a70f-6ecc2cb721c1",
   "metadata": {},
   "outputs": [],
   "source": [
    "pvalue_icbi"
   ]
  },
  {
   "cell_type": "markdown",
   "id": "d10302f9-6f4a-4ed6-9a00-35516f55ecbf",
   "metadata": {},
   "source": [
    "### Differential expression analysis "
   ]
  },
  {
   "cell_type": "code",
   "execution_count": null,
   "id": "4b690b76-12d3-4391-bba1-46d69f79af99",
   "metadata": {},
   "outputs": [],
   "source": [
    "dc.plot_volcano(logFCs_icbi, pvalue_icbi, \"stat\", top=15, sign_thr=0.05, lFCs_thr=0.5)"
   ]
  },
  {
   "cell_type": "markdown",
   "id": "1ab9a61b-0532-4e5b-95fc-041042d1d5c3",
   "metadata": {},
   "source": [
    "To excract the significant genes after FDR correction (p adjusted ). We have padjusted in the table IHWallGenes.tsv"
   ]
  },
  {
   "cell_type": "code",
   "execution_count": null,
   "id": "d3aae40a-0188-4c08-a60a-5420684e97a7",
   "metadata": {},
   "outputs": [],
   "source": [
    "top_genes = dc.get_top_targets(\n",
    "    logFCs_icbi,\n",
    "    pvalue_icbi,\n",
    "    name=\"deseq2_estimate\",\n",
    "    contrast=\"stat\",\n",
    "    sign_thr=0.05,\n",
    "    lFCs_thr=0.5,\n",
    ");"
   ]
  },
  {
   "cell_type": "code",
   "execution_count": null,
   "id": "89c2867c-312b-4df5-83e0-eb3c95ead751",
   "metadata": {},
   "outputs": [],
   "source": [
    "top_genes"
   ]
  },
  {
   "cell_type": "markdown",
   "id": "9d125c6e-3026-467f-84fd-c42cb28ad6b3",
   "metadata": {},
   "source": [
    "###  Pathwax activity inference"
   ]
  },
  {
   "cell_type": "markdown",
   "id": "83bbaf2b-d873-4c6a-85f1-ce296c360bc2",
   "metadata": {},
   "source": [
    "To estimate pathway actrivity. (upregulated and downregulted) Activities and p values for each pathway."
   ]
  },
  {
   "cell_type": "code",
   "execution_count": null,
   "id": "f18ba485-810c-4ba5-9546-5e9be4b54df1",
   "metadata": {},
   "outputs": [],
   "source": [
    "# Retrieve PROGENy model weights\n",
    "progeny = dc.get_progeny(organism=\"mouse\", top=300)\n",
    "\n",
    "# Infer pathway activities with consensus\n",
    "pathway_acts_icbi, pathway_pvals_icbi = dc.run_consensus(mat=logFCs_icbi, net=progeny)\n",
    "pathway_acts_icbi"
   ]
  },
  {
   "cell_type": "code",
   "execution_count": null,
   "id": "0ae72adb-8a77-48b6-b38c-ff72761ee0d1",
   "metadata": {},
   "outputs": [],
   "source": [
    "pathway_pvals_icbi"
   ]
  },
  {
   "cell_type": "markdown",
   "id": "39bca4e0-7b3a-4c04-a9fa-5d174c4564e4",
   "metadata": {
    "tags": []
   },
   "source": [
    "### P value correction\n",
    "\n",
    "- Thus, to calculate the Benjamini-Hochberg critical value for each p-value,\n",
    "- we can use the following formula: (i/20)*0.2 where i = rank of p-value\n",
    "- qvalue = An FDR-adjusted p-value"
   ]
  },
  {
   "cell_type": "code",
   "execution_count": null,
   "id": "aa45528b-a37c-463d-8e21-2488b3fc86ab",
   "metadata": {},
   "outputs": [],
   "source": [
    "pathway_pvals_icbi.columns"
   ]
  },
  {
   "cell_type": "code",
   "execution_count": null,
   "id": "a43deeab-e0c5-444a-82b9-b2cbbd208861",
   "metadata": {},
   "outputs": [],
   "source": [
    "df = pathway_pvals_icbi.T\n",
    "col_one_list = df[\"stat\"].tolist()"
   ]
  },
  {
   "cell_type": "code",
   "execution_count": null,
   "id": "b2abe6a8-cde5-4c27-8218-579138e7e22e",
   "metadata": {},
   "outputs": [],
   "source": [
    "from statsmodels.stats.multitest import fdrcorrection\n",
    "\n",
    "rejected, qvalue = fdrcorrection(col_one_list)"
   ]
  },
  {
   "cell_type": "code",
   "execution_count": null,
   "id": "47fc9423-183d-4e31-8613-85eb0aa098b8",
   "metadata": {},
   "outputs": [],
   "source": [
    "qvalue"
   ]
  },
  {
   "cell_type": "code",
   "execution_count": null,
   "id": "03a3e99e-0d9e-4bc4-87c8-d5b16ee79429",
   "metadata": {},
   "outputs": [],
   "source": [
    "pathway_pvals_icbi.columns"
   ]
  },
  {
   "cell_type": "code",
   "execution_count": null,
   "id": "ad0b574c-7a2d-4a0f-bf6c-4c66de0cb335",
   "metadata": {},
   "outputs": [],
   "source": [
    "df_qvalues = pd.DataFrame(index = pathway_pvals_icbi.columns, data = qvalue)\n",
    "qvalues_pathway =df_qvalues.sort_values(0).T\n"
   ]
  },
  {
   "cell_type": "code",
   "execution_count": null,
   "id": "42026b8e-9597-4990-a64b-c44008ae917f",
   "metadata": {
    "tags": []
   },
   "outputs": [],
   "source": [
    "dc.plot_barplot(pathway_acts_icbi, \"stat\", top=25, vertical=False)"
   ]
  },
  {
   "cell_type": "code",
   "execution_count": null,
   "id": "9edaba41-69b8-4370-a4af-d871cf81bea5",
   "metadata": {},
   "outputs": [],
   "source": [
    "dc.plot_volcano(pathway_acts_icbi, pathway_pvals_icbi, \"stat\")"
   ]
  },
  {
   "cell_type": "code",
   "execution_count": null,
   "id": "f268cfae-36d6-4eeb-a47a-ccb77249e472",
   "metadata": {},
   "outputs": [],
   "source": [
    "qvalues_pathway.columns.name = None"
   ]
  },
  {
   "cell_type": "code",
   "execution_count": null,
   "id": "008aabd1-112d-45e1-88a1-ac871d10bfbf",
   "metadata": {},
   "outputs": [],
   "source": [
    "qdf_pw = qvalues_pathway.T\n",
    "qdf_pw .rename(columns ={0:\"stat\"}, inplace = True)\n",
    "qdf_pw "
   ]
  },
  {
   "cell_type": "code",
   "execution_count": null,
   "id": "9ba42add-1076-40ad-84ef-6439aea02231",
   "metadata": {},
   "outputs": [],
   "source": [
    "qvalues_pathway = qdf_pw.T"
   ]
  },
  {
   "cell_type": "code",
   "execution_count": null,
   "id": "851a49f2-5a50-49bc-9ec4-21768102645c",
   "metadata": {},
   "outputs": [],
   "source": [
    "qvalues_pathway"
   ]
  },
  {
   "cell_type": "markdown",
   "id": "880aeb4d-39a3-4b10-986c-9edfa4dab763",
   "metadata": {},
   "source": [
    "Visualize the most active and inactive transcription factors"
   ]
  },
  {
   "cell_type": "code",
   "execution_count": null,
   "id": "0243fc5b-95ad-4b94-8de0-159480bbf837",
   "metadata": {},
   "outputs": [],
   "source": [
    "dc.plot_volcano(pathway_acts_icbi,qvalues_pathway, \"stat\")"
   ]
  },
  {
   "cell_type": "markdown",
   "id": "29ed7a29-e8b0-409b-bb14-21dcb08cc2fd",
   "metadata": {},
   "source": [
    "Visualize  the pathways that increased or decreased their activty "
   ]
  },
  {
   "cell_type": "markdown",
   "id": "11593bd5-5240-438c-8886-1cbd660f2b87",
   "metadata": {},
   "source": [
    "Visualize the targets of NFkB and JAK-STAT\n",
    "* Below the data is treated to get rid of duplicated gene names* "
   ]
  },
  {
   "cell_type": "code",
   "execution_count": null,
   "id": "2f8d68bf-7704-494f-a073-081a6348f987",
   "metadata": {},
   "outputs": [],
   "source": [
    "trans = logFCs_icbi.T\n",
    "trans[\"gene_name\"] = trans.index"
   ]
  },
  {
   "cell_type": "code",
   "execution_count": null,
   "id": "6e4d19bc-1744-435d-b348-16d5658de4aa",
   "metadata": {
    "tags": []
   },
   "outputs": [],
   "source": [
    "trans"
   ]
  },
  {
   "cell_type": "code",
   "execution_count": null,
   "id": "14728d64-d81e-4856-9ad2-f330c2554ee6",
   "metadata": {
    "tags": []
   },
   "outputs": [],
   "source": [
    "name_counts = trans[\"gene_name\"].value_counts()"
   ]
  },
  {
   "cell_type": "code",
   "execution_count": null,
   "id": "a963ac8c-7a4a-4595-942c-d0ca0273a2ec",
   "metadata": {
    "tags": []
   },
   "outputs": [],
   "source": [
    "trans.loc[name_counts[name_counts == 1].index]"
   ]
  },
  {
   "cell_type": "code",
   "execution_count": null,
   "id": "9d7ff568-2384-4783-b1b5-43785d662a31",
   "metadata": {
    "tags": []
   },
   "outputs": [],
   "source": [
    "name_counts"
   ]
  },
  {
   "cell_type": "code",
   "execution_count": null,
   "id": "87a4ebca-b663-44b7-9ded-0ac6476b42f8",
   "metadata": {},
   "outputs": [],
   "source": [
    "name_counts[name_counts == 1]"
   ]
  },
  {
   "cell_type": "code",
   "execution_count": null,
   "id": "234a63f3-0324-45e2-8d84-03d1a5b99ede",
   "metadata": {},
   "outputs": [],
   "source": [
    "name_counts[name_counts == 1].index"
   ]
  },
  {
   "cell_type": "code",
   "execution_count": null,
   "id": "644cba89-932b-414f-8a26-dede92ec1617",
   "metadata": {},
   "outputs": [],
   "source": [
    "logFCs_icbi_nodups = logFCs_icbi.loc[:,  name_counts[name_counts == 1].index]"
   ]
  },
  {
   "cell_type": "code",
   "execution_count": null,
   "id": "defd7f47-3a74-408f-843c-dc56e5188b17",
   "metadata": {},
   "outputs": [],
   "source": [
    "trans_p = pvalue_icbi.T\n",
    "trans_p[\"gene_name\"] = trans_p.index"
   ]
  },
  {
   "cell_type": "code",
   "execution_count": null,
   "id": "b8061142-66af-471e-ad8e-c718c9463e49",
   "metadata": {},
   "outputs": [],
   "source": [
    "name_counts_p = trans_p[\"gene_name\"].value_counts()"
   ]
  },
  {
   "cell_type": "code",
   "execution_count": null,
   "id": "f2e34901-ff97-45c4-99a7-7f755b116275",
   "metadata": {},
   "outputs": [],
   "source": [
    "name_counts_p"
   ]
  },
  {
   "cell_type": "code",
   "execution_count": null,
   "id": "59f4ee11-6cff-403f-bc70-f2987751033f",
   "metadata": {},
   "outputs": [],
   "source": [
    "trans_p.loc[name_counts_p[name_counts_p==1].index]"
   ]
  },
  {
   "cell_type": "code",
   "execution_count": null,
   "id": "87f210c0-08c3-43db-a705-7ee84a3587ac",
   "metadata": {},
   "outputs": [],
   "source": [
    "name_counts_p[name_counts_p==1]"
   ]
  },
  {
   "cell_type": "code",
   "execution_count": null,
   "id": "ee32e165-d683-431c-b402-6c77da43e909",
   "metadata": {},
   "outputs": [],
   "source": [
    "pvalue_icbi_nodups = pvalue_icbi.loc[:,  name_counts_p[name_counts_p == 1].index]\n"
   ]
  },
  {
   "cell_type": "code",
   "execution_count": null,
   "id": "42e98ac3-ae80-432b-bf8e-ec2a9723ebec",
   "metadata": {},
   "outputs": [],
   "source": [
    "# Volcano plot for the targets of NFkB\n",
    "\n",
    "dc.plot_volcano(\n",
    "    logFCs_icbi_nodups,\n",
    "    pvalue_icbi_nodups,\n",
    "    \"stat\",\n",
    "    name=\"NFkB\",\n",
    "    net=progeny,\n",
    "    top=5,\n",
    "    sign_thr=0.05,\n",
    "    lFCs_thr=0.5,\n",
    ")"
   ]
  },
  {
   "cell_type": "code",
   "execution_count": null,
   "id": "94860477-10b8-460f-b8d7-e43b10cede74",
   "metadata": {},
   "outputs": [],
   "source": [
    "# Volcano plot for the targets of JAK-STAT\n",
    "\n",
    "dc.plot_volcano(\n",
    "    logFCs_icbi_nodups,\n",
    "    pvalue_icbi_nodups,\n",
    "    \"stat\",\n",
    "    name=\"JAK-STAT\",\n",
    "    net=progeny,\n",
    "    top=5,\n",
    "    sign_thr=0.05,\n",
    "    lFCs_thr=0.5,\n",
    ")"
   ]
  },
  {
   "cell_type": "markdown",
   "id": "418091d1-472e-4ee3-aa2f-4f960ead00c2",
   "metadata": {
    "tags": []
   },
   "source": [
    "### Transcription factor activity"
   ]
  },
  {
   "cell_type": "markdown",
   "id": "1f10d7d7-9259-42c7-b7d1-342a53dc98b8",
   "metadata": {},
   "source": [
    "Estimate transcription factor activity. We obtain p values and activities for each transcription factor. "
   ]
  },
  {
   "cell_type": "code",
   "execution_count": null,
   "id": "9e243fa5-643d-4305-b2ff-715dcba661af",
   "metadata": {},
   "outputs": [],
   "source": [
    "# Retrieve DoRothEA gene regulatory network\n",
    "dorothea = dc.get_dorothea(organism=\"mouse\")\n",
    "\n",
    "# Infer pathway activities with consensus\n",
    "tf_acts_icbi, tf_pvals = dc.run_consensus(mat=logFCs_icbi, net=dorothea)\n",
    "tf_acts_icbi"
   ]
  },
  {
   "cell_type": "code",
   "execution_count": null,
   "id": "3ffa3377-7aef-4d39-b4dc-acd9adce706a",
   "metadata": {},
   "outputs": [],
   "source": [
    "tf_pvals"
   ]
  },
  {
   "cell_type": "markdown",
   "id": "948a74d8-1e71-4ac4-a23a-a3de1c368e02",
   "metadata": {
    "tags": []
   },
   "source": [
    "### P value correction\n",
    "\n",
    "- Thus, to calculate the Benjamini-Hochberg critical value for each p-value,\n",
    "- we can use the following formula: (i/20)*0.2 where i = rank of p-value\n",
    "- qvalue = An FDR-adjusted p-value"
   ]
  },
  {
   "cell_type": "code",
   "execution_count": null,
   "id": "da80c29b-ad43-42ce-8ade-62521ad4ffa1",
   "metadata": {},
   "outputs": [],
   "source": [
    "tf_pvals.columns"
   ]
  },
  {
   "cell_type": "code",
   "execution_count": null,
   "id": "6e7fd8a8-ab64-4007-aa1b-a4b0cc6416eb",
   "metadata": {},
   "outputs": [],
   "source": [
    "df2 = tf_pvals.T\n",
    "col_one_list2 = df2[\"stat\"].tolist()"
   ]
  },
  {
   "cell_type": "code",
   "execution_count": null,
   "id": "bf585c47-9f06-454b-b75a-54dfc89d4764",
   "metadata": {},
   "outputs": [],
   "source": [
    "from statsmodels.stats.multitest import fdrcorrection\n",
    "\n",
    "rejected, qvalue2 = fdrcorrection(col_one_list2)"
   ]
  },
  {
   "cell_type": "code",
   "execution_count": null,
   "id": "a655547c-ba0f-4337-9dcf-7ca89205eb4e",
   "metadata": {},
   "outputs": [],
   "source": [
    "qvalue2"
   ]
  },
  {
   "cell_type": "code",
   "execution_count": null,
   "id": "5090426f-b0b0-4521-ab41-e6c3a23cba23",
   "metadata": {},
   "outputs": [],
   "source": [
    "tf_pvals.columns"
   ]
  },
  {
   "cell_type": "code",
   "execution_count": null,
   "id": "bc36be33-f7e6-4a75-a74b-4e9523336226",
   "metadata": {},
   "outputs": [],
   "source": [
    "df_qvalues2 = pd.DataFrame(index = tf_pvals.columns, data = qvalue2)\n",
    "df_qvalues2.sort_values(0).T\n"
   ]
  },
  {
   "cell_type": "code",
   "execution_count": null,
   "id": "4ec1905c-7f02-4fb8-9650-b0d9e0beed1d",
   "metadata": {},
   "outputs": [],
   "source": [
    "df_qvalues2.rename(columns ={0:\"stat\"}, inplace = True)"
   ]
  },
  {
   "cell_type": "code",
   "execution_count": null,
   "id": "527292d6-67c4-4d44-99e2-588bc8de12b9",
   "metadata": {},
   "outputs": [],
   "source": [
    "qvalues_tf = df_qvalues2.T"
   ]
  },
  {
   "cell_type": "code",
   "execution_count": null,
   "id": "d0934a9b-9001-4c2d-addf-2bc8ed093e3f",
   "metadata": {},
   "outputs": [],
   "source": [
    "qvalues_tf"
   ]
  },
  {
   "cell_type": "code",
   "execution_count": null,
   "id": "81e03db8-f7b3-4dce-a4da-e1ee523a2d5f",
   "metadata": {},
   "outputs": [],
   "source": [
    "tf_pvals"
   ]
  },
  {
   "cell_type": "code",
   "execution_count": null,
   "id": "bb1286a0-8556-455a-8d8a-9fc4d05c3c23",
   "metadata": {},
   "outputs": [],
   "source": [
    "qvalues_tf .columns.name = None"
   ]
  },
  {
   "cell_type": "markdown",
   "id": "46b88749-7745-47e6-b558-d1324a77f301",
   "metadata": {},
   "source": [
    "Visualize the most active and inactive transcription factors"
   ]
  },
  {
   "cell_type": "code",
   "execution_count": null,
   "id": "1adc0fcb-4245-40aa-a6c8-eb7e511aed57",
   "metadata": {},
   "outputs": [],
   "source": [
    "dc.plot_volcano(tf_acts_icbi,qvalues_tf, \"stat\")"
   ]
  },
  {
   "cell_type": "code",
   "execution_count": null,
   "id": "88f07f1e-9f65-4c61-8b77-0b675316c937",
   "metadata": {},
   "outputs": [],
   "source": [
    "dc.plot_volcano(tf_acts_icbi, tf_pvals, \"stat\")"
   ]
  },
  {
   "cell_type": "code",
   "execution_count": null,
   "id": "43abacbb-8437-4068-8f13-cd779aa9611e",
   "metadata": {},
   "outputs": [],
   "source": [
    "dc.plot_barplot(tf_acts_icbi, \"stat\", top=25, vertical=True)"
   ]
  },
  {
   "cell_type": "markdown",
   "id": "e23edaad-12d0-4ae0-9ea8-287c7e8d716d",
   "metadata": {},
   "source": [
    "* The data for the volcano plots is treated to get rid of duplicated gene names* "
   ]
  },
  {
   "cell_type": "code",
   "execution_count": null,
   "id": "70f866a8-8700-4cd3-9465-db494fcc37af",
   "metadata": {},
   "outputs": [],
   "source": [
    "# Volcano plot to inpect the downstream targets of transcription factor E2f4 and Ahr\n",
    "\n",
    "dc.plot_volcano(logFCs_icbi_nodups, pvalue_icbi_nodups, 'stat', name='E2f4', net=dorothea, top=5, sign_thr=0.05, lFCs_thr=0.5)\n",
    "\n",
    "dc.plot_volcano(logFCs_icbi_nodups, pvalue_icbi_nodups, 'stat', name='Ahr', net=dorothea, top=5, sign_thr=0.05, lFCs_thr=0.5)"
   ]
  },
  {
   "cell_type": "markdown",
   "id": "5b78de80-5495-42cc-a8fe-a34bf0a577d5",
   "metadata": {},
   "source": [
    "### Functional enrichment of biological terms"
   ]
  },
  {
   "cell_type": "code",
   "execution_count": null,
   "id": "299d88f1-bb45-4357-8a8b-6ebd8cc6517d",
   "metadata": {},
   "outputs": [],
   "source": [
    "# Retrieve MSigDB resource\n",
    "msigdb = dc.get_resource('MSigDB')\n",
    "msigdb\n"
   ]
  },
  {
   "cell_type": "code",
   "execution_count": null,
   "id": "46081788-8bd8-4b63-a73c-768ba8ba3cb6",
   "metadata": {},
   "outputs": [],
   "source": [
    "# Filter by a desired geneset collection, for example hallmarks\n",
    "msigdb = msigdb[msigdb['collection']=='hallmark']\n",
    "msigdb = msigdb.drop_duplicates(['geneset', 'genesymbol'])\n",
    "\n",
    "# Infer enrichment with ora using significant deg\n",
    "top_genes = dc.get_top_targets(logFCs_icbi,pvalue_icbi, 'stat', sign_thr=0.05, lFCs_thr=1.5)\n",
    "enr_pvals = dc.get_ora_df(top_genes, msigdb, groupby='contrast', features='name', source='geneset', target='genesymbol')\n",
    "enr_pvals"
   ]
  },
  {
   "cell_type": "code",
   "execution_count": null,
   "id": "b4380fb8-3ee4-49a1-aa88-b8fbaee3ca57",
   "metadata": {},
   "outputs": [],
   "source": [
    "msigdb = msigdb[msigdb['collection']=='hallmark']"
   ]
  },
  {
   "cell_type": "code",
   "execution_count": null,
   "id": "eeda5056-c1fe-48dc-991f-5ea0adc792e3",
   "metadata": {},
   "outputs": [],
   "source": [
    "msigdb"
   ]
  },
  {
   "cell_type": "code",
   "execution_count": null,
   "id": "27ec56b6-ce21-49e6-8680-6cc6ae612276",
   "metadata": {},
   "outputs": [],
   "source": [
    "logFCs_icbi.T"
   ]
  }
 ],
 "metadata": {
  "kernelspec": {
   "display_name": "Python 3 (ipykernel)",
   "language": "python",
   "name": "python3"
  },
  "language_info": {
   "codemirror_mode": {
    "name": "ipython",
    "version": 3
   },
   "file_extension": ".py",
   "mimetype": "text/x-python",
   "name": "python",
   "nbconvert_exporter": "python",
   "pygments_lexer": "ipython3",
   "version": "3.11.8"
  }
 },
 "nbformat": 4,
 "nbformat_minor": 5
}
