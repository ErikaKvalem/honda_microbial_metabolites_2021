{
 "cells": [
  {
   "cell_type": "markdown",
   "id": "5146494c-2bf9-49ee-87d1-d67f29d517a4",
   "metadata": {},
   "source": [
    "## Bulk functional analysis for Control = 10mix and perturbation = 11mix"
   ]
  },
  {
   "cell_type": "code",
   "execution_count": null,
   "id": "7184214f-92f6-448f-b609-de474fc1c203",
   "metadata": {},
   "outputs": [],
   "source": [
    "import pandas as pd\n",
    "pd.set_option('display.max_rows', 500)"
   ]
  },
  {
   "cell_type": "markdown",
   "id": "ed316f8d-d7a8-42a8-88a2-c2593aa82d3c",
   "metadata": {},
   "source": [
    "### Import libraries"
   ]
  },
  {
   "cell_type": "code",
   "execution_count": null,
   "id": "a5dfbcb7-c3f0-4509-ad27-7da0926673a3",
   "metadata": {
    "tags": []
   },
   "outputs": [],
   "source": [
    "import decoupler as dc\n",
    "\n",
    "# Only needed for visualization:\n",
    "import matplotlib.pyplot as plt\n",
    "import numpy as np\n",
    "import pandas as pd\n",
    "import scanpy as sc\n",
    "#import scanpy_helpers as sh\n",
    "import seaborn as sns\n",
    "from itertools import zip_longest\n",
    "from anndata import AnnData\n",
    "from matplotlib import collections  as mc"
   ]
  },
  {
   "cell_type": "markdown",
   "id": "534cad5a-479a-4954-9273-f57bf983e986",
   "metadata": {
    "tags": []
   },
   "source": [
    "### Log TPM"
   ]
  },
  {
   "cell_type": "code",
   "execution_count": null,
   "id": "c2bd9889-8350-4df9-8695-cf1b0bf7484b",
   "metadata": {},
   "outputs": [],
   "source": [
    "# Log TPM\n",
    "tpm = \"/data/projects/2021/MicrobialMetabolites/bacterial-supernatant/10_rnaseq_pipeline/star_salmon/salmon.merged.gene_tpm.tsv\"\n",
    "\n",
    "tpm = pd.read_csv(tpm, sep=\"\\t\")"
   ]
  },
  {
   "cell_type": "code",
   "execution_count": null,
   "id": "1f65613c-bde6-426f-8c43-b9fc8ca151d2",
   "metadata": {},
   "outputs": [],
   "source": [
    "tpm"
   ]
  },
  {
   "cell_type": "code",
   "execution_count": null,
   "id": "059d12e9-8436-47d2-ba4a-4c3db72eac3f",
   "metadata": {},
   "outputs": [],
   "source": [
    "# Log TPM\n",
    "deg = \"/data/projects/2021/MicrobialMetabolites/bacterial-supernatant/20_deseq2icbi/paired_grp/deseq2_11mix_vs_10mix/11mix_10mix_IHWallGenes.tsv\"\n",
    "deg = pd.read_csv(deg, sep=\"\\t\")\n",
    "\n"
   ]
  },
  {
   "cell_type": "code",
   "execution_count": null,
   "id": "9e06f375-16b3-4a24-ba05-d781bb1ae6c1",
   "metadata": {},
   "outputs": [],
   "source": [
    "deg"
   ]
  },
  {
   "cell_type": "code",
   "execution_count": null,
   "id": "f167d9d9-d8c2-4132-b191-ecb7d01f5734",
   "metadata": {},
   "outputs": [],
   "source": [
    "deg = deg[deg[\"padj\"]<0.5]"
   ]
  },
  {
   "cell_type": "code",
   "execution_count": null,
   "id": "db2d21f2-e20d-4c16-8833-11b7073a0296",
   "metadata": {},
   "outputs": [],
   "source": [
    "deg.sort_values(\"padj\").head(300)"
   ]
  },
  {
   "cell_type": "code",
   "execution_count": null,
   "id": "f4fb7587-0297-4f17-9fa7-0c5d7041e756",
   "metadata": {},
   "outputs": [],
   "source": [
    "deg.iloc[0][\"padj\"]"
   ]
  },
  {
   "cell_type": "code",
   "execution_count": null,
   "id": "9b9eb13d-8709-4ae8-9887-d777f901b47e",
   "metadata": {},
   "outputs": [],
   "source": [
    "array = [\"ENSMUSG00000029371.8\",#Cxcl5\n",
    "\"ENSMUSG00000026822.15\",\n",
    "\"ENSMUSG00000029380.12\",#Cxcl1\n",
    "\"ENSMUSG00000031775.6\",\n",
    "\"ENSMUSG00000056293.13\",\n",
    "\"ENSMUSG00000058427.11\", #Cxcl2\n",
    "\"ENSMUSG00000021403.4\",\n",
    "\"ENSMUSG00000000627.16\",\n",
    "\"ENSMUSG00000018554.14\",\n",
    "\"ENSMUSG00000018774.14\",\n",
    "\"ENSMUSG00000055748.13\",\n",
    "\"ENSMUSG00000026463.18\",\n",
    "\"ENSMUSG00000026811.19\",\n",
    "\"ENSMUSG00000048992.10\",\n",
    "\"ENSMUSG00000028039.12\",\n",
    "\"ENSMUSG00000033735.10\",\n",
    "\"ENSMUSG00000090264.2\",\n",
    "\"ENSMUSG00000106300.2\",\n",
    "\"ENSMUSG00000037033.10\",\n",
    "\"ENSMUSG00000004665.11\",\n",
    "\"ENSMUSG00000026822.15\", #Lcn2\n",
    "\"ENSMUSG00000024401.15\", #Tnf\n",
    "\"ENSMUSG00000026166.15\"] #Ccl20"
   ]
  },
  {
   "cell_type": "code",
   "execution_count": null,
   "id": "fe10f9dc-9663-446c-a305-05f38a0b2a1c",
   "metadata": {},
   "outputs": [],
   "source": [
    "array[22]"
   ]
  },
  {
   "cell_type": "code",
   "execution_count": null,
   "id": "ed3fe00e-0eef-44ed-87c9-6885bcac45e4",
   "metadata": {},
   "outputs": [],
   "source": [
    "\n",
    "\n",
    "tpm_1 = tpm[tpm[\"gene_id\"]==array[0]]\n",
    "tpm_1 = tpm_1.iloc[:,2:]\n",
    "tpm_1 = tpm_1.T\n",
    "tpm_1 = tpm_1.reset_index()\n",
    "tpm_1[\"sample_conditions\"]= tpm_1[\"index\"].str.split(\"_\", n = 1, expand = False)\n",
    "tpm_1[\"sample\"] = 0 \n",
    "tpm_1[\"condition\"] = 0 \n",
    "for i in range(len(tpm_1)):\n",
    "    tpm_1[\"sample\"][i]= tpm_1[\"sample_conditions\"][i][0]\n",
    "    tpm_1[\"condition\"][i]= tpm_1[\"sample_conditions\"][i][1]\n",
    "    \n",
    "tpm_1 = tpm_1.drop(\"sample_conditions\", axis = 1)\n",
    "tpm_1 = tpm_1.drop(\"index\", axis = 1)\n",
    "tpm_1 = tpm_1[tpm_1[\"condition\"].str.contains(\"ctrl\") == False]\n",
    "#tpm_1 = tpm_1[tpm_1[\"sample\"].str.contains(\"mHCO4\") == False]\n",
    "\n",
    "sns.set(rc={'figure.figsize':(2,4)})\n",
    "sns.set(font_scale=0.9)\n",
    "custom_params = {\"axes.spines.right\": False, \"axes.spines.top\": False}\n",
    "#sns.set_style(\"whitegrid\")\n",
    "sns.set_theme(style=\"ticks\", rc=custom_params)\n",
    "\n",
    "plt.title(str(deg.iloc[1][\"gene_name\"]) + \" FDR \" + str(round(deg.iloc[1][\"padj\"],7)))\n",
    "sns.pointplot(data=tpm_1, x=\"condition\", y=tpm_1.columns[0], hue = \"sample\",dodge=True, scale = 1)\n",
    "sns.boxplot(data=tpm_1, x=\"condition\",  y=tpm_1.columns[0], dodge=True, boxprops=dict(alpha=.1))\n",
    "#define seaborn background colors\n",
    "\n",
    "plt.xlabel(\"Condition\")\n",
    "plt.ylabel(\"Log tpm\")\n",
    "plt.legend(fontsize='6')\n",
    "\n",
    "\n",
    "plt.savefig('output.png', dpi=500, bbox_inches='tight')\n",
    "\n",
    "\n"
   ]
  },
  {
   "cell_type": "code",
   "execution_count": null,
   "id": "44f44f89-ad2b-4957-aa44-2c667f1c9d69",
   "metadata": {},
   "outputs": [],
   "source": [
    "\n",
    "\n",
    "tpm_1 = tpm[tpm[\"gene_id\"]==array[2]]\n",
    "tpm_1 = tpm_1.iloc[:,2:]\n",
    "tpm_1 = tpm_1.T\n",
    "tpm_1 = tpm_1.reset_index()\n",
    "tpm_1[\"sample_conditions\"]= tpm_1[\"index\"].str.split(\"_\", n = 1, expand = False)\n",
    "tpm_1[\"sample\"] = 0 \n",
    "tpm_1[\"condition\"] = 0 \n",
    "for i in range(len(tpm_1)):\n",
    "    tpm_1[\"sample\"][i]= tpm_1[\"sample_conditions\"][i][0]\n",
    "    tpm_1[\"condition\"][i]= tpm_1[\"sample_conditions\"][i][1]\n",
    "    \n",
    "tpm_1 = tpm_1.drop(\"sample_conditions\", axis = 1)\n",
    "tpm_1 = tpm_1.drop(\"index\", axis = 1)\n",
    "tpm_1 = tpm_1[tpm_1[\"condition\"].str.contains(\"ctrl\") == False]\n",
    "#tpm_1 = tpm_1[tpm_1[\"sample\"].str.contains(\"mHCO4\") == False]\n",
    "\n",
    "sns.set(rc={'figure.figsize':(2,4)})\n",
    "sns.set(font_scale=0.9)\n",
    "#custom_params = {\"axes.spines.right\": False, \"axes.spines.top\": False}\n",
    "#sns.set_style(\"whitegrid\")\n",
    "sns.set_theme(style=\"ticks\", rc=custom_params)\n",
    "\n",
    "plt.title(str(deg.iloc[0][\"gene_name\"]) + \" FDR \" + str(round(deg.iloc[0][\"padj\"],5)))\n",
    "sns.pointplot(data=tpm_1, x=\"condition\", y=tpm_1.columns[0], hue = \"sample\",dodge=True, scale = 1)\n",
    "sns.boxplot(data=tpm_1, x=\"condition\",  y=tpm_1.columns[0], dodge=True, boxprops=dict(alpha=.1))\n",
    "#define seaborn background colors\n",
    "\n",
    "plt.xlabel(\"Condition\")\n",
    "plt.ylabel(\"Log tpm\")\n",
    "plt.legend(fontsize='6')\n",
    "\n",
    "\n",
    "plt.savefig('output.png', dpi=500, bbox_inches='tight')\n",
    "\n",
    "\n"
   ]
  },
  {
   "cell_type": "code",
   "execution_count": null,
   "id": "09b516d3-fb66-433f-bc13-7ee2045c6bbc",
   "metadata": {},
   "outputs": [],
   "source": [
    "\n",
    "\n",
    "tpm_1 = tpm[tpm[\"gene_id\"]==array[20]]\n",
    "tpm_1 = tpm_1.iloc[:,2:]\n",
    "tpm_1 = tpm_1.T\n",
    "tpm_1 = tpm_1.reset_index()\n",
    "tpm_1[\"sample_conditions\"]= tpm_1[\"index\"].str.split(\"_\", n = 1, expand = False)\n",
    "tpm_1[\"sample\"] = 0 \n",
    "tpm_1[\"condition\"] = 0 \n",
    "for i in range(len(tpm_1)):\n",
    "    tpm_1[\"sample\"][i]= tpm_1[\"sample_conditions\"][i][0]\n",
    "    tpm_1[\"condition\"][i]= tpm_1[\"sample_conditions\"][i][1]\n",
    "    \n",
    "tpm_1 = tpm_1.drop(\"sample_conditions\", axis = 1)\n",
    "tpm_1 = tpm_1.drop(\"index\", axis = 1)\n",
    "tpm_1 = tpm_1[tpm_1[\"condition\"].str.contains(\"ctrl\") == False]\n",
    "#tpm_1 = tpm_1[tpm_1[\"sample\"].str.contains(\"mHCO4\") == False]\n",
    "\n",
    "sns.set(rc={'figure.figsize':(2,4)})\n",
    "sns.set(font_scale=0.9)\n",
    "#custom_params = {\"axes.spines.right\": False, \"axes.spines.top\": False}\n",
    "#sns.set_style(\"whitegrid\")\n",
    "sns.set_theme(style=\"ticks\", rc=custom_params)\n",
    "\n",
    "plt.title(str(deg.iloc[131][\"gene_name\"]) + \" FDR \" + str(round(deg.iloc[131][\"padj\"],4)))\n",
    "sns.pointplot(data=tpm_1, x=\"condition\", y=tpm_1.columns[0], hue = \"sample\",dodge=True, scale = 1)\n",
    "sns.boxplot(data=tpm_1, x=\"condition\",  y=tpm_1.columns[0], dodge=True, boxprops=dict(alpha=.1))\n",
    "#define seaborn background colors\n",
    "\n",
    "plt.xlabel(\"Condition\")\n",
    "plt.ylabel(\"Log tpm\")\n",
    "plt.legend(fontsize='6')\n",
    "\n",
    "\n",
    "plt.savefig('output.png', dpi=500, bbox_inches='tight')\n",
    "\n",
    "\n"
   ]
  },
  {
   "cell_type": "code",
   "execution_count": null,
   "id": "5298ea87-4854-4a16-b4a1-00ec7fd01ba9",
   "metadata": {},
   "outputs": [],
   "source": [
    "\n",
    "\n",
    "tpm_1 = tpm[tpm[\"gene_id\"]==array[21]]\n",
    "tpm_1 = tpm_1.iloc[:,2:]\n",
    "tpm_1 = tpm_1.T\n",
    "tpm_1 = tpm_1.reset_index()\n",
    "tpm_1[\"sample_conditions\"]= tpm_1[\"index\"].str.split(\"_\", n = 1, expand = False)\n",
    "tpm_1[\"sample\"] = 0 \n",
    "tpm_1[\"condition\"] = 0 \n",
    "for i in range(len(tpm_1)):\n",
    "    tpm_1[\"sample\"][i]= tpm_1[\"sample_conditions\"][i][0]\n",
    "    tpm_1[\"condition\"][i]= tpm_1[\"sample_conditions\"][i][1]\n",
    "    \n",
    "tpm_1 = tpm_1.drop(\"sample_conditions\", axis = 1)\n",
    "tpm_1 = tpm_1.drop(\"index\", axis = 1)\n",
    "tpm_1 = tpm_1[tpm_1[\"condition\"].str.contains(\"ctrl\") == False]\n",
    "#tpm_1 = tpm_1[tpm_1[\"sample\"].str.contains(\"mHCO4\") == False]\n",
    "\n",
    "sns.set(rc={'figure.figsize':(2,4)})\n",
    "sns.set(font_scale=0.9)\n",
    "#custom_params = {\"axes.spines.right\": False, \"axes.spines.top\": False}\n",
    "#sns.set_style(\"whitegrid\")\n",
    "sns.set_theme(style=\"ticks\", rc=custom_params)\n",
    "\n",
    "plt.title(str(deg.iloc[70][\"gene_name\"]) + \" FDR \" + str(round(deg.iloc[70][\"padj\"],4)))\n",
    "sns.pointplot(data=tpm_1, x=\"condition\", y=tpm_1.columns[0], hue = \"sample\",dodge=True, scale = 1)\n",
    "sns.boxplot(data=tpm_1, x=\"condition\",  y=tpm_1.columns[0], dodge=True, boxprops=dict(alpha=.1))\n",
    "#define seaborn background colors\n",
    "\n",
    "plt.xlabel(\"Condition\")\n",
    "plt.ylabel(\"Log tpm\")\n",
    "plt.legend(fontsize='6')\n",
    "\n",
    "\n",
    "plt.savefig('output.png', dpi=500, bbox_inches='tight')\n",
    "\n",
    "\n"
   ]
  },
  {
   "cell_type": "code",
   "execution_count": null,
   "id": "e646f3d9-f535-48bc-8fd3-c78526b977f6",
   "metadata": {},
   "outputs": [],
   "source": [
    "\n",
    "\n",
    "tpm_1 = tpm[tpm[\"gene_id\"]==array[22]]\n",
    "tpm_1 = tpm_1.iloc[:,2:]\n",
    "tpm_1 = tpm_1.T\n",
    "tpm_1 = tpm_1.reset_index()\n",
    "tpm_1[\"sample_conditions\"]= tpm_1[\"index\"].str.split(\"_\", n = 1, expand = False)\n",
    "tpm_1[\"sample\"] = 0 \n",
    "tpm_1[\"condition\"] = 0 \n",
    "for i in range(len(tpm_1)):\n",
    "    tpm_1[\"sample\"][i]= tpm_1[\"sample_conditions\"][i][0]\n",
    "    tpm_1[\"condition\"][i]= tpm_1[\"sample_conditions\"][i][1]\n",
    "    \n",
    "tpm_1 = tpm_1.drop(\"sample_conditions\", axis = 1)\n",
    "tpm_1 = tpm_1.drop(\"index\", axis = 1)\n",
    "tpm_1 = tpm_1[tpm_1[\"condition\"].str.contains(\"ctrl\") == False]\n",
    "#tpm_1 = tpm_1[tpm_1[\"sample\"].str.contains(\"mHCO4\") == False]\n",
    "\n",
    "sns.set(rc={'figure.figsize':(2,4)})\n",
    "sns.set(font_scale=0.9)\n",
    "#custom_params = {\"axes.spines.right\": False, \"axes.spines.top\": False}\n",
    "#sns.set_style(\"whitegrid\")\n",
    "sns.set_theme(style=\"ticks\", rc=custom_params)\n",
    "\n",
    "plt.title(str(deg.iloc[61][\"gene_name\"]) + \" FDR \" + str(round(deg.iloc[61][\"padj\"],4)))\n",
    "sns.pointplot(data=tpm_1, x=\"condition\", y=tpm_1.columns[0], hue = \"sample\",dodge=True, scale = 1)\n",
    "sns.boxplot(data=tpm_1, x=\"condition\",  y=tpm_1.columns[0], dodge=True, boxprops=dict(alpha=.1))\n",
    "#define seaborn background colors\n",
    "\n",
    "plt.xlabel(\"Condition\")\n",
    "plt.ylabel(\"Log tpm\")\n",
    "plt.legend(fontsize='6')\n",
    "\n",
    "\n",
    "plt.savefig('output.png', dpi=500, bbox_inches='tight')\n",
    "\n",
    "\n"
   ]
  }
 ],
 "metadata": {
  "kernelspec": {
   "display_name": "Python 3 (ipykernel)",
   "language": "python",
   "name": "python3"
  },
  "language_info": {
   "codemirror_mode": {
    "name": "ipython",
    "version": 3
   },
   "file_extension": ".py",
   "mimetype": "text/x-python",
   "name": "python",
   "nbconvert_exporter": "python",
   "pygments_lexer": "ipython3",
   "version": "3.11.8"
  }
 },
 "nbformat": 4,
 "nbformat_minor": 5
}
